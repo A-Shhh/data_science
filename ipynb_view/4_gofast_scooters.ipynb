{
 "cells": [
  {
   "cell_type": "markdown",
   "id": "73091dfc",
   "metadata": {},
   "source": [
    "# Исследование сервиса аренды самокатов GoFast"
   ]
  },
  {
   "cell_type": "markdown",
   "id": "aed079f2",
   "metadata": {},
   "source": [
    "**Описание проекта:**  \n",
    "Проект подразумевает анализ данных для сервиса аренды самокатов **GoFast**. Основная цель проекта — исследовать данные о пользователях и их поездках для проверки гипотез, которые могут способствовать росту бизнеса. Анализ должен сосредоточиться на подсчёте выручки, сравнении поведения пользователей с подпиской и без неё, а также проверке различных гипотез, связанных с использованием сервиса.\n",
    "\n",
    "Ключевые задачи:\n",
    "\n",
    "1. **Подсчёт выручки** пользователей с подпиской и без подписки на основе данных о поездках.\n",
    "2. **Проверка гипотез** о том, больше ли времени на поездки тратят подписчики, и сравнение среднего расстояния поездок с порогом износа самокатов (3130 метров).\n",
    "3. **Оценка**, насколько выручка от подписчиков выше, чем от обычных пользователей, и как обновление серверов влияет на количество обращений в техподдержку.\n",
    "4. **Дополнительные исследования**, такие как оптимизация маркетинговых акций, чтобы повысить количество продлений подписок, а также анализ откликов на push-уведомления."
   ]
  },
  {
   "cell_type": "markdown",
   "id": "c42cbe00",
   "metadata": {},
   "source": [
    "## Загрузка данных"
   ]
  },
  {
   "cell_type": "markdown",
   "id": "8d4c98fb",
   "metadata": {},
   "source": [
    "В основных данных есть информация о пользователях, их поездках и подписках."
   ]
  },
  {
   "cell_type": "code",
   "execution_count": 1,
   "id": "5b2e4cfc",
   "metadata": {},
   "outputs": [],
   "source": [
    "import pandas as pd\n",
    "import matplotlib.pyplot as plt\n",
    "import numpy as np\n",
    "from scipy import stats as st"
   ]
  },
  {
   "cell_type": "code",
   "execution_count": 2,
   "id": "08f4d220",
   "metadata": {},
   "outputs": [],
   "source": [
    "try:\n",
    "    users_go = pd.read_csv('/datasets/users_go.csv')  # Для практикума\n",
    "    rides_go = pd.read_csv('/datasets/rides_go.csv')\n",
    "    subscriptions_go = pd.read_csv('/datasets/subscriptions_go.csv')\n",
    "except FileNotFoundError:\n",
    "    try:\n",
    "        users_go = pd.read_csv('Модуль 1 спринт 1/users_go.csv')  # Если файл локальный\n",
    "        rides_go = pd.read_csv('Модуль 1 спринт 1/rides_go.csv')\n",
    "        subscriptions_go = pd.read_csv('Модуль 1 спринт 1/subscriptions_go.csv')\n",
    "    except FileNotFoundError:\n",
    "        try:\n",
    "            users_go = pd.read_csv('/content/drive/MyDrive/Colab Notebooks/Модуль 1/Модуль 1 спринт 1/users_go.csv')  # Для Google Colab\n",
    "            rides_go = pd.read_csv('/content/drive/MyDrive/Colab Notebooks/Модуль 1/Модуль 1 спринт 1/rides_go.csv')\n",
    "            subscriptions_go = pd.read_csv('/content/drive/MyDrive/Colab Notebooks/Модуль 1/Модуль 1 спринт 1/subscriptions_go.csv')\n",
    "        except FileNotFoundError:\n",
    "            print('Файл не найден ни в одном из указанных мест.')"
   ]
  },
  {
   "cell_type": "markdown",
   "id": "b41fcea8",
   "metadata": {},
   "source": [
    "**Описание данных:**\n",
    "\n",
    "<strong><u>user_go</u></strong>\n",
    "\n",
    "* `user_id` — уникальный идентификатор пользователя\n",
    "* `name` — имя пользователя\n",
    "* `age` — возраст\n",
    "* `city` — город\n",
    "* `subscription_type` — тип подписки (free, ultra)\n",
    "\n",
    "<strong><u>rides_go</u></strong>\n",
    "\n",
    "* `user_id` —\tуникальный идентификатор пользователя\n",
    "* `distance` —\tрасстояние, которое пользователь проехал в текущей сессии (в метрах)\n",
    "* `duration` —\tпродолжительность сессии (в минутах) — время с того момента, как пользователь нажал кнопку «Начать поездку» до момента, как он нажал кнопку «Завершить поездку»\n",
    "* `date` —\tдата совершения поездки\n",
    "\n",
    "<strong><u>subscriptions_go</u></strong>\n",
    "\n",
    "* `subscription_type` —\tтип подписки\n",
    "* `minute_price` —\tстоимость одной минуты поездки по данной подписке\n",
    "* `start_ride_price` —\tстоимость начала поездки\n",
    "* `subscription_fee` —\tстоимость ежемесячного платежа"
   ]
  },
  {
   "cell_type": "markdown",
   "id": "768374cb",
   "metadata": {},
   "source": [
    "Изучим дата фреймы"
   ]
  },
  {
   "cell_type": "code",
   "execution_count": 3,
   "id": "38ef7a83",
   "metadata": {},
   "outputs": [
    {
     "name": "stdout",
     "output_type": "stream",
     "text": [
      "данные о пользователях\n"
     ]
    },
    {
     "data": {
      "text/html": [
       "<div>\n",
       "<style scoped>\n",
       "    .dataframe tbody tr th:only-of-type {\n",
       "        vertical-align: middle;\n",
       "    }\n",
       "\n",
       "    .dataframe tbody tr th {\n",
       "        vertical-align: top;\n",
       "    }\n",
       "\n",
       "    .dataframe thead th {\n",
       "        text-align: right;\n",
       "    }\n",
       "</style>\n",
       "<table border=\"1\" class=\"dataframe\">\n",
       "  <thead>\n",
       "    <tr style=\"text-align: right;\">\n",
       "      <th></th>\n",
       "      <th>user_id</th>\n",
       "      <th>name</th>\n",
       "      <th>age</th>\n",
       "      <th>city</th>\n",
       "      <th>subscription_type</th>\n",
       "    </tr>\n",
       "  </thead>\n",
       "  <tbody>\n",
       "    <tr>\n",
       "      <th>0</th>\n",
       "      <td>1</td>\n",
       "      <td>Кира</td>\n",
       "      <td>22</td>\n",
       "      <td>Тюмень</td>\n",
       "      <td>ultra</td>\n",
       "    </tr>\n",
       "    <tr>\n",
       "      <th>1</th>\n",
       "      <td>2</td>\n",
       "      <td>Станислав</td>\n",
       "      <td>31</td>\n",
       "      <td>Омск</td>\n",
       "      <td>ultra</td>\n",
       "    </tr>\n",
       "    <tr>\n",
       "      <th>2</th>\n",
       "      <td>3</td>\n",
       "      <td>Алексей</td>\n",
       "      <td>20</td>\n",
       "      <td>Москва</td>\n",
       "      <td>ultra</td>\n",
       "    </tr>\n",
       "    <tr>\n",
       "      <th>3</th>\n",
       "      <td>4</td>\n",
       "      <td>Константин</td>\n",
       "      <td>26</td>\n",
       "      <td>Ростов-на-Дону</td>\n",
       "      <td>ultra</td>\n",
       "    </tr>\n",
       "    <tr>\n",
       "      <th>4</th>\n",
       "      <td>5</td>\n",
       "      <td>Адель</td>\n",
       "      <td>28</td>\n",
       "      <td>Омск</td>\n",
       "      <td>ultra</td>\n",
       "    </tr>\n",
       "    <tr>\n",
       "      <th>5</th>\n",
       "      <td>6</td>\n",
       "      <td>Регина</td>\n",
       "      <td>25</td>\n",
       "      <td>Краснодар</td>\n",
       "      <td>ultra</td>\n",
       "    </tr>\n",
       "    <tr>\n",
       "      <th>6</th>\n",
       "      <td>7</td>\n",
       "      <td>Игорь</td>\n",
       "      <td>23</td>\n",
       "      <td>Омск</td>\n",
       "      <td>ultra</td>\n",
       "    </tr>\n",
       "    <tr>\n",
       "      <th>7</th>\n",
       "      <td>8</td>\n",
       "      <td>Юрий</td>\n",
       "      <td>23</td>\n",
       "      <td>Краснодар</td>\n",
       "      <td>ultra</td>\n",
       "    </tr>\n",
       "    <tr>\n",
       "      <th>8</th>\n",
       "      <td>9</td>\n",
       "      <td>Ян</td>\n",
       "      <td>21</td>\n",
       "      <td>Пятигорск</td>\n",
       "      <td>ultra</td>\n",
       "    </tr>\n",
       "    <tr>\n",
       "      <th>9</th>\n",
       "      <td>10</td>\n",
       "      <td>Валерий</td>\n",
       "      <td>18</td>\n",
       "      <td>Екатеринбург</td>\n",
       "      <td>ultra</td>\n",
       "    </tr>\n",
       "  </tbody>\n",
       "</table>\n",
       "</div>"
      ],
      "text/plain": [
       "   user_id        name  age            city subscription_type\n",
       "0        1        Кира   22          Тюмень             ultra\n",
       "1        2   Станислав   31            Омск             ultra\n",
       "2        3     Алексей   20          Москва             ultra\n",
       "3        4  Константин   26  Ростов-на-Дону             ultra\n",
       "4        5       Адель   28            Омск             ultra\n",
       "5        6      Регина   25       Краснодар             ultra\n",
       "6        7       Игорь   23            Омск             ultra\n",
       "7        8        Юрий   23       Краснодар             ultra\n",
       "8        9          Ян   21       Пятигорск             ultra\n",
       "9       10     Валерий   18    Екатеринбург             ultra"
      ]
     },
     "metadata": {},
     "output_type": "display_data"
    },
    {
     "data": {
      "text/html": [
       "<div>\n",
       "<style scoped>\n",
       "    .dataframe tbody tr th:only-of-type {\n",
       "        vertical-align: middle;\n",
       "    }\n",
       "\n",
       "    .dataframe tbody tr th {\n",
       "        vertical-align: top;\n",
       "    }\n",
       "\n",
       "    .dataframe thead th {\n",
       "        text-align: right;\n",
       "    }\n",
       "</style>\n",
       "<table border=\"1\" class=\"dataframe\">\n",
       "  <thead>\n",
       "    <tr style=\"text-align: right;\">\n",
       "      <th></th>\n",
       "      <th>user_id</th>\n",
       "      <th>name</th>\n",
       "      <th>age</th>\n",
       "      <th>city</th>\n",
       "      <th>subscription_type</th>\n",
       "    </tr>\n",
       "  </thead>\n",
       "  <tbody>\n",
       "    <tr>\n",
       "      <th>1555</th>\n",
       "      <td>72</td>\n",
       "      <td>Никита</td>\n",
       "      <td>25</td>\n",
       "      <td>Москва</td>\n",
       "      <td>ultra</td>\n",
       "    </tr>\n",
       "    <tr>\n",
       "      <th>1556</th>\n",
       "      <td>422</td>\n",
       "      <td>Кирилл</td>\n",
       "      <td>27</td>\n",
       "      <td>Сочи</td>\n",
       "      <td>ultra</td>\n",
       "    </tr>\n",
       "    <tr>\n",
       "      <th>1557</th>\n",
       "      <td>611</td>\n",
       "      <td>Владимир</td>\n",
       "      <td>28</td>\n",
       "      <td>Омск</td>\n",
       "      <td>ultra</td>\n",
       "    </tr>\n",
       "    <tr>\n",
       "      <th>1558</th>\n",
       "      <td>1237</td>\n",
       "      <td>Евгения</td>\n",
       "      <td>23</td>\n",
       "      <td>Тюмень</td>\n",
       "      <td>free</td>\n",
       "    </tr>\n",
       "    <tr>\n",
       "      <th>1559</th>\n",
       "      <td>209</td>\n",
       "      <td>Андрей</td>\n",
       "      <td>23</td>\n",
       "      <td>Омск</td>\n",
       "      <td>ultra</td>\n",
       "    </tr>\n",
       "    <tr>\n",
       "      <th>1560</th>\n",
       "      <td>829</td>\n",
       "      <td>Федор</td>\n",
       "      <td>29</td>\n",
       "      <td>Пятигорск</td>\n",
       "      <td>free</td>\n",
       "    </tr>\n",
       "    <tr>\n",
       "      <th>1561</th>\n",
       "      <td>809</td>\n",
       "      <td>Юрий</td>\n",
       "      <td>26</td>\n",
       "      <td>Сочи</td>\n",
       "      <td>free</td>\n",
       "    </tr>\n",
       "    <tr>\n",
       "      <th>1562</th>\n",
       "      <td>307</td>\n",
       "      <td>Ясмина</td>\n",
       "      <td>19</td>\n",
       "      <td>Краснодар</td>\n",
       "      <td>ultra</td>\n",
       "    </tr>\n",
       "    <tr>\n",
       "      <th>1563</th>\n",
       "      <td>47</td>\n",
       "      <td>Юрий</td>\n",
       "      <td>28</td>\n",
       "      <td>Тюмень</td>\n",
       "      <td>ultra</td>\n",
       "    </tr>\n",
       "    <tr>\n",
       "      <th>1564</th>\n",
       "      <td>1045</td>\n",
       "      <td>Артемий</td>\n",
       "      <td>28</td>\n",
       "      <td>Ростов-на-Дону</td>\n",
       "      <td>free</td>\n",
       "    </tr>\n",
       "  </tbody>\n",
       "</table>\n",
       "</div>"
      ],
      "text/plain": [
       "      user_id      name  age            city subscription_type\n",
       "1555       72    Никита   25          Москва             ultra\n",
       "1556      422    Кирилл   27            Сочи             ultra\n",
       "1557      611  Владимир   28            Омск             ultra\n",
       "1558     1237   Евгения   23          Тюмень              free\n",
       "1559      209    Андрей   23            Омск             ultra\n",
       "1560      829     Федор   29       Пятигорск              free\n",
       "1561      809      Юрий   26            Сочи              free\n",
       "1562      307    Ясмина   19       Краснодар             ultra\n",
       "1563       47      Юрий   28          Тюмень             ultra\n",
       "1564     1045   Артемий   28  Ростов-на-Дону              free"
      ]
     },
     "metadata": {},
     "output_type": "display_data"
    },
    {
     "name": "stdout",
     "output_type": "stream",
     "text": [
      "\n",
      "данные о поездках\n"
     ]
    },
    {
     "data": {
      "text/html": [
       "<div>\n",
       "<style scoped>\n",
       "    .dataframe tbody tr th:only-of-type {\n",
       "        vertical-align: middle;\n",
       "    }\n",
       "\n",
       "    .dataframe tbody tr th {\n",
       "        vertical-align: top;\n",
       "    }\n",
       "\n",
       "    .dataframe thead th {\n",
       "        text-align: right;\n",
       "    }\n",
       "</style>\n",
       "<table border=\"1\" class=\"dataframe\">\n",
       "  <thead>\n",
       "    <tr style=\"text-align: right;\">\n",
       "      <th></th>\n",
       "      <th>user_id</th>\n",
       "      <th>distance</th>\n",
       "      <th>duration</th>\n",
       "      <th>date</th>\n",
       "    </tr>\n",
       "  </thead>\n",
       "  <tbody>\n",
       "    <tr>\n",
       "      <th>0</th>\n",
       "      <td>1</td>\n",
       "      <td>4409.919140</td>\n",
       "      <td>25.599769</td>\n",
       "      <td>2021-01-01</td>\n",
       "    </tr>\n",
       "    <tr>\n",
       "      <th>1</th>\n",
       "      <td>1</td>\n",
       "      <td>2617.592153</td>\n",
       "      <td>15.816871</td>\n",
       "      <td>2021-01-18</td>\n",
       "    </tr>\n",
       "    <tr>\n",
       "      <th>2</th>\n",
       "      <td>1</td>\n",
       "      <td>754.159807</td>\n",
       "      <td>6.232113</td>\n",
       "      <td>2021-04-20</td>\n",
       "    </tr>\n",
       "    <tr>\n",
       "      <th>3</th>\n",
       "      <td>1</td>\n",
       "      <td>2694.783254</td>\n",
       "      <td>18.511000</td>\n",
       "      <td>2021-08-11</td>\n",
       "    </tr>\n",
       "    <tr>\n",
       "      <th>4</th>\n",
       "      <td>1</td>\n",
       "      <td>4028.687306</td>\n",
       "      <td>26.265803</td>\n",
       "      <td>2021-08-28</td>\n",
       "    </tr>\n",
       "    <tr>\n",
       "      <th>5</th>\n",
       "      <td>1</td>\n",
       "      <td>2770.890808</td>\n",
       "      <td>16.650138</td>\n",
       "      <td>2021-10-09</td>\n",
       "    </tr>\n",
       "    <tr>\n",
       "      <th>6</th>\n",
       "      <td>1</td>\n",
       "      <td>3039.020292</td>\n",
       "      <td>14.927879</td>\n",
       "      <td>2021-10-19</td>\n",
       "    </tr>\n",
       "    <tr>\n",
       "      <th>7</th>\n",
       "      <td>1</td>\n",
       "      <td>2842.118050</td>\n",
       "      <td>23.117468</td>\n",
       "      <td>2021-11-06</td>\n",
       "    </tr>\n",
       "    <tr>\n",
       "      <th>8</th>\n",
       "      <td>1</td>\n",
       "      <td>3412.690668</td>\n",
       "      <td>15.238072</td>\n",
       "      <td>2021-11-14</td>\n",
       "    </tr>\n",
       "    <tr>\n",
       "      <th>9</th>\n",
       "      <td>1</td>\n",
       "      <td>748.690645</td>\n",
       "      <td>15.041884</td>\n",
       "      <td>2021-11-22</td>\n",
       "    </tr>\n",
       "  </tbody>\n",
       "</table>\n",
       "</div>"
      ],
      "text/plain": [
       "   user_id     distance   duration        date\n",
       "0        1  4409.919140  25.599769  2021-01-01\n",
       "1        1  2617.592153  15.816871  2021-01-18\n",
       "2        1   754.159807   6.232113  2021-04-20\n",
       "3        1  2694.783254  18.511000  2021-08-11\n",
       "4        1  4028.687306  26.265803  2021-08-28\n",
       "5        1  2770.890808  16.650138  2021-10-09\n",
       "6        1  3039.020292  14.927879  2021-10-19\n",
       "7        1  2842.118050  23.117468  2021-11-06\n",
       "8        1  3412.690668  15.238072  2021-11-14\n",
       "9        1   748.690645  15.041884  2021-11-22"
      ]
     },
     "metadata": {},
     "output_type": "display_data"
    },
    {
     "data": {
      "text/html": [
       "<div>\n",
       "<style scoped>\n",
       "    .dataframe tbody tr th:only-of-type {\n",
       "        vertical-align: middle;\n",
       "    }\n",
       "\n",
       "    .dataframe tbody tr th {\n",
       "        vertical-align: top;\n",
       "    }\n",
       "\n",
       "    .dataframe thead th {\n",
       "        text-align: right;\n",
       "    }\n",
       "</style>\n",
       "<table border=\"1\" class=\"dataframe\">\n",
       "  <thead>\n",
       "    <tr style=\"text-align: right;\">\n",
       "      <th></th>\n",
       "      <th>user_id</th>\n",
       "      <th>distance</th>\n",
       "      <th>duration</th>\n",
       "      <th>date</th>\n",
       "    </tr>\n",
       "  </thead>\n",
       "  <tbody>\n",
       "    <tr>\n",
       "      <th>18058</th>\n",
       "      <td>1534</td>\n",
       "      <td>195.447469</td>\n",
       "      <td>6.469074</td>\n",
       "      <td>2021-06-11</td>\n",
       "    </tr>\n",
       "    <tr>\n",
       "      <th>18059</th>\n",
       "      <td>1534</td>\n",
       "      <td>3214.021065</td>\n",
       "      <td>18.343604</td>\n",
       "      <td>2021-06-18</td>\n",
       "    </tr>\n",
       "    <tr>\n",
       "      <th>18060</th>\n",
       "      <td>1534</td>\n",
       "      <td>3644.708038</td>\n",
       "      <td>20.289416</td>\n",
       "      <td>2021-08-08</td>\n",
       "    </tr>\n",
       "    <tr>\n",
       "      <th>18061</th>\n",
       "      <td>1534</td>\n",
       "      <td>3977.744996</td>\n",
       "      <td>26.916544</td>\n",
       "      <td>2021-08-20</td>\n",
       "    </tr>\n",
       "    <tr>\n",
       "      <th>18062</th>\n",
       "      <td>1534</td>\n",
       "      <td>4928.173852</td>\n",
       "      <td>22.560373</td>\n",
       "      <td>2021-09-13</td>\n",
       "    </tr>\n",
       "    <tr>\n",
       "      <th>18063</th>\n",
       "      <td>1534</td>\n",
       "      <td>3781.098080</td>\n",
       "      <td>19.822962</td>\n",
       "      <td>2021-11-04</td>\n",
       "    </tr>\n",
       "    <tr>\n",
       "      <th>18064</th>\n",
       "      <td>1534</td>\n",
       "      <td>2840.423057</td>\n",
       "      <td>21.409799</td>\n",
       "      <td>2021-11-16</td>\n",
       "    </tr>\n",
       "    <tr>\n",
       "      <th>18065</th>\n",
       "      <td>1534</td>\n",
       "      <td>3826.185507</td>\n",
       "      <td>18.435051</td>\n",
       "      <td>2021-11-18</td>\n",
       "    </tr>\n",
       "    <tr>\n",
       "      <th>18066</th>\n",
       "      <td>1534</td>\n",
       "      <td>2902.308661</td>\n",
       "      <td>16.674362</td>\n",
       "      <td>2021-11-27</td>\n",
       "    </tr>\n",
       "    <tr>\n",
       "      <th>18067</th>\n",
       "      <td>1534</td>\n",
       "      <td>2371.711192</td>\n",
       "      <td>15.893917</td>\n",
       "      <td>2021-12-29</td>\n",
       "    </tr>\n",
       "  </tbody>\n",
       "</table>\n",
       "</div>"
      ],
      "text/plain": [
       "       user_id     distance   duration        date\n",
       "18058     1534   195.447469   6.469074  2021-06-11\n",
       "18059     1534  3214.021065  18.343604  2021-06-18\n",
       "18060     1534  3644.708038  20.289416  2021-08-08\n",
       "18061     1534  3977.744996  26.916544  2021-08-20\n",
       "18062     1534  4928.173852  22.560373  2021-09-13\n",
       "18063     1534  3781.098080  19.822962  2021-11-04\n",
       "18064     1534  2840.423057  21.409799  2021-11-16\n",
       "18065     1534  3826.185507  18.435051  2021-11-18\n",
       "18066     1534  2902.308661  16.674362  2021-11-27\n",
       "18067     1534  2371.711192  15.893917  2021-12-29"
      ]
     },
     "metadata": {},
     "output_type": "display_data"
    },
    {
     "name": "stdout",
     "output_type": "stream",
     "text": [
      "\n",
      "данные о подписках\n"
     ]
    },
    {
     "data": {
      "text/html": [
       "<div>\n",
       "<style scoped>\n",
       "    .dataframe tbody tr th:only-of-type {\n",
       "        vertical-align: middle;\n",
       "    }\n",
       "\n",
       "    .dataframe tbody tr th {\n",
       "        vertical-align: top;\n",
       "    }\n",
       "\n",
       "    .dataframe thead th {\n",
       "        text-align: right;\n",
       "    }\n",
       "</style>\n",
       "<table border=\"1\" class=\"dataframe\">\n",
       "  <thead>\n",
       "    <tr style=\"text-align: right;\">\n",
       "      <th></th>\n",
       "      <th>subscription_type</th>\n",
       "      <th>minute_price</th>\n",
       "      <th>start_ride_price</th>\n",
       "      <th>subscription_fee</th>\n",
       "    </tr>\n",
       "  </thead>\n",
       "  <tbody>\n",
       "    <tr>\n",
       "      <th>0</th>\n",
       "      <td>free</td>\n",
       "      <td>8</td>\n",
       "      <td>50</td>\n",
       "      <td>0</td>\n",
       "    </tr>\n",
       "    <tr>\n",
       "      <th>1</th>\n",
       "      <td>ultra</td>\n",
       "      <td>6</td>\n",
       "      <td>0</td>\n",
       "      <td>199</td>\n",
       "    </tr>\n",
       "  </tbody>\n",
       "</table>\n",
       "</div>"
      ],
      "text/plain": [
       "  subscription_type  minute_price  start_ride_price  subscription_fee\n",
       "0              free             8                50                 0\n",
       "1             ultra             6                 0               199"
      ]
     },
     "execution_count": 3,
     "metadata": {},
     "output_type": "execute_result"
    }
   ],
   "source": [
    "print('данные о пользователях')\n",
    "display(users_go.head(10))\n",
    "display(users_go.tail(10))\n",
    "\n",
    "print()\n",
    "print('данные о поездках')\n",
    "display(rides_go.head(10))\n",
    "display(rides_go.tail(10))\n",
    "\n",
    "print()\n",
    "print('данные о подписках')\n",
    "subscriptions_go"
   ]
  },
  {
   "cell_type": "markdown",
   "id": "b29170cc",
   "metadata": {},
   "source": [
    "Чтобы совершать поездки по городу, пользователи сервиса GoFast пользуются мобильным приложением. \n",
    "\n",
    "Сервисом можно пользоваться:\n",
    " - **без подписки**\n",
    "    - абонентская плата отсутствует;\n",
    "    - стоимость одной минуты поездки — 8 рублей;\n",
    "    - стоимость старта (начала поездки) — 50 рублей;\n",
    "\n",
    "\n",
    " - **с подпиской Ultra**\n",
    "    - абонентская плата — 199 рублей в месяц;\n",
    "    - стоимость одной минуты поездки — 6 рублей;\n",
    "    - стоимость старта — бесплатно."
   ]
  },
  {
   "cell_type": "markdown",
   "id": "ad18ffc2",
   "metadata": {},
   "source": [
    "**Изучим структуру каждого датафрейма**"
   ]
  },
  {
   "cell_type": "code",
   "execution_count": 4,
   "id": "2fd92dff",
   "metadata": {},
   "outputs": [
    {
     "name": "stdout",
     "output_type": "stream",
     "text": [
      "<class 'pandas.core.frame.DataFrame'>\n",
      "RangeIndex: 1565 entries, 0 to 1564\n",
      "Data columns (total 5 columns):\n",
      " #   Column             Non-Null Count  Dtype \n",
      "---  ------             --------------  ----- \n",
      " 0   user_id            1565 non-null   int64 \n",
      " 1   name               1565 non-null   object\n",
      " 2   age                1565 non-null   int64 \n",
      " 3   city               1565 non-null   object\n",
      " 4   subscription_type  1565 non-null   object\n",
      "dtypes: int64(2), object(3)\n",
      "memory usage: 61.3+ KB\n"
     ]
    }
   ],
   "source": [
    "users_go.info()"
   ]
  },
  {
   "cell_type": "code",
   "execution_count": 5,
   "id": "a5700034",
   "metadata": {},
   "outputs": [
    {
     "name": "stdout",
     "output_type": "stream",
     "text": [
      "<class 'pandas.core.frame.DataFrame'>\n",
      "RangeIndex: 18068 entries, 0 to 18067\n",
      "Data columns (total 4 columns):\n",
      " #   Column    Non-Null Count  Dtype  \n",
      "---  ------    --------------  -----  \n",
      " 0   user_id   18068 non-null  int64  \n",
      " 1   distance  18068 non-null  float64\n",
      " 2   duration  18068 non-null  float64\n",
      " 3   date      18068 non-null  object \n",
      "dtypes: float64(2), int64(1), object(1)\n",
      "memory usage: 564.8+ KB\n"
     ]
    }
   ],
   "source": [
    "rides_go.info()"
   ]
  },
  {
   "cell_type": "markdown",
   "id": "ac71b3cb",
   "metadata": {},
   "source": [
    "Столбец date имеет формат object"
   ]
  },
  {
   "cell_type": "code",
   "execution_count": 6,
   "id": "5aff22d1",
   "metadata": {},
   "outputs": [
    {
     "name": "stdout",
     "output_type": "stream",
     "text": [
      "<class 'pandas.core.frame.DataFrame'>\n",
      "RangeIndex: 2 entries, 0 to 1\n",
      "Data columns (total 4 columns):\n",
      " #   Column             Non-Null Count  Dtype \n",
      "---  ------             --------------  ----- \n",
      " 0   subscription_type  2 non-null      object\n",
      " 1   minute_price       2 non-null      int64 \n",
      " 2   start_ride_price   2 non-null      int64 \n",
      " 3   subscription_fee   2 non-null      int64 \n",
      "dtypes: int64(3), object(1)\n",
      "memory usage: 196.0+ bytes\n"
     ]
    }
   ],
   "source": [
    "subscriptions_go.info()"
   ]
  },
  {
   "cell_type": "markdown",
   "id": "4f10abde",
   "metadata": {},
   "source": [
    "В датафрейме отсуствуют пропуски, это радует!"
   ]
  },
  {
   "cell_type": "markdown",
   "id": "1eda666a",
   "metadata": {},
   "source": [
    "**Построим диаграммы для дальнейшего изучения**"
   ]
  },
  {
   "cell_type": "code",
   "execution_count": 7,
   "id": "6e63914b",
   "metadata": {
    "scrolled": true
   },
   "outputs": [
    {
     "data": {
      "image/png": "[encoded data removed]",
      "text/plain": [
       "<Figure size 1000x500 with 2 Axes>"
      ]
     },
     "metadata": {},
     "output_type": "display_data"
    }
   ],
   "source": [
    "users_go.hist(figsize=(10, 5));"
   ]
  },
  {
   "cell_type": "code",
   "execution_count": 8,
   "id": "6ef4bb2c",
   "metadata": {},
   "outputs": [
    {
     "data": {
      "image/png": "[encoded data removed]",
      "text/plain": [
       "<Figure size 1500x1000 with 4 Axes>"
      ]
     },
     "metadata": {},
     "output_type": "display_data"
    }
   ],
   "source": [
    "rides_go.hist(figsize=(15, 10));"
   ]
  },
  {
   "cell_type": "markdown",
   "id": "679bfa1b",
   "metadata": {},
   "source": [
    "Данные распределены нормально! Возможны незначительные выбросы"
   ]
  },
  {
   "cell_type": "markdown",
   "id": "5bf89ede",
   "metadata": {},
   "source": [
    "Промежуточные итоги:\n",
    "\n",
    " - `user_go` имеет 5 столбцов и 1565 строк;\n",
    " - `rides_go` имеет 4 столбца и 18068 строк, количество уникальных `user_id` - 1534;\n",
    " - `subscriptions_go` имеет 4 столбца и 2 строки\n",
    " - В датафреймах не обнаружены пропуски и нет явных выбросов"
   ]
  },
  {
   "cell_type": "markdown",
   "id": "e95ebca7",
   "metadata": {},
   "source": [
    "## Предобработка данных"
   ]
  },
  {
   "cell_type": "markdown",
   "id": "6f686773",
   "metadata": {},
   "source": [
    "**Изменим формат времени в столбце `date` из датафрейма `rides_go`**"
   ]
  },
  {
   "cell_type": "code",
   "execution_count": 9,
   "id": "aa55e609",
   "metadata": {
    "scrolled": true
   },
   "outputs": [
    {
     "data": {
      "text/plain": [
       "0   2021-01-01\n",
       "1   2021-01-18\n",
       "2   2021-04-20\n",
       "3   2021-08-11\n",
       "4   2021-08-28\n",
       "Name: date, dtype: datetime64[ns]"
      ]
     },
     "execution_count": 9,
     "metadata": {},
     "output_type": "execute_result"
    }
   ],
   "source": [
    "# изменим формат времени в столбце date\n",
    "rides_go['date'] = pd.to_datetime(rides_go['date'], format='%Y-%m-%d') # 2021-11-04\n",
    "\n",
    "rides_go['date'].head()"
   ]
  },
  {
   "cell_type": "code",
   "execution_count": 10,
   "id": "5776a335",
   "metadata": {},
   "outputs": [
    {
     "name": "stdout",
     "output_type": "stream",
     "text": [
      "Диапазон в столбце date: с 2021-01-01 00:00:00 до 2021-12-30 00:00:00\n"
     ]
    }
   ],
   "source": [
    "print(f\"Диапазон в столбце date: с {rides_go['date'].min()} до {rides_go['date'].max()}\")"
   ]
  },
  {
   "cell_type": "code",
   "execution_count": 11,
   "id": "84913742",
   "metadata": {},
   "outputs": [
    {
     "data": {
      "image/png": "[encoded data removed]",
      "text/plain": [
       "<Figure size 640x480 with 1 Axes>"
      ]
     },
     "metadata": {},
     "output_type": "display_data"
    }
   ],
   "source": [
    "rides_go['date'].hist();"
   ]
  },
  {
   "cell_type": "markdown",
   "id": "15aab8c3",
   "metadata": {},
   "source": [
    "Данные распределены нормально"
   ]
  },
  {
   "cell_type": "markdown",
   "id": "317df779",
   "metadata": {},
   "source": [
    "**Проверим на наличие явных дубликатов в каждом датафрейме**"
   ]
  },
  {
   "cell_type": "code",
   "execution_count": 12,
   "id": "b2654bd5",
   "metadata": {},
   "outputs": [
    {
     "name": "stdout",
     "output_type": "stream",
     "text": [
      "Количество дубликатов в users_go:\n",
      "31\n",
      "\n",
      "Количество дубликатов в rides_go:\n",
      "0\n",
      "\n",
      "Количество дубликатов в rides_go:\n",
      "0\n",
      "\n"
     ]
    }
   ],
   "source": [
    "print(\"Количество дубликатов в users_go:\")\n",
    "print(users_go.duplicated().sum())\n",
    "print()\n",
    "\n",
    "print(\"Количество дубликатов в rides_go:\")\n",
    "print(rides_go.duplicated().sum())\n",
    "print()\n",
    "\n",
    "print(\"Количество дубликатов в rides_go:\")\n",
    "print(subscriptions_go.duplicated().sum())\n",
    "print()"
   ]
  },
  {
   "cell_type": "code",
   "execution_count": 13,
   "id": "8e84670e",
   "metadata": {},
   "outputs": [
    {
     "data": {
      "text/html": [
       "<div>\n",
       "<style scoped>\n",
       "    .dataframe tbody tr th:only-of-type {\n",
       "        vertical-align: middle;\n",
       "    }\n",
       "\n",
       "    .dataframe tbody tr th {\n",
       "        vertical-align: top;\n",
       "    }\n",
       "\n",
       "    .dataframe thead th {\n",
       "        text-align: right;\n",
       "    }\n",
       "</style>\n",
       "<table border=\"1\" class=\"dataframe\">\n",
       "  <thead>\n",
       "    <tr style=\"text-align: right;\">\n",
       "      <th></th>\n",
       "      <th>user_id</th>\n",
       "      <th>name</th>\n",
       "      <th>age</th>\n",
       "      <th>city</th>\n",
       "      <th>subscription_type</th>\n",
       "    </tr>\n",
       "  </thead>\n",
       "  <tbody>\n",
       "    <tr>\n",
       "      <th>1534</th>\n",
       "      <td>293</td>\n",
       "      <td>Агата</td>\n",
       "      <td>26</td>\n",
       "      <td>Краснодар</td>\n",
       "      <td>ultra</td>\n",
       "    </tr>\n",
       "    <tr>\n",
       "      <th>1535</th>\n",
       "      <td>16</td>\n",
       "      <td>Амалия</td>\n",
       "      <td>27</td>\n",
       "      <td>Краснодар</td>\n",
       "      <td>ultra</td>\n",
       "    </tr>\n",
       "    <tr>\n",
       "      <th>1536</th>\n",
       "      <td>909</td>\n",
       "      <td>Константин</td>\n",
       "      <td>20</td>\n",
       "      <td>Екатеринбург</td>\n",
       "      <td>free</td>\n",
       "    </tr>\n",
       "    <tr>\n",
       "      <th>1537</th>\n",
       "      <td>403</td>\n",
       "      <td>Полина</td>\n",
       "      <td>19</td>\n",
       "      <td>Сочи</td>\n",
       "      <td>ultra</td>\n",
       "    </tr>\n",
       "    <tr>\n",
       "      <th>1538</th>\n",
       "      <td>908</td>\n",
       "      <td>Рустам</td>\n",
       "      <td>30</td>\n",
       "      <td>Тюмень</td>\n",
       "      <td>free</td>\n",
       "    </tr>\n",
       "    <tr>\n",
       "      <th>1539</th>\n",
       "      <td>43</td>\n",
       "      <td>Стефания</td>\n",
       "      <td>22</td>\n",
       "      <td>Омск</td>\n",
       "      <td>ultra</td>\n",
       "    </tr>\n",
       "    <tr>\n",
       "      <th>1540</th>\n",
       "      <td>127</td>\n",
       "      <td>Павел</td>\n",
       "      <td>25</td>\n",
       "      <td>Пятигорск</td>\n",
       "      <td>ultra</td>\n",
       "    </tr>\n",
       "    <tr>\n",
       "      <th>1541</th>\n",
       "      <td>659</td>\n",
       "      <td>Злата</td>\n",
       "      <td>27</td>\n",
       "      <td>Ростов-на-Дону</td>\n",
       "      <td>ultra</td>\n",
       "    </tr>\n",
       "    <tr>\n",
       "      <th>1542</th>\n",
       "      <td>204</td>\n",
       "      <td>Руслан</td>\n",
       "      <td>30</td>\n",
       "      <td>Пятигорск</td>\n",
       "      <td>ultra</td>\n",
       "    </tr>\n",
       "    <tr>\n",
       "      <th>1543</th>\n",
       "      <td>153</td>\n",
       "      <td>Герман</td>\n",
       "      <td>23</td>\n",
       "      <td>Москва</td>\n",
       "      <td>ultra</td>\n",
       "    </tr>\n",
       "    <tr>\n",
       "      <th>1544</th>\n",
       "      <td>1245</td>\n",
       "      <td>Регина</td>\n",
       "      <td>27</td>\n",
       "      <td>Пятигорск</td>\n",
       "      <td>free</td>\n",
       "    </tr>\n",
       "    <tr>\n",
       "      <th>1545</th>\n",
       "      <td>807</td>\n",
       "      <td>Александр</td>\n",
       "      <td>28</td>\n",
       "      <td>Екатеринбург</td>\n",
       "      <td>free</td>\n",
       "    </tr>\n",
       "    <tr>\n",
       "      <th>1546</th>\n",
       "      <td>924</td>\n",
       "      <td>Мария</td>\n",
       "      <td>23</td>\n",
       "      <td>Пятигорск</td>\n",
       "      <td>free</td>\n",
       "    </tr>\n",
       "    <tr>\n",
       "      <th>1547</th>\n",
       "      <td>635</td>\n",
       "      <td>Герман</td>\n",
       "      <td>21</td>\n",
       "      <td>Москва</td>\n",
       "      <td>ultra</td>\n",
       "    </tr>\n",
       "    <tr>\n",
       "      <th>1548</th>\n",
       "      <td>136</td>\n",
       "      <td>Марсель</td>\n",
       "      <td>25</td>\n",
       "      <td>Тюмень</td>\n",
       "      <td>ultra</td>\n",
       "    </tr>\n",
       "    <tr>\n",
       "      <th>1549</th>\n",
       "      <td>108</td>\n",
       "      <td>Влада</td>\n",
       "      <td>29</td>\n",
       "      <td>Тюмень</td>\n",
       "      <td>ultra</td>\n",
       "    </tr>\n",
       "    <tr>\n",
       "      <th>1550</th>\n",
       "      <td>737</td>\n",
       "      <td>Мелания</td>\n",
       "      <td>27</td>\n",
       "      <td>Ростов-на-Дону</td>\n",
       "      <td>free</td>\n",
       "    </tr>\n",
       "    <tr>\n",
       "      <th>1551</th>\n",
       "      <td>666</td>\n",
       "      <td>Зарина</td>\n",
       "      <td>29</td>\n",
       "      <td>Москва</td>\n",
       "      <td>ultra</td>\n",
       "    </tr>\n",
       "    <tr>\n",
       "      <th>1552</th>\n",
       "      <td>297</td>\n",
       "      <td>Егор</td>\n",
       "      <td>33</td>\n",
       "      <td>Пятигорск</td>\n",
       "      <td>ultra</td>\n",
       "    </tr>\n",
       "    <tr>\n",
       "      <th>1553</th>\n",
       "      <td>121</td>\n",
       "      <td>Алина</td>\n",
       "      <td>25</td>\n",
       "      <td>Пятигорск</td>\n",
       "      <td>ultra</td>\n",
       "    </tr>\n",
       "    <tr>\n",
       "      <th>1554</th>\n",
       "      <td>1198</td>\n",
       "      <td>Демид</td>\n",
       "      <td>29</td>\n",
       "      <td>Ростов-на-Дону</td>\n",
       "      <td>free</td>\n",
       "    </tr>\n",
       "    <tr>\n",
       "      <th>1555</th>\n",
       "      <td>72</td>\n",
       "      <td>Никита</td>\n",
       "      <td>25</td>\n",
       "      <td>Москва</td>\n",
       "      <td>ultra</td>\n",
       "    </tr>\n",
       "    <tr>\n",
       "      <th>1556</th>\n",
       "      <td>422</td>\n",
       "      <td>Кирилл</td>\n",
       "      <td>27</td>\n",
       "      <td>Сочи</td>\n",
       "      <td>ultra</td>\n",
       "    </tr>\n",
       "    <tr>\n",
       "      <th>1557</th>\n",
       "      <td>611</td>\n",
       "      <td>Владимир</td>\n",
       "      <td>28</td>\n",
       "      <td>Омск</td>\n",
       "      <td>ultra</td>\n",
       "    </tr>\n",
       "    <tr>\n",
       "      <th>1558</th>\n",
       "      <td>1237</td>\n",
       "      <td>Евгения</td>\n",
       "      <td>23</td>\n",
       "      <td>Тюмень</td>\n",
       "      <td>free</td>\n",
       "    </tr>\n",
       "    <tr>\n",
       "      <th>1559</th>\n",
       "      <td>209</td>\n",
       "      <td>Андрей</td>\n",
       "      <td>23</td>\n",
       "      <td>Омск</td>\n",
       "      <td>ultra</td>\n",
       "    </tr>\n",
       "    <tr>\n",
       "      <th>1560</th>\n",
       "      <td>829</td>\n",
       "      <td>Федор</td>\n",
       "      <td>29</td>\n",
       "      <td>Пятигорск</td>\n",
       "      <td>free</td>\n",
       "    </tr>\n",
       "    <tr>\n",
       "      <th>1561</th>\n",
       "      <td>809</td>\n",
       "      <td>Юрий</td>\n",
       "      <td>26</td>\n",
       "      <td>Сочи</td>\n",
       "      <td>free</td>\n",
       "    </tr>\n",
       "    <tr>\n",
       "      <th>1562</th>\n",
       "      <td>307</td>\n",
       "      <td>Ясмина</td>\n",
       "      <td>19</td>\n",
       "      <td>Краснодар</td>\n",
       "      <td>ultra</td>\n",
       "    </tr>\n",
       "    <tr>\n",
       "      <th>1563</th>\n",
       "      <td>47</td>\n",
       "      <td>Юрий</td>\n",
       "      <td>28</td>\n",
       "      <td>Тюмень</td>\n",
       "      <td>ultra</td>\n",
       "    </tr>\n",
       "    <tr>\n",
       "      <th>1564</th>\n",
       "      <td>1045</td>\n",
       "      <td>Артемий</td>\n",
       "      <td>28</td>\n",
       "      <td>Ростов-на-Дону</td>\n",
       "      <td>free</td>\n",
       "    </tr>\n",
       "  </tbody>\n",
       "</table>\n",
       "</div>"
      ],
      "text/plain": [
       "      user_id        name  age            city subscription_type\n",
       "1534      293       Агата   26       Краснодар             ultra\n",
       "1535       16      Амалия   27       Краснодар             ultra\n",
       "1536      909  Константин   20    Екатеринбург              free\n",
       "1537      403      Полина   19            Сочи             ultra\n",
       "1538      908      Рустам   30          Тюмень              free\n",
       "1539       43    Стефания   22            Омск             ultra\n",
       "1540      127       Павел   25       Пятигорск             ultra\n",
       "1541      659       Злата   27  Ростов-на-Дону             ultra\n",
       "1542      204      Руслан   30       Пятигорск             ultra\n",
       "1543      153      Герман   23          Москва             ultra\n",
       "1544     1245      Регина   27       Пятигорск              free\n",
       "1545      807   Александр   28    Екатеринбург              free\n",
       "1546      924       Мария   23       Пятигорск              free\n",
       "1547      635      Герман   21          Москва             ultra\n",
       "1548      136     Марсель   25          Тюмень             ultra\n",
       "1549      108       Влада   29          Тюмень             ultra\n",
       "1550      737     Мелания   27  Ростов-на-Дону              free\n",
       "1551      666      Зарина   29          Москва             ultra\n",
       "1552      297        Егор   33       Пятигорск             ultra\n",
       "1553      121       Алина   25       Пятигорск             ultra\n",
       "1554     1198       Демид   29  Ростов-на-Дону              free\n",
       "1555       72      Никита   25          Москва             ultra\n",
       "1556      422      Кирилл   27            Сочи             ultra\n",
       "1557      611    Владимир   28            Омск             ultra\n",
       "1558     1237     Евгения   23          Тюмень              free\n",
       "1559      209      Андрей   23            Омск             ultra\n",
       "1560      829       Федор   29       Пятигорск              free\n",
       "1561      809        Юрий   26            Сочи              free\n",
       "1562      307      Ясмина   19       Краснодар             ultra\n",
       "1563       47        Юрий   28          Тюмень             ultra\n",
       "1564     1045     Артемий   28  Ростов-на-Дону              free"
      ]
     },
     "execution_count": 13,
     "metadata": {},
     "output_type": "execute_result"
    }
   ],
   "source": [
    "# обработаем дубликаты\n",
    "users_go[users_go.duplicated()]"
   ]
  },
  {
   "cell_type": "markdown",
   "id": "f2de5e07",
   "metadata": {},
   "source": [
    "Странно, что дубликаты расположены друг за другом в конце датафрейма"
   ]
  },
  {
   "cell_type": "code",
   "execution_count": 14,
   "id": "48ed2fdb",
   "metadata": {},
   "outputs": [
    {
     "name": "stdout",
     "output_type": "stream",
     "text": [
      "<class 'pandas.core.frame.DataFrame'>\n",
      "RangeIndex: 1534 entries, 0 to 1533\n",
      "Data columns (total 5 columns):\n",
      " #   Column             Non-Null Count  Dtype \n",
      "---  ------             --------------  ----- \n",
      " 0   user_id            1534 non-null   int64 \n",
      " 1   name               1534 non-null   object\n",
      " 2   age                1534 non-null   int64 \n",
      " 3   city               1534 non-null   object\n",
      " 4   subscription_type  1534 non-null   object\n",
      "dtypes: int64(2), object(3)\n",
      "memory usage: 60.1+ KB\n"
     ]
    }
   ],
   "source": [
    "users_go = users_go.drop_duplicates().reset_index(drop=True)\n",
    "\n",
    "users_go.info()"
   ]
  },
  {
   "cell_type": "code",
   "execution_count": 15,
   "id": "1d8360e4",
   "metadata": {},
   "outputs": [
    {
     "name": "stdout",
     "output_type": "stream",
     "text": [
      "Количество уникальных пользователей: от  1 до  1534\n"
     ]
    }
   ],
   "source": [
    "print('Количество уникальных пользователей: от ', users_go['user_id'].min(),'до ', users_go['user_id'].max())"
   ]
  },
  {
   "cell_type": "markdown",
   "id": "1634ae3b",
   "metadata": {},
   "source": [
    "Количество столбцов уменьшилось, и в результате количество уникальных `user_id` в двух датафреймах — `user_go` и `rides_go` — совпало"
   ]
  },
  {
   "cell_type": "markdown",
   "id": "4d3fce9d",
   "metadata": {},
   "source": [
    "**Создайте новый столбец с номером месяца на основе столбца `date`**"
   ]
  },
  {
   "cell_type": "code",
   "execution_count": 16,
   "id": "bf733c1a",
   "metadata": {},
   "outputs": [
    {
     "name": "stdout",
     "output_type": "stream",
     "text": [
      "Диапазон в столбце date: с 2021-01-01 00:00:00 до 2021-12-30 00:00:00\n"
     ]
    }
   ],
   "source": [
    "print(f\"Диапазон в столбце date: с {rides_go['date'].min()} до {rides_go['date'].max()}\")\n",
    "\n",
    "rides_go['month'] = rides_go['date'].dt.month"
   ]
  },
  {
   "cell_type": "code",
   "execution_count": 17,
   "id": "f364966f",
   "metadata": {},
   "outputs": [
    {
     "data": {
      "text/html": [
       "<div>\n",
       "<style scoped>\n",
       "    .dataframe tbody tr th:only-of-type {\n",
       "        vertical-align: middle;\n",
       "    }\n",
       "\n",
       "    .dataframe tbody tr th {\n",
       "        vertical-align: top;\n",
       "    }\n",
       "\n",
       "    .dataframe thead th {\n",
       "        text-align: right;\n",
       "    }\n",
       "</style>\n",
       "<table border=\"1\" class=\"dataframe\">\n",
       "  <thead>\n",
       "    <tr style=\"text-align: right;\">\n",
       "      <th></th>\n",
       "      <th>date</th>\n",
       "      <th>month</th>\n",
       "    </tr>\n",
       "  </thead>\n",
       "  <tbody>\n",
       "    <tr>\n",
       "      <th>0</th>\n",
       "      <td>2021-01-01</td>\n",
       "      <td>1</td>\n",
       "    </tr>\n",
       "    <tr>\n",
       "      <th>1</th>\n",
       "      <td>2021-01-18</td>\n",
       "      <td>1</td>\n",
       "    </tr>\n",
       "    <tr>\n",
       "      <th>2</th>\n",
       "      <td>2021-04-20</td>\n",
       "      <td>4</td>\n",
       "    </tr>\n",
       "    <tr>\n",
       "      <th>3</th>\n",
       "      <td>2021-08-11</td>\n",
       "      <td>8</td>\n",
       "    </tr>\n",
       "    <tr>\n",
       "      <th>4</th>\n",
       "      <td>2021-08-28</td>\n",
       "      <td>8</td>\n",
       "    </tr>\n",
       "    <tr>\n",
       "      <th>5</th>\n",
       "      <td>2021-10-09</td>\n",
       "      <td>10</td>\n",
       "    </tr>\n",
       "    <tr>\n",
       "      <th>6</th>\n",
       "      <td>2021-10-19</td>\n",
       "      <td>10</td>\n",
       "    </tr>\n",
       "    <tr>\n",
       "      <th>7</th>\n",
       "      <td>2021-11-06</td>\n",
       "      <td>11</td>\n",
       "    </tr>\n",
       "    <tr>\n",
       "      <th>8</th>\n",
       "      <td>2021-11-14</td>\n",
       "      <td>11</td>\n",
       "    </tr>\n",
       "    <tr>\n",
       "      <th>9</th>\n",
       "      <td>2021-11-22</td>\n",
       "      <td>11</td>\n",
       "    </tr>\n",
       "  </tbody>\n",
       "</table>\n",
       "</div>"
      ],
      "text/plain": [
       "        date  month\n",
       "0 2021-01-01      1\n",
       "1 2021-01-18      1\n",
       "2 2021-04-20      4\n",
       "3 2021-08-11      8\n",
       "4 2021-08-28      8\n",
       "5 2021-10-09     10\n",
       "6 2021-10-19     10\n",
       "7 2021-11-06     11\n",
       "8 2021-11-14     11\n",
       "9 2021-11-22     11"
      ]
     },
     "metadata": {},
     "output_type": "display_data"
    }
   ],
   "source": [
    "# Выведем результат добавления на экран\n",
    "display(rides_go[['date', 'month']].head(10))"
   ]
  },
  {
   "cell_type": "markdown",
   "id": "92afc8e6",
   "metadata": {},
   "source": [
    "Промежуточные итоги:\n",
    "\n",
    " - `user_go` обработаны дубликаты;\n",
    " - `rides_go` в столбце `date` изменен формат времени на datetime и добавлен новый столбец `mounth`;"
   ]
  },
  {
   "cell_type": "markdown",
   "id": "212593c7",
   "metadata": {},
   "source": [
    "## Исследовательский анализ данных"
   ]
  },
  {
   "cell_type": "markdown",
   "id": "8cc7651d",
   "metadata": {},
   "source": [
    "**Частота встречаемости городов**"
   ]
  },
  {
   "cell_type": "code",
   "execution_count": 18,
   "id": "e3a4274c",
   "metadata": {},
   "outputs": [
    {
     "data": {
      "text/plain": [
       "city\n",
       "Пятигорск         219\n",
       "Екатеринбург      204\n",
       "Ростов-на-Дону    198\n",
       "Краснодар         193\n",
       "Сочи              189\n",
       "Омск              183\n",
       "Тюмень            180\n",
       "Москва            168\n",
       "Name: count, dtype: int64"
      ]
     },
     "execution_count": 18,
     "metadata": {},
     "output_type": "execute_result"
    }
   ],
   "source": [
    "# Частоту встречаемости городов найдем методом values_count()\n",
    "users_go['city'].value_counts()"
   ]
  },
  {
   "cell_type": "code",
   "execution_count": 19,
   "id": "8f02c3e4",
   "metadata": {},
   "outputs": [
    {
     "data": {
      "image/png": "[encoded data removed]",
      "text/plain": [
       "<Figure size 1500x800 with 1 Axes>"
      ]
     },
     "metadata": {},
     "output_type": "display_data"
    }
   ],
   "source": [
    "# Визуализируем частоту встречаемости городов\n",
    "users_go['city'].value_counts().plot(\n",
    "    kind='bar',\n",
    "    figsize=(15, 8),\n",
    "    grid=True\n",
    ")\n",
    "\n",
    "# Задание названия графика\n",
    "plt.title('Частоту встречаемости городов')\n",
    "plt.xlabel('Города')\n",
    "plt.ylabel('Частота')\n",
    "\n",
    "# Показать график\n",
    "plt.show()"
   ]
  },
  {
   "cell_type": "markdown",
   "id": "243d7059",
   "metadata": {},
   "source": [
    "Наиболее часто встречающийся город — Пятигорск, тогда как меньше всего \"самокатчиков\" наблюдается в Москве. Эти данные могут помочь бизнесу в принятии решений о том, на какие города стоит обратить внимание в зависимости от стратегии — либо сосредоточиться на удержании пользователей, либо на увеличении их количества в отдельных локациях."
   ]
  },
  {
   "cell_type": "markdown",
   "id": "7785898e",
   "metadata": {},
   "source": [
    "**Соотношение пользователей с подпиской и без подписки**"
   ]
  },
  {
   "cell_type": "code",
   "execution_count": 20,
   "id": "e1fea12e",
   "metadata": {},
   "outputs": [
    {
     "data": {
      "image/png": "[encoded data removed]",
      "text/plain": [
       "<Figure size 1000x800 with 1 Axes>"
      ]
     },
     "metadata": {},
     "output_type": "display_data"
    }
   ],
   "source": [
    "# частоту встречаемости типов подписки найдем методом value_counts()\n",
    "users_go['subscription_type'].value_counts().plot(\n",
    "    kind='pie',\n",
    "    figsize=(10, 8),\n",
    "    colors = ['pink', '#98FB98'],\n",
    "    autopct=lambda pct: f'{pct:.1f}% ({int(pct/100.*sum(users_go[\"subscription_type\"].value_counts()))})'\n",
    ")\n",
    "\n",
    "# Задание названия графика\n",
    "plt.title('Пользователи с подпиской и без подписки')\n",
    "plt.ylabel('')\n",
    "\n",
    "# Показать график\n",
    "plt.show()"
   ]
  },
  {
   "cell_type": "markdown",
   "id": "fc957322",
   "metadata": {},
   "source": [
    "Получилась стильная, а главное информативная инфографика.\n",
    "Количество пользователей с подпиской `free` больше на `8,8%`. Количество пользоватлей без подпискик 835, с 699"
   ]
  },
  {
   "cell_type": "markdown",
   "id": "4519b8fa",
   "metadata": {},
   "source": [
    "**Возраст пользователей**"
   ]
  },
  {
   "cell_type": "code",
   "execution_count": 21,
   "id": "c3759f08",
   "metadata": {},
   "outputs": [
    {
     "data": {
      "image/png": "[encoded data removed]",
      "text/plain": [
       "<Figure size 1500x800 with 1 Axes>"
      ]
     },
     "metadata": {},
     "output_type": "display_data"
    },
    {
     "data": {
      "text/plain": [
       "count    1534.000000\n",
       "mean       24.903520\n",
       "std         4.572367\n",
       "min        12.000000\n",
       "25%        22.000000\n",
       "50%        25.000000\n",
       "75%        28.000000\n",
       "max        43.000000\n",
       "Name: age, dtype: float64"
      ]
     },
     "execution_count": 21,
     "metadata": {},
     "output_type": "execute_result"
    }
   ],
   "source": [
    "# Используем метод value_counts()\n",
    "\n",
    "users_go['age'].plot(\n",
    "    kind='hist',\n",
    "    figsize=(15, 8),\n",
    "    grid=True\n",
    ")\n",
    "\n",
    "# Задание названия графика\n",
    "plt.title('Возраст пользователей')\n",
    "plt.xlabel('Возраст')\n",
    "plt.ylabel('Частота')\n",
    "\n",
    "# Показать график\n",
    "plt.show()\n",
    "\n",
    "users_go['age'].describe()"
   ]
  },
  {
   "cell_type": "markdown",
   "id": "40d3f43a",
   "metadata": {},
   "source": [
    "Возраст пользователей варьируется от 12 до 43 лет, при этом наиболее популярная возрастная группа — 25 лет. Целевой аудиторию можно считать пользователей от ~18, до 32."
   ]
  },
  {
   "cell_type": "markdown",
   "id": "1f15b0b2",
   "metadata": {},
   "source": [
    "**Расстояние, которое пользователь преодолел за одну поездку**"
   ]
  },
  {
   "cell_type": "code",
   "execution_count": 22,
   "id": "4f36b5bc",
   "metadata": {},
   "outputs": [
    {
     "data": {
      "image/png": "[encoded data removed]",
      "text/plain": [
       "<Figure size 1500x800 with 1 Axes>"
      ]
     },
     "metadata": {},
     "output_type": "display_data"
    },
    {
     "data": {
      "text/plain": [
       "count    18068.000000\n",
       "mean      3070.659976\n",
       "std       1116.831209\n",
       "min          0.855683\n",
       "25%       2543.226360\n",
       "50%       3133.609994\n",
       "75%       3776.222735\n",
       "max       7211.007745\n",
       "Name: distance, dtype: float64"
      ]
     },
     "execution_count": 22,
     "metadata": {},
     "output_type": "execute_result"
    }
   ],
   "source": [
    "rides_go['distance'].plot(\n",
    "    kind = 'hist',\n",
    "    bins=50,\n",
    "    figsize=(15, 8),\n",
    "    grid=True\n",
    ")\n",
    "\n",
    "plt.title('Расстояние за одну поездку')\n",
    "plt.xlabel('Метры')\n",
    "plt.ylabel('Частота')\n",
    "\n",
    "# Показать график\n",
    "plt.show()\n",
    "\n",
    "rides_go['distance'].describe()"
   ]
  },
  {
   "cell_type": "markdown",
   "id": "f6554b8f",
   "metadata": {},
   "source": [
    "Данные распределены нормально, с двумя пиками: от ~1 до ~1500 метров и от ~1500 до 7211 метров. Мода этих пиков составляет примерно 750 метров и 3200 метров."
   ]
  },
  {
   "cell_type": "markdown",
   "id": "eff8a5eb",
   "metadata": {},
   "source": [
    "**Продолжительность поездок**"
   ]
  },
  {
   "cell_type": "code",
   "execution_count": 23,
   "id": "15098dc9",
   "metadata": {},
   "outputs": [
    {
     "data": {
      "image/png": "[encoded data removed]",
      "text/plain": [
       "<Figure size 1500x800 with 1 Axes>"
      ]
     },
     "metadata": {},
     "output_type": "display_data"
    },
    {
     "data": {
      "text/plain": [
       "count    18068.000000\n",
       "mean        17.805011\n",
       "std          6.091051\n",
       "min          0.500000\n",
       "25%         13.597563\n",
       "50%         17.678395\n",
       "75%         21.724800\n",
       "max         40.823963\n",
       "Name: duration, dtype: float64"
      ]
     },
     "execution_count": 23,
     "metadata": {},
     "output_type": "execute_result"
    }
   ],
   "source": [
    "rides_go['duration'].plot(\n",
    "    kind = 'hist',\n",
    "    bins=50,\n",
    "    figsize=(15, 8),\n",
    "    grid=True\n",
    ")\n",
    "\n",
    "plt.title('Продолжительность поездки')\n",
    "plt.xlabel('Минуты')\n",
    "plt.ylabel('Частота')\n",
    "\n",
    "# Показать график\n",
    "plt.show()\n",
    "\n",
    "rides_go['duration'].describe()"
   ]
  },
  {
   "cell_type": "markdown",
   "id": "57cec4d9",
   "metadata": {},
   "source": [
    "Данные распределены нормально, значения варьируются от 0,5 до ~41 минуты. Поездки длиной в 30 секунд могут быть осмысленными, например, как проверки самоката."
   ]
  },
  {
   "cell_type": "markdown",
   "id": "8dcb3767",
   "metadata": {},
   "source": [
    "**Промежуточный итог по данным сервиса:**"
   ]
  },
  {
   "cell_type": "markdown",
   "id": "7755a7c8",
   "metadata": {},
   "source": [
    "- В Пятигорске наибольшее количество пользователей — 219;\n",
    "- Пользователей с подпиской **free** на 8,8% больше: без подписки — 835 человек, с подпиской — 699;\n",
    "- Наиболее популярная возрастная группа — 25 лет;\n",
    "- За одну поездку пользователи преодолевают расстояния от 1 до 7211 метров. Мода пиков — примерно 750 и 3200 метров;\n",
    "- Продолжительность поездок варьируется от 0,5 до 41 минуты"
   ]
  },
  {
   "cell_type": "markdown",
   "id": "4ef51331",
   "metadata": {},
   "source": [
    "## Объединение данных"
   ]
  },
  {
   "cell_type": "markdown",
   "id": "fa73d08a",
   "metadata": {},
   "source": [
    "**Объедините данные о пользователях, поездках и подписках в один датафрейм**"
   ]
  },
  {
   "cell_type": "code",
   "execution_count": 24,
   "id": "668ba5e7",
   "metadata": {},
   "outputs": [
    {
     "name": "stdout",
     "output_type": "stream",
     "text": [
      "Размер датафрейма users_go: 1534 строки, 5 столбцов\n",
      "Размер датафрейма rides_go: 18068 строки, 5 столбцов\n",
      "Размер датафрейма subscriptions_go: 2 строки, 4 столбцов\n"
     ]
    }
   ],
   "source": [
    "# Проверим размеры датафреймов\n",
    "print(f'Размер датафрейма users_go: {users_go.shape[0]} строки, {users_go.shape[1]} столбцов')\n",
    "print(f'Размер датафрейма rides_go: {rides_go.shape[0]} строки, {rides_go.shape[1]} столбцов')\n",
    "print(f'Размер датафрейма subscriptions_go: {subscriptions_go.shape[0]} строки, {subscriptions_go.shape[1]} столбцов')"
   ]
  },
  {
   "cell_type": "markdown",
   "id": "40b408a9",
   "metadata": {},
   "source": [
    "Сначала объединим два датафрейма `user_go` и `rides_go` с помощью метода `merge()` по столбцу `user_id`, а затем добавим датафрейм `subscriptions_go`, объединив его по столбцу `subscription_type`"
   ]
  },
  {
   "cell_type": "code",
   "execution_count": 25,
   "id": "e0bba29a",
   "metadata": {},
   "outputs": [
    {
     "data": {
      "text/html": [
       "<div>\n",
       "<style scoped>\n",
       "    .dataframe tbody tr th:only-of-type {\n",
       "        vertical-align: middle;\n",
       "    }\n",
       "\n",
       "    .dataframe tbody tr th {\n",
       "        vertical-align: top;\n",
       "    }\n",
       "\n",
       "    .dataframe thead th {\n",
       "        text-align: right;\n",
       "    }\n",
       "</style>\n",
       "<table border=\"1\" class=\"dataframe\">\n",
       "  <thead>\n",
       "    <tr style=\"text-align: right;\">\n",
       "      <th></th>\n",
       "      <th>user_id</th>\n",
       "      <th>name</th>\n",
       "      <th>age</th>\n",
       "      <th>city</th>\n",
       "      <th>subscription_type</th>\n",
       "      <th>distance</th>\n",
       "      <th>duration</th>\n",
       "      <th>date</th>\n",
       "      <th>month</th>\n",
       "      <th>minute_price</th>\n",
       "      <th>start_ride_price</th>\n",
       "      <th>subscription_fee</th>\n",
       "    </tr>\n",
       "  </thead>\n",
       "  <tbody>\n",
       "    <tr>\n",
       "      <th>0</th>\n",
       "      <td>1</td>\n",
       "      <td>Кира</td>\n",
       "      <td>22</td>\n",
       "      <td>Тюмень</td>\n",
       "      <td>ultra</td>\n",
       "      <td>4409.919140</td>\n",
       "      <td>25.599769</td>\n",
       "      <td>2021-01-01</td>\n",
       "      <td>1</td>\n",
       "      <td>6</td>\n",
       "      <td>0</td>\n",
       "      <td>199</td>\n",
       "    </tr>\n",
       "    <tr>\n",
       "      <th>1</th>\n",
       "      <td>1</td>\n",
       "      <td>Кира</td>\n",
       "      <td>22</td>\n",
       "      <td>Тюмень</td>\n",
       "      <td>ultra</td>\n",
       "      <td>2617.592153</td>\n",
       "      <td>15.816871</td>\n",
       "      <td>2021-01-18</td>\n",
       "      <td>1</td>\n",
       "      <td>6</td>\n",
       "      <td>0</td>\n",
       "      <td>199</td>\n",
       "    </tr>\n",
       "    <tr>\n",
       "      <th>2</th>\n",
       "      <td>1</td>\n",
       "      <td>Кира</td>\n",
       "      <td>22</td>\n",
       "      <td>Тюмень</td>\n",
       "      <td>ultra</td>\n",
       "      <td>754.159807</td>\n",
       "      <td>6.232113</td>\n",
       "      <td>2021-04-20</td>\n",
       "      <td>4</td>\n",
       "      <td>6</td>\n",
       "      <td>0</td>\n",
       "      <td>199</td>\n",
       "    </tr>\n",
       "    <tr>\n",
       "      <th>3</th>\n",
       "      <td>1</td>\n",
       "      <td>Кира</td>\n",
       "      <td>22</td>\n",
       "      <td>Тюмень</td>\n",
       "      <td>ultra</td>\n",
       "      <td>2694.783254</td>\n",
       "      <td>18.511000</td>\n",
       "      <td>2021-08-11</td>\n",
       "      <td>8</td>\n",
       "      <td>6</td>\n",
       "      <td>0</td>\n",
       "      <td>199</td>\n",
       "    </tr>\n",
       "    <tr>\n",
       "      <th>4</th>\n",
       "      <td>1</td>\n",
       "      <td>Кира</td>\n",
       "      <td>22</td>\n",
       "      <td>Тюмень</td>\n",
       "      <td>ultra</td>\n",
       "      <td>4028.687306</td>\n",
       "      <td>26.265803</td>\n",
       "      <td>2021-08-28</td>\n",
       "      <td>8</td>\n",
       "      <td>6</td>\n",
       "      <td>0</td>\n",
       "      <td>199</td>\n",
       "    </tr>\n",
       "    <tr>\n",
       "      <th>5</th>\n",
       "      <td>1</td>\n",
       "      <td>Кира</td>\n",
       "      <td>22</td>\n",
       "      <td>Тюмень</td>\n",
       "      <td>ultra</td>\n",
       "      <td>2770.890808</td>\n",
       "      <td>16.650138</td>\n",
       "      <td>2021-10-09</td>\n",
       "      <td>10</td>\n",
       "      <td>6</td>\n",
       "      <td>0</td>\n",
       "      <td>199</td>\n",
       "    </tr>\n",
       "    <tr>\n",
       "      <th>6</th>\n",
       "      <td>1</td>\n",
       "      <td>Кира</td>\n",
       "      <td>22</td>\n",
       "      <td>Тюмень</td>\n",
       "      <td>ultra</td>\n",
       "      <td>3039.020292</td>\n",
       "      <td>14.927879</td>\n",
       "      <td>2021-10-19</td>\n",
       "      <td>10</td>\n",
       "      <td>6</td>\n",
       "      <td>0</td>\n",
       "      <td>199</td>\n",
       "    </tr>\n",
       "    <tr>\n",
       "      <th>7</th>\n",
       "      <td>1</td>\n",
       "      <td>Кира</td>\n",
       "      <td>22</td>\n",
       "      <td>Тюмень</td>\n",
       "      <td>ultra</td>\n",
       "      <td>2842.118050</td>\n",
       "      <td>23.117468</td>\n",
       "      <td>2021-11-06</td>\n",
       "      <td>11</td>\n",
       "      <td>6</td>\n",
       "      <td>0</td>\n",
       "      <td>199</td>\n",
       "    </tr>\n",
       "    <tr>\n",
       "      <th>8</th>\n",
       "      <td>1</td>\n",
       "      <td>Кира</td>\n",
       "      <td>22</td>\n",
       "      <td>Тюмень</td>\n",
       "      <td>ultra</td>\n",
       "      <td>3412.690668</td>\n",
       "      <td>15.238072</td>\n",
       "      <td>2021-11-14</td>\n",
       "      <td>11</td>\n",
       "      <td>6</td>\n",
       "      <td>0</td>\n",
       "      <td>199</td>\n",
       "    </tr>\n",
       "    <tr>\n",
       "      <th>9</th>\n",
       "      <td>1</td>\n",
       "      <td>Кира</td>\n",
       "      <td>22</td>\n",
       "      <td>Тюмень</td>\n",
       "      <td>ultra</td>\n",
       "      <td>748.690645</td>\n",
       "      <td>15.041884</td>\n",
       "      <td>2021-11-22</td>\n",
       "      <td>11</td>\n",
       "      <td>6</td>\n",
       "      <td>0</td>\n",
       "      <td>199</td>\n",
       "    </tr>\n",
       "  </tbody>\n",
       "</table>\n",
       "</div>"
      ],
      "text/plain": [
       "   user_id  name  age    city subscription_type     distance   duration  \\\n",
       "0        1  Кира   22  Тюмень             ultra  4409.919140  25.599769   \n",
       "1        1  Кира   22  Тюмень             ultra  2617.592153  15.816871   \n",
       "2        1  Кира   22  Тюмень             ultra   754.159807   6.232113   \n",
       "3        1  Кира   22  Тюмень             ultra  2694.783254  18.511000   \n",
       "4        1  Кира   22  Тюмень             ultra  4028.687306  26.265803   \n",
       "5        1  Кира   22  Тюмень             ultra  2770.890808  16.650138   \n",
       "6        1  Кира   22  Тюмень             ultra  3039.020292  14.927879   \n",
       "7        1  Кира   22  Тюмень             ultra  2842.118050  23.117468   \n",
       "8        1  Кира   22  Тюмень             ultra  3412.690668  15.238072   \n",
       "9        1  Кира   22  Тюмень             ultra   748.690645  15.041884   \n",
       "\n",
       "        date  month  minute_price  start_ride_price  subscription_fee  \n",
       "0 2021-01-01      1             6                 0               199  \n",
       "1 2021-01-18      1             6                 0               199  \n",
       "2 2021-04-20      4             6                 0               199  \n",
       "3 2021-08-11      8             6                 0               199  \n",
       "4 2021-08-28      8             6                 0               199  \n",
       "5 2021-10-09     10             6                 0               199  \n",
       "6 2021-10-19     10             6                 0               199  \n",
       "7 2021-11-06     11             6                 0               199  \n",
       "8 2021-11-14     11             6                 0               199  \n",
       "9 2021-11-22     11             6                 0               199  "
      ]
     },
     "metadata": {},
     "output_type": "display_data"
    },
    {
     "data": {
      "text/html": [
       "<div>\n",
       "<style scoped>\n",
       "    .dataframe tbody tr th:only-of-type {\n",
       "        vertical-align: middle;\n",
       "    }\n",
       "\n",
       "    .dataframe tbody tr th {\n",
       "        vertical-align: top;\n",
       "    }\n",
       "\n",
       "    .dataframe thead th {\n",
       "        text-align: right;\n",
       "    }\n",
       "</style>\n",
       "<table border=\"1\" class=\"dataframe\">\n",
       "  <thead>\n",
       "    <tr style=\"text-align: right;\">\n",
       "      <th></th>\n",
       "      <th>user_id</th>\n",
       "      <th>name</th>\n",
       "      <th>age</th>\n",
       "      <th>city</th>\n",
       "      <th>subscription_type</th>\n",
       "      <th>distance</th>\n",
       "      <th>duration</th>\n",
       "      <th>date</th>\n",
       "      <th>month</th>\n",
       "      <th>minute_price</th>\n",
       "      <th>start_ride_price</th>\n",
       "      <th>subscription_fee</th>\n",
       "    </tr>\n",
       "  </thead>\n",
       "  <tbody>\n",
       "    <tr>\n",
       "      <th>18058</th>\n",
       "      <td>1534</td>\n",
       "      <td>Альберт</td>\n",
       "      <td>25</td>\n",
       "      <td>Краснодар</td>\n",
       "      <td>free</td>\n",
       "      <td>195.447469</td>\n",
       "      <td>6.469074</td>\n",
       "      <td>2021-06-11</td>\n",
       "      <td>6</td>\n",
       "      <td>8</td>\n",
       "      <td>50</td>\n",
       "      <td>0</td>\n",
       "    </tr>\n",
       "    <tr>\n",
       "      <th>18059</th>\n",
       "      <td>1534</td>\n",
       "      <td>Альберт</td>\n",
       "      <td>25</td>\n",
       "      <td>Краснодар</td>\n",
       "      <td>free</td>\n",
       "      <td>3214.021065</td>\n",
       "      <td>18.343604</td>\n",
       "      <td>2021-06-18</td>\n",
       "      <td>6</td>\n",
       "      <td>8</td>\n",
       "      <td>50</td>\n",
       "      <td>0</td>\n",
       "    </tr>\n",
       "    <tr>\n",
       "      <th>18060</th>\n",
       "      <td>1534</td>\n",
       "      <td>Альберт</td>\n",
       "      <td>25</td>\n",
       "      <td>Краснодар</td>\n",
       "      <td>free</td>\n",
       "      <td>3644.708038</td>\n",
       "      <td>20.289416</td>\n",
       "      <td>2021-08-08</td>\n",
       "      <td>8</td>\n",
       "      <td>8</td>\n",
       "      <td>50</td>\n",
       "      <td>0</td>\n",
       "    </tr>\n",
       "    <tr>\n",
       "      <th>18061</th>\n",
       "      <td>1534</td>\n",
       "      <td>Альберт</td>\n",
       "      <td>25</td>\n",
       "      <td>Краснодар</td>\n",
       "      <td>free</td>\n",
       "      <td>3977.744996</td>\n",
       "      <td>26.916544</td>\n",
       "      <td>2021-08-20</td>\n",
       "      <td>8</td>\n",
       "      <td>8</td>\n",
       "      <td>50</td>\n",
       "      <td>0</td>\n",
       "    </tr>\n",
       "    <tr>\n",
       "      <th>18062</th>\n",
       "      <td>1534</td>\n",
       "      <td>Альберт</td>\n",
       "      <td>25</td>\n",
       "      <td>Краснодар</td>\n",
       "      <td>free</td>\n",
       "      <td>4928.173852</td>\n",
       "      <td>22.560373</td>\n",
       "      <td>2021-09-13</td>\n",
       "      <td>9</td>\n",
       "      <td>8</td>\n",
       "      <td>50</td>\n",
       "      <td>0</td>\n",
       "    </tr>\n",
       "    <tr>\n",
       "      <th>18063</th>\n",
       "      <td>1534</td>\n",
       "      <td>Альберт</td>\n",
       "      <td>25</td>\n",
       "      <td>Краснодар</td>\n",
       "      <td>free</td>\n",
       "      <td>3781.098080</td>\n",
       "      <td>19.822962</td>\n",
       "      <td>2021-11-04</td>\n",
       "      <td>11</td>\n",
       "      <td>8</td>\n",
       "      <td>50</td>\n",
       "      <td>0</td>\n",
       "    </tr>\n",
       "    <tr>\n",
       "      <th>18064</th>\n",
       "      <td>1534</td>\n",
       "      <td>Альберт</td>\n",
       "      <td>25</td>\n",
       "      <td>Краснодар</td>\n",
       "      <td>free</td>\n",
       "      <td>2840.423057</td>\n",
       "      <td>21.409799</td>\n",
       "      <td>2021-11-16</td>\n",
       "      <td>11</td>\n",
       "      <td>8</td>\n",
       "      <td>50</td>\n",
       "      <td>0</td>\n",
       "    </tr>\n",
       "    <tr>\n",
       "      <th>18065</th>\n",
       "      <td>1534</td>\n",
       "      <td>Альберт</td>\n",
       "      <td>25</td>\n",
       "      <td>Краснодар</td>\n",
       "      <td>free</td>\n",
       "      <td>3826.185507</td>\n",
       "      <td>18.435051</td>\n",
       "      <td>2021-11-18</td>\n",
       "      <td>11</td>\n",
       "      <td>8</td>\n",
       "      <td>50</td>\n",
       "      <td>0</td>\n",
       "    </tr>\n",
       "    <tr>\n",
       "      <th>18066</th>\n",
       "      <td>1534</td>\n",
       "      <td>Альберт</td>\n",
       "      <td>25</td>\n",
       "      <td>Краснодар</td>\n",
       "      <td>free</td>\n",
       "      <td>2902.308661</td>\n",
       "      <td>16.674362</td>\n",
       "      <td>2021-11-27</td>\n",
       "      <td>11</td>\n",
       "      <td>8</td>\n",
       "      <td>50</td>\n",
       "      <td>0</td>\n",
       "    </tr>\n",
       "    <tr>\n",
       "      <th>18067</th>\n",
       "      <td>1534</td>\n",
       "      <td>Альберт</td>\n",
       "      <td>25</td>\n",
       "      <td>Краснодар</td>\n",
       "      <td>free</td>\n",
       "      <td>2371.711192</td>\n",
       "      <td>15.893917</td>\n",
       "      <td>2021-12-29</td>\n",
       "      <td>12</td>\n",
       "      <td>8</td>\n",
       "      <td>50</td>\n",
       "      <td>0</td>\n",
       "    </tr>\n",
       "  </tbody>\n",
       "</table>\n",
       "</div>"
      ],
      "text/plain": [
       "       user_id     name  age       city subscription_type     distance  \\\n",
       "18058     1534  Альберт   25  Краснодар              free   195.447469   \n",
       "18059     1534  Альберт   25  Краснодар              free  3214.021065   \n",
       "18060     1534  Альберт   25  Краснодар              free  3644.708038   \n",
       "18061     1534  Альберт   25  Краснодар              free  3977.744996   \n",
       "18062     1534  Альберт   25  Краснодар              free  4928.173852   \n",
       "18063     1534  Альберт   25  Краснодар              free  3781.098080   \n",
       "18064     1534  Альберт   25  Краснодар              free  2840.423057   \n",
       "18065     1534  Альберт   25  Краснодар              free  3826.185507   \n",
       "18066     1534  Альберт   25  Краснодар              free  2902.308661   \n",
       "18067     1534  Альберт   25  Краснодар              free  2371.711192   \n",
       "\n",
       "        duration       date  month  minute_price  start_ride_price  \\\n",
       "18058   6.469074 2021-06-11      6             8                50   \n",
       "18059  18.343604 2021-06-18      6             8                50   \n",
       "18060  20.289416 2021-08-08      8             8                50   \n",
       "18061  26.916544 2021-08-20      8             8                50   \n",
       "18062  22.560373 2021-09-13      9             8                50   \n",
       "18063  19.822962 2021-11-04     11             8                50   \n",
       "18064  21.409799 2021-11-16     11             8                50   \n",
       "18065  18.435051 2021-11-18     11             8                50   \n",
       "18066  16.674362 2021-11-27     11             8                50   \n",
       "18067  15.893917 2021-12-29     12             8                50   \n",
       "\n",
       "       subscription_fee  \n",
       "18058                 0  \n",
       "18059                 0  \n",
       "18060                 0  \n",
       "18061                 0  \n",
       "18062                 0  \n",
       "18063                 0  \n",
       "18064                 0  \n",
       "18065                 0  \n",
       "18066                 0  \n",
       "18067                 0  "
      ]
     },
     "execution_count": 25,
     "metadata": {},
     "output_type": "execute_result"
    }
   ],
   "source": [
    "df = users_go.merge(rides_go, on='user_id').merge(subscriptions_go, on='subscription_type')\n",
    "display(df.head(10))\n",
    "df.tail(10)"
   ]
  },
  {
   "cell_type": "code",
   "execution_count": 26,
   "id": "e5341fbc",
   "metadata": {},
   "outputs": [
    {
     "name": "stdout",
     "output_type": "stream",
     "text": [
      "Размер датафрейма df: 18068 строки, 12 столбцов\n"
     ]
    }
   ],
   "source": [
    "# Проверим размер объединенного датафрейма\n",
    "print(f'Размер датафрейма df: {df.shape[0]} строки, {df.shape[1]} столбцов')"
   ]
  },
  {
   "cell_type": "markdown",
   "id": "3d4794e1",
   "metadata": {},
   "source": [
    "Все данные были объединены в один датафрейм, и итоговое количество столбцов соответствует ожидаемому результату"
   ]
  },
  {
   "cell_type": "markdown",
   "id": "32e4d8b4",
   "metadata": {},
   "source": [
    "**Создайте ещё два датафрейма из датафрейма, созданного на этапе:**\n",
    "- c данными о пользователях без подписки;\n",
    "- с данными о пользователях с подпиской"
   ]
  },
  {
   "cell_type": "code",
   "execution_count": 27,
   "id": "2a957580",
   "metadata": {
    "scrolled": true
   },
   "outputs": [
    {
     "data": {
      "text/html": [
       "<div>\n",
       "<style scoped>\n",
       "    .dataframe tbody tr th:only-of-type {\n",
       "        vertical-align: middle;\n",
       "    }\n",
       "\n",
       "    .dataframe tbody tr th {\n",
       "        vertical-align: top;\n",
       "    }\n",
       "\n",
       "    .dataframe thead th {\n",
       "        text-align: right;\n",
       "    }\n",
       "</style>\n",
       "<table border=\"1\" class=\"dataframe\">\n",
       "  <thead>\n",
       "    <tr style=\"text-align: right;\">\n",
       "      <th></th>\n",
       "      <th>user_id</th>\n",
       "      <th>name</th>\n",
       "      <th>age</th>\n",
       "      <th>city</th>\n",
       "      <th>subscription_type</th>\n",
       "      <th>distance</th>\n",
       "      <th>duration</th>\n",
       "      <th>date</th>\n",
       "      <th>month</th>\n",
       "      <th>minute_price</th>\n",
       "      <th>start_ride_price</th>\n",
       "      <th>subscription_fee</th>\n",
       "    </tr>\n",
       "  </thead>\n",
       "  <tbody>\n",
       "    <tr>\n",
       "      <th>6500</th>\n",
       "      <td>700</td>\n",
       "      <td>Айдар</td>\n",
       "      <td>22</td>\n",
       "      <td>Омск</td>\n",
       "      <td>free</td>\n",
       "      <td>2515.690719</td>\n",
       "      <td>14.944286</td>\n",
       "      <td>2021-01-02</td>\n",
       "      <td>1</td>\n",
       "      <td>8</td>\n",
       "      <td>50</td>\n",
       "      <td>0</td>\n",
       "    </tr>\n",
       "    <tr>\n",
       "      <th>6501</th>\n",
       "      <td>700</td>\n",
       "      <td>Айдар</td>\n",
       "      <td>22</td>\n",
       "      <td>Омск</td>\n",
       "      <td>free</td>\n",
       "      <td>846.932642</td>\n",
       "      <td>16.234663</td>\n",
       "      <td>2021-02-01</td>\n",
       "      <td>2</td>\n",
       "      <td>8</td>\n",
       "      <td>50</td>\n",
       "      <td>0</td>\n",
       "    </tr>\n",
       "    <tr>\n",
       "      <th>6502</th>\n",
       "      <td>700</td>\n",
       "      <td>Айдар</td>\n",
       "      <td>22</td>\n",
       "      <td>Омск</td>\n",
       "      <td>free</td>\n",
       "      <td>4004.434142</td>\n",
       "      <td>20.016628</td>\n",
       "      <td>2021-02-04</td>\n",
       "      <td>2</td>\n",
       "      <td>8</td>\n",
       "      <td>50</td>\n",
       "      <td>0</td>\n",
       "    </tr>\n",
       "    <tr>\n",
       "      <th>6503</th>\n",
       "      <td>700</td>\n",
       "      <td>Айдар</td>\n",
       "      <td>22</td>\n",
       "      <td>Омск</td>\n",
       "      <td>free</td>\n",
       "      <td>1205.911290</td>\n",
       "      <td>9.782872</td>\n",
       "      <td>2021-02-10</td>\n",
       "      <td>2</td>\n",
       "      <td>8</td>\n",
       "      <td>50</td>\n",
       "      <td>0</td>\n",
       "    </tr>\n",
       "    <tr>\n",
       "      <th>6504</th>\n",
       "      <td>700</td>\n",
       "      <td>Айдар</td>\n",
       "      <td>22</td>\n",
       "      <td>Омск</td>\n",
       "      <td>free</td>\n",
       "      <td>3047.379435</td>\n",
       "      <td>17.427673</td>\n",
       "      <td>2021-02-14</td>\n",
       "      <td>2</td>\n",
       "      <td>8</td>\n",
       "      <td>50</td>\n",
       "      <td>0</td>\n",
       "    </tr>\n",
       "    <tr>\n",
       "      <th>6505</th>\n",
       "      <td>700</td>\n",
       "      <td>Айдар</td>\n",
       "      <td>22</td>\n",
       "      <td>Омск</td>\n",
       "      <td>free</td>\n",
       "      <td>4342.002254</td>\n",
       "      <td>22.368009</td>\n",
       "      <td>2021-02-23</td>\n",
       "      <td>2</td>\n",
       "      <td>8</td>\n",
       "      <td>50</td>\n",
       "      <td>0</td>\n",
       "    </tr>\n",
       "    <tr>\n",
       "      <th>6506</th>\n",
       "      <td>700</td>\n",
       "      <td>Айдар</td>\n",
       "      <td>22</td>\n",
       "      <td>Омск</td>\n",
       "      <td>free</td>\n",
       "      <td>3798.334905</td>\n",
       "      <td>18.243756</td>\n",
       "      <td>2021-03-03</td>\n",
       "      <td>3</td>\n",
       "      <td>8</td>\n",
       "      <td>50</td>\n",
       "      <td>0</td>\n",
       "    </tr>\n",
       "    <tr>\n",
       "      <th>6507</th>\n",
       "      <td>700</td>\n",
       "      <td>Айдар</td>\n",
       "      <td>22</td>\n",
       "      <td>Омск</td>\n",
       "      <td>free</td>\n",
       "      <td>2984.551206</td>\n",
       "      <td>15.424899</td>\n",
       "      <td>2021-04-09</td>\n",
       "      <td>4</td>\n",
       "      <td>8</td>\n",
       "      <td>50</td>\n",
       "      <td>0</td>\n",
       "    </tr>\n",
       "    <tr>\n",
       "      <th>6508</th>\n",
       "      <td>700</td>\n",
       "      <td>Айдар</td>\n",
       "      <td>22</td>\n",
       "      <td>Омск</td>\n",
       "      <td>free</td>\n",
       "      <td>3360.107141</td>\n",
       "      <td>16.765497</td>\n",
       "      <td>2021-06-12</td>\n",
       "      <td>6</td>\n",
       "      <td>8</td>\n",
       "      <td>50</td>\n",
       "      <td>0</td>\n",
       "    </tr>\n",
       "    <tr>\n",
       "      <th>6509</th>\n",
       "      <td>700</td>\n",
       "      <td>Айдар</td>\n",
       "      <td>22</td>\n",
       "      <td>Омск</td>\n",
       "      <td>free</td>\n",
       "      <td>2567.543847</td>\n",
       "      <td>11.312160</td>\n",
       "      <td>2021-06-23</td>\n",
       "      <td>6</td>\n",
       "      <td>8</td>\n",
       "      <td>50</td>\n",
       "      <td>0</td>\n",
       "    </tr>\n",
       "  </tbody>\n",
       "</table>\n",
       "</div>"
      ],
      "text/plain": [
       "      user_id   name  age  city subscription_type     distance   duration  \\\n",
       "6500      700  Айдар   22  Омск              free  2515.690719  14.944286   \n",
       "6501      700  Айдар   22  Омск              free   846.932642  16.234663   \n",
       "6502      700  Айдар   22  Омск              free  4004.434142  20.016628   \n",
       "6503      700  Айдар   22  Омск              free  1205.911290   9.782872   \n",
       "6504      700  Айдар   22  Омск              free  3047.379435  17.427673   \n",
       "6505      700  Айдар   22  Омск              free  4342.002254  22.368009   \n",
       "6506      700  Айдар   22  Омск              free  3798.334905  18.243756   \n",
       "6507      700  Айдар   22  Омск              free  2984.551206  15.424899   \n",
       "6508      700  Айдар   22  Омск              free  3360.107141  16.765497   \n",
       "6509      700  Айдар   22  Омск              free  2567.543847  11.312160   \n",
       "\n",
       "           date  month  minute_price  start_ride_price  subscription_fee  \n",
       "6500 2021-01-02      1             8                50                 0  \n",
       "6501 2021-02-01      2             8                50                 0  \n",
       "6502 2021-02-04      2             8                50                 0  \n",
       "6503 2021-02-10      2             8                50                 0  \n",
       "6504 2021-02-14      2             8                50                 0  \n",
       "6505 2021-02-23      2             8                50                 0  \n",
       "6506 2021-03-03      3             8                50                 0  \n",
       "6507 2021-04-09      4             8                50                 0  \n",
       "6508 2021-06-12      6             8                50                 0  \n",
       "6509 2021-06-23      6             8                50                 0  "
      ]
     },
     "execution_count": 27,
     "metadata": {},
     "output_type": "execute_result"
    }
   ],
   "source": [
    "# Пользователи без подписки\n",
    "df_unsubs = df.query('subscription_type == \"free\"')\n",
    "df_unsubs.head(10)"
   ]
  },
  {
   "cell_type": "code",
   "execution_count": 28,
   "id": "a50519da",
   "metadata": {},
   "outputs": [
    {
     "name": "stdout",
     "output_type": "stream",
     "text": [
      "Размер датафрейма df_unsubs: 11568 строки, 12 столбцов\n"
     ]
    }
   ],
   "source": [
    "# Проверим размер датафрейма\n",
    "print(f'Размер датафрейма df_unsubs: {df_unsubs.shape[0]} строки, {df_unsubs.shape[1]} столбцов')"
   ]
  },
  {
   "cell_type": "code",
   "execution_count": 29,
   "id": "7fe0d2ac",
   "metadata": {
    "scrolled": true
   },
   "outputs": [
    {
     "data": {
      "text/html": [
       "<div>\n",
       "<style scoped>\n",
       "    .dataframe tbody tr th:only-of-type {\n",
       "        vertical-align: middle;\n",
       "    }\n",
       "\n",
       "    .dataframe tbody tr th {\n",
       "        vertical-align: top;\n",
       "    }\n",
       "\n",
       "    .dataframe thead th {\n",
       "        text-align: right;\n",
       "    }\n",
       "</style>\n",
       "<table border=\"1\" class=\"dataframe\">\n",
       "  <thead>\n",
       "    <tr style=\"text-align: right;\">\n",
       "      <th></th>\n",
       "      <th>user_id</th>\n",
       "      <th>name</th>\n",
       "      <th>age</th>\n",
       "      <th>city</th>\n",
       "      <th>subscription_type</th>\n",
       "      <th>distance</th>\n",
       "      <th>duration</th>\n",
       "      <th>date</th>\n",
       "      <th>month</th>\n",
       "      <th>minute_price</th>\n",
       "      <th>start_ride_price</th>\n",
       "      <th>subscription_fee</th>\n",
       "    </tr>\n",
       "  </thead>\n",
       "  <tbody>\n",
       "    <tr>\n",
       "      <th>0</th>\n",
       "      <td>1</td>\n",
       "      <td>Кира</td>\n",
       "      <td>22</td>\n",
       "      <td>Тюмень</td>\n",
       "      <td>ultra</td>\n",
       "      <td>4409.919140</td>\n",
       "      <td>25.599769</td>\n",
       "      <td>2021-01-01</td>\n",
       "      <td>1</td>\n",
       "      <td>6</td>\n",
       "      <td>0</td>\n",
       "      <td>199</td>\n",
       "    </tr>\n",
       "    <tr>\n",
       "      <th>1</th>\n",
       "      <td>1</td>\n",
       "      <td>Кира</td>\n",
       "      <td>22</td>\n",
       "      <td>Тюмень</td>\n",
       "      <td>ultra</td>\n",
       "      <td>2617.592153</td>\n",
       "      <td>15.816871</td>\n",
       "      <td>2021-01-18</td>\n",
       "      <td>1</td>\n",
       "      <td>6</td>\n",
       "      <td>0</td>\n",
       "      <td>199</td>\n",
       "    </tr>\n",
       "    <tr>\n",
       "      <th>2</th>\n",
       "      <td>1</td>\n",
       "      <td>Кира</td>\n",
       "      <td>22</td>\n",
       "      <td>Тюмень</td>\n",
       "      <td>ultra</td>\n",
       "      <td>754.159807</td>\n",
       "      <td>6.232113</td>\n",
       "      <td>2021-04-20</td>\n",
       "      <td>4</td>\n",
       "      <td>6</td>\n",
       "      <td>0</td>\n",
       "      <td>199</td>\n",
       "    </tr>\n",
       "    <tr>\n",
       "      <th>3</th>\n",
       "      <td>1</td>\n",
       "      <td>Кира</td>\n",
       "      <td>22</td>\n",
       "      <td>Тюмень</td>\n",
       "      <td>ultra</td>\n",
       "      <td>2694.783254</td>\n",
       "      <td>18.511000</td>\n",
       "      <td>2021-08-11</td>\n",
       "      <td>8</td>\n",
       "      <td>6</td>\n",
       "      <td>0</td>\n",
       "      <td>199</td>\n",
       "    </tr>\n",
       "    <tr>\n",
       "      <th>4</th>\n",
       "      <td>1</td>\n",
       "      <td>Кира</td>\n",
       "      <td>22</td>\n",
       "      <td>Тюмень</td>\n",
       "      <td>ultra</td>\n",
       "      <td>4028.687306</td>\n",
       "      <td>26.265803</td>\n",
       "      <td>2021-08-28</td>\n",
       "      <td>8</td>\n",
       "      <td>6</td>\n",
       "      <td>0</td>\n",
       "      <td>199</td>\n",
       "    </tr>\n",
       "    <tr>\n",
       "      <th>5</th>\n",
       "      <td>1</td>\n",
       "      <td>Кира</td>\n",
       "      <td>22</td>\n",
       "      <td>Тюмень</td>\n",
       "      <td>ultra</td>\n",
       "      <td>2770.890808</td>\n",
       "      <td>16.650138</td>\n",
       "      <td>2021-10-09</td>\n",
       "      <td>10</td>\n",
       "      <td>6</td>\n",
       "      <td>0</td>\n",
       "      <td>199</td>\n",
       "    </tr>\n",
       "    <tr>\n",
       "      <th>6</th>\n",
       "      <td>1</td>\n",
       "      <td>Кира</td>\n",
       "      <td>22</td>\n",
       "      <td>Тюмень</td>\n",
       "      <td>ultra</td>\n",
       "      <td>3039.020292</td>\n",
       "      <td>14.927879</td>\n",
       "      <td>2021-10-19</td>\n",
       "      <td>10</td>\n",
       "      <td>6</td>\n",
       "      <td>0</td>\n",
       "      <td>199</td>\n",
       "    </tr>\n",
       "    <tr>\n",
       "      <th>7</th>\n",
       "      <td>1</td>\n",
       "      <td>Кира</td>\n",
       "      <td>22</td>\n",
       "      <td>Тюмень</td>\n",
       "      <td>ultra</td>\n",
       "      <td>2842.118050</td>\n",
       "      <td>23.117468</td>\n",
       "      <td>2021-11-06</td>\n",
       "      <td>11</td>\n",
       "      <td>6</td>\n",
       "      <td>0</td>\n",
       "      <td>199</td>\n",
       "    </tr>\n",
       "    <tr>\n",
       "      <th>8</th>\n",
       "      <td>1</td>\n",
       "      <td>Кира</td>\n",
       "      <td>22</td>\n",
       "      <td>Тюмень</td>\n",
       "      <td>ultra</td>\n",
       "      <td>3412.690668</td>\n",
       "      <td>15.238072</td>\n",
       "      <td>2021-11-14</td>\n",
       "      <td>11</td>\n",
       "      <td>6</td>\n",
       "      <td>0</td>\n",
       "      <td>199</td>\n",
       "    </tr>\n",
       "    <tr>\n",
       "      <th>9</th>\n",
       "      <td>1</td>\n",
       "      <td>Кира</td>\n",
       "      <td>22</td>\n",
       "      <td>Тюмень</td>\n",
       "      <td>ultra</td>\n",
       "      <td>748.690645</td>\n",
       "      <td>15.041884</td>\n",
       "      <td>2021-11-22</td>\n",
       "      <td>11</td>\n",
       "      <td>6</td>\n",
       "      <td>0</td>\n",
       "      <td>199</td>\n",
       "    </tr>\n",
       "  </tbody>\n",
       "</table>\n",
       "</div>"
      ],
      "text/plain": [
       "   user_id  name  age    city subscription_type     distance   duration  \\\n",
       "0        1  Кира   22  Тюмень             ultra  4409.919140  25.599769   \n",
       "1        1  Кира   22  Тюмень             ultra  2617.592153  15.816871   \n",
       "2        1  Кира   22  Тюмень             ultra   754.159807   6.232113   \n",
       "3        1  Кира   22  Тюмень             ultra  2694.783254  18.511000   \n",
       "4        1  Кира   22  Тюмень             ultra  4028.687306  26.265803   \n",
       "5        1  Кира   22  Тюмень             ultra  2770.890808  16.650138   \n",
       "6        1  Кира   22  Тюмень             ultra  3039.020292  14.927879   \n",
       "7        1  Кира   22  Тюмень             ultra  2842.118050  23.117468   \n",
       "8        1  Кира   22  Тюмень             ultra  3412.690668  15.238072   \n",
       "9        1  Кира   22  Тюмень             ultra   748.690645  15.041884   \n",
       "\n",
       "        date  month  minute_price  start_ride_price  subscription_fee  \n",
       "0 2021-01-01      1             6                 0               199  \n",
       "1 2021-01-18      1             6                 0               199  \n",
       "2 2021-04-20      4             6                 0               199  \n",
       "3 2021-08-11      8             6                 0               199  \n",
       "4 2021-08-28      8             6                 0               199  \n",
       "5 2021-10-09     10             6                 0               199  \n",
       "6 2021-10-19     10             6                 0               199  \n",
       "7 2021-11-06     11             6                 0               199  \n",
       "8 2021-11-14     11             6                 0               199  \n",
       "9 2021-11-22     11             6                 0               199  "
      ]
     },
     "execution_count": 29,
     "metadata": {},
     "output_type": "execute_result"
    }
   ],
   "source": [
    "# Пользователи c подпиской\n",
    "df_subs = df.query('subscription_type == \"ultra\"')\n",
    "df_subs.head(10)"
   ]
  },
  {
   "cell_type": "code",
   "execution_count": 30,
   "id": "48bb93b4",
   "metadata": {},
   "outputs": [
    {
     "name": "stdout",
     "output_type": "stream",
     "text": [
      "Размер датафрейма df_subs: 6500 строки, 12 столбцов\n"
     ]
    }
   ],
   "source": [
    "# Проверим размер датафрейма\n",
    "print(f'Размер датафрейма df_subs: {df_subs.shape[0]} строки, {df_subs.shape[1]} столбцов')"
   ]
  },
  {
   "cell_type": "markdown",
   "id": "7aefc510",
   "metadata": {},
   "source": [
    "Данные разделены по категориям, с подпиской и без!"
   ]
  },
  {
   "cell_type": "markdown",
   "id": "305d5ac3",
   "metadata": {},
   "source": [
    "**Визуализируйте информацию о расстоянии и времени поездок для пользователей обеих категорий**"
   ]
  },
  {
   "cell_type": "code",
   "execution_count": 31,
   "id": "ae4549d8",
   "metadata": {},
   "outputs": [
    {
     "data": {
      "image/png": "[encoded data removed]",
      "text/plain": [
       "<Figure size 1500x800 with 1 Axes>"
      ]
     },
     "metadata": {},
     "output_type": "display_data"
    },
    {
     "data": {
      "text/plain": [
       "count    11568.000000\n",
       "mean      3045.495282\n",
       "std       1246.173806\n",
       "min          0.855683\n",
       "25%       2366.562689\n",
       "50%       3114.648465\n",
       "75%       3905.697894\n",
       "max       7211.007745\n",
       "Name: distance, dtype: float64"
      ]
     },
     "metadata": {},
     "output_type": "display_data"
    },
    {
     "data": {
      "image/png": "[encoded data removed]",
      "text/plain": [
       "<Figure size 1500x800 with 1 Axes>"
      ]
     },
     "metadata": {},
     "output_type": "display_data"
    },
    {
     "data": {
      "text/plain": [
       "count    11568.000000\n",
       "mean        17.390909\n",
       "std          6.326803\n",
       "min          0.500000\n",
       "25%         12.958437\n",
       "50%         17.326890\n",
       "75%         21.594071\n",
       "max         34.948498\n",
       "Name: duration, dtype: float64"
      ]
     },
     "execution_count": 31,
     "metadata": {},
     "output_type": "execute_result"
    }
   ],
   "source": [
    "df_unsubs['distance'].plot(\n",
    "    kind = 'hist',\n",
    "    bins=50,\n",
    "    figsize=(15, 8),\n",
    "    grid=True\n",
    ")\n",
    "\n",
    "plt.title('Расстояние за одну поездку без подписки')\n",
    "plt.xlabel('Метры')\n",
    "plt.ylabel('Частота')\n",
    "\n",
    "# Показать график\n",
    "plt.show()\n",
    "\n",
    "display(df_unsubs['distance'].describe())\n",
    "\n",
    "df_unsubs['duration'].plot(\n",
    "    kind = 'hist',\n",
    "    bins=50,\n",
    "    figsize=(15, 8),\n",
    "    grid=True\n",
    ")\n",
    "\n",
    "plt.title('Продолжительность поездки без подписки')\n",
    "plt.xlabel('Минуты')\n",
    "plt.ylabel('Частота')\n",
    "\n",
    "# Показать график\n",
    "plt.show()\n",
    "\n",
    "df_unsubs['duration'].describe()"
   ]
  },
  {
   "cell_type": "markdown",
   "id": "51acdf03",
   "metadata": {},
   "source": [
    "На графике преодолённого расстояния видны два выраженных пика: первый — в диапазоне от ~0 до ~1400 метров, второй — от ~1400 до ~7211 метров. Время поездки у пользователей с подпиской варьируется от 30 секунд до 35 минут"
   ]
  },
  {
   "cell_type": "code",
   "execution_count": 32,
   "id": "52b4d8eb",
   "metadata": {},
   "outputs": [
    {
     "data": {
      "image/png": "[encoded data removed]",
      "text/plain": [
       "<Figure size 1500x800 with 1 Axes>"
      ]
     },
     "metadata": {},
     "output_type": "display_data"
    },
    {
     "data": {
      "text/plain": [
       "count    6500.000000\n",
       "mean     3115.445388\n",
       "std       836.895330\n",
       "min       244.210438\n",
       "25%      2785.444017\n",
       "50%      3148.637229\n",
       "75%      3560.574425\n",
       "max      5699.769662\n",
       "Name: distance, dtype: float64"
      ]
     },
     "metadata": {},
     "output_type": "display_data"
    },
    {
     "data": {
      "image/png": "[encoded data removed]",
      "text/plain": [
       "<Figure size 1500x800 with 1 Axes>"
      ]
     },
     "metadata": {},
     "output_type": "display_data"
    },
    {
     "data": {
      "text/plain": [
       "count    6500.000000\n",
       "mean       18.541985\n",
       "std         5.572048\n",
       "min         3.760353\n",
       "25%        14.524654\n",
       "50%        18.178153\n",
       "75%        21.884129\n",
       "max        40.823963\n",
       "Name: duration, dtype: float64"
      ]
     },
     "execution_count": 32,
     "metadata": {},
     "output_type": "execute_result"
    }
   ],
   "source": [
    "df_subs['distance'].plot(\n",
    "    kind = 'hist',\n",
    "    bins=50,\n",
    "    figsize=(15, 8),\n",
    "    grid=True\n",
    ")\n",
    "\n",
    "plt.title('Расстояние за одну поездку (c подпиской)')\n",
    "plt.xlabel('Метры')\n",
    "plt.ylabel('Частота')\n",
    "\n",
    "# Показать график\n",
    "plt.show()\n",
    "\n",
    "display(df_subs['distance'].describe())\n",
    "\n",
    "df_subs['duration'].plot(\n",
    "    kind = 'hist',\n",
    "    bins=50,\n",
    "    figsize=(15, 8),\n",
    "    grid=True\n",
    ")\n",
    "\n",
    "plt.title('Продолжительность поездки (c подпиской)')\n",
    "plt.xlabel('Минуты')\n",
    "plt.ylabel('Частота')\n",
    "\n",
    "# Показать график\n",
    "plt.show()\n",
    "\n",
    "df_subs['duration'].describe()"
   ]
  },
  {
   "cell_type": "markdown",
   "id": "3d820340",
   "metadata": {},
   "source": [
    "На графике преодолённого расстояния видны два выраженных пика: первый — в диапазоне от ~250 до ~1650 метров, второй — от ~1650 до 5700 метров. Время поездки у пользователей с подпиской варьируется от ~3 до 35 минут"
   ]
  },
  {
   "cell_type": "markdown",
   "id": "9a7ca03e",
   "metadata": {},
   "source": [
    "**Промежуточный итог по данным сервиса:**\n",
    "\n",
    "- Были объедены датафреймы, в один общий df;\n",
    "- Пользователей сервиса были поделены на группы с подпиской и без; \n",
    "- По построенным диаграммам определено:\n",
    "    - Пользователи без подписки в целом преодолевают на самокате больше расстояния, от ~0 до ~1400 метров и от ~1400 до ~7211 метров; \n",
    "    - Время поездки у пользователей с подпиской варьируется от 30 секунд до 35 минут;\n",
    "    - Пользователи с подпиской преодолевают расстояние, от ~250 до ~1650 на средней дистанции и от ~1650 до 5700 метров на длительной дистанции;\n",
    "    - Время поездки у пользователей с подпиской варьируется от ~3 до 35 минут;\n",
    "- Пользователи без подписки обычно совершают больше коротких поездок длиной до 1 километра, а максимальная дальность их поездок больше, чем у тех, кто пользуется подпиской"
   ]
  },
  {
   "cell_type": "markdown",
   "id": "402d620f",
   "metadata": {},
   "source": [
    "## Подсчёт выручки"
   ]
  },
  {
   "cell_type": "markdown",
   "id": "6c8fa4d0",
   "metadata": {},
   "source": [
    "**Создайте датафрейм с агрегированными данными о поездках на основе датафрейма с объединёнными данными из шага 4: найдите суммарное расстояние, количество поездок и суммарное время для каждого пользователя за каждый месяц**"
   ]
  },
  {
   "cell_type": "markdown",
   "id": "de096fe7",
   "metadata": {},
   "source": [
    "Проверим на наличие пропусков в датафрейме df, после объединения данных"
   ]
  },
  {
   "cell_type": "code",
   "execution_count": 33,
   "id": "73aecee9",
   "metadata": {},
   "outputs": [
    {
     "data": {
      "text/plain": [
       "user_id              0\n",
       "name                 0\n",
       "age                  0\n",
       "city                 0\n",
       "subscription_type    0\n",
       "distance             0\n",
       "duration             0\n",
       "date                 0\n",
       "month                0\n",
       "minute_price         0\n",
       "start_ride_price     0\n",
       "subscription_fee     0\n",
       "dtype: int64"
      ]
     },
     "execution_count": 33,
     "metadata": {},
     "output_type": "execute_result"
    }
   ],
   "source": [
    "# Определим количество пропущенных значений в каждом столбце\n",
    "df.isna().sum()"
   ]
  },
  {
   "cell_type": "markdown",
   "id": "3a054f68",
   "metadata": {},
   "source": [
    "Найдите суммарное расстояние, количество поездок и суммарное время для каждого пользователя за каждый месяц"
   ]
  },
  {
   "cell_type": "code",
   "execution_count": 34,
   "id": "53049e0a",
   "metadata": {},
   "outputs": [
    {
     "data": {
      "text/plain": [
       "0    4410\n",
       "1    2618\n",
       "2     755\n",
       "3    2695\n",
       "4    4029\n",
       "Name: distance, dtype: int64"
      ]
     },
     "execution_count": 34,
     "metadata": {},
     "output_type": "execute_result"
    }
   ],
   "source": [
    "# Округлим расстояние до \"потолка\" методом ceil()\n",
    "df['distance'] = np.ceil(df['distance']).astype('int')\n",
    "df['distance'].head()"
   ]
  },
  {
   "cell_type": "code",
   "execution_count": 35,
   "id": "e667153c",
   "metadata": {},
   "outputs": [
    {
     "data": {
      "text/html": [
       "<div>\n",
       "<style scoped>\n",
       "    .dataframe tbody tr th:only-of-type {\n",
       "        vertical-align: middle;\n",
       "    }\n",
       "\n",
       "    .dataframe tbody tr th {\n",
       "        vertical-align: top;\n",
       "    }\n",
       "\n",
       "    .dataframe thead th {\n",
       "        text-align: right;\n",
       "    }\n",
       "</style>\n",
       "<table border=\"1\" class=\"dataframe\">\n",
       "  <thead>\n",
       "    <tr style=\"text-align: right;\">\n",
       "      <th></th>\n",
       "      <th>user_id</th>\n",
       "      <th>month</th>\n",
       "      <th>total_distance</th>\n",
       "      <th>total_duration</th>\n",
       "      <th>number_of_rides</th>\n",
       "    </tr>\n",
       "  </thead>\n",
       "  <tbody>\n",
       "    <tr>\n",
       "      <th>0</th>\n",
       "      <td>1</td>\n",
       "      <td>1</td>\n",
       "      <td>7028</td>\n",
       "      <td>42</td>\n",
       "      <td>2</td>\n",
       "    </tr>\n",
       "    <tr>\n",
       "      <th>1</th>\n",
       "      <td>1</td>\n",
       "      <td>4</td>\n",
       "      <td>755</td>\n",
       "      <td>7</td>\n",
       "      <td>1</td>\n",
       "    </tr>\n",
       "    <tr>\n",
       "      <th>2</th>\n",
       "      <td>1</td>\n",
       "      <td>8</td>\n",
       "      <td>6724</td>\n",
       "      <td>45</td>\n",
       "      <td>2</td>\n",
       "    </tr>\n",
       "    <tr>\n",
       "      <th>3</th>\n",
       "      <td>1</td>\n",
       "      <td>10</td>\n",
       "      <td>5811</td>\n",
       "      <td>32</td>\n",
       "      <td>2</td>\n",
       "    </tr>\n",
       "    <tr>\n",
       "      <th>4</th>\n",
       "      <td>1</td>\n",
       "      <td>11</td>\n",
       "      <td>7005</td>\n",
       "      <td>54</td>\n",
       "      <td>3</td>\n",
       "    </tr>\n",
       "    <tr>\n",
       "      <th>5</th>\n",
       "      <td>1</td>\n",
       "      <td>12</td>\n",
       "      <td>6753</td>\n",
       "      <td>28</td>\n",
       "      <td>2</td>\n",
       "    </tr>\n",
       "    <tr>\n",
       "      <th>6</th>\n",
       "      <td>2</td>\n",
       "      <td>3</td>\n",
       "      <td>10190</td>\n",
       "      <td>61</td>\n",
       "      <td>3</td>\n",
       "    </tr>\n",
       "    <tr>\n",
       "      <th>7</th>\n",
       "      <td>2</td>\n",
       "      <td>4</td>\n",
       "      <td>6165</td>\n",
       "      <td>40</td>\n",
       "      <td>2</td>\n",
       "    </tr>\n",
       "    <tr>\n",
       "      <th>8</th>\n",
       "      <td>2</td>\n",
       "      <td>6</td>\n",
       "      <td>3256</td>\n",
       "      <td>14</td>\n",
       "      <td>1</td>\n",
       "    </tr>\n",
       "    <tr>\n",
       "      <th>9</th>\n",
       "      <td>2</td>\n",
       "      <td>7</td>\n",
       "      <td>6781</td>\n",
       "      <td>47</td>\n",
       "      <td>2</td>\n",
       "    </tr>\n",
       "  </tbody>\n",
       "</table>\n",
       "</div>"
      ],
      "text/plain": [
       "   user_id  month  total_distance  total_duration  number_of_rides\n",
       "0        1      1            7028              42                2\n",
       "1        1      4             755               7                1\n",
       "2        1      8            6724              45                2\n",
       "3        1     10            5811              32                2\n",
       "4        1     11            7005              54                3\n",
       "5        1     12            6753              28                2\n",
       "6        2      3           10190              61                3\n",
       "7        2      4            6165              40                2\n",
       "8        2      6            3256              14                1\n",
       "9        2      7            6781              47                2"
      ]
     },
     "metadata": {},
     "output_type": "display_data"
    },
    {
     "name": "stdout",
     "output_type": "stream",
     "text": [
      "<class 'pandas.core.frame.DataFrame'>\n",
      "RangeIndex: 11331 entries, 0 to 11330\n",
      "Data columns (total 5 columns):\n",
      " #   Column           Non-Null Count  Dtype\n",
      "---  ------           --------------  -----\n",
      " 0   user_id          11331 non-null  int64\n",
      " 1   month            11331 non-null  int32\n",
      " 2   total_distance   11331 non-null  int64\n",
      " 3   total_duration   11331 non-null  int64\n",
      " 4   number_of_rides  11331 non-null  int64\n",
      "dtypes: int32(1), int64(4)\n",
      "memory usage: 398.5 KB\n"
     ]
    }
   ],
   "source": [
    "# Создадим сводную таблицу\n",
    "total_agg = df.pivot_table(\n",
    "    index=['user_id', 'month'],\n",
    "    values=['distance', 'name', 'duration'],\n",
    "    aggfunc={'distance': 'sum', 'name': 'count', 'duration': 'sum'}\n",
    ")\n",
    "total_agg.columns = ['total_distance', 'total_duration', 'number_of_rides']\n",
    "\n",
    "# Обнулим индексы\n",
    "total_agg = total_agg.reset_index()\n",
    "\n",
    "total_agg['total_duration'] = np.ceil(total_agg['total_duration']).astype('int')\n",
    "display(total_agg.head(10))\n",
    "total_agg.info()"
   ]
  },
  {
   "cell_type": "markdown",
   "id": "2a2715b1",
   "metadata": {},
   "source": [
    "Получили таблицу, которая позволяет анализировать поведение пользователей по месяцам, включая суммарное количество поездок, общее расстояние и время, проведенное в поездках"
   ]
  },
  {
   "cell_type": "markdown",
   "id": "fd165bb9",
   "metadata": {},
   "source": [
    "**В этот же датафрейм добавьте столбец с помесячной выручкой, которую принёс каждый пользователь.**\n",
    "\n",
    "Помесячная выручка считается по формуле: start_ride_price × number_of_rides + minute_price × total_duration + subscription_fee"
   ]
  },
  {
   "cell_type": "code",
   "execution_count": 36,
   "id": "6c22283b",
   "metadata": {},
   "outputs": [
    {
     "name": "stdout",
     "output_type": "stream",
     "text": [
      "До объединения\n"
     ]
    },
    {
     "data": {
      "text/html": [
       "<div>\n",
       "<style scoped>\n",
       "    .dataframe tbody tr th:only-of-type {\n",
       "        vertical-align: middle;\n",
       "    }\n",
       "\n",
       "    .dataframe tbody tr th {\n",
       "        vertical-align: top;\n",
       "    }\n",
       "\n",
       "    .dataframe thead th {\n",
       "        text-align: right;\n",
       "    }\n",
       "</style>\n",
       "<table border=\"1\" class=\"dataframe\">\n",
       "  <thead>\n",
       "    <tr style=\"text-align: right;\">\n",
       "      <th></th>\n",
       "      <th>user_id</th>\n",
       "      <th>month</th>\n",
       "      <th>minute_price</th>\n",
       "      <th>start_ride_price</th>\n",
       "      <th>subscription_fee</th>\n",
       "    </tr>\n",
       "  </thead>\n",
       "  <tbody>\n",
       "    <tr>\n",
       "      <th>0</th>\n",
       "      <td>1</td>\n",
       "      <td>1</td>\n",
       "      <td>6.0</td>\n",
       "      <td>0.0</td>\n",
       "      <td>199.0</td>\n",
       "    </tr>\n",
       "    <tr>\n",
       "      <th>1</th>\n",
       "      <td>1</td>\n",
       "      <td>4</td>\n",
       "      <td>6.0</td>\n",
       "      <td>0.0</td>\n",
       "      <td>199.0</td>\n",
       "    </tr>\n",
       "    <tr>\n",
       "      <th>2</th>\n",
       "      <td>1</td>\n",
       "      <td>8</td>\n",
       "      <td>6.0</td>\n",
       "      <td>0.0</td>\n",
       "      <td>199.0</td>\n",
       "    </tr>\n",
       "    <tr>\n",
       "      <th>3</th>\n",
       "      <td>1</td>\n",
       "      <td>10</td>\n",
       "      <td>6.0</td>\n",
       "      <td>0.0</td>\n",
       "      <td>199.0</td>\n",
       "    </tr>\n",
       "    <tr>\n",
       "      <th>4</th>\n",
       "      <td>1</td>\n",
       "      <td>11</td>\n",
       "      <td>6.0</td>\n",
       "      <td>0.0</td>\n",
       "      <td>199.0</td>\n",
       "    </tr>\n",
       "  </tbody>\n",
       "</table>\n",
       "</div>"
      ],
      "text/plain": [
       "   user_id  month  minute_price  start_ride_price  subscription_fee\n",
       "0        1      1           6.0               0.0             199.0\n",
       "1        1      4           6.0               0.0             199.0\n",
       "2        1      8           6.0               0.0             199.0\n",
       "3        1     10           6.0               0.0             199.0\n",
       "4        1     11           6.0               0.0             199.0"
      ]
     },
     "metadata": {},
     "output_type": "display_data"
    },
    {
     "name": "stdout",
     "output_type": "stream",
     "text": [
      "Полная сводная таблица\n"
     ]
    },
    {
     "data": {
      "text/html": [
       "<div>\n",
       "<style scoped>\n",
       "    .dataframe tbody tr th:only-of-type {\n",
       "        vertical-align: middle;\n",
       "    }\n",
       "\n",
       "    .dataframe tbody tr th {\n",
       "        vertical-align: top;\n",
       "    }\n",
       "\n",
       "    .dataframe thead th {\n",
       "        text-align: right;\n",
       "    }\n",
       "</style>\n",
       "<table border=\"1\" class=\"dataframe\">\n",
       "  <thead>\n",
       "    <tr style=\"text-align: right;\">\n",
       "      <th></th>\n",
       "      <th>user_id</th>\n",
       "      <th>month</th>\n",
       "      <th>total_distance</th>\n",
       "      <th>total_duration</th>\n",
       "      <th>number_of_rides</th>\n",
       "      <th>minute_price</th>\n",
       "      <th>start_ride_price</th>\n",
       "      <th>subscription_fee</th>\n",
       "    </tr>\n",
       "  </thead>\n",
       "  <tbody>\n",
       "    <tr>\n",
       "      <th>0</th>\n",
       "      <td>1</td>\n",
       "      <td>1</td>\n",
       "      <td>7028</td>\n",
       "      <td>42</td>\n",
       "      <td>2</td>\n",
       "      <td>6.0</td>\n",
       "      <td>0.0</td>\n",
       "      <td>199.0</td>\n",
       "    </tr>\n",
       "    <tr>\n",
       "      <th>1</th>\n",
       "      <td>1</td>\n",
       "      <td>4</td>\n",
       "      <td>755</td>\n",
       "      <td>7</td>\n",
       "      <td>1</td>\n",
       "      <td>6.0</td>\n",
       "      <td>0.0</td>\n",
       "      <td>199.0</td>\n",
       "    </tr>\n",
       "    <tr>\n",
       "      <th>2</th>\n",
       "      <td>1</td>\n",
       "      <td>8</td>\n",
       "      <td>6724</td>\n",
       "      <td>45</td>\n",
       "      <td>2</td>\n",
       "      <td>6.0</td>\n",
       "      <td>0.0</td>\n",
       "      <td>199.0</td>\n",
       "    </tr>\n",
       "    <tr>\n",
       "      <th>3</th>\n",
       "      <td>1</td>\n",
       "      <td>10</td>\n",
       "      <td>5811</td>\n",
       "      <td>32</td>\n",
       "      <td>2</td>\n",
       "      <td>6.0</td>\n",
       "      <td>0.0</td>\n",
       "      <td>199.0</td>\n",
       "    </tr>\n",
       "    <tr>\n",
       "      <th>4</th>\n",
       "      <td>1</td>\n",
       "      <td>11</td>\n",
       "      <td>7005</td>\n",
       "      <td>54</td>\n",
       "      <td>3</td>\n",
       "      <td>6.0</td>\n",
       "      <td>0.0</td>\n",
       "      <td>199.0</td>\n",
       "    </tr>\n",
       "    <tr>\n",
       "      <th>...</th>\n",
       "      <td>...</td>\n",
       "      <td>...</td>\n",
       "      <td>...</td>\n",
       "      <td>...</td>\n",
       "      <td>...</td>\n",
       "      <td>...</td>\n",
       "      <td>...</td>\n",
       "      <td>...</td>\n",
       "    </tr>\n",
       "    <tr>\n",
       "      <th>11326</th>\n",
       "      <td>1534</td>\n",
       "      <td>6</td>\n",
       "      <td>3411</td>\n",
       "      <td>25</td>\n",
       "      <td>2</td>\n",
       "      <td>8.0</td>\n",
       "      <td>50.0</td>\n",
       "      <td>0.0</td>\n",
       "    </tr>\n",
       "    <tr>\n",
       "      <th>11327</th>\n",
       "      <td>1534</td>\n",
       "      <td>8</td>\n",
       "      <td>7623</td>\n",
       "      <td>48</td>\n",
       "      <td>2</td>\n",
       "      <td>8.0</td>\n",
       "      <td>50.0</td>\n",
       "      <td>0.0</td>\n",
       "    </tr>\n",
       "    <tr>\n",
       "      <th>11328</th>\n",
       "      <td>1534</td>\n",
       "      <td>9</td>\n",
       "      <td>4929</td>\n",
       "      <td>23</td>\n",
       "      <td>1</td>\n",
       "      <td>8.0</td>\n",
       "      <td>50.0</td>\n",
       "      <td>0.0</td>\n",
       "    </tr>\n",
       "    <tr>\n",
       "      <th>11329</th>\n",
       "      <td>1534</td>\n",
       "      <td>11</td>\n",
       "      <td>13353</td>\n",
       "      <td>77</td>\n",
       "      <td>4</td>\n",
       "      <td>8.0</td>\n",
       "      <td>50.0</td>\n",
       "      <td>0.0</td>\n",
       "    </tr>\n",
       "    <tr>\n",
       "      <th>11330</th>\n",
       "      <td>1534</td>\n",
       "      <td>12</td>\n",
       "      <td>2372</td>\n",
       "      <td>16</td>\n",
       "      <td>1</td>\n",
       "      <td>8.0</td>\n",
       "      <td>50.0</td>\n",
       "      <td>0.0</td>\n",
       "    </tr>\n",
       "  </tbody>\n",
       "</table>\n",
       "<p>11331 rows × 8 columns</p>\n",
       "</div>"
      ],
      "text/plain": [
       "       user_id  month  total_distance  total_duration  number_of_rides  \\\n",
       "0            1      1            7028              42                2   \n",
       "1            1      4             755               7                1   \n",
       "2            1      8            6724              45                2   \n",
       "3            1     10            5811              32                2   \n",
       "4            1     11            7005              54                3   \n",
       "...        ...    ...             ...             ...              ...   \n",
       "11326     1534      6            3411              25                2   \n",
       "11327     1534      8            7623              48                2   \n",
       "11328     1534      9            4929              23                1   \n",
       "11329     1534     11           13353              77                4   \n",
       "11330     1534     12            2372              16                1   \n",
       "\n",
       "       minute_price  start_ride_price  subscription_fee  \n",
       "0               6.0               0.0             199.0  \n",
       "1               6.0               0.0             199.0  \n",
       "2               6.0               0.0             199.0  \n",
       "3               6.0               0.0             199.0  \n",
       "4               6.0               0.0             199.0  \n",
       "...             ...               ...               ...  \n",
       "11326           8.0              50.0               0.0  \n",
       "11327           8.0              50.0               0.0  \n",
       "11328           8.0              50.0               0.0  \n",
       "11329           8.0              50.0               0.0  \n",
       "11330           8.0              50.0               0.0  \n",
       "\n",
       "[11331 rows x 8 columns]"
      ]
     },
     "metadata": {},
     "output_type": "display_data"
    }
   ],
   "source": [
    "# Создадим сводную таблицу\n",
    "result_agg = df.pivot_table(\n",
    "    index=['user_id', 'month'],\n",
    "    values=['start_ride_price', 'minute_price', 'subscription_fee'],\n",
    ")\n",
    "\n",
    "result_agg = result_agg.reset_index()\n",
    "\n",
    "print('До объединения')\n",
    "display(result_agg.head())\n",
    "\n",
    "result_agg = total_agg.merge(result_agg, on=['user_id', 'month'])\n",
    "print('Полная сводная таблица')\n",
    "display(result_agg)"
   ]
  },
  {
   "cell_type": "code",
   "execution_count": 37,
   "id": "15a87dd5",
   "metadata": {},
   "outputs": [
    {
     "data": {
      "text/plain": [
       "user_id             0\n",
       "month               0\n",
       "total_distance      0\n",
       "total_duration      0\n",
       "number_of_rides     0\n",
       "minute_price        0\n",
       "start_ride_price    0\n",
       "subscription_fee    0\n",
       "dtype: int64"
      ]
     },
     "execution_count": 37,
     "metadata": {},
     "output_type": "execute_result"
    }
   ],
   "source": [
    "# Определим количество пропущенных значений в каждом столбце\n",
    "result_agg.isna().sum()"
   ]
  },
  {
   "cell_type": "code",
   "execution_count": 38,
   "id": "54c907c9",
   "metadata": {},
   "outputs": [
    {
     "data": {
      "text/html": [
       "<div>\n",
       "<style scoped>\n",
       "    .dataframe tbody tr th:only-of-type {\n",
       "        vertical-align: middle;\n",
       "    }\n",
       "\n",
       "    .dataframe tbody tr th {\n",
       "        vertical-align: top;\n",
       "    }\n",
       "\n",
       "    .dataframe thead th {\n",
       "        text-align: right;\n",
       "    }\n",
       "</style>\n",
       "<table border=\"1\" class=\"dataframe\">\n",
       "  <thead>\n",
       "    <tr style=\"text-align: right;\">\n",
       "      <th></th>\n",
       "      <th>user_id</th>\n",
       "      <th>month</th>\n",
       "      <th>total_distance</th>\n",
       "      <th>total_duration</th>\n",
       "      <th>number_of_rides</th>\n",
       "      <th>minute_price</th>\n",
       "      <th>start_ride_price</th>\n",
       "      <th>subscription_fee</th>\n",
       "      <th>profit</th>\n",
       "    </tr>\n",
       "  </thead>\n",
       "  <tbody>\n",
       "    <tr>\n",
       "      <th>0</th>\n",
       "      <td>1</td>\n",
       "      <td>1</td>\n",
       "      <td>7028</td>\n",
       "      <td>42</td>\n",
       "      <td>2</td>\n",
       "      <td>6.0</td>\n",
       "      <td>0.0</td>\n",
       "      <td>199.0</td>\n",
       "      <td>451.0</td>\n",
       "    </tr>\n",
       "    <tr>\n",
       "      <th>1</th>\n",
       "      <td>1</td>\n",
       "      <td>4</td>\n",
       "      <td>755</td>\n",
       "      <td>7</td>\n",
       "      <td>1</td>\n",
       "      <td>6.0</td>\n",
       "      <td>0.0</td>\n",
       "      <td>199.0</td>\n",
       "      <td>241.0</td>\n",
       "    </tr>\n",
       "    <tr>\n",
       "      <th>2</th>\n",
       "      <td>1</td>\n",
       "      <td>8</td>\n",
       "      <td>6724</td>\n",
       "      <td>45</td>\n",
       "      <td>2</td>\n",
       "      <td>6.0</td>\n",
       "      <td>0.0</td>\n",
       "      <td>199.0</td>\n",
       "      <td>469.0</td>\n",
       "    </tr>\n",
       "    <tr>\n",
       "      <th>3</th>\n",
       "      <td>1</td>\n",
       "      <td>10</td>\n",
       "      <td>5811</td>\n",
       "      <td>32</td>\n",
       "      <td>2</td>\n",
       "      <td>6.0</td>\n",
       "      <td>0.0</td>\n",
       "      <td>199.0</td>\n",
       "      <td>391.0</td>\n",
       "    </tr>\n",
       "    <tr>\n",
       "      <th>4</th>\n",
       "      <td>1</td>\n",
       "      <td>11</td>\n",
       "      <td>7005</td>\n",
       "      <td>54</td>\n",
       "      <td>3</td>\n",
       "      <td>6.0</td>\n",
       "      <td>0.0</td>\n",
       "      <td>199.0</td>\n",
       "      <td>523.0</td>\n",
       "    </tr>\n",
       "    <tr>\n",
       "      <th>5</th>\n",
       "      <td>1</td>\n",
       "      <td>12</td>\n",
       "      <td>6753</td>\n",
       "      <td>28</td>\n",
       "      <td>2</td>\n",
       "      <td>6.0</td>\n",
       "      <td>0.0</td>\n",
       "      <td>199.0</td>\n",
       "      <td>367.0</td>\n",
       "    </tr>\n",
       "    <tr>\n",
       "      <th>6</th>\n",
       "      <td>2</td>\n",
       "      <td>3</td>\n",
       "      <td>10190</td>\n",
       "      <td>61</td>\n",
       "      <td>3</td>\n",
       "      <td>6.0</td>\n",
       "      <td>0.0</td>\n",
       "      <td>199.0</td>\n",
       "      <td>565.0</td>\n",
       "    </tr>\n",
       "    <tr>\n",
       "      <th>7</th>\n",
       "      <td>2</td>\n",
       "      <td>4</td>\n",
       "      <td>6165</td>\n",
       "      <td>40</td>\n",
       "      <td>2</td>\n",
       "      <td>6.0</td>\n",
       "      <td>0.0</td>\n",
       "      <td>199.0</td>\n",
       "      <td>439.0</td>\n",
       "    </tr>\n",
       "    <tr>\n",
       "      <th>8</th>\n",
       "      <td>2</td>\n",
       "      <td>6</td>\n",
       "      <td>3256</td>\n",
       "      <td>14</td>\n",
       "      <td>1</td>\n",
       "      <td>6.0</td>\n",
       "      <td>0.0</td>\n",
       "      <td>199.0</td>\n",
       "      <td>283.0</td>\n",
       "    </tr>\n",
       "    <tr>\n",
       "      <th>9</th>\n",
       "      <td>2</td>\n",
       "      <td>7</td>\n",
       "      <td>6781</td>\n",
       "      <td>47</td>\n",
       "      <td>2</td>\n",
       "      <td>6.0</td>\n",
       "      <td>0.0</td>\n",
       "      <td>199.0</td>\n",
       "      <td>481.0</td>\n",
       "    </tr>\n",
       "  </tbody>\n",
       "</table>\n",
       "</div>"
      ],
      "text/plain": [
       "   user_id  month  total_distance  total_duration  number_of_rides  \\\n",
       "0        1      1            7028              42                2   \n",
       "1        1      4             755               7                1   \n",
       "2        1      8            6724              45                2   \n",
       "3        1     10            5811              32                2   \n",
       "4        1     11            7005              54                3   \n",
       "5        1     12            6753              28                2   \n",
       "6        2      3           10190              61                3   \n",
       "7        2      4            6165              40                2   \n",
       "8        2      6            3256              14                1   \n",
       "9        2      7            6781              47                2   \n",
       "\n",
       "   minute_price  start_ride_price  subscription_fee  profit  \n",
       "0           6.0               0.0             199.0   451.0  \n",
       "1           6.0               0.0             199.0   241.0  \n",
       "2           6.0               0.0             199.0   469.0  \n",
       "3           6.0               0.0             199.0   391.0  \n",
       "4           6.0               0.0             199.0   523.0  \n",
       "5           6.0               0.0             199.0   367.0  \n",
       "6           6.0               0.0             199.0   565.0  \n",
       "7           6.0               0.0             199.0   439.0  \n",
       "8           6.0               0.0             199.0   283.0  \n",
       "9           6.0               0.0             199.0   481.0  "
      ]
     },
     "execution_count": 38,
     "metadata": {},
     "output_type": "execute_result"
    }
   ],
   "source": [
    "# Помесячная выручка считается по формуле: start_ride_price × number_of_rides + minute_price × total_duration + subscription_fee\n",
    "\n",
    "result_agg['profit'] = (result_agg['start_ride_price'] * result_agg['number_of_rides'] +\n",
    "                      result_agg['minute_price'] * result_agg['total_duration'] +\n",
    "                      result_agg['subscription_fee']\n",
    "                     )\n",
    "\n",
    "result_agg.head(10)"
   ]
  },
  {
   "cell_type": "markdown",
   "id": "d90e0054",
   "metadata": {},
   "source": [
    "Получили столбец `profit`, который содержит рассчитанную прибыль для каждого пользователя за месяц. Формула учитывает все доходы от числа поездок, времени в поездках и наличия подписки"
   ]
  },
  {
   "cell_type": "markdown",
   "id": "41545ac0",
   "metadata": {},
   "source": [
    "## Проверка гипотез"
   ]
  },
  {
   "cell_type": "markdown",
   "id": "366a13c0",
   "metadata": {},
   "source": [
    "**Задача, увеличить количество пользователей, для этого проверим гипотезы.**"
   ]
  },
  {
   "cell_type": "markdown",
   "id": "220ce1c0",
   "metadata": {},
   "source": [
    "### Тратят ли пользователи с подпиской больше времени на поездки?"
   ]
  },
  {
   "cell_type": "markdown",
   "id": "4edeb90c",
   "metadata": {},
   "source": [
    "Определим нулевую и альтернативную гипотезу:\n",
    "\n",
    " - H0: *Среднее время, проводимое в поездках пользователями с подпиской, равно среднему времени, проводимому пользователями без подписки*\n",
    " - H1: *Среднее время, проводимое в поездках пользователями с подпиской, больше среднего времени, проводимого пользователями без подписки*\n",
    " \n",
    "H0 = H1\n",
    "<br>H1 > H0\n",
    "\n",
    "Для проверки равенства средних двух генеральных совокупностей используем метод `scipy.stats.ttest_ind`. Так же используем парметр `alternative='greater'`\n",
    "\n",
    "Поскольку нет оснований полагать, что дисперсии генеральных совокупностей различны `(equal_var=Tue)`, и благодаря ЦПТ можно считать, что совокупности нормально распределены"
   ]
  },
  {
   "cell_type": "code",
   "execution_count": 39,
   "id": "3745dcf6",
   "metadata": {},
   "outputs": [
    {
     "name": "stdout",
     "output_type": "stream",
     "text": [
      "p-значение: 1.2804098316645613e-34\n",
      "Отвергаем нулевую гипотезу\n"
     ]
    }
   ],
   "source": [
    "# Определеим генеральные совокупности\n",
    "df_subs_ttest = df_subs['duration']\n",
    "df_unsubs_ttest = df_unsubs['duration']\n",
    "\n",
    "alpha = 0.05 # уровень статистической значимости\n",
    "\n",
    "results = st.ttest_ind(df_subs_ttest, df_unsubs_ttest, alternative='greater')\n",
    "\n",
    "print('p-значение:', results.pvalue)\n",
    "\n",
    "if results.pvalue < alpha:\n",
    "    print('Отвергаем нулевую гипотезу')\n",
    "else:\n",
    "    print('Не получилось отвергнуть нулевую гипотезу')"
   ]
  },
  {
   "cell_type": "markdown",
   "id": "6ea5ef06",
   "metadata": {},
   "source": [
    "Вывод:\n",
    "\n",
    "Результаты проверки гипотезы показывают, что p-значение значительно меньше уровня значимости alpha = 0,05. Это позволяет отвергнуть нулевую гипотезу.\n",
    "\n",
    "Таким образом, можно сделать вывод, что среднее время, проводимое в поездках пользователями с подпиской, статистически значимо больше, чем у пользователей без подписки. Это подтверждает, что пользователи с подпиской могут быть более \"выгодными\" для компании, так как они тратят больше времени на поездки"
   ]
  },
  {
   "cell_type": "markdown",
   "id": "5775641f",
   "metadata": {},
   "source": [
    "Расстояние одной поездки в 3130 метров — оптимальное с точки зрения износа самоката. Можно ли сказать, что среднее расстояние, которое проезжают пользователи с подпиской за одну поездку, не превышает 3130 метров?"
   ]
  },
  {
   "cell_type": "markdown",
   "id": "304d43d2-e88e-4874-a8c4-85dbbf07703e",
   "metadata": {},
   "source": [
    "### Какое расстояние проезжают пользователи с подпиской за одну поездку?"
   ]
  },
  {
   "cell_type": "markdown",
   "id": "efc4b911",
   "metadata": {},
   "source": [
    "Определим нулевую и альтернативную гипотезу:\n",
    "\n",
    " - H0: *Среднее расстояние, которое проезжают пользователи с подпиской за одну поездку, равно 3130 метров*\n",
    " - H1: *Среднее расстояние, которое проезжают пользователи с подпиской за одну поездку, больше 3130 метров*\n",
    " \n",
    "H0 = 3130\n",
    "<br>H1 > H0\n",
    "\n",
    "Какая гипотеза проверяется? - О равенстве среднего генеральной совокупности числу\n",
    "\n",
    "Для проверки гипотезы используем метод `scipy.stats.ttest_1samp`. Так же используем парметр `alternative='less'`"
   ]
  },
  {
   "cell_type": "code",
   "execution_count": 40,
   "id": "c8ff9dc5",
   "metadata": {},
   "outputs": [
    {
     "name": "stdout",
     "output_type": "stream",
     "text": [
      "p-значение: 0.9195368847849785\n",
      "Не получилось отвергнуть нулевую гипотезу\n"
     ]
    }
   ],
   "source": [
    "df_subs_mean = df_subs['distance']\n",
    "value = 3130\n",
    "\n",
    "alpha = 0.05 # уровень статистической значимости\n",
    "\n",
    "results = st.ttest_1samp(df_subs_mean, value, alternative = 'greater')\n",
    "\n",
    "print('p-значение:', results.pvalue)\n",
    "\n",
    "if results.pvalue < alpha:\n",
    "    print('Отвергаем нулевую гипотезу')\n",
    "else:\n",
    "    print('Не получилось отвергнуть нулевую гипотезу')"
   ]
  },
  {
   "cell_type": "markdown",
   "id": "7f8dd17d",
   "metadata": {},
   "source": [
    "Вывод:\n",
    "\n",
    "Результаты проверки гипотезы показывают, что p-значение 0.919 больше уровня значимости α=0,05. Это означает, что не получилось отвергнуть нулевую гипотезу.\n",
    "\n",
    "Таким образом, на основании данных нельзя сделать вывод о том, что среднее расстояние, которое проезжают пользователи с подпиской за одну поездку, меньше 3130 метров. Следовательно, можно считать, что среднее расстояние поездок пользователей с подпиской не превышает или равно 3130 метров"
   ]
  },
  {
   "cell_type": "markdown",
   "id": "21808d03-d7d8-4f8f-b0dd-c266ab7c6e6c",
   "metadata": {},
   "source": [
    "### Будет ли выручка от пользователей с подпиской больше, чем от обычных пользователей?"
   ]
  },
  {
   "cell_type": "markdown",
   "id": "583c8fcb",
   "metadata": {},
   "source": [
    "Определим нулевую и альтернативную гипотезу:\n",
    "\n",
    " - H0: *Помесячная выручка от пользователей с подпиской не выше, чем выручка от пользователей без подписки.*\n",
    " - H1: *Помесячная выручка от пользователей с подпиской выше, чем выручка от пользователей без подписки.*\n",
    " \n",
    "H0 < H1\n",
    "<br>H1 > H0\n",
    "\n",
    "Какая гипотеза проверяется? - О равенстве средних двух генеральных совокупностей.\n",
    "\n",
    "Для проверки равенства средних двух генеральных совокупностей используем метод `scipy.stats.ttest_ind`. Так же используем парметр `alternative='greater'`\n",
    "\n",
    "Поскольку нет оснований полагать, что дисперсии генеральных совокупностей различны `(equal_var=Tue)`, и благодаря ЦПТ можно считать, что совокупности нормально распределены"
   ]
  },
  {
   "cell_type": "code",
   "execution_count": 41,
   "id": "fb89408c",
   "metadata": {},
   "outputs": [
    {
     "name": "stdout",
     "output_type": "stream",
     "text": [
      "p-значение: 2.8130926188487286e-35\n",
      "Отвергаем нулевую гипотезу\n"
     ]
    }
   ],
   "source": [
    "subs_profit = result_agg.query('subscription_fee == 199')['profit']  # выручка пользователей с подпиской\n",
    "unsubs_profit = result_agg.query('subscription_fee == 0')['profit']  # выручка пользователей без подписки\n",
    "\n",
    "alpha = 0.05 # уровень статистической значимости\n",
    "\n",
    "results = st.ttest_ind(subs_profit, unsubs_profit, alternative='greater')\n",
    "\n",
    "print('p-значение:', results.pvalue)\n",
    "\n",
    "if results.pvalue < alpha:\n",
    "    print('Отвергаем нулевую гипотезу')\n",
    "else:\n",
    "    print('Не получилось отвергнуть нулевую гипотезу')"
   ]
  },
  {
   "cell_type": "markdown",
   "id": "79e5d7f0",
   "metadata": {},
   "source": [
    "Вывод:\n",
    "\n",
    "Результаты проверки гипотезы показывают, что p-значение значительно меньше уровня значимости alpha = 0,05. Это позволяет отвергнуть нулевую гипотезу.\n",
    "\n",
    "Таким образом, можно сделать вывод, что помесячная выручка от пользователей с подпиской статистически значимо выше, чем выручка от пользователей без подписки. Это свидетельствует о том, что подписчики приносят больше дохода компании по сравнению с пользователями без подписки"
   ]
  },
  {
   "cell_type": "markdown",
   "id": "94af3061",
   "metadata": {},
   "source": [
    "**Промежуточный итог по данным сервиса:**\n",
    "\n",
    "- **Время поездок**: Среднее время, проводимое в поездках пользователями с подпиской, статистически значимо больше, чем у пользователей без подписки. Это указывает на то, что подписчики могут быть более выгодны для компании, так как тратят больше времени на поездки;\n",
    "\n",
    "- **Расстояние поездок**: На основании данных нельзя сделать вывод о том, что среднее расстояние поездок пользователей с подпиской меньше 3130 метров. Следовательно, можно считать, что среднее расстояние не превышает этого значения;\n",
    "\n",
    "- **Помесячная выручка**: Помесячная выручка от пользователей с подпиской статистически значимо выше, чем выручка от пользователей без подписки, что свидетельствует о том, что подписчики приносят больше дохода компании;\n",
    "\n",
    "- В целом пользователи с подпиской приносят больше дохода компании, делая их ценным для бизнеса"
   ]
  },
  {
   "cell_type": "markdown",
   "id": "91f90229",
   "metadata": {},
   "source": [
    "## Вывод\n",
    "\n",
    "Исследование сервиса аренды самокатов GoFast проведено с целью анализа данных о пользователях и их поездках для повышения выручки и оптимизации бизнес-процессов. В проекте были выполнены следующие основные шаги:\n",
    "\n",
    "##### Предобработка данных:\n",
    "1. **Обработка пропусков и аномалий**:\n",
    "   - Все данные были проверены на наличие пропусков, а также на аномалии и дубликаты, которые были обработаны для получения корректного датафрейма.\n",
    "   \n",
    "2. **Изменение типов данных**:\n",
    "   - Типы данных были преобразованы для дальнейшего анализа, в том числе формат времени был изменен на тип `datetime`, а числовые значения округлены для удобства.\n",
    "\n",
    "##### Исследовательский анализ данных:\n",
    "1. **Города и подписки**:\n",
    "   - Наибольшее количество пользователей из Пятигорска, а пользователей без подписки оказалось больше на 8,8%, чем с подпиской.\n",
    "   \n",
    "2. **Возраст пользователей**:\n",
    "   - Наиболее популярная возрастная группа — 25 лет, что указывает на активное использование сервиса среди молодежи.\n",
    "\n",
    "3. **Анализ поездок**:\n",
    "   - Основная часть поездок занимает от 2500 до 3800 метров. Медиана 3133 метра. Поездки на расстояние более 5 км редки. Однако на гистограмме видно, что некоторая часть пользователей использует самокаты для коротких поездок - до 1500 м. Продолжительность поездки — от 0,5 до 41 минуты. Пользователи с подпиской преодолевают более длинные дистанции и проводят больше времени в поездках.\n",
    "\n",
    "##### Проверка гипотез:\n",
    "1. **Траты времени на поездки**:\n",
    "   - Было доказано, что пользователи с подпиской тратят больше времени на поездки, чем пользователи без подписки. Это указывает на важность подписок для увеличения общей выручки.\n",
    "\n",
    "2. **Оптимальное расстояние поездок**:\n",
    "   - Не удалось доказать, что среднее расстояние поездок пользователей с подпиской меньше 3130 метров, что свидетельствует о стабильности среднего расстояния.\n",
    "\n",
    "3. **Выручка от подписок**:\n",
    "   - Выручка от пользователей с подпиской оказалась статистически значимо выше, чем у пользователей без подписки, что подтверждает финансовую выгоду подписной модели для бизнеса.\n",
    "\n",
    "##### Заключение:\n",
    "Результаты исследования показали, что пользователи с подпиской более активны и приносят больше выручки, чем пользователи без подписки. Это позволяет сервису сосредоточиться на привлечении и удержании подписчиков для дальнейшего роста."
   ]
  }
 ],
 "metadata": {
  "ExecuteTimeLog": [
   {
    "duration": 4,
    "start_time": "2024-09-13T19:19:05.334Z"
   },
   {
    "duration": 2,
    "start_time": "2024-09-13T19:19:35.152Z"
   },
   {
    "duration": 2,
    "start_time": "2024-09-13T19:20:03.309Z"
   },
   {
    "duration": 854,
    "start_time": "2024-09-13T19:20:33.460Z"
   },
   {
    "duration": 109,
    "start_time": "2024-09-13T19:23:47.389Z"
   },
   {
    "duration": 179,
    "start_time": "2024-09-13T19:23:47.697Z"
   },
   {
    "duration": 72,
    "start_time": "2024-09-13T19:23:47.968Z"
   },
   {
    "duration": 778,
    "start_time": "2024-09-13T21:32:50.516Z"
   },
   {
    "duration": 111,
    "start_time": "2024-09-13T21:32:51.947Z"
   },
   {
    "duration": 175,
    "start_time": "2024-09-13T21:32:52.776Z"
   },
   {
    "duration": 88,
    "start_time": "2024-09-13T21:32:56.904Z"
   },
   {
    "duration": 44,
    "start_time": "2024-09-14T00:27:06.769Z"
   },
   {
    "duration": 844,
    "start_time": "2024-09-14T00:27:12.499Z"
   },
   {
    "duration": 76,
    "start_time": "2024-09-14T00:27:13.345Z"
   },
   {
    "duration": 147,
    "start_time": "2024-09-14T00:27:13.422Z"
   },
   {
    "duration": 69,
    "start_time": "2024-09-14T00:27:13.571Z"
   },
   {
    "duration": 38,
    "start_time": "2024-09-14T00:27:16.322Z"
   },
   {
    "duration": 38,
    "start_time": "2024-09-14T00:27:48.476Z"
   },
   {
    "duration": 8,
    "start_time": "2024-09-14T00:27:58.315Z"
   },
   {
    "duration": 35,
    "start_time": "2024-09-14T00:28:38.460Z"
   },
   {
    "duration": 32,
    "start_time": "2024-09-14T00:28:52.400Z"
   },
   {
    "duration": 27,
    "start_time": "2024-09-14T00:29:07.088Z"
   },
   {
    "duration": 40,
    "start_time": "2024-09-14T10:39:34.854Z"
   },
   {
    "duration": 775,
    "start_time": "2024-09-14T10:39:45.947Z"
   },
   {
    "duration": 119,
    "start_time": "2024-09-14T10:39:46.726Z"
   },
   {
    "duration": 204,
    "start_time": "2024-09-14T10:39:46.847Z"
   },
   {
    "duration": 85,
    "start_time": "2024-09-14T10:39:47.053Z"
   },
   {
    "duration": 36,
    "start_time": "2024-09-14T10:39:47.140Z"
   },
   {
    "duration": 34,
    "start_time": "2024-09-14T10:39:49.890Z"
   },
   {
    "duration": 26,
    "start_time": "2024-09-14T10:40:03.068Z"
   },
   {
    "duration": 25,
    "start_time": "2024-09-14T10:40:17.503Z"
   },
   {
    "duration": 11,
    "start_time": "2024-09-14T10:40:23.093Z"
   },
   {
    "duration": 10,
    "start_time": "2024-09-14T10:40:36.494Z"
   },
   {
    "duration": 10,
    "start_time": "2024-09-14T10:40:44.609Z"
   },
   {
    "duration": 14,
    "start_time": "2024-09-14T10:41:26.411Z"
   },
   {
    "duration": 10,
    "start_time": "2024-09-14T10:41:37.321Z"
   },
   {
    "duration": 77,
    "start_time": "2024-09-14T10:47:18.147Z"
   },
   {
    "duration": 30,
    "start_time": "2024-09-14T10:47:38.000Z"
   },
   {
    "duration": 33,
    "start_time": "2024-09-14T10:48:01.560Z"
   },
   {
    "duration": 12,
    "start_time": "2024-09-14T11:15:49.045Z"
   },
   {
    "duration": 25,
    "start_time": "2024-09-14T11:23:31.225Z"
   },
   {
    "duration": 13,
    "start_time": "2024-09-14T11:23:39.205Z"
   },
   {
    "duration": 8,
    "start_time": "2024-09-14T11:26:24.626Z"
   },
   {
    "duration": 18,
    "start_time": "2024-09-14T11:37:30.399Z"
   },
   {
    "duration": 15,
    "start_time": "2024-09-14T11:38:10.751Z"
   },
   {
    "duration": 25,
    "start_time": "2024-09-14T11:39:16.847Z"
   },
   {
    "duration": 27,
    "start_time": "2024-09-14T11:39:24.338Z"
   },
   {
    "duration": 54,
    "start_time": "2024-09-14T11:54:55.667Z"
   },
   {
    "duration": 11,
    "start_time": "2024-09-14T11:55:01.152Z"
   },
   {
    "duration": 11,
    "start_time": "2024-09-14T11:58:12.821Z"
   },
   {
    "duration": 5,
    "start_time": "2024-09-14T11:58:46.312Z"
   },
   {
    "duration": 11,
    "start_time": "2024-09-14T11:59:15.210Z"
   },
   {
    "duration": 11,
    "start_time": "2024-09-14T11:59:48.022Z"
   },
   {
    "duration": 60,
    "start_time": "2024-09-14T12:08:37.574Z"
   },
   {
    "duration": 13,
    "start_time": "2024-09-14T12:09:21.590Z"
   },
   {
    "duration": 18,
    "start_time": "2024-09-14T12:09:27.545Z"
   },
   {
    "duration": 186,
    "start_time": "2024-09-14T12:09:40.396Z"
   },
   {
    "duration": 14,
    "start_time": "2024-09-14T12:10:08.582Z"
   },
   {
    "duration": 912,
    "start_time": "2024-09-14T12:14:55.623Z"
   },
   {
    "duration": 436,
    "start_time": "2024-09-14T12:15:33.971Z"
   },
   {
    "duration": 205,
    "start_time": "2024-09-14T12:15:41.334Z"
   },
   {
    "duration": 219,
    "start_time": "2024-09-14T12:15:56.742Z"
   },
   {
    "duration": 215,
    "start_time": "2024-09-14T12:16:04.757Z"
   },
   {
    "duration": 204,
    "start_time": "2024-09-14T12:16:10.781Z"
   },
   {
    "duration": 265,
    "start_time": "2024-09-14T12:16:14.610Z"
   },
   {
    "duration": 418,
    "start_time": "2024-09-14T12:16:56.307Z"
   },
   {
    "duration": 599,
    "start_time": "2024-09-14T12:17:14.106Z"
   },
   {
    "duration": 8,
    "start_time": "2024-09-14T12:19:25.388Z"
   },
   {
    "duration": 633,
    "start_time": "2024-09-14T13:11:36.435Z"
   },
   {
    "duration": 34,
    "start_time": "2024-09-14T13:11:37.070Z"
   },
   {
    "duration": 31,
    "start_time": "2024-09-14T13:11:37.105Z"
   },
   {
    "duration": 18,
    "start_time": "2024-09-14T13:11:37.137Z"
   },
   {
    "duration": 34,
    "start_time": "2024-09-14T13:11:37.157Z"
   },
   {
    "duration": 10,
    "start_time": "2024-09-14T13:11:37.192Z"
   },
   {
    "duration": 26,
    "start_time": "2024-09-14T13:11:37.203Z"
   },
   {
    "duration": 10,
    "start_time": "2024-09-14T13:11:37.230Z"
   },
   {
    "duration": 263,
    "start_time": "2024-09-14T13:11:37.241Z"
   },
   {
    "duration": 381,
    "start_time": "2024-09-14T13:11:37.506Z"
   },
   {
    "duration": 12,
    "start_time": "2024-09-14T13:11:37.888Z"
   },
   {
    "duration": 25,
    "start_time": "2024-09-14T13:11:37.902Z"
   },
   {
    "duration": 11,
    "start_time": "2024-09-14T13:11:37.928Z"
   },
   {
    "duration": 9,
    "start_time": "2024-09-14T13:11:41.342Z"
   },
   {
    "duration": 60,
    "start_time": "2024-09-14T13:44:38.424Z"
   },
   {
    "duration": 64,
    "start_time": "2024-09-14T13:45:21.715Z"
   },
   {
    "duration": 4,
    "start_time": "2024-09-14T13:45:46.908Z"
   },
   {
    "duration": 248,
    "start_time": "2024-09-14T13:46:47.493Z"
   },
   {
    "duration": 7,
    "start_time": "2024-09-14T23:08:30.611Z"
   },
   {
    "duration": 64,
    "start_time": "2024-09-14T23:08:56.883Z"
   },
   {
    "duration": 3,
    "start_time": "2024-09-14T23:09:08.406Z"
   },
   {
    "duration": 61,
    "start_time": "2024-09-14T23:10:28.770Z"
   },
   {
    "duration": 64,
    "start_time": "2024-09-14T23:10:36.658Z"
   },
   {
    "duration": 3,
    "start_time": "2024-09-14T23:10:47.260Z"
   },
   {
    "duration": 3,
    "start_time": "2024-09-14T23:10:53.984Z"
   },
   {
    "duration": 5,
    "start_time": "2024-09-14T23:16:53.837Z"
   },
   {
    "duration": 8,
    "start_time": "2024-09-14T23:17:43.971Z"
   },
   {
    "duration": 73,
    "start_time": "2024-09-14T23:24:01.965Z"
   },
   {
    "duration": 11,
    "start_time": "2024-09-15T11:33:41.271Z"
   },
   {
    "duration": 6,
    "start_time": "2024-09-15T11:34:11.406Z"
   },
   {
    "duration": 6,
    "start_time": "2024-09-15T11:37:38.176Z"
   },
   {
    "duration": 5,
    "start_time": "2024-09-15T11:52:47.801Z"
   },
   {
    "duration": 9,
    "start_time": "2024-09-15T11:53:14.796Z"
   },
   {
    "duration": 68,
    "start_time": "2024-09-15T11:53:36.694Z"
   },
   {
    "duration": 4,
    "start_time": "2024-09-15T12:01:10.884Z"
   },
   {
    "duration": 4,
    "start_time": "2024-09-15T12:01:26.926Z"
   },
   {
    "duration": 141,
    "start_time": "2024-09-15T12:01:45.261Z"
   },
   {
    "duration": 81,
    "start_time": "2024-09-15T12:04:42.638Z"
   },
   {
    "duration": 74,
    "start_time": "2024-09-15T12:05:44.929Z"
   },
   {
    "duration": 95,
    "start_time": "2024-09-15T12:09:42.543Z"
   },
   {
    "duration": 7,
    "start_time": "2024-09-15T12:09:58.968Z"
   },
   {
    "duration": 84,
    "start_time": "2024-09-15T12:10:30.534Z"
   },
   {
    "duration": 85,
    "start_time": "2024-09-15T12:10:47.237Z"
   },
   {
    "duration": 81,
    "start_time": "2024-09-15T12:10:53.477Z"
   },
   {
    "duration": 60,
    "start_time": "2024-09-15T12:11:19.023Z"
   },
   {
    "duration": 93,
    "start_time": "2024-09-15T12:11:23.682Z"
   },
   {
    "duration": 118,
    "start_time": "2024-09-15T12:11:32.677Z"
   },
   {
    "duration": 109,
    "start_time": "2024-09-15T12:11:42.990Z"
   },
   {
    "duration": 92,
    "start_time": "2024-09-15T12:11:49.245Z"
   },
   {
    "duration": 84,
    "start_time": "2024-09-15T12:17:02.522Z"
   },
   {
    "duration": 87,
    "start_time": "2024-09-15T12:18:03.378Z"
   },
   {
    "duration": 84,
    "start_time": "2024-09-15T12:18:21.846Z"
   },
   {
    "duration": 120,
    "start_time": "2024-09-15T12:18:27.182Z"
   },
   {
    "duration": 119,
    "start_time": "2024-09-15T12:18:32.641Z"
   },
   {
    "duration": 85,
    "start_time": "2024-09-15T12:18:54.380Z"
   },
   {
    "duration": 85,
    "start_time": "2024-09-15T12:19:11.512Z"
   },
   {
    "duration": 6,
    "start_time": "2024-09-15T12:23:09.661Z"
   },
   {
    "duration": 217,
    "start_time": "2024-09-15T12:23:32.536Z"
   },
   {
    "duration": 275,
    "start_time": "2024-09-15T12:25:28.666Z"
   },
   {
    "duration": 264,
    "start_time": "2024-09-15T12:25:38.529Z"
   },
   {
    "duration": 259,
    "start_time": "2024-09-15T12:25:45.745Z"
   },
   {
    "duration": 142,
    "start_time": "2024-09-15T12:26:38.214Z"
   },
   {
    "duration": 145,
    "start_time": "2024-09-15T12:28:16.814Z"
   },
   {
    "duration": 268,
    "start_time": "2024-09-15T12:36:53.927Z"
   },
   {
    "duration": 273,
    "start_time": "2024-09-15T12:36:56.402Z"
   },
   {
    "duration": 289,
    "start_time": "2024-09-15T12:37:26.008Z"
   },
   {
    "duration": 271,
    "start_time": "2024-09-15T12:38:04.612Z"
   },
   {
    "duration": 759,
    "start_time": "2024-09-15T18:40:37.500Z"
   },
   {
    "duration": 86,
    "start_time": "2024-09-15T18:40:38.262Z"
   },
   {
    "duration": 158,
    "start_time": "2024-09-15T18:40:38.350Z"
   },
   {
    "duration": 69,
    "start_time": "2024-09-15T18:40:38.510Z"
   },
   {
    "duration": 36,
    "start_time": "2024-09-15T18:40:38.581Z"
   },
   {
    "duration": 11,
    "start_time": "2024-09-15T18:40:38.618Z"
   },
   {
    "duration": 12,
    "start_time": "2024-09-15T18:40:38.631Z"
   },
   {
    "duration": 13,
    "start_time": "2024-09-15T18:40:38.645Z"
   },
   {
    "duration": 269,
    "start_time": "2024-09-15T18:40:38.660Z"
   },
   {
    "duration": 418,
    "start_time": "2024-09-15T18:40:38.932Z"
   },
   {
    "duration": 10,
    "start_time": "2024-09-15T18:40:39.352Z"
   },
   {
    "duration": 4,
    "start_time": "2024-09-15T18:40:39.363Z"
   },
   {
    "duration": 296,
    "start_time": "2024-09-15T18:40:39.368Z"
   },
   {
    "duration": 11,
    "start_time": "2024-09-15T18:40:39.665Z"
   },
   {
    "duration": 16,
    "start_time": "2024-09-15T18:40:39.677Z"
   },
   {
    "duration": 11,
    "start_time": "2024-09-15T18:40:39.694Z"
   },
   {
    "duration": 3,
    "start_time": "2024-09-15T18:40:39.707Z"
   },
   {
    "duration": 10,
    "start_time": "2024-09-15T18:40:39.711Z"
   },
   {
    "duration": 32,
    "start_time": "2024-09-15T18:40:39.722Z"
   },
   {
    "duration": 5,
    "start_time": "2024-09-15T18:40:39.755Z"
   },
   {
    "duration": 124,
    "start_time": "2024-09-15T18:40:39.761Z"
   },
   {
    "duration": 287,
    "start_time": "2024-09-15T18:40:39.886Z"
   },
   {
    "duration": 182,
    "start_time": "2024-09-15T18:51:19.668Z"
   },
   {
    "duration": 267,
    "start_time": "2024-09-15T18:51:33.318Z"
   },
   {
    "duration": 231,
    "start_time": "2024-09-15T18:52:46.186Z"
   },
   {
    "duration": 59,
    "start_time": "2024-09-15T19:00:01.306Z"
   },
   {
    "duration": 290,
    "start_time": "2024-09-15T19:00:07.385Z"
   },
   {
    "duration": 215,
    "start_time": "2024-09-15T19:00:26.143Z"
   },
   {
    "duration": 634,
    "start_time": "2024-09-15T19:02:15.581Z"
   },
   {
    "duration": 29,
    "start_time": "2024-09-15T19:02:16.217Z"
   },
   {
    "duration": 31,
    "start_time": "2024-09-15T19:02:16.248Z"
   },
   {
    "duration": 16,
    "start_time": "2024-09-15T19:02:16.282Z"
   },
   {
    "duration": 36,
    "start_time": "2024-09-15T19:02:16.300Z"
   },
   {
    "duration": 27,
    "start_time": "2024-09-15T19:02:16.338Z"
   },
   {
    "duration": 16,
    "start_time": "2024-09-15T19:02:16.367Z"
   },
   {
    "duration": 10,
    "start_time": "2024-09-15T19:02:16.384Z"
   },
   {
    "duration": 289,
    "start_time": "2024-09-15T19:02:16.396Z"
   },
   {
    "duration": 406,
    "start_time": "2024-09-15T19:02:16.688Z"
   },
   {
    "duration": 9,
    "start_time": "2024-09-15T19:02:17.095Z"
   },
   {
    "duration": 4,
    "start_time": "2024-09-15T19:02:17.105Z"
   },
   {
    "duration": 324,
    "start_time": "2024-09-15T19:02:17.111Z"
   },
   {
    "duration": 22,
    "start_time": "2024-09-15T19:02:17.437Z"
   },
   {
    "duration": 12,
    "start_time": "2024-09-15T19:02:17.460Z"
   },
   {
    "duration": 12,
    "start_time": "2024-09-15T19:02:17.474Z"
   },
   {
    "duration": 4,
    "start_time": "2024-09-15T19:02:17.488Z"
   },
   {
    "duration": 11,
    "start_time": "2024-09-15T19:02:17.494Z"
   },
   {
    "duration": 17,
    "start_time": "2024-09-15T19:02:17.507Z"
   },
   {
    "duration": 81,
    "start_time": "2024-09-15T19:02:17.553Z"
   },
   {
    "duration": 108,
    "start_time": "2024-09-15T19:02:17.636Z"
   },
   {
    "duration": 299,
    "start_time": "2024-09-15T19:02:17.745Z"
   },
   {
    "duration": 238,
    "start_time": "2024-09-15T19:02:18.046Z"
   },
   {
    "duration": 231,
    "start_time": "2024-09-15T19:04:50.756Z"
   },
   {
    "duration": 223,
    "start_time": "2024-09-15T19:06:32.542Z"
   },
   {
    "duration": 69,
    "start_time": "2024-09-15T19:36:50.808Z"
   },
   {
    "duration": 5,
    "start_time": "2024-09-15T19:37:21.063Z"
   },
   {
    "duration": 38,
    "start_time": "2024-09-15T19:45:40.738Z"
   },
   {
    "duration": 59,
    "start_time": "2024-09-15T19:46:59.884Z"
   },
   {
    "duration": 26,
    "start_time": "2024-09-15T19:48:43.719Z"
   },
   {
    "duration": 18,
    "start_time": "2024-09-15T19:49:20.392Z"
   },
   {
    "duration": 17,
    "start_time": "2024-09-15T19:56:06.422Z"
   },
   {
    "duration": 16,
    "start_time": "2024-09-15T19:56:52.512Z"
   },
   {
    "duration": 618,
    "start_time": "2024-09-15T19:57:07.871Z"
   },
   {
    "duration": 30,
    "start_time": "2024-09-15T19:57:08.491Z"
   },
   {
    "duration": 29,
    "start_time": "2024-09-15T19:57:08.523Z"
   },
   {
    "duration": 15,
    "start_time": "2024-09-15T19:57:08.554Z"
   },
   {
    "duration": 40,
    "start_time": "2024-09-15T19:57:08.572Z"
   },
   {
    "duration": 19,
    "start_time": "2024-09-15T19:57:08.614Z"
   },
   {
    "duration": 11,
    "start_time": "2024-09-15T19:57:08.653Z"
   },
   {
    "duration": 9,
    "start_time": "2024-09-15T19:57:08.666Z"
   },
   {
    "duration": 287,
    "start_time": "2024-09-15T19:57:08.677Z"
   },
   {
    "duration": 390,
    "start_time": "2024-09-15T19:57:08.965Z"
   },
   {
    "duration": 9,
    "start_time": "2024-09-15T19:57:09.356Z"
   },
   {
    "duration": 4,
    "start_time": "2024-09-15T19:57:09.366Z"
   },
   {
    "duration": 277,
    "start_time": "2024-09-15T19:57:09.371Z"
   },
   {
    "duration": 10,
    "start_time": "2024-09-15T19:57:09.652Z"
   },
   {
    "duration": 11,
    "start_time": "2024-09-15T19:57:09.663Z"
   },
   {
    "duration": 11,
    "start_time": "2024-09-15T19:57:09.675Z"
   },
   {
    "duration": 4,
    "start_time": "2024-09-15T19:57:09.688Z"
   },
   {
    "duration": 5,
    "start_time": "2024-09-15T19:57:09.694Z"
   },
   {
    "duration": 14,
    "start_time": "2024-09-15T19:57:09.700Z"
   },
   {
    "duration": 38,
    "start_time": "2024-09-15T19:57:09.716Z"
   },
   {
    "duration": 103,
    "start_time": "2024-09-15T19:57:09.756Z"
   },
   {
    "duration": 298,
    "start_time": "2024-09-15T19:57:09.861Z"
   },
   {
    "duration": 236,
    "start_time": "2024-09-15T19:57:10.161Z"
   },
   {
    "duration": 232,
    "start_time": "2024-09-15T19:57:10.399Z"
   },
   {
    "duration": 39,
    "start_time": "2024-09-15T19:57:10.633Z"
   },
   {
    "duration": 18,
    "start_time": "2024-09-15T19:57:10.673Z"
   },
   {
    "duration": 15,
    "start_time": "2024-09-15T19:57:10.693Z"
   },
   {
    "duration": 479,
    "start_time": "2024-09-15T22:58:12.439Z"
   },
   {
    "duration": 558,
    "start_time": "2024-09-15T23:00:08.956Z"
   },
   {
    "duration": 463,
    "start_time": "2024-09-15T23:00:58.407Z"
   },
   {
    "duration": 466,
    "start_time": "2024-09-15T23:01:14.146Z"
   },
   {
    "duration": 449,
    "start_time": "2024-09-15T23:12:12.756Z"
   },
   {
    "duration": 467,
    "start_time": "2024-09-15T23:21:10.314Z"
   },
   {
    "duration": 11,
    "start_time": "2024-09-15T23:49:04.991Z"
   },
   {
    "duration": 649,
    "start_time": "2024-09-15T23:49:34.273Z"
   },
   {
    "duration": 30,
    "start_time": "2024-09-15T23:49:34.924Z"
   },
   {
    "duration": 31,
    "start_time": "2024-09-15T23:49:34.956Z"
   },
   {
    "duration": 15,
    "start_time": "2024-09-15T23:49:34.989Z"
   },
   {
    "duration": 37,
    "start_time": "2024-09-15T23:49:35.007Z"
   },
   {
    "duration": 13,
    "start_time": "2024-09-15T23:49:35.045Z"
   },
   {
    "duration": 25,
    "start_time": "2024-09-15T23:49:35.060Z"
   },
   {
    "duration": 12,
    "start_time": "2024-09-15T23:49:35.087Z"
   },
   {
    "duration": 340,
    "start_time": "2024-09-15T23:49:35.100Z"
   },
   {
    "duration": 423,
    "start_time": "2024-09-15T23:49:35.442Z"
   },
   {
    "duration": 10,
    "start_time": "2024-09-15T23:49:35.866Z"
   },
   {
    "duration": 21,
    "start_time": "2024-09-15T23:49:35.878Z"
   },
   {
    "duration": 325,
    "start_time": "2024-09-15T23:49:35.901Z"
   },
   {
    "duration": 24,
    "start_time": "2024-09-15T23:49:36.229Z"
   },
   {
    "duration": 13,
    "start_time": "2024-09-15T23:49:36.255Z"
   },
   {
    "duration": 45,
    "start_time": "2024-09-15T23:49:36.270Z"
   },
   {
    "duration": 4,
    "start_time": "2024-09-15T23:49:36.317Z"
   },
   {
    "duration": 8,
    "start_time": "2024-09-15T23:49:36.323Z"
   },
   {
    "duration": 14,
    "start_time": "2024-09-15T23:49:36.333Z"
   },
   {
    "duration": 32,
    "start_time": "2024-09-15T23:49:36.348Z"
   },
   {
    "duration": 104,
    "start_time": "2024-09-15T23:49:36.382Z"
   },
   {
    "duration": 316,
    "start_time": "2024-09-15T23:49:36.488Z"
   },
   {
    "duration": 248,
    "start_time": "2024-09-15T23:49:36.805Z"
   },
   {
    "duration": 260,
    "start_time": "2024-09-15T23:49:37.056Z"
   },
   {
    "duration": 40,
    "start_time": "2024-09-15T23:49:37.318Z"
   },
   {
    "duration": 19,
    "start_time": "2024-09-15T23:49:37.360Z"
   },
   {
    "duration": 17,
    "start_time": "2024-09-15T23:49:37.381Z"
   },
   {
    "duration": 531,
    "start_time": "2024-09-15T23:49:37.400Z"
   },
   {
    "duration": 542,
    "start_time": "2024-09-15T23:49:37.933Z"
   },
   {
    "duration": 7,
    "start_time": "2024-09-15T23:49:38.477Z"
   },
   {
    "duration": 660,
    "start_time": "2024-09-15T23:49:55.767Z"
   },
   {
    "duration": 30,
    "start_time": "2024-09-15T23:49:56.429Z"
   },
   {
    "duration": 29,
    "start_time": "2024-09-15T23:49:56.460Z"
   },
   {
    "duration": 15,
    "start_time": "2024-09-15T23:49:56.491Z"
   },
   {
    "duration": 45,
    "start_time": "2024-09-15T23:49:56.508Z"
   },
   {
    "duration": 11,
    "start_time": "2024-09-15T23:49:56.555Z"
   },
   {
    "duration": 80,
    "start_time": "2024-09-15T23:49:56.567Z"
   },
   {
    "duration": 14,
    "start_time": "2024-09-15T23:49:56.649Z"
   },
   {
    "duration": 328,
    "start_time": "2024-09-15T23:49:56.665Z"
   },
   {
    "duration": 465,
    "start_time": "2024-09-15T23:49:56.995Z"
   },
   {
    "duration": 10,
    "start_time": "2024-09-15T23:49:57.461Z"
   },
   {
    "duration": 35,
    "start_time": "2024-09-15T23:49:57.473Z"
   },
   {
    "duration": 289,
    "start_time": "2024-09-15T23:49:57.510Z"
   },
   {
    "duration": 11,
    "start_time": "2024-09-15T23:49:57.801Z"
   },
   {
    "duration": 12,
    "start_time": "2024-09-15T23:49:57.814Z"
   },
   {
    "duration": 30,
    "start_time": "2024-09-15T23:49:57.828Z"
   },
   {
    "duration": 3,
    "start_time": "2024-09-15T23:49:57.860Z"
   },
   {
    "duration": 35,
    "start_time": "2024-09-15T23:49:57.865Z"
   },
   {
    "duration": 15,
    "start_time": "2024-09-15T23:49:57.902Z"
   },
   {
    "duration": 12,
    "start_time": "2024-09-15T23:49:57.919Z"
   },
   {
    "duration": 126,
    "start_time": "2024-09-15T23:49:57.932Z"
   },
   {
    "duration": 313,
    "start_time": "2024-09-15T23:49:58.060Z"
   },
   {
    "duration": 241,
    "start_time": "2024-09-15T23:49:58.375Z"
   },
   {
    "duration": 247,
    "start_time": "2024-09-15T23:49:58.617Z"
   },
   {
    "duration": 41,
    "start_time": "2024-09-15T23:49:58.866Z"
   },
   {
    "duration": 18,
    "start_time": "2024-09-15T23:49:58.909Z"
   },
   {
    "duration": 39,
    "start_time": "2024-09-15T23:49:58.929Z"
   },
   {
    "duration": 497,
    "start_time": "2024-09-15T23:49:58.970Z"
   },
   {
    "duration": 536,
    "start_time": "2024-09-15T23:49:59.469Z"
   },
   {
    "duration": 9,
    "start_time": "2024-09-15T23:50:00.006Z"
   },
   {
    "duration": 9,
    "start_time": "2024-09-16T00:01:27.086Z"
   },
   {
    "duration": 8,
    "start_time": "2024-09-16T00:01:44.962Z"
   },
   {
    "duration": 6,
    "start_time": "2024-09-16T00:01:58.470Z"
   },
   {
    "duration": 72,
    "start_time": "2024-09-16T00:16:58.297Z"
   },
   {
    "duration": 40,
    "start_time": "2024-09-16T00:18:07.688Z"
   },
   {
    "duration": 31,
    "start_time": "2024-09-16T00:20:32.829Z"
   },
   {
    "duration": 33,
    "start_time": "2024-09-16T00:20:51.212Z"
   },
   {
    "duration": 27,
    "start_time": "2024-09-16T00:21:30.523Z"
   },
   {
    "duration": 95,
    "start_time": "2024-09-16T00:23:12.415Z"
   },
   {
    "duration": 74,
    "start_time": "2024-09-16T00:23:18.860Z"
   },
   {
    "duration": 65,
    "start_time": "2024-09-16T00:23:37.217Z"
   },
   {
    "duration": 28,
    "start_time": "2024-09-16T00:24:36.122Z"
   },
   {
    "duration": 47,
    "start_time": "2024-09-16T00:24:51.694Z"
   },
   {
    "duration": 25,
    "start_time": "2024-09-16T00:25:28.816Z"
   },
   {
    "duration": 26,
    "start_time": "2024-09-16T00:25:34.718Z"
   },
   {
    "duration": 27,
    "start_time": "2024-09-16T00:25:41.063Z"
   },
   {
    "duration": 31,
    "start_time": "2024-09-16T00:41:41.839Z"
   },
   {
    "duration": 35,
    "start_time": "2024-09-16T00:41:57.453Z"
   },
   {
    "duration": 32,
    "start_time": "2024-09-16T00:46:48.291Z"
   },
   {
    "duration": 1074,
    "start_time": "2024-09-16T00:48:43.320Z"
   },
   {
    "duration": 33,
    "start_time": "2024-09-16T00:49:06.489Z"
   },
   {
    "duration": 39,
    "start_time": "2024-09-16T01:16:26.438Z"
   },
   {
    "duration": 35,
    "start_time": "2024-09-16T01:16:39.508Z"
   },
   {
    "duration": 1175,
    "start_time": "2024-09-16T01:32:56.292Z"
   },
   {
    "duration": 34,
    "start_time": "2024-09-16T01:33:18.301Z"
   },
   {
    "duration": 58,
    "start_time": "2024-09-16T01:33:57.203Z"
   },
   {
    "duration": 36,
    "start_time": "2024-09-16T01:34:26.360Z"
   },
   {
    "duration": 637,
    "start_time": "2024-09-16T01:34:37.297Z"
   },
   {
    "duration": 37,
    "start_time": "2024-09-16T01:34:37.935Z"
   },
   {
    "duration": 30,
    "start_time": "2024-09-16T01:34:37.974Z"
   },
   {
    "duration": 16,
    "start_time": "2024-09-16T01:34:38.005Z"
   },
   {
    "duration": 46,
    "start_time": "2024-09-16T01:34:38.023Z"
   },
   {
    "duration": 10,
    "start_time": "2024-09-16T01:34:38.071Z"
   },
   {
    "duration": 34,
    "start_time": "2024-09-16T01:34:38.083Z"
   },
   {
    "duration": 12,
    "start_time": "2024-09-16T01:34:38.118Z"
   },
   {
    "duration": 344,
    "start_time": "2024-09-16T01:34:38.132Z"
   },
   {
    "duration": 421,
    "start_time": "2024-09-16T01:34:38.478Z"
   },
   {
    "duration": 10,
    "start_time": "2024-09-16T01:34:38.901Z"
   },
   {
    "duration": 4,
    "start_time": "2024-09-16T01:34:38.912Z"
   },
   {
    "duration": 344,
    "start_time": "2024-09-16T01:34:38.918Z"
   },
   {
    "duration": 13,
    "start_time": "2024-09-16T01:34:39.269Z"
   },
   {
    "duration": 12,
    "start_time": "2024-09-16T01:34:39.284Z"
   },
   {
    "duration": 24,
    "start_time": "2024-09-16T01:34:39.297Z"
   },
   {
    "duration": 4,
    "start_time": "2024-09-16T01:34:39.323Z"
   },
   {
    "duration": 8,
    "start_time": "2024-09-16T01:34:39.328Z"
   },
   {
    "duration": 30,
    "start_time": "2024-09-16T01:34:39.337Z"
   },
   {
    "duration": 12,
    "start_time": "2024-09-16T01:34:39.369Z"
   },
   {
    "duration": 113,
    "start_time": "2024-09-16T01:34:39.383Z"
   },
   {
    "duration": 309,
    "start_time": "2024-09-16T01:34:39.498Z"
   },
   {
    "duration": 257,
    "start_time": "2024-09-16T01:34:39.809Z"
   },
   {
    "duration": 270,
    "start_time": "2024-09-16T01:34:40.068Z"
   },
   {
    "duration": 44,
    "start_time": "2024-09-16T01:34:40.341Z"
   },
   {
    "duration": 20,
    "start_time": "2024-09-16T01:34:40.387Z"
   },
   {
    "duration": 17,
    "start_time": "2024-09-16T01:34:40.409Z"
   },
   {
    "duration": 520,
    "start_time": "2024-09-16T01:34:40.427Z"
   },
   {
    "duration": 562,
    "start_time": "2024-09-16T01:34:40.949Z"
   },
   {
    "duration": 8,
    "start_time": "2024-09-16T01:34:41.512Z"
   },
   {
    "duration": 50,
    "start_time": "2024-09-16T01:34:41.522Z"
   },
   {
    "duration": 77,
    "start_time": "2024-09-16T01:34:41.574Z"
   },
   {
    "duration": 659,
    "start_time": "2024-09-16T01:34:54.155Z"
   },
   {
    "duration": 29,
    "start_time": "2024-09-16T01:34:54.815Z"
   },
   {
    "duration": 41,
    "start_time": "2024-09-16T01:34:54.845Z"
   },
   {
    "duration": 16,
    "start_time": "2024-09-16T01:34:54.888Z"
   },
   {
    "duration": 45,
    "start_time": "2024-09-16T01:34:54.907Z"
   },
   {
    "duration": 26,
    "start_time": "2024-09-16T01:34:54.954Z"
   },
   {
    "duration": 46,
    "start_time": "2024-09-16T01:34:54.982Z"
   },
   {
    "duration": 11,
    "start_time": "2024-09-16T01:34:55.029Z"
   },
   {
    "duration": 302,
    "start_time": "2024-09-16T01:34:55.041Z"
   },
   {
    "duration": 434,
    "start_time": "2024-09-16T01:34:55.344Z"
   },
   {
    "duration": 9,
    "start_time": "2024-09-16T01:34:55.780Z"
   },
   {
    "duration": 4,
    "start_time": "2024-09-16T01:34:55.791Z"
   },
   {
    "duration": 322,
    "start_time": "2024-09-16T01:34:55.797Z"
   },
   {
    "duration": 16,
    "start_time": "2024-09-16T01:34:56.124Z"
   },
   {
    "duration": 21,
    "start_time": "2024-09-16T01:34:56.158Z"
   },
   {
    "duration": 13,
    "start_time": "2024-09-16T01:34:56.181Z"
   },
   {
    "duration": 4,
    "start_time": "2024-09-16T01:34:56.196Z"
   },
   {
    "duration": 6,
    "start_time": "2024-09-16T01:34:56.202Z"
   },
   {
    "duration": 16,
    "start_time": "2024-09-16T01:34:56.211Z"
   },
   {
    "duration": 30,
    "start_time": "2024-09-16T01:34:56.229Z"
   },
   {
    "duration": 115,
    "start_time": "2024-09-16T01:34:56.266Z"
   },
   {
    "duration": 308,
    "start_time": "2024-09-16T01:34:56.383Z"
   },
   {
    "duration": 244,
    "start_time": "2024-09-16T01:34:56.692Z"
   },
   {
    "duration": 261,
    "start_time": "2024-09-16T01:34:56.937Z"
   },
   {
    "duration": 62,
    "start_time": "2024-09-16T01:34:57.200Z"
   },
   {
    "duration": 42,
    "start_time": "2024-09-16T01:34:57.265Z"
   },
   {
    "duration": 18,
    "start_time": "2024-09-16T01:34:57.308Z"
   },
   {
    "duration": 513,
    "start_time": "2024-09-16T01:34:57.327Z"
   },
   {
    "duration": 573,
    "start_time": "2024-09-16T01:34:57.841Z"
   },
   {
    "duration": 8,
    "start_time": "2024-09-16T01:34:58.416Z"
   },
   {
    "duration": 9,
    "start_time": "2024-09-16T01:34:58.425Z"
   },
   {
    "duration": 54,
    "start_time": "2024-09-16T01:34:58.435Z"
   },
   {
    "duration": 27,
    "start_time": "2024-09-16T02:03:08.435Z"
   },
   {
    "duration": 22,
    "start_time": "2024-09-16T02:03:51.996Z"
   },
   {
    "duration": 39,
    "start_time": "2024-09-16T02:28:33.990Z"
   },
   {
    "duration": 44,
    "start_time": "2024-09-16T02:28:49.434Z"
   },
   {
    "duration": 41,
    "start_time": "2024-09-16T02:32:10.270Z"
   },
   {
    "duration": 64,
    "start_time": "2024-09-16T02:33:37.745Z"
   },
   {
    "duration": 52,
    "start_time": "2024-09-16T02:34:04.379Z"
   },
   {
    "duration": 38,
    "start_time": "2024-09-16T02:34:09.488Z"
   },
   {
    "duration": 34,
    "start_time": "2024-09-16T02:34:26.077Z"
   },
   {
    "duration": 7,
    "start_time": "2024-09-16T02:34:40.706Z"
   },
   {
    "duration": 77,
    "start_time": "2024-09-16T02:38:04.079Z"
   },
   {
    "duration": 14,
    "start_time": "2024-09-16T02:38:17.574Z"
   },
   {
    "duration": 1330,
    "start_time": "2024-09-16T17:34:47.291Z"
   },
   {
    "duration": 110,
    "start_time": "2024-09-16T17:34:48.623Z"
   },
   {
    "duration": 186,
    "start_time": "2024-09-16T17:34:48.735Z"
   },
   {
    "duration": 77,
    "start_time": "2024-09-16T17:34:48.923Z"
   },
   {
    "duration": 36,
    "start_time": "2024-09-16T17:34:49.002Z"
   },
   {
    "duration": 11,
    "start_time": "2024-09-16T17:34:49.040Z"
   },
   {
    "duration": 16,
    "start_time": "2024-09-16T17:34:49.052Z"
   },
   {
    "duration": 10,
    "start_time": "2024-09-16T17:34:49.069Z"
   },
   {
    "duration": 292,
    "start_time": "2024-09-16T17:34:49.080Z"
   },
   {
    "duration": 434,
    "start_time": "2024-09-16T17:34:49.373Z"
   },
   {
    "duration": 13,
    "start_time": "2024-09-16T17:34:49.809Z"
   },
   {
    "duration": 4,
    "start_time": "2024-09-16T17:34:49.824Z"
   },
   {
    "duration": 264,
    "start_time": "2024-09-16T17:34:49.830Z"
   },
   {
    "duration": 11,
    "start_time": "2024-09-16T17:34:50.097Z"
   },
   {
    "duration": 13,
    "start_time": "2024-09-16T17:34:50.109Z"
   },
   {
    "duration": 30,
    "start_time": "2024-09-16T17:34:50.123Z"
   },
   {
    "duration": 4,
    "start_time": "2024-09-16T17:34:50.154Z"
   },
   {
    "duration": 6,
    "start_time": "2024-09-16T17:34:50.160Z"
   },
   {
    "duration": 11,
    "start_time": "2024-09-16T17:34:50.168Z"
   },
   {
    "duration": 6,
    "start_time": "2024-09-16T17:34:50.181Z"
   },
   {
    "duration": 120,
    "start_time": "2024-09-16T17:34:50.188Z"
   },
   {
    "duration": 316,
    "start_time": "2024-09-16T17:34:50.310Z"
   },
   {
    "duration": 253,
    "start_time": "2024-09-16T17:34:50.628Z"
   },
   {
    "duration": 338,
    "start_time": "2024-09-16T17:34:50.882Z"
   },
   {
    "duration": 42,
    "start_time": "2024-09-16T17:34:51.221Z"
   },
   {
    "duration": 21,
    "start_time": "2024-09-16T17:34:51.264Z"
   },
   {
    "duration": 14,
    "start_time": "2024-09-16T17:34:51.287Z"
   },
   {
    "duration": 489,
    "start_time": "2024-09-16T17:34:51.303Z"
   },
   {
    "duration": 488,
    "start_time": "2024-09-16T17:34:51.794Z"
   },
   {
    "duration": 8,
    "start_time": "2024-09-16T17:34:52.284Z"
   },
   {
    "duration": 5,
    "start_time": "2024-09-16T17:34:52.294Z"
   },
   {
    "duration": 58,
    "start_time": "2024-09-16T17:34:52.301Z"
   },
   {
    "duration": 36,
    "start_time": "2024-09-16T17:34:52.360Z"
   },
   {
    "duration": 6,
    "start_time": "2024-09-16T17:34:52.397Z"
   },
   {
    "duration": 14,
    "start_time": "2024-09-16T17:34:52.405Z"
   },
   {
    "duration": 6,
    "start_time": "2024-09-16T17:55:28.717Z"
   },
   {
    "duration": 6,
    "start_time": "2024-09-16T17:59:05.474Z"
   },
   {
    "duration": 60,
    "start_time": "2024-09-16T18:26:31.755Z"
   },
   {
    "duration": 6,
    "start_time": "2024-09-16T18:27:13.124Z"
   },
   {
    "duration": 65,
    "start_time": "2024-09-16T18:44:03.649Z"
   },
   {
    "duration": 26,
    "start_time": "2024-09-16T18:44:10.544Z"
   },
   {
    "duration": 100,
    "start_time": "2024-09-16T18:44:41.765Z"
   },
   {
    "duration": 7,
    "start_time": "2024-09-16T18:44:51.308Z"
   },
   {
    "duration": 6,
    "start_time": "2024-09-16T18:45:01.517Z"
   },
   {
    "duration": 5,
    "start_time": "2024-09-16T18:45:37.690Z"
   },
   {
    "duration": 8,
    "start_time": "2024-09-16T18:45:43.193Z"
   },
   {
    "duration": 8,
    "start_time": "2024-09-16T18:46:06.732Z"
   },
   {
    "duration": 8,
    "start_time": "2024-09-16T18:46:13.302Z"
   },
   {
    "duration": 9,
    "start_time": "2024-09-16T18:47:30.899Z"
   },
   {
    "duration": 1017,
    "start_time": "2024-09-16T19:50:36.423Z"
   },
   {
    "duration": 30,
    "start_time": "2024-09-16T19:50:37.442Z"
   },
   {
    "duration": 28,
    "start_time": "2024-09-16T19:50:37.474Z"
   },
   {
    "duration": 17,
    "start_time": "2024-09-16T19:50:37.504Z"
   },
   {
    "duration": 33,
    "start_time": "2024-09-16T19:50:37.523Z"
   },
   {
    "duration": 10,
    "start_time": "2024-09-16T19:50:37.557Z"
   },
   {
    "duration": 29,
    "start_time": "2024-09-16T19:50:37.569Z"
   },
   {
    "duration": 10,
    "start_time": "2024-09-16T19:50:37.599Z"
   },
   {
    "duration": 282,
    "start_time": "2024-09-16T19:50:37.610Z"
   },
   {
    "duration": 396,
    "start_time": "2024-09-16T19:50:37.893Z"
   },
   {
    "duration": 9,
    "start_time": "2024-09-16T19:50:38.291Z"
   },
   {
    "duration": 5,
    "start_time": "2024-09-16T19:50:38.302Z"
   },
   {
    "duration": 233,
    "start_time": "2024-09-16T19:50:38.309Z"
   },
   {
    "duration": 11,
    "start_time": "2024-09-16T19:50:38.546Z"
   },
   {
    "duration": 33,
    "start_time": "2024-09-16T19:50:38.559Z"
   },
   {
    "duration": 13,
    "start_time": "2024-09-16T19:50:38.594Z"
   },
   {
    "duration": 17,
    "start_time": "2024-09-16T19:50:38.609Z"
   },
   {
    "duration": 5,
    "start_time": "2024-09-16T19:50:38.627Z"
   },
   {
    "duration": 11,
    "start_time": "2024-09-16T19:50:38.633Z"
   },
   {
    "duration": 5,
    "start_time": "2024-09-16T19:50:38.645Z"
   },
   {
    "duration": 116,
    "start_time": "2024-09-16T19:50:38.652Z"
   },
   {
    "duration": 295,
    "start_time": "2024-09-16T19:50:38.769Z"
   },
   {
    "duration": 232,
    "start_time": "2024-09-16T19:50:39.065Z"
   },
   {
    "duration": 291,
    "start_time": "2024-09-16T19:50:39.299Z"
   },
   {
    "duration": 31,
    "start_time": "2024-09-16T19:50:39.592Z"
   },
   {
    "duration": 17,
    "start_time": "2024-09-16T19:50:39.625Z"
   },
   {
    "duration": 49,
    "start_time": "2024-09-16T19:50:39.644Z"
   },
   {
    "duration": 457,
    "start_time": "2024-09-16T19:50:39.695Z"
   },
   {
    "duration": 465,
    "start_time": "2024-09-16T19:50:40.153Z"
   },
   {
    "duration": 8,
    "start_time": "2024-09-16T19:50:40.619Z"
   },
   {
    "duration": 6,
    "start_time": "2024-09-16T19:50:40.628Z"
   },
   {
    "duration": 58,
    "start_time": "2024-09-16T19:50:40.635Z"
   },
   {
    "duration": 30,
    "start_time": "2024-09-16T19:50:40.694Z"
   },
   {
    "duration": 5,
    "start_time": "2024-09-16T19:50:40.726Z"
   },
   {
    "duration": 10,
    "start_time": "2024-09-16T19:50:40.733Z"
   },
   {
    "duration": 27,
    "start_time": "2024-09-16T19:50:40.745Z"
   },
   {
    "duration": 4,
    "start_time": "2024-09-16T19:50:40.790Z"
   },
   {
    "duration": 15,
    "start_time": "2024-09-16T19:50:40.795Z"
   },
   {
    "duration": 11,
    "start_time": "2024-09-16T19:52:44.290Z"
   },
   {
    "duration": 10,
    "start_time": "2024-09-16T19:52:45.488Z"
   },
   {
    "duration": 49,
    "start_time": "2024-09-16T21:02:39.722Z"
   },
   {
    "duration": 1394,
    "start_time": "2024-09-16T21:02:51.933Z"
   },
   {
    "duration": 77,
    "start_time": "2024-09-16T21:02:53.329Z"
   },
   {
    "duration": 146,
    "start_time": "2024-09-16T21:02:53.407Z"
   },
   {
    "duration": 69,
    "start_time": "2024-09-16T21:02:53.555Z"
   },
   {
    "duration": 40,
    "start_time": "2024-09-16T21:02:53.627Z"
   },
   {
    "duration": 12,
    "start_time": "2024-09-16T21:02:53.668Z"
   },
   {
    "duration": 26,
    "start_time": "2024-09-16T21:02:53.682Z"
   },
   {
    "duration": 14,
    "start_time": "2024-09-16T21:02:53.710Z"
   },
   {
    "duration": 343,
    "start_time": "2024-09-16T21:02:53.725Z"
   },
   {
    "duration": 429,
    "start_time": "2024-09-16T21:02:54.070Z"
   },
   {
    "duration": 19,
    "start_time": "2024-09-16T21:02:54.501Z"
   },
   {
    "duration": 5,
    "start_time": "2024-09-16T21:02:54.523Z"
   },
   {
    "duration": 262,
    "start_time": "2024-09-16T21:02:54.530Z"
   },
   {
    "duration": 12,
    "start_time": "2024-09-16T21:02:54.795Z"
   },
   {
    "duration": 22,
    "start_time": "2024-09-16T21:02:54.809Z"
   },
   {
    "duration": 22,
    "start_time": "2024-09-16T21:02:54.832Z"
   },
   {
    "duration": 4,
    "start_time": "2024-09-16T21:02:54.856Z"
   },
   {
    "duration": 8,
    "start_time": "2024-09-16T21:02:54.862Z"
   },
   {
    "duration": 5,
    "start_time": "2024-09-16T21:03:00.858Z"
   },
   {
    "duration": 11,
    "start_time": "2024-09-16T21:03:36.692Z"
   },
   {
    "duration": 63,
    "start_time": "2024-09-16T21:03:52.004Z"
   },
   {
    "duration": 10,
    "start_time": "2024-09-16T21:04:21.546Z"
   },
   {
    "duration": 10,
    "start_time": "2024-09-16T21:04:25.320Z"
   },
   {
    "duration": 9,
    "start_time": "2024-09-16T21:04:31.116Z"
   },
   {
    "duration": 12,
    "start_time": "2024-09-16T21:04:38.608Z"
   },
   {
    "duration": 9,
    "start_time": "2024-09-16T21:04:44.465Z"
   },
   {
    "duration": 16,
    "start_time": "2024-09-16T21:14:15.348Z"
   },
   {
    "duration": 148,
    "start_time": "2024-09-16T21:20:25.395Z"
   },
   {
    "duration": 137,
    "start_time": "2024-09-16T21:21:52.645Z"
   },
   {
    "duration": 156,
    "start_time": "2024-09-16T21:21:59.040Z"
   },
   {
    "duration": 129,
    "start_time": "2024-09-16T21:24:35.116Z"
   },
   {
    "duration": 7,
    "start_time": "2024-09-16T21:24:56.198Z"
   },
   {
    "duration": 148,
    "start_time": "2024-09-16T21:25:07.974Z"
   },
   {
    "duration": 133,
    "start_time": "2024-09-16T21:25:14.678Z"
   },
   {
    "duration": 56,
    "start_time": "2024-09-16T21:25:58.575Z"
   },
   {
    "duration": 167,
    "start_time": "2024-09-16T21:26:45.055Z"
   },
   {
    "duration": 6,
    "start_time": "2024-09-16T21:27:10.746Z"
   },
   {
    "duration": 213,
    "start_time": "2024-09-16T21:27:38.444Z"
   },
   {
    "duration": 185,
    "start_time": "2024-09-16T21:28:21.245Z"
   },
   {
    "duration": 186,
    "start_time": "2024-09-16T21:45:38.668Z"
   },
   {
    "duration": 178,
    "start_time": "2024-09-16T21:45:57.763Z"
   },
   {
    "duration": 11,
    "start_time": "2024-09-16T21:52:08.728Z"
   },
   {
    "duration": 129,
    "start_time": "2024-09-16T21:53:51.583Z"
   },
   {
    "duration": 485,
    "start_time": "2024-09-16T21:54:16.487Z"
   },
   {
    "duration": 125,
    "start_time": "2024-09-16T21:54:24.693Z"
   },
   {
    "duration": 170,
    "start_time": "2024-09-16T21:54:49.748Z"
   },
   {
    "duration": 8,
    "start_time": "2024-09-16T22:00:41.176Z"
   },
   {
    "duration": 8,
    "start_time": "2024-09-16T22:01:08.246Z"
   },
   {
    "duration": 5,
    "start_time": "2024-09-16T22:01:19.993Z"
   },
   {
    "duration": 9,
    "start_time": "2024-09-16T22:06:03.806Z"
   },
   {
    "duration": 4,
    "start_time": "2024-09-16T22:06:35.526Z"
   },
   {
    "duration": 4,
    "start_time": "2024-09-16T22:07:22.439Z"
   },
   {
    "duration": 4,
    "start_time": "2024-09-16T22:07:39.656Z"
   },
   {
    "duration": 9,
    "start_time": "2024-09-16T22:09:06.074Z"
   },
   {
    "duration": 35,
    "start_time": "2024-09-16T22:09:12.780Z"
   },
   {
    "duration": 3,
    "start_time": "2024-09-16T22:09:15.564Z"
   },
   {
    "duration": 4,
    "start_time": "2024-09-16T22:10:10.830Z"
   },
   {
    "duration": 3,
    "start_time": "2024-09-16T22:10:26.681Z"
   },
   {
    "duration": 19,
    "start_time": "2024-09-16T22:10:30.583Z"
   },
   {
    "duration": 4,
    "start_time": "2024-09-16T22:10:44.491Z"
   },
   {
    "duration": 9,
    "start_time": "2024-09-16T22:11:12.676Z"
   },
   {
    "duration": 17,
    "start_time": "2024-09-16T22:11:17.735Z"
   },
   {
    "duration": 3,
    "start_time": "2024-09-16T22:11:18.584Z"
   },
   {
    "duration": 5,
    "start_time": "2024-09-16T22:17:03.267Z"
   },
   {
    "duration": 61,
    "start_time": "2024-09-16T22:23:55.349Z"
   },
   {
    "duration": 11,
    "start_time": "2024-09-16T22:24:11.069Z"
   },
   {
    "duration": 9,
    "start_time": "2024-09-16T22:24:20.190Z"
   },
   {
    "duration": 7,
    "start_time": "2024-09-16T22:39:23.270Z"
   },
   {
    "duration": 1150,
    "start_time": "2024-09-16T22:45:24.571Z"
   },
   {
    "duration": 29,
    "start_time": "2024-09-16T22:45:25.723Z"
   },
   {
    "duration": 29,
    "start_time": "2024-09-16T22:45:25.754Z"
   },
   {
    "duration": 16,
    "start_time": "2024-09-16T22:45:25.785Z"
   },
   {
    "duration": 36,
    "start_time": "2024-09-16T22:45:25.803Z"
   },
   {
    "duration": 11,
    "start_time": "2024-09-16T22:45:25.840Z"
   },
   {
    "duration": 20,
    "start_time": "2024-09-16T22:45:25.853Z"
   },
   {
    "duration": 9,
    "start_time": "2024-09-16T22:45:25.874Z"
   },
   {
    "duration": 285,
    "start_time": "2024-09-16T22:45:25.885Z"
   },
   {
    "duration": 427,
    "start_time": "2024-09-16T22:45:26.172Z"
   },
   {
    "duration": 10,
    "start_time": "2024-09-16T22:45:26.601Z"
   },
   {
    "duration": 16,
    "start_time": "2024-09-16T22:45:26.612Z"
   },
   {
    "duration": 329,
    "start_time": "2024-09-16T22:45:26.630Z"
   },
   {
    "duration": 13,
    "start_time": "2024-09-16T22:45:26.963Z"
   },
   {
    "duration": 13,
    "start_time": "2024-09-16T22:45:26.978Z"
   },
   {
    "duration": 12,
    "start_time": "2024-09-16T22:45:26.992Z"
   },
   {
    "duration": 4,
    "start_time": "2024-09-16T22:45:27.006Z"
   },
   {
    "duration": 7,
    "start_time": "2024-09-16T22:45:27.045Z"
   },
   {
    "duration": 15,
    "start_time": "2024-09-16T22:45:27.054Z"
   },
   {
    "duration": 6,
    "start_time": "2024-09-16T22:45:27.071Z"
   },
   {
    "duration": 197,
    "start_time": "2024-09-16T22:45:27.078Z"
   },
   {
    "duration": 97,
    "start_time": "2024-09-16T22:45:27.277Z"
   },
   {
    "duration": 209,
    "start_time": "2024-09-16T22:45:27.376Z"
   },
   {
    "duration": 237,
    "start_time": "2024-09-16T22:45:27.586Z"
   },
   {
    "duration": 378,
    "start_time": "2024-09-16T22:45:27.846Z"
   },
   {
    "duration": 3,
    "start_time": "2024-09-16T22:45:28.226Z"
   },
   {
    "duration": 49,
    "start_time": "2024-09-16T22:45:28.231Z"
   },
   {
    "duration": 3,
    "start_time": "2024-09-16T22:45:28.282Z"
   },
   {
    "duration": 18,
    "start_time": "2024-09-16T22:45:28.287Z"
   },
   {
    "duration": 9,
    "start_time": "2024-09-16T22:45:28.306Z"
   },
   {
    "duration": 41,
    "start_time": "2024-09-16T22:45:28.316Z"
   },
   {
    "duration": 3,
    "start_time": "2024-09-16T22:45:28.359Z"
   },
   {
    "duration": 534,
    "start_time": "2024-09-16T22:45:28.364Z"
   },
   {
    "duration": 456,
    "start_time": "2024-09-16T22:45:28.899Z"
   },
   {
    "duration": 9,
    "start_time": "2024-09-16T22:45:29.356Z"
   },
   {
    "duration": 19,
    "start_time": "2024-09-16T22:45:29.366Z"
   },
   {
    "duration": 31,
    "start_time": "2024-09-16T22:45:29.387Z"
   },
   {
    "duration": 46,
    "start_time": "2024-09-16T22:45:29.420Z"
   },
   {
    "duration": 6,
    "start_time": "2024-09-16T22:45:29.467Z"
   },
   {
    "duration": 55,
    "start_time": "2024-09-16T22:45:29.475Z"
   },
   {
    "duration": 5,
    "start_time": "2024-09-16T22:45:29.533Z"
   },
   {
    "duration": 13,
    "start_time": "2024-09-16T22:45:29.540Z"
   },
   {
    "duration": 6,
    "start_time": "2024-09-16T22:45:29.554Z"
   },
   {
    "duration": 70,
    "start_time": "2024-09-16T22:45:29.561Z"
   },
   {
    "duration": 157,
    "start_time": "2024-09-16T22:47:28.840Z"
   },
   {
    "duration": 73,
    "start_time": "2024-09-16T22:47:52.087Z"
   },
   {
    "duration": 157,
    "start_time": "2024-09-16T22:47:58.621Z"
   },
   {
    "duration": 171,
    "start_time": "2024-09-16T22:48:03.630Z"
   },
   {
    "duration": 183,
    "start_time": "2024-09-16T22:52:09.549Z"
   },
   {
    "duration": 1254,
    "start_time": "2024-09-16T22:55:27.083Z"
   },
   {
    "duration": 33,
    "start_time": "2024-09-16T22:55:28.339Z"
   },
   {
    "duration": 29,
    "start_time": "2024-09-16T22:55:28.373Z"
   },
   {
    "duration": 17,
    "start_time": "2024-09-16T22:55:28.405Z"
   },
   {
    "duration": 39,
    "start_time": "2024-09-16T22:55:28.423Z"
   },
   {
    "duration": 16,
    "start_time": "2024-09-16T22:55:28.465Z"
   },
   {
    "duration": 18,
    "start_time": "2024-09-16T22:55:28.483Z"
   },
   {
    "duration": 21,
    "start_time": "2024-09-16T22:55:28.503Z"
   },
   {
    "duration": 339,
    "start_time": "2024-09-16T22:55:28.526Z"
   },
   {
    "duration": 455,
    "start_time": "2024-09-16T22:55:28.868Z"
   },
   {
    "duration": 10,
    "start_time": "2024-09-16T22:55:29.325Z"
   },
   {
    "duration": 9,
    "start_time": "2024-09-16T22:55:29.345Z"
   },
   {
    "duration": 288,
    "start_time": "2024-09-16T22:55:29.356Z"
   },
   {
    "duration": 23,
    "start_time": "2024-09-16T22:55:29.646Z"
   },
   {
    "duration": 12,
    "start_time": "2024-09-16T22:55:29.671Z"
   },
   {
    "duration": 31,
    "start_time": "2024-09-16T22:55:29.684Z"
   },
   {
    "duration": 4,
    "start_time": "2024-09-16T22:55:29.716Z"
   },
   {
    "duration": 16,
    "start_time": "2024-09-16T22:55:29.722Z"
   },
   {
    "duration": 23,
    "start_time": "2024-09-16T22:55:29.745Z"
   },
   {
    "duration": 32,
    "start_time": "2024-09-16T22:55:29.770Z"
   },
   {
    "duration": 196,
    "start_time": "2024-09-16T22:55:29.804Z"
   },
   {
    "duration": 112,
    "start_time": "2024-09-16T22:55:30.002Z"
   },
   {
    "duration": 198,
    "start_time": "2024-09-16T22:55:30.116Z"
   },
   {
    "duration": 252,
    "start_time": "2024-09-16T22:55:30.315Z"
   },
   {
    "duration": 344,
    "start_time": "2024-09-16T22:55:30.571Z"
   },
   {
    "duration": 4,
    "start_time": "2024-09-16T22:55:30.917Z"
   },
   {
    "duration": 85,
    "start_time": "2024-09-16T22:55:30.923Z"
   },
   {
    "duration": 4,
    "start_time": "2024-09-16T22:55:31.013Z"
   },
   {
    "duration": 56,
    "start_time": "2024-09-16T22:55:31.019Z"
   },
   {
    "duration": 4,
    "start_time": "2024-09-16T22:55:31.077Z"
   },
   {
    "duration": 55,
    "start_time": "2024-09-16T22:55:31.083Z"
   },
   {
    "duration": 7,
    "start_time": "2024-09-16T22:55:31.140Z"
   },
   {
    "duration": 558,
    "start_time": "2024-09-16T22:55:31.149Z"
   },
   {
    "duration": 473,
    "start_time": "2024-09-16T22:55:31.709Z"
   },
   {
    "duration": 9,
    "start_time": "2024-09-16T22:55:32.183Z"
   },
   {
    "duration": 23,
    "start_time": "2024-09-16T22:55:32.193Z"
   },
   {
    "duration": 46,
    "start_time": "2024-09-16T22:55:32.218Z"
   },
   {
    "duration": 35,
    "start_time": "2024-09-16T22:55:32.267Z"
   },
   {
    "duration": 8,
    "start_time": "2024-09-16T22:55:32.304Z"
   },
   {
    "duration": 45,
    "start_time": "2024-09-16T22:55:32.313Z"
   },
   {
    "duration": 17,
    "start_time": "2024-09-16T22:55:32.360Z"
   },
   {
    "duration": 8,
    "start_time": "2024-09-16T22:55:32.379Z"
   },
   {
    "duration": 7,
    "start_time": "2024-09-16T22:55:32.389Z"
   },
   {
    "duration": 23,
    "start_time": "2024-09-16T22:55:32.398Z"
   },
   {
    "duration": 1336,
    "start_time": "2024-09-16T23:09:26.234Z"
   },
   {
    "duration": 30,
    "start_time": "2024-09-16T23:09:27.572Z"
   },
   {
    "duration": 29,
    "start_time": "2024-09-16T23:09:27.603Z"
   },
   {
    "duration": 19,
    "start_time": "2024-09-16T23:09:27.633Z"
   },
   {
    "duration": 44,
    "start_time": "2024-09-16T23:09:27.656Z"
   },
   {
    "duration": 12,
    "start_time": "2024-09-16T23:09:27.702Z"
   },
   {
    "duration": 57,
    "start_time": "2024-09-16T23:09:27.715Z"
   },
   {
    "duration": 10,
    "start_time": "2024-09-16T23:09:27.773Z"
   },
   {
    "duration": 494,
    "start_time": "2024-09-16T23:09:27.784Z"
   },
   {
    "duration": 508,
    "start_time": "2024-09-16T23:09:28.280Z"
   },
   {
    "duration": 10,
    "start_time": "2024-09-16T23:09:28.789Z"
   },
   {
    "duration": 4,
    "start_time": "2024-09-16T23:09:28.800Z"
   },
   {
    "duration": 262,
    "start_time": "2024-09-16T23:09:28.805Z"
   },
   {
    "duration": 10,
    "start_time": "2024-09-16T23:09:29.072Z"
   },
   {
    "duration": 56,
    "start_time": "2024-09-16T23:09:29.084Z"
   },
   {
    "duration": 12,
    "start_time": "2024-09-16T23:09:29.142Z"
   },
   {
    "duration": 6,
    "start_time": "2024-09-16T23:09:29.155Z"
   },
   {
    "duration": 10,
    "start_time": "2024-09-16T23:09:29.163Z"
   },
   {
    "duration": 8,
    "start_time": "2024-09-16T23:09:29.175Z"
   },
   {
    "duration": 13,
    "start_time": "2024-09-16T23:09:29.185Z"
   },
   {
    "duration": 212,
    "start_time": "2024-09-16T23:09:29.199Z"
   },
   {
    "duration": 103,
    "start_time": "2024-09-16T23:09:29.413Z"
   },
   {
    "duration": 196,
    "start_time": "2024-09-16T23:09:29.517Z"
   },
   {
    "duration": 249,
    "start_time": "2024-09-16T23:09:29.715Z"
   },
   {
    "duration": 348,
    "start_time": "2024-09-16T23:09:29.966Z"
   },
   {
    "duration": 5,
    "start_time": "2024-09-16T23:09:30.316Z"
   },
   {
    "duration": 69,
    "start_time": "2024-09-16T23:09:30.323Z"
   },
   {
    "duration": 4,
    "start_time": "2024-09-16T23:09:30.393Z"
   },
   {
    "duration": 64,
    "start_time": "2024-09-16T23:09:30.398Z"
   },
   {
    "duration": 28,
    "start_time": "2024-09-16T23:09:30.464Z"
   },
   {
    "duration": 49,
    "start_time": "2024-09-16T23:09:30.494Z"
   },
   {
    "duration": 74,
    "start_time": "2024-09-16T23:09:30.545Z"
   },
   {
    "duration": 671,
    "start_time": "2024-09-16T23:09:30.621Z"
   },
   {
    "duration": 540,
    "start_time": "2024-09-16T23:09:31.293Z"
   },
   {
    "duration": 26,
    "start_time": "2024-09-16T23:09:31.835Z"
   },
   {
    "duration": 151,
    "start_time": "2024-09-16T23:09:31.864Z"
   },
   {
    "duration": 49,
    "start_time": "2024-09-16T23:09:32.017Z"
   },
   {
    "duration": 47,
    "start_time": "2024-09-16T23:09:32.069Z"
   },
   {
    "duration": 6,
    "start_time": "2024-09-16T23:09:32.118Z"
   },
   {
    "duration": 26,
    "start_time": "2024-09-16T23:09:32.126Z"
   },
   {
    "duration": 7,
    "start_time": "2024-09-16T23:09:32.157Z"
   },
   {
    "duration": 10,
    "start_time": "2024-09-16T23:09:32.165Z"
   },
   {
    "duration": 6,
    "start_time": "2024-09-16T23:09:32.177Z"
   },
   {
    "duration": 23,
    "start_time": "2024-09-16T23:09:32.185Z"
   }
  ],
  "kernelspec": {
   "display_name": "Python 3 (ipykernel)",
   "language": "python",
   "name": "python3"
  },
  "language_info": {
   "codemirror_mode": {
    "name": "ipython",
    "version": 3
   },
   "file_extension": ".py",
   "mimetype": "text/x-python",
   "name": "python",
   "nbconvert_exporter": "python",
   "pygments_lexer": "ipython3",
   "version": "3.13.2"
  },
  "toc": {
   "base_numbering": 1,
   "nav_menu": {
    "height": "183px",
    "width": "383px"
   },
   "number_sections": true,
   "sideBar": true,
   "skip_h1_title": true,
   "title_cell": "Table of Contents",
   "title_sidebar": "Contents",
   "toc_cell": false,
   "toc_position": {
    "height": "calc(100% - 180px)",
    "left": "10px",
    "top": "150px",
    "width": "263px"
   },
   "toc_section_display": true,
   "toc_window_display": true
  }
 },
 "nbformat": 4,
 "nbformat_minor": 5
}

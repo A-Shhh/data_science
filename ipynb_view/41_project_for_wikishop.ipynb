{
 "cells": [
  {
   "cell_type": "markdown",
   "metadata": {
    "id": "uPKAcXoCTR5G",
    "toc": true
   },
   "source": [
    "<h1>Содержание<span class=\"tocSkip\"></span></h1>\n",
    "<div class=\"toc\"><ul class=\"toc-item\"><li><span><a href=\"#Подготовка\" data-toc-modified-id=\"Подготовка-1\"><span class=\"toc-item-num\">1&nbsp;&nbsp;</span>Подготовка</a></span></li><li><span><a href=\"#Обучение\" data-toc-modified-id=\"Обучение-2\"><span class=\"toc-item-num\">2&nbsp;&nbsp;</span>Обучение</a></span></li><li><span><a href=\"#Выводы\" data-toc-modified-id=\"Выводы-3\"><span class=\"toc-item-num\">3&nbsp;&nbsp;</span>Выводы</a></span></li><li><span><a href=\"#Чек-лист-проверки\" data-toc-modified-id=\"Чек-лист-проверки-4\"><span class=\"toc-item-num\">4&nbsp;&nbsp;</span>Чек-лист проверки</a></span></li></ul></div>"
   ]
  },
  {
   "cell_type": "markdown",
   "metadata": {
    "id": "-W-NEW3RTR5J"
   },
   "source": [
    "# Проект для «Викишоп» c BERT"
   ]
  },
  {
   "cell_type": "markdown",
   "metadata": {
    "id": "byO7C-nnTR5J"
   },
   "source": [
    "Интернет-магазин «Викишоп» запускает новый сервис. Теперь пользователи могут редактировать и дополнять описания товаров, как в вики-сообществах. То есть клиенты предлагают свои правки и комментируют изменения других. Магазину нужен инструмент, который будет искать токсичные комментарии и отправлять их на модерацию.\n",
    "\n",
    "Обучите модель классифицировать комментарии на позитивные и негативные. В вашем распоряжении набор данных с разметкой о токсичности правок.\n",
    "\n",
    "Постройте модель со значением метрики качества *F1* не меньше 0.75.\n",
    "\n",
    "**Инструкция по выполнению проекта**\n",
    "\n",
    "1. Загрузите и подготовьте данные.\n",
    "2. Обучите разные модели.\n",
    "3. Сделайте выводы.\n",
    "\n",
    "Для выполнения проекта применять *BERT* необязательно, но вы можете попробовать.\n",
    "\n",
    "**Описание данных**\n",
    "\n",
    "Данные находятся в файле `toxic_comments.csv`. Столбец *text* в нём содержит текст комментария, а *toxic* — целевой признак."
   ]
  },
  {
   "cell_type": "markdown",
   "metadata": {
    "id": "wLypAVp2TR5K"
   },
   "source": [
    "---"
   ]
  },
  {
   "cell_type": "markdown",
   "metadata": {
    "id": "hRgLc34WTR5K"
   },
   "source": [
    "**Цель:**\n",
    "- Обучить модель машинного обучения для классификации комментариев на токсичные и нетоксичные.\n",
    "- Достижение метрики качества — `F1 ≥ 0.75`\n",
    "- Использовать `BERT` (модель на основе трансформера) для работы с текстовыми данными.\n",
    "\n",
    "**Исходные данные:**\n",
    "- Файл: `/datasets/toxic_comments.csv`\n",
    "- Столбцы:\n",
    "    - `text` — текст комментария.\n",
    "    - `toxic` — целевой признак (`0` — нетоксичный, `1` — токсичный)."
   ]
  },
  {
   "cell_type": "markdown",
   "metadata": {
    "id": "ZD6PT4ArTR5K"
   },
   "source": [
    "## Подготовка"
   ]
  },
  {
   "cell_type": "code",
   "execution_count": null,
   "metadata": {
    "id": "RHLCik3iTR5L"
   },
   "outputs": [],
   "source": [
    "!pip install -q torch\n",
    "!pip install -q transformers\n",
    "!pip install -q catboost"
   ]
  },
  {
   "cell_type": "code",
   "execution_count": null,
   "metadata": {
    "id": "agNMHOV1TR5M"
   },
   "outputs": [],
   "source": [
    "import pandas as pd\n",
    "import matplotlib.pyplot as plt\n",
    "import seaborn as sns\n",
    "import numpy as np\n",
    "import torch\n",
    "import transformers\n",
    "\n",
    "from tqdm import notebook\n",
    "from sklearn.model_selection import train_test_split\n",
    "from sklearn.pipeline import Pipeline\n",
    "from sklearn.compose import ColumnTransformer\n",
    "from sklearn.impute import SimpleImputer\n",
    "from sklearn.preprocessing import StandardScaler, FunctionTransformer\n",
    "from sklearn.tree import DecisionTreeClassifier\n",
    "from sklearn.linear_model import LogisticRegression\n",
    "from catboost import CatBoostClassifier\n",
    "from sklearn.model_selection import RandomizedSearchCV\n",
    "from sklearn.metrics import f1_score\n",
    "\n",
    "RANDOM_STATE = 42"
   ]
  },
  {
   "cell_type": "code",
   "execution_count": null,
   "metadata": {
    "id": "DEsTQloETR5M"
   },
   "outputs": [],
   "source": [
    "# Загрузка данных\n",
    "try:\n",
    "    df = pd.read_csv('/datasets/toxic_comments.csv')\n",
    "except FileNotFoundError:\n",
    "    df = pd.read_csv('Модуль 4 спринт 1/toxic_comments.csv')  # Если файл локальный"
   ]
  },
  {
   "cell_type": "markdown",
   "metadata": {
    "id": "4ON2yS1-TR5N"
   },
   "source": [
    "**Описание данных**\n",
    "\n",
    "Данные для выполнения проекта хранится в датасете `/datasets/toxic_comments.csv` и содержит 2 признака:\n",
    "\n",
    "- `text` - текст комментария\n",
    "- `toxic` - целевой признак (токсичные комментарии)\n",
    "    -  1 (негативный комментарий)\n",
    "    -  0 (негативного комментария не обнаружено)"
   ]
  },
  {
   "cell_type": "code",
   "execution_count": null,
   "metadata": {
    "id": "cphce3n2TR5N"
   },
   "outputs": [],
   "source": [
    "# Функция для ознакомления с таблицами\n",
    "def first_chek(df, dataset_name=''):\n",
    "    # Печатаем название датасета (если их несколько)\n",
    "    if dataset_name:\n",
    "        print(f'Анализ датасета: {dataset_name}')\n",
    "    else:\n",
    "        print('Анализ датасета')\n",
    "    print(\"=\" * 40 + \"\\n\")\n",
    "\n",
    "    print('Первые 5 строк:')\n",
    "    display(df.head())\n",
    "    print('\\nПоледние 5 строк:')\n",
    "    display(df.tail())\n",
    "    print('\\nРазмерность датасета:')\n",
    "    print(df.shape)\n",
    "\n",
    "    print('\\nИнформаци о данных')\n",
    "    print(df.info())\n",
    "\n",
    "    print('\\nОписательная статистика:')\n",
    "    display(df.describe(include='all'))"
   ]
  },
  {
   "cell_type": "code",
   "execution_count": null,
   "metadata": {
    "id": "IkDZL3dPTR5N",
    "outputId": "660b25a6-930c-4c16-9cd8-7d1549e3cd5a"
   },
   "outputs": [
    {
     "name": "stdout",
     "output_type": "stream",
     "text": [
      "Анализ датасета\n",
      "========================================\n",
      "\n",
      "Первые 5 строк:\n"
     ]
    },
    {
     "data": {
      "text/html": [
       "<div>\n",
       "<style scoped>\n",
       "    .dataframe tbody tr th:only-of-type {\n",
       "        vertical-align: middle;\n",
       "    }\n",
       "\n",
       "    .dataframe tbody tr th {\n",
       "        vertical-align: top;\n",
       "    }\n",
       "\n",
       "    .dataframe thead th {\n",
       "        text-align: right;\n",
       "    }\n",
       "</style>\n",
       "<table border=\"1\" class=\"dataframe\">\n",
       "  <thead>\n",
       "    <tr style=\"text-align: right;\">\n",
       "      <th></th>\n",
       "      <th>Unnamed: 0</th>\n",
       "      <th>text</th>\n",
       "      <th>toxic</th>\n",
       "    </tr>\n",
       "  </thead>\n",
       "  <tbody>\n",
       "    <tr>\n",
       "      <th>0</th>\n",
       "      <td>0</td>\n",
       "      <td>Explanation\\nWhy the edits made under my usern...</td>\n",
       "      <td>0</td>\n",
       "    </tr>\n",
       "    <tr>\n",
       "      <th>1</th>\n",
       "      <td>1</td>\n",
       "      <td>D'aww! He matches this background colour I'm s...</td>\n",
       "      <td>0</td>\n",
       "    </tr>\n",
       "    <tr>\n",
       "      <th>2</th>\n",
       "      <td>2</td>\n",
       "      <td>Hey man, I'm really not trying to edit war. It...</td>\n",
       "      <td>0</td>\n",
       "    </tr>\n",
       "    <tr>\n",
       "      <th>3</th>\n",
       "      <td>3</td>\n",
       "      <td>\"\\nMore\\nI can't make any real suggestions on ...</td>\n",
       "      <td>0</td>\n",
       "    </tr>\n",
       "    <tr>\n",
       "      <th>4</th>\n",
       "      <td>4</td>\n",
       "      <td>You, sir, are my hero. Any chance you remember...</td>\n",
       "      <td>0</td>\n",
       "    </tr>\n",
       "  </tbody>\n",
       "</table>\n",
       "</div>"
      ],
      "text/plain": [
       "   Unnamed: 0                                               text  toxic\n",
       "0           0  Explanation\\nWhy the edits made under my usern...      0\n",
       "1           1  D'aww! He matches this background colour I'm s...      0\n",
       "2           2  Hey man, I'm really not trying to edit war. It...      0\n",
       "3           3  \"\\nMore\\nI can't make any real suggestions on ...      0\n",
       "4           4  You, sir, are my hero. Any chance you remember...      0"
      ]
     },
     "metadata": {},
     "output_type": "display_data"
    },
    {
     "name": "stdout",
     "output_type": "stream",
     "text": [
      "\n",
      "Поледние 5 строк:\n"
     ]
    },
    {
     "data": {
      "text/html": [
       "<div>\n",
       "<style scoped>\n",
       "    .dataframe tbody tr th:only-of-type {\n",
       "        vertical-align: middle;\n",
       "    }\n",
       "\n",
       "    .dataframe tbody tr th {\n",
       "        vertical-align: top;\n",
       "    }\n",
       "\n",
       "    .dataframe thead th {\n",
       "        text-align: right;\n",
       "    }\n",
       "</style>\n",
       "<table border=\"1\" class=\"dataframe\">\n",
       "  <thead>\n",
       "    <tr style=\"text-align: right;\">\n",
       "      <th></th>\n",
       "      <th>Unnamed: 0</th>\n",
       "      <th>text</th>\n",
       "      <th>toxic</th>\n",
       "    </tr>\n",
       "  </thead>\n",
       "  <tbody>\n",
       "    <tr>\n",
       "      <th>159287</th>\n",
       "      <td>159446</td>\n",
       "      <td>\":::::And for the second time of asking, when ...</td>\n",
       "      <td>0</td>\n",
       "    </tr>\n",
       "    <tr>\n",
       "      <th>159288</th>\n",
       "      <td>159447</td>\n",
       "      <td>You should be ashamed of yourself \\n\\nThat is ...</td>\n",
       "      <td>0</td>\n",
       "    </tr>\n",
       "    <tr>\n",
       "      <th>159289</th>\n",
       "      <td>159448</td>\n",
       "      <td>Spitzer \\n\\nUmm, theres no actual article for ...</td>\n",
       "      <td>0</td>\n",
       "    </tr>\n",
       "    <tr>\n",
       "      <th>159290</th>\n",
       "      <td>159449</td>\n",
       "      <td>And it looks like it was actually you who put ...</td>\n",
       "      <td>0</td>\n",
       "    </tr>\n",
       "    <tr>\n",
       "      <th>159291</th>\n",
       "      <td>159450</td>\n",
       "      <td>\"\\nAnd ... I really don't think you understand...</td>\n",
       "      <td>0</td>\n",
       "    </tr>\n",
       "  </tbody>\n",
       "</table>\n",
       "</div>"
      ],
      "text/plain": [
       "        Unnamed: 0                                               text  toxic\n",
       "159287      159446  \":::::And for the second time of asking, when ...      0\n",
       "159288      159447  You should be ashamed of yourself \\n\\nThat is ...      0\n",
       "159289      159448  Spitzer \\n\\nUmm, theres no actual article for ...      0\n",
       "159290      159449  And it looks like it was actually you who put ...      0\n",
       "159291      159450  \"\\nAnd ... I really don't think you understand...      0"
      ]
     },
     "metadata": {},
     "output_type": "display_data"
    },
    {
     "name": "stdout",
     "output_type": "stream",
     "text": [
      "\n",
      "Размерность датасета:\n",
      "(159292, 3)\n",
      "\n",
      "Информаци о данных\n",
      "<class 'pandas.core.frame.DataFrame'>\n",
      "RangeIndex: 159292 entries, 0 to 159291\n",
      "Data columns (total 3 columns):\n",
      " #   Column      Non-Null Count   Dtype \n",
      "---  ------      --------------   ----- \n",
      " 0   Unnamed: 0  159292 non-null  int64 \n",
      " 1   text        159292 non-null  object\n",
      " 2   toxic       159292 non-null  int64 \n",
      "dtypes: int64(2), object(1)\n",
      "memory usage: 3.6+ MB\n",
      "None\n",
      "\n",
      "Описательная статистика:\n"
     ]
    },
    {
     "data": {
      "text/html": [
       "<div>\n",
       "<style scoped>\n",
       "    .dataframe tbody tr th:only-of-type {\n",
       "        vertical-align: middle;\n",
       "    }\n",
       "\n",
       "    .dataframe tbody tr th {\n",
       "        vertical-align: top;\n",
       "    }\n",
       "\n",
       "    .dataframe thead th {\n",
       "        text-align: right;\n",
       "    }\n",
       "</style>\n",
       "<table border=\"1\" class=\"dataframe\">\n",
       "  <thead>\n",
       "    <tr style=\"text-align: right;\">\n",
       "      <th></th>\n",
       "      <th>Unnamed: 0</th>\n",
       "      <th>text</th>\n",
       "      <th>toxic</th>\n",
       "    </tr>\n",
       "  </thead>\n",
       "  <tbody>\n",
       "    <tr>\n",
       "      <th>count</th>\n",
       "      <td>159292.000000</td>\n",
       "      <td>159292</td>\n",
       "      <td>159292.000000</td>\n",
       "    </tr>\n",
       "    <tr>\n",
       "      <th>unique</th>\n",
       "      <td>NaN</td>\n",
       "      <td>159292</td>\n",
       "      <td>NaN</td>\n",
       "    </tr>\n",
       "    <tr>\n",
       "      <th>top</th>\n",
       "      <td>NaN</td>\n",
       "      <td>wow.. just deleting my comments.. Great job on...</td>\n",
       "      <td>NaN</td>\n",
       "    </tr>\n",
       "    <tr>\n",
       "      <th>freq</th>\n",
       "      <td>NaN</td>\n",
       "      <td>1</td>\n",
       "      <td>NaN</td>\n",
       "    </tr>\n",
       "    <tr>\n",
       "      <th>mean</th>\n",
       "      <td>79725.697242</td>\n",
       "      <td>NaN</td>\n",
       "      <td>0.101612</td>\n",
       "    </tr>\n",
       "    <tr>\n",
       "      <th>std</th>\n",
       "      <td>46028.837471</td>\n",
       "      <td>NaN</td>\n",
       "      <td>0.302139</td>\n",
       "    </tr>\n",
       "    <tr>\n",
       "      <th>min</th>\n",
       "      <td>0.000000</td>\n",
       "      <td>NaN</td>\n",
       "      <td>0.000000</td>\n",
       "    </tr>\n",
       "    <tr>\n",
       "      <th>25%</th>\n",
       "      <td>39872.750000</td>\n",
       "      <td>NaN</td>\n",
       "      <td>0.000000</td>\n",
       "    </tr>\n",
       "    <tr>\n",
       "      <th>50%</th>\n",
       "      <td>79721.500000</td>\n",
       "      <td>NaN</td>\n",
       "      <td>0.000000</td>\n",
       "    </tr>\n",
       "    <tr>\n",
       "      <th>75%</th>\n",
       "      <td>119573.250000</td>\n",
       "      <td>NaN</td>\n",
       "      <td>0.000000</td>\n",
       "    </tr>\n",
       "    <tr>\n",
       "      <th>max</th>\n",
       "      <td>159450.000000</td>\n",
       "      <td>NaN</td>\n",
       "      <td>1.000000</td>\n",
       "    </tr>\n",
       "  </tbody>\n",
       "</table>\n",
       "</div>"
      ],
      "text/plain": [
       "           Unnamed: 0                                               text  \\\n",
       "count   159292.000000                                             159292   \n",
       "unique            NaN                                             159292   \n",
       "top               NaN  wow.. just deleting my comments.. Great job on...   \n",
       "freq              NaN                                                  1   \n",
       "mean     79725.697242                                                NaN   \n",
       "std      46028.837471                                                NaN   \n",
       "min          0.000000                                                NaN   \n",
       "25%      39872.750000                                                NaN   \n",
       "50%      79721.500000                                                NaN   \n",
       "75%     119573.250000                                                NaN   \n",
       "max     159450.000000                                                NaN   \n",
       "\n",
       "                toxic  \n",
       "count   159292.000000  \n",
       "unique            NaN  \n",
       "top               NaN  \n",
       "freq              NaN  \n",
       "mean         0.101612  \n",
       "std          0.302139  \n",
       "min          0.000000  \n",
       "25%          0.000000  \n",
       "50%          0.000000  \n",
       "75%          0.000000  \n",
       "max          1.000000  "
      ]
     },
     "metadata": {},
     "output_type": "display_data"
    }
   ],
   "source": [
    "first_chek(df)"
   ]
  },
  {
   "cell_type": "markdown",
   "metadata": {
    "id": "LVuKkrK4TR5N"
   },
   "source": [
    "Всего в датасете `df` 159292 строк и 3 столбца.\n",
    "\n",
    "При первичном анализе пропуски в столбцах не обнаружены.\n",
    "\n",
    "- Столбец `Unnamed: 0` это результат сохранения датасета с аргументом `index=True`. По последним столбцам можно увидеть, что индексы различаются, возможно некоторые объекты были удалены в процессе выгрузки, а значения индексов не сброшены."
   ]
  },
  {
   "cell_type": "code",
   "execution_count": null,
   "metadata": {
    "id": "kqyJZ4zcTR5O",
    "outputId": "0b115ff5-4b85-46f7-e4b5-ee55754feb17"
   },
   "outputs": [
    {
     "data": {
      "text/html": [
       "<div>\n",
       "<style scoped>\n",
       "    .dataframe tbody tr th:only-of-type {\n",
       "        vertical-align: middle;\n",
       "    }\n",
       "\n",
       "    .dataframe tbody tr th {\n",
       "        vertical-align: top;\n",
       "    }\n",
       "\n",
       "    .dataframe thead th {\n",
       "        text-align: right;\n",
       "    }\n",
       "</style>\n",
       "<table border=\"1\" class=\"dataframe\">\n",
       "  <thead>\n",
       "    <tr style=\"text-align: right;\">\n",
       "      <th></th>\n",
       "      <th>Unnamed: 0</th>\n",
       "      <th>text</th>\n",
       "      <th>toxic</th>\n",
       "    </tr>\n",
       "  </thead>\n",
       "  <tbody>\n",
       "    <tr>\n",
       "      <th>159287</th>\n",
       "      <td>159287</td>\n",
       "      <td>\":::::And for the second time of asking, when ...</td>\n",
       "      <td>0</td>\n",
       "    </tr>\n",
       "    <tr>\n",
       "      <th>159288</th>\n",
       "      <td>159288</td>\n",
       "      <td>You should be ashamed of yourself \\n\\nThat is ...</td>\n",
       "      <td>0</td>\n",
       "    </tr>\n",
       "    <tr>\n",
       "      <th>159289</th>\n",
       "      <td>159289</td>\n",
       "      <td>Spitzer \\n\\nUmm, theres no actual article for ...</td>\n",
       "      <td>0</td>\n",
       "    </tr>\n",
       "    <tr>\n",
       "      <th>159290</th>\n",
       "      <td>159290</td>\n",
       "      <td>And it looks like it was actually you who put ...</td>\n",
       "      <td>0</td>\n",
       "    </tr>\n",
       "    <tr>\n",
       "      <th>159291</th>\n",
       "      <td>159291</td>\n",
       "      <td>\"\\nAnd ... I really don't think you understand...</td>\n",
       "      <td>0</td>\n",
       "    </tr>\n",
       "  </tbody>\n",
       "</table>\n",
       "</div>"
      ],
      "text/plain": [
       "        Unnamed: 0                                               text  toxic\n",
       "159287      159287  \":::::And for the second time of asking, when ...      0\n",
       "159288      159288  You should be ashamed of yourself \\n\\nThat is ...      0\n",
       "159289      159289  Spitzer \\n\\nUmm, theres no actual article for ...      0\n",
       "159290      159290  And it looks like it was actually you who put ...      0\n",
       "159291      159291  \"\\nAnd ... I really don't think you understand...      0"
      ]
     },
     "execution_count": 6,
     "metadata": {},
     "output_type": "execute_result"
    }
   ],
   "source": [
    "df['Unnamed: 0'] = range(len(df))\n",
    "df.tail()"
   ]
  },
  {
   "cell_type": "code",
   "execution_count": null,
   "metadata": {
    "id": "7LpgMtnGTR5O",
    "outputId": "149d9d2d-8f96-4fb5-9b7f-44d4e4fd5bc9"
   },
   "outputs": [
    {
     "data": {
      "text/html": [
       "<div>\n",
       "<style scoped>\n",
       "    .dataframe tbody tr th:only-of-type {\n",
       "        vertical-align: middle;\n",
       "    }\n",
       "\n",
       "    .dataframe tbody tr th {\n",
       "        vertical-align: top;\n",
       "    }\n",
       "\n",
       "    .dataframe thead th {\n",
       "        text-align: right;\n",
       "    }\n",
       "</style>\n",
       "<table border=\"1\" class=\"dataframe\">\n",
       "  <thead>\n",
       "    <tr style=\"text-align: right;\">\n",
       "      <th></th>\n",
       "      <th>text</th>\n",
       "      <th>toxic</th>\n",
       "    </tr>\n",
       "  </thead>\n",
       "  <tbody>\n",
       "    <tr>\n",
       "      <th>0</th>\n",
       "      <td>Explanation\\nWhy the edits made under my usern...</td>\n",
       "      <td>0</td>\n",
       "    </tr>\n",
       "    <tr>\n",
       "      <th>1</th>\n",
       "      <td>D'aww! He matches this background colour I'm s...</td>\n",
       "      <td>0</td>\n",
       "    </tr>\n",
       "    <tr>\n",
       "      <th>2</th>\n",
       "      <td>Hey man, I'm really not trying to edit war. It...</td>\n",
       "      <td>0</td>\n",
       "    </tr>\n",
       "    <tr>\n",
       "      <th>3</th>\n",
       "      <td>\"\\nMore\\nI can't make any real suggestions on ...</td>\n",
       "      <td>0</td>\n",
       "    </tr>\n",
       "    <tr>\n",
       "      <th>4</th>\n",
       "      <td>You, sir, are my hero. Any chance you remember...</td>\n",
       "      <td>0</td>\n",
       "    </tr>\n",
       "  </tbody>\n",
       "</table>\n",
       "</div>"
      ],
      "text/plain": [
       "                                                text  toxic\n",
       "0  Explanation\\nWhy the edits made under my usern...      0\n",
       "1  D'aww! He matches this background colour I'm s...      0\n",
       "2  Hey man, I'm really not trying to edit war. It...      0\n",
       "3  \"\\nMore\\nI can't make any real suggestions on ...      0\n",
       "4  You, sir, are my hero. Any chance you remember...      0"
      ]
     },
     "execution_count": 7,
     "metadata": {},
     "output_type": "execute_result"
    }
   ],
   "source": [
    "# Удалим не нужный столбец\n",
    "df = df.drop(columns='Unnamed: 0', axis=1)\n",
    "df.head()"
   ]
  },
  {
   "cell_type": "code",
   "execution_count": null,
   "metadata": {
    "id": "ixzWjokuTR5O",
    "outputId": "0ccdfe63-e000-4080-8cf2-4ca30b2a7c3c"
   },
   "outputs": [
    {
     "data": {
      "image/png": "[encoded data removed]",
      "text/plain": [
       "<Figure size 500x300 with 1 Axes>"
      ]
     },
     "metadata": {},
     "output_type": "display_data"
    }
   ],
   "source": [
    "plt.figure(figsize=(5, 3))\n",
    "sns.countplot(x='toxic', data=df, color='skyblue')\n",
    "plt.ylabel('Количество')\n",
    "plt.title('Распределение значений toxic', fontsize=10)\n",
    "plt.show;"
   ]
  },
  {
   "cell_type": "code",
   "execution_count": null,
   "metadata": {
    "id": "3upqDKVYTR5O",
    "outputId": "3ef2653c-4972-43b3-8cd6-7ac1bff8abc4"
   },
   "outputs": [
    {
     "data": {
      "text/plain": [
       "0    89.838787\n",
       "1    10.161213\n",
       "Name: toxic, dtype: float64"
      ]
     },
     "execution_count": 9,
     "metadata": {},
     "output_type": "execute_result"
    }
   ],
   "source": [
    "df['toxic'].value_counts(normalize=True) * 100"
   ]
  },
  {
   "cell_type": "markdown",
   "metadata": {
    "id": "JcssEgf5TR5O"
   },
   "source": [
    "Выявлен сильный дисбаланс в целевой пременной."
   ]
  },
  {
   "cell_type": "markdown",
   "metadata": {
    "id": "pOyl2tZsTR5O"
   },
   "source": [
    "Подготовим данные перед обучением."
   ]
  },
  {
   "cell_type": "code",
   "execution_count": null,
   "metadata": {
    "id": "GSJw__DLTR5O",
    "outputId": "d957b106-da53-4e05-9a05-598daad15d81"
   },
   "outputs": [
    {
     "data": {
      "text/plain": [
       "(23894, 1)"
      ]
     },
     "execution_count": 10,
     "metadata": {},
     "output_type": "execute_result"
    }
   ],
   "source": [
    "# Выбираем 15% данных для ускорения обучения\n",
    "df_sample = df.sample(frac=0.15, random_state=RANDOM_STATE)\n",
    "\n",
    "X = df_sample.drop(columns='toxic', axis=1)\n",
    "y = df_sample['toxic']\n",
    "X.shape"
   ]
  },
  {
   "cell_type": "markdown",
   "metadata": {
    "id": "hEK0RmhOTR5P"
   },
   "source": [
    "Выполним токенизацию текста."
   ]
  },
  {
   "cell_type": "markdown",
   "metadata": {
    "id": "c3M7VMyFTR5P"
   },
   "source": [
    "TinyBERT - `unitary/toxic-bert` поддерживают максимальную длину входной последовательности 512 токенов. В данных есть тексты, которые после токенизации превращаются в последовательности из 905 токенов. Поэтому ограничим последовательности до 512 токенов."
   ]
  },
  {
   "cell_type": "code",
   "execution_count": null,
   "metadata": {
    "id": "4YEa8KamTR5P",
    "outputId": "bd36a1a2-f215-4e23-973f-1162994caf5f"
   },
   "outputs": [
    {
     "data": {
      "text/plain": [
       "(23894, 512)"
      ]
     },
     "execution_count": 11,
     "metadata": {},
     "output_type": "execute_result"
    }
   ],
   "source": [
    "# инициализируем токенизатор\n",
    "tokenizer = transformers.AutoTokenizer.from_pretrained('bert-base-uncased')\n",
    "\n",
    "tokenized = df_sample['text'].apply(\n",
    "    lambda x: tokenizer.encode(\n",
    "        x,\n",
    "        add_special_tokens=True,\n",
    "        max_length=512,      # Ограничение длины\n",
    "        truncation=True      # Обрезать текст, если превышает\n",
    "    )\n",
    ")\n",
    "\n",
    "n = tokenized.apply(len).max()\n",
    "padded = tokenized.apply(lambda x: x + [0]*(n - len(x)))\n",
    "padded = np.array(padded.tolist())\n",
    "attention_mask = np.where(padded != 0, 1, 0)\n",
    "attention_mask.shape"
   ]
  },
  {
   "cell_type": "code",
   "execution_count": null,
   "metadata": {
    "colab": {
     "referenced_widgets": [
      "318c1411a3f14406bc945783f34244a3"
     ]
    },
    "id": "qIkfUHOMTR5P",
    "outputId": "6d9a8706-323a-4245-f225-66f9e5d4e0d4"
   },
   "outputs": [
    {
     "data": {
      "application/vnd.jupyter.widget-view+json": {
       "model_id": "318c1411a3f14406bc945783f34244a3",
       "version_major": 2,
       "version_minor": 0
      },
      "text/plain": [
       "  0%|          | 0/238 [00:00<?, ?it/s]"
      ]
     },
     "metadata": {},
     "output_type": "display_data"
    }
   ],
   "source": [
    "config = transformers.AutoConfig.from_pretrained('unitary/toxic-bert')\n",
    "model = transformers.AutoModel.from_pretrained('unitary/toxic-bert', config=config)\n",
    "\n",
    "batch_size = 100\n",
    "embeddings = []\n",
    "for i in notebook.tqdm(range(padded.shape[0] // batch_size)):    # отображает прогресс-бар (работу цикла)\n",
    "        batch = torch.LongTensor(padded[batch_size*i:batch_size*(i+1)])    # Тензор, количество текстов в батче и количество токенов\n",
    "        attention_mask_batch = torch.LongTensor(attention_mask[batch_size*i:batch_size*(i+1)])\n",
    "\n",
    "        with torch.no_grad():\n",
    "            batch_embeddings = model(batch, attention_mask=attention_mask_batch)    # BERT возвращает кортеж, last_hidden_state и pooler_output\n",
    "\n",
    "        embeddings.append(batch_embeddings[0][:,0,:].numpy())                       # выбираем last_hidden_state, для каждого 101 CLS токена в\n",
    "                                                                                    # последовательности выводим его представление\n",
    "# Сохраняем все эмбеддинги в одином массиве\n",
    "X = np.concatenate(embeddings)"
   ]
  },
  {
   "cell_type": "code",
   "execution_count": null,
   "metadata": {
    "id": "CgdIdqpqTR5P",
    "outputId": "f6a657be-7587-43db-b01b-6cf78dedaff3"
   },
   "outputs": [
    {
     "data": {
      "text/plain": [
       "(23800, 768)"
      ]
     },
     "metadata": {},
     "output_type": "display_data"
    },
    {
     "data": {
      "text/plain": [
       "(23894,)"
      ]
     },
     "execution_count": 13,
     "metadata": {},
     "output_type": "execute_result"
    }
   ],
   "source": [
    "display(X.shape)\n",
    "y.shape"
   ]
  },
  {
   "cell_type": "markdown",
   "metadata": {
    "id": "RIDB1g4nTR5P"
   },
   "source": [
    "После целочисленного деления привело к потере 94 строк, чтобы исправить ситуацию и не получать эмбеддинги повторно, избавимся от 94 строк в цлевой переменной."
   ]
  },
  {
   "cell_type": "code",
   "execution_count": null,
   "metadata": {
    "id": "aSWmH6_7TR5P"
   },
   "outputs": [],
   "source": [
    "y = y[:X.shape[0]]"
   ]
  },
  {
   "cell_type": "code",
   "execution_count": null,
   "metadata": {
    "id": "y_SwneVKTR5P"
   },
   "outputs": [],
   "source": [
    "# Используем стратификацию, чтобы сохранить пропорцию классов\n",
    "X_train, X_test, y_train, y_test = train_test_split(X, y, random_state=RANDOM_STATE, stratify=y)"
   ]
  },
  {
   "cell_type": "code",
   "execution_count": null,
   "metadata": {
    "id": "SOAhKZQJTR5R",
    "outputId": "0b2d2480-91fa-4a7e-a246-6680c9b9b5c6"
   },
   "outputs": [
    {
     "data": {
      "text/plain": [
       "(17850, 768)"
      ]
     },
     "metadata": {},
     "output_type": "display_data"
    },
    {
     "data": {
      "text/plain": [
       "(17850,)"
      ]
     },
     "metadata": {},
     "output_type": "display_data"
    },
    {
     "data": {
      "text/plain": [
       "(5950, 768)"
      ]
     },
     "metadata": {},
     "output_type": "display_data"
    },
    {
     "data": {
      "text/plain": [
       "(5950,)"
      ]
     },
     "metadata": {},
     "output_type": "display_data"
    }
   ],
   "source": [
    "display(X_train.shape)\n",
    "display(y_train.shape)\n",
    "display(X_test.shape)\n",
    "display(y_test.shape)"
   ]
  },
  {
   "cell_type": "markdown",
   "metadata": {
    "id": "dkmHZu4FTR5R"
   },
   "source": [
    "## Обучение"
   ]
  },
  {
   "cell_type": "markdown",
   "metadata": {
    "id": "ygmlbjMcTR5R"
   },
   "source": [
    "Для обучения моделей будем использовать пайплайн"
   ]
  },
  {
   "cell_type": "code",
   "execution_count": null,
   "metadata": {
    "id": "OUnJMTnvTR5R"
   },
   "outputs": [],
   "source": [
    "# Создадим список с названиями признаков\n",
    "num_columns = slice(0, X_train.shape[1])  # Числовые признаки"
   ]
  },
  {
   "cell_type": "code",
   "execution_count": null,
   "metadata": {
    "id": "cdIUZZNXTR5R"
   },
   "outputs": [],
   "source": [
    "# Все признаки числовые (эмбеддинги BERT), поэтому применяем StandardScaler ко всем\n",
    "data_preprocessor = ColumnTransformer(\n",
    "    [\n",
    "        ('num', StandardScaler(), num_columns)\n",
    "    ],\n",
    "    remainder='passthrough'\n",
    ")"
   ]
  },
  {
   "cell_type": "code",
   "execution_count": null,
   "metadata": {
    "id": "JYxLbwRSTR5R"
   },
   "outputs": [],
   "source": [
    "# Итоговый пайплайн\n",
    "pipe_final = Pipeline(\n",
    "    [\n",
    "        ('preprocessor', data_preprocessor),\n",
    "        ('model', DecisionTreeClassifier(random_state=RANDOM_STATE))\n",
    "    ]\n",
    ")"
   ]
  },
  {
   "cell_type": "code",
   "execution_count": null,
   "metadata": {
    "id": "hQD28J8PTR5S"
   },
   "outputs": [],
   "source": [
    "# Словарь с моделями и их гиперпараметрами для RandomizedSearchCV\n",
    "param_grid = [\n",
    "    # Словарь для модели DecisionTreeRegressor()\n",
    "    {\n",
    "        'model': [DecisionTreeClassifier(class_weight='balanced', random_state=RANDOM_STATE)],\n",
    "        'model__max_depth': [None, 10, 20, 30],\n",
    "        'model__min_samples_split': [5, 10, 15],\n",
    "        'preprocessor__num': [StandardScaler(), FunctionTransformer()]\n",
    "    },\n",
    "\n",
    "    # Словарь для модели CatBoostRegressor()\n",
    "    {\n",
    "        'model': [CatBoostClassifier(verbose=0, random_state=RANDOM_STATE)],\n",
    "        'model__depth': [6, 8],\n",
    "        'model__iterations': [100, 500],\n",
    "        'model__learning_rate': [0.1, 0.15],\n",
    "        'model__class_weights': [[1, 8]],\n",
    "        'preprocessor__num': [StandardScaler(), FunctionTransformer()]\n",
    "    },\n",
    "\n",
    "    # Словарь для модели LinearRegression()\n",
    "    {\n",
    "        'model': [LogisticRegression(class_weight='balanced', random_state=RANDOM_STATE)],\n",
    "        'model__C': [0.1, 1, 10],\n",
    "        'model__penalty': ['l1', 'l2'],\n",
    "        'model__solver': ['liblinear'],\n",
    "        'preprocessor__num': [StandardScaler(), FunctionTransformer()]\n",
    "    },\n",
    "]"
   ]
  },
  {
   "cell_type": "code",
   "execution_count": null,
   "metadata": {
    "id": "RwNQx9x5TR5S",
    "outputId": "8cf075cf-3efd-4e17-9e76-f1d437e923e5"
   },
   "outputs": [
    {
     "name": "stderr",
     "output_type": "stream",
     "text": [
      "C:\\Users\\abdulagadzhi\\anaconda3\\envs\\practicum\\lib\\site-packages\\sklearn\\model_selection\\_search.py:918: UserWarning: One or more of the test scores are non-finite: [0.9209752  0.91549225 0.93306277 0.92372469 0.92299153 0.91161988\n",
      " 0.92158786 0.9222111  0.91452611 0.93853485 0.92372469 0.9215035\n",
      " 0.93423411 0.9223181  0.93815875 0.91161988 0.94239965 0.93416836\n",
      " 0.92651537        nan 0.9216647  0.92312241 0.9215035  0.92158786\n",
      " 0.93745949 0.94239965 0.93416836 0.92098215 0.91464696 0.92500525]\n",
      "  warnings.warn(\n"
     ]
    },
    {
     "data": {
      "text/plain": [
       "RandomizedSearchCV(cv=5,\n",
       "                   estimator=Pipeline(steps=[('preprocessor',\n",
       "                                              ColumnTransformer(remainder='passthrough',\n",
       "                                                                transformers=[('num',\n",
       "                                                                               StandardScaler(),\n",
       "                                                                               slice(0, 768, None))])),\n",
       "                                             ('model',\n",
       "                                              DecisionTreeClassifier(random_state=42))]),\n",
       "                   n_iter=30, n_jobs=-1,\n",
       "                   param_distributions=[{'model': [DecisionTreeClassifier(class_weight='balanced',\n",
       "                                                                          random_state=42)],\n",
       "                                         'model__max_de...\n",
       "                                         'model__iterations': [100, 500],\n",
       "                                         'model__learning_rate': [0.1, 0.15],\n",
       "                                         'preprocessor__num': [StandardScaler(),\n",
       "                                                               FunctionTransformer()]},\n",
       "                                        {'model': [LogisticRegression(class_weight='balanced',\n",
       "                                                                      random_state=42)],\n",
       "                                         'model__C': [0.1, 1, 10],\n",
       "                                         'model__penalty': ['l1', 'l2'],\n",
       "                                         'model__solver': ['liblinear'],\n",
       "                                         'preprocessor__num': [StandardScaler(),\n",
       "                                                               FunctionTransformer()]}],\n",
       "                   random_state=42, scoring='f1')"
      ]
     },
     "execution_count": 21,
     "metadata": {},
     "output_type": "execute_result"
    }
   ],
   "source": [
    "random_search = RandomizedSearchCV(\n",
    "    pipe_final,\n",
    "    param_grid,\n",
    "    cv=5,\n",
    "    scoring='f1',\n",
    "    n_iter=30,  # Количество случайных комбинаций\n",
    "    random_state=RANDOM_STATE,\n",
    "    n_jobs=-1\n",
    ")\n",
    "random_search.fit(X_train, y_train)"
   ]
  },
  {
   "cell_type": "code",
   "execution_count": null,
   "metadata": {
    "id": "ibrx_drKTR5W",
    "outputId": "3b5b739d-f4a9-4e23-ae93-c76fee1f920d"
   },
   "outputs": [
    {
     "name": "stdout",
     "output_type": "stream",
     "text": [
      "Лучшие параметры модели:\n"
     ]
    },
    {
     "data": {
      "text/plain": [
       "{'preprocessor__num': FunctionTransformer(),\n",
       " 'model__learning_rate': 0.1,\n",
       " 'model__iterations': 500,\n",
       " 'model__depth': 8,\n",
       " 'model__class_weights': [1, 8],\n",
       " 'model': <catboost.core.CatBoostClassifier at 0x1c40ae14ee0>}"
      ]
     },
     "execution_count": 22,
     "metadata": {},
     "output_type": "execute_result"
    }
   ],
   "source": [
    "best_params = random_search.best_params_\n",
    "print(f'Лучшие параметры модели:')\n",
    "best_params"
   ]
  },
  {
   "cell_type": "code",
   "execution_count": null,
   "metadata": {
    "id": "o9J-JgUcTR5W",
    "outputId": "cebb2520-ae47-4849-a295-213ac783e96f"
   },
   "outputs": [
    {
     "name": "stdout",
     "output_type": "stream",
     "text": [
      "Метрика F1, для модели CatBoostClassifier на кросс-валидации: 0.94\n"
     ]
    }
   ],
   "source": [
    "best_f1 = random_search.best_score_\n",
    "print(f'Метрика F1, для модели CatBoostClassifier на кросс-валидации: {best_f1:.2f}')"
   ]
  },
  {
   "cell_type": "markdown",
   "metadata": {
    "id": "_tku7xHoTR5W"
   },
   "source": [
    "Значение метрики F1 на кросс-валидации больше 0,94, что подходит под условие задачи."
   ]
  },
  {
   "cell_type": "code",
   "execution_count": null,
   "metadata": {
    "id": "0AhfS_ihTR5W",
    "outputId": "e8b0b4e7-e291-42d5-e54b-d09b97b6174e"
   },
   "outputs": [
    {
     "name": "stdout",
     "output_type": "stream",
     "text": [
      "F1 на тестовой выборке для лучшей модели: 0.94\n"
     ]
    }
   ],
   "source": [
    "best_model = random_search.best_estimator_\n",
    "y_pred_best = best_model.predict(X_test)\n",
    "test_f1 = f1_score(y_test, y_pred_best)\n",
    "print(f'F1 на тестовой выборке для лучшей модели: {test_f1:.2f}')"
   ]
  },
  {
   "cell_type": "markdown",
   "metadata": {
    "id": "5g8a1D1QTR5W"
   },
   "source": [
    "## Выводы"
   ]
  },
  {
   "cell_type": "markdown",
   "metadata": {
    "id": "GiwrRvW1TR5W"
   },
   "source": [
    "**Выводы по проекту**\n",
    "**1. Описание задачи**\n",
    "- **Цель**: Разработка модели для классификации комментариев на токсичные и нетоксичные с метрикой **F1 ≥ 0.75**.\n",
    "- **Бизнес-задача**: Автоматическая модерация контента в интернет-магазине **«Викишоп»**.\n",
    "- **Данные**:\n",
    "  - Датасет: `toxic_comments.csv`.\n",
    "  - Признаки: `text` (текст комментария), `toxic` (целевой признак: 0 — нетоксичный, 1 — токсичный).\n",
    "  - Размер: `159 292` комментария, дисбаланс классов (токсичные — `10.16%`, нетоксичные — `89.84%`).\n",
    "\n",
    "**2. Подготовка данных**\n",
    "- **Предобработка**:\n",
    "  - Удаление столбца (`Unnamed: 0`).\n",
    "- **Токенизация**:\n",
    "  - Использован `AutoTokenizer` и `AutoModel` для извлечения эмбеддингов **BERT**.\n",
    "  - Применена стратификация при разбиении на обучающую и тестовую выборки.\n",
    "- **Эмбеддинги**:\n",
    "  - Использован `[CLS]`-токен для классификации.\n",
    "  - Масштабирование признаков через `StandardScaler`.\n",
    "\n",
    "**3. Обучение моделей**\n",
    "- **Модели**:\n",
    "  - `DecisionTreeClassifier`, `LogisticRegression`, `CatBoostClassifier`.\n",
    "- **Поиск гиперпараметров**:\n",
    "  - Использован `RandomizedSearchCV` с `n_iter=30` и `cv=5`.\n",
    "- **Лучшая модель**:\n",
    "  - `CatBoostClassifier` с параметрами:\n",
    "    ```python\n",
    "    {\n",
    "      'model__depth': 8,\n",
    "      'model__iterations': 500,\n",
    "      'model__learning_rate': 0.1,\n",
    "      'preprocessor__num': FunctionTransformer(),\n",
    "      'model__class_weights': [1, 8]\n",
    "    }\n",
    "    ```\n",
    "  - **F1-метрика**:\n",
    "    - На кросс-валидации: **0.94**.\n",
    "    - На тестовой выборке: **0.94**.\n",
    "\n",
    "**5. Основные выводы**\n",
    "- **Лучшая модель**: `CatBoostClassifier` с эмбеддингами **BERT**.\n",
    "- **Метрика F1**: `0.94` (превышает целевое значение `0.75`).\n",
    "- **Ключевые факторы**:\n",
    "  1. **Использование BERT**.\n",
    "  2. **Взвешивание классов**: `class_weights=[1, 8]` компенсировало дисбаланс.\n",
    "  3. **Стратификация**: Сохранение пропорций классов при разбиении.\n",
    "\n",
    "**6. Рекомендации для бизнеса**\n",
    "1. **Внедрение модели**:\n",
    "   - Интеграция в веб-сервис для автоматической модерации.\n",
    "   - Отправка токсичных комментариев на ручную проверку.\n",
    "2. **Регулярное обновление модели**:\n",
    "   - Дообучение на новых данных для адаптации к эволюции языка.\n",
    "3. **Анализ ошибок**:\n",
    "   - Изучение случаев, где модель ошибается (например, скрытый сарказм).\n",
    "4. **Мониторинг пользовательского контента**:\n",
    "   - Использование модели для еженедельного анализа комментариев.\n",
    "   - Снижение нагрузки на модераторов за счёт автоматизации."
   ]
  }
 ],
 "metadata": {
  "colab": {
   "provenance": []
  },
  "kernelspec": {
   "display_name": "Python 3 (ipykernel)",
   "language": "python",
   "name": "python3"
  },
  "language_info": {
   "codemirror_mode": {
    "name": "ipython",
    "version": 3
   },
   "file_extension": ".py",
   "mimetype": "text/x-python",
   "name": "python",
   "nbconvert_exporter": "python",
   "pygments_lexer": "ipython3",
   "version": "3.13.2"
  },
  "toc": {
   "base_numbering": 1,
   "nav_menu": {},
   "number_sections": true,
   "sideBar": true,
   "skip_h1_title": true,
   "title_cell": "Содержание",
   "title_sidebar": "Contents",
   "toc_cell": true,
   "toc_position": {
    "height": "calc(100% - 180px)",
    "left": "10px",
    "top": "150px",
    "width": "302.391px"
   },
   "toc_section_display": true,
   "toc_window_display": false
  }
 },
 "nbformat": 4,
 "nbformat_minor": 4
}

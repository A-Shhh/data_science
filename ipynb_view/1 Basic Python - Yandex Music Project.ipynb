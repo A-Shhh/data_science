{
 "cells": [
  {
   "cell_type": "markdown",
   "metadata": {
    "deletable": false,
    "editable": false,
    "id": "E0vqbgi9ay0H"
   },
   "source": [
    "# Яндекс Музыка"
   ]
  },
  {
   "cell_type": "markdown",
   "metadata": {
    "deletable": false,
    "editable": false,
    "id": "VUC88oWjTJw2"
   },
   "source": [
    "Сравнение Москвы и Петербурга окружено мифами. Например:\n",
    " * Москва — мегаполис, подчинённый жёсткому ритму рабочей недели;\n",
    " * Петербург — культурная столица, со своими вкусами.\n",
    "\n",
    "На данных Яндекс Музыки вы сравните поведение пользователей двух столиц.\n",
    "\n",
    "**Цель исследования** — проверьте три гипотезы:\n",
    "1. Активность пользователей зависит от дня недели. Причём в Москве и Петербурге это проявляется по-разному.\n",
    "2. В понедельник утром в Москве преобладают одни жанры, а в Петербурге — другие. Так же и вечером пятницы преобладают разные жанры — в зависимости от города.\n",
    "3. Москва и Петербург предпочитают разные жанры музыки. В Москве чаще слушают поп-музыку, в Петербурге — русский рэп.\n",
    "\n",
    "**Ход исследования**\n",
    "\n",
    "Данные о поведении пользователей вы получите из файла `yandex_music_project.csv`. О качестве данных ничего не известно. Поэтому перед проверкой гипотез понадобится обзор данных.\n",
    "\n",
    "Вы проверите данные на ошибки и оцените их влияние на исследование. Затем, на этапе предобработки вы поищете возможность исправить самые критичные ошибки данных.\n",
    "\n",
    "Таким образом, исследование пройдёт в три этапа:\n",
    " 1. Обзор данных.\n",
    " 2. Предобработка данных.\n",
    " 3. Проверка гипотез.\n",
    "\n"
   ]
  },
  {
   "cell_type": "markdown",
   "metadata": {
    "deletable": false,
    "editable": false,
    "id": "Ml1hmfXC_Zcs"
   },
   "source": [
    "## Обзор данных\n",
    "\n",
    "Составьте первое представление о данных Яндекс Музыки.\n",
    "\n",
    "\n"
   ]
  },
  {
   "cell_type": "markdown",
   "metadata": {
    "deletable": false,
    "editable": false,
    "id": "57eAOGIz_Zcs",
    "tags": [
     "start_task"
    ]
   },
   "source": [
    "**Задание 1**"
   ]
  },
  {
   "cell_type": "code",
   "execution_count": 1,
   "metadata": {
    "deletable": false,
    "id": "AXN7PHPN_Zcs"
   },
   "outputs": [],
   "source": [
    "# импорт библиотеки pandas\n",
    "import pandas as pd"
   ]
  },
  {
   "cell_type": "markdown",
   "metadata": {
    "deletable": false,
    "editable": false,
    "id": "SG23P8tt_Zcs",
    "tags": [
     "start_task"
    ]
   },
   "source": [
    "**Задание 2**"
   ]
  },
  {
   "cell_type": "code",
   "execution_count": 2,
   "metadata": {
    "deletable": false,
    "id": "fFVu7vqh_Zct"
   },
   "outputs": [],
   "source": [
    "# чтение файла с данными и сохранение в df\n",
    "df = pd.read_csv('/datasets/yandex_music_project.csv')"
   ]
  },
  {
   "cell_type": "markdown",
   "metadata": {
    "deletable": false,
    "editable": false,
    "id": "rDoOMd3uTqnZ",
    "tags": [
     "start_task"
    ]
   },
   "source": [
    "**Задание 3**"
   ]
  },
  {
   "cell_type": "code",
   "execution_count": 3,
   "metadata": {
    "deletable": false,
    "id": "oWTVX3gW_Zct"
   },
   "outputs": [
    {
     "data": {
      "text/html": [
       "<div>\n",
       "<style scoped>\n",
       "    .dataframe tbody tr th:only-of-type {\n",
       "        vertical-align: middle;\n",
       "    }\n",
       "\n",
       "    .dataframe tbody tr th {\n",
       "        vertical-align: top;\n",
       "    }\n",
       "\n",
       "    .dataframe thead th {\n",
       "        text-align: right;\n",
       "    }\n",
       "</style>\n",
       "<table border=\"1\" class=\"dataframe\">\n",
       "  <thead>\n",
       "    <tr style=\"text-align: right;\">\n",
       "      <th></th>\n",
       "      <th>userID</th>\n",
       "      <th>Track</th>\n",
       "      <th>artist</th>\n",
       "      <th>genre</th>\n",
       "      <th>City</th>\n",
       "      <th>time</th>\n",
       "      <th>Day</th>\n",
       "    </tr>\n",
       "  </thead>\n",
       "  <tbody>\n",
       "    <tr>\n",
       "      <th>0</th>\n",
       "      <td>FFB692EC</td>\n",
       "      <td>Kamigata To Boots</td>\n",
       "      <td>The Mass Missile</td>\n",
       "      <td>rock</td>\n",
       "      <td>Saint-Petersburg</td>\n",
       "      <td>20:28:33</td>\n",
       "      <td>Wednesday</td>\n",
       "    </tr>\n",
       "    <tr>\n",
       "      <th>1</th>\n",
       "      <td>55204538</td>\n",
       "      <td>Delayed Because of Accident</td>\n",
       "      <td>Andreas Rönnberg</td>\n",
       "      <td>rock</td>\n",
       "      <td>Moscow</td>\n",
       "      <td>14:07:09</td>\n",
       "      <td>Friday</td>\n",
       "    </tr>\n",
       "    <tr>\n",
       "      <th>2</th>\n",
       "      <td>20EC38</td>\n",
       "      <td>Funiculì funiculà</td>\n",
       "      <td>Mario Lanza</td>\n",
       "      <td>pop</td>\n",
       "      <td>Saint-Petersburg</td>\n",
       "      <td>20:58:07</td>\n",
       "      <td>Wednesday</td>\n",
       "    </tr>\n",
       "    <tr>\n",
       "      <th>3</th>\n",
       "      <td>A3DD03C9</td>\n",
       "      <td>Dragons in the Sunset</td>\n",
       "      <td>Fire + Ice</td>\n",
       "      <td>folk</td>\n",
       "      <td>Saint-Petersburg</td>\n",
       "      <td>08:37:09</td>\n",
       "      <td>Monday</td>\n",
       "    </tr>\n",
       "    <tr>\n",
       "      <th>4</th>\n",
       "      <td>E2DC1FAE</td>\n",
       "      <td>Soul People</td>\n",
       "      <td>Space Echo</td>\n",
       "      <td>dance</td>\n",
       "      <td>Moscow</td>\n",
       "      <td>08:34:34</td>\n",
       "      <td>Monday</td>\n",
       "    </tr>\n",
       "    <tr>\n",
       "      <th>5</th>\n",
       "      <td>842029A1</td>\n",
       "      <td>Преданная</td>\n",
       "      <td>IMPERVTOR</td>\n",
       "      <td>rusrap</td>\n",
       "      <td>Saint-Petersburg</td>\n",
       "      <td>13:09:41</td>\n",
       "      <td>Friday</td>\n",
       "    </tr>\n",
       "    <tr>\n",
       "      <th>6</th>\n",
       "      <td>4CB90AA5</td>\n",
       "      <td>True</td>\n",
       "      <td>Roman Messer</td>\n",
       "      <td>dance</td>\n",
       "      <td>Moscow</td>\n",
       "      <td>13:00:07</td>\n",
       "      <td>Wednesday</td>\n",
       "    </tr>\n",
       "    <tr>\n",
       "      <th>7</th>\n",
       "      <td>F03E1C1F</td>\n",
       "      <td>Feeling This Way</td>\n",
       "      <td>Polina Griffith</td>\n",
       "      <td>dance</td>\n",
       "      <td>Moscow</td>\n",
       "      <td>20:47:49</td>\n",
       "      <td>Wednesday</td>\n",
       "    </tr>\n",
       "    <tr>\n",
       "      <th>8</th>\n",
       "      <td>8FA1D3BE</td>\n",
       "      <td>И вновь продолжается бой</td>\n",
       "      <td>NaN</td>\n",
       "      <td>ruspop</td>\n",
       "      <td>Moscow</td>\n",
       "      <td>09:17:40</td>\n",
       "      <td>Friday</td>\n",
       "    </tr>\n",
       "    <tr>\n",
       "      <th>9</th>\n",
       "      <td>E772D5C0</td>\n",
       "      <td>Pessimist</td>\n",
       "      <td>NaN</td>\n",
       "      <td>dance</td>\n",
       "      <td>Saint-Petersburg</td>\n",
       "      <td>21:20:49</td>\n",
       "      <td>Wednesday</td>\n",
       "    </tr>\n",
       "  </tbody>\n",
       "</table>\n",
       "</div>"
      ],
      "text/plain": [
       "     userID                        Track            artist   genre  \\\n",
       "0  FFB692EC            Kamigata To Boots  The Mass Missile    rock   \n",
       "1  55204538  Delayed Because of Accident  Andreas Rönnberg    rock   \n",
       "2    20EC38            Funiculì funiculà       Mario Lanza     pop   \n",
       "3  A3DD03C9        Dragons in the Sunset        Fire + Ice    folk   \n",
       "4  E2DC1FAE                  Soul People        Space Echo   dance   \n",
       "5  842029A1                    Преданная         IMPERVTOR  rusrap   \n",
       "6  4CB90AA5                         True      Roman Messer   dance   \n",
       "7  F03E1C1F             Feeling This Way   Polina Griffith   dance   \n",
       "8  8FA1D3BE     И вновь продолжается бой               NaN  ruspop   \n",
       "9  E772D5C0                    Pessimist               NaN   dance   \n",
       "\n",
       "             City        time        Day  \n",
       "0  Saint-Petersburg  20:28:33  Wednesday  \n",
       "1            Moscow  14:07:09     Friday  \n",
       "2  Saint-Petersburg  20:58:07  Wednesday  \n",
       "3  Saint-Petersburg  08:37:09     Monday  \n",
       "4            Moscow  08:34:34     Monday  \n",
       "5  Saint-Petersburg  13:09:41     Friday  \n",
       "6            Moscow  13:00:07  Wednesday  \n",
       "7            Moscow  20:47:49  Wednesday  \n",
       "8            Moscow  09:17:40     Friday  \n",
       "9  Saint-Petersburg  21:20:49  Wednesday  "
      ]
     },
     "execution_count": 3,
     "metadata": {},
     "output_type": "execute_result"
    }
   ],
   "source": [
    "# получение первых 10 строк таблицы df\n",
    "first_ten_df = df.head(10)\n",
    "first_ten_df"
   ]
  },
  {
   "cell_type": "markdown",
   "metadata": {
    "deletable": false,
    "editable": false,
    "id": "EO73Kwic_Zct",
    "tags": [
     "start_task"
    ]
   },
   "source": [
    "**Задание 4**"
   ]
  },
  {
   "cell_type": "code",
   "execution_count": 4,
   "metadata": {
    "deletable": false,
    "id": "DSf2kIb-_Zct"
   },
   "outputs": [
    {
     "name": "stdout",
     "output_type": "stream",
     "text": [
      "<class 'pandas.core.frame.DataFrame'>\n",
      "RangeIndex: 65079 entries, 0 to 65078\n",
      "Data columns (total 7 columns):\n",
      " #   Column    Non-Null Count  Dtype \n",
      "---  ------    --------------  ----- \n",
      " 0     userID  65079 non-null  object\n",
      " 1   Track     63848 non-null  object\n",
      " 2   artist    57876 non-null  object\n",
      " 3   genre     63881 non-null  object\n",
      " 4     City    65079 non-null  object\n",
      " 5   time      65079 non-null  object\n",
      " 6   Day       65079 non-null  object\n",
      "dtypes: object(7)\n",
      "memory usage: 3.5+ MB\n"
     ]
    }
   ],
   "source": [
    "# получение общей информации о данных в таблице df\n",
    "df.info()"
   ]
  },
  {
   "cell_type": "markdown",
   "metadata": {
    "deletable": false,
    "editable": false,
    "id": "TaQ2Iwbr_Zct"
   },
   "source": [
    "Количество значений в столбцах различается. Значит, в данных есть пропущенные значения."
   ]
  },
  {
   "cell_type": "markdown",
   "metadata": {
    "deletable": false,
    "editable": false,
    "id": "4P0UCWzswgEm",
    "tags": [
     "start_task"
    ]
   },
   "source": [
    "**Задание 5**"
   ]
  },
  {
   "cell_type": "code",
   "execution_count": 5,
   "metadata": {
    "id": "c137-ZstwgEm"
   },
   "outputs": [],
   "source": [
    "# Напишите ваш ответ здесь комментарием. Не удаляйте символ #. Не меняйте тип этой ячейки на Markdown.\n",
    "# Всего сторк 65079. В столбцак Track, artist, genre имеются пропуски.\n",
    "# Так же нужно привести все к змеиному регистру '  userID' и другие 'Track', '  City' и 'Day'"
   ]
  },
  {
   "cell_type": "markdown",
   "metadata": {
    "deletable": false,
    "editable": false,
    "id": "MCB6-dXG_Zct"
   },
   "source": [
    "**Выводы**\n",
    "\n",
    "В каждой строке таблицы — данные о прослушанном треке. Часть колонок описывает саму композицию: название, исполнителя и жанр. Остальные данные рассказывают о пользователе: из какого он города, когда он слушал музыку.\n",
    "\n",
    "Предварительно можно утверждать, что данных достаточно для проверки гипотез. Но встречаются пропуски в данных, а в названиях колонок — расхождения с хорошим стилем.\n",
    "\n",
    "Чтобы двигаться дальше, нужно устранить проблемы в данных."
   ]
  },
  {
   "cell_type": "markdown",
   "metadata": {
    "deletable": false,
    "editable": false,
    "id": "SjYF6Ub9_Zct"
   },
   "source": [
    "## Предобработка данных"
   ]
  },
  {
   "cell_type": "markdown",
   "metadata": {
    "deletable": false,
    "editable": false,
    "id": "dIaKXr29_Zct",
    "tags": [
     "start_task"
    ]
   },
   "source": [
    "### Переименование столбцов\n",
    "\n",
    "**Задание 6**"
   ]
  },
  {
   "cell_type": "code",
   "execution_count": 6,
   "metadata": {
    "deletable": false,
    "id": "oKOTdF_Q_Zct"
   },
   "outputs": [
    {
     "data": {
      "text/plain": [
       "Index(['  userID', 'Track', 'artist', 'genre', '  City  ', 'time', 'Day'], dtype='object')"
      ]
     },
     "execution_count": 6,
     "metadata": {},
     "output_type": "execute_result"
    }
   ],
   "source": [
    "# перечень названий столбцов таблицы df\n",
    "df.columns"
   ]
  },
  {
   "cell_type": "markdown",
   "metadata": {
    "deletable": false,
    "editable": false,
    "id": "zj5534cv_Zct",
    "tags": [
     "start_task"
    ]
   },
   "source": [
    "**Задание 7**"
   ]
  },
  {
   "cell_type": "code",
   "execution_count": 7,
   "metadata": {
    "deletable": false,
    "id": "ISlFqs5y_Zct"
   },
   "outputs": [
    {
     "data": {
      "text/html": [
       "<div>\n",
       "<style scoped>\n",
       "    .dataframe tbody tr th:only-of-type {\n",
       "        vertical-align: middle;\n",
       "    }\n",
       "\n",
       "    .dataframe tbody tr th {\n",
       "        vertical-align: top;\n",
       "    }\n",
       "\n",
       "    .dataframe thead th {\n",
       "        text-align: right;\n",
       "    }\n",
       "</style>\n",
       "<table border=\"1\" class=\"dataframe\">\n",
       "  <thead>\n",
       "    <tr style=\"text-align: right;\">\n",
       "      <th></th>\n",
       "      <th>user_id</th>\n",
       "      <th>track</th>\n",
       "      <th>artist</th>\n",
       "      <th>genre</th>\n",
       "      <th>city</th>\n",
       "      <th>time</th>\n",
       "      <th>day</th>\n",
       "    </tr>\n",
       "  </thead>\n",
       "  <tbody>\n",
       "    <tr>\n",
       "      <th>0</th>\n",
       "      <td>FFB692EC</td>\n",
       "      <td>Kamigata To Boots</td>\n",
       "      <td>The Mass Missile</td>\n",
       "      <td>rock</td>\n",
       "      <td>Saint-Petersburg</td>\n",
       "      <td>20:28:33</td>\n",
       "      <td>Wednesday</td>\n",
       "    </tr>\n",
       "    <tr>\n",
       "      <th>1</th>\n",
       "      <td>55204538</td>\n",
       "      <td>Delayed Because of Accident</td>\n",
       "      <td>Andreas Rönnberg</td>\n",
       "      <td>rock</td>\n",
       "      <td>Moscow</td>\n",
       "      <td>14:07:09</td>\n",
       "      <td>Friday</td>\n",
       "    </tr>\n",
       "    <tr>\n",
       "      <th>2</th>\n",
       "      <td>20EC38</td>\n",
       "      <td>Funiculì funiculà</td>\n",
       "      <td>Mario Lanza</td>\n",
       "      <td>pop</td>\n",
       "      <td>Saint-Petersburg</td>\n",
       "      <td>20:58:07</td>\n",
       "      <td>Wednesday</td>\n",
       "    </tr>\n",
       "    <tr>\n",
       "      <th>3</th>\n",
       "      <td>A3DD03C9</td>\n",
       "      <td>Dragons in the Sunset</td>\n",
       "      <td>Fire + Ice</td>\n",
       "      <td>folk</td>\n",
       "      <td>Saint-Petersburg</td>\n",
       "      <td>08:37:09</td>\n",
       "      <td>Monday</td>\n",
       "    </tr>\n",
       "    <tr>\n",
       "      <th>4</th>\n",
       "      <td>E2DC1FAE</td>\n",
       "      <td>Soul People</td>\n",
       "      <td>Space Echo</td>\n",
       "      <td>dance</td>\n",
       "      <td>Moscow</td>\n",
       "      <td>08:34:34</td>\n",
       "      <td>Monday</td>\n",
       "    </tr>\n",
       "    <tr>\n",
       "      <th>...</th>\n",
       "      <td>...</td>\n",
       "      <td>...</td>\n",
       "      <td>...</td>\n",
       "      <td>...</td>\n",
       "      <td>...</td>\n",
       "      <td>...</td>\n",
       "      <td>...</td>\n",
       "    </tr>\n",
       "    <tr>\n",
       "      <th>65074</th>\n",
       "      <td>729CBB09</td>\n",
       "      <td>My Name</td>\n",
       "      <td>McLean</td>\n",
       "      <td>rnb</td>\n",
       "      <td>Moscow</td>\n",
       "      <td>13:32:28</td>\n",
       "      <td>Wednesday</td>\n",
       "    </tr>\n",
       "    <tr>\n",
       "      <th>65075</th>\n",
       "      <td>D08D4A55</td>\n",
       "      <td>Maybe One Day (feat. Black Spade)</td>\n",
       "      <td>Blu &amp; Exile</td>\n",
       "      <td>hip</td>\n",
       "      <td>Saint-Petersburg</td>\n",
       "      <td>10:00:00</td>\n",
       "      <td>Monday</td>\n",
       "    </tr>\n",
       "    <tr>\n",
       "      <th>65076</th>\n",
       "      <td>C5E3A0D5</td>\n",
       "      <td>Jalopiina</td>\n",
       "      <td>NaN</td>\n",
       "      <td>industrial</td>\n",
       "      <td>Moscow</td>\n",
       "      <td>20:09:26</td>\n",
       "      <td>Friday</td>\n",
       "    </tr>\n",
       "    <tr>\n",
       "      <th>65077</th>\n",
       "      <td>321D0506</td>\n",
       "      <td>Freight Train</td>\n",
       "      <td>Chas McDevitt</td>\n",
       "      <td>rock</td>\n",
       "      <td>Moscow</td>\n",
       "      <td>21:43:59</td>\n",
       "      <td>Friday</td>\n",
       "    </tr>\n",
       "    <tr>\n",
       "      <th>65078</th>\n",
       "      <td>3A64EF84</td>\n",
       "      <td>Tell Me Sweet Little Lies</td>\n",
       "      <td>Monica Lopez</td>\n",
       "      <td>country</td>\n",
       "      <td>Moscow</td>\n",
       "      <td>21:59:46</td>\n",
       "      <td>Friday</td>\n",
       "    </tr>\n",
       "  </tbody>\n",
       "</table>\n",
       "<p>65079 rows × 7 columns</p>\n",
       "</div>"
      ],
      "text/plain": [
       "        user_id                              track            artist  \\\n",
       "0      FFB692EC                  Kamigata To Boots  The Mass Missile   \n",
       "1      55204538        Delayed Because of Accident  Andreas Rönnberg   \n",
       "2        20EC38                  Funiculì funiculà       Mario Lanza   \n",
       "3      A3DD03C9              Dragons in the Sunset        Fire + Ice   \n",
       "4      E2DC1FAE                        Soul People        Space Echo   \n",
       "...         ...                                ...               ...   \n",
       "65074  729CBB09                            My Name            McLean   \n",
       "65075  D08D4A55  Maybe One Day (feat. Black Spade)       Blu & Exile   \n",
       "65076  C5E3A0D5                          Jalopiina               NaN   \n",
       "65077  321D0506                      Freight Train     Chas McDevitt   \n",
       "65078  3A64EF84          Tell Me Sweet Little Lies      Monica Lopez   \n",
       "\n",
       "            genre              city      time        day  \n",
       "0            rock  Saint-Petersburg  20:28:33  Wednesday  \n",
       "1            rock            Moscow  14:07:09     Friday  \n",
       "2             pop  Saint-Petersburg  20:58:07  Wednesday  \n",
       "3            folk  Saint-Petersburg  08:37:09     Monday  \n",
       "4           dance            Moscow  08:34:34     Monday  \n",
       "...           ...               ...       ...        ...  \n",
       "65074         rnb            Moscow  13:32:28  Wednesday  \n",
       "65075         hip  Saint-Petersburg  10:00:00     Monday  \n",
       "65076  industrial            Moscow  20:09:26     Friday  \n",
       "65077        rock            Moscow  21:43:59     Friday  \n",
       "65078     country            Moscow  21:59:46     Friday  \n",
       "\n",
       "[65079 rows x 7 columns]"
      ]
     },
     "execution_count": 7,
     "metadata": {},
     "output_type": "execute_result"
    }
   ],
   "source": [
    "# переименование столбцов\n",
    "df = df.rename(columns={'  userID':'user_id', 'Track':'track', '  City  ':'city', 'Day':'day'})\n",
    "df"
   ]
  },
  {
   "cell_type": "markdown",
   "metadata": {
    "deletable": false,
    "editable": false,
    "id": "1dqbh00J_Zct",
    "tags": [
     "start_task"
    ]
   },
   "source": [
    "**Задание 8**"
   ]
  },
  {
   "cell_type": "code",
   "execution_count": 8,
   "metadata": {
    "deletable": false,
    "id": "d4NOAmTW_Zct"
   },
   "outputs": [
    {
     "data": {
      "text/plain": [
       "Index(['user_id', 'track', 'artist', 'genre', 'city', 'time', 'day'], dtype='object')"
      ]
     },
     "execution_count": 8,
     "metadata": {},
     "output_type": "execute_result"
    }
   ],
   "source": [
    "# проверка результатов - перечень названий столбцов\n",
    "df.columns"
   ]
  },
  {
   "cell_type": "markdown",
   "metadata": {
    "deletable": false,
    "editable": false,
    "id": "5ISfbcfY_Zct",
    "tags": [
     "start_task"
    ]
   },
   "source": [
    "### Обработка пропущенных значений\n",
    "\n",
    "**Задание 9**"
   ]
  },
  {
   "cell_type": "code",
   "execution_count": 9,
   "metadata": {
    "deletable": false,
    "id": "RskX29qr_Zct",
    "scrolled": false
   },
   "outputs": [
    {
     "data": {
      "text/plain": [
       "user_id       0\n",
       "track      1231\n",
       "artist     7203\n",
       "genre      1198\n",
       "city          0\n",
       "time          0\n",
       "day           0\n",
       "dtype: int64"
      ]
     },
     "execution_count": 9,
     "metadata": {},
     "output_type": "execute_result"
    }
   ],
   "source": [
    "# подсчёт пропусков\n",
    "df.isna().sum()"
   ]
  },
  {
   "cell_type": "markdown",
   "metadata": {
    "deletable": false,
    "editable": false,
    "id": "fSv2laPA_Zct",
    "tags": [
     "start_task"
    ]
   },
   "source": [
    "**Задание 10**"
   ]
  },
  {
   "cell_type": "code",
   "execution_count": 10,
   "metadata": {
    "deletable": false,
    "id": "KplB5qWs_Zct"
   },
   "outputs": [],
   "source": [
    "# замена пропущенных значений на 'unknown'\n",
    "columns_to_replace = ['track','artist','genre']\n",
    "for column in columns_to_replace:\n",
    "    df[column] = df[column].fillna('unknown')"
   ]
  },
  {
   "cell_type": "markdown",
   "metadata": {
    "deletable": false,
    "editable": false,
    "id": "Ilsm-MZo_Zct",
    "tags": [
     "start_task"
    ]
   },
   "source": [
    "**Задание 11**"
   ]
  },
  {
   "cell_type": "code",
   "execution_count": 11,
   "metadata": {
    "deletable": false,
    "id": "Tq4nYRX4_Zct"
   },
   "outputs": [
    {
     "data": {
      "text/plain": [
       "user_id    0\n",
       "track      0\n",
       "artist     0\n",
       "genre      0\n",
       "city       0\n",
       "time       0\n",
       "day        0\n",
       "dtype: int64"
      ]
     },
     "execution_count": 11,
     "metadata": {},
     "output_type": "execute_result"
    }
   ],
   "source": [
    "# проверка на отсутствие пропусков\n",
    "df.isna().sum()"
   ]
  },
  {
   "cell_type": "markdown",
   "metadata": {
    "deletable": false,
    "editable": false,
    "id": "BWKRtBJ3_Zct",
    "tags": [
     "start_task"
    ]
   },
   "source": [
    "### Обработка дубликатов\n",
    "\n",
    "**Задание 12**"
   ]
  },
  {
   "cell_type": "code",
   "execution_count": 12,
   "metadata": {
    "deletable": false,
    "id": "36eES_S0_Zct"
   },
   "outputs": [
    {
     "data": {
      "text/plain": [
       "3826"
      ]
     },
     "execution_count": 12,
     "metadata": {},
     "output_type": "execute_result"
    }
   ],
   "source": [
    "# подсчёт явных дубликатов\n",
    "df.duplicated().sum()"
   ]
  },
  {
   "cell_type": "markdown",
   "metadata": {
    "deletable": false,
    "editable": false,
    "id": "Ot25h6XR_Zct",
    "tags": [
     "start_task"
    ]
   },
   "source": [
    "**Задание 13**"
   ]
  },
  {
   "cell_type": "code",
   "execution_count": 13,
   "metadata": {
    "deletable": false,
    "id": "exFHq6tt_Zct"
   },
   "outputs": [],
   "source": [
    "# удаление явных дубликатов, создание новых индексов и удаление старых\n",
    "df = df.drop_duplicates().reset_index(drop=True)"
   ]
  },
  {
   "cell_type": "markdown",
   "metadata": {
    "deletable": false,
    "editable": false,
    "id": "Im2YwBEG_Zct",
    "tags": [
     "start_task"
    ]
   },
   "source": [
    "**Задание 14**"
   ]
  },
  {
   "cell_type": "code",
   "execution_count": 14,
   "metadata": {
    "deletable": false,
    "id": "-8PuNWQ0_Zct"
   },
   "outputs": [
    {
     "data": {
      "text/plain": [
       "0"
      ]
     },
     "execution_count": 14,
     "metadata": {},
     "output_type": "execute_result"
    }
   ],
   "source": [
    "# проверка на отсутствие явных дубликатов\n",
    "df.duplicated().sum()"
   ]
  },
  {
   "cell_type": "markdown",
   "metadata": {
    "deletable": false,
    "editable": false,
    "id": "eSjWwsOh_Zct",
    "tags": [
     "start_task"
    ]
   },
   "source": [
    "**Задание 15**"
   ]
  },
  {
   "cell_type": "code",
   "execution_count": 15,
   "metadata": {
    "deletable": false,
    "id": "JIUcqzZN_Zct",
    "scrolled": true
   },
   "outputs": [
    {
     "data": {
      "text/plain": [
       "['acid',\n",
       " 'acoustic',\n",
       " 'action',\n",
       " 'adult',\n",
       " 'africa',\n",
       " 'afrikaans',\n",
       " 'alternative',\n",
       " 'alternativepunk',\n",
       " 'ambient',\n",
       " 'americana',\n",
       " 'animated',\n",
       " 'anime',\n",
       " 'arabesk',\n",
       " 'arabic',\n",
       " 'arena',\n",
       " 'argentinetango',\n",
       " 'art',\n",
       " 'audiobook',\n",
       " 'author',\n",
       " 'avantgarde',\n",
       " 'axé',\n",
       " 'baile',\n",
       " 'balkan',\n",
       " 'beats',\n",
       " 'bigroom',\n",
       " 'black',\n",
       " 'bluegrass',\n",
       " 'blues',\n",
       " 'bollywood',\n",
       " 'bossa',\n",
       " 'brazilian',\n",
       " 'breakbeat',\n",
       " 'breaks',\n",
       " 'broadway',\n",
       " 'cantautori',\n",
       " 'cantopop',\n",
       " 'canzone',\n",
       " 'caribbean',\n",
       " 'caucasian',\n",
       " 'celtic',\n",
       " 'chamber',\n",
       " 'chanson',\n",
       " 'children',\n",
       " 'chill',\n",
       " 'chinese',\n",
       " 'choral',\n",
       " 'christian',\n",
       " 'christmas',\n",
       " 'classical',\n",
       " 'classicmetal',\n",
       " 'club',\n",
       " 'colombian',\n",
       " 'comedy',\n",
       " 'conjazz',\n",
       " 'contemporary',\n",
       " 'country',\n",
       " 'cuban',\n",
       " 'dance',\n",
       " 'dancehall',\n",
       " 'dancepop',\n",
       " 'dark',\n",
       " 'death',\n",
       " 'deep',\n",
       " 'deutschrock',\n",
       " 'deutschspr',\n",
       " 'dirty',\n",
       " 'disco',\n",
       " 'dnb',\n",
       " 'documentary',\n",
       " 'downbeat',\n",
       " 'downtempo',\n",
       " 'drum',\n",
       " 'dub',\n",
       " 'dubstep',\n",
       " 'eastern',\n",
       " 'easy',\n",
       " 'electronic',\n",
       " 'electropop',\n",
       " 'emo',\n",
       " 'entehno',\n",
       " 'epicmetal',\n",
       " 'estrada',\n",
       " 'ethnic',\n",
       " 'eurofolk',\n",
       " 'european',\n",
       " 'experimental',\n",
       " 'extrememetal',\n",
       " 'fado',\n",
       " 'fairytail',\n",
       " 'film',\n",
       " 'fitness',\n",
       " 'flamenco',\n",
       " 'folk',\n",
       " 'folklore',\n",
       " 'folkmetal',\n",
       " 'folkrock',\n",
       " 'folktronica',\n",
       " 'forró',\n",
       " 'frankreich',\n",
       " 'französisch',\n",
       " 'french',\n",
       " 'funk',\n",
       " 'future',\n",
       " 'gangsta',\n",
       " 'garage',\n",
       " 'german',\n",
       " 'ghazal',\n",
       " 'gitarre',\n",
       " 'glitch',\n",
       " 'gospel',\n",
       " 'gothic',\n",
       " 'grime',\n",
       " 'grunge',\n",
       " 'gypsy',\n",
       " 'handsup',\n",
       " \"hard'n'heavy\",\n",
       " 'hardcore',\n",
       " 'hardstyle',\n",
       " 'hardtechno',\n",
       " 'hip',\n",
       " 'hip-hop',\n",
       " 'hiphop',\n",
       " 'historisch',\n",
       " 'holiday',\n",
       " 'hop',\n",
       " 'horror',\n",
       " 'house',\n",
       " 'hymn',\n",
       " 'idm',\n",
       " 'independent',\n",
       " 'indian',\n",
       " 'indie',\n",
       " 'indipop',\n",
       " 'industrial',\n",
       " 'inspirational',\n",
       " 'instrumental',\n",
       " 'international',\n",
       " 'irish',\n",
       " 'jam',\n",
       " 'japanese',\n",
       " 'jazz',\n",
       " 'jewish',\n",
       " 'jpop',\n",
       " 'jungle',\n",
       " 'k-pop',\n",
       " 'karadeniz',\n",
       " 'karaoke',\n",
       " 'kayokyoku',\n",
       " 'korean',\n",
       " 'laiko',\n",
       " 'latin',\n",
       " 'latino',\n",
       " 'leftfield',\n",
       " 'local',\n",
       " 'lounge',\n",
       " 'loungeelectronic',\n",
       " 'lovers',\n",
       " 'malaysian',\n",
       " 'mandopop',\n",
       " 'marschmusik',\n",
       " 'meditative',\n",
       " 'mediterranean',\n",
       " 'melodic',\n",
       " 'metal',\n",
       " 'metalcore',\n",
       " 'mexican',\n",
       " 'middle',\n",
       " 'minimal',\n",
       " 'miscellaneous',\n",
       " 'modern',\n",
       " 'mood',\n",
       " 'mpb',\n",
       " 'muslim',\n",
       " 'native',\n",
       " 'neoklassik',\n",
       " 'neue',\n",
       " 'new',\n",
       " 'newage',\n",
       " 'newwave',\n",
       " 'nu',\n",
       " 'nujazz',\n",
       " 'numetal',\n",
       " 'oceania',\n",
       " 'old',\n",
       " 'opera',\n",
       " 'orchestral',\n",
       " 'other',\n",
       " 'piano',\n",
       " 'podcasts',\n",
       " 'pop',\n",
       " 'popdance',\n",
       " 'popelectronic',\n",
       " 'popeurodance',\n",
       " 'poprussian',\n",
       " 'post',\n",
       " 'posthardcore',\n",
       " 'postrock',\n",
       " 'power',\n",
       " 'progmetal',\n",
       " 'progressive',\n",
       " 'psychedelic',\n",
       " 'punjabi',\n",
       " 'punk',\n",
       " 'quebecois',\n",
       " 'ragga',\n",
       " 'ram',\n",
       " 'rancheras',\n",
       " 'rap',\n",
       " 'rave',\n",
       " 'reggae',\n",
       " 'reggaeton',\n",
       " 'regional',\n",
       " 'relax',\n",
       " 'religious',\n",
       " 'retro',\n",
       " 'rhythm',\n",
       " 'rnb',\n",
       " 'rnr',\n",
       " 'rock',\n",
       " 'rockabilly',\n",
       " 'rockalternative',\n",
       " 'rockindie',\n",
       " 'rockother',\n",
       " 'romance',\n",
       " 'roots',\n",
       " 'ruspop',\n",
       " 'rusrap',\n",
       " 'rusrock',\n",
       " 'russian',\n",
       " 'salsa',\n",
       " 'samba',\n",
       " 'scenic',\n",
       " 'schlager',\n",
       " 'self',\n",
       " 'sertanejo',\n",
       " 'shanson',\n",
       " 'shoegazing',\n",
       " 'showtunes',\n",
       " 'singer',\n",
       " 'ska',\n",
       " 'skarock',\n",
       " 'slow',\n",
       " 'smooth',\n",
       " 'soft',\n",
       " 'soul',\n",
       " 'soulful',\n",
       " 'sound',\n",
       " 'soundtrack',\n",
       " 'southern',\n",
       " 'specialty',\n",
       " 'speech',\n",
       " 'spiritual',\n",
       " 'sport',\n",
       " 'stonerrock',\n",
       " 'surf',\n",
       " 'swing',\n",
       " 'synthpop',\n",
       " 'synthrock',\n",
       " 'sängerportrait',\n",
       " 'tango',\n",
       " 'tanzorchester',\n",
       " 'taraftar',\n",
       " 'tatar',\n",
       " 'tech',\n",
       " 'techno',\n",
       " 'teen',\n",
       " 'thrash',\n",
       " 'top',\n",
       " 'traditional',\n",
       " 'tradjazz',\n",
       " 'trance',\n",
       " 'tribal',\n",
       " 'trip',\n",
       " 'triphop',\n",
       " 'tropical',\n",
       " 'türk',\n",
       " 'türkçe',\n",
       " 'ukrrock',\n",
       " 'unknown',\n",
       " 'urban',\n",
       " 'uzbek',\n",
       " 'variété',\n",
       " 'vi',\n",
       " 'videogame',\n",
       " 'vocal',\n",
       " 'western',\n",
       " 'world',\n",
       " 'worldbeat',\n",
       " 'ïîï',\n",
       " 'электроника']"
      ]
     },
     "execution_count": 15,
     "metadata": {},
     "output_type": "execute_result"
    }
   ],
   "source": [
    "# просмотр уникальных отсортированных названий жанров\n",
    "genre_sort = sorted(df['genre'].unique())\n",
    "genre_sort"
   ]
  },
  {
   "cell_type": "markdown",
   "metadata": {
    "deletable": false,
    "editable": false,
    "id": "qej-Qmuo_Zct",
    "tags": [
     "start_task"
    ]
   },
   "source": [
    "**Задание 16**"
   ]
  },
  {
   "cell_type": "code",
   "execution_count": 16,
   "metadata": {
    "deletable": false,
    "id": "ErNDkmns_Zct"
   },
   "outputs": [],
   "source": [
    "# устранение неявных дубликатов\n",
    "duplicat = ['hip', 'hop', 'hip-hop']\n",
    "true = 'hiphop'\n",
    "df['genre'] = df['genre'].replace(duplicat, true)"
   ]
  },
  {
   "cell_type": "markdown",
   "metadata": {
    "deletable": false,
    "editable": false,
    "id": "zQKF16_RG15m",
    "tags": [
     "start_task"
    ]
   },
   "source": [
    "**Задание 17**"
   ]
  },
  {
   "cell_type": "code",
   "execution_count": 17,
   "metadata": {
    "deletable": false,
    "id": "wvixALnFG15m",
    "scrolled": true
   },
   "outputs": [
    {
     "name": "stdout",
     "output_type": "stream",
     "text": [
      "['acid', 'acoustic', 'action', 'adult', 'africa', 'afrikaans', 'alternative', 'alternativepunk', 'ambient', 'americana', 'animated', 'anime', 'arabesk', 'arabic', 'arena', 'argentinetango', 'art', 'audiobook', 'author', 'avantgarde', 'axé', 'baile', 'balkan', 'beats', 'bigroom', 'black', 'bluegrass', 'blues', 'bollywood', 'bossa', 'brazilian', 'breakbeat', 'breaks', 'broadway', 'cantautori', 'cantopop', 'canzone', 'caribbean', 'caucasian', 'celtic', 'chamber', 'chanson', 'children', 'chill', 'chinese', 'choral', 'christian', 'christmas', 'classical', 'classicmetal', 'club', 'colombian', 'comedy', 'conjazz', 'contemporary', 'country', 'cuban', 'dance', 'dancehall', 'dancepop', 'dark', 'death', 'deep', 'deutschrock', 'deutschspr', 'dirty', 'disco', 'dnb', 'documentary', 'downbeat', 'downtempo', 'drum', 'dub', 'dubstep', 'eastern', 'easy', 'electronic', 'electropop', 'emo', 'entehno', 'epicmetal', 'estrada', 'ethnic', 'eurofolk', 'european', 'experimental', 'extrememetal', 'fado', 'fairytail', 'film', 'fitness', 'flamenco', 'folk', 'folklore', 'folkmetal', 'folkrock', 'folktronica', 'forró', 'frankreich', 'französisch', 'french', 'funk', 'future', 'gangsta', 'garage', 'german', 'ghazal', 'gitarre', 'glitch', 'gospel', 'gothic', 'grime', 'grunge', 'gypsy', 'handsup', \"hard'n'heavy\", 'hardcore', 'hardstyle', 'hardtechno', 'hiphop', 'historisch', 'holiday', 'horror', 'house', 'hymn', 'idm', 'independent', 'indian', 'indie', 'indipop', 'industrial', 'inspirational', 'instrumental', 'international', 'irish', 'jam', 'japanese', 'jazz', 'jewish', 'jpop', 'jungle', 'k-pop', 'karadeniz', 'karaoke', 'kayokyoku', 'korean', 'laiko', 'latin', 'latino', 'leftfield', 'local', 'lounge', 'loungeelectronic', 'lovers', 'malaysian', 'mandopop', 'marschmusik', 'meditative', 'mediterranean', 'melodic', 'metal', 'metalcore', 'mexican', 'middle', 'minimal', 'miscellaneous', 'modern', 'mood', 'mpb', 'muslim', 'native', 'neoklassik', 'neue', 'new', 'newage', 'newwave', 'nu', 'nujazz', 'numetal', 'oceania', 'old', 'opera', 'orchestral', 'other', 'piano', 'podcasts', 'pop', 'popdance', 'popelectronic', 'popeurodance', 'poprussian', 'post', 'posthardcore', 'postrock', 'power', 'progmetal', 'progressive', 'psychedelic', 'punjabi', 'punk', 'quebecois', 'ragga', 'ram', 'rancheras', 'rap', 'rave', 'reggae', 'reggaeton', 'regional', 'relax', 'religious', 'retro', 'rhythm', 'rnb', 'rnr', 'rock', 'rockabilly', 'rockalternative', 'rockindie', 'rockother', 'romance', 'roots', 'ruspop', 'rusrap', 'rusrock', 'russian', 'salsa', 'samba', 'scenic', 'schlager', 'self', 'sertanejo', 'shanson', 'shoegazing', 'showtunes', 'singer', 'ska', 'skarock', 'slow', 'smooth', 'soft', 'soul', 'soulful', 'sound', 'soundtrack', 'southern', 'specialty', 'speech', 'spiritual', 'sport', 'stonerrock', 'surf', 'swing', 'synthpop', 'synthrock', 'sängerportrait', 'tango', 'tanzorchester', 'taraftar', 'tatar', 'tech', 'techno', 'teen', 'thrash', 'top', 'traditional', 'tradjazz', 'trance', 'tribal', 'trip', 'triphop', 'tropical', 'türk', 'türkçe', 'ukrrock', 'unknown', 'urban', 'uzbek', 'variété', 'vi', 'videogame', 'vocal', 'western', 'world', 'worldbeat', 'ïîï', 'электроника']\n"
     ]
    }
   ],
   "source": [
    "# проверка на отсутствие неявных дубликатов\n",
    "print(sorted(df['genre'].unique()))"
   ]
  },
  {
   "cell_type": "markdown",
   "metadata": {
    "deletable": false,
    "editable": false,
    "id": "jz6a9-7HQUDd"
   },
   "source": [
    "**Выводы**\n",
    "\n",
    "Предобработка обнаружила три проблемы в данных:\n",
    "\n",
    "- нарушения в стиле заголовков,\n",
    "- пропущенные значения,\n",
    "- дубликаты — явные и неявные.\n",
    "\n",
    "Вы исправили заголовки, чтобы упростить работу с таблицей. Без дубликатов исследование станет более точным.\n",
    "\n",
    "Пропущенные значения вы заменили на `'unknown'`. Ещё предстоит увидеть, не повредят ли исследованию пропуски в колонке `genre`.\n",
    "\n",
    "Теперь можно перейти к проверке гипотез."
   ]
  },
  {
   "cell_type": "markdown",
   "metadata": {
    "deletable": false,
    "editable": false,
    "id": "WttZHXH0SqKk"
   },
   "source": [
    "## Проверка гипотез"
   ]
  },
  {
   "cell_type": "markdown",
   "metadata": {
    "deletable": false,
    "editable": false,
    "id": "Im936VVi_Zcu"
   },
   "source": [
    "### Сравнение поведения пользователей двух столиц"
   ]
  },
  {
   "cell_type": "markdown",
   "metadata": {
    "deletable": false,
    "editable": false,
    "id": "nwt_MuaL_Zcu"
   },
   "source": [
    "Первая гипотеза утверждает, что пользователи по-разному слушают музыку в Москве и Санкт-Петербурге. Проверим это предположение по данным о трёх днях недели — понедельнике, среде и пятнице. Для этого:\n",
    "\n",
    "* Разделим пользователей Москвы и Санкт-Петербурга.\n",
    "* Сравним, сколько треков послушала каждая группа пользователей в понедельник, среду и пятницу.\n"
   ]
  },
  {
   "cell_type": "markdown",
   "metadata": {
    "deletable": false,
    "id": "8Dw_YMmT_Zcu",
    "tags": [
     "start_task"
    ]
   },
   "source": [
    "**Задание 18**\n",
    "\n"
   ]
  },
  {
   "cell_type": "code",
   "execution_count": 18,
   "metadata": {
    "deletable": false,
    "id": "0_Qs96oh_Zcu",
    "scrolled": true
   },
   "outputs": [
    {
     "data": {
      "text/plain": [
       "city\n",
       "Moscow              42741\n",
       "Saint-Petersburg    18512\n",
       "Name: genre, dtype: int64"
      ]
     },
     "execution_count": 18,
     "metadata": {},
     "output_type": "execute_result"
    }
   ],
   "source": [
    "# подсчёт прослушиваний в каждом городе\n",
    "city_df = df.groupby('city')['genre'].count()\n",
    "city_df"
   ]
  },
  {
   "cell_type": "markdown",
   "metadata": {
    "id": "dzli3w8o_Zcu",
    "tags": [
     "start_task"
    ]
   },
   "source": [
    "**Задание 19**\n"
   ]
  },
  {
   "cell_type": "code",
   "execution_count": 19,
   "metadata": {
    "deletable": false,
    "id": "uZMKjiJz_Zcu",
    "scrolled": false
   },
   "outputs": [
    {
     "data": {
      "text/plain": [
       "day\n",
       "Friday       21840\n",
       "Monday       21354\n",
       "Wednesday    18059\n",
       "Name: genre, dtype: int64"
      ]
     },
     "execution_count": 19,
     "metadata": {},
     "output_type": "execute_result"
    }
   ],
   "source": [
    "# подсчёт прослушиваний в каждый из трёх дней\n",
    "day_df = df.groupby('day')['genre'].count()\n",
    "day_df"
   ]
  },
  {
   "cell_type": "markdown",
   "metadata": {
    "deletable": false,
    "editable": false,
    "id": "POzs8bGa_Zcu",
    "tags": [
     "start_task"
    ]
   },
   "source": [
    "**Задание 20**"
   ]
  },
  {
   "cell_type": "code",
   "execution_count": 20,
   "metadata": {
    "deletable": false,
    "id": "Nz3GdQB1_Zcu"
   },
   "outputs": [],
   "source": [
    "def number_tracks(day, city):\n",
    "    # выберите только строки df со значением переменной day в столбце day\n",
    "    track_list = df[df['day'] == day]\n",
    "    # выберите только строки track_list со значением переменной city в столбце city\n",
    "    track_list = track_list[track_list['city'] == city]\n",
    "    # вызовите метод подсчета строк для track_list и выберите столбец user_id\n",
    "    track_list_count = track_list['user_id'].count()\n",
    "    # верните значение track_list_count из функции\n",
    "    return track_list_count"
   ]
  },
  {
   "cell_type": "markdown",
   "metadata": {
    "deletable": false,
    "editable": false,
    "id": "ytf7xFrFJQ2r",
    "tags": [
     "start_task"
    ]
   },
   "source": [
    "**Задание 21**"
   ]
  },
  {
   "cell_type": "code",
   "execution_count": 21,
   "metadata": {
    "deletable": false,
    "id": "rJcRATNQ_Zcu"
   },
   "outputs": [
    {
     "data": {
      "text/plain": [
       "15740"
      ]
     },
     "execution_count": 21,
     "metadata": {},
     "output_type": "execute_result"
    }
   ],
   "source": [
    "# количество прослушиваний в Москве по понедельникам\n",
    "number_tracks('Monday', 'Moscow')"
   ]
  },
  {
   "cell_type": "code",
   "execution_count": 22,
   "metadata": {
    "deletable": false,
    "id": "hq_ncZ5T_Zcu"
   },
   "outputs": [
    {
     "data": {
      "text/plain": [
       "5614"
      ]
     },
     "execution_count": 22,
     "metadata": {},
     "output_type": "execute_result"
    }
   ],
   "source": [
    "# количество прослушиваний в Санкт-Петербурге по понедельникам\n",
    "number_tracks('Monday', 'Saint-Petersburg')"
   ]
  },
  {
   "cell_type": "code",
   "execution_count": 23,
   "metadata": {
    "deletable": false,
    "id": "_NTy2VPU_Zcu"
   },
   "outputs": [
    {
     "data": {
      "text/plain": [
       "11056"
      ]
     },
     "execution_count": 23,
     "metadata": {},
     "output_type": "execute_result"
    }
   ],
   "source": [
    "# количество прослушиваний в Москве по средам\n",
    "number_tracks('Wednesday', 'Moscow')"
   ]
  },
  {
   "cell_type": "code",
   "execution_count": 24,
   "metadata": {
    "deletable": false,
    "id": "j2y3TAwo_Zcu"
   },
   "outputs": [
    {
     "data": {
      "text/plain": [
       "7003"
      ]
     },
     "execution_count": 24,
     "metadata": {},
     "output_type": "execute_result"
    }
   ],
   "source": [
    "# количество прослушиваний в Санкт-Петербурге по средам\n",
    "number_tracks('Wednesday', 'Saint-Petersburg')"
   ]
  },
  {
   "cell_type": "code",
   "execution_count": 25,
   "metadata": {
    "deletable": false,
    "id": "vYDw5u_K_Zcu"
   },
   "outputs": [
    {
     "data": {
      "text/plain": [
       "15945"
      ]
     },
     "execution_count": 25,
     "metadata": {},
     "output_type": "execute_result"
    }
   ],
   "source": [
    "# количество прослушиваний в Москве по пятницам\n",
    "number_tracks('Friday', 'Moscow')"
   ]
  },
  {
   "cell_type": "code",
   "execution_count": 26,
   "metadata": {
    "deletable": false,
    "id": "8_yzFtW3_Zcu"
   },
   "outputs": [
    {
     "data": {
      "text/plain": [
       "5895"
      ]
     },
     "execution_count": 26,
     "metadata": {},
     "output_type": "execute_result"
    }
   ],
   "source": [
    "# количество прослушиваний в Санкт-Петербурге по пятницам\n",
    "number_tracks('Friday', 'Saint-Petersburg')"
   ]
  },
  {
   "cell_type": "markdown",
   "metadata": {
    "deletable": false,
    "editable": false,
    "id": "7QXffbO-_Zcu",
    "tags": [
     "start_task"
    ]
   },
   "source": [
    "**Задание 22**"
   ]
  },
  {
   "cell_type": "code",
   "execution_count": 27,
   "metadata": {
    "deletable": false,
    "id": "APAcLpOr_Zcu"
   },
   "outputs": [
    {
     "data": {
      "text/html": [
       "<div>\n",
       "<style scoped>\n",
       "    .dataframe tbody tr th:only-of-type {\n",
       "        vertical-align: middle;\n",
       "    }\n",
       "\n",
       "    .dataframe tbody tr th {\n",
       "        vertical-align: top;\n",
       "    }\n",
       "\n",
       "    .dataframe thead th {\n",
       "        text-align: right;\n",
       "    }\n",
       "</style>\n",
       "<table border=\"1\" class=\"dataframe\">\n",
       "  <thead>\n",
       "    <tr style=\"text-align: right;\">\n",
       "      <th></th>\n",
       "      <th>city</th>\n",
       "      <th>monday</th>\n",
       "      <th>wednesday</th>\n",
       "      <th>friday</th>\n",
       "    </tr>\n",
       "  </thead>\n",
       "  <tbody>\n",
       "    <tr>\n",
       "      <th>0</th>\n",
       "      <td>Moscow</td>\n",
       "      <td>15740</td>\n",
       "      <td>11056</td>\n",
       "      <td>15945</td>\n",
       "    </tr>\n",
       "    <tr>\n",
       "      <th>1</th>\n",
       "      <td>Saint-Petersburg</td>\n",
       "      <td>5614</td>\n",
       "      <td>7003</td>\n",
       "      <td>5895</td>\n",
       "    </tr>\n",
       "  </tbody>\n",
       "</table>\n",
       "</div>"
      ],
      "text/plain": [
       "               city  monday  wednesday  friday\n",
       "0            Moscow   15740      11056   15945\n",
       "1  Saint-Petersburg    5614       7003    5895"
      ]
     },
     "execution_count": 27,
     "metadata": {},
     "output_type": "execute_result"
    }
   ],
   "source": [
    "# создание таблицы с результатами\n",
    "col = ['city', 'monday', 'wednesday', 'friday']\n",
    "row = [['Moscow', 15740, 11056, 15945,],\n",
    "       ['Saint-Petersburg', 5614, 7003, 5895]]\n",
    "# вывод таблицы на экран\n",
    "info = pd.DataFrame(data=row, columns=col, )\n",
    "info"
   ]
  },
  {
   "cell_type": "markdown",
   "metadata": {
    "deletable": false,
    "editable": false,
    "id": "-EgPIHYu_Zcu"
   },
   "source": [
    "**Выводы**\n",
    "\n",
    "Данные показывают разницу поведения пользователей:\n",
    "\n",
    "- В Москве пик прослушиваний приходится на понедельник и пятницу, а в среду заметен спад.\n",
    "- В Петербурге, наоборот, больше слушают музыку по средам. Активность в понедельник и пятницу здесь почти в равной мере уступает среде.\n",
    "\n",
    "Значит, данные говорят в пользу первой гипотезы."
   ]
  },
  {
   "cell_type": "markdown",
   "metadata": {
    "deletable": false,
    "editable": false,
    "id": "atZAxtq4_Zcu"
   },
   "source": [
    "### Музыка в начале и в конце недели"
   ]
  },
  {
   "cell_type": "markdown",
   "metadata": {
    "deletable": false,
    "editable": false,
    "id": "eXrQqXFH_Zcu"
   },
   "source": [
    "Согласно второй гипотезе, утром в понедельник в Москве преобладают одни жанры, а в Петербурге — другие. Так же и вечером пятницы преобладают разные жанры — в зависимости от города."
   ]
  },
  {
   "cell_type": "markdown",
   "metadata": {
    "deletable": false,
    "editable": false,
    "id": "S8UcW6Hw_Zcu",
    "tags": [
     "start_task"
    ]
   },
   "source": [
    "**Задание 23**"
   ]
  },
  {
   "cell_type": "code",
   "execution_count": 28,
   "metadata": {
    "deletable": false,
    "id": "qeaFfM_P_Zcu"
   },
   "outputs": [],
   "source": [
    "# получение таблицы moscow_general из тех строк таблицы df, для которых значение в столбце 'city' равно 'Moscow'\n",
    "moscow_general = df[df['city'] == 'Moscow']"
   ]
  },
  {
   "cell_type": "code",
   "execution_count": 29,
   "metadata": {
    "deletable": false,
    "id": "ORaVRKto_Zcu"
   },
   "outputs": [],
   "source": [
    "# получение таблицы spb_general из тех строк таблицы df, для которых значение в столбце 'city' равно 'Saint-Petersburg'\n",
    "spb_general = df[df['city'] == 'Saint-Petersburg']"
   ]
  },
  {
   "cell_type": "markdown",
   "metadata": {
    "deletable": false,
    "editable": false,
    "id": "MEJV-CX2_Zcu",
    "tags": [
     "start_task"
    ]
   },
   "source": [
    "**Задание 24**"
   ]
  },
  {
   "cell_type": "code",
   "execution_count": 30,
   "metadata": {
    "deletable": false,
    "id": "laJT9BYl_Zcu"
   },
   "outputs": [],
   "source": [
    "def genre_weekday(df, day, time1, time2):\n",
    "    # оставляем в genre_df только те строки df, у которых день равен day\n",
    "    genre_df = df[df['day'] == day]\n",
    "    # оставляем в genre_df только те строки genre_df, у которых время меньше time2\n",
    "    genre_df = genre_df[genre_df['time'] < time2]\n",
    "    # оставляем в genre_df только те строки genre_df, у которых время больше time1\n",
    "    genre_df = genre_df[genre_df['time'] > time1]\n",
    "    # сгруппируем отфильтрованный датафрейм по столбцу с названиями жанров, возьмём столбец genre и посчитаем кол-во строк для каждого жанра методом count()\n",
    "    genre_df_grouped = genre_df.groupby('genre')['genre'].count()\n",
    "    # отсортируем результат по убыванию (чтобы в начале Series оказались самые популярные жанры)\n",
    "    genre_df_sorted = genre_df_grouped.sort_values(ascending=False)\n",
    "    # вернём Series с 10 самыми популярными жанрами в указанный отрезок времени заданного дня\n",
    "    return genre_df_sorted[:10]"
   ]
  },
  {
   "cell_type": "markdown",
   "metadata": {
    "deletable": false,
    "editable": false,
    "id": "la2s2_PF_Zcu",
    "tags": [
     "start_task"
    ]
   },
   "source": [
    "**Задание 25**"
   ]
  },
  {
   "cell_type": "code",
   "execution_count": 31,
   "metadata": {
    "deletable": false,
    "id": "yz7itPUQ_Zcu"
   },
   "outputs": [
    {
     "data": {
      "text/plain": [
       "genre\n",
       "pop            781\n",
       "dance          549\n",
       "electronic     480\n",
       "rock           474\n",
       "hiphop         286\n",
       "ruspop         186\n",
       "world          181\n",
       "rusrap         175\n",
       "alternative    164\n",
       "unknown        161\n",
       "Name: genre, dtype: int64"
      ]
     },
     "execution_count": 31,
     "metadata": {},
     "output_type": "execute_result"
    }
   ],
   "source": [
    "# вызов функции для утра понедельника в Москве (вместо df — таблица moscow_general)\n",
    "genre_weekday(moscow_general, 'Monday', '07:00', '11:00')"
   ]
  },
  {
   "cell_type": "code",
   "execution_count": 32,
   "metadata": {
    "deletable": false,
    "id": "kwUcHPdy_Zcu"
   },
   "outputs": [
    {
     "data": {
      "text/plain": [
       "genre\n",
       "pop            218\n",
       "dance          182\n",
       "rock           162\n",
       "electronic     147\n",
       "hiphop          80\n",
       "ruspop          64\n",
       "alternative     58\n",
       "rusrap          55\n",
       "jazz            44\n",
       "classical       40\n",
       "Name: genre, dtype: int64"
      ]
     },
     "execution_count": 32,
     "metadata": {},
     "output_type": "execute_result"
    }
   ],
   "source": [
    "# вызов функции для утра понедельника в Петербурге (вместо df — таблица spb_general)\n",
    "genre_weekday(spb_general, 'Monday', '07:00', '11:00')"
   ]
  },
  {
   "cell_type": "code",
   "execution_count": 33,
   "metadata": {
    "deletable": false,
    "id": "EzXVRE1o_Zcu"
   },
   "outputs": [
    {
     "data": {
      "text/plain": [
       "genre\n",
       "pop            713\n",
       "rock           517\n",
       "dance          495\n",
       "electronic     482\n",
       "hiphop         273\n",
       "world          208\n",
       "ruspop         170\n",
       "alternative    163\n",
       "classical      163\n",
       "rusrap         142\n",
       "Name: genre, dtype: int64"
      ]
     },
     "execution_count": 33,
     "metadata": {},
     "output_type": "execute_result"
    }
   ],
   "source": [
    "# вызов функции для вечера пятницы в Москве\n",
    "genre_weekday(moscow_general, 'Friday', '17:00', '23:00')"
   ]
  },
  {
   "cell_type": "code",
   "execution_count": 34,
   "metadata": {
    "deletable": false,
    "id": "JZaEKu5v_Zcu"
   },
   "outputs": [
    {
     "data": {
      "text/plain": [
       "genre\n",
       "pop            256\n",
       "electronic     216\n",
       "rock           216\n",
       "dance          210\n",
       "hiphop          97\n",
       "alternative     63\n",
       "jazz            61\n",
       "classical       60\n",
       "rusrap          59\n",
       "world           54\n",
       "Name: genre, dtype: int64"
      ]
     },
     "execution_count": 34,
     "metadata": {},
     "output_type": "execute_result"
    }
   ],
   "source": [
    "# вызов функции для вечера пятницы в Петербурге\n",
    "genre_weekday(spb_general, 'Friday', '17:00', '23:00')"
   ]
  },
  {
   "cell_type": "markdown",
   "metadata": {
    "deletable": false,
    "editable": false,
    "id": "wrCe4MNX_Zcu"
   },
   "source": [
    "**Выводы**\n",
    "\n",
    "Если сравнить топ-10 жанров в понедельник утром, можно сделать такие выводы:\n",
    "\n",
    "1. В Москве и Петербурге слушают похожую музыку. Единственное различие — в московский рейтинг вошёл жанр “world”, а в петербургский — джаз и классика.\n",
    "\n",
    "2. В Москве пропущенных значений оказалось так много, что значение `'unknown'` заняло десятое место среди самых популярных жанров. Значит, пропущенные значения занимают существенную долю в данных и угрожают достоверности исследования.\n",
    "\n",
    "Вечер пятницы не меняет эту картину. Некоторые жанры поднимаются немного выше, другие спускаются, но в целом топ-10 остаётся тем же самым.\n",
    "\n",
    "Таким образом, вторая гипотеза подтвердилась лишь частично:\n",
    "* Пользователи слушают похожую музыку в начале недели и в конце.\n",
    "* Разница между Москвой и Петербургом не слишком выражена. В Москве чаще слушают русскую популярную музыку, в Петербурге — джаз.\n",
    "\n",
    "Однако пропуски в данных ставят под сомнение этот результат. В Москве их так много, что рейтинг топ-10 мог бы выглядеть иначе, если бы не утерянные  данные о жанрах."
   ]
  },
  {
   "cell_type": "markdown",
   "metadata": {
    "deletable": false,
    "editable": false,
    "id": "JolODAqr_Zcu"
   },
   "source": [
    "### Жанровые предпочтения в Москве и Петербурге\n",
    "\n",
    "Гипотеза: Петербург — столица рэпа, музыку этого жанра там слушают чаще, чем в Москве.  А Москва — город контрастов, в котором, тем не менее, преобладает поп-музыка."
   ]
  },
  {
   "cell_type": "markdown",
   "metadata": {
    "deletable": false,
    "editable": false,
    "id": "DlegSvaT_Zcu",
    "tags": [
     "start_task"
    ]
   },
   "source": [
    "**Задание 26**"
   ]
  },
  {
   "cell_type": "code",
   "execution_count": 35,
   "metadata": {
    "deletable": false,
    "id": "r19lIPke_Zcu"
   },
   "outputs": [],
   "source": [
    "# одной строкой: группировка таблицы moscow_general по столбцу 'genre', выбор столбца `genre`, подсчёт числа значений 'genre' методом count(), сохранение в moscow_genres\n",
    "moscow_genres = moscow_general.groupby('genre')['genre'].count()\n",
    "# сортировка получившегося Series в порядке убывания и сохранение обратно в moscow_genres\n",
    "moscow_genres = moscow_genres.sort_values(ascending=False)"
   ]
  },
  {
   "cell_type": "markdown",
   "metadata": {
    "deletable": false,
    "editable": false,
    "id": "6kMuomxTiIr8",
    "tags": [
     "start_task"
    ]
   },
   "source": [
    "**Задание 27**"
   ]
  },
  {
   "cell_type": "code",
   "execution_count": 36,
   "metadata": {
    "deletable": false,
    "id": "WhCSooF8_Zcv"
   },
   "outputs": [
    {
     "data": {
      "text/plain": [
       "genre\n",
       "pop            5892\n",
       "dance          4435\n",
       "rock           3965\n",
       "electronic     3786\n",
       "hiphop         2096\n",
       "classical      1616\n",
       "world          1432\n",
       "alternative    1379\n",
       "ruspop         1372\n",
       "rusrap         1161\n",
       "Name: genre, dtype: int64"
      ]
     },
     "execution_count": 36,
     "metadata": {},
     "output_type": "execute_result"
    }
   ],
   "source": [
    "# просмотр первых 10 строк moscow_genres\n",
    "moscow_genres.head(10)"
   ]
  },
  {
   "cell_type": "markdown",
   "metadata": {
    "deletable": false,
    "editable": false,
    "id": "cnPG2vnN_Zcv",
    "tags": [
     "start_task"
    ]
   },
   "source": [
    "**Задание 28**"
   ]
  },
  {
   "cell_type": "code",
   "execution_count": 37,
   "metadata": {
    "deletable": false,
    "id": "gluLIpE7_Zcv"
   },
   "outputs": [],
   "source": [
    "# одной строкой: группировка таблицы spb_general по столбцу 'genre', выбор столбца `genre`, подсчёт числа значений 'genre' методом count(), сохранение в spb_genres\n",
    "spb_genres = spb_general.groupby('genre')['genre'].count()\n",
    "# сортировка получившегося Series в порядке убывания и сохранение обратно в spb_genres\n",
    "spb_genres = spb_genres.sort_values(ascending=False)"
   ]
  },
  {
   "cell_type": "markdown",
   "metadata": {
    "deletable": false,
    "editable": false,
    "id": "5Doha_ODgyQ8",
    "tags": [
     "start_task"
    ]
   },
   "source": [
    "**Задание 29**"
   ]
  },
  {
   "cell_type": "code",
   "execution_count": 38,
   "metadata": {
    "deletable": false,
    "id": "uaGJHjVU_Zcv"
   },
   "outputs": [
    {
     "data": {
      "text/plain": [
       "genre\n",
       "pop            2431\n",
       "dance          1932\n",
       "rock           1879\n",
       "electronic     1736\n",
       "hiphop          960\n",
       "alternative     649\n",
       "classical       646\n",
       "rusrap          564\n",
       "ruspop          538\n",
       "world           515\n",
       "Name: genre, dtype: int64"
      ]
     },
     "execution_count": 38,
     "metadata": {},
     "output_type": "execute_result"
    }
   ],
   "source": [
    "# просмотр первых 10 строк spb_genres\n",
    "spb_genres.head(10)"
   ]
  },
  {
   "cell_type": "markdown",
   "metadata": {
    "deletable": false,
    "editable": false,
    "id": "RY51YJYu_Zcv"
   },
   "source": [
    "**Выводы**"
   ]
  },
  {
   "cell_type": "markdown",
   "metadata": {
    "deletable": false,
    "editable": false,
    "id": "nVhnJEm__Zcv"
   },
   "source": [
    "Гипотеза частично подтвердилась:\n",
    "* Поп-музыка — самый популярный жанр в Москве, как и предполагала гипотеза. Более того, в топ-10 жанров встречается близкий жанр — русская популярная музыка.\n",
    "* Вопреки ожиданиям, рэп одинаково популярен в Москве и Петербурге.\n"
   ]
  },
  {
   "cell_type": "markdown",
   "metadata": {
    "deletable": false,
    "editable": false,
    "id": "ykKQ0N65_Zcv"
   },
   "source": [
    "## Итоги исследования"
   ]
  },
  {
   "cell_type": "markdown",
   "metadata": {
    "deletable": false,
    "editable": false,
    "id": "tjUwbHb3_Zcv"
   },
   "source": [
    "Вы проверили три гипотезы и установили:\n",
    "\n",
    "1. День недели по-разному влияет на активность пользователей в Москве и Петербурге.\n",
    "\n",
    "Первая гипотеза полностью подтвердилась.\n",
    "\n",
    "2. Музыкальные предпочтения не сильно меняются в течение недели — будь то Москва или Петербург. Небольшие различия заметны в начале недели, по понедельникам:\n",
    "* в Москве слушают музыку жанра “world”,\n",
    "* в Петербурге — джаз и классику.\n",
    "\n",
    "Таким образом, вторая гипотеза подтвердилась лишь отчасти. Этот результат мог оказаться иным, если бы не пропуски в данных.\n",
    "\n",
    "3. Во вкусах пользователей Москвы и Петербурга больше общего, чем различий. Вопреки ожиданиям, предпочтения жанров в Петербурге напоминают московские.\n",
    "\n",
    "Третья гипотеза не подтвердилась. Если различия в предпочтениях и существуют, на основной массе пользователей они незаметны.\n",
    "\n",
    "**На практике исследования содержат проверки статистических гипотез.**\n",
    "Из части данных одного сервиса невозможно сделать какие-то выводы о всех пользователях сервиса без методов статистики.\n",
    "Проверки статистических гипотез покажут, насколько они достоверны, исходя из имеющихся данных.\n",
    "С методами проверок гипотез вы ещё познакомитесь в следующих темах."
   ]
  }
 ],
 "metadata": {
  "ExecuteTimeLog": [
   {
    "duration": 337,
    "start_time": "2024-06-16T19:31:08.429Z"
   },
   {
    "duration": 56,
    "start_time": "2024-06-16T19:31:10.789Z"
   },
   {
    "duration": 40,
    "start_time": "2024-06-16T19:31:23.727Z"
   },
   {
    "duration": 209,
    "start_time": "2024-06-16T19:32:09.289Z"
   },
   {
    "duration": 13,
    "start_time": "2024-06-16T19:35:29.678Z"
   },
   {
    "duration": 20,
    "start_time": "2024-06-16T19:35:37.878Z"
   },
   {
    "duration": 2,
    "start_time": "2024-06-16T19:39:01.643Z"
   },
   {
    "duration": 2,
    "start_time": "2024-06-16T19:41:09.642Z"
   },
   {
    "duration": 387,
    "start_time": "2024-06-16T19:41:16.764Z"
   },
   {
    "duration": 143,
    "start_time": "2024-06-16T19:41:17.153Z"
   },
   {
    "duration": 14,
    "start_time": "2024-06-16T19:41:17.297Z"
   },
   {
    "duration": 22,
    "start_time": "2024-06-16T19:41:17.313Z"
   },
   {
    "duration": 11,
    "start_time": "2024-06-16T19:41:17.336Z"
   },
   {
    "duration": 6,
    "start_time": "2024-06-16T19:41:17.349Z"
   },
   {
    "duration": 4,
    "start_time": "2024-06-16T19:41:17.357Z"
   },
   {
    "duration": 12,
    "start_time": "2024-06-16T19:41:17.363Z"
   },
   {
    "duration": 4,
    "start_time": "2024-06-16T19:41:17.376Z"
   },
   {
    "duration": 6,
    "start_time": "2024-06-16T19:41:17.382Z"
   },
   {
    "duration": 11,
    "start_time": "2024-06-16T19:41:17.389Z"
   },
   {
    "duration": 5,
    "start_time": "2024-06-16T19:41:17.401Z"
   },
   {
    "duration": 7,
    "start_time": "2024-06-16T19:41:17.407Z"
   },
   {
    "duration": 5,
    "start_time": "2024-06-16T19:41:17.415Z"
   },
   {
    "duration": 6,
    "start_time": "2024-06-16T19:41:17.421Z"
   },
   {
    "duration": 9,
    "start_time": "2024-06-16T19:41:17.428Z"
   },
   {
    "duration": 6,
    "start_time": "2024-06-16T19:41:17.438Z"
   },
   {
    "duration": 7,
    "start_time": "2024-06-16T19:41:17.445Z"
   },
   {
    "duration": 7,
    "start_time": "2024-06-16T19:41:17.453Z"
   },
   {
    "duration": 54,
    "start_time": "2024-06-16T19:41:17.461Z"
   },
   {
    "duration": 0,
    "start_time": "2024-06-16T19:41:17.517Z"
   },
   {
    "duration": 0,
    "start_time": "2024-06-16T19:41:17.518Z"
   },
   {
    "duration": 0,
    "start_time": "2024-06-16T19:41:17.518Z"
   },
   {
    "duration": 0,
    "start_time": "2024-06-16T19:41:17.519Z"
   },
   {
    "duration": 0,
    "start_time": "2024-06-16T19:41:17.520Z"
   },
   {
    "duration": 0,
    "start_time": "2024-06-16T19:41:17.521Z"
   },
   {
    "duration": 0,
    "start_time": "2024-06-16T19:41:17.522Z"
   },
   {
    "duration": 0,
    "start_time": "2024-06-16T19:41:17.523Z"
   },
   {
    "duration": 0,
    "start_time": "2024-06-16T19:41:17.524Z"
   },
   {
    "duration": 0,
    "start_time": "2024-06-16T19:41:17.525Z"
   },
   {
    "duration": 0,
    "start_time": "2024-06-16T19:41:17.525Z"
   },
   {
    "duration": 0,
    "start_time": "2024-06-16T19:41:17.526Z"
   },
   {
    "duration": 0,
    "start_time": "2024-06-16T19:41:17.527Z"
   },
   {
    "duration": 0,
    "start_time": "2024-06-16T19:41:17.527Z"
   },
   {
    "duration": 0,
    "start_time": "2024-06-16T19:41:17.528Z"
   },
   {
    "duration": 0,
    "start_time": "2024-06-16T19:41:17.529Z"
   },
   {
    "duration": 0,
    "start_time": "2024-06-16T19:41:17.530Z"
   },
   {
    "duration": 0,
    "start_time": "2024-06-16T19:41:17.531Z"
   },
   {
    "duration": 396,
    "start_time": "2024-06-16T19:41:46.465Z"
   },
   {
    "duration": 145,
    "start_time": "2024-06-16T19:42:01.495Z"
   },
   {
    "duration": 20,
    "start_time": "2024-06-16T19:42:14.814Z"
   },
   {
    "duration": 22,
    "start_time": "2024-06-16T19:42:44.001Z"
   },
   {
    "duration": 2,
    "start_time": "2024-06-16T19:43:23.791Z"
   },
   {
    "duration": 55,
    "start_time": "2024-06-16T19:45:57.192Z"
   },
   {
    "duration": 4,
    "start_time": "2024-06-16T19:46:02.901Z"
   },
   {
    "duration": 17,
    "start_time": "2024-06-16T19:48:42.872Z"
   },
   {
    "duration": 16,
    "start_time": "2024-06-16T19:49:17.210Z"
   },
   {
    "duration": 42,
    "start_time": "2024-06-16T19:49:43.371Z"
   },
   {
    "duration": 327,
    "start_time": "2024-06-16T19:49:55.448Z"
   },
   {
    "duration": 155,
    "start_time": "2024-06-16T19:49:56.708Z"
   },
   {
    "duration": 13,
    "start_time": "2024-06-16T19:49:57.378Z"
   },
   {
    "duration": 21,
    "start_time": "2024-06-16T19:49:58.305Z"
   },
   {
    "duration": 2,
    "start_time": "2024-06-16T19:49:59.604Z"
   },
   {
    "duration": 3,
    "start_time": "2024-06-16T19:50:01.518Z"
   },
   {
    "duration": 15,
    "start_time": "2024-06-16T19:50:03.385Z"
   },
   {
    "duration": 19,
    "start_time": "2024-06-16T19:51:30.988Z"
   },
   {
    "duration": 3,
    "start_time": "2024-06-16T21:45:48.971Z"
   },
   {
    "duration": 6,
    "start_time": "2024-06-16T21:47:02.992Z"
   },
   {
    "duration": 17,
    "start_time": "2024-06-16T21:48:28.065Z"
   },
   {
    "duration": 17,
    "start_time": "2024-06-16T21:58:05.425Z"
   },
   {
    "duration": 14,
    "start_time": "2024-06-16T22:03:37.727Z"
   },
   {
    "duration": 17,
    "start_time": "2024-06-16T22:04:13.078Z"
   },
   {
    "duration": 50,
    "start_time": "2024-06-16T22:10:22.819Z"
   },
   {
    "duration": 378,
    "start_time": "2024-06-16T22:10:47.777Z"
   },
   {
    "duration": 139,
    "start_time": "2024-06-16T22:10:48.156Z"
   },
   {
    "duration": 15,
    "start_time": "2024-06-16T22:10:48.296Z"
   },
   {
    "duration": 22,
    "start_time": "2024-06-16T22:10:48.313Z"
   },
   {
    "duration": 2,
    "start_time": "2024-06-16T22:10:48.336Z"
   },
   {
    "duration": 6,
    "start_time": "2024-06-16T22:10:48.340Z"
   },
   {
    "duration": 38,
    "start_time": "2024-06-16T22:10:48.347Z"
   },
   {
    "duration": 4,
    "start_time": "2024-06-16T22:10:48.386Z"
   },
   {
    "duration": 22,
    "start_time": "2024-06-16T22:10:48.391Z"
   },
   {
    "duration": 14,
    "start_time": "2024-06-16T22:10:48.416Z"
   },
   {
    "duration": 17,
    "start_time": "2024-06-16T22:10:48.431Z"
   },
   {
    "duration": 89,
    "start_time": "2024-06-16T22:10:48.449Z"
   },
   {
    "duration": 2,
    "start_time": "2024-06-16T22:10:48.540Z"
   },
   {
    "duration": 3,
    "start_time": "2024-06-16T22:10:48.543Z"
   },
   {
    "duration": 8,
    "start_time": "2024-06-16T22:10:48.547Z"
   },
   {
    "duration": 4,
    "start_time": "2024-06-16T22:10:48.556Z"
   },
   {
    "duration": 5,
    "start_time": "2024-06-16T22:10:48.561Z"
   },
   {
    "duration": 6,
    "start_time": "2024-06-16T22:10:48.567Z"
   },
   {
    "duration": 9,
    "start_time": "2024-06-16T22:10:48.575Z"
   },
   {
    "duration": 55,
    "start_time": "2024-06-16T22:10:48.585Z"
   },
   {
    "duration": 0,
    "start_time": "2024-06-16T22:10:48.642Z"
   },
   {
    "duration": 0,
    "start_time": "2024-06-16T22:10:48.643Z"
   },
   {
    "duration": 0,
    "start_time": "2024-06-16T22:10:48.644Z"
   },
   {
    "duration": 0,
    "start_time": "2024-06-16T22:10:48.646Z"
   },
   {
    "duration": 0,
    "start_time": "2024-06-16T22:10:48.647Z"
   },
   {
    "duration": 0,
    "start_time": "2024-06-16T22:10:48.648Z"
   },
   {
    "duration": 0,
    "start_time": "2024-06-16T22:10:48.649Z"
   },
   {
    "duration": 0,
    "start_time": "2024-06-16T22:10:48.651Z"
   },
   {
    "duration": 0,
    "start_time": "2024-06-16T22:10:48.652Z"
   },
   {
    "duration": 0,
    "start_time": "2024-06-16T22:10:48.654Z"
   },
   {
    "duration": 0,
    "start_time": "2024-06-16T22:10:48.655Z"
   },
   {
    "duration": 0,
    "start_time": "2024-06-16T22:10:48.656Z"
   },
   {
    "duration": 0,
    "start_time": "2024-06-16T22:10:48.657Z"
   },
   {
    "duration": 0,
    "start_time": "2024-06-16T22:10:48.658Z"
   },
   {
    "duration": 0,
    "start_time": "2024-06-16T22:10:48.659Z"
   },
   {
    "duration": 0,
    "start_time": "2024-06-16T22:10:48.660Z"
   },
   {
    "duration": 0,
    "start_time": "2024-06-16T22:10:48.662Z"
   },
   {
    "duration": 0,
    "start_time": "2024-06-16T22:10:48.663Z"
   },
   {
    "duration": 336,
    "start_time": "2024-06-16T22:12:46.010Z"
   },
   {
    "duration": 138,
    "start_time": "2024-06-16T22:12:46.347Z"
   },
   {
    "duration": 13,
    "start_time": "2024-06-16T22:12:46.486Z"
   },
   {
    "duration": 22,
    "start_time": "2024-06-16T22:12:46.501Z"
   },
   {
    "duration": 2,
    "start_time": "2024-06-16T22:12:46.524Z"
   },
   {
    "duration": 4,
    "start_time": "2024-06-16T22:12:46.527Z"
   },
   {
    "duration": 17,
    "start_time": "2024-06-16T22:12:46.532Z"
   },
   {
    "duration": 2,
    "start_time": "2024-06-16T22:12:46.550Z"
   },
   {
    "duration": 42,
    "start_time": "2024-06-16T22:12:46.554Z"
   },
   {
    "duration": 15,
    "start_time": "2024-06-16T22:12:46.598Z"
   },
   {
    "duration": 20,
    "start_time": "2024-06-16T22:12:46.614Z"
   },
   {
    "duration": 55,
    "start_time": "2024-06-16T22:12:53.441Z"
   },
   {
    "duration": 69,
    "start_time": "2024-06-16T22:13:10.356Z"
   },
   {
    "duration": 53,
    "start_time": "2024-06-16T22:13:44.002Z"
   },
   {
    "duration": 42,
    "start_time": "2024-06-17T09:49:37.839Z"
   },
   {
    "duration": 362,
    "start_time": "2024-06-17T09:49:51.520Z"
   },
   {
    "duration": 453,
    "start_time": "2024-06-17T09:49:51.883Z"
   },
   {
    "duration": 13,
    "start_time": "2024-06-17T09:49:52.337Z"
   },
   {
    "duration": 39,
    "start_time": "2024-06-17T09:49:52.352Z"
   },
   {
    "duration": 5,
    "start_time": "2024-06-17T09:49:52.392Z"
   },
   {
    "duration": 20,
    "start_time": "2024-06-17T09:49:52.398Z"
   },
   {
    "duration": 109,
    "start_time": "2024-06-17T09:49:52.419Z"
   },
   {
    "duration": 44,
    "start_time": "2024-06-17T09:49:52.529Z"
   },
   {
    "duration": 99,
    "start_time": "2024-06-17T09:49:52.574Z"
   },
   {
    "duration": 58,
    "start_time": "2024-06-17T09:49:52.675Z"
   },
   {
    "duration": 28,
    "start_time": "2024-06-17T09:49:52.735Z"
   },
   {
    "duration": 93,
    "start_time": "2024-06-17T09:49:52.764Z"
   },
   {
    "duration": 70,
    "start_time": "2024-06-17T09:49:52.858Z"
   },
   {
    "duration": 56,
    "start_time": "2024-06-17T09:49:52.930Z"
   },
   {
    "duration": 53,
    "start_time": "2024-06-17T09:49:55.599Z"
   },
   {
    "duration": 32,
    "start_time": "2024-06-17T09:50:05.519Z"
   },
   {
    "duration": 7,
    "start_time": "2024-06-17T10:02:02.837Z"
   },
   {
    "duration": 8,
    "start_time": "2024-06-17T10:08:48.923Z"
   },
   {
    "duration": 17,
    "start_time": "2024-06-17T10:09:30.195Z"
   },
   {
    "duration": 8,
    "start_time": "2024-06-17T10:09:52.476Z"
   },
   {
    "duration": 9,
    "start_time": "2024-06-17T10:21:47.556Z"
   },
   {
    "duration": 12,
    "start_time": "2024-06-17T10:42:35.984Z"
   },
   {
    "duration": 39,
    "start_time": "2024-06-17T10:43:51.708Z"
   },
   {
    "duration": 7,
    "start_time": "2024-06-17T10:43:58.823Z"
   },
   {
    "duration": 7,
    "start_time": "2024-06-17T10:44:10.663Z"
   },
   {
    "duration": 31,
    "start_time": "2024-06-17T10:44:30.944Z"
   },
   {
    "duration": 5,
    "start_time": "2024-06-17T10:45:42.819Z"
   },
   {
    "duration": 31,
    "start_time": "2024-06-17T10:46:08.264Z"
   },
   {
    "duration": 30,
    "start_time": "2024-06-17T10:47:47.425Z"
   },
   {
    "duration": 53,
    "start_time": "2024-06-17T10:47:57.665Z"
   },
   {
    "duration": 70,
    "start_time": "2024-06-17T10:48:33.986Z"
   },
   {
    "duration": 6,
    "start_time": "2024-06-17T10:50:47.208Z"
   },
   {
    "duration": 5,
    "start_time": "2024-06-17T10:50:54.167Z"
   },
   {
    "duration": 6,
    "start_time": "2024-06-17T10:51:12.112Z"
   },
   {
    "duration": 4,
    "start_time": "2024-06-17T11:22:03.360Z"
   },
   {
    "duration": 26,
    "start_time": "2024-06-17T11:22:43.559Z"
   },
   {
    "duration": 401,
    "start_time": "2024-06-17T12:54:08.481Z"
   },
   {
    "duration": 251,
    "start_time": "2024-06-17T12:54:08.884Z"
   },
   {
    "duration": 16,
    "start_time": "2024-06-17T12:54:09.136Z"
   },
   {
    "duration": 29,
    "start_time": "2024-06-17T12:54:09.154Z"
   },
   {
    "duration": 2,
    "start_time": "2024-06-17T12:54:09.185Z"
   },
   {
    "duration": 12,
    "start_time": "2024-06-17T12:54:09.189Z"
   },
   {
    "duration": 21,
    "start_time": "2024-06-17T12:54:09.202Z"
   },
   {
    "duration": 5,
    "start_time": "2024-06-17T12:54:09.225Z"
   },
   {
    "duration": 27,
    "start_time": "2024-06-17T12:54:09.232Z"
   },
   {
    "duration": 42,
    "start_time": "2024-06-17T12:54:09.261Z"
   },
   {
    "duration": 26,
    "start_time": "2024-06-17T12:54:09.304Z"
   },
   {
    "duration": 76,
    "start_time": "2024-06-17T12:54:09.331Z"
   },
   {
    "duration": 69,
    "start_time": "2024-06-17T12:54:09.408Z"
   },
   {
    "duration": 72,
    "start_time": "2024-06-17T12:54:09.479Z"
   },
   {
    "duration": 9,
    "start_time": "2024-06-17T12:54:09.552Z"
   },
   {
    "duration": 15,
    "start_time": "2024-06-17T12:54:09.563Z"
   },
   {
    "duration": 19,
    "start_time": "2024-06-17T12:54:09.580Z"
   },
   {
    "duration": 31,
    "start_time": "2024-06-17T12:54:16.982Z"
   },
   {
    "duration": 10,
    "start_time": "2024-06-17T12:54:58.442Z"
   },
   {
    "duration": 3,
    "start_time": "2024-06-17T12:59:10.922Z"
   },
   {
    "duration": 10,
    "start_time": "2024-06-17T12:59:20.330Z"
   },
   {
    "duration": 407,
    "start_time": "2024-06-18T06:58:10.746Z"
   },
   {
    "duration": 472,
    "start_time": "2024-06-18T06:58:11.155Z"
   },
   {
    "duration": 18,
    "start_time": "2024-06-18T06:58:11.629Z"
   },
   {
    "duration": 34,
    "start_time": "2024-06-18T06:58:11.649Z"
   },
   {
    "duration": 11,
    "start_time": "2024-06-18T06:58:11.685Z"
   },
   {
    "duration": 10,
    "start_time": "2024-06-18T06:58:11.697Z"
   },
   {
    "duration": 24,
    "start_time": "2024-06-18T06:58:11.709Z"
   },
   {
    "duration": 10,
    "start_time": "2024-06-18T06:58:11.735Z"
   },
   {
    "duration": 52,
    "start_time": "2024-06-18T06:58:11.746Z"
   },
   {
    "duration": 24,
    "start_time": "2024-06-18T06:58:11.801Z"
   },
   {
    "duration": 31,
    "start_time": "2024-06-18T06:58:11.827Z"
   },
   {
    "duration": 118,
    "start_time": "2024-06-18T06:58:11.860Z"
   },
   {
    "duration": 82,
    "start_time": "2024-06-18T06:58:11.980Z"
   },
   {
    "duration": 76,
    "start_time": "2024-06-18T06:58:12.064Z"
   },
   {
    "duration": 11,
    "start_time": "2024-06-18T06:58:12.142Z"
   },
   {
    "duration": 37,
    "start_time": "2024-06-18T06:58:12.155Z"
   },
   {
    "duration": 7,
    "start_time": "2024-06-18T06:58:12.193Z"
   },
   {
    "duration": 29,
    "start_time": "2024-06-18T06:58:12.202Z"
   },
   {
    "duration": 11,
    "start_time": "2024-06-18T06:58:15.266Z"
   },
   {
    "duration": 4,
    "start_time": "2024-06-18T07:50:06.364Z"
   },
   {
    "duration": 286,
    "start_time": "2024-06-18T07:50:06.370Z"
   },
   {
    "duration": 12,
    "start_time": "2024-06-18T07:50:06.658Z"
   },
   {
    "duration": 70,
    "start_time": "2024-06-18T07:50:06.681Z"
   },
   {
    "duration": 42,
    "start_time": "2024-06-18T07:50:06.753Z"
   },
   {
    "duration": 37,
    "start_time": "2024-06-18T07:50:06.797Z"
   },
   {
    "duration": 75,
    "start_time": "2024-06-18T07:50:06.836Z"
   },
   {
    "duration": 30,
    "start_time": "2024-06-18T07:50:06.913Z"
   },
   {
    "duration": 63,
    "start_time": "2024-06-18T07:50:06.945Z"
   },
   {
    "duration": 43,
    "start_time": "2024-06-18T07:50:07.010Z"
   },
   {
    "duration": 68,
    "start_time": "2024-06-18T07:50:07.056Z"
   },
   {
    "duration": 108,
    "start_time": "2024-06-18T07:50:07.126Z"
   },
   {
    "duration": 90,
    "start_time": "2024-06-18T07:50:07.236Z"
   },
   {
    "duration": 70,
    "start_time": "2024-06-18T07:50:07.328Z"
   },
   {
    "duration": 11,
    "start_time": "2024-06-18T07:50:07.399Z"
   },
   {
    "duration": 40,
    "start_time": "2024-06-18T07:50:07.411Z"
   },
   {
    "duration": 42,
    "start_time": "2024-06-18T07:50:07.453Z"
   },
   {
    "duration": 20,
    "start_time": "2024-06-18T07:50:07.496Z"
   },
   {
    "duration": 0,
    "start_time": "2024-06-18T07:50:07.517Z"
   },
   {
    "duration": 2,
    "start_time": "2024-06-18T07:50:21.175Z"
   },
   {
    "duration": 213,
    "start_time": "2024-06-18T07:50:21.179Z"
   },
   {
    "duration": 11,
    "start_time": "2024-06-18T07:50:21.394Z"
   },
   {
    "duration": 40,
    "start_time": "2024-06-18T07:50:21.407Z"
   },
   {
    "duration": 4,
    "start_time": "2024-06-18T07:50:21.449Z"
   },
   {
    "duration": 15,
    "start_time": "2024-06-18T07:50:21.454Z"
   },
   {
    "duration": 37,
    "start_time": "2024-06-18T07:50:21.470Z"
   },
   {
    "duration": 6,
    "start_time": "2024-06-18T07:50:21.509Z"
   },
   {
    "duration": 41,
    "start_time": "2024-06-18T07:50:21.518Z"
   },
   {
    "duration": 36,
    "start_time": "2024-06-18T07:50:21.560Z"
   },
   {
    "duration": 28,
    "start_time": "2024-06-18T07:50:21.598Z"
   },
   {
    "duration": 82,
    "start_time": "2024-06-18T07:50:21.627Z"
   },
   {
    "duration": 86,
    "start_time": "2024-06-18T07:50:21.711Z"
   },
   {
    "duration": 60,
    "start_time": "2024-06-18T07:50:21.799Z"
   },
   {
    "duration": 30,
    "start_time": "2024-06-18T07:50:21.861Z"
   },
   {
    "duration": 13,
    "start_time": "2024-06-18T07:50:21.894Z"
   },
   {
    "duration": 7,
    "start_time": "2024-06-18T07:50:21.908Z"
   },
   {
    "duration": 13,
    "start_time": "2024-06-18T07:50:21.917Z"
   },
   {
    "duration": 13,
    "start_time": "2024-06-18T07:50:21.931Z"
   },
   {
    "duration": 2,
    "start_time": "2024-06-18T07:50:47.170Z"
   },
   {
    "duration": 203,
    "start_time": "2024-06-18T07:50:47.174Z"
   },
   {
    "duration": 20,
    "start_time": "2024-06-18T07:50:47.379Z"
   },
   {
    "duration": 35,
    "start_time": "2024-06-18T07:50:47.401Z"
   },
   {
    "duration": 2,
    "start_time": "2024-06-18T07:50:47.439Z"
   },
   {
    "duration": 9,
    "start_time": "2024-06-18T07:50:47.443Z"
   },
   {
    "duration": 41,
    "start_time": "2024-06-18T07:50:47.453Z"
   },
   {
    "duration": 5,
    "start_time": "2024-06-18T07:50:47.496Z"
   },
   {
    "duration": 31,
    "start_time": "2024-06-18T07:50:47.502Z"
   },
   {
    "duration": 25,
    "start_time": "2024-06-18T07:50:47.534Z"
   },
   {
    "duration": 37,
    "start_time": "2024-06-18T07:50:47.561Z"
   },
   {
    "duration": 65,
    "start_time": "2024-06-18T07:50:47.600Z"
   },
   {
    "duration": 89,
    "start_time": "2024-06-18T07:50:47.666Z"
   },
   {
    "duration": 76,
    "start_time": "2024-06-18T07:50:47.758Z"
   },
   {
    "duration": 10,
    "start_time": "2024-06-18T07:50:47.835Z"
   },
   {
    "duration": 11,
    "start_time": "2024-06-18T07:50:47.847Z"
   },
   {
    "duration": 38,
    "start_time": "2024-06-18T07:50:47.860Z"
   },
   {
    "duration": 13,
    "start_time": "2024-06-18T07:50:47.901Z"
   },
   {
    "duration": 11,
    "start_time": "2024-06-18T07:50:47.916Z"
   },
   {
    "duration": 108,
    "start_time": "2024-06-18T08:47:33.659Z"
   },
   {
    "duration": 3,
    "start_time": "2024-06-18T08:47:41.318Z"
   },
   {
    "duration": 197,
    "start_time": "2024-06-18T08:47:41.342Z"
   },
   {
    "duration": 12,
    "start_time": "2024-06-18T08:47:41.541Z"
   },
   {
    "duration": 47,
    "start_time": "2024-06-18T08:47:41.555Z"
   },
   {
    "duration": 2,
    "start_time": "2024-06-18T08:47:41.604Z"
   },
   {
    "duration": 4,
    "start_time": "2024-06-18T08:47:41.700Z"
   },
   {
    "duration": 23,
    "start_time": "2024-06-18T08:47:41.705Z"
   },
   {
    "duration": 5,
    "start_time": "2024-06-18T08:47:41.740Z"
   },
   {
    "duration": 41,
    "start_time": "2024-06-18T08:47:41.747Z"
   },
   {
    "duration": 26,
    "start_time": "2024-06-18T08:47:41.789Z"
   },
   {
    "duration": 30,
    "start_time": "2024-06-18T08:47:41.817Z"
   },
   {
    "duration": 95,
    "start_time": "2024-06-18T08:47:41.849Z"
   },
   {
    "duration": 100,
    "start_time": "2024-06-18T08:47:41.946Z"
   },
   {
    "duration": 69,
    "start_time": "2024-06-18T08:47:42.048Z"
   },
   {
    "duration": 11,
    "start_time": "2024-06-18T08:47:42.119Z"
   },
   {
    "duration": 21,
    "start_time": "2024-06-18T08:47:42.131Z"
   },
   {
    "duration": 28,
    "start_time": "2024-06-18T08:47:42.154Z"
   },
   {
    "duration": 36,
    "start_time": "2024-06-18T08:47:42.185Z"
   },
   {
    "duration": 13,
    "start_time": "2024-06-18T08:47:43.979Z"
   },
   {
    "duration": 47,
    "start_time": "2024-06-18T08:47:45.438Z"
   },
   {
    "duration": 3,
    "start_time": "2024-06-18T08:48:05.820Z"
   },
   {
    "duration": 262,
    "start_time": "2024-06-18T08:48:05.826Z"
   },
   {
    "duration": 14,
    "start_time": "2024-06-18T08:48:06.090Z"
   },
   {
    "duration": 59,
    "start_time": "2024-06-18T08:48:06.106Z"
   },
   {
    "duration": 2,
    "start_time": "2024-06-18T08:48:06.168Z"
   },
   {
    "duration": 29,
    "start_time": "2024-06-18T08:48:06.172Z"
   },
   {
    "duration": 30,
    "start_time": "2024-06-18T08:48:06.203Z"
   },
   {
    "duration": 8,
    "start_time": "2024-06-18T08:48:06.235Z"
   },
   {
    "duration": 32,
    "start_time": "2024-06-18T08:48:06.245Z"
   },
   {
    "duration": 26,
    "start_time": "2024-06-18T08:48:06.279Z"
   },
   {
    "duration": 33,
    "start_time": "2024-06-18T08:48:06.307Z"
   },
   {
    "duration": 80,
    "start_time": "2024-06-18T08:48:06.341Z"
   },
   {
    "duration": 72,
    "start_time": "2024-06-18T08:48:06.422Z"
   },
   {
    "duration": 64,
    "start_time": "2024-06-18T08:48:06.496Z"
   },
   {
    "duration": 25,
    "start_time": "2024-06-18T08:48:06.561Z"
   },
   {
    "duration": 20,
    "start_time": "2024-06-18T08:48:06.588Z"
   },
   {
    "duration": 23,
    "start_time": "2024-06-18T08:48:06.609Z"
   },
   {
    "duration": 23,
    "start_time": "2024-06-18T08:48:06.633Z"
   },
   {
    "duration": 13,
    "start_time": "2024-06-18T08:48:06.657Z"
   },
   {
    "duration": 4,
    "start_time": "2024-06-18T08:48:08.927Z"
   },
   {
    "duration": 31,
    "start_time": "2024-06-18T09:59:00.220Z"
   },
   {
    "duration": 76,
    "start_time": "2024-06-18T09:59:00.253Z"
   },
   {
    "duration": 45,
    "start_time": "2024-06-18T09:59:00.330Z"
   },
   {
    "duration": 49,
    "start_time": "2024-06-18T09:59:00.377Z"
   },
   {
    "duration": 45,
    "start_time": "2024-06-18T09:59:00.427Z"
   },
   {
    "duration": 32,
    "start_time": "2024-06-18T09:59:00.474Z"
   },
   {
    "duration": 19,
    "start_time": "2024-06-18T10:14:00.821Z"
   },
   {
    "duration": 14,
    "start_time": "2024-06-18T10:14:09.834Z"
   },
   {
    "duration": 19,
    "start_time": "2024-06-18T10:32:03.083Z"
   },
   {
    "duration": 11,
    "start_time": "2024-06-18T10:35:16.519Z"
   },
   {
    "duration": 17,
    "start_time": "2024-06-18T10:38:28.491Z"
   },
   {
    "duration": 10,
    "start_time": "2024-06-18T10:38:29.089Z"
   },
   {
    "duration": 10,
    "start_time": "2024-06-18T10:38:54.511Z"
   },
   {
    "duration": 11,
    "start_time": "2024-06-18T13:02:52.504Z"
   },
   {
    "duration": 426,
    "start_time": "2024-06-18T13:02:59.452Z"
   },
   {
    "duration": 510,
    "start_time": "2024-06-18T13:02:59.880Z"
   },
   {
    "duration": 19,
    "start_time": "2024-06-18T13:03:00.391Z"
   },
   {
    "duration": 96,
    "start_time": "2024-06-18T13:03:00.412Z"
   },
   {
    "duration": 74,
    "start_time": "2024-06-18T13:03:00.510Z"
   },
   {
    "duration": 138,
    "start_time": "2024-06-18T13:03:00.585Z"
   },
   {
    "duration": 75,
    "start_time": "2024-06-18T13:03:00.724Z"
   },
   {
    "duration": 37,
    "start_time": "2024-06-18T13:03:00.801Z"
   },
   {
    "duration": 74,
    "start_time": "2024-06-18T13:03:00.840Z"
   },
   {
    "duration": 127,
    "start_time": "2024-06-18T13:03:00.916Z"
   },
   {
    "duration": 222,
    "start_time": "2024-06-18T13:03:01.045Z"
   },
   {
    "duration": 358,
    "start_time": "2024-06-18T13:03:01.268Z"
   },
   {
    "duration": 138,
    "start_time": "2024-06-18T13:03:01.628Z"
   },
   {
    "duration": 82,
    "start_time": "2024-06-18T13:03:01.770Z"
   },
   {
    "duration": 30,
    "start_time": "2024-06-18T13:03:01.855Z"
   },
   {
    "duration": 100,
    "start_time": "2024-06-18T13:03:01.886Z"
   },
   {
    "duration": 78,
    "start_time": "2024-06-18T13:03:01.988Z"
   },
   {
    "duration": 67,
    "start_time": "2024-06-18T13:03:02.068Z"
   },
   {
    "duration": 129,
    "start_time": "2024-06-18T13:03:02.137Z"
   },
   {
    "duration": 48,
    "start_time": "2024-06-18T13:03:02.268Z"
   },
   {
    "duration": 167,
    "start_time": "2024-06-18T13:03:02.318Z"
   },
   {
    "duration": 21,
    "start_time": "2024-06-18T13:03:02.486Z"
   },
   {
    "duration": 38,
    "start_time": "2024-06-18T13:03:02.510Z"
   },
   {
    "duration": 27,
    "start_time": "2024-06-18T13:03:02.550Z"
   },
   {
    "duration": 35,
    "start_time": "2024-06-18T13:03:02.579Z"
   },
   {
    "duration": 24,
    "start_time": "2024-06-18T13:03:02.616Z"
   },
   {
    "duration": 16,
    "start_time": "2024-06-18T13:03:02.642Z"
   },
   {
    "duration": 37,
    "start_time": "2024-06-18T13:03:02.660Z"
   },
   {
    "duration": 14,
    "start_time": "2024-06-18T13:03:02.699Z"
   },
   {
    "duration": 10,
    "start_time": "2024-06-18T13:03:02.715Z"
   },
   {
    "duration": 3,
    "start_time": "2024-06-18T13:09:37.433Z"
   },
   {
    "duration": 237,
    "start_time": "2024-06-18T13:09:37.438Z"
   },
   {
    "duration": 17,
    "start_time": "2024-06-18T13:09:37.677Z"
   },
   {
    "duration": 59,
    "start_time": "2024-06-18T13:09:37.697Z"
   },
   {
    "duration": 3,
    "start_time": "2024-06-18T13:09:37.781Z"
   },
   {
    "duration": 9,
    "start_time": "2024-06-18T13:09:37.787Z"
   },
   {
    "duration": 20,
    "start_time": "2024-06-18T13:09:37.798Z"
   },
   {
    "duration": 10,
    "start_time": "2024-06-18T13:09:37.821Z"
   },
   {
    "duration": 80,
    "start_time": "2024-06-18T13:09:37.834Z"
   },
   {
    "duration": 64,
    "start_time": "2024-06-18T13:09:37.916Z"
   },
   {
    "duration": 55,
    "start_time": "2024-06-18T13:09:37.983Z"
   },
   {
    "duration": 123,
    "start_time": "2024-06-18T13:09:38.045Z"
   },
   {
    "duration": 126,
    "start_time": "2024-06-18T13:09:38.170Z"
   },
   {
    "duration": 111,
    "start_time": "2024-06-18T13:09:38.301Z"
   },
   {
    "duration": 18,
    "start_time": "2024-06-18T13:09:38.414Z"
   },
   {
    "duration": 34,
    "start_time": "2024-06-18T13:09:38.434Z"
   },
   {
    "duration": 18,
    "start_time": "2024-06-18T13:09:38.470Z"
   },
   {
    "duration": 25,
    "start_time": "2024-06-18T13:09:38.490Z"
   },
   {
    "duration": 15,
    "start_time": "2024-06-18T13:09:38.517Z"
   },
   {
    "duration": 12,
    "start_time": "2024-06-18T13:09:38.534Z"
   },
   {
    "duration": 52,
    "start_time": "2024-06-18T13:09:38.548Z"
   },
   {
    "duration": 26,
    "start_time": "2024-06-18T13:09:38.602Z"
   },
   {
    "duration": 48,
    "start_time": "2024-06-18T13:09:38.630Z"
   },
   {
    "duration": 19,
    "start_time": "2024-06-18T13:09:38.680Z"
   },
   {
    "duration": 23,
    "start_time": "2024-06-18T13:09:38.702Z"
   },
   {
    "duration": 32,
    "start_time": "2024-06-18T13:09:38.728Z"
   },
   {
    "duration": 26,
    "start_time": "2024-06-18T13:09:38.763Z"
   },
   {
    "duration": 22,
    "start_time": "2024-06-18T13:09:38.792Z"
   },
   {
    "duration": 15,
    "start_time": "2024-06-18T13:09:38.816Z"
   },
   {
    "duration": 7,
    "start_time": "2024-06-18T13:09:38.833Z"
   },
   {
    "duration": 3,
    "start_time": "2024-06-18T13:09:49.560Z"
   },
   {
    "duration": 219,
    "start_time": "2024-06-18T13:09:49.566Z"
   },
   {
    "duration": 14,
    "start_time": "2024-06-18T13:09:49.787Z"
   },
   {
    "duration": 43,
    "start_time": "2024-06-18T13:09:49.803Z"
   },
   {
    "duration": 3,
    "start_time": "2024-06-18T13:09:49.849Z"
   },
   {
    "duration": 31,
    "start_time": "2024-06-18T13:09:49.854Z"
   },
   {
    "duration": 20,
    "start_time": "2024-06-18T13:09:49.887Z"
   },
   {
    "duration": 5,
    "start_time": "2024-06-18T13:09:49.910Z"
   },
   {
    "duration": 37,
    "start_time": "2024-06-18T13:09:49.917Z"
   },
   {
    "duration": 43,
    "start_time": "2024-06-18T13:09:49.981Z"
   },
   {
    "duration": 33,
    "start_time": "2024-06-18T13:09:50.026Z"
   },
   {
    "duration": 85,
    "start_time": "2024-06-18T13:09:50.081Z"
   },
   {
    "duration": 105,
    "start_time": "2024-06-18T13:09:50.181Z"
   },
   {
    "duration": 91,
    "start_time": "2024-06-18T13:09:50.291Z"
   },
   {
    "duration": 14,
    "start_time": "2024-06-18T13:09:50.384Z"
   },
   {
    "duration": 26,
    "start_time": "2024-06-18T13:09:50.400Z"
   },
   {
    "duration": 12,
    "start_time": "2024-06-18T13:09:50.428Z"
   },
   {
    "duration": 21,
    "start_time": "2024-06-18T13:09:50.442Z"
   },
   {
    "duration": 15,
    "start_time": "2024-06-18T13:09:50.481Z"
   },
   {
    "duration": 4,
    "start_time": "2024-06-18T13:09:50.499Z"
   },
   {
    "duration": 31,
    "start_time": "2024-06-18T13:09:50.505Z"
   },
   {
    "duration": 46,
    "start_time": "2024-06-18T13:09:50.539Z"
   },
   {
    "duration": 20,
    "start_time": "2024-06-18T13:09:50.587Z"
   },
   {
    "duration": 19,
    "start_time": "2024-06-18T13:09:50.610Z"
   },
   {
    "duration": 61,
    "start_time": "2024-06-18T13:09:50.631Z"
   },
   {
    "duration": 30,
    "start_time": "2024-06-18T13:09:50.694Z"
   },
   {
    "duration": 11,
    "start_time": "2024-06-18T13:09:50.726Z"
   },
   {
    "duration": 45,
    "start_time": "2024-06-18T13:09:50.739Z"
   },
   {
    "duration": 14,
    "start_time": "2024-06-18T13:09:50.786Z"
   },
   {
    "duration": 20,
    "start_time": "2024-06-18T13:09:50.802Z"
   },
   {
    "duration": 473,
    "start_time": "2024-06-18T13:09:58.888Z"
   },
   {
    "duration": 232,
    "start_time": "2024-06-18T13:09:59.364Z"
   },
   {
    "duration": 25,
    "start_time": "2024-06-18T13:09:59.598Z"
   },
   {
    "duration": 59,
    "start_time": "2024-06-18T13:09:59.625Z"
   },
   {
    "duration": 3,
    "start_time": "2024-06-18T13:09:59.686Z"
   },
   {
    "duration": 21,
    "start_time": "2024-06-18T13:09:59.691Z"
   },
   {
    "duration": 32,
    "start_time": "2024-06-18T13:09:59.715Z"
   },
   {
    "duration": 12,
    "start_time": "2024-06-18T13:09:59.749Z"
   },
   {
    "duration": 61,
    "start_time": "2024-06-18T13:09:59.763Z"
   },
   {
    "duration": 56,
    "start_time": "2024-06-18T13:09:59.826Z"
   },
   {
    "duration": 36,
    "start_time": "2024-06-18T13:09:59.885Z"
   },
   {
    "duration": 125,
    "start_time": "2024-06-18T13:09:59.923Z"
   },
   {
    "duration": 106,
    "start_time": "2024-06-18T13:10:00.050Z"
   },
   {
    "duration": 88,
    "start_time": "2024-06-18T13:10:00.162Z"
   },
   {
    "duration": 14,
    "start_time": "2024-06-18T13:10:00.252Z"
   },
   {
    "duration": 35,
    "start_time": "2024-06-18T13:10:00.283Z"
   },
   {
    "duration": 69,
    "start_time": "2024-06-18T13:10:00.320Z"
   },
   {
    "duration": 105,
    "start_time": "2024-06-18T13:10:00.391Z"
   },
   {
    "duration": 64,
    "start_time": "2024-06-18T13:10:00.498Z"
   },
   {
    "duration": 61,
    "start_time": "2024-06-18T13:10:00.564Z"
   },
   {
    "duration": 142,
    "start_time": "2024-06-18T13:10:00.627Z"
   },
   {
    "duration": 304,
    "start_time": "2024-06-18T13:10:00.771Z"
   },
   {
    "duration": 223,
    "start_time": "2024-06-18T13:10:01.077Z"
   },
   {
    "duration": 91,
    "start_time": "2024-06-18T13:10:01.302Z"
   },
   {
    "duration": 90,
    "start_time": "2024-06-18T13:10:01.395Z"
   },
   {
    "duration": 165,
    "start_time": "2024-06-18T13:10:01.487Z"
   },
   {
    "duration": 73,
    "start_time": "2024-06-18T13:10:01.654Z"
   },
   {
    "duration": 161,
    "start_time": "2024-06-18T13:10:01.729Z"
   },
   {
    "duration": 76,
    "start_time": "2024-06-18T13:10:01.892Z"
   },
   {
    "duration": 69,
    "start_time": "2024-06-18T13:10:01.970Z"
   },
   {
    "duration": 3,
    "start_time": "2024-06-18T13:10:45.438Z"
   },
   {
    "duration": 254,
    "start_time": "2024-06-18T13:10:45.444Z"
   },
   {
    "duration": 13,
    "start_time": "2024-06-18T13:10:45.701Z"
   },
   {
    "duration": 54,
    "start_time": "2024-06-18T13:10:45.715Z"
   },
   {
    "duration": 11,
    "start_time": "2024-06-18T13:10:45.772Z"
   },
   {
    "duration": 17,
    "start_time": "2024-06-18T13:10:45.785Z"
   },
   {
    "duration": 30,
    "start_time": "2024-06-18T13:10:45.804Z"
   },
   {
    "duration": 10,
    "start_time": "2024-06-18T13:10:45.836Z"
   },
   {
    "duration": 71,
    "start_time": "2024-06-18T13:10:45.848Z"
   },
   {
    "duration": 29,
    "start_time": "2024-06-18T13:10:45.922Z"
   },
   {
    "duration": 71,
    "start_time": "2024-06-18T13:10:45.953Z"
   },
   {
    "duration": 117,
    "start_time": "2024-06-18T13:10:46.026Z"
   },
   {
    "duration": 110,
    "start_time": "2024-06-18T13:10:46.146Z"
   },
   {
    "duration": 82,
    "start_time": "2024-06-18T13:10:46.260Z"
   },
   {
    "duration": 14,
    "start_time": "2024-06-18T13:10:46.344Z"
   },
   {
    "duration": 34,
    "start_time": "2024-06-18T13:10:46.360Z"
   },
   {
    "duration": 15,
    "start_time": "2024-06-18T13:10:46.396Z"
   },
   {
    "duration": 18,
    "start_time": "2024-06-18T13:10:46.414Z"
   },
   {
    "duration": 24,
    "start_time": "2024-06-18T13:10:46.434Z"
   },
   {
    "duration": 22,
    "start_time": "2024-06-18T13:10:46.460Z"
   },
   {
    "duration": 36,
    "start_time": "2024-06-18T13:10:46.485Z"
   },
   {
    "duration": 21,
    "start_time": "2024-06-18T13:10:46.523Z"
   },
   {
    "duration": 21,
    "start_time": "2024-06-18T13:10:46.546Z"
   },
   {
    "duration": 19,
    "start_time": "2024-06-18T13:10:46.582Z"
   },
   {
    "duration": 27,
    "start_time": "2024-06-18T13:10:46.603Z"
   },
   {
    "duration": 30,
    "start_time": "2024-06-18T13:10:46.632Z"
   },
   {
    "duration": 12,
    "start_time": "2024-06-18T13:10:46.683Z"
   },
   {
    "duration": 27,
    "start_time": "2024-06-18T13:10:46.698Z"
   },
   {
    "duration": 13,
    "start_time": "2024-06-18T13:10:46.728Z"
   },
   {
    "duration": 15,
    "start_time": "2024-06-18T13:10:46.743Z"
   },
   {
    "duration": 467,
    "start_time": "2024-06-18T13:12:40.392Z"
   },
   {
    "duration": 225,
    "start_time": "2024-06-18T13:12:40.861Z"
   },
   {
    "duration": 23,
    "start_time": "2024-06-18T13:12:41.088Z"
   },
   {
    "duration": 73,
    "start_time": "2024-06-18T13:12:41.116Z"
   },
   {
    "duration": 3,
    "start_time": "2024-06-18T13:12:41.192Z"
   },
   {
    "duration": 20,
    "start_time": "2024-06-18T13:12:41.197Z"
   },
   {
    "duration": 26,
    "start_time": "2024-06-18T13:12:41.219Z"
   },
   {
    "duration": 10,
    "start_time": "2024-06-18T13:12:41.247Z"
   },
   {
    "duration": 53,
    "start_time": "2024-06-18T13:12:41.259Z"
   },
   {
    "duration": 68,
    "start_time": "2024-06-18T13:12:41.314Z"
   },
   {
    "duration": 32,
    "start_time": "2024-06-18T13:12:41.384Z"
   },
   {
    "duration": 105,
    "start_time": "2024-06-18T13:12:41.418Z"
   },
   {
    "duration": 108,
    "start_time": "2024-06-18T13:12:41.525Z"
   },
   {
    "duration": 91,
    "start_time": "2024-06-18T13:12:41.638Z"
   },
   {
    "duration": 11,
    "start_time": "2024-06-18T13:12:41.731Z"
   },
   {
    "duration": 14,
    "start_time": "2024-06-18T13:12:41.744Z"
   },
   {
    "duration": 29,
    "start_time": "2024-06-18T13:12:41.759Z"
   },
   {
    "duration": 22,
    "start_time": "2024-06-18T13:12:41.790Z"
   },
   {
    "duration": 28,
    "start_time": "2024-06-18T13:12:41.814Z"
   },
   {
    "duration": 4,
    "start_time": "2024-06-18T13:12:41.844Z"
   },
   {
    "duration": 54,
    "start_time": "2024-06-18T13:12:41.849Z"
   },
   {
    "duration": 29,
    "start_time": "2024-06-18T13:12:41.905Z"
   },
   {
    "duration": 51,
    "start_time": "2024-06-18T13:12:41.937Z"
   },
   {
    "duration": 27,
    "start_time": "2024-06-18T13:12:41.990Z"
   },
   {
    "duration": 22,
    "start_time": "2024-06-18T13:12:42.019Z"
   },
   {
    "duration": 45,
    "start_time": "2024-06-18T13:12:42.043Z"
   },
   {
    "duration": 11,
    "start_time": "2024-06-18T13:12:42.090Z"
   },
   {
    "duration": 30,
    "start_time": "2024-06-18T13:12:42.103Z"
   },
   {
    "duration": 21,
    "start_time": "2024-06-18T13:12:42.136Z"
   },
   {
    "duration": 5,
    "start_time": "2024-06-18T13:12:42.159Z"
   },
   {
    "duration": 5,
    "start_time": "2024-06-18T13:13:23.572Z"
   },
   {
    "duration": 4,
    "start_time": "2024-06-18T13:13:52.332Z"
   },
   {
    "duration": 5,
    "start_time": "2024-06-18T13:14:46.829Z"
   },
   {
    "duration": 4,
    "start_time": "2024-06-18T13:15:23.908Z"
   },
   {
    "duration": 5,
    "start_time": "2024-06-18T13:16:04.782Z"
   },
   {
    "duration": 425,
    "start_time": "2024-06-18T13:17:11.085Z"
   },
   {
    "duration": 199,
    "start_time": "2024-06-18T13:17:11.512Z"
   },
   {
    "duration": 19,
    "start_time": "2024-06-18T13:17:11.713Z"
   },
   {
    "duration": 48,
    "start_time": "2024-06-18T13:17:11.734Z"
   },
   {
    "duration": 2,
    "start_time": "2024-06-18T13:17:11.785Z"
   },
   {
    "duration": 11,
    "start_time": "2024-06-18T13:17:11.789Z"
   },
   {
    "duration": 30,
    "start_time": "2024-06-18T13:17:11.801Z"
   },
   {
    "duration": 9,
    "start_time": "2024-06-18T13:17:11.833Z"
   },
   {
    "duration": 52,
    "start_time": "2024-06-18T13:17:11.844Z"
   },
   {
    "duration": 38,
    "start_time": "2024-06-18T13:17:11.898Z"
   },
   {
    "duration": 62,
    "start_time": "2024-06-18T13:17:11.939Z"
   },
   {
    "duration": 118,
    "start_time": "2024-06-18T13:17:12.002Z"
   },
   {
    "duration": 91,
    "start_time": "2024-06-18T13:17:12.122Z"
   },
   {
    "duration": 73,
    "start_time": "2024-06-18T13:17:12.217Z"
   },
   {
    "duration": 10,
    "start_time": "2024-06-18T13:17:12.292Z"
   },
   {
    "duration": 12,
    "start_time": "2024-06-18T13:17:12.304Z"
   },
   {
    "duration": 7,
    "start_time": "2024-06-18T13:17:12.318Z"
   },
   {
    "duration": 23,
    "start_time": "2024-06-18T13:17:12.327Z"
   },
   {
    "duration": 39,
    "start_time": "2024-06-18T13:17:12.353Z"
   },
   {
    "duration": 4,
    "start_time": "2024-06-18T13:17:12.394Z"
   },
   {
    "duration": 28,
    "start_time": "2024-06-18T13:17:12.400Z"
   },
   {
    "duration": 52,
    "start_time": "2024-06-18T13:17:12.430Z"
   },
   {
    "duration": 23,
    "start_time": "2024-06-18T13:17:12.484Z"
   },
   {
    "duration": 26,
    "start_time": "2024-06-18T13:17:12.509Z"
   },
   {
    "duration": 48,
    "start_time": "2024-06-18T13:17:12.538Z"
   },
   {
    "duration": 18,
    "start_time": "2024-06-18T13:17:12.588Z"
   },
   {
    "duration": 12,
    "start_time": "2024-06-18T13:17:12.608Z"
   },
   {
    "duration": 26,
    "start_time": "2024-06-18T13:17:12.621Z"
   },
   {
    "duration": 35,
    "start_time": "2024-06-18T13:17:12.649Z"
   },
   {
    "duration": 6,
    "start_time": "2024-06-18T13:17:12.686Z"
   },
   {
    "duration": 20,
    "start_time": "2024-06-18T13:34:03.218Z"
   },
   {
    "duration": 12,
    "start_time": "2024-06-18T13:34:03.646Z"
   },
   {
    "duration": 21,
    "start_time": "2024-06-18T13:34:05.380Z"
   },
   {
    "duration": 13,
    "start_time": "2024-06-18T13:34:09.718Z"
   },
   {
    "duration": 74,
    "start_time": "2024-06-18T13:45:32.166Z"
   },
   {
    "duration": 74,
    "start_time": "2024-06-18T13:46:04.314Z"
   },
   {
    "duration": 7,
    "start_time": "2024-06-18T13:48:42.195Z"
   },
   {
    "duration": 6,
    "start_time": "2024-06-18T13:48:49.533Z"
   },
   {
    "duration": 5,
    "start_time": "2024-06-18T13:49:11.935Z"
   },
   {
    "duration": 12,
    "start_time": "2024-06-18T13:49:39.074Z"
   },
   {
    "duration": 13,
    "start_time": "2024-06-18T13:52:45.995Z"
   },
   {
    "duration": 9,
    "start_time": "2024-06-18T13:53:22.096Z"
   },
   {
    "duration": 5,
    "start_time": "2024-06-18T13:53:53.416Z"
   },
   {
    "duration": 9,
    "start_time": "2024-06-18T13:59:11.297Z"
   },
   {
    "duration": 7,
    "start_time": "2024-06-18T13:59:47.628Z"
   },
   {
    "duration": 5,
    "start_time": "2024-06-18T14:00:21.188Z"
   },
   {
    "duration": 417,
    "start_time": "2025-07-17T07:12:50.791Z"
   },
   {
    "duration": 488,
    "start_time": "2025-07-17T07:12:51.210Z"
   },
   {
    "duration": 20,
    "start_time": "2025-07-17T07:12:51.700Z"
   },
   {
    "duration": 48,
    "start_time": "2025-07-17T07:12:51.722Z"
   },
   {
    "duration": 2,
    "start_time": "2025-07-17T07:12:51.774Z"
   },
   {
    "duration": 10,
    "start_time": "2025-07-17T07:12:51.778Z"
   },
   {
    "duration": 26,
    "start_time": "2025-07-17T07:12:51.790Z"
   },
   {
    "duration": 19,
    "start_time": "2025-07-17T07:12:51.817Z"
   },
   {
    "duration": 49,
    "start_time": "2025-07-17T07:12:51.838Z"
   },
   {
    "duration": 24,
    "start_time": "2025-07-17T07:12:51.889Z"
   },
   {
    "duration": 98,
    "start_time": "2025-07-17T07:12:51.915Z"
   },
   {
    "duration": 63,
    "start_time": "2025-07-17T07:12:52.015Z"
   },
   {
    "duration": 95,
    "start_time": "2025-07-17T07:12:52.080Z"
   },
   {
    "duration": 73,
    "start_time": "2025-07-17T07:12:52.189Z"
   },
   {
    "duration": 10,
    "start_time": "2025-07-17T07:12:52.264Z"
   },
   {
    "duration": 79,
    "start_time": "2025-07-17T07:12:52.290Z"
   },
   {
    "duration": 11,
    "start_time": "2025-07-17T07:12:52.371Z"
   },
   {
    "duration": 17,
    "start_time": "2025-07-17T07:12:52.384Z"
   },
   {
    "duration": 55,
    "start_time": "2025-07-17T07:12:52.403Z"
   },
   {
    "duration": 4,
    "start_time": "2025-07-17T07:12:52.460Z"
   },
   {
    "duration": 22,
    "start_time": "2025-07-17T07:12:52.466Z"
   },
   {
    "duration": 22,
    "start_time": "2025-07-17T07:12:52.490Z"
   },
   {
    "duration": 24,
    "start_time": "2025-07-17T07:12:52.514Z"
   },
   {
    "duration": 13,
    "start_time": "2025-07-17T07:12:52.540Z"
   },
   {
    "duration": 16,
    "start_time": "2025-07-17T07:12:52.555Z"
   },
   {
    "duration": 31,
    "start_time": "2025-07-17T07:12:52.573Z"
   },
   {
    "duration": 10,
    "start_time": "2025-07-17T07:12:52.607Z"
   },
   {
    "duration": 15,
    "start_time": "2025-07-17T07:12:52.619Z"
   },
   {
    "duration": 24,
    "start_time": "2025-07-17T07:12:52.635Z"
   },
   {
    "duration": 5,
    "start_time": "2025-07-17T07:12:52.660Z"
   },
   {
    "duration": 59,
    "start_time": "2025-07-17T07:12:52.666Z"
   },
   {
    "duration": 38,
    "start_time": "2025-07-17T07:12:52.727Z"
   },
   {
    "duration": 19,
    "start_time": "2025-07-17T07:12:52.766Z"
   },
   {
    "duration": 17,
    "start_time": "2025-07-17T07:12:52.787Z"
   },
   {
    "duration": 12,
    "start_time": "2025-07-17T07:12:52.806Z"
   },
   {
    "duration": 19,
    "start_time": "2025-07-17T07:12:52.820Z"
   },
   {
    "duration": 8,
    "start_time": "2025-07-17T07:12:52.840Z"
   },
   {
    "duration": 8,
    "start_time": "2025-07-17T07:12:52.850Z"
   }
  ],
  "celltoolbar": "Отсутствует",
  "colab": {
   "collapsed_sections": [
    "E0vqbgi9ay0H",
    "VUC88oWjTJw2"
   ],
   "provenance": []
  },
  "kernelspec": {
   "display_name": "Python 3 (ipykernel)",
   "language": "python",
   "name": "python3"
  },
  "language_info": {
   "codemirror_mode": {
    "name": "ipython",
    "version": 3
   },
   "file_extension": ".py",
   "mimetype": "text/x-python",
   "name": "python",
   "nbconvert_exporter": "python",
   "pygments_lexer": "ipython3",
   "version": "3.9.5"
  },
  "toc": {
   "base_numbering": 1,
   "nav_menu": {
    "height": "215px",
    "width": "403px"
   },
   "number_sections": true,
   "sideBar": true,
   "skip_h1_title": true,
   "title_cell": "Table of Contents",
   "title_sidebar": "Contents",
   "toc_cell": false,
   "toc_position": {
    "height": "calc(100% - 180px)",
    "left": "10px",
    "top": "150px",
    "width": "285.825px"
   },
   "toc_section_display": true,
   "toc_window_display": false
  }
 },
 "nbformat": 4,
 "nbformat_minor": 1
}

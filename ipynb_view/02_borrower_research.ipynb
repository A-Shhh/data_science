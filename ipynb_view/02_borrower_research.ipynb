{
 "cells": [
  {
   "cell_type": "markdown",
   "id": "be05f84c",
   "metadata": {
    "deletable": false,
    "editable": false,
    "id": "c81daeeb"
   },
   "source": [
    "# Исследование надежности заемщиков\n"
   ]
  },
  {
   "cell_type": "markdown",
   "id": "ebcf0f13",
   "metadata": {},
   "source": [
    "**Описание проекта:**  \n",
    "Проект выполнен для банковского сектора. Цель, поставленная кредитным отделом банка, — оценить способность потенциального заемщика вернуть кредит в срок. База данных, предоставленная банком, содержит статистику о платежеспособности клиентов. В рамках работы над проектом была выполнена предобработка данных, включая удаление пропусков, поиск и обработку дубликатов. Также были определены зависимости, позволяющие выявить факторы, влияющие на своевременное погашение кредита."
   ]
  },
  {
   "cell_type": "markdown",
   "id": "55b3f274",
   "metadata": {
    "deletable": false,
    "editable": false,
    "id": "744d7639"
   },
   "source": [
    "## Загрузка данных"
   ]
  },
  {
   "cell_type": "markdown",
   "id": "8d5cf7b4",
   "metadata": {
    "deletable": false,
    "editable": false,
    "id": "e7a14c31"
   },
   "source": [
    "Выполним ипорт необходимых библиотек и изучим датасет `data`."
   ]
  },
  {
   "cell_type": "code",
   "execution_count": 1,
   "id": "fc51a5db",
   "metadata": {
    "deletable": false,
    "id": "7bcf75c9"
   },
   "outputs": [
    {
     "name": "stdout",
     "output_type": "stream",
     "text": [
      "Код выполняется вне Google Colab.\n"
     ]
    }
   ],
   "source": [
    "import pandas as pd\n",
    "try:\n",
    "    from google.colab import drive\n",
    "    drive.mount('/content/drive')\n",
    "except ImportError:\n",
    "    print('Код выполняется вне Google Colab.')"
   ]
  },
  {
   "cell_type": "code",
   "execution_count": 2,
   "id": "bf37e9af",
   "metadata": {},
   "outputs": [],
   "source": [
    "try:\n",
    "    data = data = pd.read_csv('/datasets/data.csv')  # Для практикума\n",
    "except FileNotFoundError:\n",
    "    try:\n",
    "        data = pd.read_csv('../Модуль 1 спринт 1/data.csv')  # Если файл локальный\n",
    "    except FileNotFoundError:\n",
    "        try:\n",
    "            data = pd.read_csv('/content/drive/MyDrive/Colab Notebooks/Модуль 1/Модуль 1 спринт 1/data.csv')  # Для Google Colab\n",
    "        except FileNotFoundError:\n",
    "            print('Файл не найден ни в одном из указанных мест.')"
   ]
  },
  {
   "cell_type": "markdown",
   "id": "b8933589",
   "metadata": {
    "deletable": false,
    "editable": false,
    "id": "b8038fe3"
   },
   "source": [
    "Выведим первые 20 строчек датафрейма `data` на экран."
   ]
  },
  {
   "cell_type": "code",
   "execution_count": 3,
   "id": "dd866637",
   "metadata": {
    "deletable": false,
    "id": "2a7cab99",
    "outputId": "1a8f3ef2-d323-4ec2-ddf7-89670b5944c4"
   },
   "outputs": [
    {
     "data": {
      "text/html": [
       "<div>\n",
       "<style scoped>\n",
       "    .dataframe tbody tr th:only-of-type {\n",
       "        vertical-align: middle;\n",
       "    }\n",
       "\n",
       "    .dataframe tbody tr th {\n",
       "        vertical-align: top;\n",
       "    }\n",
       "\n",
       "    .dataframe thead th {\n",
       "        text-align: right;\n",
       "    }\n",
       "</style>\n",
       "<table border=\"1\" class=\"dataframe\">\n",
       "  <thead>\n",
       "    <tr style=\"text-align: right;\">\n",
       "      <th></th>\n",
       "      <th>children</th>\n",
       "      <th>days_employed</th>\n",
       "      <th>dob_years</th>\n",
       "      <th>education</th>\n",
       "      <th>education_id</th>\n",
       "      <th>family_status</th>\n",
       "      <th>family_status_id</th>\n",
       "      <th>gender</th>\n",
       "      <th>income_type</th>\n",
       "      <th>debt</th>\n",
       "      <th>total_income</th>\n",
       "      <th>purpose</th>\n",
       "    </tr>\n",
       "  </thead>\n",
       "  <tbody>\n",
       "    <tr>\n",
       "      <th>0</th>\n",
       "      <td>1</td>\n",
       "      <td>-8437.673028</td>\n",
       "      <td>42</td>\n",
       "      <td>высшее</td>\n",
       "      <td>0</td>\n",
       "      <td>женат / замужем</td>\n",
       "      <td>0</td>\n",
       "      <td>F</td>\n",
       "      <td>сотрудник</td>\n",
       "      <td>0</td>\n",
       "      <td>253875.639453</td>\n",
       "      <td>покупка жилья</td>\n",
       "    </tr>\n",
       "    <tr>\n",
       "      <th>1</th>\n",
       "      <td>1</td>\n",
       "      <td>-4024.803754</td>\n",
       "      <td>36</td>\n",
       "      <td>среднее</td>\n",
       "      <td>1</td>\n",
       "      <td>женат / замужем</td>\n",
       "      <td>0</td>\n",
       "      <td>F</td>\n",
       "      <td>сотрудник</td>\n",
       "      <td>0</td>\n",
       "      <td>112080.014102</td>\n",
       "      <td>приобретение автомобиля</td>\n",
       "    </tr>\n",
       "    <tr>\n",
       "      <th>2</th>\n",
       "      <td>0</td>\n",
       "      <td>-5623.422610</td>\n",
       "      <td>33</td>\n",
       "      <td>Среднее</td>\n",
       "      <td>1</td>\n",
       "      <td>женат / замужем</td>\n",
       "      <td>0</td>\n",
       "      <td>M</td>\n",
       "      <td>сотрудник</td>\n",
       "      <td>0</td>\n",
       "      <td>145885.952297</td>\n",
       "      <td>покупка жилья</td>\n",
       "    </tr>\n",
       "    <tr>\n",
       "      <th>3</th>\n",
       "      <td>3</td>\n",
       "      <td>-4124.747207</td>\n",
       "      <td>32</td>\n",
       "      <td>среднее</td>\n",
       "      <td>1</td>\n",
       "      <td>женат / замужем</td>\n",
       "      <td>0</td>\n",
       "      <td>M</td>\n",
       "      <td>сотрудник</td>\n",
       "      <td>0</td>\n",
       "      <td>267628.550329</td>\n",
       "      <td>дополнительное образование</td>\n",
       "    </tr>\n",
       "    <tr>\n",
       "      <th>4</th>\n",
       "      <td>0</td>\n",
       "      <td>340266.072047</td>\n",
       "      <td>53</td>\n",
       "      <td>среднее</td>\n",
       "      <td>1</td>\n",
       "      <td>гражданский брак</td>\n",
       "      <td>1</td>\n",
       "      <td>F</td>\n",
       "      <td>пенсионер</td>\n",
       "      <td>0</td>\n",
       "      <td>158616.077870</td>\n",
       "      <td>сыграть свадьбу</td>\n",
       "    </tr>\n",
       "    <tr>\n",
       "      <th>5</th>\n",
       "      <td>0</td>\n",
       "      <td>-926.185831</td>\n",
       "      <td>27</td>\n",
       "      <td>высшее</td>\n",
       "      <td>0</td>\n",
       "      <td>гражданский брак</td>\n",
       "      <td>1</td>\n",
       "      <td>M</td>\n",
       "      <td>компаньон</td>\n",
       "      <td>0</td>\n",
       "      <td>255763.565419</td>\n",
       "      <td>покупка жилья</td>\n",
       "    </tr>\n",
       "    <tr>\n",
       "      <th>6</th>\n",
       "      <td>0</td>\n",
       "      <td>-2879.202052</td>\n",
       "      <td>43</td>\n",
       "      <td>высшее</td>\n",
       "      <td>0</td>\n",
       "      <td>женат / замужем</td>\n",
       "      <td>0</td>\n",
       "      <td>F</td>\n",
       "      <td>компаньон</td>\n",
       "      <td>0</td>\n",
       "      <td>240525.971920</td>\n",
       "      <td>операции с жильем</td>\n",
       "    </tr>\n",
       "    <tr>\n",
       "      <th>7</th>\n",
       "      <td>0</td>\n",
       "      <td>-152.779569</td>\n",
       "      <td>50</td>\n",
       "      <td>СРЕДНЕЕ</td>\n",
       "      <td>1</td>\n",
       "      <td>женат / замужем</td>\n",
       "      <td>0</td>\n",
       "      <td>M</td>\n",
       "      <td>сотрудник</td>\n",
       "      <td>0</td>\n",
       "      <td>135823.934197</td>\n",
       "      <td>образование</td>\n",
       "    </tr>\n",
       "    <tr>\n",
       "      <th>8</th>\n",
       "      <td>2</td>\n",
       "      <td>-6929.865299</td>\n",
       "      <td>35</td>\n",
       "      <td>ВЫСШЕЕ</td>\n",
       "      <td>0</td>\n",
       "      <td>гражданский брак</td>\n",
       "      <td>1</td>\n",
       "      <td>F</td>\n",
       "      <td>сотрудник</td>\n",
       "      <td>0</td>\n",
       "      <td>95856.832424</td>\n",
       "      <td>на проведение свадьбы</td>\n",
       "    </tr>\n",
       "    <tr>\n",
       "      <th>9</th>\n",
       "      <td>0</td>\n",
       "      <td>-2188.756445</td>\n",
       "      <td>41</td>\n",
       "      <td>среднее</td>\n",
       "      <td>1</td>\n",
       "      <td>женат / замужем</td>\n",
       "      <td>0</td>\n",
       "      <td>M</td>\n",
       "      <td>сотрудник</td>\n",
       "      <td>0</td>\n",
       "      <td>144425.938277</td>\n",
       "      <td>покупка жилья для семьи</td>\n",
       "    </tr>\n",
       "    <tr>\n",
       "      <th>10</th>\n",
       "      <td>2</td>\n",
       "      <td>-4171.483647</td>\n",
       "      <td>36</td>\n",
       "      <td>высшее</td>\n",
       "      <td>0</td>\n",
       "      <td>женат / замужем</td>\n",
       "      <td>0</td>\n",
       "      <td>M</td>\n",
       "      <td>компаньон</td>\n",
       "      <td>0</td>\n",
       "      <td>113943.491460</td>\n",
       "      <td>покупка недвижимости</td>\n",
       "    </tr>\n",
       "    <tr>\n",
       "      <th>11</th>\n",
       "      <td>0</td>\n",
       "      <td>-792.701887</td>\n",
       "      <td>40</td>\n",
       "      <td>среднее</td>\n",
       "      <td>1</td>\n",
       "      <td>женат / замужем</td>\n",
       "      <td>0</td>\n",
       "      <td>F</td>\n",
       "      <td>сотрудник</td>\n",
       "      <td>0</td>\n",
       "      <td>77069.234271</td>\n",
       "      <td>покупка коммерческой недвижимости</td>\n",
       "    </tr>\n",
       "    <tr>\n",
       "      <th>12</th>\n",
       "      <td>0</td>\n",
       "      <td>NaN</td>\n",
       "      <td>65</td>\n",
       "      <td>среднее</td>\n",
       "      <td>1</td>\n",
       "      <td>гражданский брак</td>\n",
       "      <td>1</td>\n",
       "      <td>M</td>\n",
       "      <td>пенсионер</td>\n",
       "      <td>0</td>\n",
       "      <td>NaN</td>\n",
       "      <td>сыграть свадьбу</td>\n",
       "    </tr>\n",
       "    <tr>\n",
       "      <th>13</th>\n",
       "      <td>0</td>\n",
       "      <td>-1846.641941</td>\n",
       "      <td>54</td>\n",
       "      <td>неоконченное высшее</td>\n",
       "      <td>2</td>\n",
       "      <td>женат / замужем</td>\n",
       "      <td>0</td>\n",
       "      <td>F</td>\n",
       "      <td>сотрудник</td>\n",
       "      <td>0</td>\n",
       "      <td>130458.228857</td>\n",
       "      <td>приобретение автомобиля</td>\n",
       "    </tr>\n",
       "    <tr>\n",
       "      <th>14</th>\n",
       "      <td>0</td>\n",
       "      <td>-1844.956182</td>\n",
       "      <td>56</td>\n",
       "      <td>высшее</td>\n",
       "      <td>0</td>\n",
       "      <td>гражданский брак</td>\n",
       "      <td>1</td>\n",
       "      <td>F</td>\n",
       "      <td>компаньон</td>\n",
       "      <td>1</td>\n",
       "      <td>165127.911772</td>\n",
       "      <td>покупка жилой недвижимости</td>\n",
       "    </tr>\n",
       "    <tr>\n",
       "      <th>15</th>\n",
       "      <td>1</td>\n",
       "      <td>-972.364419</td>\n",
       "      <td>26</td>\n",
       "      <td>среднее</td>\n",
       "      <td>1</td>\n",
       "      <td>женат / замужем</td>\n",
       "      <td>0</td>\n",
       "      <td>F</td>\n",
       "      <td>сотрудник</td>\n",
       "      <td>0</td>\n",
       "      <td>116820.904450</td>\n",
       "      <td>строительство собственной недвижимости</td>\n",
       "    </tr>\n",
       "    <tr>\n",
       "      <th>16</th>\n",
       "      <td>0</td>\n",
       "      <td>-1719.934226</td>\n",
       "      <td>35</td>\n",
       "      <td>среднее</td>\n",
       "      <td>1</td>\n",
       "      <td>женат / замужем</td>\n",
       "      <td>0</td>\n",
       "      <td>F</td>\n",
       "      <td>сотрудник</td>\n",
       "      <td>0</td>\n",
       "      <td>289202.704229</td>\n",
       "      <td>недвижимость</td>\n",
       "    </tr>\n",
       "    <tr>\n",
       "      <th>17</th>\n",
       "      <td>0</td>\n",
       "      <td>-2369.999720</td>\n",
       "      <td>33</td>\n",
       "      <td>высшее</td>\n",
       "      <td>0</td>\n",
       "      <td>гражданский брак</td>\n",
       "      <td>1</td>\n",
       "      <td>M</td>\n",
       "      <td>сотрудник</td>\n",
       "      <td>0</td>\n",
       "      <td>90410.586745</td>\n",
       "      <td>строительство недвижимости</td>\n",
       "    </tr>\n",
       "    <tr>\n",
       "      <th>18</th>\n",
       "      <td>0</td>\n",
       "      <td>400281.136913</td>\n",
       "      <td>53</td>\n",
       "      <td>среднее</td>\n",
       "      <td>1</td>\n",
       "      <td>вдовец / вдова</td>\n",
       "      <td>2</td>\n",
       "      <td>F</td>\n",
       "      <td>пенсионер</td>\n",
       "      <td>0</td>\n",
       "      <td>56823.777243</td>\n",
       "      <td>на покупку подержанного автомобиля</td>\n",
       "    </tr>\n",
       "    <tr>\n",
       "      <th>19</th>\n",
       "      <td>0</td>\n",
       "      <td>-10038.818549</td>\n",
       "      <td>48</td>\n",
       "      <td>СРЕДНЕЕ</td>\n",
       "      <td>1</td>\n",
       "      <td>в разводе</td>\n",
       "      <td>3</td>\n",
       "      <td>F</td>\n",
       "      <td>сотрудник</td>\n",
       "      <td>0</td>\n",
       "      <td>242831.107982</td>\n",
       "      <td>на покупку своего автомобиля</td>\n",
       "    </tr>\n",
       "  </tbody>\n",
       "</table>\n",
       "</div>"
      ],
      "text/plain": [
       "    children  days_employed  dob_years            education  education_id  \\\n",
       "0          1   -8437.673028         42               высшее             0   \n",
       "1          1   -4024.803754         36              среднее             1   \n",
       "2          0   -5623.422610         33              Среднее             1   \n",
       "3          3   -4124.747207         32              среднее             1   \n",
       "4          0  340266.072047         53              среднее             1   \n",
       "5          0    -926.185831         27               высшее             0   \n",
       "6          0   -2879.202052         43               высшее             0   \n",
       "7          0    -152.779569         50              СРЕДНЕЕ             1   \n",
       "8          2   -6929.865299         35               ВЫСШЕЕ             0   \n",
       "9          0   -2188.756445         41              среднее             1   \n",
       "10         2   -4171.483647         36               высшее             0   \n",
       "11         0    -792.701887         40              среднее             1   \n",
       "12         0            NaN         65              среднее             1   \n",
       "13         0   -1846.641941         54  неоконченное высшее             2   \n",
       "14         0   -1844.956182         56               высшее             0   \n",
       "15         1    -972.364419         26              среднее             1   \n",
       "16         0   -1719.934226         35              среднее             1   \n",
       "17         0   -2369.999720         33               высшее             0   \n",
       "18         0  400281.136913         53              среднее             1   \n",
       "19         0  -10038.818549         48              СРЕДНЕЕ             1   \n",
       "\n",
       "       family_status  family_status_id gender income_type  debt  \\\n",
       "0    женат / замужем                 0      F   сотрудник     0   \n",
       "1    женат / замужем                 0      F   сотрудник     0   \n",
       "2    женат / замужем                 0      M   сотрудник     0   \n",
       "3    женат / замужем                 0      M   сотрудник     0   \n",
       "4   гражданский брак                 1      F   пенсионер     0   \n",
       "5   гражданский брак                 1      M   компаньон     0   \n",
       "6    женат / замужем                 0      F   компаньон     0   \n",
       "7    женат / замужем                 0      M   сотрудник     0   \n",
       "8   гражданский брак                 1      F   сотрудник     0   \n",
       "9    женат / замужем                 0      M   сотрудник     0   \n",
       "10   женат / замужем                 0      M   компаньон     0   \n",
       "11   женат / замужем                 0      F   сотрудник     0   \n",
       "12  гражданский брак                 1      M   пенсионер     0   \n",
       "13   женат / замужем                 0      F   сотрудник     0   \n",
       "14  гражданский брак                 1      F   компаньон     1   \n",
       "15   женат / замужем                 0      F   сотрудник     0   \n",
       "16   женат / замужем                 0      F   сотрудник     0   \n",
       "17  гражданский брак                 1      M   сотрудник     0   \n",
       "18    вдовец / вдова                 2      F   пенсионер     0   \n",
       "19         в разводе                 3      F   сотрудник     0   \n",
       "\n",
       "     total_income                                 purpose  \n",
       "0   253875.639453                           покупка жилья  \n",
       "1   112080.014102                 приобретение автомобиля  \n",
       "2   145885.952297                           покупка жилья  \n",
       "3   267628.550329              дополнительное образование  \n",
       "4   158616.077870                         сыграть свадьбу  \n",
       "5   255763.565419                           покупка жилья  \n",
       "6   240525.971920                       операции с жильем  \n",
       "7   135823.934197                             образование  \n",
       "8    95856.832424                   на проведение свадьбы  \n",
       "9   144425.938277                 покупка жилья для семьи  \n",
       "10  113943.491460                    покупка недвижимости  \n",
       "11   77069.234271       покупка коммерческой недвижимости  \n",
       "12            NaN                         сыграть свадьбу  \n",
       "13  130458.228857                 приобретение автомобиля  \n",
       "14  165127.911772              покупка жилой недвижимости  \n",
       "15  116820.904450  строительство собственной недвижимости  \n",
       "16  289202.704229                            недвижимость  \n",
       "17   90410.586745              строительство недвижимости  \n",
       "18   56823.777243      на покупку подержанного автомобиля  \n",
       "19  242831.107982            на покупку своего автомобиля  "
      ]
     },
     "execution_count": 3,
     "metadata": {},
     "output_type": "execute_result"
    }
   ],
   "source": [
    "data.head(20)"
   ]
  },
  {
   "cell_type": "markdown",
   "id": "fa1def05",
   "metadata": {
    "deletable": false,
    "editable": false,
    "id": "1c12e233"
   },
   "source": [
    "Изучим основную информацию о датафрейме с помощью метода `info()`."
   ]
  },
  {
   "cell_type": "code",
   "execution_count": 4,
   "id": "051ded8c",
   "metadata": {
    "deletable": false,
    "id": "2b757bca",
    "outputId": "15376089-8dad-46c9-b520-c05248d43158"
   },
   "outputs": [
    {
     "name": "stdout",
     "output_type": "stream",
     "text": [
      "<class 'pandas.core.frame.DataFrame'>\n",
      "RangeIndex: 21525 entries, 0 to 21524\n",
      "Data columns (total 12 columns):\n",
      " #   Column            Non-Null Count  Dtype  \n",
      "---  ------            --------------  -----  \n",
      " 0   children          21525 non-null  int64  \n",
      " 1   days_employed     19351 non-null  float64\n",
      " 2   dob_years         21525 non-null  int64  \n",
      " 3   education         21525 non-null  object \n",
      " 4   education_id      21525 non-null  int64  \n",
      " 5   family_status     21525 non-null  object \n",
      " 6   family_status_id  21525 non-null  int64  \n",
      " 7   gender            21525 non-null  object \n",
      " 8   income_type       21525 non-null  object \n",
      " 9   debt              21525 non-null  int64  \n",
      " 10  total_income      19351 non-null  float64\n",
      " 11  purpose           21525 non-null  object \n",
      "dtypes: float64(2), int64(5), object(5)\n",
      "memory usage: 2.0+ MB\n"
     ]
    }
   ],
   "source": [
    "data.info()"
   ]
  },
  {
   "cell_type": "markdown",
   "id": "4c05b84d",
   "metadata": {
    "deletable": false,
    "editable": false,
    "id": "333ec665"
   },
   "source": [
    "## Предобработка данных"
   ]
  },
  {
   "cell_type": "markdown",
   "id": "1243978d",
   "metadata": {
    "deletable": false,
    "editable": false,
    "id": "02d92d53"
   },
   "source": [
    "### Удаление пропусков"
   ]
  },
  {
   "cell_type": "markdown",
   "id": "44f837ee",
   "metadata": {
    "deletable": false,
    "editable": false,
    "id": "cd84967c"
   },
   "source": [
    "Проверим пропущенные значения в столбцах."
   ]
  },
  {
   "cell_type": "code",
   "execution_count": 5,
   "id": "afa620e2",
   "metadata": {
    "deletable": false,
    "id": "7f9b2309",
    "outputId": "81f4d817-781c-465c-ed15-91ce4446810d"
   },
   "outputs": [
    {
     "data": {
      "text/plain": [
       "children               0\n",
       "days_employed       2174\n",
       "dob_years              0\n",
       "education              0\n",
       "education_id           0\n",
       "family_status          0\n",
       "family_status_id       0\n",
       "gender                 0\n",
       "income_type            0\n",
       "debt                   0\n",
       "total_income        2174\n",
       "purpose                0\n",
       "dtype: int64"
      ]
     },
     "execution_count": 5,
     "metadata": {},
     "output_type": "execute_result"
    }
   ],
   "source": [
    "data.isna().sum()"
   ]
  },
  {
   "cell_type": "markdown",
   "id": "65f081a7",
   "metadata": {
    "deletable": false,
    "editable": false,
    "id": "db86e27b"
   },
   "source": [
    "В двух столбцах есть пропущенные значения. Один из них — `days_employed`. Другой столбец с пропущенными значениями — `total_income` — хранит данные о доходах. На сумму дохода сильнее всего влияет тип занятости, поэтому заполнить пропуски в этом столбце нужно медианным значением по каждому типу из столбца `income_type`."
   ]
  },
  {
   "cell_type": "code",
   "execution_count": 6,
   "id": "aba02965",
   "metadata": {
    "deletable": false,
    "id": "42006a93"
   },
   "outputs": [],
   "source": [
    "for t in data['income_type'].unique():\n",
    "    data.loc[(data['income_type'] == t) & (data['total_income'].isna()), 'total_income'] = \\\n",
    "    data.loc[(data['income_type'] == t), 'total_income'].median()"
   ]
  },
  {
   "cell_type": "markdown",
   "id": "f3a03136",
   "metadata": {
    "deletable": false,
    "editable": false,
    "id": "89da5ece"
   },
   "source": [
    "### Обработка аномальных значений"
   ]
  },
  {
   "cell_type": "markdown",
   "id": "5f160ed5",
   "metadata": {
    "deletable": false,
    "editable": false,
    "id": "57964554"
   },
   "source": [
    "В столбце `days_employed` обнаружены отрицательные значения. Заменим все отрицательные значения положительными с помощью метода `abs()`."
   ]
  },
  {
   "cell_type": "code",
   "execution_count": 7,
   "id": "294e65b1",
   "metadata": {
    "deletable": false,
    "id": "f6f055bf"
   },
   "outputs": [],
   "source": [
    "data['days_employed'] = data['days_employed'].abs()"
   ]
  },
  {
   "cell_type": "markdown",
   "id": "e986beca",
   "metadata": {
    "deletable": false,
    "editable": false,
    "id": "6107dd2f"
   },
   "source": [
    "Для каждого типа занятости определим медианное значение трудового стажа `days_employed` в днях."
   ]
  },
  {
   "cell_type": "code",
   "execution_count": 8,
   "id": "d8952121",
   "metadata": {
    "deletable": false,
    "id": "85a5faf6",
    "outputId": "801ef80e-522b-4668-f34e-565af7432bcf"
   },
   "outputs": [
    {
     "data": {
      "text/plain": [
       "income_type\n",
       "безработный        366413.652744\n",
       "в декрете            3296.759962\n",
       "госслужащий          2689.368353\n",
       "компаньон            1547.382223\n",
       "пенсионер          365213.306266\n",
       "предприниматель       520.848083\n",
       "сотрудник            1574.202821\n",
       "студент               578.751554\n",
       "Name: days_employed, dtype: float64"
      ]
     },
     "execution_count": 8,
     "metadata": {},
     "output_type": "execute_result"
    }
   ],
   "source": [
    "data.groupby('income_type')['days_employed'].agg('median')"
   ]
  },
  {
   "cell_type": "markdown",
   "id": "58326026",
   "metadata": {
    "deletable": false,
    "editable": false,
    "id": "38d1a030"
   },
   "source": [
    "У двух типов (безработные и пенсионеры) получатся аномально большие значения. Оставим их как есть."
   ]
  },
  {
   "cell_type": "markdown",
   "id": "b9eadcde",
   "metadata": {
    "deletable": false,
    "editable": false,
    "id": "d8a9f147"
   },
   "source": [
    "Определим уникальные значения столбца `children`."
   ]
  },
  {
   "cell_type": "code",
   "execution_count": 9,
   "id": "f625fff7",
   "metadata": {
    "deletable": false,
    "id": "ef5056eb",
    "outputId": "6975b15c-7f95-4697-d16d-a0c79b657b03"
   },
   "outputs": [
    {
     "data": {
      "text/plain": [
       "array([ 1,  0,  3,  2, -1,  4, 20,  5])"
      ]
     },
     "execution_count": 9,
     "metadata": {},
     "output_type": "execute_result"
    }
   ],
   "source": [
    "data['children'].unique()"
   ]
  },
  {
   "cell_type": "markdown",
   "id": "c4f8fb6d",
   "metadata": {
    "deletable": false,
    "editable": false,
    "id": "40b9ebf2"
   },
   "source": [
    "В столбце `children` есть два аномальных значения. Удалим строки, в которых встречаются такие аномальные значения."
   ]
  },
  {
   "cell_type": "code",
   "execution_count": 10,
   "id": "eb4dd39f",
   "metadata": {
    "deletable": false,
    "id": "3ff9801d"
   },
   "outputs": [],
   "source": [
    "data = data[(data['children'] != -1) & (data['children'] != 20)]"
   ]
  },
  {
   "cell_type": "markdown",
   "id": "bc9b25bf",
   "metadata": {
    "deletable": false,
    "editable": false,
    "id": "bbc4d0ce"
   },
   "source": [
    "Выполним проверку столбца `children`, чтобы убедиться, что аномалии удалены."
   ]
  },
  {
   "cell_type": "code",
   "execution_count": 11,
   "id": "c1579686",
   "metadata": {
    "deletable": false,
    "id": "ad4fa8b7",
    "outputId": "b2097101-d49d-44d9-901b-32a65c9463d1"
   },
   "outputs": [
    {
     "data": {
      "text/plain": [
       "array([1, 0, 3, 2, 4, 5])"
      ]
     },
     "execution_count": 11,
     "metadata": {},
     "output_type": "execute_result"
    }
   ],
   "source": [
    "data['children'].unique()"
   ]
  },
  {
   "cell_type": "markdown",
   "id": "3c9049f3",
   "metadata": {
    "deletable": false,
    "editable": false,
    "id": "f4ea573f"
   },
   "source": [
    "Заполним пропуски в столбце `days_employed` медианными значениями по каждому типа занятости `income_type`."
   ]
  },
  {
   "cell_type": "code",
   "execution_count": 12,
   "id": "eec266f5",
   "metadata": {
    "deletable": false,
    "id": "af6b1a7e"
   },
   "outputs": [],
   "source": [
    "for t in data['income_type'].unique():\n",
    "    data.loc[(data['income_type'] == t) & (data['days_employed'].isna()), 'days_employed'] = \\\n",
    "    data.loc[(data['income_type'] == t), 'days_employed'].median()"
   ]
  },
  {
   "cell_type": "markdown",
   "id": "cea89110",
   "metadata": {
    "deletable": false,
    "editable": false,
    "id": "2753f40d"
   },
   "source": [
    "Проверим, что все пропуски заполнены."
   ]
  },
  {
   "cell_type": "code",
   "execution_count": 13,
   "id": "ae7f0c13",
   "metadata": {
    "deletable": false,
    "id": "55f78bc2",
    "outputId": "8da1e4e1-358e-4e87-98c9-f261bce0a7b2"
   },
   "outputs": [
    {
     "data": {
      "text/plain": [
       "children            0\n",
       "days_employed       0\n",
       "dob_years           0\n",
       "education           0\n",
       "education_id        0\n",
       "family_status       0\n",
       "family_status_id    0\n",
       "gender              0\n",
       "income_type         0\n",
       "debt                0\n",
       "total_income        0\n",
       "purpose             0\n",
       "dtype: int64"
      ]
     },
     "execution_count": 13,
     "metadata": {},
     "output_type": "execute_result"
    }
   ],
   "source": [
    "data.isna().sum()"
   ]
  },
  {
   "cell_type": "markdown",
   "id": "77dcbd1a",
   "metadata": {
    "deletable": false,
    "editable": false,
    "id": "ddc81e43"
   },
   "source": [
    "### Изменение типов данных"
   ]
  },
  {
   "cell_type": "markdown",
   "id": "cbc85a22",
   "metadata": {
    "deletable": false,
    "editable": false,
    "id": "42d19d24"
   },
   "source": [
    "Изменим тип данных в столбце `total_income` на целочисленный с помощью метода `astype()`."
   ]
  },
  {
   "cell_type": "code",
   "execution_count": 14,
   "id": "bd532f2c",
   "metadata": {
    "deletable": false,
    "id": "920b65ad"
   },
   "outputs": [],
   "source": [
    "data['total_income'] = data['total_income'].astype(int)"
   ]
  },
  {
   "cell_type": "markdown",
   "id": "60fbfabe",
   "metadata": {
    "deletable": false,
    "editable": false,
    "id": "80c420ba"
   },
   "source": [
    "### Обработка дубликатов"
   ]
  },
  {
   "cell_type": "markdown",
   "id": "42d8db39",
   "metadata": {
    "deletable": false,
    "editable": false
   },
   "source": [
    "Обработаем столбец `education`, в столбце наблюдаются строки в разных регистрах."
   ]
  },
  {
   "cell_type": "code",
   "execution_count": 15,
   "id": "a893317e",
   "metadata": {
    "deletable": false
   },
   "outputs": [],
   "source": [
    "data['education'] = data['education'].str.lower()"
   ]
  },
  {
   "cell_type": "markdown",
   "id": "1cc6f78d",
   "metadata": {
    "deletable": false,
    "editable": false,
    "id": "dc587695"
   },
   "source": [
    "Проверим строки-дубликаты в данных."
   ]
  },
  {
   "cell_type": "code",
   "execution_count": 16,
   "id": "d75ce37f",
   "metadata": {
    "deletable": false,
    "id": "3ee445e4",
    "outputId": "9684deba-1934-42d1-99e1-cda61740f822"
   },
   "outputs": [
    {
     "data": {
      "text/plain": [
       "np.int64(71)"
      ]
     },
     "execution_count": 16,
     "metadata": {},
     "output_type": "execute_result"
    }
   ],
   "source": [
    "data.duplicated().sum()"
   ]
  },
  {
   "cell_type": "markdown",
   "id": "0fff52d2",
   "metadata": {},
   "source": [
    "Выполним удаление данных строк."
   ]
  },
  {
   "cell_type": "code",
   "execution_count": 17,
   "id": "530af47b",
   "metadata": {
    "deletable": false,
    "id": "8575fe05"
   },
   "outputs": [],
   "source": [
    "data = data.drop_duplicates()"
   ]
  },
  {
   "cell_type": "markdown",
   "id": "d45a0721",
   "metadata": {
    "deletable": false,
    "editable": false,
    "id": "9904cf55"
   },
   "source": [
    "### Категоризация данных"
   ]
  },
  {
   "cell_type": "markdown",
   "id": "cab3be93",
   "metadata": {
    "deletable": false,
    "editable": false,
    "id": "72fcc8a2"
   },
   "source": [
    "Создадим категориальный столбец `total_income_category` исходя от уровня дохода:\n",
    "\n",
    "- 0–30000 — `'E'`;\n",
    "- 30001–50000 — `'D'`;\n",
    "- 50001–200000 — `'C'`;\n",
    "- 200001–1000000 — `'B'`;\n",
    "- 1000001 и выше — `'A'`."
   ]
  },
  {
   "cell_type": "code",
   "execution_count": 18,
   "id": "1f8ee489",
   "metadata": {
    "deletable": false,
    "id": "e1771346"
   },
   "outputs": [],
   "source": [
    "def categorize_income(income):\n",
    "    try:\n",
    "        if 0 <= income <= 30000:\n",
    "            return 'E'\n",
    "        elif 30001 <= income <= 50000:\n",
    "            return 'D'\n",
    "        elif 50001 <= income <= 200000:\n",
    "            return 'C'\n",
    "        elif 200001 <= income <= 1000000:\n",
    "            return 'B'\n",
    "        elif income >= 1000001:\n",
    "            return 'A'\n",
    "    except:\n",
    "        pass"
   ]
  },
  {
   "cell_type": "code",
   "execution_count": 19,
   "id": "761bd8d9",
   "metadata": {
    "deletable": false,
    "id": "d5f3586d"
   },
   "outputs": [],
   "source": [
    "data['total_income_category'] = data['total_income'].apply(categorize_income)"
   ]
  },
  {
   "cell_type": "markdown",
   "id": "2fa1c000",
   "metadata": {
    "deletable": false,
    "editable": false,
    "id": "dde49b5c"
   },
   "source": [
    "Изучим перечень уникальных целей взятия кредита из столбца `purpose`."
   ]
  },
  {
   "cell_type": "code",
   "execution_count": 20,
   "id": "c439f455",
   "metadata": {
    "deletable": false,
    "id": "f67ce9b3",
    "outputId": "673c12d9-7d7e-4ae0-9812-c622c89dd244"
   },
   "outputs": [
    {
     "data": {
      "text/plain": [
       "array(['покупка жилья', 'приобретение автомобиля',\n",
       "       'дополнительное образование', 'сыграть свадьбу',\n",
       "       'операции с жильем', 'образование', 'на проведение свадьбы',\n",
       "       'покупка жилья для семьи', 'покупка недвижимости',\n",
       "       'покупка коммерческой недвижимости', 'покупка жилой недвижимости',\n",
       "       'строительство собственной недвижимости', 'недвижимость',\n",
       "       'строительство недвижимости', 'на покупку подержанного автомобиля',\n",
       "       'на покупку своего автомобиля',\n",
       "       'операции с коммерческой недвижимостью',\n",
       "       'строительство жилой недвижимости', 'жилье',\n",
       "       'операции со своей недвижимостью', 'автомобили',\n",
       "       'заняться образованием', 'сделка с подержанным автомобилем',\n",
       "       'получение образования', 'автомобиль', 'свадьба',\n",
       "       'получение дополнительного образования', 'покупка своего жилья',\n",
       "       'операции с недвижимостью', 'получение высшего образования',\n",
       "       'свой автомобиль', 'сделка с автомобилем',\n",
       "       'профильное образование', 'высшее образование',\n",
       "       'покупка жилья для сдачи', 'на покупку автомобиля', 'ремонт жилью',\n",
       "       'заняться высшим образованием'], dtype=object)"
      ]
     },
     "execution_count": 20,
     "metadata": {},
     "output_type": "execute_result"
    }
   ],
   "source": [
    "data['purpose'].unique()"
   ]
  },
  {
   "cell_type": "markdown",
   "id": "e6048abf",
   "metadata": {
    "deletable": false,
    "editable": false,
    "id": "85d0aef0"
   },
   "source": [
    "Создадим функцию, которая на основании данных из столбца `purpose` сформирует новый столбец `purpose_category`, в который войдут следующие категории:\n",
    "\n",
    "- `'операции с автомобилем'`,\n",
    "- `'операции с недвижимостью'`,\n",
    "- `'проведение свадьбы'`,\n",
    "- `'получение образования'`."
   ]
  },
  {
   "cell_type": "code",
   "execution_count": 21,
   "id": "cb01fcd0",
   "metadata": {
    "deletable": false,
    "id": "e149fab4"
   },
   "outputs": [],
   "source": [
    "def categorize_purpose(row):\n",
    "    try:\n",
    "        if 'автом' in row:\n",
    "            return 'операции с автомобилем'\n",
    "        elif 'жил' in row or 'недвиж' in row:\n",
    "            return 'операции с недвижимостью'\n",
    "        elif 'свад' in row:\n",
    "            return 'проведение свадьбы'\n",
    "        elif 'образов' in row:\n",
    "            return 'получение образования'\n",
    "    except:\n",
    "        return 'нет категории'"
   ]
  },
  {
   "cell_type": "code",
   "execution_count": 22,
   "id": "4b7379fd",
   "metadata": {
    "deletable": false,
    "id": "bf36e69b"
   },
   "outputs": [],
   "source": [
    "data['purpose_category'] = data['purpose'].apply(categorize_purpose)"
   ]
  },
  {
   "cell_type": "markdown",
   "id": "3cfb1b6e",
   "metadata": {
    "deletable": false,
    "editable": false,
    "id": "09b242bf"
   },
   "source": [
    "## Исследовательский анализ"
   ]
  },
  {
   "cell_type": "markdown",
   "id": "e71de692",
   "metadata": {
    "deletable": false,
    "editable": false,
    "id": "c5d66278"
   },
   "source": [
    "Изучим есть ли зависимость между количеством детей и возвратом кредита в срок."
   ]
  },
  {
   "cell_type": "markdown",
   "id": "7e4b92b6",
   "metadata": {},
   "source": [
    "Для более наглядного анализа зависимости между двумя этими показаетелями я \"соединил\" два столбца `debt` и `children` в одну таблицу:"
   ]
  },
  {
   "cell_type": "markdown",
   "id": "2f9d1cd6",
   "metadata": {},
   "source": [
    "В результате получили таблицу где: \n",
    "\n",
    "* `children` - столбец отображающий количество детей,\n",
    "* `debt` - столбцы представляют наличие или отсутствие долга (0 - вернувших кредит в срок, 1 - не вернувших кредит в срок);"
   ]
  },
  {
   "cell_type": "code",
   "execution_count": 33,
   "id": "d0bc5c4e",
   "metadata": {},
   "outputs": [
    {
     "data": {
      "text/html": [
       "<style type=\"text/css\">\n",
       "#T_d96af_row0_col0, #T_d96af_row0_col1, #T_d96af_row4_col2 {\n",
       "  background-color: #08306b;\n",
       "  color: #f1f1f1;\n",
       "}\n",
       "#T_d96af_row0_col2 {\n",
       "  background-color: #1c6bb0;\n",
       "  color: #f1f1f1;\n",
       "}\n",
       "#T_d96af_row1_col0 {\n",
       "  background-color: #a9cfe5;\n",
       "  color: #000000;\n",
       "}\n",
       "#T_d96af_row1_col1 {\n",
       "  background-color: #8dc1dd;\n",
       "  color: #000000;\n",
       "}\n",
       "#T_d96af_row1_col2 {\n",
       "  background-color: #083d7f;\n",
       "  color: #f1f1f1;\n",
       "}\n",
       "#T_d96af_row2_col0 {\n",
       "  background-color: #dae8f6;\n",
       "  color: #000000;\n",
       "}\n",
       "#T_d96af_row2_col1 {\n",
       "  background-color: #d3e4f3;\n",
       "  color: #000000;\n",
       "}\n",
       "#T_d96af_row2_col2 {\n",
       "  background-color: #083776;\n",
       "  color: #f1f1f1;\n",
       "}\n",
       "#T_d96af_row3_col0 {\n",
       "  background-color: #f3f8fe;\n",
       "  color: #000000;\n",
       "}\n",
       "#T_d96af_row3_col1 {\n",
       "  background-color: #f2f8fd;\n",
       "  color: #000000;\n",
       "}\n",
       "#T_d96af_row3_col2 {\n",
       "  background-color: #0f5aa3;\n",
       "  color: #f1f1f1;\n",
       "}\n",
       "#T_d96af_row4_col0, #T_d96af_row4_col1, #T_d96af_row5_col0, #T_d96af_row5_col1, #T_d96af_row5_col2 {\n",
       "  background-color: #f7fbff;\n",
       "  color: #000000;\n",
       "}\n",
       "</style>\n",
       "<table id=\"T_d96af\">\n",
       "  <thead>\n",
       "    <tr>\n",
       "      <th class=\"blank level0\" >&nbsp;</th>\n",
       "      <th id=\"T_d96af_level0_col0\" class=\"col_heading level0 col0\" >Всего кредитополучателей</th>\n",
       "      <th id=\"T_d96af_level0_col1\" class=\"col_heading level0 col1\" >Всего должников</th>\n",
       "      <th id=\"T_d96af_level0_col2\" class=\"col_heading level0 col2\" >Доля должников</th>\n",
       "    </tr>\n",
       "    <tr>\n",
       "      <th class=\"index_name level0\" >children</th>\n",
       "      <th class=\"blank col0\" >&nbsp;</th>\n",
       "      <th class=\"blank col1\" >&nbsp;</th>\n",
       "      <th class=\"blank col2\" >&nbsp;</th>\n",
       "    </tr>\n",
       "  </thead>\n",
       "  <tbody>\n",
       "    <tr>\n",
       "      <th id=\"T_d96af_level0_row0\" class=\"row_heading level0 row0\" >0</th>\n",
       "      <td id=\"T_d96af_row0_col0\" class=\"data row0 col0\" >14091.000</td>\n",
       "      <td id=\"T_d96af_row0_col1\" class=\"data row0 col1\" >1063.000</td>\n",
       "      <td id=\"T_d96af_row0_col2\" class=\"data row0 col2\" >7.544</td>\n",
       "    </tr>\n",
       "    <tr>\n",
       "      <th id=\"T_d96af_level0_row1\" class=\"row_heading level0 row1\" >1</th>\n",
       "      <td id=\"T_d96af_row1_col0\" class=\"data row1 col0\" >4808.000</td>\n",
       "      <td id=\"T_d96af_row1_col1\" class=\"data row1 col1\" >444.000</td>\n",
       "      <td id=\"T_d96af_row1_col2\" class=\"data row1 col2\" >9.235</td>\n",
       "    </tr>\n",
       "    <tr>\n",
       "      <th id=\"T_d96af_level0_row2\" class=\"row_heading level0 row2\" >2</th>\n",
       "      <td id=\"T_d96af_row2_col0\" class=\"data row2 col0\" >2052.000</td>\n",
       "      <td id=\"T_d96af_row2_col1\" class=\"data row2 col1\" >194.000</td>\n",
       "      <td id=\"T_d96af_row2_col2\" class=\"data row2 col2\" >9.454</td>\n",
       "    </tr>\n",
       "    <tr>\n",
       "      <th id=\"T_d96af_level0_row3\" class=\"row_heading level0 row3\" >3</th>\n",
       "      <td id=\"T_d96af_row3_col0\" class=\"data row3 col0\" >330.000</td>\n",
       "      <td id=\"T_d96af_row3_col1\" class=\"data row3 col1\" >27.000</td>\n",
       "      <td id=\"T_d96af_row3_col2\" class=\"data row3 col2\" >8.182</td>\n",
       "    </tr>\n",
       "    <tr>\n",
       "      <th id=\"T_d96af_level0_row4\" class=\"row_heading level0 row4\" >4</th>\n",
       "      <td id=\"T_d96af_row4_col0\" class=\"data row4 col0\" >41.000</td>\n",
       "      <td id=\"T_d96af_row4_col1\" class=\"data row4 col1\" >4.000</td>\n",
       "      <td id=\"T_d96af_row4_col2\" class=\"data row4 col2\" >9.756</td>\n",
       "    </tr>\n",
       "    <tr>\n",
       "      <th id=\"T_d96af_level0_row5\" class=\"row_heading level0 row5\" >5</th>\n",
       "      <td id=\"T_d96af_row5_col0\" class=\"data row5 col0\" >9.000</td>\n",
       "      <td id=\"T_d96af_row5_col1\" class=\"data row5 col1\" >0.000</td>\n",
       "      <td id=\"T_d96af_row5_col2\" class=\"data row5 col2\" >0.000</td>\n",
       "    </tr>\n",
       "  </tbody>\n",
       "</table>\n"
      ],
      "text/plain": [
       "<pandas.io.formats.style.Styler at 0x1f7c0c65d10>"
      ]
     },
     "metadata": {},
     "output_type": "display_data"
    }
   ],
   "source": [
    "def que(category):\n",
    "    data_temp = data.pivot_table(index=category, values='debt', aggfunc=['count', 'sum', 'mean'], observed=False)\n",
    "    data_temp.columns = ['Всего кредитополучателей', 'Всего должников', 'Доля должников']\n",
    "    data_temp['Доля должников'] = data_temp['Доля должников'] * 100\n",
    "    display(data_temp.style.format(\"{:.3f}\").background_gradient(cmap='Blues', axis=0))\n",
    "    \n",
    "que('children')"
   ]
  },
  {
   "cell_type": "markdown",
   "id": "5b618d04",
   "metadata": {
    "deletable": false,
    "id": "3a6b99ec"
   },
   "source": [
    "**Вывод:** существует зависимость между количеством детей и возвратом кредита в срок: процент невозвратов кредита несколько выше у заемщиков с детьми по сравнению с заемщиками без детей. Заемщиков с 5-ю детьми слишком мало, для статистически значимого вывода. "
   ]
  },
  {
   "cell_type": "markdown",
   "id": "cfe223eb",
   "metadata": {
    "deletable": false,
    "editable": false,
    "id": "97be82ca"
   },
   "source": [
    "Проверим, есть ли зависимость между семейным положением и возвратом кредита в срок."
   ]
  },
  {
   "cell_type": "markdown",
   "id": "78269d3b",
   "metadata": {},
   "source": [
    "Для анализа зависимости между семейным положением и возвратом кредита в срок был использован аналогичный подход, как и с количеством детей."
   ]
  },
  {
   "cell_type": "markdown",
   "id": "f8b0bc94",
   "metadata": {},
   "source": [
    "В результате получили таблицу где: \n",
    "\n",
    "* `family_status` - столбец отображающий семейный статус,\n",
    "* `debt` - столбцы представляют наличие или отсутствие долга (0 - вернувших кредит в срок, 1 - не вернувших кредит в срок);"
   ]
  },
  {
   "cell_type": "code",
   "execution_count": 34,
   "id": "c60235bb",
   "metadata": {},
   "outputs": [
    {
     "data": {
      "text/html": [
       "<style type=\"text/css\">\n",
       "#T_9507e_row0_col0 {\n",
       "  background-color: #d7e6f5;\n",
       "  color: #000000;\n",
       "}\n",
       "#T_9507e_row0_col1 {\n",
       "  background-color: #c7dcef;\n",
       "  color: #000000;\n",
       "}\n",
       "#T_9507e_row0_col2, #T_9507e_row4_col0, #T_9507e_row4_col1 {\n",
       "  background-color: #08306b;\n",
       "  color: #f1f1f1;\n",
       "}\n",
       "#T_9507e_row1_col0 {\n",
       "  background-color: #f3f8fe;\n",
       "  color: #000000;\n",
       "}\n",
       "#T_9507e_row1_col1 {\n",
       "  background-color: #f2f8fd;\n",
       "  color: #000000;\n",
       "}\n",
       "#T_9507e_row1_col2 {\n",
       "  background-color: #dce9f6;\n",
       "  color: #000000;\n",
       "}\n",
       "#T_9507e_row2_col0, #T_9507e_row2_col1, #T_9507e_row2_col2 {\n",
       "  background-color: #f7fbff;\n",
       "  color: #000000;\n",
       "}\n",
       "#T_9507e_row3_col0 {\n",
       "  background-color: #bcd7eb;\n",
       "  color: #000000;\n",
       "}\n",
       "#T_9507e_row3_col1 {\n",
       "  background-color: #9fcae1;\n",
       "  color: #000000;\n",
       "}\n",
       "#T_9507e_row3_col2 {\n",
       "  background-color: #0b559f;\n",
       "  color: #f1f1f1;\n",
       "}\n",
       "#T_9507e_row4_col2 {\n",
       "  background-color: #b7d4ea;\n",
       "  color: #000000;\n",
       "}\n",
       "</style>\n",
       "<table id=\"T_9507e\">\n",
       "  <thead>\n",
       "    <tr>\n",
       "      <th class=\"blank level0\" >&nbsp;</th>\n",
       "      <th id=\"T_9507e_level0_col0\" class=\"col_heading level0 col0\" >Всего кредитополучателей</th>\n",
       "      <th id=\"T_9507e_level0_col1\" class=\"col_heading level0 col1\" >Всего должников</th>\n",
       "      <th id=\"T_9507e_level0_col2\" class=\"col_heading level0 col2\" >Доля должников</th>\n",
       "    </tr>\n",
       "    <tr>\n",
       "      <th class=\"index_name level0\" >family_status</th>\n",
       "      <th class=\"blank col0\" >&nbsp;</th>\n",
       "      <th class=\"blank col1\" >&nbsp;</th>\n",
       "      <th class=\"blank col2\" >&nbsp;</th>\n",
       "    </tr>\n",
       "  </thead>\n",
       "  <tbody>\n",
       "    <tr>\n",
       "      <th id=\"T_9507e_level0_row0\" class=\"row_heading level0 row0\" >Не женат / не замужем</th>\n",
       "      <td id=\"T_9507e_row0_col0\" class=\"data row0 col0\" >2796.000</td>\n",
       "      <td id=\"T_9507e_row0_col1\" class=\"data row0 col1\" >273.000</td>\n",
       "      <td id=\"T_9507e_row0_col2\" class=\"data row0 col2\" >9.764</td>\n",
       "    </tr>\n",
       "    <tr>\n",
       "      <th id=\"T_9507e_level0_row1\" class=\"row_heading level0 row1\" >в разводе</th>\n",
       "      <td id=\"T_9507e_row1_col0\" class=\"data row1 col0\" >1189.000</td>\n",
       "      <td id=\"T_9507e_row1_col1\" class=\"data row1 col1\" >84.000</td>\n",
       "      <td id=\"T_9507e_row1_col2\" class=\"data row1 col2\" >7.065</td>\n",
       "    </tr>\n",
       "    <tr>\n",
       "      <th id=\"T_9507e_level0_row2\" class=\"row_heading level0 row2\" >вдовец / вдова</th>\n",
       "      <td id=\"T_9507e_row2_col0\" class=\"data row2 col0\" >951.000</td>\n",
       "      <td id=\"T_9507e_row2_col1\" class=\"data row2 col1\" >63.000</td>\n",
       "      <td id=\"T_9507e_row2_col2\" class=\"data row2 col2\" >6.625</td>\n",
       "    </tr>\n",
       "    <tr>\n",
       "      <th id=\"T_9507e_level0_row3\" class=\"row_heading level0 row3\" >гражданский брак</th>\n",
       "      <td id=\"T_9507e_row3_col0\" class=\"data row3 col0\" >4134.000</td>\n",
       "      <td id=\"T_9507e_row3_col1\" class=\"data row3 col1\" >385.000</td>\n",
       "      <td id=\"T_9507e_row3_col2\" class=\"data row3 col2\" >9.313</td>\n",
       "    </tr>\n",
       "    <tr>\n",
       "      <th id=\"T_9507e_level0_row4\" class=\"row_heading level0 row4\" >женат / замужем</th>\n",
       "      <td id=\"T_9507e_row4_col0\" class=\"data row4 col0\" >12261.000</td>\n",
       "      <td id=\"T_9507e_row4_col1\" class=\"data row4 col1\" >927.000</td>\n",
       "      <td id=\"T_9507e_row4_col2\" class=\"data row4 col2\" >7.561</td>\n",
       "    </tr>\n",
       "  </tbody>\n",
       "</table>\n"
      ],
      "text/plain": [
       "<pandas.io.formats.style.Styler at 0x1f7c0c65d10>"
      ]
     },
     "metadata": {},
     "output_type": "display_data"
    }
   ],
   "source": [
    "que('family_status')"
   ]
  },
  {
   "cell_type": "markdown",
   "id": "f5f8e406",
   "metadata": {
    "deletable": false,
    "id": "1cef7837"
   },
   "source": [
    "**Вывод:** Исходя из представленных данных, можно сделать следующие выводы:\n",
    "\n",
    "* Люди, состоящие в браке, имеют процент возврата кредита в срок выше, чем не состоящие в браке,\n",
    "* Вдовцы / вдовы имеют самый высокий процент возврата в срок - 93.38%,\n",
    "* Наименьший процент возврата в срок наблюдается у людей, которые не женаты или не замужем 90.24%;"
   ]
  },
  {
   "cell_type": "markdown",
   "id": "5b9ddbd3",
   "metadata": {
    "deletable": false,
    "editable": false,
    "id": "1e8b2fca"
   },
   "source": [
    "Проверим, есть ли зависимость между уровнем дохода и возвратом кредита в срок."
   ]
  },
  {
   "cell_type": "markdown",
   "id": "26247f35",
   "metadata": {},
   "source": [
    "В результате получили таблицу где:\n",
    "\n",
    "* `total_income_category` - столбец отображающий доход по категориям,\n",
    "* `debt` - столбцы представляют наличие или отсутствие долга (0 - вернувших кредит в срок, 1 - не вернувших кредит в срок);"
   ]
  },
  {
   "cell_type": "markdown",
   "id": "141f8350",
   "metadata": {},
   "source": [
    "Так как выборка не сбалансирована определим категории с помощью метода `qcut`."
   ]
  },
  {
   "cell_type": "code",
   "execution_count": 25,
   "id": "fcfd12b5",
   "metadata": {},
   "outputs": [],
   "source": [
    "data['income_category'] = pd.qcut(data['total_income'], q=4, labels=['Низкий', 'Ниже среднего', 'Выше среднего', 'Высокий'])"
   ]
  },
  {
   "cell_type": "code",
   "execution_count": 26,
   "id": "0804eb6b",
   "metadata": {},
   "outputs": [
    {
     "data": {
      "text/html": [
       "<div>\n",
       "<style scoped>\n",
       "    .dataframe tbody tr th:only-of-type {\n",
       "        vertical-align: middle;\n",
       "    }\n",
       "\n",
       "    .dataframe tbody tr th {\n",
       "        vertical-align: top;\n",
       "    }\n",
       "\n",
       "    .dataframe thead th {\n",
       "        text-align: right;\n",
       "    }\n",
       "</style>\n",
       "<table border=\"1\" class=\"dataframe\">\n",
       "  <thead>\n",
       "    <tr style=\"text-align: right;\">\n",
       "      <th></th>\n",
       "      <th>total_income</th>\n",
       "      <th>debt</th>\n",
       "      <th>income_category</th>\n",
       "    </tr>\n",
       "  </thead>\n",
       "  <tbody>\n",
       "    <tr>\n",
       "      <th>0</th>\n",
       "      <td>253875</td>\n",
       "      <td>0</td>\n",
       "      <td>Высокий</td>\n",
       "    </tr>\n",
       "    <tr>\n",
       "      <th>1</th>\n",
       "      <td>112080</td>\n",
       "      <td>0</td>\n",
       "      <td>Ниже среднего</td>\n",
       "    </tr>\n",
       "    <tr>\n",
       "      <th>2</th>\n",
       "      <td>145885</td>\n",
       "      <td>0</td>\n",
       "      <td>Выше среднего</td>\n",
       "    </tr>\n",
       "    <tr>\n",
       "      <th>3</th>\n",
       "      <td>267628</td>\n",
       "      <td>0</td>\n",
       "      <td>Высокий</td>\n",
       "    </tr>\n",
       "    <tr>\n",
       "      <th>4</th>\n",
       "      <td>158616</td>\n",
       "      <td>0</td>\n",
       "      <td>Выше среднего</td>\n",
       "    </tr>\n",
       "    <tr>\n",
       "      <th>5</th>\n",
       "      <td>255763</td>\n",
       "      <td>0</td>\n",
       "      <td>Высокий</td>\n",
       "    </tr>\n",
       "    <tr>\n",
       "      <th>6</th>\n",
       "      <td>240525</td>\n",
       "      <td>0</td>\n",
       "      <td>Высокий</td>\n",
       "    </tr>\n",
       "    <tr>\n",
       "      <th>7</th>\n",
       "      <td>135823</td>\n",
       "      <td>0</td>\n",
       "      <td>Ниже среднего</td>\n",
       "    </tr>\n",
       "    <tr>\n",
       "      <th>8</th>\n",
       "      <td>95856</td>\n",
       "      <td>0</td>\n",
       "      <td>Низкий</td>\n",
       "    </tr>\n",
       "    <tr>\n",
       "      <th>9</th>\n",
       "      <td>144425</td>\n",
       "      <td>0</td>\n",
       "      <td>Выше среднего</td>\n",
       "    </tr>\n",
       "    <tr>\n",
       "      <th>10</th>\n",
       "      <td>113943</td>\n",
       "      <td>0</td>\n",
       "      <td>Ниже среднего</td>\n",
       "    </tr>\n",
       "    <tr>\n",
       "      <th>11</th>\n",
       "      <td>77069</td>\n",
       "      <td>0</td>\n",
       "      <td>Низкий</td>\n",
       "    </tr>\n",
       "    <tr>\n",
       "      <th>12</th>\n",
       "      <td>118514</td>\n",
       "      <td>0</td>\n",
       "      <td>Ниже среднего</td>\n",
       "    </tr>\n",
       "    <tr>\n",
       "      <th>13</th>\n",
       "      <td>130458</td>\n",
       "      <td>0</td>\n",
       "      <td>Ниже среднего</td>\n",
       "    </tr>\n",
       "    <tr>\n",
       "      <th>14</th>\n",
       "      <td>165127</td>\n",
       "      <td>1</td>\n",
       "      <td>Выше среднего</td>\n",
       "    </tr>\n",
       "  </tbody>\n",
       "</table>\n",
       "</div>"
      ],
      "text/plain": [
       "    total_income  debt income_category\n",
       "0         253875     0         Высокий\n",
       "1         112080     0   Ниже среднего\n",
       "2         145885     0   Выше среднего\n",
       "3         267628     0         Высокий\n",
       "4         158616     0   Выше среднего\n",
       "5         255763     0         Высокий\n",
       "6         240525     0         Высокий\n",
       "7         135823     0   Ниже среднего\n",
       "8          95856     0          Низкий\n",
       "9         144425     0   Выше среднего\n",
       "10        113943     0   Ниже среднего\n",
       "11         77069     0          Низкий\n",
       "12        118514     0   Ниже среднего\n",
       "13        130458     0   Ниже среднего\n",
       "14        165127     1   Выше среднего"
      ]
     },
     "metadata": {},
     "output_type": "display_data"
    }
   ],
   "source": [
    "display(data[['total_income', 'debt', 'income_category']].head(15))"
   ]
  },
  {
   "cell_type": "code",
   "execution_count": 35,
   "id": "0379beb1",
   "metadata": {
    "scrolled": true
   },
   "outputs": [
    {
     "data": {
      "text/html": [
       "<style type=\"text/css\">\n",
       "#T_ac372_row0_col0 {\n",
       "  background-color: #6aaed6;\n",
       "  color: #f1f1f1;\n",
       "}\n",
       "#T_ac372_row0_col1 {\n",
       "  background-color: #7ab6d9;\n",
       "  color: #000000;\n",
       "}\n",
       "#T_ac372_row0_col2 {\n",
       "  background-color: #65aad4;\n",
       "  color: #f1f1f1;\n",
       "}\n",
       "#T_ac372_row1_col0, #T_ac372_row1_col1, #T_ac372_row1_col2 {\n",
       "  background-color: #08306b;\n",
       "  color: #f1f1f1;\n",
       "}\n",
       "#T_ac372_row2_col0, #T_ac372_row3_col1, #T_ac372_row3_col2 {\n",
       "  background-color: #f7fbff;\n",
       "  color: #000000;\n",
       "}\n",
       "#T_ac372_row2_col1 {\n",
       "  background-color: #3f8fc5;\n",
       "  color: #f1f1f1;\n",
       "}\n",
       "#T_ac372_row2_col2 {\n",
       "  background-color: #125ea6;\n",
       "  color: #f1f1f1;\n",
       "}\n",
       "#T_ac372_row3_col0 {\n",
       "  background-color: #6dafd7;\n",
       "  color: #f1f1f1;\n",
       "}\n",
       "</style>\n",
       "<table id=\"T_ac372\">\n",
       "  <thead>\n",
       "    <tr>\n",
       "      <th class=\"blank level0\" >&nbsp;</th>\n",
       "      <th id=\"T_ac372_level0_col0\" class=\"col_heading level0 col0\" >Всего кредитополучателей</th>\n",
       "      <th id=\"T_ac372_level0_col1\" class=\"col_heading level0 col1\" >Всего должников</th>\n",
       "      <th id=\"T_ac372_level0_col2\" class=\"col_heading level0 col2\" >Доля должников</th>\n",
       "    </tr>\n",
       "    <tr>\n",
       "      <th class=\"index_name level0\" >income_category</th>\n",
       "      <th class=\"blank col0\" >&nbsp;</th>\n",
       "      <th class=\"blank col1\" >&nbsp;</th>\n",
       "      <th class=\"blank col2\" >&nbsp;</th>\n",
       "    </tr>\n",
       "  </thead>\n",
       "  <tbody>\n",
       "    <tr>\n",
       "      <th id=\"T_ac372_level0_row0\" class=\"row_heading level0 row0\" >Низкий</th>\n",
       "      <td id=\"T_ac372_row0_col0\" class=\"data row0 col0\" >5333.000</td>\n",
       "      <td id=\"T_ac372_row0_col1\" class=\"data row0 col1\" >427.000</td>\n",
       "      <td id=\"T_ac372_row0_col2\" class=\"data row0 col2\" >8.007</td>\n",
       "    </tr>\n",
       "    <tr>\n",
       "      <th id=\"T_ac372_level0_row1\" class=\"row_heading level0 row1\" >Ниже среднего</th>\n",
       "      <td id=\"T_ac372_row1_col0\" class=\"data row1 col0\" >5450.000</td>\n",
       "      <td id=\"T_ac372_row1_col1\" class=\"data row1 col1\" >480.000</td>\n",
       "      <td id=\"T_ac372_row1_col2\" class=\"data row1 col2\" >8.807</td>\n",
       "    </tr>\n",
       "    <tr>\n",
       "      <th id=\"T_ac372_level0_row2\" class=\"row_heading level0 row2\" >Выше среднего</th>\n",
       "      <td id=\"T_ac372_row2_col0\" class=\"data row2 col0\" >5216.000</td>\n",
       "      <td id=\"T_ac372_row2_col1\" class=\"data row2 col1\" >444.000</td>\n",
       "      <td id=\"T_ac372_row2_col2\" class=\"data row2 col2\" >8.512</td>\n",
       "    </tr>\n",
       "    <tr>\n",
       "      <th id=\"T_ac372_level0_row3\" class=\"row_heading level0 row3\" >Высокий</th>\n",
       "      <td id=\"T_ac372_row3_col0\" class=\"data row3 col0\" >5332.000</td>\n",
       "      <td id=\"T_ac372_row3_col1\" class=\"data row3 col1\" >381.000</td>\n",
       "      <td id=\"T_ac372_row3_col2\" class=\"data row3 col2\" >7.146</td>\n",
       "    </tr>\n",
       "  </tbody>\n",
       "</table>\n"
      ],
      "text/plain": [
       "<pandas.io.formats.style.Styler at 0x1f7c0c656d0>"
      ]
     },
     "metadata": {},
     "output_type": "display_data"
    }
   ],
   "source": [
    "que('income_category')"
   ]
  },
  {
   "cell_type": "markdown",
   "id": "94e72208",
   "metadata": {},
   "source": [
    "**Вывод:** Зависимость между уровнем дохода и возвратом кредита в срок существует. С увеличением уровня дохода доля должников имеет тенденцию к снижению. Наименьший показатель невозврата кредита в срок у людей с `высоким` доходом - 7,1%. Нужно заметить, у граждан с `низким` доходом процент невозврата кредита в срок находится на отметке - 8,0%, когда как наихудший показатель у людей с доходом `ниже среднего` - 8,8%."
   ]
  },
  {
   "cell_type": "markdown",
   "id": "808d014a",
   "metadata": {
    "deletable": false,
    "editable": false,
    "id": "99ecbd1f"
   },
   "source": [
    "Определим, как разные цели кредита влияют на его возврат в срок."
   ]
  },
  {
   "cell_type": "code",
   "execution_count": 29,
   "id": "c756fc07",
   "metadata": {
    "deletable": false,
    "id": "2b687290"
   },
   "outputs": [],
   "source": [
    "# создадим сводную таблицу из столбцов debt и purpose_category:\n",
    "purpose_category_pivot = data.pivot_table(index='purpose_category', columns='debt', values='total_income', aggfunc='count')"
   ]
  },
  {
   "cell_type": "code",
   "execution_count": 30,
   "id": "6ec5f042",
   "metadata": {},
   "outputs": [],
   "source": [
    "purpose_category_pivot['return_percentage'] = purpose_category_pivot[0] / (purpose_category_pivot[0] + purpose_category_pivot[1]) * 100"
   ]
  },
  {
   "cell_type": "code",
   "execution_count": 31,
   "id": "11d1dccf",
   "metadata": {},
   "outputs": [
    {
     "data": {
      "text/html": [
       "<div>\n",
       "<style scoped>\n",
       "    .dataframe tbody tr th:only-of-type {\n",
       "        vertical-align: middle;\n",
       "    }\n",
       "\n",
       "    .dataframe tbody tr th {\n",
       "        vertical-align: top;\n",
       "    }\n",
       "\n",
       "    .dataframe thead th {\n",
       "        text-align: right;\n",
       "    }\n",
       "</style>\n",
       "<table border=\"1\" class=\"dataframe\">\n",
       "  <thead>\n",
       "    <tr style=\"text-align: right;\">\n",
       "      <th>debt</th>\n",
       "      <th>0</th>\n",
       "      <th>1</th>\n",
       "      <th>return_percentage</th>\n",
       "    </tr>\n",
       "    <tr>\n",
       "      <th>purpose_category</th>\n",
       "      <th></th>\n",
       "      <th></th>\n",
       "      <th></th>\n",
       "    </tr>\n",
       "  </thead>\n",
       "  <tbody>\n",
       "    <tr>\n",
       "      <th>операции с автомобилем</th>\n",
       "      <td>3879</td>\n",
       "      <td>400</td>\n",
       "      <td>90.652022</td>\n",
       "    </tr>\n",
       "    <tr>\n",
       "      <th>операции с недвижимостью</th>\n",
       "      <td>9971</td>\n",
       "      <td>780</td>\n",
       "      <td>92.744861</td>\n",
       "    </tr>\n",
       "    <tr>\n",
       "      <th>получение образования</th>\n",
       "      <td>3619</td>\n",
       "      <td>369</td>\n",
       "      <td>90.747242</td>\n",
       "    </tr>\n",
       "    <tr>\n",
       "      <th>проведение свадьбы</th>\n",
       "      <td>2130</td>\n",
       "      <td>183</td>\n",
       "      <td>92.088197</td>\n",
       "    </tr>\n",
       "  </tbody>\n",
       "</table>\n",
       "</div>"
      ],
      "text/plain": [
       "debt                         0    1  return_percentage\n",
       "purpose_category                                      \n",
       "операции с автомобилем    3879  400          90.652022\n",
       "операции с недвижимостью  9971  780          92.744861\n",
       "получение образования     3619  369          90.747242\n",
       "проведение свадьбы        2130  183          92.088197"
      ]
     },
     "execution_count": 31,
     "metadata": {},
     "output_type": "execute_result"
    }
   ],
   "source": [
    "purpose_category_pivot"
   ]
  },
  {
   "cell_type": "code",
   "execution_count": 32,
   "id": "e55b091d",
   "metadata": {},
   "outputs": [
    {
     "data": {
      "text/html": [
       "<style type=\"text/css\">\n",
       "#T_6afb8_row0_col0 {\n",
       "  background-color: #caddf0;\n",
       "  color: #000000;\n",
       "}\n",
       "#T_6afb8_row0_col1 {\n",
       "  background-color: #a1cbe2;\n",
       "  color: #000000;\n",
       "}\n",
       "#T_6afb8_row0_col2, #T_6afb8_row1_col0, #T_6afb8_row1_col1 {\n",
       "  background-color: #08306b;\n",
       "  color: #f1f1f1;\n",
       "}\n",
       "#T_6afb8_row1_col2, #T_6afb8_row3_col0, #T_6afb8_row3_col1 {\n",
       "  background-color: #f7fbff;\n",
       "  color: #000000;\n",
       "}\n",
       "#T_6afb8_row2_col0 {\n",
       "  background-color: #d0e2f2;\n",
       "  color: #000000;\n",
       "}\n",
       "#T_6afb8_row2_col1 {\n",
       "  background-color: #b3d3e8;\n",
       "  color: #000000;\n",
       "}\n",
       "#T_6afb8_row2_col2 {\n",
       "  background-color: #083b7c;\n",
       "  color: #f1f1f1;\n",
       "}\n",
       "#T_6afb8_row3_col2 {\n",
       "  background-color: #b2d2e8;\n",
       "  color: #000000;\n",
       "}\n",
       "</style>\n",
       "<table id=\"T_6afb8\">\n",
       "  <thead>\n",
       "    <tr>\n",
       "      <th class=\"blank level0\" >&nbsp;</th>\n",
       "      <th id=\"T_6afb8_level0_col0\" class=\"col_heading level0 col0\" >Всего кредитополучателей</th>\n",
       "      <th id=\"T_6afb8_level0_col1\" class=\"col_heading level0 col1\" >Всего должников</th>\n",
       "      <th id=\"T_6afb8_level0_col2\" class=\"col_heading level0 col2\" >Доля должников</th>\n",
       "    </tr>\n",
       "    <tr>\n",
       "      <th class=\"index_name level0\" >purpose_category</th>\n",
       "      <th class=\"blank col0\" >&nbsp;</th>\n",
       "      <th class=\"blank col1\" >&nbsp;</th>\n",
       "      <th class=\"blank col2\" >&nbsp;</th>\n",
       "    </tr>\n",
       "  </thead>\n",
       "  <tbody>\n",
       "    <tr>\n",
       "      <th id=\"T_6afb8_level0_row0\" class=\"row_heading level0 row0\" >операции с автомобилем</th>\n",
       "      <td id=\"T_6afb8_row0_col0\" class=\"data row0 col0\" >4279.000</td>\n",
       "      <td id=\"T_6afb8_row0_col1\" class=\"data row0 col1\" >400.000</td>\n",
       "      <td id=\"T_6afb8_row0_col2\" class=\"data row0 col2\" >9.348</td>\n",
       "    </tr>\n",
       "    <tr>\n",
       "      <th id=\"T_6afb8_level0_row1\" class=\"row_heading level0 row1\" >операции с недвижимостью</th>\n",
       "      <td id=\"T_6afb8_row1_col0\" class=\"data row1 col0\" >10751.000</td>\n",
       "      <td id=\"T_6afb8_row1_col1\" class=\"data row1 col1\" >780.000</td>\n",
       "      <td id=\"T_6afb8_row1_col2\" class=\"data row1 col2\" >7.255</td>\n",
       "    </tr>\n",
       "    <tr>\n",
       "      <th id=\"T_6afb8_level0_row2\" class=\"row_heading level0 row2\" >получение образования</th>\n",
       "      <td id=\"T_6afb8_row2_col0\" class=\"data row2 col0\" >3988.000</td>\n",
       "      <td id=\"T_6afb8_row2_col1\" class=\"data row2 col1\" >369.000</td>\n",
       "      <td id=\"T_6afb8_row2_col2\" class=\"data row2 col2\" >9.253</td>\n",
       "    </tr>\n",
       "    <tr>\n",
       "      <th id=\"T_6afb8_level0_row3\" class=\"row_heading level0 row3\" >проведение свадьбы</th>\n",
       "      <td id=\"T_6afb8_row3_col0\" class=\"data row3 col0\" >2313.000</td>\n",
       "      <td id=\"T_6afb8_row3_col1\" class=\"data row3 col1\" >183.000</td>\n",
       "      <td id=\"T_6afb8_row3_col2\" class=\"data row3 col2\" >7.912</td>\n",
       "    </tr>\n",
       "  </tbody>\n",
       "</table>\n"
      ],
      "text/plain": [
       "<pandas.io.formats.style.Styler at 0x1f7c0c65bd0>"
      ]
     },
     "metadata": {},
     "output_type": "display_data"
    }
   ],
   "source": [
    "que('purpose_category')"
   ]
  },
  {
   "cell_type": "markdown",
   "id": "7fc1c442",
   "metadata": {
    "deletable": false,
    "id": "b4bb2ce6"
   },
   "source": [
    "**Вывод:** данные показывают, что люди, берущие кредиты на операции с недвижимостью и проведение свадьбы, чаще возвращают их вовремя по сравнению с теми, кто берет кредиты на операции с автомобилями и получение образования."
   ]
  },
  {
   "cell_type": "markdown",
   "id": "51437365",
   "metadata": {
    "deletable": false,
    "editable": false,
    "id": "6db5255a"
   },
   "source": [
    "## Общий вывод."
   ]
  },
  {
   "cell_type": "markdown",
   "id": "49bf9f6c-f211-49eb-8536-f52b10e9adf4",
   "metadata": {},
   "source": [
    "**1. Описание задачи**\n",
    "**Цель проекта**: Оценить способность потенциальных заемщиков возвращать кредиты в срок для банковского сектора.  \n",
    "\n",
    "**Данные**:  \n",
    "- Датасет содержит информацию о 21 461 клиенте банка.  \n",
    "- Признаки: возраст, доход, семейное положение, цели кредита, тип занятости, наличие детей и другие.  \n",
    "- Целевой признак: `debt` (0 — кредит возвращен в срок, 1 — просрочка).\n",
    "\n",
    "**2. Ключевые результаты исследования**\n",
    "\n",
    "**a) Зависимость от семейного положения**\n",
    "- **Лучшие показатели**:  \n",
    "  - Вдовцы/вдовы — **93.38%** возврата кредита в срок.  \n",
    "  - Люди в браке — **92.56%** возврата.  \n",
    "- **Худшие показатели**:  \n",
    "  - Неженатые/незамужние — **90.24%** возврата.  \n",
    "  - В гражданском браке — **91.29%** возврата.  \n",
    "\n",
    "**Вывод**: Люди, состоящие в официальном браке или потерявшие супруга, демонстрируют большую финансовую ответственность.\n",
    "\n",
    "**b) Зависимость от уровня дохода**\n",
    "- **Лучшие показатели**:  \n",
    "  - Высокий доход (категория A) — **7.15%** просрочек.  \n",
    "- **Худшие показатели**:  \n",
    "  - Доход ниже среднего (категория B) — **8.81%** просрочек.  \n",
    "  - Низкий доход (категория E) — **8.01%** просрочек.  \n",
    "\n",
    "**Вывод**: С увеличением уровня дохода доля должников снижается, однако люди с низким доходом показывают лучшие результаты, чем те, чей доход находится ниже среднего.\n",
    "\n",
    "**c) Зависимость от целей кредита**\n",
    "- **Лучшие показатели**:  \n",
    "  - Операции с недвижимостью — **7.26%** просрочек.  \n",
    "  - Проведение свадьбы — **7.91%** просрочек.  \n",
    "- **Худшие показатели**:  \n",
    "  - Операции с автомобилями — **9.35%** просрочек.  \n",
    "  - Получение образования — **9.25%** просрочек.  \n",
    "\n",
    "**Вывод**: Кредиты на недвижимость и свадьбы возвращаются чаще, чем кредиты на автомобили и образование.\n",
    "\n",
    "**3. Основные выводы**\n",
    "1. **Семейное положение** напрямую влияет на надежность заемщика:  \n",
    "   - Люди в официальном браке и вдовцы/вдовы чаще возвращают кредиты вовремя.  \n",
    "   - Неженатые/незамужние клиенты представляют больший риск для банка.\n",
    "\n",
    "2. **Уровень дохода** имеет обратную зависимость с риском просрочки:  \n",
    "   - Чем выше доход, тем меньше вероятность невозврата.  \n",
    "   - Однако люди с низким доходом показывают лучшие результаты, чем те, чей доход находится ниже среднего.\n",
    "\n",
    "3. **Цель кредита** также влияет на надежность заемщика:  \n",
    "   - Кредиты на недвижимость и свадьбы считаются менее рискованными.  \n",
    "   - Кредиты на автомобили и образование имеют самый высокий риск просрочки."
   ]
  },
  {
   "cell_type": "code",
   "execution_count": null,
   "id": "e787b161-087b-468a-964c-ef51a11ad26e",
   "metadata": {},
   "outputs": [],
   "source": []
  }
 ],
 "metadata": {
  "ExecuteTimeLog": [
   {
    "duration": 4,
    "start_time": "2024-07-18T06:44:14.797Z"
   },
   {
    "duration": 707,
    "start_time": "2024-07-18T06:44:46.066Z"
   },
   {
    "duration": 23,
    "start_time": "2024-07-18T06:44:46.775Z"
   },
   {
    "duration": 15,
    "start_time": "2024-07-18T06:44:46.800Z"
   },
   {
    "duration": 10,
    "start_time": "2024-07-18T06:44:46.817Z"
   },
   {
    "duration": 37,
    "start_time": "2024-07-18T06:44:46.829Z"
   },
   {
    "duration": 4,
    "start_time": "2024-07-18T06:44:46.867Z"
   },
   {
    "duration": 33,
    "start_time": "2024-07-18T06:44:46.874Z"
   },
   {
    "duration": 4,
    "start_time": "2024-07-18T06:44:46.909Z"
   },
   {
    "duration": 8,
    "start_time": "2024-07-18T06:44:46.914Z"
   },
   {
    "duration": 6,
    "start_time": "2024-07-18T06:44:46.923Z"
   },
   {
    "duration": 38,
    "start_time": "2024-07-18T06:44:46.931Z"
   },
   {
    "duration": 11,
    "start_time": "2024-07-18T06:44:46.970Z"
   },
   {
    "duration": 27,
    "start_time": "2024-07-18T06:44:46.982Z"
   },
   {
    "duration": 12,
    "start_time": "2024-07-18T06:44:47.011Z"
   },
   {
    "duration": 20,
    "start_time": "2024-07-18T06:44:47.025Z"
   },
   {
    "duration": 17,
    "start_time": "2024-07-18T06:44:47.046Z"
   },
   {
    "duration": 4,
    "start_time": "2024-07-18T06:44:47.064Z"
   },
   {
    "duration": 14,
    "start_time": "2024-07-18T06:44:47.069Z"
   },
   {
    "duration": 5,
    "start_time": "2024-07-18T06:44:47.108Z"
   },
   {
    "duration": 63,
    "start_time": "2024-07-18T06:44:47.115Z"
   },
   {
    "duration": 11,
    "start_time": "2024-07-18T06:44:47.180Z"
   },
   {
    "duration": 16,
    "start_time": "2024-07-18T06:44:47.193Z"
   },
   {
    "duration": 7,
    "start_time": "2024-07-18T06:44:47.211Z"
   },
   {
    "duration": 511,
    "start_time": "2024-07-18T06:47:05.676Z"
   },
   {
    "duration": 21,
    "start_time": "2024-07-18T06:47:06.189Z"
   },
   {
    "duration": 15,
    "start_time": "2024-07-18T06:47:06.212Z"
   },
   {
    "duration": 24,
    "start_time": "2024-07-18T06:47:06.229Z"
   },
   {
    "duration": 44,
    "start_time": "2024-07-18T06:47:06.255Z"
   },
   {
    "duration": 3,
    "start_time": "2024-07-18T06:47:06.301Z"
   },
   {
    "duration": 14,
    "start_time": "2024-07-18T06:47:06.305Z"
   },
   {
    "duration": 4,
    "start_time": "2024-07-18T06:47:06.321Z"
   },
   {
    "duration": 8,
    "start_time": "2024-07-18T06:47:06.326Z"
   },
   {
    "duration": 4,
    "start_time": "2024-07-18T06:47:06.335Z"
   },
   {
    "duration": 37,
    "start_time": "2024-07-18T06:47:06.340Z"
   },
   {
    "duration": 39,
    "start_time": "2024-07-18T06:47:06.378Z"
   },
   {
    "duration": 11,
    "start_time": "2024-07-18T06:47:06.418Z"
   },
   {
    "duration": 13,
    "start_time": "2024-07-18T06:47:06.432Z"
   },
   {
    "duration": 24,
    "start_time": "2024-07-18T06:47:06.446Z"
   },
   {
    "duration": 17,
    "start_time": "2024-07-18T06:47:06.471Z"
   },
   {
    "duration": 4,
    "start_time": "2024-07-18T06:47:06.489Z"
   },
   {
    "duration": 23,
    "start_time": "2024-07-18T06:47:06.494Z"
   },
   {
    "duration": 10,
    "start_time": "2024-07-18T06:47:06.518Z"
   },
   {
    "duration": 11,
    "start_time": "2024-07-18T06:47:06.530Z"
   },
   {
    "duration": 11,
    "start_time": "2024-07-18T06:47:06.543Z"
   },
   {
    "duration": 16,
    "start_time": "2024-07-18T06:47:06.555Z"
   },
   {
    "duration": 3,
    "start_time": "2024-07-18T06:47:06.573Z"
   },
   {
    "duration": 8,
    "start_time": "2024-07-18T06:47:09.810Z"
   },
   {
    "duration": 469,
    "start_time": "2024-07-18T07:02:20.339Z"
   },
   {
    "duration": 21,
    "start_time": "2024-07-18T07:02:20.810Z"
   },
   {
    "duration": 17,
    "start_time": "2024-07-18T07:02:20.833Z"
   },
   {
    "duration": 10,
    "start_time": "2024-07-18T07:02:20.851Z"
   },
   {
    "duration": 58,
    "start_time": "2024-07-18T07:02:20.863Z"
   },
   {
    "duration": 2,
    "start_time": "2024-07-18T07:02:20.923Z"
   },
   {
    "duration": 11,
    "start_time": "2024-07-18T07:02:20.927Z"
   },
   {
    "duration": 29,
    "start_time": "2024-07-18T07:02:20.939Z"
   },
   {
    "duration": 18,
    "start_time": "2024-07-18T07:02:20.969Z"
   },
   {
    "duration": 5,
    "start_time": "2024-07-18T07:02:20.989Z"
   },
   {
    "duration": 47,
    "start_time": "2024-07-18T07:02:20.996Z"
   },
   {
    "duration": 12,
    "start_time": "2024-07-18T07:02:21.045Z"
   },
   {
    "duration": 5,
    "start_time": "2024-07-18T07:02:21.058Z"
   },
   {
    "duration": 30,
    "start_time": "2024-07-18T07:02:21.065Z"
   },
   {
    "duration": 35,
    "start_time": "2024-07-18T07:02:21.097Z"
   },
   {
    "duration": 17,
    "start_time": "2024-07-18T07:02:21.134Z"
   },
   {
    "duration": 13,
    "start_time": "2024-07-18T07:02:21.153Z"
   },
   {
    "duration": 46,
    "start_time": "2024-07-18T07:02:21.167Z"
   },
   {
    "duration": 55,
    "start_time": "2024-07-18T07:02:21.215Z"
   },
   {
    "duration": 17,
    "start_time": "2024-07-18T07:02:21.272Z"
   },
   {
    "duration": 20,
    "start_time": "2024-07-18T07:02:21.291Z"
   },
   {
    "duration": 16,
    "start_time": "2024-07-18T07:02:21.313Z"
   },
   {
    "duration": 8,
    "start_time": "2024-07-18T07:02:23.747Z"
   },
   {
    "duration": 5,
    "start_time": "2024-07-18T07:26:25.146Z"
   },
   {
    "duration": 8,
    "start_time": "2024-07-18T07:26:25.666Z"
   },
   {
    "duration": 17,
    "start_time": "2024-07-18T13:58:55.363Z"
   },
   {
    "duration": 6,
    "start_time": "2024-07-18T13:59:07.422Z"
   },
   {
    "duration": 4,
    "start_time": "2024-07-18T14:08:23.564Z"
   },
   {
    "duration": 8,
    "start_time": "2024-07-18T14:08:24.077Z"
   },
   {
    "duration": 4,
    "start_time": "2024-07-18T14:09:00.087Z"
   },
   {
    "duration": 14,
    "start_time": "2024-07-18T14:53:50.286Z"
   },
   {
    "duration": 5,
    "start_time": "2024-07-18T14:53:51.940Z"
   },
   {
    "duration": 8,
    "start_time": "2024-07-18T14:53:53.643Z"
   },
   {
    "duration": 15,
    "start_time": "2024-07-18T18:43:45.075Z"
   },
   {
    "duration": 5,
    "start_time": "2024-07-18T18:43:45.469Z"
   },
   {
    "duration": 8,
    "start_time": "2024-07-18T18:43:46.210Z"
   },
   {
    "duration": 524,
    "start_time": "2024-07-20T01:37:52.011Z"
   },
   {
    "duration": 35,
    "start_time": "2024-07-20T01:37:52.537Z"
   },
   {
    "duration": 24,
    "start_time": "2024-07-20T01:37:52.574Z"
   },
   {
    "duration": 16,
    "start_time": "2024-07-20T01:37:52.600Z"
   },
   {
    "duration": 81,
    "start_time": "2024-07-20T01:37:52.619Z"
   },
   {
    "duration": 3,
    "start_time": "2024-07-20T01:37:52.703Z"
   },
   {
    "duration": 11,
    "start_time": "2024-07-20T01:37:52.708Z"
   },
   {
    "duration": 26,
    "start_time": "2024-07-20T01:37:52.721Z"
   },
   {
    "duration": 8,
    "start_time": "2024-07-20T01:37:52.748Z"
   },
   {
    "duration": 5,
    "start_time": "2024-07-20T01:37:52.758Z"
   },
   {
    "duration": 53,
    "start_time": "2024-07-20T01:37:52.765Z"
   },
   {
    "duration": 34,
    "start_time": "2024-07-20T01:37:52.820Z"
   },
   {
    "duration": 4,
    "start_time": "2024-07-20T01:37:52.856Z"
   },
   {
    "duration": 13,
    "start_time": "2024-07-20T01:37:52.863Z"
   },
   {
    "duration": 22,
    "start_time": "2024-07-20T01:37:52.877Z"
   },
   {
    "duration": 46,
    "start_time": "2024-07-20T01:37:52.900Z"
   },
   {
    "duration": 5,
    "start_time": "2024-07-20T01:37:52.948Z"
   },
   {
    "duration": 12,
    "start_time": "2024-07-20T01:37:52.954Z"
   },
   {
    "duration": 8,
    "start_time": "2024-07-20T01:37:52.968Z"
   },
   {
    "duration": 4,
    "start_time": "2024-07-20T01:37:52.978Z"
   },
   {
    "duration": 20,
    "start_time": "2024-07-20T01:37:52.983Z"
   },
   {
    "duration": 25,
    "start_time": "2024-07-20T01:37:53.004Z"
   },
   {
    "duration": 18,
    "start_time": "2024-07-20T01:37:53.031Z"
   },
   {
    "duration": 6,
    "start_time": "2024-07-20T01:37:53.051Z"
   },
   {
    "duration": 10,
    "start_time": "2024-07-20T01:37:53.058Z"
   },
   {
    "duration": 24,
    "start_time": "2024-07-20T01:37:53.070Z"
   },
   {
    "duration": 5,
    "start_time": "2024-07-20T01:37:53.096Z"
   },
   {
    "duration": 35,
    "start_time": "2024-07-20T01:37:53.103Z"
   },
   {
    "duration": 17,
    "start_time": "2024-07-20T01:37:53.140Z"
   },
   {
    "duration": 4,
    "start_time": "2024-07-20T01:37:53.158Z"
   },
   {
    "duration": 12,
    "start_time": "2024-07-20T01:37:53.164Z"
   },
   {
    "duration": 41,
    "start_time": "2024-07-20T01:37:53.178Z"
   },
   {
    "duration": 6,
    "start_time": "2024-07-20T01:37:53.220Z"
   },
   {
    "duration": 13,
    "start_time": "2024-07-20T01:37:53.227Z"
   },
   {
    "duration": 348,
    "start_time": "2024-07-20T01:39:44.314Z"
   },
   {
    "duration": 55,
    "start_time": "2024-07-23T22:31:47.948Z"
   },
   {
    "duration": 580,
    "start_time": "2024-07-23T22:32:15.632Z"
   },
   {
    "duration": 24,
    "start_time": "2024-07-23T22:32:16.214Z"
   },
   {
    "duration": 15,
    "start_time": "2024-07-23T22:32:16.240Z"
   },
   {
    "duration": 9,
    "start_time": "2024-07-23T22:32:16.257Z"
   },
   {
    "duration": 43,
    "start_time": "2024-07-23T22:32:16.267Z"
   },
   {
    "duration": 3,
    "start_time": "2024-07-23T22:32:16.312Z"
   },
   {
    "duration": 18,
    "start_time": "2024-07-23T22:32:16.317Z"
   },
   {
    "duration": 4,
    "start_time": "2024-07-23T22:32:16.336Z"
   },
   {
    "duration": 16,
    "start_time": "2024-07-23T22:32:16.341Z"
   },
   {
    "duration": 4,
    "start_time": "2024-07-23T22:32:16.359Z"
   },
   {
    "duration": 48,
    "start_time": "2024-07-23T22:32:16.364Z"
   },
   {
    "duration": 10,
    "start_time": "2024-07-23T22:32:16.413Z"
   },
   {
    "duration": 7,
    "start_time": "2024-07-23T22:32:16.424Z"
   },
   {
    "duration": 28,
    "start_time": "2024-07-23T22:32:16.432Z"
   },
   {
    "duration": 33,
    "start_time": "2024-07-23T22:32:16.461Z"
   },
   {
    "duration": 30,
    "start_time": "2024-07-23T22:32:16.495Z"
   },
   {
    "duration": 39,
    "start_time": "2024-07-23T22:32:16.526Z"
   },
   {
    "duration": 38,
    "start_time": "2024-07-23T22:32:16.566Z"
   },
   {
    "duration": 14,
    "start_time": "2024-07-23T22:32:16.606Z"
   },
   {
    "duration": 4,
    "start_time": "2024-07-23T22:32:16.621Z"
   },
   {
    "duration": 18,
    "start_time": "2024-07-23T22:32:16.627Z"
   },
   {
    "duration": 34,
    "start_time": "2024-07-23T22:32:16.646Z"
   },
   {
    "duration": 7,
    "start_time": "2024-07-23T22:32:16.681Z"
   },
   {
    "duration": 7,
    "start_time": "2024-07-23T22:32:16.690Z"
   },
   {
    "duration": 8,
    "start_time": "2024-07-23T22:32:16.699Z"
   },
   {
    "duration": 473,
    "start_time": "2024-07-23T22:32:20.109Z"
   },
   {
    "duration": 16,
    "start_time": "2024-07-23T22:32:47.950Z"
   },
   {
    "duration": 5,
    "start_time": "2024-07-23T22:32:51.318Z"
   },
   {
    "duration": 7,
    "start_time": "2024-07-23T22:32:51.776Z"
   },
   {
    "duration": 13,
    "start_time": "2024-07-23T22:32:53.678Z"
   },
   {
    "duration": 4,
    "start_time": "2024-07-23T22:32:54.490Z"
   },
   {
    "duration": 7,
    "start_time": "2024-07-23T22:32:54.965Z"
   },
   {
    "duration": 15,
    "start_time": "2024-07-23T22:32:57.166Z"
   },
   {
    "duration": 4,
    "start_time": "2024-07-23T22:32:57.400Z"
   },
   {
    "duration": 9,
    "start_time": "2024-07-23T22:32:57.615Z"
   },
   {
    "duration": 32,
    "start_time": "2024-07-23T22:37:09.631Z"
   },
   {
    "duration": 38,
    "start_time": "2024-07-24T17:37:34.123Z"
   },
   {
    "duration": 3938,
    "start_time": "2024-07-24T17:39:31.438Z"
   },
   {
    "duration": 3789,
    "start_time": "2024-07-24T17:39:43.588Z"
   },
   {
    "duration": 31,
    "start_time": "2024-07-24T17:40:35.471Z"
   },
   {
    "duration": 15,
    "start_time": "2024-07-25T13:30:01.430Z"
   },
   {
    "duration": 30,
    "start_time": "2024-07-25T13:30:29.477Z"
   },
   {
    "duration": 14,
    "start_time": "2024-07-25T13:30:42.946Z"
   },
   {
    "duration": 17,
    "start_time": "2024-07-25T13:46:54.142Z"
   },
   {
    "duration": 556,
    "start_time": "2024-07-25T13:47:47.832Z"
   },
   {
    "duration": 24,
    "start_time": "2024-07-25T13:47:48.390Z"
   },
   {
    "duration": 40,
    "start_time": "2024-07-25T13:47:48.417Z"
   },
   {
    "duration": 12,
    "start_time": "2024-07-25T13:47:48.460Z"
   },
   {
    "duration": 62,
    "start_time": "2024-07-25T13:47:48.473Z"
   },
   {
    "duration": 3,
    "start_time": "2024-07-25T13:47:48.537Z"
   },
   {
    "duration": 20,
    "start_time": "2024-07-25T13:47:48.542Z"
   },
   {
    "duration": 13,
    "start_time": "2024-07-25T13:47:48.563Z"
   },
   {
    "duration": 7,
    "start_time": "2024-07-25T13:47:48.578Z"
   },
   {
    "duration": 13,
    "start_time": "2024-07-25T13:47:48.589Z"
   },
   {
    "duration": 55,
    "start_time": "2024-07-25T13:47:48.603Z"
   },
   {
    "duration": 11,
    "start_time": "2024-07-25T13:47:48.659Z"
   },
   {
    "duration": 4,
    "start_time": "2024-07-25T13:47:48.672Z"
   },
   {
    "duration": 14,
    "start_time": "2024-07-25T13:47:48.678Z"
   },
   {
    "duration": 36,
    "start_time": "2024-07-25T13:47:48.694Z"
   },
   {
    "duration": 34,
    "start_time": "2024-07-25T13:47:48.732Z"
   },
   {
    "duration": 3,
    "start_time": "2024-07-25T13:47:48.768Z"
   },
   {
    "duration": 12,
    "start_time": "2024-07-25T13:47:48.773Z"
   },
   {
    "duration": 6,
    "start_time": "2024-07-25T13:47:48.786Z"
   },
   {
    "duration": 8,
    "start_time": "2024-07-25T13:47:48.794Z"
   },
   {
    "duration": 11,
    "start_time": "2024-07-25T13:47:48.804Z"
   },
   {
    "duration": 46,
    "start_time": "2024-07-25T13:47:48.816Z"
   },
   {
    "duration": 8,
    "start_time": "2024-07-25T13:47:48.863Z"
   },
   {
    "duration": 24,
    "start_time": "2024-07-25T13:47:48.872Z"
   },
   {
    "duration": 23,
    "start_time": "2024-07-25T13:47:48.897Z"
   },
   {
    "duration": 348,
    "start_time": "2024-07-25T13:47:48.922Z"
   },
   {
    "duration": 22,
    "start_time": "2024-07-25T13:47:49.273Z"
   },
   {
    "duration": 6,
    "start_time": "2024-07-25T13:47:49.300Z"
   },
   {
    "duration": 13,
    "start_time": "2024-07-25T13:47:49.308Z"
   },
   {
    "duration": 63,
    "start_time": "2024-07-25T13:47:49.323Z"
   },
   {
    "duration": 14,
    "start_time": "2024-07-25T13:47:49.388Z"
   },
   {
    "duration": 6,
    "start_time": "2024-07-25T13:47:49.404Z"
   },
   {
    "duration": 29,
    "start_time": "2024-07-25T13:47:49.412Z"
   },
   {
    "duration": 30,
    "start_time": "2024-07-25T13:47:49.443Z"
   },
   {
    "duration": 523,
    "start_time": "2024-07-25T13:48:08.463Z"
   },
   {
    "duration": 25,
    "start_time": "2024-07-25T13:48:08.988Z"
   },
   {
    "duration": 17,
    "start_time": "2024-07-25T13:48:09.015Z"
   },
   {
    "duration": 29,
    "start_time": "2024-07-25T13:48:09.034Z"
   },
   {
    "duration": 40,
    "start_time": "2024-07-25T13:48:09.065Z"
   },
   {
    "duration": 4,
    "start_time": "2024-07-25T13:48:09.107Z"
   },
   {
    "duration": 12,
    "start_time": "2024-07-25T13:48:09.114Z"
   },
   {
    "duration": 31,
    "start_time": "2024-07-25T13:48:09.128Z"
   },
   {
    "duration": 27,
    "start_time": "2024-07-25T13:48:09.161Z"
   },
   {
    "duration": 11,
    "start_time": "2024-07-25T13:48:09.192Z"
   },
   {
    "duration": 63,
    "start_time": "2024-07-25T13:48:09.206Z"
   },
   {
    "duration": 12,
    "start_time": "2024-07-25T13:48:09.270Z"
   },
   {
    "duration": 7,
    "start_time": "2024-07-25T13:48:09.284Z"
   },
   {
    "duration": 16,
    "start_time": "2024-07-25T13:48:09.293Z"
   },
   {
    "duration": 106,
    "start_time": "2024-07-25T13:48:09.311Z"
   },
   {
    "duration": 20,
    "start_time": "2024-07-25T13:48:09.418Z"
   },
   {
    "duration": 4,
    "start_time": "2024-07-25T13:48:09.439Z"
   },
   {
    "duration": 21,
    "start_time": "2024-07-25T13:48:09.446Z"
   },
   {
    "duration": 10,
    "start_time": "2024-07-25T13:48:09.469Z"
   },
   {
    "duration": 5,
    "start_time": "2024-07-25T13:48:09.481Z"
   },
   {
    "duration": 24,
    "start_time": "2024-07-25T13:48:09.488Z"
   },
   {
    "duration": 41,
    "start_time": "2024-07-25T13:48:09.514Z"
   },
   {
    "duration": 12,
    "start_time": "2024-07-25T13:48:09.558Z"
   },
   {
    "duration": 7,
    "start_time": "2024-07-25T13:48:09.572Z"
   },
   {
    "duration": 12,
    "start_time": "2024-07-25T13:48:09.581Z"
   },
   {
    "duration": 371,
    "start_time": "2024-07-25T13:48:09.595Z"
   },
   {
    "duration": 14,
    "start_time": "2024-07-25T13:48:09.968Z"
   },
   {
    "duration": 117,
    "start_time": "2024-07-25T13:48:09.987Z"
   },
   {
    "duration": 12,
    "start_time": "2024-07-25T13:48:10.106Z"
   },
   {
    "duration": 47,
    "start_time": "2024-07-25T13:48:10.120Z"
   },
   {
    "duration": 15,
    "start_time": "2024-07-25T13:48:10.169Z"
   },
   {
    "duration": 5,
    "start_time": "2024-07-25T13:48:10.186Z"
   },
   {
    "duration": 12,
    "start_time": "2024-07-25T13:48:10.193Z"
   },
   {
    "duration": 53,
    "start_time": "2024-07-25T13:48:10.207Z"
   },
   {
    "duration": 21,
    "start_time": "2024-07-25T13:48:45.449Z"
   },
   {
    "duration": 19,
    "start_time": "2024-07-25T13:48:55.725Z"
   },
   {
    "duration": 17,
    "start_time": "2024-07-25T13:49:03.599Z"
   },
   {
    "duration": 18,
    "start_time": "2024-07-25T13:49:07.956Z"
   },
   {
    "duration": 18,
    "start_time": "2024-07-25T13:50:57.361Z"
   },
   {
    "duration": 17,
    "start_time": "2024-07-25T13:51:11.577Z"
   },
   {
    "duration": 94,
    "start_time": "2024-07-25T13:53:30.290Z"
   },
   {
    "duration": 17,
    "start_time": "2024-07-25T13:53:58.480Z"
   },
   {
    "duration": 17,
    "start_time": "2024-07-25T13:54:10.902Z"
   },
   {
    "duration": 18,
    "start_time": "2024-07-25T13:55:18.539Z"
   },
   {
    "duration": 17,
    "start_time": "2024-07-25T13:57:49.401Z"
   },
   {
    "duration": 18,
    "start_time": "2024-07-25T14:09:26.064Z"
   },
   {
    "duration": 18,
    "start_time": "2024-07-25T14:09:38.209Z"
   },
   {
    "duration": 15,
    "start_time": "2024-07-25T14:11:03.273Z"
   },
   {
    "duration": 17,
    "start_time": "2024-07-25T14:12:45.934Z"
   },
   {
    "duration": 12,
    "start_time": "2024-07-25T14:14:37.574Z"
   },
   {
    "duration": 25,
    "start_time": "2024-07-25T15:05:40.808Z"
   },
   {
    "duration": 4624,
    "start_time": "2024-07-25T15:05:57.804Z"
   },
   {
    "duration": 4501,
    "start_time": "2024-07-25T15:06:10.432Z"
   },
   {
    "duration": 8,
    "start_time": "2024-07-25T15:09:12.128Z"
   },
   {
    "duration": 18,
    "start_time": "2024-07-25T15:09:38.798Z"
   },
   {
    "duration": 17,
    "start_time": "2024-07-25T15:09:56.661Z"
   },
   {
    "duration": 29,
    "start_time": "2024-07-25T15:10:08.199Z"
   },
   {
    "duration": 17,
    "start_time": "2024-07-25T15:10:19.805Z"
   },
   {
    "duration": 58,
    "start_time": "2024-07-25T15:10:56.902Z"
   },
   {
    "duration": 18,
    "start_time": "2024-07-25T15:11:04.057Z"
   },
   {
    "duration": 4626,
    "start_time": "2024-07-25T15:11:09.064Z"
   },
   {
    "duration": 17,
    "start_time": "2024-07-25T15:11:56.931Z"
   },
   {
    "duration": 25,
    "start_time": "2024-07-25T15:13:04.797Z"
   },
   {
    "duration": 18,
    "start_time": "2024-07-25T15:13:54.093Z"
   },
   {
    "duration": 19,
    "start_time": "2024-07-25T15:14:12.816Z"
   },
   {
    "duration": 24,
    "start_time": "2024-07-25T15:14:21.454Z"
   },
   {
    "duration": 5,
    "start_time": "2024-07-25T15:14:35.300Z"
   },
   {
    "duration": 5,
    "start_time": "2024-07-25T15:14:46.390Z"
   },
   {
    "duration": 29,
    "start_time": "2024-07-25T15:18:31.104Z"
   },
   {
    "duration": 37,
    "start_time": "2024-07-25T15:18:55.089Z"
   },
   {
    "duration": 10,
    "start_time": "2024-07-25T15:44:53.635Z"
   },
   {
    "duration": 21,
    "start_time": "2024-07-25T15:44:55.137Z"
   },
   {
    "duration": 8,
    "start_time": "2024-07-25T15:46:04.085Z"
   },
   {
    "duration": 40,
    "start_time": "2024-07-25T15:46:30.909Z"
   },
   {
    "duration": 8,
    "start_time": "2024-07-25T15:46:35.325Z"
   },
   {
    "duration": 18,
    "start_time": "2024-07-25T15:46:46.933Z"
   },
   {
    "duration": 20,
    "start_time": "2024-07-25T15:47:43.460Z"
   },
   {
    "duration": 17,
    "start_time": "2024-07-25T15:48:10.097Z"
   },
   {
    "duration": 16,
    "start_time": "2024-07-25T15:49:16.987Z"
   },
   {
    "duration": 18,
    "start_time": "2024-07-25T15:49:33.653Z"
   },
   {
    "duration": 504,
    "start_time": "2024-07-25T15:50:42.555Z"
   },
   {
    "duration": 25,
    "start_time": "2024-07-25T15:50:43.061Z"
   },
   {
    "duration": 16,
    "start_time": "2024-07-25T15:50:43.087Z"
   },
   {
    "duration": 49,
    "start_time": "2024-07-25T15:50:43.105Z"
   },
   {
    "duration": 51,
    "start_time": "2024-07-25T15:50:43.157Z"
   },
   {
    "duration": 4,
    "start_time": "2024-07-25T15:50:43.210Z"
   },
   {
    "duration": 10,
    "start_time": "2024-07-25T15:50:43.216Z"
   },
   {
    "duration": 4,
    "start_time": "2024-07-25T15:50:43.228Z"
   },
   {
    "duration": 26,
    "start_time": "2024-07-25T15:50:43.234Z"
   },
   {
    "duration": 5,
    "start_time": "2024-07-25T15:50:43.264Z"
   },
   {
    "duration": 57,
    "start_time": "2024-07-25T15:50:43.271Z"
   },
   {
    "duration": 33,
    "start_time": "2024-07-25T15:50:43.330Z"
   },
   {
    "duration": 13,
    "start_time": "2024-07-25T15:50:43.365Z"
   },
   {
    "duration": 17,
    "start_time": "2024-07-25T15:50:43.380Z"
   },
   {
    "duration": 25,
    "start_time": "2024-07-25T15:50:43.399Z"
   },
   {
    "duration": 35,
    "start_time": "2024-07-25T15:50:43.426Z"
   },
   {
    "duration": 3,
    "start_time": "2024-07-25T15:50:43.463Z"
   },
   {
    "duration": 27,
    "start_time": "2024-07-25T15:50:43.469Z"
   },
   {
    "duration": 6,
    "start_time": "2024-07-25T15:50:43.498Z"
   },
   {
    "duration": 4,
    "start_time": "2024-07-25T15:50:43.506Z"
   },
   {
    "duration": 18,
    "start_time": "2024-07-25T15:50:43.511Z"
   },
   {
    "duration": 31,
    "start_time": "2024-07-25T15:50:43.531Z"
   },
   {
    "duration": 7,
    "start_time": "2024-07-25T15:50:43.564Z"
   },
   {
    "duration": 6,
    "start_time": "2024-07-25T15:50:43.573Z"
   },
   {
    "duration": 19,
    "start_time": "2024-07-25T15:50:43.581Z"
   },
   {
    "duration": 341,
    "start_time": "2024-07-25T15:50:43.601Z"
   },
   {
    "duration": 24,
    "start_time": "2024-07-25T15:50:43.944Z"
   },
   {
    "duration": 5,
    "start_time": "2024-07-25T15:50:43.973Z"
   },
   {
    "duration": 12,
    "start_time": "2024-07-25T15:50:43.980Z"
   },
   {
    "duration": 36,
    "start_time": "2024-07-25T15:50:43.995Z"
   },
   {
    "duration": 15,
    "start_time": "2024-07-25T15:50:44.056Z"
   },
   {
    "duration": 5,
    "start_time": "2024-07-25T15:50:44.073Z"
   },
   {
    "duration": 9,
    "start_time": "2024-07-25T15:50:44.080Z"
   },
   {
    "duration": 10,
    "start_time": "2024-07-25T15:50:44.090Z"
   },
   {
    "duration": 24,
    "start_time": "2024-07-25T15:50:47.604Z"
   },
   {
    "duration": 93,
    "start_time": "2024-07-25T15:50:48.636Z"
   },
   {
    "duration": 3,
    "start_time": "2024-07-25T15:52:23.559Z"
   },
   {
    "duration": 38,
    "start_time": "2024-07-25T15:54:46.104Z"
   },
   {
    "duration": 518,
    "start_time": "2024-07-25T15:55:11.150Z"
   },
   {
    "duration": 24,
    "start_time": "2024-07-25T15:55:11.670Z"
   },
   {
    "duration": 27,
    "start_time": "2024-07-25T15:55:11.695Z"
   },
   {
    "duration": 32,
    "start_time": "2024-07-25T15:55:11.724Z"
   },
   {
    "duration": 102,
    "start_time": "2024-07-25T15:55:11.758Z"
   },
   {
    "duration": 4,
    "start_time": "2024-07-25T15:55:11.862Z"
   },
   {
    "duration": 64,
    "start_time": "2024-07-25T15:55:11.868Z"
   },
   {
    "duration": 15,
    "start_time": "2024-07-25T15:55:11.934Z"
   },
   {
    "duration": 17,
    "start_time": "2024-07-25T15:55:11.951Z"
   },
   {
    "duration": 51,
    "start_time": "2024-07-25T15:55:11.971Z"
   },
   {
    "duration": 42,
    "start_time": "2024-07-25T15:55:12.024Z"
   },
   {
    "duration": 11,
    "start_time": "2024-07-25T15:55:12.069Z"
   },
   {
    "duration": 7,
    "start_time": "2024-07-25T15:55:12.082Z"
   },
   {
    "duration": 21,
    "start_time": "2024-07-25T15:55:12.091Z"
   },
   {
    "duration": 48,
    "start_time": "2024-07-25T15:55:12.114Z"
   },
   {
    "duration": 22,
    "start_time": "2024-07-25T15:55:12.163Z"
   },
   {
    "duration": 4,
    "start_time": "2024-07-25T15:55:12.186Z"
   },
   {
    "duration": 22,
    "start_time": "2024-07-25T15:55:12.192Z"
   },
   {
    "duration": 7,
    "start_time": "2024-07-25T15:55:12.216Z"
   },
   {
    "duration": 7,
    "start_time": "2024-07-25T15:55:12.224Z"
   },
   {
    "duration": 27,
    "start_time": "2024-07-25T15:55:12.232Z"
   },
   {
    "duration": 22,
    "start_time": "2024-07-25T15:55:12.261Z"
   },
   {
    "duration": 9,
    "start_time": "2024-07-25T15:55:12.285Z"
   },
   {
    "duration": 20,
    "start_time": "2024-07-25T15:55:12.295Z"
   },
   {
    "duration": 32,
    "start_time": "2024-07-25T15:55:12.316Z"
   },
   {
    "duration": 12,
    "start_time": "2024-07-25T15:55:12.350Z"
   },
   {
    "duration": 326,
    "start_time": "2024-07-25T15:55:12.365Z"
   },
   {
    "duration": 15,
    "start_time": "2024-07-25T15:55:12.694Z"
   },
   {
    "duration": 5,
    "start_time": "2024-07-25T15:55:12.710Z"
   },
   {
    "duration": 26,
    "start_time": "2024-07-25T15:55:12.716Z"
   },
   {
    "duration": 43,
    "start_time": "2024-07-25T15:55:12.744Z"
   },
   {
    "duration": 13,
    "start_time": "2024-07-25T15:55:12.788Z"
   },
   {
    "duration": 47,
    "start_time": "2024-07-25T15:55:12.803Z"
   },
   {
    "duration": 10,
    "start_time": "2024-07-25T15:55:12.852Z"
   },
   {
    "duration": 8,
    "start_time": "2024-07-25T15:55:12.864Z"
   },
   {
    "duration": 14,
    "start_time": "2024-07-25T15:55:12.873Z"
   },
   {
    "duration": 35,
    "start_time": "2024-07-25T15:55:15.996Z"
   },
   {
    "duration": 12,
    "start_time": "2024-07-25T15:57:11.026Z"
   },
   {
    "duration": 11,
    "start_time": "2024-07-25T15:57:43.841Z"
   },
   {
    "duration": 16,
    "start_time": "2024-07-25T16:23:13.051Z"
   },
   {
    "duration": 6,
    "start_time": "2024-07-25T16:23:13.879Z"
   },
   {
    "duration": 8,
    "start_time": "2024-07-25T16:23:14.598Z"
   },
   {
    "duration": 39,
    "start_time": "2024-07-25T16:23:46.741Z"
   },
   {
    "duration": 4,
    "start_time": "2024-07-25T16:46:31.993Z"
   },
   {
    "duration": 562,
    "start_time": "2024-07-26T13:21:05.358Z"
   },
   {
    "duration": 23,
    "start_time": "2024-07-26T13:21:05.922Z"
   },
   {
    "duration": 16,
    "start_time": "2024-07-26T13:21:05.947Z"
   },
   {
    "duration": 27,
    "start_time": "2024-07-26T13:21:05.965Z"
   },
   {
    "duration": 57,
    "start_time": "2024-07-26T13:21:05.994Z"
   },
   {
    "duration": 4,
    "start_time": "2024-07-26T13:21:06.052Z"
   },
   {
    "duration": 11,
    "start_time": "2024-07-26T13:21:06.058Z"
   },
   {
    "duration": 7,
    "start_time": "2024-07-26T13:21:06.070Z"
   },
   {
    "duration": 19,
    "start_time": "2024-07-26T13:21:06.078Z"
   },
   {
    "duration": 5,
    "start_time": "2024-07-26T13:21:06.099Z"
   },
   {
    "duration": 51,
    "start_time": "2024-07-26T13:21:06.106Z"
   },
   {
    "duration": 11,
    "start_time": "2024-07-26T13:21:06.158Z"
   },
   {
    "duration": 4,
    "start_time": "2024-07-26T13:21:06.182Z"
   },
   {
    "duration": 36,
    "start_time": "2024-07-26T13:21:06.189Z"
   },
   {
    "duration": 97,
    "start_time": "2024-07-26T13:21:06.286Z"
   },
   {
    "duration": 29,
    "start_time": "2024-07-26T13:21:06.384Z"
   },
   {
    "duration": 11,
    "start_time": "2024-07-26T13:21:06.415Z"
   },
   {
    "duration": 31,
    "start_time": "2024-07-26T13:21:06.428Z"
   },
   {
    "duration": 25,
    "start_time": "2024-07-26T13:21:06.461Z"
   },
   {
    "duration": 28,
    "start_time": "2024-07-26T13:21:06.487Z"
   },
   {
    "duration": 29,
    "start_time": "2024-07-26T13:21:06.517Z"
   },
   {
    "duration": 42,
    "start_time": "2024-07-26T13:21:06.548Z"
   },
   {
    "duration": 27,
    "start_time": "2024-07-26T13:21:06.591Z"
   },
   {
    "duration": 379,
    "start_time": "2024-07-26T13:21:06.619Z"
   },
   {
    "duration": 13,
    "start_time": "2024-07-26T13:21:06.999Z"
   },
   {
    "duration": 29,
    "start_time": "2024-07-26T13:21:07.013Z"
   },
   {
    "duration": 10,
    "start_time": "2024-07-26T13:21:07.043Z"
   },
   {
    "duration": 46,
    "start_time": "2024-07-26T13:21:07.055Z"
   },
   {
    "duration": 21,
    "start_time": "2024-07-26T13:21:07.103Z"
   },
   {
    "duration": 10,
    "start_time": "2024-07-26T13:21:07.126Z"
   },
   {
    "duration": 8,
    "start_time": "2024-07-26T13:21:07.138Z"
   },
   {
    "duration": 9,
    "start_time": "2024-07-26T13:21:07.148Z"
   },
   {
    "duration": 25,
    "start_time": "2024-07-26T13:21:07.159Z"
   },
   {
    "duration": 42,
    "start_time": "2024-07-26T13:21:07.186Z"
   },
   {
    "duration": 14,
    "start_time": "2024-07-26T13:21:07.229Z"
   },
   {
    "duration": 18,
    "start_time": "2024-07-26T13:21:07.245Z"
   },
   {
    "duration": 19,
    "start_time": "2024-07-26T13:21:07.265Z"
   },
   {
    "duration": 49,
    "start_time": "2024-07-26T13:21:07.287Z"
   },
   {
    "duration": 544,
    "start_time": "2024-07-26T13:31:03.551Z"
   },
   {
    "duration": 23,
    "start_time": "2024-07-26T13:31:04.097Z"
   },
   {
    "duration": 18,
    "start_time": "2024-07-26T13:31:04.122Z"
   },
   {
    "duration": 29,
    "start_time": "2024-07-26T13:31:04.142Z"
   },
   {
    "duration": 44,
    "start_time": "2024-07-26T13:31:04.173Z"
   },
   {
    "duration": 3,
    "start_time": "2024-07-26T13:31:04.219Z"
   },
   {
    "duration": 23,
    "start_time": "2024-07-26T13:31:04.224Z"
   },
   {
    "duration": 4,
    "start_time": "2024-07-26T13:31:04.249Z"
   },
   {
    "duration": 28,
    "start_time": "2024-07-26T13:31:04.254Z"
   },
   {
    "duration": 9,
    "start_time": "2024-07-26T13:31:04.283Z"
   },
   {
    "duration": 47,
    "start_time": "2024-07-26T13:31:04.293Z"
   },
   {
    "duration": 22,
    "start_time": "2024-07-26T13:31:04.342Z"
   },
   {
    "duration": 65,
    "start_time": "2024-07-26T13:31:04.366Z"
   },
   {
    "duration": 36,
    "start_time": "2024-07-26T13:31:04.435Z"
   },
   {
    "duration": 61,
    "start_time": "2024-07-26T13:31:04.472Z"
   },
   {
    "duration": 22,
    "start_time": "2024-07-26T13:31:04.535Z"
   },
   {
    "duration": 31,
    "start_time": "2024-07-26T13:31:04.559Z"
   },
   {
    "duration": 47,
    "start_time": "2024-07-26T13:31:04.591Z"
   },
   {
    "duration": 19,
    "start_time": "2024-07-26T13:31:04.640Z"
   },
   {
    "duration": 28,
    "start_time": "2024-07-26T13:31:04.660Z"
   },
   {
    "duration": 44,
    "start_time": "2024-07-26T13:31:04.690Z"
   },
   {
    "duration": 35,
    "start_time": "2024-07-26T13:31:04.737Z"
   },
   {
    "duration": 11,
    "start_time": "2024-07-26T13:31:04.773Z"
   },
   {
    "duration": 15,
    "start_time": "2024-07-26T13:31:04.786Z"
   },
   {
    "duration": 35,
    "start_time": "2024-07-26T13:31:04.802Z"
   },
   {
    "duration": 29,
    "start_time": "2024-07-26T13:31:04.838Z"
   },
   {
    "duration": 343,
    "start_time": "2024-07-26T13:31:04.868Z"
   },
   {
    "duration": 14,
    "start_time": "2024-07-26T13:31:05.212Z"
   },
   {
    "duration": 10,
    "start_time": "2024-07-26T13:31:05.228Z"
   },
   {
    "duration": 24,
    "start_time": "2024-07-26T13:31:05.240Z"
   },
   {
    "duration": 47,
    "start_time": "2024-07-26T13:31:05.266Z"
   },
   {
    "duration": 12,
    "start_time": "2024-07-26T13:31:05.314Z"
   },
   {
    "duration": 32,
    "start_time": "2024-07-26T13:31:05.328Z"
   },
   {
    "duration": 12,
    "start_time": "2024-07-26T13:31:05.362Z"
   },
   {
    "duration": 9,
    "start_time": "2024-07-26T13:31:05.376Z"
   },
   {
    "duration": 20,
    "start_time": "2024-07-26T13:31:05.387Z"
   },
   {
    "duration": 54,
    "start_time": "2024-07-26T13:31:05.408Z"
   },
   {
    "duration": 13,
    "start_time": "2024-07-26T13:31:05.464Z"
   },
   {
    "duration": 17,
    "start_time": "2024-07-26T13:31:05.478Z"
   },
   {
    "duration": 24,
    "start_time": "2024-07-26T13:31:05.496Z"
   },
   {
    "duration": 48,
    "start_time": "2024-07-26T13:31:05.525Z"
   },
   {
    "duration": 94,
    "start_time": "2024-07-26T13:36:47.059Z"
   },
   {
    "duration": 295,
    "start_time": "2024-07-26T13:37:31.723Z"
   }
  ],
  "colab": {
   "name": "dpp_template_part2.ipynb",
   "provenance": []
  },
  "kernelspec": {
   "display_name": "Python 3 (ipykernel)",
   "language": "python",
   "name": "python3"
  },
  "language_info": {
   "codemirror_mode": {
    "name": "ipython",
    "version": 3
   },
   "file_extension": ".py",
   "mimetype": "text/x-python",
   "name": "python",
   "nbconvert_exporter": "python",
   "pygments_lexer": "ipython3",
   "version": "3.13.2"
  },
  "toc": {
   "base_numbering": 1,
   "nav_menu": {},
   "number_sections": true,
   "sideBar": true,
   "skip_h1_title": true,
   "title_cell": "Table of Contents",
   "title_sidebar": "Contents",
   "toc_cell": false,
   "toc_position": {
    "height": "calc(100% - 180px)",
    "left": "10px",
    "top": "150px",
    "width": "193.938px"
   },
   "toc_section_display": true,
   "toc_window_display": true
  }
 },
 "nbformat": 4,
 "nbformat_minor": 5
}

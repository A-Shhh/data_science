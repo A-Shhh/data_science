{
 "cells": [
  {
   "cell_type": "markdown",
   "metadata": {
    "id": "cnQwHkb15BYg"
   },
   "source": [
    "# Определение стоимости автомобилей"
   ]
  },
  {
   "cell_type": "markdown",
   "metadata": {
    "id": "HwP7UxFL5BYh"
   },
   "source": [
    "Сервис по продаже автомобилей с пробегом «Не бит, не крашен» разрабатывает приложение для привлечения новых клиентов. В нём можно быстро узнать рыночную стоимость своего автомобиля.\n",
    "\n",
    "В вашем распоряжении исторические данные: технические характеристики, комплектации и цены автомобилей. Вам нужно построить модель для определения стоимости.\n",
    "\n",
    "Заказчику важны:\n",
    "\n",
    "- качество предсказания;\n",
    "- скорость предсказания;\n",
    "- время обучения."
   ]
  },
  {
   "cell_type": "markdown",
   "metadata": {
    "id": "BYooyo8z5BYi"
   },
   "source": [
    "**План выполнения проекта**\n",
    "\n",
    "1. **Загрузка и первичный анализ данных**:\n",
    "   - Изучение структуры датасета.\n",
    "   - Выявление пропусков, аномалий и неинформативных признаков.\n",
    "   - Визуализация распределений ключевых переменных.\n",
    "\n",
    "\n",
    "2. **Предобработка данных**:\n",
    "   - Обработка пропущенных значений и выбросов.\n",
    "   - Кодирование категориальных переменных.\n",
    "   - Нормализация числовых признаков.\n",
    "\n",
    "\n",
    "3. **Подготовка выборок**:\n",
    "   - Разделение данных на обучающую, валидационную и тестовую выборки.\n",
    "   - Убедиться, что данные корректно подготовлены для обучения моделей.\n",
    "\n",
    "\n",
    "4. **Обучение и сравнение моделей**:\n",
    "   - Использование различных моделей: DecisionTreeRegressor и LightGBM.\n",
    "   - Настройка гиперпараметров для достижения оптимального баланса между качеством и скоростью работы.\n",
    "\n",
    "\n",
    "5. **Оценка результатов**:\n",
    "   - Сравнение моделей по метрикам качества (RMSE), времени обучения и предсказания.\n",
    "   - Выбор лучшей модели на основе критериев заказчика.\n",
    "\n",
    "\n",
    "6. **Формулировка выводов и рекомендаций**:\n",
    "   - Рекомендации для бизнеса на основе анализа данных и результатов моделирования."
   ]
  },
  {
   "cell_type": "markdown",
   "metadata": {
    "id": "14Mo1HpJ5BYk"
   },
   "source": [
    "## Загрузка и Подготовка данных"
   ]
  },
  {
   "cell_type": "code",
   "execution_count": null,
   "metadata": {
    "id": "6mK1kFLm5BYl",
    "scrolled": true
   },
   "outputs": [],
   "source": [
    "!pip install -q phik\n",
    "!pip install -Uq scikit-learn\n",
    "!pip install -q shap"
   ]
  },
  {
   "cell_type": "code",
   "execution_count": null,
   "metadata": {
    "id": "-ibV3OS35BYm"
   },
   "outputs": [],
   "source": [
    "import pandas as pd\n",
    "import matplotlib.pyplot as plt\n",
    "import seaborn as sns\n",
    "import numpy as np\n",
    "\n",
    "from phik import phik_matrix\n",
    "from sklearn.model_selection import train_test_split, RandomizedSearchCV\n",
    "from sklearn.pipeline import Pipeline\n",
    "from sklearn.compose import ColumnTransformer\n",
    "from sklearn.impute import SimpleImputer\n",
    "from sklearn.preprocessing import OneHotEncoder, OrdinalEncoder, StandardScaler\n",
    "from sklearn.tree import DecisionTreeRegressor\n",
    "import lightgbm as lgb\n",
    "from sklearn.metrics import mean_squared_error\n",
    "\n",
    "RANDOM_STATE = 42"
   ]
  },
  {
   "cell_type": "code",
   "execution_count": null,
   "metadata": {
    "id": "ls2WoIu95BYp"
   },
   "outputs": [],
   "source": [
    "# Загрузка данных\n",
    "try:\n",
    "    df = pd.read_csv('/datasets/autos.csv')\n",
    "except FileNotFoundError:\n",
    "    df = pd.read_csv('autos.csv')  # Если файл локальный"
   ]
  },
  {
   "cell_type": "markdown",
   "metadata": {
    "id": "co4BaQJF5BYr"
   },
   "source": [
    "<u>**Описане данных**</u>"
   ]
  },
  {
   "cell_type": "markdown",
   "metadata": {
    "id": "jvWlph2E5BYr"
   },
   "source": [
    "**Числовые признаки**:\n",
    "1. **Price (целевой признак)** - Цена автомобиля в евро.  \n",
    "\n",
    "2. **RegistrationYear** - Год регистрации автомобиля.\n",
    "\n",
    "3. **RegistrationMonth** - Месяц регистрации автомобиля (число от 0 до 12).  \n",
    "\n",
    "4. **Power** - Мощность двигателя в лошадиных силах (л.с.).  \n",
    "\n",
    "5. **Kilometer** - Пробег автомобиля в километрах.  \n",
    "\n",
    "6. **NumberOfPictures** - Количество фотографий автомобиля в объявлении.  \n",
    "\n",
    "**Категориальные признаки**:\n",
    "1. **VehicleType** - Тип автомобильного кузова.\n",
    "\n",
    "2. **Gearbox** - Тип коробки передач.\n",
    "\n",
    "3. **Model** - Модель автомобиля.\n",
    "\n",
    "4. **FuelType** - Тип топлива.\n",
    "\n",
    "5. **Brand** - Марка автомобиля.\n",
    "\n",
    "6. **Repaired** - Была ли машина в ремонте.\n",
    "\n",
    "7. **PostalCode** - Почтовый индекс владельца объявления.\n",
    "\n",
    "**Временные признаки**:\n",
    "1. **DateCrawled** - Дата скачивания анкеты из базы.  \n",
    "\n",
    "2. **DateCreated** - Дата создания анкеты.  \n",
    "\n",
    "3. **LastSeen** - Дата последней активности пользователя.  "
   ]
  },
  {
   "cell_type": "code",
   "execution_count": null,
   "metadata": {
    "id": "E7oys_AT5BYs"
   },
   "outputs": [],
   "source": [
    "# Функция для ознакомления с таблицами\n",
    "def first_check(data, dataset_name=\"\"):\n",
    "    # Печатаем название датасета\n",
    "    if dataset_name:\n",
    "        print(f\"Анализ датасета: {dataset_name}\")\n",
    "    else:\n",
    "        print(\"Анализ датасета\")\n",
    "    print(\"=\" * 40 + \"\\n\")\n",
    "\n",
    "    # Первые и последние строки\n",
    "    print(\"Первые 5 строк:\")\n",
    "    display(data.head())\n",
    "    print(\"\\nПоследние 5 строк:\")\n",
    "    display(data.tail())\n",
    "\n",
    "    # Информация о данных\n",
    "    print(\"\\nИнформация о данных:\")\n",
    "    display(data.info())\n",
    "\n",
    "    # Описательная статистика\n",
    "    print(\"\\nОписательная статистика:\")\n",
    "    display(data.describe(include='all'))"
   ]
  },
  {
   "cell_type": "code",
   "execution_count": null,
   "metadata": {
    "id": "orBnm46q5BYt",
    "outputId": "6ef8336d-2f63-4918-c832-c66093e421d3"
   },
   "outputs": [
    {
     "name": "stdout",
     "output_type": "stream",
     "text": [
      "Анализ датасета: df\n",
      "========================================\n",
      "\n",
      "Первые 5 строк:\n"
     ]
    },
    {
     "data": {
      "text/html": [
       "<div>\n",
       "<style scoped>\n",
       "    .dataframe tbody tr th:only-of-type {\n",
       "        vertical-align: middle;\n",
       "    }\n",
       "\n",
       "    .dataframe tbody tr th {\n",
       "        vertical-align: top;\n",
       "    }\n",
       "\n",
       "    .dataframe thead th {\n",
       "        text-align: right;\n",
       "    }\n",
       "</style>\n",
       "<table border=\"1\" class=\"dataframe\">\n",
       "  <thead>\n",
       "    <tr style=\"text-align: right;\">\n",
       "      <th></th>\n",
       "      <th>DateCrawled</th>\n",
       "      <th>Price</th>\n",
       "      <th>VehicleType</th>\n",
       "      <th>RegistrationYear</th>\n",
       "      <th>Gearbox</th>\n",
       "      <th>Power</th>\n",
       "      <th>Model</th>\n",
       "      <th>Kilometer</th>\n",
       "      <th>RegistrationMonth</th>\n",
       "      <th>FuelType</th>\n",
       "      <th>Brand</th>\n",
       "      <th>Repaired</th>\n",
       "      <th>DateCreated</th>\n",
       "      <th>NumberOfPictures</th>\n",
       "      <th>PostalCode</th>\n",
       "      <th>LastSeen</th>\n",
       "    </tr>\n",
       "  </thead>\n",
       "  <tbody>\n",
       "    <tr>\n",
       "      <th>0</th>\n",
       "      <td>2016-03-24 11:52:17</td>\n",
       "      <td>480</td>\n",
       "      <td>NaN</td>\n",
       "      <td>1993</td>\n",
       "      <td>manual</td>\n",
       "      <td>0</td>\n",
       "      <td>golf</td>\n",
       "      <td>150000</td>\n",
       "      <td>0</td>\n",
       "      <td>petrol</td>\n",
       "      <td>volkswagen</td>\n",
       "      <td>NaN</td>\n",
       "      <td>2016-03-24 00:00:00</td>\n",
       "      <td>0</td>\n",
       "      <td>70435</td>\n",
       "      <td>2016-04-07 03:16:57</td>\n",
       "    </tr>\n",
       "    <tr>\n",
       "      <th>1</th>\n",
       "      <td>2016-03-24 10:58:45</td>\n",
       "      <td>18300</td>\n",
       "      <td>coupe</td>\n",
       "      <td>2011</td>\n",
       "      <td>manual</td>\n",
       "      <td>190</td>\n",
       "      <td>NaN</td>\n",
       "      <td>125000</td>\n",
       "      <td>5</td>\n",
       "      <td>gasoline</td>\n",
       "      <td>audi</td>\n",
       "      <td>yes</td>\n",
       "      <td>2016-03-24 00:00:00</td>\n",
       "      <td>0</td>\n",
       "      <td>66954</td>\n",
       "      <td>2016-04-07 01:46:50</td>\n",
       "    </tr>\n",
       "    <tr>\n",
       "      <th>2</th>\n",
       "      <td>2016-03-14 12:52:21</td>\n",
       "      <td>9800</td>\n",
       "      <td>suv</td>\n",
       "      <td>2004</td>\n",
       "      <td>auto</td>\n",
       "      <td>163</td>\n",
       "      <td>grand</td>\n",
       "      <td>125000</td>\n",
       "      <td>8</td>\n",
       "      <td>gasoline</td>\n",
       "      <td>jeep</td>\n",
       "      <td>NaN</td>\n",
       "      <td>2016-03-14 00:00:00</td>\n",
       "      <td>0</td>\n",
       "      <td>90480</td>\n",
       "      <td>2016-04-05 12:47:46</td>\n",
       "    </tr>\n",
       "    <tr>\n",
       "      <th>3</th>\n",
       "      <td>2016-03-17 16:54:04</td>\n",
       "      <td>1500</td>\n",
       "      <td>small</td>\n",
       "      <td>2001</td>\n",
       "      <td>manual</td>\n",
       "      <td>75</td>\n",
       "      <td>golf</td>\n",
       "      <td>150000</td>\n",
       "      <td>6</td>\n",
       "      <td>petrol</td>\n",
       "      <td>volkswagen</td>\n",
       "      <td>no</td>\n",
       "      <td>2016-03-17 00:00:00</td>\n",
       "      <td>0</td>\n",
       "      <td>91074</td>\n",
       "      <td>2016-03-17 17:40:17</td>\n",
       "    </tr>\n",
       "    <tr>\n",
       "      <th>4</th>\n",
       "      <td>2016-03-31 17:25:20</td>\n",
       "      <td>3600</td>\n",
       "      <td>small</td>\n",
       "      <td>2008</td>\n",
       "      <td>manual</td>\n",
       "      <td>69</td>\n",
       "      <td>fabia</td>\n",
       "      <td>90000</td>\n",
       "      <td>7</td>\n",
       "      <td>gasoline</td>\n",
       "      <td>skoda</td>\n",
       "      <td>no</td>\n",
       "      <td>2016-03-31 00:00:00</td>\n",
       "      <td>0</td>\n",
       "      <td>60437</td>\n",
       "      <td>2016-04-06 10:17:21</td>\n",
       "    </tr>\n",
       "  </tbody>\n",
       "</table>\n",
       "</div>"
      ],
      "text/plain": [
       "           DateCrawled  Price VehicleType  RegistrationYear Gearbox  Power  \\\n",
       "0  2016-03-24 11:52:17    480         NaN              1993  manual      0   \n",
       "1  2016-03-24 10:58:45  18300       coupe              2011  manual    190   \n",
       "2  2016-03-14 12:52:21   9800         suv              2004    auto    163   \n",
       "3  2016-03-17 16:54:04   1500       small              2001  manual     75   \n",
       "4  2016-03-31 17:25:20   3600       small              2008  manual     69   \n",
       "\n",
       "   Model  Kilometer  RegistrationMonth  FuelType       Brand Repaired  \\\n",
       "0   golf     150000                  0    petrol  volkswagen      NaN   \n",
       "1    NaN     125000                  5  gasoline        audi      yes   \n",
       "2  grand     125000                  8  gasoline        jeep      NaN   \n",
       "3   golf     150000                  6    petrol  volkswagen       no   \n",
       "4  fabia      90000                  7  gasoline       skoda       no   \n",
       "\n",
       "           DateCreated  NumberOfPictures  PostalCode             LastSeen  \n",
       "0  2016-03-24 00:00:00                 0       70435  2016-04-07 03:16:57  \n",
       "1  2016-03-24 00:00:00                 0       66954  2016-04-07 01:46:50  \n",
       "2  2016-03-14 00:00:00                 0       90480  2016-04-05 12:47:46  \n",
       "3  2016-03-17 00:00:00                 0       91074  2016-03-17 17:40:17  \n",
       "4  2016-03-31 00:00:00                 0       60437  2016-04-06 10:17:21  "
      ]
     },
     "metadata": {},
     "output_type": "display_data"
    },
    {
     "name": "stdout",
     "output_type": "stream",
     "text": [
      "\n",
      "Последние 5 строк:\n"
     ]
    },
    {
     "data": {
      "text/html": [
       "<div>\n",
       "<style scoped>\n",
       "    .dataframe tbody tr th:only-of-type {\n",
       "        vertical-align: middle;\n",
       "    }\n",
       "\n",
       "    .dataframe tbody tr th {\n",
       "        vertical-align: top;\n",
       "    }\n",
       "\n",
       "    .dataframe thead th {\n",
       "        text-align: right;\n",
       "    }\n",
       "</style>\n",
       "<table border=\"1\" class=\"dataframe\">\n",
       "  <thead>\n",
       "    <tr style=\"text-align: right;\">\n",
       "      <th></th>\n",
       "      <th>DateCrawled</th>\n",
       "      <th>Price</th>\n",
       "      <th>VehicleType</th>\n",
       "      <th>RegistrationYear</th>\n",
       "      <th>Gearbox</th>\n",
       "      <th>Power</th>\n",
       "      <th>Model</th>\n",
       "      <th>Kilometer</th>\n",
       "      <th>RegistrationMonth</th>\n",
       "      <th>FuelType</th>\n",
       "      <th>Brand</th>\n",
       "      <th>Repaired</th>\n",
       "      <th>DateCreated</th>\n",
       "      <th>NumberOfPictures</th>\n",
       "      <th>PostalCode</th>\n",
       "      <th>LastSeen</th>\n",
       "    </tr>\n",
       "  </thead>\n",
       "  <tbody>\n",
       "    <tr>\n",
       "      <th>354364</th>\n",
       "      <td>2016-03-21 09:50:58</td>\n",
       "      <td>0</td>\n",
       "      <td>NaN</td>\n",
       "      <td>2005</td>\n",
       "      <td>manual</td>\n",
       "      <td>0</td>\n",
       "      <td>colt</td>\n",
       "      <td>150000</td>\n",
       "      <td>7</td>\n",
       "      <td>petrol</td>\n",
       "      <td>mitsubishi</td>\n",
       "      <td>yes</td>\n",
       "      <td>2016-03-21 00:00:00</td>\n",
       "      <td>0</td>\n",
       "      <td>2694</td>\n",
       "      <td>2016-03-21 10:42:49</td>\n",
       "    </tr>\n",
       "    <tr>\n",
       "      <th>354365</th>\n",
       "      <td>2016-03-14 17:48:27</td>\n",
       "      <td>2200</td>\n",
       "      <td>NaN</td>\n",
       "      <td>2005</td>\n",
       "      <td>NaN</td>\n",
       "      <td>0</td>\n",
       "      <td>NaN</td>\n",
       "      <td>20000</td>\n",
       "      <td>1</td>\n",
       "      <td>NaN</td>\n",
       "      <td>sonstige_autos</td>\n",
       "      <td>NaN</td>\n",
       "      <td>2016-03-14 00:00:00</td>\n",
       "      <td>0</td>\n",
       "      <td>39576</td>\n",
       "      <td>2016-04-06 00:46:52</td>\n",
       "    </tr>\n",
       "    <tr>\n",
       "      <th>354366</th>\n",
       "      <td>2016-03-05 19:56:21</td>\n",
       "      <td>1199</td>\n",
       "      <td>convertible</td>\n",
       "      <td>2000</td>\n",
       "      <td>auto</td>\n",
       "      <td>101</td>\n",
       "      <td>fortwo</td>\n",
       "      <td>125000</td>\n",
       "      <td>3</td>\n",
       "      <td>petrol</td>\n",
       "      <td>smart</td>\n",
       "      <td>no</td>\n",
       "      <td>2016-03-05 00:00:00</td>\n",
       "      <td>0</td>\n",
       "      <td>26135</td>\n",
       "      <td>2016-03-11 18:17:12</td>\n",
       "    </tr>\n",
       "    <tr>\n",
       "      <th>354367</th>\n",
       "      <td>2016-03-19 18:57:12</td>\n",
       "      <td>9200</td>\n",
       "      <td>bus</td>\n",
       "      <td>1996</td>\n",
       "      <td>manual</td>\n",
       "      <td>102</td>\n",
       "      <td>transporter</td>\n",
       "      <td>150000</td>\n",
       "      <td>3</td>\n",
       "      <td>gasoline</td>\n",
       "      <td>volkswagen</td>\n",
       "      <td>no</td>\n",
       "      <td>2016-03-19 00:00:00</td>\n",
       "      <td>0</td>\n",
       "      <td>87439</td>\n",
       "      <td>2016-04-07 07:15:26</td>\n",
       "    </tr>\n",
       "    <tr>\n",
       "      <th>354368</th>\n",
       "      <td>2016-03-20 19:41:08</td>\n",
       "      <td>3400</td>\n",
       "      <td>wagon</td>\n",
       "      <td>2002</td>\n",
       "      <td>manual</td>\n",
       "      <td>100</td>\n",
       "      <td>golf</td>\n",
       "      <td>150000</td>\n",
       "      <td>6</td>\n",
       "      <td>gasoline</td>\n",
       "      <td>volkswagen</td>\n",
       "      <td>NaN</td>\n",
       "      <td>2016-03-20 00:00:00</td>\n",
       "      <td>0</td>\n",
       "      <td>40764</td>\n",
       "      <td>2016-03-24 12:45:21</td>\n",
       "    </tr>\n",
       "  </tbody>\n",
       "</table>\n",
       "</div>"
      ],
      "text/plain": [
       "                DateCrawled  Price  VehicleType  RegistrationYear Gearbox  \\\n",
       "354364  2016-03-21 09:50:58      0          NaN              2005  manual   \n",
       "354365  2016-03-14 17:48:27   2200          NaN              2005     NaN   \n",
       "354366  2016-03-05 19:56:21   1199  convertible              2000    auto   \n",
       "354367  2016-03-19 18:57:12   9200          bus              1996  manual   \n",
       "354368  2016-03-20 19:41:08   3400        wagon              2002  manual   \n",
       "\n",
       "        Power        Model  Kilometer  RegistrationMonth  FuelType  \\\n",
       "354364      0         colt     150000                  7    petrol   \n",
       "354365      0          NaN      20000                  1       NaN   \n",
       "354366    101       fortwo     125000                  3    petrol   \n",
       "354367    102  transporter     150000                  3  gasoline   \n",
       "354368    100         golf     150000                  6  gasoline   \n",
       "\n",
       "                 Brand Repaired          DateCreated  NumberOfPictures  \\\n",
       "354364      mitsubishi      yes  2016-03-21 00:00:00                 0   \n",
       "354365  sonstige_autos      NaN  2016-03-14 00:00:00                 0   \n",
       "354366           smart       no  2016-03-05 00:00:00                 0   \n",
       "354367      volkswagen       no  2016-03-19 00:00:00                 0   \n",
       "354368      volkswagen      NaN  2016-03-20 00:00:00                 0   \n",
       "\n",
       "        PostalCode             LastSeen  \n",
       "354364        2694  2016-03-21 10:42:49  \n",
       "354365       39576  2016-04-06 00:46:52  \n",
       "354366       26135  2016-03-11 18:17:12  \n",
       "354367       87439  2016-04-07 07:15:26  \n",
       "354368       40764  2016-03-24 12:45:21  "
      ]
     },
     "metadata": {},
     "output_type": "display_data"
    },
    {
     "name": "stdout",
     "output_type": "stream",
     "text": [
      "\n",
      "Информация о данных:\n",
      "<class 'pandas.core.frame.DataFrame'>\n",
      "RangeIndex: 354369 entries, 0 to 354368\n",
      "Data columns (total 16 columns):\n",
      " #   Column             Non-Null Count   Dtype \n",
      "---  ------             --------------   ----- \n",
      " 0   DateCrawled        354369 non-null  object\n",
      " 1   Price              354369 non-null  int64 \n",
      " 2   VehicleType        316879 non-null  object\n",
      " 3   RegistrationYear   354369 non-null  int64 \n",
      " 4   Gearbox            334536 non-null  object\n",
      " 5   Power              354369 non-null  int64 \n",
      " 6   Model              334664 non-null  object\n",
      " 7   Kilometer          354369 non-null  int64 \n",
      " 8   RegistrationMonth  354369 non-null  int64 \n",
      " 9   FuelType           321474 non-null  object\n",
      " 10  Brand              354369 non-null  object\n",
      " 11  Repaired           283215 non-null  object\n",
      " 12  DateCreated        354369 non-null  object\n",
      " 13  NumberOfPictures   354369 non-null  int64 \n",
      " 14  PostalCode         354369 non-null  int64 \n",
      " 15  LastSeen           354369 non-null  object\n",
      "dtypes: int64(7), object(9)\n",
      "memory usage: 43.3+ MB\n"
     ]
    },
    {
     "data": {
      "text/plain": [
       "None"
      ]
     },
     "metadata": {},
     "output_type": "display_data"
    },
    {
     "name": "stdout",
     "output_type": "stream",
     "text": [
      "\n",
      "Описательная статистика:\n"
     ]
    },
    {
     "data": {
      "text/html": [
       "<div>\n",
       "<style scoped>\n",
       "    .dataframe tbody tr th:only-of-type {\n",
       "        vertical-align: middle;\n",
       "    }\n",
       "\n",
       "    .dataframe tbody tr th {\n",
       "        vertical-align: top;\n",
       "    }\n",
       "\n",
       "    .dataframe thead th {\n",
       "        text-align: right;\n",
       "    }\n",
       "</style>\n",
       "<table border=\"1\" class=\"dataframe\">\n",
       "  <thead>\n",
       "    <tr style=\"text-align: right;\">\n",
       "      <th></th>\n",
       "      <th>DateCrawled</th>\n",
       "      <th>Price</th>\n",
       "      <th>VehicleType</th>\n",
       "      <th>RegistrationYear</th>\n",
       "      <th>Gearbox</th>\n",
       "      <th>Power</th>\n",
       "      <th>Model</th>\n",
       "      <th>Kilometer</th>\n",
       "      <th>RegistrationMonth</th>\n",
       "      <th>FuelType</th>\n",
       "      <th>Brand</th>\n",
       "      <th>Repaired</th>\n",
       "      <th>DateCreated</th>\n",
       "      <th>NumberOfPictures</th>\n",
       "      <th>PostalCode</th>\n",
       "      <th>LastSeen</th>\n",
       "    </tr>\n",
       "  </thead>\n",
       "  <tbody>\n",
       "    <tr>\n",
       "      <th>count</th>\n",
       "      <td>354369</td>\n",
       "      <td>354369.000000</td>\n",
       "      <td>316879</td>\n",
       "      <td>354369.000000</td>\n",
       "      <td>334536</td>\n",
       "      <td>354369.000000</td>\n",
       "      <td>334664</td>\n",
       "      <td>354369.000000</td>\n",
       "      <td>354369.000000</td>\n",
       "      <td>321474</td>\n",
       "      <td>354369</td>\n",
       "      <td>283215</td>\n",
       "      <td>354369</td>\n",
       "      <td>354369.0</td>\n",
       "      <td>354369.000000</td>\n",
       "      <td>354369</td>\n",
       "    </tr>\n",
       "    <tr>\n",
       "      <th>unique</th>\n",
       "      <td>271174</td>\n",
       "      <td>NaN</td>\n",
       "      <td>8</td>\n",
       "      <td>NaN</td>\n",
       "      <td>2</td>\n",
       "      <td>NaN</td>\n",
       "      <td>250</td>\n",
       "      <td>NaN</td>\n",
       "      <td>NaN</td>\n",
       "      <td>7</td>\n",
       "      <td>40</td>\n",
       "      <td>2</td>\n",
       "      <td>109</td>\n",
       "      <td>NaN</td>\n",
       "      <td>NaN</td>\n",
       "      <td>179150</td>\n",
       "    </tr>\n",
       "    <tr>\n",
       "      <th>top</th>\n",
       "      <td>2016-03-24 14:49:47</td>\n",
       "      <td>NaN</td>\n",
       "      <td>sedan</td>\n",
       "      <td>NaN</td>\n",
       "      <td>manual</td>\n",
       "      <td>NaN</td>\n",
       "      <td>golf</td>\n",
       "      <td>NaN</td>\n",
       "      <td>NaN</td>\n",
       "      <td>petrol</td>\n",
       "      <td>volkswagen</td>\n",
       "      <td>no</td>\n",
       "      <td>2016-04-03 00:00:00</td>\n",
       "      <td>NaN</td>\n",
       "      <td>NaN</td>\n",
       "      <td>2016-04-06 13:45:54</td>\n",
       "    </tr>\n",
       "    <tr>\n",
       "      <th>freq</th>\n",
       "      <td>7</td>\n",
       "      <td>NaN</td>\n",
       "      <td>91457</td>\n",
       "      <td>NaN</td>\n",
       "      <td>268251</td>\n",
       "      <td>NaN</td>\n",
       "      <td>29232</td>\n",
       "      <td>NaN</td>\n",
       "      <td>NaN</td>\n",
       "      <td>216352</td>\n",
       "      <td>77013</td>\n",
       "      <td>247161</td>\n",
       "      <td>13719</td>\n",
       "      <td>NaN</td>\n",
       "      <td>NaN</td>\n",
       "      <td>17</td>\n",
       "    </tr>\n",
       "    <tr>\n",
       "      <th>mean</th>\n",
       "      <td>NaN</td>\n",
       "      <td>4416.656776</td>\n",
       "      <td>NaN</td>\n",
       "      <td>2004.234448</td>\n",
       "      <td>NaN</td>\n",
       "      <td>110.094337</td>\n",
       "      <td>NaN</td>\n",
       "      <td>128211.172535</td>\n",
       "      <td>5.714645</td>\n",
       "      <td>NaN</td>\n",
       "      <td>NaN</td>\n",
       "      <td>NaN</td>\n",
       "      <td>NaN</td>\n",
       "      <td>0.0</td>\n",
       "      <td>50508.689087</td>\n",
       "      <td>NaN</td>\n",
       "    </tr>\n",
       "    <tr>\n",
       "      <th>std</th>\n",
       "      <td>NaN</td>\n",
       "      <td>4514.158514</td>\n",
       "      <td>NaN</td>\n",
       "      <td>90.227958</td>\n",
       "      <td>NaN</td>\n",
       "      <td>189.850405</td>\n",
       "      <td>NaN</td>\n",
       "      <td>37905.341530</td>\n",
       "      <td>3.726421</td>\n",
       "      <td>NaN</td>\n",
       "      <td>NaN</td>\n",
       "      <td>NaN</td>\n",
       "      <td>NaN</td>\n",
       "      <td>0.0</td>\n",
       "      <td>25783.096248</td>\n",
       "      <td>NaN</td>\n",
       "    </tr>\n",
       "    <tr>\n",
       "      <th>min</th>\n",
       "      <td>NaN</td>\n",
       "      <td>0.000000</td>\n",
       "      <td>NaN</td>\n",
       "      <td>1000.000000</td>\n",
       "      <td>NaN</td>\n",
       "      <td>0.000000</td>\n",
       "      <td>NaN</td>\n",
       "      <td>5000.000000</td>\n",
       "      <td>0.000000</td>\n",
       "      <td>NaN</td>\n",
       "      <td>NaN</td>\n",
       "      <td>NaN</td>\n",
       "      <td>NaN</td>\n",
       "      <td>0.0</td>\n",
       "      <td>1067.000000</td>\n",
       "      <td>NaN</td>\n",
       "    </tr>\n",
       "    <tr>\n",
       "      <th>25%</th>\n",
       "      <td>NaN</td>\n",
       "      <td>1050.000000</td>\n",
       "      <td>NaN</td>\n",
       "      <td>1999.000000</td>\n",
       "      <td>NaN</td>\n",
       "      <td>69.000000</td>\n",
       "      <td>NaN</td>\n",
       "      <td>125000.000000</td>\n",
       "      <td>3.000000</td>\n",
       "      <td>NaN</td>\n",
       "      <td>NaN</td>\n",
       "      <td>NaN</td>\n",
       "      <td>NaN</td>\n",
       "      <td>0.0</td>\n",
       "      <td>30165.000000</td>\n",
       "      <td>NaN</td>\n",
       "    </tr>\n",
       "    <tr>\n",
       "      <th>50%</th>\n",
       "      <td>NaN</td>\n",
       "      <td>2700.000000</td>\n",
       "      <td>NaN</td>\n",
       "      <td>2003.000000</td>\n",
       "      <td>NaN</td>\n",
       "      <td>105.000000</td>\n",
       "      <td>NaN</td>\n",
       "      <td>150000.000000</td>\n",
       "      <td>6.000000</td>\n",
       "      <td>NaN</td>\n",
       "      <td>NaN</td>\n",
       "      <td>NaN</td>\n",
       "      <td>NaN</td>\n",
       "      <td>0.0</td>\n",
       "      <td>49413.000000</td>\n",
       "      <td>NaN</td>\n",
       "    </tr>\n",
       "    <tr>\n",
       "      <th>75%</th>\n",
       "      <td>NaN</td>\n",
       "      <td>6400.000000</td>\n",
       "      <td>NaN</td>\n",
       "      <td>2008.000000</td>\n",
       "      <td>NaN</td>\n",
       "      <td>143.000000</td>\n",
       "      <td>NaN</td>\n",
       "      <td>150000.000000</td>\n",
       "      <td>9.000000</td>\n",
       "      <td>NaN</td>\n",
       "      <td>NaN</td>\n",
       "      <td>NaN</td>\n",
       "      <td>NaN</td>\n",
       "      <td>0.0</td>\n",
       "      <td>71083.000000</td>\n",
       "      <td>NaN</td>\n",
       "    </tr>\n",
       "    <tr>\n",
       "      <th>max</th>\n",
       "      <td>NaN</td>\n",
       "      <td>20000.000000</td>\n",
       "      <td>NaN</td>\n",
       "      <td>9999.000000</td>\n",
       "      <td>NaN</td>\n",
       "      <td>20000.000000</td>\n",
       "      <td>NaN</td>\n",
       "      <td>150000.000000</td>\n",
       "      <td>12.000000</td>\n",
       "      <td>NaN</td>\n",
       "      <td>NaN</td>\n",
       "      <td>NaN</td>\n",
       "      <td>NaN</td>\n",
       "      <td>0.0</td>\n",
       "      <td>99998.000000</td>\n",
       "      <td>NaN</td>\n",
       "    </tr>\n",
       "  </tbody>\n",
       "</table>\n",
       "</div>"
      ],
      "text/plain": [
       "                DateCrawled          Price VehicleType  RegistrationYear  \\\n",
       "count                354369  354369.000000      316879     354369.000000   \n",
       "unique               271174            NaN           8               NaN   \n",
       "top     2016-03-24 14:49:47            NaN       sedan               NaN   \n",
       "freq                      7            NaN       91457               NaN   \n",
       "mean                    NaN    4416.656776         NaN       2004.234448   \n",
       "std                     NaN    4514.158514         NaN         90.227958   \n",
       "min                     NaN       0.000000         NaN       1000.000000   \n",
       "25%                     NaN    1050.000000         NaN       1999.000000   \n",
       "50%                     NaN    2700.000000         NaN       2003.000000   \n",
       "75%                     NaN    6400.000000         NaN       2008.000000   \n",
       "max                     NaN   20000.000000         NaN       9999.000000   \n",
       "\n",
       "       Gearbox          Power   Model      Kilometer  RegistrationMonth  \\\n",
       "count   334536  354369.000000  334664  354369.000000      354369.000000   \n",
       "unique       2            NaN     250            NaN                NaN   \n",
       "top     manual            NaN    golf            NaN                NaN   \n",
       "freq    268251            NaN   29232            NaN                NaN   \n",
       "mean       NaN     110.094337     NaN  128211.172535           5.714645   \n",
       "std        NaN     189.850405     NaN   37905.341530           3.726421   \n",
       "min        NaN       0.000000     NaN    5000.000000           0.000000   \n",
       "25%        NaN      69.000000     NaN  125000.000000           3.000000   \n",
       "50%        NaN     105.000000     NaN  150000.000000           6.000000   \n",
       "75%        NaN     143.000000     NaN  150000.000000           9.000000   \n",
       "max        NaN   20000.000000     NaN  150000.000000          12.000000   \n",
       "\n",
       "       FuelType       Brand Repaired          DateCreated  NumberOfPictures  \\\n",
       "count    321474      354369   283215               354369          354369.0   \n",
       "unique        7          40        2                  109               NaN   \n",
       "top      petrol  volkswagen       no  2016-04-03 00:00:00               NaN   \n",
       "freq     216352       77013   247161                13719               NaN   \n",
       "mean        NaN         NaN      NaN                  NaN               0.0   \n",
       "std         NaN         NaN      NaN                  NaN               0.0   \n",
       "min         NaN         NaN      NaN                  NaN               0.0   \n",
       "25%         NaN         NaN      NaN                  NaN               0.0   \n",
       "50%         NaN         NaN      NaN                  NaN               0.0   \n",
       "75%         NaN         NaN      NaN                  NaN               0.0   \n",
       "max         NaN         NaN      NaN                  NaN               0.0   \n",
       "\n",
       "           PostalCode             LastSeen  \n",
       "count   354369.000000               354369  \n",
       "unique            NaN               179150  \n",
       "top               NaN  2016-04-06 13:45:54  \n",
       "freq              NaN                   17  \n",
       "mean     50508.689087                  NaN  \n",
       "std      25783.096248                  NaN  \n",
       "min       1067.000000                  NaN  \n",
       "25%      30165.000000                  NaN  \n",
       "50%      49413.000000                  NaN  \n",
       "75%      71083.000000                  NaN  \n",
       "max      99998.000000                  NaN  "
      ]
     },
     "metadata": {},
     "output_type": "display_data"
    }
   ],
   "source": [
    "first_check(df, \"df\")"
   ]
  },
  {
   "cell_type": "markdown",
   "metadata": {
    "id": "pCWTW3iL5BYu"
   },
   "source": [
    "Всего в датасете `df` 354369 строк и 16 столбцов."
   ]
  },
  {
   "cell_type": "markdown",
   "metadata": {
    "id": "bqwYtlhy5BYv"
   },
   "source": [
    "Обнаружен пропуски в столбцах: `VehicleType`, `Gearbox`, `Model`, `FuelType`, `Repaired`.\n",
    "\n",
    "- В столбце `Price` обнаружена аномалиия, цена авто - 0 евро.\n",
    "- В столбце `RegistrationYear` обнаружена аномалия - 9999 и 1000 год регистрации автомобиля.\n",
    "- В столбце `Power` обнаружена аномалия - 20000 и 0 л.с. автомобиля.\n",
    "- В столбце `NumberOfPictures` все значения равны 0.\n",
    "- В столбцах `DateCrawled`, `DateCreated`, `LastSeen` указан неверный тип данных."
   ]
  },
  {
   "cell_type": "markdown",
   "metadata": {
    "id": "zQbC-BP95BYv"
   },
   "source": [
    "### <u>Выполним предобработку данных</u>"
   ]
  },
  {
   "cell_type": "code",
   "execution_count": null,
   "metadata": {
    "id": "74Fn6PK65BYw"
   },
   "outputs": [],
   "source": [
    "def check_data(data, bins=10, figsize=(15, 8)):\n",
    "    print('Первые 5 строк:')\n",
    "    display(data.head())\n",
    "\n",
    "    print('\\nПоследние 5 строк:')\n",
    "    display(data.tail())\n",
    "\n",
    "    print('\\nРазмерность данных:')\n",
    "    display(data.shape)\n",
    "\n",
    "    print('\\nИнформация о типах данных и пропусках:')\n",
    "    display(data.info())\n",
    "\n",
    "    print('\\nОписательная статистика:')\n",
    "    display(data.describe(include='all'))\n",
    "\n",
    "    # Анализ пропусков\n",
    "    print(\"=\" * 40)\n",
    "    print('\\nПропуски (количество и доля):')\n",
    "    total_missing = data.isnull().sum().sort_values(ascending=False)\n",
    "    percent_missing = (data.isnull().sum() / data.shape[0]).sort_values(ascending=False)\n",
    "    missing_data = pd.concat([total_missing, percent_missing], axis=1, keys=['total', 'percent'])\n",
    "\n",
    "    # Проверяем, есть ли пропуски\n",
    "    if missing_data['total'].sum() > 0:\n",
    "        print(missing_data[missing_data['total'] > 0])  # Вывод только столбцов с пропусками\n",
    "    else:\n",
    "        print('Пропуски отсутствуют в данных.')\n",
    "\n",
    "    # Проверка на дубликаты\n",
    "    duplicate_rows = data.duplicated().sum()\n",
    "    if duplicate_rows > 0:\n",
    "        print(\"=\" * 40)\n",
    "        print(f'\\nОбнаружено {duplicate_rows} дубликатов в данных.')\n",
    "        print('\\nДубликаты:')\n",
    "        display(data[data.duplicated()])\n",
    "    else:\n",
    "        print(\"=\" * 40)\n",
    "        print('\\nДубликаты отсутствуют в данных.')\n",
    "\n",
    "    # Анализ количественных столбцов\n",
    "    numeric_columns = data.select_dtypes(include=['number']).columns\n",
    "    numeric_columns = numeric_columns[numeric_columns != 'id']  # Исключаем столбец 'id'\n",
    "\n",
    "    # Разделение на дискретные и непрерывные\n",
    "    discrete_columns = []\n",
    "    continuous_columns = []\n",
    "    for col in numeric_columns:\n",
    "        if data[col].nunique() < 10:  # Пороговое значение для определения дискретности\n",
    "            discrete_columns.append(col)\n",
    "        else:\n",
    "            continuous_columns.append(col)\n",
    "\n",
    "    # Построение гистограмм для непрерывных столбцов\n",
    "    if continuous_columns:  # Проверка на наличие числового столбца\n",
    "        print(\"=\" * 40)\n",
    "        print('\\nГрафики распределения для количественных непрерывных столбцов (гистограммы):')\n",
    "        # Определяем количество строк и столбцов для подграфиков\n",
    "        n_cols = 2\n",
    "        n_rows = (len(continuous_columns) + n_cols - 1) // n_cols\n",
    "\n",
    "        fig, axes = plt.subplots(n_rows, n_cols, figsize=figsize)\n",
    "        axes = axes.flatten()\n",
    "\n",
    "        for i, col in enumerate(continuous_columns):\n",
    "            axes[i].hist(data[col], bins=bins, color='blue')\n",
    "            axes[i].grid(True)\n",
    "            axes[i].set_title(f'Распределение для {col}')\n",
    "            axes[i].set_xlabel(col)\n",
    "            axes[i].set_ylabel('Количество')\n",
    "\n",
    "        # Убираем пустые подграфики, если они есть\n",
    "        for j in range(i + 1, len(axes)):\n",
    "            fig.delaxes(axes[j])\n",
    "\n",
    "        plt.tight_layout() # Автоматически подгоняет подграфики\n",
    "        plt.show()\n",
    "\n",
    "    # Построение столбиковых диаграмм для дискретных столбцов\n",
    "    if discrete_columns:  # Проверка на наличие числового столбца\n",
    "        print(\"=\" * 40)\n",
    "        print('\\nГрафики распределения для количественных дискретных столбцов (столбчатые диаграммы):')\n",
    "        # Определяем количество строк и столбцов для подграфиков\n",
    "        n_cols = 2\n",
    "        n_rows = (len(discrete_columns) + n_cols - 1) // n_cols\n",
    "\n",
    "        fig, axes = plt.subplots(n_rows, n_cols, figsize=figsize)\n",
    "        axes = axes.flatten()  # Создаем одномерный массив\n",
    "\n",
    "        for i, col in enumerate(discrete_columns):\n",
    "            value_counts = data[col].value_counts().sort_index()\n",
    "            axes[i].bar(value_counts.index, value_counts.values, color='green')\n",
    "            axes[i].grid(True)\n",
    "            axes[i].set_title(f'Распределение для {col}')\n",
    "            axes[i].set_xlabel(col)\n",
    "            axes[i].set_ylabel('Количество')\n",
    "\n",
    "        # Убираем пустые подграфики, если они есть\n",
    "        for j in range(i + 1, len(axes)):\n",
    "            fig.delaxes(axes[j])\n",
    "\n",
    "        plt.tight_layout() # Автоматически подгоняет подграфики\n",
    "        plt.show()\n",
    "\n",
    "    # Анализ категориальных столбцов\n",
    "    categorical_columns = data.select_dtypes(exclude=['number']).columns\n",
    "    if not categorical_columns.empty:\n",
    "        print(\"=\" * 40)\n",
    "        print('\\nАнализ категориальных столбцов:')\n",
    "        for col in categorical_columns:\n",
    "            print(\"-\" * 20)\n",
    "            print(f'\\nСтолбец: {col}')\n",
    "            value_counts = data[col].value_counts()\n",
    "            n_unique = data[col].nunique()\n",
    "\n",
    "            # Порог для определения \"много/мало\" уникальных значений\n",
    "            threshold = 15\n",
    "\n",
    "            if n_unique > threshold:\n",
    "                # Если много уникальных значений, показываем только те, что встречаются 2+ раза\n",
    "                frequent_values = value_counts[value_counts >= 2]\n",
    "                if not frequent_values.empty:\n",
    "                    print('Значения, встречающиеся 2 раза и больше:')\n",
    "                    print(frequent_values)\n",
    "                    print(f'Количество таких значений: {len(frequent_values)}')\n",
    "\n",
    "                    # Вывод процентного соотношения двух самых частых категорий\n",
    "                    total_count = len(data[col])\n",
    "                    top_two = frequent_values.head(2)\n",
    "                    for category, count in top_two.items():\n",
    "                        percentage = (count / total_count) * 100\n",
    "                        print(f'Процент категории \"{category}\": {percentage:.2f}%')\n",
    "                else:\n",
    "                    print('Нет значений, встречающихся 2 раза и больше.')\n",
    "            else:\n",
    "                # Если мало уникальных значений, показываем все\n",
    "                print('Все уникальные значения:')\n",
    "                print(value_counts)\n",
    "                print(f'Количество уникальных значений: {n_unique}')\n",
    "\n",
    "                # Вывод процентного соотношения двух самых частых категорий\n",
    "                total_count = len(data[col])\n",
    "                top_two = value_counts.head(2)\n",
    "                for category, count in top_two.items():\n",
    "                    percentage = (count / total_count) * 100\n",
    "                    print(f'Процент категории \"{category}\": {percentage:.2f}%')"
   ]
  },
  {
   "cell_type": "markdown",
   "metadata": {
    "id": "fmHgMjWx5BYz"
   },
   "source": [
    "Выполним удаления столбца `NumberOfPictures` по причине неинформативности."
   ]
  },
  {
   "cell_type": "code",
   "execution_count": null,
   "metadata": {
    "id": "hEGqyM0T5BY0"
   },
   "outputs": [],
   "source": [
    "df.drop(columns='NumberOfPictures', axis=1, inplace=True)"
   ]
  },
  {
   "cell_type": "code",
   "execution_count": null,
   "metadata": {
    "id": "_7edKj295BY0",
    "outputId": "0ca0bab8-3b33-4a09-c1e5-ac7ded38e6a1",
    "scrolled": true
   },
   "outputs": [
    {
     "name": "stdout",
     "output_type": "stream",
     "text": [
      "Первые 5 строк:\n"
     ]
    },
    {
     "data": {
      "text/html": [
       "<div>\n",
       "<style scoped>\n",
       "    .dataframe tbody tr th:only-of-type {\n",
       "        vertical-align: middle;\n",
       "    }\n",
       "\n",
       "    .dataframe tbody tr th {\n",
       "        vertical-align: top;\n",
       "    }\n",
       "\n",
       "    .dataframe thead th {\n",
       "        text-align: right;\n",
       "    }\n",
       "</style>\n",
       "<table border=\"1\" class=\"dataframe\">\n",
       "  <thead>\n",
       "    <tr style=\"text-align: right;\">\n",
       "      <th></th>\n",
       "      <th>DateCrawled</th>\n",
       "      <th>Price</th>\n",
       "      <th>VehicleType</th>\n",
       "      <th>RegistrationYear</th>\n",
       "      <th>Gearbox</th>\n",
       "      <th>Power</th>\n",
       "      <th>Model</th>\n",
       "      <th>Kilometer</th>\n",
       "      <th>RegistrationMonth</th>\n",
       "      <th>FuelType</th>\n",
       "      <th>Brand</th>\n",
       "      <th>Repaired</th>\n",
       "      <th>DateCreated</th>\n",
       "      <th>PostalCode</th>\n",
       "      <th>LastSeen</th>\n",
       "    </tr>\n",
       "  </thead>\n",
       "  <tbody>\n",
       "    <tr>\n",
       "      <th>0</th>\n",
       "      <td>2016-03-24 11:52:17</td>\n",
       "      <td>480</td>\n",
       "      <td>NaN</td>\n",
       "      <td>1993</td>\n",
       "      <td>manual</td>\n",
       "      <td>0</td>\n",
       "      <td>golf</td>\n",
       "      <td>150000</td>\n",
       "      <td>0</td>\n",
       "      <td>petrol</td>\n",
       "      <td>volkswagen</td>\n",
       "      <td>NaN</td>\n",
       "      <td>2016-03-24 00:00:00</td>\n",
       "      <td>70435</td>\n",
       "      <td>2016-04-07 03:16:57</td>\n",
       "    </tr>\n",
       "    <tr>\n",
       "      <th>1</th>\n",
       "      <td>2016-03-24 10:58:45</td>\n",
       "      <td>18300</td>\n",
       "      <td>coupe</td>\n",
       "      <td>2011</td>\n",
       "      <td>manual</td>\n",
       "      <td>190</td>\n",
       "      <td>NaN</td>\n",
       "      <td>125000</td>\n",
       "      <td>5</td>\n",
       "      <td>gasoline</td>\n",
       "      <td>audi</td>\n",
       "      <td>yes</td>\n",
       "      <td>2016-03-24 00:00:00</td>\n",
       "      <td>66954</td>\n",
       "      <td>2016-04-07 01:46:50</td>\n",
       "    </tr>\n",
       "    <tr>\n",
       "      <th>2</th>\n",
       "      <td>2016-03-14 12:52:21</td>\n",
       "      <td>9800</td>\n",
       "      <td>suv</td>\n",
       "      <td>2004</td>\n",
       "      <td>auto</td>\n",
       "      <td>163</td>\n",
       "      <td>grand</td>\n",
       "      <td>125000</td>\n",
       "      <td>8</td>\n",
       "      <td>gasoline</td>\n",
       "      <td>jeep</td>\n",
       "      <td>NaN</td>\n",
       "      <td>2016-03-14 00:00:00</td>\n",
       "      <td>90480</td>\n",
       "      <td>2016-04-05 12:47:46</td>\n",
       "    </tr>\n",
       "    <tr>\n",
       "      <th>3</th>\n",
       "      <td>2016-03-17 16:54:04</td>\n",
       "      <td>1500</td>\n",
       "      <td>small</td>\n",
       "      <td>2001</td>\n",
       "      <td>manual</td>\n",
       "      <td>75</td>\n",
       "      <td>golf</td>\n",
       "      <td>150000</td>\n",
       "      <td>6</td>\n",
       "      <td>petrol</td>\n",
       "      <td>volkswagen</td>\n",
       "      <td>no</td>\n",
       "      <td>2016-03-17 00:00:00</td>\n",
       "      <td>91074</td>\n",
       "      <td>2016-03-17 17:40:17</td>\n",
       "    </tr>\n",
       "    <tr>\n",
       "      <th>4</th>\n",
       "      <td>2016-03-31 17:25:20</td>\n",
       "      <td>3600</td>\n",
       "      <td>small</td>\n",
       "      <td>2008</td>\n",
       "      <td>manual</td>\n",
       "      <td>69</td>\n",
       "      <td>fabia</td>\n",
       "      <td>90000</td>\n",
       "      <td>7</td>\n",
       "      <td>gasoline</td>\n",
       "      <td>skoda</td>\n",
       "      <td>no</td>\n",
       "      <td>2016-03-31 00:00:00</td>\n",
       "      <td>60437</td>\n",
       "      <td>2016-04-06 10:17:21</td>\n",
       "    </tr>\n",
       "  </tbody>\n",
       "</table>\n",
       "</div>"
      ],
      "text/plain": [
       "           DateCrawled  Price VehicleType  RegistrationYear Gearbox  Power  \\\n",
       "0  2016-03-24 11:52:17    480         NaN              1993  manual      0   \n",
       "1  2016-03-24 10:58:45  18300       coupe              2011  manual    190   \n",
       "2  2016-03-14 12:52:21   9800         suv              2004    auto    163   \n",
       "3  2016-03-17 16:54:04   1500       small              2001  manual     75   \n",
       "4  2016-03-31 17:25:20   3600       small              2008  manual     69   \n",
       "\n",
       "   Model  Kilometer  RegistrationMonth  FuelType       Brand Repaired  \\\n",
       "0   golf     150000                  0    petrol  volkswagen      NaN   \n",
       "1    NaN     125000                  5  gasoline        audi      yes   \n",
       "2  grand     125000                  8  gasoline        jeep      NaN   \n",
       "3   golf     150000                  6    petrol  volkswagen       no   \n",
       "4  fabia      90000                  7  gasoline       skoda       no   \n",
       "\n",
       "           DateCreated  PostalCode             LastSeen  \n",
       "0  2016-03-24 00:00:00       70435  2016-04-07 03:16:57  \n",
       "1  2016-03-24 00:00:00       66954  2016-04-07 01:46:50  \n",
       "2  2016-03-14 00:00:00       90480  2016-04-05 12:47:46  \n",
       "3  2016-03-17 00:00:00       91074  2016-03-17 17:40:17  \n",
       "4  2016-03-31 00:00:00       60437  2016-04-06 10:17:21  "
      ]
     },
     "metadata": {},
     "output_type": "display_data"
    },
    {
     "name": "stdout",
     "output_type": "stream",
     "text": [
      "\n",
      "Последние 5 строк:\n"
     ]
    },
    {
     "data": {
      "text/html": [
       "<div>\n",
       "<style scoped>\n",
       "    .dataframe tbody tr th:only-of-type {\n",
       "        vertical-align: middle;\n",
       "    }\n",
       "\n",
       "    .dataframe tbody tr th {\n",
       "        vertical-align: top;\n",
       "    }\n",
       "\n",
       "    .dataframe thead th {\n",
       "        text-align: right;\n",
       "    }\n",
       "</style>\n",
       "<table border=\"1\" class=\"dataframe\">\n",
       "  <thead>\n",
       "    <tr style=\"text-align: right;\">\n",
       "      <th></th>\n",
       "      <th>DateCrawled</th>\n",
       "      <th>Price</th>\n",
       "      <th>VehicleType</th>\n",
       "      <th>RegistrationYear</th>\n",
       "      <th>Gearbox</th>\n",
       "      <th>Power</th>\n",
       "      <th>Model</th>\n",
       "      <th>Kilometer</th>\n",
       "      <th>RegistrationMonth</th>\n",
       "      <th>FuelType</th>\n",
       "      <th>Brand</th>\n",
       "      <th>Repaired</th>\n",
       "      <th>DateCreated</th>\n",
       "      <th>PostalCode</th>\n",
       "      <th>LastSeen</th>\n",
       "    </tr>\n",
       "  </thead>\n",
       "  <tbody>\n",
       "    <tr>\n",
       "      <th>354364</th>\n",
       "      <td>2016-03-21 09:50:58</td>\n",
       "      <td>0</td>\n",
       "      <td>NaN</td>\n",
       "      <td>2005</td>\n",
       "      <td>manual</td>\n",
       "      <td>0</td>\n",
       "      <td>colt</td>\n",
       "      <td>150000</td>\n",
       "      <td>7</td>\n",
       "      <td>petrol</td>\n",
       "      <td>mitsubishi</td>\n",
       "      <td>yes</td>\n",
       "      <td>2016-03-21 00:00:00</td>\n",
       "      <td>2694</td>\n",
       "      <td>2016-03-21 10:42:49</td>\n",
       "    </tr>\n",
       "    <tr>\n",
       "      <th>354365</th>\n",
       "      <td>2016-03-14 17:48:27</td>\n",
       "      <td>2200</td>\n",
       "      <td>NaN</td>\n",
       "      <td>2005</td>\n",
       "      <td>NaN</td>\n",
       "      <td>0</td>\n",
       "      <td>NaN</td>\n",
       "      <td>20000</td>\n",
       "      <td>1</td>\n",
       "      <td>NaN</td>\n",
       "      <td>sonstige_autos</td>\n",
       "      <td>NaN</td>\n",
       "      <td>2016-03-14 00:00:00</td>\n",
       "      <td>39576</td>\n",
       "      <td>2016-04-06 00:46:52</td>\n",
       "    </tr>\n",
       "    <tr>\n",
       "      <th>354366</th>\n",
       "      <td>2016-03-05 19:56:21</td>\n",
       "      <td>1199</td>\n",
       "      <td>convertible</td>\n",
       "      <td>2000</td>\n",
       "      <td>auto</td>\n",
       "      <td>101</td>\n",
       "      <td>fortwo</td>\n",
       "      <td>125000</td>\n",
       "      <td>3</td>\n",
       "      <td>petrol</td>\n",
       "      <td>smart</td>\n",
       "      <td>no</td>\n",
       "      <td>2016-03-05 00:00:00</td>\n",
       "      <td>26135</td>\n",
       "      <td>2016-03-11 18:17:12</td>\n",
       "    </tr>\n",
       "    <tr>\n",
       "      <th>354367</th>\n",
       "      <td>2016-03-19 18:57:12</td>\n",
       "      <td>9200</td>\n",
       "      <td>bus</td>\n",
       "      <td>1996</td>\n",
       "      <td>manual</td>\n",
       "      <td>102</td>\n",
       "      <td>transporter</td>\n",
       "      <td>150000</td>\n",
       "      <td>3</td>\n",
       "      <td>gasoline</td>\n",
       "      <td>volkswagen</td>\n",
       "      <td>no</td>\n",
       "      <td>2016-03-19 00:00:00</td>\n",
       "      <td>87439</td>\n",
       "      <td>2016-04-07 07:15:26</td>\n",
       "    </tr>\n",
       "    <tr>\n",
       "      <th>354368</th>\n",
       "      <td>2016-03-20 19:41:08</td>\n",
       "      <td>3400</td>\n",
       "      <td>wagon</td>\n",
       "      <td>2002</td>\n",
       "      <td>manual</td>\n",
       "      <td>100</td>\n",
       "      <td>golf</td>\n",
       "      <td>150000</td>\n",
       "      <td>6</td>\n",
       "      <td>gasoline</td>\n",
       "      <td>volkswagen</td>\n",
       "      <td>NaN</td>\n",
       "      <td>2016-03-20 00:00:00</td>\n",
       "      <td>40764</td>\n",
       "      <td>2016-03-24 12:45:21</td>\n",
       "    </tr>\n",
       "  </tbody>\n",
       "</table>\n",
       "</div>"
      ],
      "text/plain": [
       "                DateCrawled  Price  VehicleType  RegistrationYear Gearbox  \\\n",
       "354364  2016-03-21 09:50:58      0          NaN              2005  manual   \n",
       "354365  2016-03-14 17:48:27   2200          NaN              2005     NaN   \n",
       "354366  2016-03-05 19:56:21   1199  convertible              2000    auto   \n",
       "354367  2016-03-19 18:57:12   9200          bus              1996  manual   \n",
       "354368  2016-03-20 19:41:08   3400        wagon              2002  manual   \n",
       "\n",
       "        Power        Model  Kilometer  RegistrationMonth  FuelType  \\\n",
       "354364      0         colt     150000                  7    petrol   \n",
       "354365      0          NaN      20000                  1       NaN   \n",
       "354366    101       fortwo     125000                  3    petrol   \n",
       "354367    102  transporter     150000                  3  gasoline   \n",
       "354368    100         golf     150000                  6  gasoline   \n",
       "\n",
       "                 Brand Repaired          DateCreated  PostalCode  \\\n",
       "354364      mitsubishi      yes  2016-03-21 00:00:00        2694   \n",
       "354365  sonstige_autos      NaN  2016-03-14 00:00:00       39576   \n",
       "354366           smart       no  2016-03-05 00:00:00       26135   \n",
       "354367      volkswagen       no  2016-03-19 00:00:00       87439   \n",
       "354368      volkswagen      NaN  2016-03-20 00:00:00       40764   \n",
       "\n",
       "                   LastSeen  \n",
       "354364  2016-03-21 10:42:49  \n",
       "354365  2016-04-06 00:46:52  \n",
       "354366  2016-03-11 18:17:12  \n",
       "354367  2016-04-07 07:15:26  \n",
       "354368  2016-03-24 12:45:21  "
      ]
     },
     "metadata": {},
     "output_type": "display_data"
    },
    {
     "name": "stdout",
     "output_type": "stream",
     "text": [
      "\n",
      "Размерность данных:\n"
     ]
    },
    {
     "data": {
      "text/plain": [
       "(354369, 15)"
      ]
     },
     "metadata": {},
     "output_type": "display_data"
    },
    {
     "name": "stdout",
     "output_type": "stream",
     "text": [
      "\n",
      "Информация о типах данных и пропусках:\n",
      "<class 'pandas.core.frame.DataFrame'>\n",
      "RangeIndex: 354369 entries, 0 to 354368\n",
      "Data columns (total 15 columns):\n",
      " #   Column             Non-Null Count   Dtype \n",
      "---  ------             --------------   ----- \n",
      " 0   DateCrawled        354369 non-null  object\n",
      " 1   Price              354369 non-null  int64 \n",
      " 2   VehicleType        316879 non-null  object\n",
      " 3   RegistrationYear   354369 non-null  int64 \n",
      " 4   Gearbox            334536 non-null  object\n",
      " 5   Power              354369 non-null  int64 \n",
      " 6   Model              334664 non-null  object\n",
      " 7   Kilometer          354369 non-null  int64 \n",
      " 8   RegistrationMonth  354369 non-null  int64 \n",
      " 9   FuelType           321474 non-null  object\n",
      " 10  Brand              354369 non-null  object\n",
      " 11  Repaired           283215 non-null  object\n",
      " 12  DateCreated        354369 non-null  object\n",
      " 13  PostalCode         354369 non-null  int64 \n",
      " 14  LastSeen           354369 non-null  object\n",
      "dtypes: int64(6), object(9)\n",
      "memory usage: 40.6+ MB\n"
     ]
    },
    {
     "data": {
      "text/plain": [
       "None"
      ]
     },
     "metadata": {},
     "output_type": "display_data"
    },
    {
     "name": "stdout",
     "output_type": "stream",
     "text": [
      "\n",
      "Описательная статистика:\n"
     ]
    },
    {
     "data": {
      "text/html": [
       "<div>\n",
       "<style scoped>\n",
       "    .dataframe tbody tr th:only-of-type {\n",
       "        vertical-align: middle;\n",
       "    }\n",
       "\n",
       "    .dataframe tbody tr th {\n",
       "        vertical-align: top;\n",
       "    }\n",
       "\n",
       "    .dataframe thead th {\n",
       "        text-align: right;\n",
       "    }\n",
       "</style>\n",
       "<table border=\"1\" class=\"dataframe\">\n",
       "  <thead>\n",
       "    <tr style=\"text-align: right;\">\n",
       "      <th></th>\n",
       "      <th>DateCrawled</th>\n",
       "      <th>Price</th>\n",
       "      <th>VehicleType</th>\n",
       "      <th>RegistrationYear</th>\n",
       "      <th>Gearbox</th>\n",
       "      <th>Power</th>\n",
       "      <th>Model</th>\n",
       "      <th>Kilometer</th>\n",
       "      <th>RegistrationMonth</th>\n",
       "      <th>FuelType</th>\n",
       "      <th>Brand</th>\n",
       "      <th>Repaired</th>\n",
       "      <th>DateCreated</th>\n",
       "      <th>PostalCode</th>\n",
       "      <th>LastSeen</th>\n",
       "    </tr>\n",
       "  </thead>\n",
       "  <tbody>\n",
       "    <tr>\n",
       "      <th>count</th>\n",
       "      <td>354369</td>\n",
       "      <td>354369.000000</td>\n",
       "      <td>316879</td>\n",
       "      <td>354369.000000</td>\n",
       "      <td>334536</td>\n",
       "      <td>354369.000000</td>\n",
       "      <td>334664</td>\n",
       "      <td>354369.000000</td>\n",
       "      <td>354369.000000</td>\n",
       "      <td>321474</td>\n",
       "      <td>354369</td>\n",
       "      <td>283215</td>\n",
       "      <td>354369</td>\n",
       "      <td>354369.000000</td>\n",
       "      <td>354369</td>\n",
       "    </tr>\n",
       "    <tr>\n",
       "      <th>unique</th>\n",
       "      <td>271174</td>\n",
       "      <td>NaN</td>\n",
       "      <td>8</td>\n",
       "      <td>NaN</td>\n",
       "      <td>2</td>\n",
       "      <td>NaN</td>\n",
       "      <td>250</td>\n",
       "      <td>NaN</td>\n",
       "      <td>NaN</td>\n",
       "      <td>7</td>\n",
       "      <td>40</td>\n",
       "      <td>2</td>\n",
       "      <td>109</td>\n",
       "      <td>NaN</td>\n",
       "      <td>179150</td>\n",
       "    </tr>\n",
       "    <tr>\n",
       "      <th>top</th>\n",
       "      <td>2016-03-24 14:49:47</td>\n",
       "      <td>NaN</td>\n",
       "      <td>sedan</td>\n",
       "      <td>NaN</td>\n",
       "      <td>manual</td>\n",
       "      <td>NaN</td>\n",
       "      <td>golf</td>\n",
       "      <td>NaN</td>\n",
       "      <td>NaN</td>\n",
       "      <td>petrol</td>\n",
       "      <td>volkswagen</td>\n",
       "      <td>no</td>\n",
       "      <td>2016-04-03 00:00:00</td>\n",
       "      <td>NaN</td>\n",
       "      <td>2016-04-06 13:45:54</td>\n",
       "    </tr>\n",
       "    <tr>\n",
       "      <th>freq</th>\n",
       "      <td>7</td>\n",
       "      <td>NaN</td>\n",
       "      <td>91457</td>\n",
       "      <td>NaN</td>\n",
       "      <td>268251</td>\n",
       "      <td>NaN</td>\n",
       "      <td>29232</td>\n",
       "      <td>NaN</td>\n",
       "      <td>NaN</td>\n",
       "      <td>216352</td>\n",
       "      <td>77013</td>\n",
       "      <td>247161</td>\n",
       "      <td>13719</td>\n",
       "      <td>NaN</td>\n",
       "      <td>17</td>\n",
       "    </tr>\n",
       "    <tr>\n",
       "      <th>mean</th>\n",
       "      <td>NaN</td>\n",
       "      <td>4416.656776</td>\n",
       "      <td>NaN</td>\n",
       "      <td>2004.234448</td>\n",
       "      <td>NaN</td>\n",
       "      <td>110.094337</td>\n",
       "      <td>NaN</td>\n",
       "      <td>128211.172535</td>\n",
       "      <td>5.714645</td>\n",
       "      <td>NaN</td>\n",
       "      <td>NaN</td>\n",
       "      <td>NaN</td>\n",
       "      <td>NaN</td>\n",
       "      <td>50508.689087</td>\n",
       "      <td>NaN</td>\n",
       "    </tr>\n",
       "    <tr>\n",
       "      <th>std</th>\n",
       "      <td>NaN</td>\n",
       "      <td>4514.158514</td>\n",
       "      <td>NaN</td>\n",
       "      <td>90.227958</td>\n",
       "      <td>NaN</td>\n",
       "      <td>189.850405</td>\n",
       "      <td>NaN</td>\n",
       "      <td>37905.341530</td>\n",
       "      <td>3.726421</td>\n",
       "      <td>NaN</td>\n",
       "      <td>NaN</td>\n",
       "      <td>NaN</td>\n",
       "      <td>NaN</td>\n",
       "      <td>25783.096248</td>\n",
       "      <td>NaN</td>\n",
       "    </tr>\n",
       "    <tr>\n",
       "      <th>min</th>\n",
       "      <td>NaN</td>\n",
       "      <td>0.000000</td>\n",
       "      <td>NaN</td>\n",
       "      <td>1000.000000</td>\n",
       "      <td>NaN</td>\n",
       "      <td>0.000000</td>\n",
       "      <td>NaN</td>\n",
       "      <td>5000.000000</td>\n",
       "      <td>0.000000</td>\n",
       "      <td>NaN</td>\n",
       "      <td>NaN</td>\n",
       "      <td>NaN</td>\n",
       "      <td>NaN</td>\n",
       "      <td>1067.000000</td>\n",
       "      <td>NaN</td>\n",
       "    </tr>\n",
       "    <tr>\n",
       "      <th>25%</th>\n",
       "      <td>NaN</td>\n",
       "      <td>1050.000000</td>\n",
       "      <td>NaN</td>\n",
       "      <td>1999.000000</td>\n",
       "      <td>NaN</td>\n",
       "      <td>69.000000</td>\n",
       "      <td>NaN</td>\n",
       "      <td>125000.000000</td>\n",
       "      <td>3.000000</td>\n",
       "      <td>NaN</td>\n",
       "      <td>NaN</td>\n",
       "      <td>NaN</td>\n",
       "      <td>NaN</td>\n",
       "      <td>30165.000000</td>\n",
       "      <td>NaN</td>\n",
       "    </tr>\n",
       "    <tr>\n",
       "      <th>50%</th>\n",
       "      <td>NaN</td>\n",
       "      <td>2700.000000</td>\n",
       "      <td>NaN</td>\n",
       "      <td>2003.000000</td>\n",
       "      <td>NaN</td>\n",
       "      <td>105.000000</td>\n",
       "      <td>NaN</td>\n",
       "      <td>150000.000000</td>\n",
       "      <td>6.000000</td>\n",
       "      <td>NaN</td>\n",
       "      <td>NaN</td>\n",
       "      <td>NaN</td>\n",
       "      <td>NaN</td>\n",
       "      <td>49413.000000</td>\n",
       "      <td>NaN</td>\n",
       "    </tr>\n",
       "    <tr>\n",
       "      <th>75%</th>\n",
       "      <td>NaN</td>\n",
       "      <td>6400.000000</td>\n",
       "      <td>NaN</td>\n",
       "      <td>2008.000000</td>\n",
       "      <td>NaN</td>\n",
       "      <td>143.000000</td>\n",
       "      <td>NaN</td>\n",
       "      <td>150000.000000</td>\n",
       "      <td>9.000000</td>\n",
       "      <td>NaN</td>\n",
       "      <td>NaN</td>\n",
       "      <td>NaN</td>\n",
       "      <td>NaN</td>\n",
       "      <td>71083.000000</td>\n",
       "      <td>NaN</td>\n",
       "    </tr>\n",
       "    <tr>\n",
       "      <th>max</th>\n",
       "      <td>NaN</td>\n",
       "      <td>20000.000000</td>\n",
       "      <td>NaN</td>\n",
       "      <td>9999.000000</td>\n",
       "      <td>NaN</td>\n",
       "      <td>20000.000000</td>\n",
       "      <td>NaN</td>\n",
       "      <td>150000.000000</td>\n",
       "      <td>12.000000</td>\n",
       "      <td>NaN</td>\n",
       "      <td>NaN</td>\n",
       "      <td>NaN</td>\n",
       "      <td>NaN</td>\n",
       "      <td>99998.000000</td>\n",
       "      <td>NaN</td>\n",
       "    </tr>\n",
       "  </tbody>\n",
       "</table>\n",
       "</div>"
      ],
      "text/plain": [
       "                DateCrawled          Price VehicleType  RegistrationYear  \\\n",
       "count                354369  354369.000000      316879     354369.000000   \n",
       "unique               271174            NaN           8               NaN   \n",
       "top     2016-03-24 14:49:47            NaN       sedan               NaN   \n",
       "freq                      7            NaN       91457               NaN   \n",
       "mean                    NaN    4416.656776         NaN       2004.234448   \n",
       "std                     NaN    4514.158514         NaN         90.227958   \n",
       "min                     NaN       0.000000         NaN       1000.000000   \n",
       "25%                     NaN    1050.000000         NaN       1999.000000   \n",
       "50%                     NaN    2700.000000         NaN       2003.000000   \n",
       "75%                     NaN    6400.000000         NaN       2008.000000   \n",
       "max                     NaN   20000.000000         NaN       9999.000000   \n",
       "\n",
       "       Gearbox          Power   Model      Kilometer  RegistrationMonth  \\\n",
       "count   334536  354369.000000  334664  354369.000000      354369.000000   \n",
       "unique       2            NaN     250            NaN                NaN   \n",
       "top     manual            NaN    golf            NaN                NaN   \n",
       "freq    268251            NaN   29232            NaN                NaN   \n",
       "mean       NaN     110.094337     NaN  128211.172535           5.714645   \n",
       "std        NaN     189.850405     NaN   37905.341530           3.726421   \n",
       "min        NaN       0.000000     NaN    5000.000000           0.000000   \n",
       "25%        NaN      69.000000     NaN  125000.000000           3.000000   \n",
       "50%        NaN     105.000000     NaN  150000.000000           6.000000   \n",
       "75%        NaN     143.000000     NaN  150000.000000           9.000000   \n",
       "max        NaN   20000.000000     NaN  150000.000000          12.000000   \n",
       "\n",
       "       FuelType       Brand Repaired          DateCreated     PostalCode  \\\n",
       "count    321474      354369   283215               354369  354369.000000   \n",
       "unique        7          40        2                  109            NaN   \n",
       "top      petrol  volkswagen       no  2016-04-03 00:00:00            NaN   \n",
       "freq     216352       77013   247161                13719            NaN   \n",
       "mean        NaN         NaN      NaN                  NaN   50508.689087   \n",
       "std         NaN         NaN      NaN                  NaN   25783.096248   \n",
       "min         NaN         NaN      NaN                  NaN    1067.000000   \n",
       "25%         NaN         NaN      NaN                  NaN   30165.000000   \n",
       "50%         NaN         NaN      NaN                  NaN   49413.000000   \n",
       "75%         NaN         NaN      NaN                  NaN   71083.000000   \n",
       "max         NaN         NaN      NaN                  NaN   99998.000000   \n",
       "\n",
       "                   LastSeen  \n",
       "count                354369  \n",
       "unique               179150  \n",
       "top     2016-04-06 13:45:54  \n",
       "freq                     17  \n",
       "mean                    NaN  \n",
       "std                     NaN  \n",
       "min                     NaN  \n",
       "25%                     NaN  \n",
       "50%                     NaN  \n",
       "75%                     NaN  \n",
       "max                     NaN  "
      ]
     },
     "metadata": {},
     "output_type": "display_data"
    },
    {
     "name": "stdout",
     "output_type": "stream",
     "text": [
      "========================================\n",
      "\n",
      "Пропуски (количество и доля):\n",
      "             total   percent\n",
      "Repaired     71154  0.200791\n",
      "VehicleType  37490  0.105794\n",
      "FuelType     32895  0.092827\n",
      "Gearbox      19833  0.055967\n",
      "Model        19705  0.055606\n",
      "========================================\n",
      "\n",
      "Обнаружено 4 дубликатов в данных.\n",
      "\n",
      "Дубликаты:\n"
     ]
    },
    {
     "data": {
      "text/html": [
       "<div>\n",
       "<style scoped>\n",
       "    .dataframe tbody tr th:only-of-type {\n",
       "        vertical-align: middle;\n",
       "    }\n",
       "\n",
       "    .dataframe tbody tr th {\n",
       "        vertical-align: top;\n",
       "    }\n",
       "\n",
       "    .dataframe thead th {\n",
       "        text-align: right;\n",
       "    }\n",
       "</style>\n",
       "<table border=\"1\" class=\"dataframe\">\n",
       "  <thead>\n",
       "    <tr style=\"text-align: right;\">\n",
       "      <th></th>\n",
       "      <th>DateCrawled</th>\n",
       "      <th>Price</th>\n",
       "      <th>VehicleType</th>\n",
       "      <th>RegistrationYear</th>\n",
       "      <th>Gearbox</th>\n",
       "      <th>Power</th>\n",
       "      <th>Model</th>\n",
       "      <th>Kilometer</th>\n",
       "      <th>RegistrationMonth</th>\n",
       "      <th>FuelType</th>\n",
       "      <th>Brand</th>\n",
       "      <th>Repaired</th>\n",
       "      <th>DateCreated</th>\n",
       "      <th>PostalCode</th>\n",
       "      <th>LastSeen</th>\n",
       "    </tr>\n",
       "  </thead>\n",
       "  <tbody>\n",
       "    <tr>\n",
       "      <th>171088</th>\n",
       "      <td>2016-03-08 18:42:48</td>\n",
       "      <td>1799</td>\n",
       "      <td>coupe</td>\n",
       "      <td>1999</td>\n",
       "      <td>auto</td>\n",
       "      <td>193</td>\n",
       "      <td>clk</td>\n",
       "      <td>20000</td>\n",
       "      <td>7</td>\n",
       "      <td>petrol</td>\n",
       "      <td>mercedes_benz</td>\n",
       "      <td>no</td>\n",
       "      <td>2016-03-08 00:00:00</td>\n",
       "      <td>89518</td>\n",
       "      <td>2016-03-09 09:46:57</td>\n",
       "    </tr>\n",
       "    <tr>\n",
       "      <th>231258</th>\n",
       "      <td>2016-03-28 00:56:10</td>\n",
       "      <td>1000</td>\n",
       "      <td>small</td>\n",
       "      <td>2002</td>\n",
       "      <td>manual</td>\n",
       "      <td>83</td>\n",
       "      <td>other</td>\n",
       "      <td>150000</td>\n",
       "      <td>1</td>\n",
       "      <td>petrol</td>\n",
       "      <td>suzuki</td>\n",
       "      <td>no</td>\n",
       "      <td>2016-03-28 00:00:00</td>\n",
       "      <td>66589</td>\n",
       "      <td>2016-03-28 08:46:21</td>\n",
       "    </tr>\n",
       "    <tr>\n",
       "      <th>258109</th>\n",
       "      <td>2016-04-03 09:01:15</td>\n",
       "      <td>4699</td>\n",
       "      <td>coupe</td>\n",
       "      <td>2003</td>\n",
       "      <td>auto</td>\n",
       "      <td>218</td>\n",
       "      <td>clk</td>\n",
       "      <td>125000</td>\n",
       "      <td>6</td>\n",
       "      <td>petrol</td>\n",
       "      <td>mercedes_benz</td>\n",
       "      <td>yes</td>\n",
       "      <td>2016-04-03 00:00:00</td>\n",
       "      <td>75196</td>\n",
       "      <td>2016-04-07 09:44:54</td>\n",
       "    </tr>\n",
       "    <tr>\n",
       "      <th>325651</th>\n",
       "      <td>2016-03-18 18:46:15</td>\n",
       "      <td>1999</td>\n",
       "      <td>wagon</td>\n",
       "      <td>2001</td>\n",
       "      <td>manual</td>\n",
       "      <td>131</td>\n",
       "      <td>passat</td>\n",
       "      <td>150000</td>\n",
       "      <td>7</td>\n",
       "      <td>gasoline</td>\n",
       "      <td>volkswagen</td>\n",
       "      <td>no</td>\n",
       "      <td>2016-03-18 00:00:00</td>\n",
       "      <td>36391</td>\n",
       "      <td>2016-03-18 18:46:15</td>\n",
       "    </tr>\n",
       "  </tbody>\n",
       "</table>\n",
       "</div>"
      ],
      "text/plain": [
       "                DateCrawled  Price VehicleType  RegistrationYear Gearbox  \\\n",
       "171088  2016-03-08 18:42:48   1799       coupe              1999    auto   \n",
       "231258  2016-03-28 00:56:10   1000       small              2002  manual   \n",
       "258109  2016-04-03 09:01:15   4699       coupe              2003    auto   \n",
       "325651  2016-03-18 18:46:15   1999       wagon              2001  manual   \n",
       "\n",
       "        Power   Model  Kilometer  RegistrationMonth  FuelType          Brand  \\\n",
       "171088    193     clk      20000                  7    petrol  mercedes_benz   \n",
       "231258     83   other     150000                  1    petrol         suzuki   \n",
       "258109    218     clk     125000                  6    petrol  mercedes_benz   \n",
       "325651    131  passat     150000                  7  gasoline     volkswagen   \n",
       "\n",
       "       Repaired          DateCreated  PostalCode             LastSeen  \n",
       "171088       no  2016-03-08 00:00:00       89518  2016-03-09 09:46:57  \n",
       "231258       no  2016-03-28 00:00:00       66589  2016-03-28 08:46:21  \n",
       "258109      yes  2016-04-03 00:00:00       75196  2016-04-07 09:44:54  \n",
       "325651       no  2016-03-18 00:00:00       36391  2016-03-18 18:46:15  "
      ]
     },
     "metadata": {},
     "output_type": "display_data"
    },
    {
     "name": "stdout",
     "output_type": "stream",
     "text": [
      "========================================\n",
      "\n",
      "Графики распределения для количественных непрерывных столбцов (гистограммы):\n"
     ]
    },
    {
     "data": {
      "image/png": "[encoded data removed]",
      "text/plain": [
       "<Figure size 1080x576 with 6 Axes>"
      ]
     },
     "metadata": {
      "needs_background": "light"
     },
     "output_type": "display_data"
    },
    {
     "name": "stdout",
     "output_type": "stream",
     "text": [
      "========================================\n",
      "\n",
      "Анализ категориальных столбцов:\n",
      "--------------------\n",
      "\n",
      "Столбец: DateCrawled\n",
      "Значения, встречающиеся 2 раза и больше:\n",
      "2016-03-24 14:49:47    7\n",
      "2016-03-26 22:57:31    6\n",
      "2016-03-19 21:49:56    6\n",
      "2016-03-31 17:57:07    5\n",
      "2016-03-11 15:36:59    5\n",
      "                      ..\n",
      "2016-03-17 12:47:54    2\n",
      "2016-03-22 12:55:37    2\n",
      "2016-03-15 10:49:02    2\n",
      "2016-03-10 12:52:13    2\n",
      "2016-03-28 19:51:15    2\n",
      "Name: DateCrawled, Length: 76431, dtype: int64\n",
      "Количество таких значений: 76431\n",
      "Процент категории \"2016-03-24 14:49:47\": 0.00%\n",
      "Процент категории \"2016-03-26 22:57:31\": 0.00%\n",
      "--------------------\n",
      "\n",
      "Столбец: VehicleType\n",
      "Все уникальные значения:\n",
      "sedan          91457\n",
      "small          79831\n",
      "wagon          65166\n",
      "bus            28775\n",
      "convertible    20203\n",
      "coupe          16163\n",
      "suv            11996\n",
      "other           3288\n",
      "Name: VehicleType, dtype: int64\n",
      "Количество уникальных значений: 8\n",
      "Процент категории \"sedan\": 25.81%\n",
      "Процент категории \"small\": 22.53%\n",
      "--------------------\n",
      "\n",
      "Столбец: Gearbox\n",
      "Все уникальные значения:\n",
      "manual    268251\n",
      "auto       66285\n",
      "Name: Gearbox, dtype: int64\n",
      "Количество уникальных значений: 2\n",
      "Процент категории \"manual\": 75.70%\n",
      "Процент категории \"auto\": 18.71%\n",
      "--------------------\n",
      "\n",
      "Столбец: Model\n",
      "Значения, встречающиеся 2 раза и больше:\n",
      "golf                  29232\n",
      "other                 24421\n",
      "3er                   19761\n",
      "polo                  13066\n",
      "corsa                 12570\n",
      "                      ...  \n",
      "serie_2                   8\n",
      "rangerover                4\n",
      "serie_3                   4\n",
      "serie_1                   2\n",
      "range_rover_evoque        2\n",
      "Name: Model, Length: 250, dtype: int64\n",
      "Количество таких значений: 250\n",
      "Процент категории \"golf\": 8.25%\n",
      "Процент категории \"other\": 6.89%\n",
      "--------------------\n",
      "\n",
      "Столбец: FuelType\n",
      "Все уникальные значения:\n",
      "petrol      216352\n",
      "gasoline     98720\n",
      "lpg           5310\n",
      "cng            565\n",
      "hybrid         233\n",
      "other          204\n",
      "electric        90\n",
      "Name: FuelType, dtype: int64\n",
      "Количество уникальных значений: 7\n",
      "Процент категории \"petrol\": 61.05%\n",
      "Процент категории \"gasoline\": 27.86%\n",
      "--------------------\n",
      "\n",
      "Столбец: Brand\n",
      "Значения, встречающиеся 2 раза и больше:\n",
      "volkswagen        77013\n",
      "opel              39931\n",
      "bmw               36914\n",
      "mercedes_benz     32046\n",
      "audi              29456\n",
      "ford              25179\n",
      "renault           17927\n",
      "peugeot           10998\n",
      "fiat               9643\n",
      "seat               6907\n",
      "mazda              5615\n",
      "skoda              5500\n",
      "smart              5246\n",
      "citroen            5148\n",
      "nissan             4941\n",
      "toyota             4606\n",
      "hyundai            3587\n",
      "sonstige_autos     3374\n",
      "volvo              3210\n",
      "mini               3202\n",
      "mitsubishi         3022\n",
      "honda              2817\n",
      "kia                2465\n",
      "suzuki             2323\n",
      "alfa_romeo         2314\n",
      "chevrolet          1754\n",
      "chrysler           1439\n",
      "dacia               900\n",
      "daihatsu            806\n",
      "subaru              762\n",
      "porsche             758\n",
      "jeep                677\n",
      "trabant             589\n",
      "land_rover          545\n",
      "daewoo              542\n",
      "saab                526\n",
      "jaguar              505\n",
      "rover               486\n",
      "lancia              471\n",
      "lada                225\n",
      "Name: Brand, dtype: int64\n",
      "Количество таких значений: 40\n",
      "Процент категории \"volkswagen\": 21.73%\n",
      "Процент категории \"opel\": 11.27%\n",
      "--------------------\n",
      "\n",
      "Столбец: Repaired\n",
      "Все уникальные значения:\n",
      "no     247161\n",
      "yes     36054\n",
      "Name: Repaired, dtype: int64\n",
      "Количество уникальных значений: 2\n",
      "Процент категории \"no\": 69.75%\n",
      "Процент категории \"yes\": 10.17%\n",
      "--------------------\n",
      "\n",
      "Столбец: DateCreated\n",
      "Значения, встречающиеся 2 раза и больше:\n",
      "2016-04-03 00:00:00    13719\n",
      "2016-04-04 00:00:00    13317\n",
      "2016-03-20 00:00:00    12918\n",
      "2016-03-12 00:00:00    12840\n",
      "2016-03-21 00:00:00    12691\n",
      "                       ...  \n",
      "2016-01-20 00:00:00        2\n",
      "2016-02-08 00:00:00        2\n",
      "2016-01-22 00:00:00        2\n",
      "2016-02-04 00:00:00        2\n",
      "2016-01-24 00:00:00        2\n",
      "Name: DateCreated, Length: 89, dtype: int64\n",
      "Количество таких значений: 89\n",
      "Процент категории \"2016-04-03 00:00:00\": 3.87%\n",
      "Процент категории \"2016-04-04 00:00:00\": 3.76%\n",
      "--------------------\n",
      "\n",
      "Столбец: LastSeen\n",
      "Значения, встречающиеся 2 раза и больше:\n",
      "2016-04-06 13:45:54    17\n",
      "2016-04-06 09:17:58    16\n",
      "2016-04-06 09:46:00    16\n",
      "2016-04-07 05:44:30    16\n",
      "2016-04-06 04:15:59    16\n",
      "                       ..\n",
      "2016-04-06 01:49:56     2\n",
      "2016-03-21 07:15:59     2\n",
      "2016-03-14 10:18:39     2\n",
      "2016-03-15 12:46:07     2\n",
      "2016-04-01 05:45:32     2\n",
      "Name: LastSeen, Length: 49735, dtype: int64\n",
      "Количество таких значений: 49735\n",
      "Процент категории \"2016-04-06 13:45:54\": 0.00%\n",
      "Процент категории \"2016-04-06 09:17:58\": 0.00%\n"
     ]
    }
   ],
   "source": [
    "check_data(df)"
   ]
  },
  {
   "cell_type": "markdown",
   "metadata": {
    "id": "E1UBFW6i5BY1"
   },
   "source": [
    "- **VehicleType** - 8 уникальных значений, распределение достаточно разнообразное. Основные типы: sedan (26%) - 91457, small (23%) - 79831, wagon, bus, convertible, coupe, suv, other.\n",
    "\n",
    "- **Gearbox** - 2 уникальных значения: manual (75%) - 268251, auto (19%) - 66285.\n",
    "\n",
    "- **Model** - 250 уникальных значений, каждое встречается минимум 2 раза. Большое разнообразие моделей, с явным доминированием нескольких популярных (golf (8%) - 29232, other - 24421, 3er - 19761, polo - polo, corsa - 12570).\n",
    "\n",
    "- **FuelType** - 7 уникальных значений. Основные: petrol - 216352, gasoline - 98720, lpg - 5310, cng, hybrid, other, electric.\n",
    "\n",
    "- **Brand** - 40 уникальных значений с разной частотой. Доминируют volkswagen (22%) - 77013, opel - 39931, bmw - 36914, mercedes-benz, audi и др.\n",
    "\n",
    "- **Repaired** - 2 уникальных значения: no (70%) - 247161 и yes - 36054."
   ]
  },
  {
   "cell_type": "markdown",
   "metadata": {
    "id": "8Qyqofpi5BY2"
   },
   "source": [
    "Приведем названия признаков к змеиному регистру."
   ]
  },
  {
   "cell_type": "code",
   "execution_count": null,
   "metadata": {
    "id": "7KJrJ8gG5BY2"
   },
   "outputs": [],
   "source": [
    "def snake(s):\n",
    "    return ''.join(['_' + c.lower() if c.isupper() else c for c in s]).lstrip('_')"
   ]
  },
  {
   "cell_type": "code",
   "execution_count": null,
   "metadata": {
    "id": "KWWUMIL75BY3"
   },
   "outputs": [],
   "source": [
    "df.columns = [snake(col) for col in df.columns]"
   ]
  },
  {
   "cell_type": "markdown",
   "metadata": {
    "id": "zS8-QswW5BY3"
   },
   "source": [
    "Отобразим строки помеченные как дубликаты и новые название столбцов/"
   ]
  },
  {
   "cell_type": "code",
   "execution_count": null,
   "metadata": {
    "id": "vpE5BpwI5BY4",
    "outputId": "00365eca-2c03-46fd-b94f-19c9acb6c7ac",
    "scrolled": true
   },
   "outputs": [
    {
     "data": {
      "text/html": [
       "<div>\n",
       "<style scoped>\n",
       "    .dataframe tbody tr th:only-of-type {\n",
       "        vertical-align: middle;\n",
       "    }\n",
       "\n",
       "    .dataframe tbody tr th {\n",
       "        vertical-align: top;\n",
       "    }\n",
       "\n",
       "    .dataframe thead th {\n",
       "        text-align: right;\n",
       "    }\n",
       "</style>\n",
       "<table border=\"1\" class=\"dataframe\">\n",
       "  <thead>\n",
       "    <tr style=\"text-align: right;\">\n",
       "      <th></th>\n",
       "      <th>date_crawled</th>\n",
       "      <th>price</th>\n",
       "      <th>vehicle_type</th>\n",
       "      <th>registration_year</th>\n",
       "      <th>gearbox</th>\n",
       "      <th>power</th>\n",
       "      <th>model</th>\n",
       "      <th>kilometer</th>\n",
       "      <th>registration_month</th>\n",
       "      <th>fuel_type</th>\n",
       "      <th>brand</th>\n",
       "      <th>repaired</th>\n",
       "      <th>date_created</th>\n",
       "      <th>postal_code</th>\n",
       "      <th>last_seen</th>\n",
       "    </tr>\n",
       "  </thead>\n",
       "  <tbody>\n",
       "    <tr>\n",
       "      <th>90964</th>\n",
       "      <td>2016-03-28 00:56:10</td>\n",
       "      <td>1000</td>\n",
       "      <td>small</td>\n",
       "      <td>2002</td>\n",
       "      <td>manual</td>\n",
       "      <td>83</td>\n",
       "      <td>other</td>\n",
       "      <td>150000</td>\n",
       "      <td>1</td>\n",
       "      <td>petrol</td>\n",
       "      <td>suzuki</td>\n",
       "      <td>no</td>\n",
       "      <td>2016-03-28 00:00:00</td>\n",
       "      <td>66589</td>\n",
       "      <td>2016-03-28 08:46:21</td>\n",
       "    </tr>\n",
       "    <tr>\n",
       "      <th>231258</th>\n",
       "      <td>2016-03-28 00:56:10</td>\n",
       "      <td>1000</td>\n",
       "      <td>small</td>\n",
       "      <td>2002</td>\n",
       "      <td>manual</td>\n",
       "      <td>83</td>\n",
       "      <td>other</td>\n",
       "      <td>150000</td>\n",
       "      <td>1</td>\n",
       "      <td>petrol</td>\n",
       "      <td>suzuki</td>\n",
       "      <td>no</td>\n",
       "      <td>2016-03-28 00:00:00</td>\n",
       "      <td>66589</td>\n",
       "      <td>2016-03-28 08:46:21</td>\n",
       "    </tr>\n",
       "    <tr>\n",
       "      <th>88087</th>\n",
       "      <td>2016-03-08 18:42:48</td>\n",
       "      <td>1799</td>\n",
       "      <td>coupe</td>\n",
       "      <td>1999</td>\n",
       "      <td>auto</td>\n",
       "      <td>193</td>\n",
       "      <td>clk</td>\n",
       "      <td>20000</td>\n",
       "      <td>7</td>\n",
       "      <td>petrol</td>\n",
       "      <td>mercedes_benz</td>\n",
       "      <td>no</td>\n",
       "      <td>2016-03-08 00:00:00</td>\n",
       "      <td>89518</td>\n",
       "      <td>2016-03-09 09:46:57</td>\n",
       "    </tr>\n",
       "    <tr>\n",
       "      <th>171088</th>\n",
       "      <td>2016-03-08 18:42:48</td>\n",
       "      <td>1799</td>\n",
       "      <td>coupe</td>\n",
       "      <td>1999</td>\n",
       "      <td>auto</td>\n",
       "      <td>193</td>\n",
       "      <td>clk</td>\n",
       "      <td>20000</td>\n",
       "      <td>7</td>\n",
       "      <td>petrol</td>\n",
       "      <td>mercedes_benz</td>\n",
       "      <td>no</td>\n",
       "      <td>2016-03-08 00:00:00</td>\n",
       "      <td>89518</td>\n",
       "      <td>2016-03-09 09:46:57</td>\n",
       "    </tr>\n",
       "    <tr>\n",
       "      <th>41529</th>\n",
       "      <td>2016-03-18 18:46:15</td>\n",
       "      <td>1999</td>\n",
       "      <td>wagon</td>\n",
       "      <td>2001</td>\n",
       "      <td>manual</td>\n",
       "      <td>131</td>\n",
       "      <td>passat</td>\n",
       "      <td>150000</td>\n",
       "      <td>7</td>\n",
       "      <td>gasoline</td>\n",
       "      <td>volkswagen</td>\n",
       "      <td>no</td>\n",
       "      <td>2016-03-18 00:00:00</td>\n",
       "      <td>36391</td>\n",
       "      <td>2016-03-18 18:46:15</td>\n",
       "    </tr>\n",
       "    <tr>\n",
       "      <th>325651</th>\n",
       "      <td>2016-03-18 18:46:15</td>\n",
       "      <td>1999</td>\n",
       "      <td>wagon</td>\n",
       "      <td>2001</td>\n",
       "      <td>manual</td>\n",
       "      <td>131</td>\n",
       "      <td>passat</td>\n",
       "      <td>150000</td>\n",
       "      <td>7</td>\n",
       "      <td>gasoline</td>\n",
       "      <td>volkswagen</td>\n",
       "      <td>no</td>\n",
       "      <td>2016-03-18 00:00:00</td>\n",
       "      <td>36391</td>\n",
       "      <td>2016-03-18 18:46:15</td>\n",
       "    </tr>\n",
       "    <tr>\n",
       "      <th>187735</th>\n",
       "      <td>2016-04-03 09:01:15</td>\n",
       "      <td>4699</td>\n",
       "      <td>coupe</td>\n",
       "      <td>2003</td>\n",
       "      <td>auto</td>\n",
       "      <td>218</td>\n",
       "      <td>clk</td>\n",
       "      <td>125000</td>\n",
       "      <td>6</td>\n",
       "      <td>petrol</td>\n",
       "      <td>mercedes_benz</td>\n",
       "      <td>yes</td>\n",
       "      <td>2016-04-03 00:00:00</td>\n",
       "      <td>75196</td>\n",
       "      <td>2016-04-07 09:44:54</td>\n",
       "    </tr>\n",
       "    <tr>\n",
       "      <th>258109</th>\n",
       "      <td>2016-04-03 09:01:15</td>\n",
       "      <td>4699</td>\n",
       "      <td>coupe</td>\n",
       "      <td>2003</td>\n",
       "      <td>auto</td>\n",
       "      <td>218</td>\n",
       "      <td>clk</td>\n",
       "      <td>125000</td>\n",
       "      <td>6</td>\n",
       "      <td>petrol</td>\n",
       "      <td>mercedes_benz</td>\n",
       "      <td>yes</td>\n",
       "      <td>2016-04-03 00:00:00</td>\n",
       "      <td>75196</td>\n",
       "      <td>2016-04-07 09:44:54</td>\n",
       "    </tr>\n",
       "  </tbody>\n",
       "</table>\n",
       "</div>"
      ],
      "text/plain": [
       "               date_crawled  price vehicle_type  registration_year gearbox  \\\n",
       "90964   2016-03-28 00:56:10   1000        small               2002  manual   \n",
       "231258  2016-03-28 00:56:10   1000        small               2002  manual   \n",
       "88087   2016-03-08 18:42:48   1799        coupe               1999    auto   \n",
       "171088  2016-03-08 18:42:48   1799        coupe               1999    auto   \n",
       "41529   2016-03-18 18:46:15   1999        wagon               2001  manual   \n",
       "325651  2016-03-18 18:46:15   1999        wagon               2001  manual   \n",
       "187735  2016-04-03 09:01:15   4699        coupe               2003    auto   \n",
       "258109  2016-04-03 09:01:15   4699        coupe               2003    auto   \n",
       "\n",
       "        power   model  kilometer  registration_month fuel_type          brand  \\\n",
       "90964      83   other     150000                   1    petrol         suzuki   \n",
       "231258     83   other     150000                   1    petrol         suzuki   \n",
       "88087     193     clk      20000                   7    petrol  mercedes_benz   \n",
       "171088    193     clk      20000                   7    petrol  mercedes_benz   \n",
       "41529     131  passat     150000                   7  gasoline     volkswagen   \n",
       "325651    131  passat     150000                   7  gasoline     volkswagen   \n",
       "187735    218     clk     125000                   6    petrol  mercedes_benz   \n",
       "258109    218     clk     125000                   6    petrol  mercedes_benz   \n",
       "\n",
       "       repaired         date_created  postal_code            last_seen  \n",
       "90964        no  2016-03-28 00:00:00        66589  2016-03-28 08:46:21  \n",
       "231258       no  2016-03-28 00:00:00        66589  2016-03-28 08:46:21  \n",
       "88087        no  2016-03-08 00:00:00        89518  2016-03-09 09:46:57  \n",
       "171088       no  2016-03-08 00:00:00        89518  2016-03-09 09:46:57  \n",
       "41529        no  2016-03-18 00:00:00        36391  2016-03-18 18:46:15  \n",
       "325651       no  2016-03-18 00:00:00        36391  2016-03-18 18:46:15  \n",
       "187735      yes  2016-04-03 00:00:00        75196  2016-04-07 09:44:54  \n",
       "258109      yes  2016-04-03 00:00:00        75196  2016-04-07 09:44:54  "
      ]
     },
     "metadata": {},
     "output_type": "display_data"
    }
   ],
   "source": [
    "display(df[df.duplicated(keep=False)].sort_values('price'))"
   ]
  },
  {
   "cell_type": "code",
   "execution_count": null,
   "metadata": {
    "id": "O5qQh5vc5BY5"
   },
   "outputs": [],
   "source": [
    "# Удалим дубликаты\n",
    "df.drop_duplicates(keep='first', inplace=True)"
   ]
  },
  {
   "cell_type": "markdown",
   "metadata": {
    "id": "mT0nyMVB5BY5"
   },
   "source": [
    "Неявных дубликатов обнаружено не было."
   ]
  },
  {
   "cell_type": "markdown",
   "metadata": {
    "id": "fxDagKdJ5BY6"
   },
   "source": [
    "Изменим тип данных в столбцах `DateCrawled`, `DateCreated`, `LastSeen`."
   ]
  },
  {
   "cell_type": "code",
   "execution_count": null,
   "metadata": {
    "id": "DX_mDMaX5BY6"
   },
   "outputs": [],
   "source": [
    "df['date_crawled'] = pd.to_datetime(df['date_crawled'])\n",
    "df['date_created'] = pd.to_datetime(df['date_created'])\n",
    "df['last_seen'] = pd.to_datetime(df['last_seen'])"
   ]
  },
  {
   "cell_type": "code",
   "execution_count": null,
   "metadata": {
    "id": "HZ1XHvWj5BY7",
    "outputId": "0fe7417a-a721-49a6-a64b-873e68a299e2"
   },
   "outputs": [
    {
     "data": {
      "text/plain": [
       "Timestamp('2016-03-05 14:06:22')"
      ]
     },
     "execution_count": 14,
     "metadata": {},
     "output_type": "execute_result"
    }
   ],
   "source": [
    "df['date_crawled'].min()"
   ]
  },
  {
   "cell_type": "markdown",
   "metadata": {
    "id": "cDVjfV-c5BY8"
   },
   "source": [
    "Пропуски в столбцах `gearbox` и `model` незначительны,  заменим пропущенные значения модой."
   ]
  },
  {
   "cell_type": "code",
   "execution_count": null,
   "metadata": {
    "id": "AxeI38q_5BY8"
   },
   "outputs": [],
   "source": [
    "df['gearbox'].fillna(df['gearbox'].mode()[0], inplace=True)\n",
    "df['model'].fillna(df['model'].mode()[0], inplace=True)"
   ]
  },
  {
   "cell_type": "markdown",
   "metadata": {
    "id": "OkmVmCYo5BY8"
   },
   "source": [
    "Пропуски в категориальных признаках `repaired`, `vehicle_type`, `fuel_type` заменим категориальным значением `unknown`."
   ]
  },
  {
   "cell_type": "code",
   "execution_count": null,
   "metadata": {
    "id": "EMqcrUmh5BY9"
   },
   "outputs": [],
   "source": [
    "categorical_features = ['repaired', 'vehicle_type', 'fuel_type']\n",
    "for feature in categorical_features:\n",
    "    df[feature].fillna('unknown', inplace=True)"
   ]
  },
  {
   "cell_type": "code",
   "execution_count": null,
   "metadata": {
    "id": "VhFZIqEZ5BY9",
    "outputId": "30add1f8-461f-4cb8-ee69-abf666530a35"
   },
   "outputs": [
    {
     "name": "stdout",
     "output_type": "stream",
     "text": [
      "date_crawled          0\n",
      "price                 0\n",
      "vehicle_type          0\n",
      "registration_year     0\n",
      "gearbox               0\n",
      "power                 0\n",
      "model                 0\n",
      "kilometer             0\n",
      "registration_month    0\n",
      "fuel_type             0\n",
      "brand                 0\n",
      "repaired              0\n",
      "date_created          0\n",
      "postal_code           0\n",
      "last_seen             0\n",
      "dtype: int64\n"
     ]
    }
   ],
   "source": [
    "# Проверка оставшихся пропусков\n",
    "print(df.isnull().sum())"
   ]
  },
  {
   "cell_type": "markdown",
   "metadata": {
    "id": "4skrqxyZ5BY-"
   },
   "source": [
    "Обработаем аномальные значения обнаруженные при первичном анализе в столбцах `price`, `registration_year` и `power`."
   ]
  },
  {
   "cell_type": "code",
   "execution_count": null,
   "metadata": {
    "id": "3yihNYPj5BZD"
   },
   "outputs": [],
   "source": [
    "# Устанавливаем верхнюю границу года регистрации\n",
    "df['max_registration_year'] = df['date_created'].dt.year\n",
    "\n",
    "df = df[\n",
    "    (df['price'] >= 10) &\n",
    "    (df['registration_year'] >= 1980) &\n",
    "    (df['registration_year'] <= df['max_registration_year']) &\n",
    "    (\n",
    "        (df['registration_year'] < df['max_registration_year']) |\n",
    "        ((df['registration_year'] == df['max_registration_year']) &\n",
    "         (df['registration_month'] <= df['date_created'].dt.month))\n",
    "    ) &\n",
    "    (df['power'] > 0) &\n",
    "    (df['power'] <= 2000)\n",
    "]\n",
    "\n",
    "# Удаляем временный столбец\n",
    "df.drop(columns=['max_registration_year'], inplace=True)"
   ]
  },
  {
   "cell_type": "markdown",
   "metadata": {
    "id": "oOTVcOet5BZD"
   },
   "source": [
    "Ограничиваем год регистрации автомобиля годом создания объявления. Автомобиль не может быть зарегистрирован в будущем относительно даты создания объявления."
   ]
  },
  {
   "cell_type": "markdown",
   "metadata": {
    "id": "gxo1ZmCP5BZF"
   },
   "source": [
    "Изучим признаки подробнее в иследовательском анализе данных"
   ]
  },
  {
   "cell_type": "markdown",
   "metadata": {
    "id": "v4tlHeLc5BZF"
   },
   "source": [
    "Признаки `date_crawled`, `last_seen`, `date_created`, `postal_code`, `registration_month`(год является более значимым) являются неинформативными для оценки стоимости, так как не связаны с характеристиками самого автомобиля. Данные признаки решено удалить."
   ]
  },
  {
   "cell_type": "code",
   "execution_count": null,
   "metadata": {
    "id": "2NjkzD9a5BZG"
   },
   "outputs": [],
   "source": [
    "df = df.drop(columns=['date_crawled', 'last_seen', 'date_created', 'postal_code', 'registration_month'], axis=1)"
   ]
  },
  {
   "cell_type": "markdown",
   "metadata": {
    "id": "lqZyH5885BZG"
   },
   "source": [
    "### <u>Исследовательский анализ данных</u>"
   ]
  },
  {
   "cell_type": "code",
   "execution_count": null,
   "metadata": {
    "id": "2R3n6KxS5BZG"
   },
   "outputs": [],
   "source": [
    "# Функция для исследовательского анализа числовых признаков\n",
    "def number_columns(data, column, bins=50):\n",
    "\n",
    "    # Описательная статистика\n",
    "    description = data[column].describe()\n",
    "    print(f\"\\n=== Описательная статистика для '{column}' ===\")\n",
    "    print(description)\n",
    "\n",
    "    # Проверка на выбросы с использованием IQR\n",
    "    Q1 = data[column].quantile(0.25)\n",
    "    Q3 = data[column].quantile(0.75)\n",
    "    IQR = Q3 - Q1\n",
    "    lower_bound = Q1 - 1.5 * IQR\n",
    "    upper_bound = Q3 + 1.5 * IQR\n",
    "\n",
    "    outliers = data[(data[column] < lower_bound) | (data[column] > upper_bound)]\n",
    "    print(f\"\\nКоличество выбросов в '{column}': {len(outliers)}\")\n",
    "\n",
    "    # Построение гистограммы и boxplot\n",
    "    fig, ax = plt.subplots(1, 2, figsize=(15, 6))\n",
    "\n",
    "    sns.histplot(x=data[column], kde=True, ax=ax[0], bins=bins, color='skyblue')\n",
    "    ax[0].set_title(f'Гистограмма для {column}')\n",
    "    ax[0].set_xlabel(column)\n",
    "    ax[0].set_ylabel('Частота')\n",
    "\n",
    "    sns.boxplot(x=data[column], ax=ax[1], color='lightgreen')\n",
    "    ax[1].set_title(f'Boxplot для {column}')\n",
    "    ax[1].set_xlabel(column)\n",
    "\n",
    "    plt.tight_layout()\n",
    "    plt.show()"
   ]
  },
  {
   "cell_type": "code",
   "execution_count": null,
   "metadata": {
    "id": "7h2436sM5BZH",
    "outputId": "163587c3-4faa-4163-ffb7-db73e13c647a"
   },
   "outputs": [
    {
     "name": "stdout",
     "output_type": "stream",
     "text": [
      "\n",
      "=== Описательная статистика для 'price' ===\n",
      "count    290176.000000\n",
      "mean       4867.620327\n",
      "std        4604.601669\n",
      "min          10.000000\n",
      "25%        1350.000000\n",
      "50%        3200.000000\n",
      "75%        6999.000000\n",
      "max       20000.000000\n",
      "Name: price, dtype: float64\n",
      "\n",
      "Количество выбросов в 'price': 13360\n"
     ]
    },
    {
     "data": {
      "image/png": "[encoded data removed]",
      "text/plain": [
       "<Figure size 1080x432 with 2 Axes>"
      ]
     },
     "metadata": {
      "needs_background": "light"
     },
     "output_type": "display_data"
    }
   ],
   "source": [
    "number_columns(df, 'price')"
   ]
  },
  {
   "cell_type": "code",
   "execution_count": null,
   "metadata": {
    "id": "YAzURzVH5BZI",
    "outputId": "3d9e1aff-07d4-423f-fac8-6380ff84af90"
   },
   "outputs": [
    {
     "name": "stdout",
     "output_type": "stream",
     "text": [
      "Процент выбросов: 4.85%\n"
     ]
    }
   ],
   "source": [
    "print(f'Процент выбросов: {14067 / df.shape[0] * 100:.2f}%')"
   ]
  },
  {
   "cell_type": "markdown",
   "metadata": {
    "id": "NeTjJafX5BZJ"
   },
   "source": [
    "После удаления части объектов в признаке `price` видим, что распределение переменной смещено вправо, большинство значений — относительно небольшие, но есть значительное количество высоких цен, которые считаются выбросами доходящие до 20000 евро. Медиана признака `price` равна 3130 евро, а средняя 4822. Процент выбросов в признаке 4.59% (решено оставить)."
   ]
  },
  {
   "cell_type": "code",
   "execution_count": null,
   "metadata": {
    "id": "vz0rKFP95BZK",
    "outputId": "fa4f71e3-4fca-4873-8076-c4f62e926137"
   },
   "outputs": [
    {
     "name": "stdout",
     "output_type": "stream",
     "text": [
      "\n",
      "=== Описательная статистика для 'registration_year' ===\n",
      "count    290176.000000\n",
      "mean       2002.895315\n",
      "std           5.763156\n",
      "min        1980.000000\n",
      "25%        1999.000000\n",
      "50%        2003.000000\n",
      "75%        2007.000000\n",
      "max        2016.000000\n",
      "Name: registration_year, dtype: float64\n",
      "\n",
      "Количество выбросов в 'registration_year': 2306\n"
     ]
    },
    {
     "data": {
      "image/png": "[encoded data removed]",
      "text/plain": [
       "<Figure size 1080x432 with 2 Axes>"
      ]
     },
     "metadata": {
      "needs_background": "light"
     },
     "output_type": "display_data"
    }
   ],
   "source": [
    "number_columns(df, 'registration_year')"
   ]
  },
  {
   "cell_type": "code",
   "execution_count": null,
   "metadata": {
    "id": "ZBaHIjIA5BZL",
    "outputId": "1c8eb645-4100-4629-dd57-f2c9a7fb23ac"
   },
   "outputs": [
    {
     "name": "stdout",
     "output_type": "stream",
     "text": [
      "Процент выбросов: 1.41%\n"
     ]
    }
   ],
   "source": [
    "print(f'Процент выбросов: {4094 / df.shape[0] * 100:.2f}%')"
   ]
  },
  {
   "cell_type": "markdown",
   "metadata": {
    "id": "PXPERKt95BZM"
   },
   "source": [
    "В признаке `registration_year` основная масса автомобилей зарегистрирована  в период с 1999 по 2008 год, пик — около 2000 года. Есть выбросы в начале графика — автомобили с годом регистрации до 1999 года, что составляет 1,34% (решено оставить) от общего размера датасета."
   ]
  },
  {
   "cell_type": "code",
   "execution_count": null,
   "metadata": {
    "id": "JfD5Dnqd5BZN",
    "outputId": "811ead4f-771c-4e24-c73c-fa7e5fb56420"
   },
   "outputs": [
    {
     "name": "stdout",
     "output_type": "stream",
     "text": [
      "\n",
      "=== Описательная статистика для 'power' ===\n",
      "count    290176.000000\n",
      "mean        121.804308\n",
      "std          63.124299\n",
      "min           1.000000\n",
      "25%          77.000000\n",
      "50%         113.000000\n",
      "75%         150.000000\n",
      "max        2000.000000\n",
      "Name: power, dtype: float64\n",
      "\n",
      "Количество выбросов в 'power': 6310\n"
     ]
    },
    {
     "data": {
      "image/png": "[encoded data removed]",
      "text/plain": [
       "<Figure size 1080x432 with 2 Axes>"
      ]
     },
     "metadata": {
      "needs_background": "light"
     },
     "output_type": "display_data"
    }
   ],
   "source": [
    "number_columns(df, 'power')"
   ]
  },
  {
   "cell_type": "code",
   "execution_count": null,
   "metadata": {
    "id": "Hg6TIZ2w5BZO",
    "outputId": "8ae5b021-55ae-4fd0-c391-880831b393b2"
   },
   "outputs": [
    {
     "name": "stdout",
     "output_type": "stream",
     "text": [
      "Процент выбросов: 2.20%\n"
     ]
    }
   ],
   "source": [
    "print(f'Процент выбросов: {6381 / df.shape[0] * 100:.2f}%')"
   ]
  },
  {
   "cell_type": "markdown",
   "metadata": {
    "id": "r-q_4vuZ5BZQ"
   },
   "source": [
    "На гистограмме признака `power` видно, что большинство значений мощности сосредоточено в диапазоне от 0 до 250. Медиана 110, среднее 121,1. В остальной части распределения мы видим небольшое количество выбросов около 2,1%, которое решено было не удалять."
   ]
  },
  {
   "cell_type": "code",
   "execution_count": null,
   "metadata": {
    "id": "M1lFCIDk5BZQ",
    "outputId": "79e07df4-6baf-4f90-97b0-8f4e8cd31324"
   },
   "outputs": [
    {
     "name": "stdout",
     "output_type": "stream",
     "text": [
      "\n",
      "=== Описательная статистика для 'kilometer' ===\n",
      "count    290176.000000\n",
      "mean     128447.821322\n",
      "std       36582.284192\n",
      "min        5000.000000\n",
      "25%      125000.000000\n",
      "50%      150000.000000\n",
      "75%      150000.000000\n",
      "max      150000.000000\n",
      "Name: kilometer, dtype: float64\n",
      "\n",
      "Количество выбросов в 'kilometer': 43573\n"
     ]
    },
    {
     "data": {
      "image/png": "[encoded data removed]",
      "text/plain": [
       "<Figure size 1080x432 with 2 Axes>"
      ]
     },
     "metadata": {
      "needs_background": "light"
     },
     "output_type": "display_data"
    }
   ],
   "source": [
    "number_columns(df, 'kilometer')"
   ]
  },
  {
   "cell_type": "code",
   "execution_count": null,
   "metadata": {
    "id": "NIP0SY1x5BZR",
    "outputId": "2990744c-f90b-4708-c36c-da9c166738a6",
    "scrolled": true
   },
   "outputs": [
    {
     "name": "stdout",
     "output_type": "stream",
     "text": [
      "Процент выбросов: 15.86%\n"
     ]
    }
   ],
   "source": [
    "print(f'Процент выбросов: {46019 / df.shape[0] * 100:.2f}%')"
   ]
  },
  {
   "cell_type": "markdown",
   "metadata": {
    "id": "fXyTWxHM5BZS"
   },
   "source": [
    "В признаке `kilometer` преобладают автомобили с максимальным пробегом от 140000 км. Также присутствуют выбросы в рамере 15% соответствующие  низким значениям пробега. Думаю, что это является особенностью признаки, так как на площадке могут продаваться авто из салона, поэтому выбросы решено оставить."
   ]
  },
  {
   "cell_type": "markdown",
   "metadata": {
    "id": "CCSRbtMp5BZT"
   },
   "source": [
    "Анализ категориальных признаков был выполнен на этапе преобработки даннных."
   ]
  },
  {
   "cell_type": "markdown",
   "metadata": {
    "id": "haokXAim5BZT"
   },
   "source": [
    "### <u>Корреляционный анализ</u>"
   ]
  },
  {
   "cell_type": "code",
   "execution_count": null,
   "metadata": {
    "id": "yhQtT1wO5BZU",
    "outputId": "faeb26b4-5a6f-4524-92c2-ba17bec9fef1"
   },
   "outputs": [
    {
     "name": "stdout",
     "output_type": "stream",
     "text": [
      "<class 'pandas.core.frame.DataFrame'>\n",
      "Int64Index: 290176 entries, 1 to 354368\n",
      "Data columns (total 10 columns):\n",
      " #   Column             Non-Null Count   Dtype \n",
      "---  ------             --------------   ----- \n",
      " 0   price              290176 non-null  int64 \n",
      " 1   vehicle_type       290176 non-null  object\n",
      " 2   registration_year  290176 non-null  int64 \n",
      " 3   gearbox            290176 non-null  object\n",
      " 4   power              290176 non-null  int64 \n",
      " 5   model              290176 non-null  object\n",
      " 6   kilometer          290176 non-null  int64 \n",
      " 7   fuel_type          290176 non-null  object\n",
      " 8   brand              290176 non-null  object\n",
      " 9   repaired           290176 non-null  object\n",
      "dtypes: int64(4), object(6)\n",
      "memory usage: 24.4+ MB\n"
     ]
    }
   ],
   "source": [
    "df.info()"
   ]
  },
  {
   "cell_type": "code",
   "execution_count": null,
   "metadata": {
    "id": "MeNsDpld5BZV",
    "outputId": "297a4985-25b9-4958-fa51-9a822f78957d"
   },
   "outputs": [
    {
     "data": {
      "image/png": "[encoded data removed]",
      "text/plain": [
       "<Figure size 864x576 with 2 Axes>"
      ]
     },
     "metadata": {
      "needs_background": "light"
     },
     "output_type": "display_data"
    }
   ],
   "source": [
    "# Числовые признаки для interval_cols\n",
    "interval_cols = ['price', 'power', 'kilometer']\n",
    "\n",
    "# Визуализация матрицы корреляции\n",
    "plt.figure(figsize=(12, 8))\n",
    "sns.heatmap(df.phik_matrix(interval_cols=interval_cols), annot=True, fmt='.2f', cmap='coolwarm')\n",
    "plt.title('Матрица корреляций phik_matrix')\n",
    "plt.show()"
   ]
  },
  {
   "cell_type": "code",
   "execution_count": null,
   "metadata": {
    "id": "TLYhC5Vb5BZX"
   },
   "outputs": [],
   "source": [
    "#Удалим признак `brand` из за большой мультиколлинеарности\n",
    "df = df.drop('brand', axis=1)"
   ]
  },
  {
   "cell_type": "markdown",
   "metadata": {
    "id": "pkE3VR5m5BZY"
   },
   "source": [
    "Анализ корреляций относительно целевого признака:\n",
    "\n",
    "- `registration_year:` 0.68 — умеренная положительная корреляция. Чем новее год регистрации, тем выше цена.\n",
    "- `model:` 0.57 — умеренная положительная корреляция. Некоторые модели имеют тенденцию к более высокой цене.\n",
    "- `brand:` 0.36 — слабая положительная корреляция. Некоторые бренды имеют тенденцию быть дороже.\n",
    "- `power:` 0.35 — слабая положительная корреляция. Более мощные автомобили несколько дороже.\n",
    "- `gearbox:` 0.33 — слабая положительная корреляция. Автоматическая коробка передач немного связана с более высокой ценой.\n",
    "- `vehicle_type:` 0.27 — слабая положительная корреляция. Определённые типы кузова немного связаны с более высокой ценой.\n",
    "- `fuel_type:` 0.26 — слабая положительная корреляция. Некоторые типы топлива немного связаны с более высокой ценой.\n",
    "- `repaired:` -0.33 — слабая отрицательная корреляция. Факт ремонта немного снижает цену.\n",
    "- `kilometer:` -0.31 — слабая отрицательная корреляция. Чем больше пробег, тем ниже цена."
   ]
  },
  {
   "cell_type": "markdown",
   "metadata": {
    "id": "XWX7UVNg5BZZ"
   },
   "source": [
    "**<u>Промежуточный итог: Загрузка и Подготовка данных</u>**\n",
    "\n",
    "**1. Загрузка и первичный анализ данных**\n",
    "- **Загрузка данных**:\n",
    "  Датасет успешно загружен из файла `/datasets/autos.csv`. В нем содержится **354 369 строк** и **16 столбцов**, включая числовые, категориальные и временные признаки.\n",
    "  - **Целевой признак**: `price` (цена автомобиля в евро).\n",
    "  - **Ключевые признаки**: `registration_year`, `model`, `brand`, `power`, `gearbox`, `vehicle_type`, `fuel_type`, `repaired`, `kilometer`.\n",
    "\n",
    "- **Первичные наблюдения**:\n",
    "  - **Пропуски**: Обнаружены в столбцах `vehicle_type` (10.6%), `gearbox` (5.6%), `model` (5.6%), `fuel_type` (9.3%), `repaired` (20.1%).\n",
    "  - **Аномалии**:\n",
    "    - В `price` значения **0 евро** и аномально высокие цены (до 20 000 евро).\n",
    "    - В `registration_year` годы регистрации **1000** и **9999**.\n",
    "    - В `power` значения **0 л.с.** и **20 000 л.с.**.\n",
    "  - **Неинформативные признаки**:\n",
    "    - `number_of_pictures` (все значения равны 0).\n",
    "\n",
    "**2. Обработка пропусков и аномалий**\n",
    "- **Пропуски**:\n",
    "  - В категориальных признаках (`vehicle_type`, `fuel_type`, `repaired`) пропуски заполнены значением `unknown`.\n",
    "  - В `gearbox` и `model` пропуски заменены **модой** (наиболее частыми значениями).\n",
    "\n",
    "- **Аномалии**:\n",
    "  - В `price` удалены объявления с ценой **< 10 евро**.\n",
    "  - В `registration_year` оставлены только реалистичные года, относительно даты создания объявления.\n",
    "  - В `power` удалены записи с мощностью **< 1 л.с.** или **> 2000 л.с.**.\n",
    "\n",
    "**3. Преобразование данных**\n",
    "- **Удаление неинформативных признаков**:\n",
    "  - Удалены столбцы: `number_of_pictures`, `date_crawled`, `last_seen`, `postal_code`, `registration_month`, `date_created`.\n",
    "- **Дубликаты**:\n",
    "  - Удалено **4 дубликата** (полностью повторяющиеся строки).\n",
    "\n",
    "**4. Исследовательский анализ данных**\n",
    "- **Числовые признаки**:\n",
    "  - `price`: Распределение смещено вправо, медиана — **3130 евро**.\n",
    "  - `registration_year`: Большинство автомобилей зарегистрированы в **1999–2008 годах**.\n",
    "  - `power`: Медианная мощность — **110 л.с.**.\n",
    "  - `kilometer`: **50%** автомобилей имеют пробег **150 000 км**.\n",
    "\n",
    "- **Категориальные признаки**:\n",
    "  - `vehicle_type`: Доминируют **sedan** (26%) и **small** (23%).\n",
    "  - `gearbox`: **75%** авто с механической коробкой передач, с **auto** (19%).\n",
    "  - `model`: Доминирует **golf** (8%).\n",
    "  - `fuel_type`: **89%** — бензиновые (`petrol`/`gasoline`).\n",
    "  - `brand`: Самым популярным брендом авто является **volkswagen** (22%).\n",
    "  - `repaired`: **70%** авто **не попадали в дтп**.\n",
    "\n",
    "- **Корреляционный анализ**:\n",
    "  - Сильная связь с `price`:\n",
    "    - `registration_year` (0.68), `model` (0.57), `power` (0.35).\n",
    "  - Слабая связь: `gearbox` (0.33), `vehicle_type` (0.27).\n",
    "  - Отрицательная связь: `kilometer` (-0.31), `repaired` (-0.33).\n",
    "  - Удален признак `brand` из-за мультиколлинеарности с `model`.\n",
    "\n",
    "**5. Итоговая подготовка данных**\n",
    "- **Оставшиеся признаки**:\n",
    "  `price`, `registration_year`, `model`, `power`, `gearbox`, `vehicle_type`, `fuel_type`, `repaired`, `kilometer`."
   ]
  },
  {
   "cell_type": "markdown",
   "metadata": {
    "id": "9bolVJV95BZb"
   },
   "source": [
    "## Обучение моделей"
   ]
  },
  {
   "cell_type": "code",
   "execution_count": null,
   "metadata": {
    "id": "MDF5qUPF5BZc"
   },
   "outputs": [],
   "source": [
    "X = df.drop('price', axis=1)\n",
    "y = df['price']\n",
    "\n",
    "X_train, X_test, y_train, y_test = train_test_split(X, y, test_size=0.25, random_state=RANDOM_STATE)"
   ]
  },
  {
   "cell_type": "code",
   "execution_count": null,
   "metadata": {
    "id": "fN4QEM8Z5BZc",
    "outputId": "037298c3-0a28-4527-d373-e223cee0e284"
   },
   "outputs": [
    {
     "data": {
      "text/plain": [
       "(217632, 8)"
      ]
     },
     "metadata": {},
     "output_type": "display_data"
    },
    {
     "data": {
      "text/plain": [
       "(217632,)"
      ]
     },
     "metadata": {},
     "output_type": "display_data"
    },
    {
     "data": {
      "text/plain": [
       "(72544, 8)"
      ]
     },
     "metadata": {},
     "output_type": "display_data"
    },
    {
     "data": {
      "text/plain": [
       "(72544,)"
      ]
     },
     "metadata": {},
     "output_type": "display_data"
    }
   ],
   "source": [
    "display(X_train.shape)\n",
    "display(y_train.shape)\n",
    "display(X_test.shape)\n",
    "display(y_test.shape)"
   ]
  },
  {
   "cell_type": "code",
   "execution_count": null,
   "metadata": {
    "id": "o1c5npJp5BZd",
    "outputId": "24cfff5c-182a-4859-8e3f-25ad911da3f6"
   },
   "outputs": [
    {
     "name": "stdout",
     "output_type": "stream",
     "text": [
      "<class 'pandas.core.frame.DataFrame'>\n",
      "Int64Index: 217632 entries, 251614 to 148863\n",
      "Data columns (total 8 columns):\n",
      " #   Column             Non-Null Count   Dtype \n",
      "---  ------             --------------   ----- \n",
      " 0   vehicle_type       217632 non-null  object\n",
      " 1   registration_year  217632 non-null  int64 \n",
      " 2   gearbox            217632 non-null  object\n",
      " 3   power              217632 non-null  int64 \n",
      " 4   model              217632 non-null  object\n",
      " 5   kilometer          217632 non-null  int64 \n",
      " 6   fuel_type          217632 non-null  object\n",
      " 7   repaired           217632 non-null  object\n",
      "dtypes: int64(3), object(5)\n",
      "memory usage: 14.9+ MB\n"
     ]
    }
   ],
   "source": [
    "X_train.info()"
   ]
  },
  {
   "cell_type": "code",
   "execution_count": null,
   "metadata": {
    "id": "gmTBuYvS5BZe"
   },
   "outputs": [],
   "source": [
    "# Создаём списки с названиями признаков\n",
    "ohe_columns = ['vehicle_type', 'gearbox', 'model', 'fuel_type']  # Признаки без иерархии\n",
    "\n",
    "ord_columns = ['repaired']  # Признаки с иерархией\n",
    "\n",
    "num_columns = ['registration_year', 'power', 'kilometer']  # Числовые признаки"
   ]
  },
  {
   "cell_type": "code",
   "execution_count": null,
   "metadata": {
    "id": "YrcCXFfl5BZf"
   },
   "outputs": [],
   "source": [
    "# Пайплайн для OHE-кодирования\n",
    "ohe_pipe = Pipeline(\n",
    "    [\n",
    "        (\n",
    "            'simpleImputer_ohe',\n",
    "            SimpleImputer(missing_values=np.nan, strategy='most_frequent')\n",
    "        ),\n",
    "        (\n",
    "            'ohe',\n",
    "            OneHotEncoder(drop='first', handle_unknown='ignore', sparse_output=False)\n",
    "        )\n",
    "    ]\n",
    ")"
   ]
  },
  {
   "cell_type": "code",
   "execution_count": null,
   "metadata": {
    "id": "lyDIZl5E5BZi"
   },
   "outputs": [],
   "source": [
    "# Пайплайн для Ordinal-кодирования\n",
    "ord_pipe = Pipeline(\n",
    "    [\n",
    "        (\n",
    "            'simpleImputer_before_ord',\n",
    "            SimpleImputer(missing_values=np.nan, strategy='most_frequent')\n",
    "        ),\n",
    "        (\n",
    "            'ord',\n",
    "            OrdinalEncoder(\n",
    "                categories=[\n",
    "                    ['yes', 'unknown', 'no'],\n",
    "                ],\n",
    "                handle_unknown='use_encoded_value',\n",
    "                unknown_value=np.nan\n",
    "            )\n",
    "        ),\n",
    "        (\n",
    "            'simpleImputer_after_ord',\n",
    "            SimpleImputer(missing_values=np.nan, strategy='most_frequent')\n",
    "        )\n",
    "    ]\n",
    ")"
   ]
  },
  {
   "cell_type": "code",
   "execution_count": null,
   "metadata": {
    "id": "4J-OSM2X5BZl"
   },
   "outputs": [],
   "source": [
    "# Общая подготовка данных\n",
    "data_preprocessor = ColumnTransformer(\n",
    "    [\n",
    "        ('ohe', ohe_pipe, ohe_columns),\n",
    "        ('ord', ord_pipe, ord_columns),\n",
    "        ('num', StandardScaler(), num_columns)\n",
    "    ],\n",
    "    remainder='passthrough'\n",
    ")"
   ]
  },
  {
   "cell_type": "code",
   "execution_count": null,
   "metadata": {
    "id": "YBseaHVQ5BZp"
   },
   "outputs": [],
   "source": [
    "# Итоговый пайплайн\n",
    "pipe_final = Pipeline(\n",
    "    [\n",
    "        ('preprocessor', data_preprocessor),\n",
    "        ('model', DecisionTreeRegressor(random_state=RANDOM_STATE))\n",
    "    ]\n",
    ")\n",
    "\n",
    "pipe_final_lgb = Pipeline(\n",
    "    [\n",
    "        ('preprocessor', data_preprocessor),\n",
    "        ('model', lgb.LGBMRegressor(random_state=RANDOM_STATE))\n",
    "    ]\n",
    ")"
   ]
  },
  {
   "cell_type": "code",
   "execution_count": null,
   "metadata": {
    "id": "fZpZR_175BZp"
   },
   "outputs": [],
   "source": [
    "param_grid = [\n",
    "    # Словарь для модели DecisionTreeRegressor()\n",
    "    {\n",
    "        'model': [DecisionTreeRegressor(random_state=RANDOM_STATE)],\n",
    "        'model__max_depth': range(1, 21),\n",
    "        'model__min_samples_split': range(2, 25),\n",
    "        'preprocessor__num': [StandardScaler(), 'passthrough']\n",
    "    }\n",
    "]\n",
    "\n",
    "param_grid_lgb = [\n",
    "    {\n",
    "        'model': [lgb.LGBMRegressor(random_state=RANDOM_STATE)],\n",
    "        'model__n_estimators': range(50, 100, 200),\n",
    "        'model__max_depth': range(3, 8)\n",
    "    }\n",
    "]"
   ]
  },
  {
   "cell_type": "code",
   "execution_count": null,
   "metadata": {
    "id": "P6yCJ7555BZq",
    "outputId": "9a906eef-d6d7-40f6-eb0a-1ff3d8d60b10"
   },
   "outputs": [
    {
     "name": "stderr",
     "output_type": "stream",
     "text": [
      "/opt/conda/lib/python3.9/site-packages/sklearn/preprocessing/_encoders.py:246: UserWarning: Found unknown categories in columns [2] during transform. These unknown categories will be encoded as all zeros\n",
      "  warnings.warn(\n",
      "/opt/conda/lib/python3.9/site-packages/sklearn/preprocessing/_encoders.py:246: UserWarning: Found unknown categories in columns [2] during transform. These unknown categories will be encoded as all zeros\n",
      "  warnings.warn(\n",
      "/opt/conda/lib/python3.9/site-packages/sklearn/preprocessing/_encoders.py:246: UserWarning: Found unknown categories in columns [2] during transform. These unknown categories will be encoded as all zeros\n",
      "  warnings.warn(\n",
      "/opt/conda/lib/python3.9/site-packages/sklearn/preprocessing/_encoders.py:246: UserWarning: Found unknown categories in columns [2] during transform. These unknown categories will be encoded as all zeros\n",
      "  warnings.warn(\n",
      "/opt/conda/lib/python3.9/site-packages/sklearn/preprocessing/_encoders.py:246: UserWarning: Found unknown categories in columns [2] during transform. These unknown categories will be encoded as all zeros\n",
      "  warnings.warn(\n",
      "/opt/conda/lib/python3.9/site-packages/sklearn/preprocessing/_encoders.py:246: UserWarning: Found unknown categories in columns [2] during transform. These unknown categories will be encoded as all zeros\n",
      "  warnings.warn(\n",
      "/opt/conda/lib/python3.9/site-packages/sklearn/preprocessing/_encoders.py:246: UserWarning: Found unknown categories in columns [2] during transform. These unknown categories will be encoded as all zeros\n",
      "  warnings.warn(\n",
      "/opt/conda/lib/python3.9/site-packages/sklearn/preprocessing/_encoders.py:246: UserWarning: Found unknown categories in columns [2] during transform. These unknown categories will be encoded as all zeros\n",
      "  warnings.warn(\n",
      "/opt/conda/lib/python3.9/site-packages/sklearn/preprocessing/_encoders.py:246: UserWarning: Found unknown categories in columns [2] during transform. These unknown categories will be encoded as all zeros\n",
      "  warnings.warn(\n",
      "/opt/conda/lib/python3.9/site-packages/sklearn/preprocessing/_encoders.py:246: UserWarning: Found unknown categories in columns [2] during transform. These unknown categories will be encoded as all zeros\n",
      "  warnings.warn(\n"
     ]
    },
    {
     "data": {
      "text/html": [
       "<style>#sk-container-id-1 {\n",
       "  /* Definition of color scheme common for light and dark mode */\n",
       "  --sklearn-color-text: #000;\n",
       "  --sklearn-color-text-muted: #666;\n",
       "  --sklearn-color-line: gray;\n",
       "  /* Definition of color scheme for unfitted estimators */\n",
       "  --sklearn-color-unfitted-level-0: #fff5e6;\n",
       "  --sklearn-color-unfitted-level-1: #f6e4d2;\n",
       "  --sklearn-color-unfitted-level-2: #ffe0b3;\n",
       "  --sklearn-color-unfitted-level-3: chocolate;\n",
       "  /* Definition of color scheme for fitted estimators */\n",
       "  --sklearn-color-fitted-level-0: #f0f8ff;\n",
       "  --sklearn-color-fitted-level-1: #d4ebff;\n",
       "  --sklearn-color-fitted-level-2: #b3dbfd;\n",
       "  --sklearn-color-fitted-level-3: cornflowerblue;\n",
       "\n",
       "  /* Specific color for light theme */\n",
       "  --sklearn-color-text-on-default-background: var(--sg-text-color, var(--theme-code-foreground, var(--jp-content-font-color1, black)));\n",
       "  --sklearn-color-background: var(--sg-background-color, var(--theme-background, var(--jp-layout-color0, white)));\n",
       "  --sklearn-color-border-box: var(--sg-text-color, var(--theme-code-foreground, var(--jp-content-font-color1, black)));\n",
       "  --sklearn-color-icon: #696969;\n",
       "\n",
       "  @media (prefers-color-scheme: dark) {\n",
       "    /* Redefinition of color scheme for dark theme */\n",
       "    --sklearn-color-text-on-default-background: var(--sg-text-color, var(--theme-code-foreground, var(--jp-content-font-color1, white)));\n",
       "    --sklearn-color-background: var(--sg-background-color, var(--theme-background, var(--jp-layout-color0, #111)));\n",
       "    --sklearn-color-border-box: var(--sg-text-color, var(--theme-code-foreground, var(--jp-content-font-color1, white)));\n",
       "    --sklearn-color-icon: #878787;\n",
       "  }\n",
       "}\n",
       "\n",
       "#sk-container-id-1 {\n",
       "  color: var(--sklearn-color-text);\n",
       "}\n",
       "\n",
       "#sk-container-id-1 pre {\n",
       "  padding: 0;\n",
       "}\n",
       "\n",
       "#sk-container-id-1 input.sk-hidden--visually {\n",
       "  border: 0;\n",
       "  clip: rect(1px 1px 1px 1px);\n",
       "  clip: rect(1px, 1px, 1px, 1px);\n",
       "  height: 1px;\n",
       "  margin: -1px;\n",
       "  overflow: hidden;\n",
       "  padding: 0;\n",
       "  position: absolute;\n",
       "  width: 1px;\n",
       "}\n",
       "\n",
       "#sk-container-id-1 div.sk-dashed-wrapped {\n",
       "  border: 1px dashed var(--sklearn-color-line);\n",
       "  margin: 0 0.4em 0.5em 0.4em;\n",
       "  box-sizing: border-box;\n",
       "  padding-bottom: 0.4em;\n",
       "  background-color: var(--sklearn-color-background);\n",
       "}\n",
       "\n",
       "#sk-container-id-1 div.sk-container {\n",
       "  /* jupyter's `normalize.less` sets `[hidden] { display: none; }`\n",
       "     but bootstrap.min.css set `[hidden] { display: none !important; }`\n",
       "     so we also need the `!important` here to be able to override the\n",
       "     default hidden behavior on the sphinx rendered scikit-learn.org.\n",
       "     See: https://github.com/scikit-learn/scikit-learn/issues/21755 */\n",
       "  display: inline-block !important;\n",
       "  position: relative;\n",
       "}\n",
       "\n",
       "#sk-container-id-1 div.sk-text-repr-fallback {\n",
       "  display: none;\n",
       "}\n",
       "\n",
       "div.sk-parallel-item,\n",
       "div.sk-serial,\n",
       "div.sk-item {\n",
       "  /* draw centered vertical line to link estimators */\n",
       "  background-image: linear-gradient(var(--sklearn-color-text-on-default-background), var(--sklearn-color-text-on-default-background));\n",
       "  background-size: 2px 100%;\n",
       "  background-repeat: no-repeat;\n",
       "  background-position: center center;\n",
       "}\n",
       "\n",
       "/* Parallel-specific style estimator block */\n",
       "\n",
       "#sk-container-id-1 div.sk-parallel-item::after {\n",
       "  content: \"\";\n",
       "  width: 100%;\n",
       "  border-bottom: 2px solid var(--sklearn-color-text-on-default-background);\n",
       "  flex-grow: 1;\n",
       "}\n",
       "\n",
       "#sk-container-id-1 div.sk-parallel {\n",
       "  display: flex;\n",
       "  align-items: stretch;\n",
       "  justify-content: center;\n",
       "  background-color: var(--sklearn-color-background);\n",
       "  position: relative;\n",
       "}\n",
       "\n",
       "#sk-container-id-1 div.sk-parallel-item {\n",
       "  display: flex;\n",
       "  flex-direction: column;\n",
       "}\n",
       "\n",
       "#sk-container-id-1 div.sk-parallel-item:first-child::after {\n",
       "  align-self: flex-end;\n",
       "  width: 50%;\n",
       "}\n",
       "\n",
       "#sk-container-id-1 div.sk-parallel-item:last-child::after {\n",
       "  align-self: flex-start;\n",
       "  width: 50%;\n",
       "}\n",
       "\n",
       "#sk-container-id-1 div.sk-parallel-item:only-child::after {\n",
       "  width: 0;\n",
       "}\n",
       "\n",
       "/* Serial-specific style estimator block */\n",
       "\n",
       "#sk-container-id-1 div.sk-serial {\n",
       "  display: flex;\n",
       "  flex-direction: column;\n",
       "  align-items: center;\n",
       "  background-color: var(--sklearn-color-background);\n",
       "  padding-right: 1em;\n",
       "  padding-left: 1em;\n",
       "}\n",
       "\n",
       "\n",
       "/* Toggleable style: style used for estimator/Pipeline/ColumnTransformer box that is\n",
       "clickable and can be expanded/collapsed.\n",
       "- Pipeline and ColumnTransformer use this feature and define the default style\n",
       "- Estimators will overwrite some part of the style using the `sk-estimator` class\n",
       "*/\n",
       "\n",
       "/* Pipeline and ColumnTransformer style (default) */\n",
       "\n",
       "#sk-container-id-1 div.sk-toggleable {\n",
       "  /* Default theme specific background. It is overwritten whether we have a\n",
       "  specific estimator or a Pipeline/ColumnTransformer */\n",
       "  background-color: var(--sklearn-color-background);\n",
       "}\n",
       "\n",
       "/* Toggleable label */\n",
       "#sk-container-id-1 label.sk-toggleable__label {\n",
       "  cursor: pointer;\n",
       "  display: flex;\n",
       "  width: 100%;\n",
       "  margin-bottom: 0;\n",
       "  padding: 0.5em;\n",
       "  box-sizing: border-box;\n",
       "  text-align: center;\n",
       "  align-items: start;\n",
       "  justify-content: space-between;\n",
       "  gap: 0.5em;\n",
       "}\n",
       "\n",
       "#sk-container-id-1 label.sk-toggleable__label .caption {\n",
       "  font-size: 0.6rem;\n",
       "  font-weight: lighter;\n",
       "  color: var(--sklearn-color-text-muted);\n",
       "}\n",
       "\n",
       "#sk-container-id-1 label.sk-toggleable__label-arrow:before {\n",
       "  /* Arrow on the left of the label */\n",
       "  content: \"▸\";\n",
       "  float: left;\n",
       "  margin-right: 0.25em;\n",
       "  color: var(--sklearn-color-icon);\n",
       "}\n",
       "\n",
       "#sk-container-id-1 label.sk-toggleable__label-arrow:hover:before {\n",
       "  color: var(--sklearn-color-text);\n",
       "}\n",
       "\n",
       "/* Toggleable content - dropdown */\n",
       "\n",
       "#sk-container-id-1 div.sk-toggleable__content {\n",
       "  max-height: 0;\n",
       "  max-width: 0;\n",
       "  overflow: hidden;\n",
       "  text-align: left;\n",
       "  /* unfitted */\n",
       "  background-color: var(--sklearn-color-unfitted-level-0);\n",
       "}\n",
       "\n",
       "#sk-container-id-1 div.sk-toggleable__content.fitted {\n",
       "  /* fitted */\n",
       "  background-color: var(--sklearn-color-fitted-level-0);\n",
       "}\n",
       "\n",
       "#sk-container-id-1 div.sk-toggleable__content pre {\n",
       "  margin: 0.2em;\n",
       "  border-radius: 0.25em;\n",
       "  color: var(--sklearn-color-text);\n",
       "  /* unfitted */\n",
       "  background-color: var(--sklearn-color-unfitted-level-0);\n",
       "}\n",
       "\n",
       "#sk-container-id-1 div.sk-toggleable__content.fitted pre {\n",
       "  /* unfitted */\n",
       "  background-color: var(--sklearn-color-fitted-level-0);\n",
       "}\n",
       "\n",
       "#sk-container-id-1 input.sk-toggleable__control:checked~div.sk-toggleable__content {\n",
       "  /* Expand drop-down */\n",
       "  max-height: 200px;\n",
       "  max-width: 100%;\n",
       "  overflow: auto;\n",
       "}\n",
       "\n",
       "#sk-container-id-1 input.sk-toggleable__control:checked~label.sk-toggleable__label-arrow:before {\n",
       "  content: \"▾\";\n",
       "}\n",
       "\n",
       "/* Pipeline/ColumnTransformer-specific style */\n",
       "\n",
       "#sk-container-id-1 div.sk-label input.sk-toggleable__control:checked~label.sk-toggleable__label {\n",
       "  color: var(--sklearn-color-text);\n",
       "  background-color: var(--sklearn-color-unfitted-level-2);\n",
       "}\n",
       "\n",
       "#sk-container-id-1 div.sk-label.fitted input.sk-toggleable__control:checked~label.sk-toggleable__label {\n",
       "  background-color: var(--sklearn-color-fitted-level-2);\n",
       "}\n",
       "\n",
       "/* Estimator-specific style */\n",
       "\n",
       "/* Colorize estimator box */\n",
       "#sk-container-id-1 div.sk-estimator input.sk-toggleable__control:checked~label.sk-toggleable__label {\n",
       "  /* unfitted */\n",
       "  background-color: var(--sklearn-color-unfitted-level-2);\n",
       "}\n",
       "\n",
       "#sk-container-id-1 div.sk-estimator.fitted input.sk-toggleable__control:checked~label.sk-toggleable__label {\n",
       "  /* fitted */\n",
       "  background-color: var(--sklearn-color-fitted-level-2);\n",
       "}\n",
       "\n",
       "#sk-container-id-1 div.sk-label label.sk-toggleable__label,\n",
       "#sk-container-id-1 div.sk-label label {\n",
       "  /* The background is the default theme color */\n",
       "  color: var(--sklearn-color-text-on-default-background);\n",
       "}\n",
       "\n",
       "/* On hover, darken the color of the background */\n",
       "#sk-container-id-1 div.sk-label:hover label.sk-toggleable__label {\n",
       "  color: var(--sklearn-color-text);\n",
       "  background-color: var(--sklearn-color-unfitted-level-2);\n",
       "}\n",
       "\n",
       "/* Label box, darken color on hover, fitted */\n",
       "#sk-container-id-1 div.sk-label.fitted:hover label.sk-toggleable__label.fitted {\n",
       "  color: var(--sklearn-color-text);\n",
       "  background-color: var(--sklearn-color-fitted-level-2);\n",
       "}\n",
       "\n",
       "/* Estimator label */\n",
       "\n",
       "#sk-container-id-1 div.sk-label label {\n",
       "  font-family: monospace;\n",
       "  font-weight: bold;\n",
       "  display: inline-block;\n",
       "  line-height: 1.2em;\n",
       "}\n",
       "\n",
       "#sk-container-id-1 div.sk-label-container {\n",
       "  text-align: center;\n",
       "}\n",
       "\n",
       "/* Estimator-specific */\n",
       "#sk-container-id-1 div.sk-estimator {\n",
       "  font-family: monospace;\n",
       "  border: 1px dotted var(--sklearn-color-border-box);\n",
       "  border-radius: 0.25em;\n",
       "  box-sizing: border-box;\n",
       "  margin-bottom: 0.5em;\n",
       "  /* unfitted */\n",
       "  background-color: var(--sklearn-color-unfitted-level-0);\n",
       "}\n",
       "\n",
       "#sk-container-id-1 div.sk-estimator.fitted {\n",
       "  /* fitted */\n",
       "  background-color: var(--sklearn-color-fitted-level-0);\n",
       "}\n",
       "\n",
       "/* on hover */\n",
       "#sk-container-id-1 div.sk-estimator:hover {\n",
       "  /* unfitted */\n",
       "  background-color: var(--sklearn-color-unfitted-level-2);\n",
       "}\n",
       "\n",
       "#sk-container-id-1 div.sk-estimator.fitted:hover {\n",
       "  /* fitted */\n",
       "  background-color: var(--sklearn-color-fitted-level-2);\n",
       "}\n",
       "\n",
       "/* Specification for estimator info (e.g. \"i\" and \"?\") */\n",
       "\n",
       "/* Common style for \"i\" and \"?\" */\n",
       "\n",
       ".sk-estimator-doc-link,\n",
       "a:link.sk-estimator-doc-link,\n",
       "a:visited.sk-estimator-doc-link {\n",
       "  float: right;\n",
       "  font-size: smaller;\n",
       "  line-height: 1em;\n",
       "  font-family: monospace;\n",
       "  background-color: var(--sklearn-color-background);\n",
       "  border-radius: 1em;\n",
       "  height: 1em;\n",
       "  width: 1em;\n",
       "  text-decoration: none !important;\n",
       "  margin-left: 0.5em;\n",
       "  text-align: center;\n",
       "  /* unfitted */\n",
       "  border: var(--sklearn-color-unfitted-level-1) 1pt solid;\n",
       "  color: var(--sklearn-color-unfitted-level-1);\n",
       "}\n",
       "\n",
       ".sk-estimator-doc-link.fitted,\n",
       "a:link.sk-estimator-doc-link.fitted,\n",
       "a:visited.sk-estimator-doc-link.fitted {\n",
       "  /* fitted */\n",
       "  border: var(--sklearn-color-fitted-level-1) 1pt solid;\n",
       "  color: var(--sklearn-color-fitted-level-1);\n",
       "}\n",
       "\n",
       "/* On hover */\n",
       "div.sk-estimator:hover .sk-estimator-doc-link:hover,\n",
       ".sk-estimator-doc-link:hover,\n",
       "div.sk-label-container:hover .sk-estimator-doc-link:hover,\n",
       ".sk-estimator-doc-link:hover {\n",
       "  /* unfitted */\n",
       "  background-color: var(--sklearn-color-unfitted-level-3);\n",
       "  color: var(--sklearn-color-background);\n",
       "  text-decoration: none;\n",
       "}\n",
       "\n",
       "div.sk-estimator.fitted:hover .sk-estimator-doc-link.fitted:hover,\n",
       ".sk-estimator-doc-link.fitted:hover,\n",
       "div.sk-label-container:hover .sk-estimator-doc-link.fitted:hover,\n",
       ".sk-estimator-doc-link.fitted:hover {\n",
       "  /* fitted */\n",
       "  background-color: var(--sklearn-color-fitted-level-3);\n",
       "  color: var(--sklearn-color-background);\n",
       "  text-decoration: none;\n",
       "}\n",
       "\n",
       "/* Span, style for the box shown on hovering the info icon */\n",
       ".sk-estimator-doc-link span {\n",
       "  display: none;\n",
       "  z-index: 9999;\n",
       "  position: relative;\n",
       "  font-weight: normal;\n",
       "  right: .2ex;\n",
       "  padding: .5ex;\n",
       "  margin: .5ex;\n",
       "  width: min-content;\n",
       "  min-width: 20ex;\n",
       "  max-width: 50ex;\n",
       "  color: var(--sklearn-color-text);\n",
       "  box-shadow: 2pt 2pt 4pt #999;\n",
       "  /* unfitted */\n",
       "  background: var(--sklearn-color-unfitted-level-0);\n",
       "  border: .5pt solid var(--sklearn-color-unfitted-level-3);\n",
       "}\n",
       "\n",
       ".sk-estimator-doc-link.fitted span {\n",
       "  /* fitted */\n",
       "  background: var(--sklearn-color-fitted-level-0);\n",
       "  border: var(--sklearn-color-fitted-level-3);\n",
       "}\n",
       "\n",
       ".sk-estimator-doc-link:hover span {\n",
       "  display: block;\n",
       "}\n",
       "\n",
       "/* \"?\"-specific style due to the `<a>` HTML tag */\n",
       "\n",
       "#sk-container-id-1 a.estimator_doc_link {\n",
       "  float: right;\n",
       "  font-size: 1rem;\n",
       "  line-height: 1em;\n",
       "  font-family: monospace;\n",
       "  background-color: var(--sklearn-color-background);\n",
       "  border-radius: 1rem;\n",
       "  height: 1rem;\n",
       "  width: 1rem;\n",
       "  text-decoration: none;\n",
       "  /* unfitted */\n",
       "  color: var(--sklearn-color-unfitted-level-1);\n",
       "  border: var(--sklearn-color-unfitted-level-1) 1pt solid;\n",
       "}\n",
       "\n",
       "#sk-container-id-1 a.estimator_doc_link.fitted {\n",
       "  /* fitted */\n",
       "  border: var(--sklearn-color-fitted-level-1) 1pt solid;\n",
       "  color: var(--sklearn-color-fitted-level-1);\n",
       "}\n",
       "\n",
       "/* On hover */\n",
       "#sk-container-id-1 a.estimator_doc_link:hover {\n",
       "  /* unfitted */\n",
       "  background-color: var(--sklearn-color-unfitted-level-3);\n",
       "  color: var(--sklearn-color-background);\n",
       "  text-decoration: none;\n",
       "}\n",
       "\n",
       "#sk-container-id-1 a.estimator_doc_link.fitted:hover {\n",
       "  /* fitted */\n",
       "  background-color: var(--sklearn-color-fitted-level-3);\n",
       "}\n",
       "</style><div id=\"sk-container-id-1\" class=\"sk-top-container\"><div class=\"sk-text-repr-fallback\"><pre>RandomizedSearchCV(cv=5,\n",
       "                   estimator=Pipeline(steps=[(&#x27;preprocessor&#x27;,\n",
       "                                              ColumnTransformer(remainder=&#x27;passthrough&#x27;,\n",
       "                                                                transformers=[(&#x27;ohe&#x27;,\n",
       "                                                                               Pipeline(steps=[(&#x27;simpleImputer_ohe&#x27;,\n",
       "                                                                                                SimpleImputer(strategy=&#x27;most_frequent&#x27;)),\n",
       "                                                                                               (&#x27;ohe&#x27;,\n",
       "                                                                                                OneHotEncoder(drop=&#x27;first&#x27;,\n",
       "                                                                                                              handle_unknown=&#x27;ignore&#x27;,\n",
       "                                                                                                              sparse_output=False))]),\n",
       "                                                                               [&#x27;vehicle_type&#x27;,\n",
       "                                                                                &#x27;gearbox&#x27;,\n",
       "                                                                                &#x27;model&#x27;,\n",
       "                                                                                &#x27;fuel_type&#x27;]),\n",
       "                                                                              (&#x27;ord&#x27;,\n",
       "                                                                               Pipeli...\n",
       "                                                                               [&#x27;registration_year&#x27;,\n",
       "                                                                                &#x27;power&#x27;,\n",
       "                                                                                &#x27;kilometer&#x27;])])),\n",
       "                                             (&#x27;model&#x27;,\n",
       "                                              DecisionTreeRegressor(random_state=42))]),\n",
       "                   n_jobs=-1,\n",
       "                   param_distributions=[{&#x27;model&#x27;: [DecisionTreeRegressor(random_state=42)],\n",
       "                                         &#x27;model__max_depth&#x27;: range(1, 21),\n",
       "                                         &#x27;model__min_samples_split&#x27;: range(2, 25),\n",
       "                                         &#x27;preprocessor__num&#x27;: [StandardScaler(),\n",
       "                                                               &#x27;passthrough&#x27;]}],\n",
       "                   random_state=42, scoring=&#x27;neg_root_mean_squared_error&#x27;)</pre><b>In a Jupyter environment, please rerun this cell to show the HTML representation or trust the notebook. <br />On GitHub, the HTML representation is unable to render, please try loading this page with nbviewer.org.</b></div><div class=\"sk-container\" hidden><div class=\"sk-item sk-dashed-wrapped\"><div class=\"sk-label-container\"><div class=\"sk-label fitted sk-toggleable\"><input class=\"sk-toggleable__control sk-hidden--visually\" id=\"sk-estimator-id-1\" type=\"checkbox\" ><label for=\"sk-estimator-id-1\" class=\"sk-toggleable__label fitted sk-toggleable__label-arrow\"><div><div>RandomizedSearchCV</div></div><div><a class=\"sk-estimator-doc-link fitted\" rel=\"noreferrer\" target=\"_blank\" href=\"https://scikit-learn.org/1.6/modules/generated/sklearn.model_selection.RandomizedSearchCV.html\">?<span>Documentation for RandomizedSearchCV</span></a><span class=\"sk-estimator-doc-link fitted\">i<span>Fitted</span></span></div></label><div class=\"sk-toggleable__content fitted\"><pre>RandomizedSearchCV(cv=5,\n",
       "                   estimator=Pipeline(steps=[(&#x27;preprocessor&#x27;,\n",
       "                                              ColumnTransformer(remainder=&#x27;passthrough&#x27;,\n",
       "                                                                transformers=[(&#x27;ohe&#x27;,\n",
       "                                                                               Pipeline(steps=[(&#x27;simpleImputer_ohe&#x27;,\n",
       "                                                                                                SimpleImputer(strategy=&#x27;most_frequent&#x27;)),\n",
       "                                                                                               (&#x27;ohe&#x27;,\n",
       "                                                                                                OneHotEncoder(drop=&#x27;first&#x27;,\n",
       "                                                                                                              handle_unknown=&#x27;ignore&#x27;,\n",
       "                                                                                                              sparse_output=False))]),\n",
       "                                                                               [&#x27;vehicle_type&#x27;,\n",
       "                                                                                &#x27;gearbox&#x27;,\n",
       "                                                                                &#x27;model&#x27;,\n",
       "                                                                                &#x27;fuel_type&#x27;]),\n",
       "                                                                              (&#x27;ord&#x27;,\n",
       "                                                                               Pipeli...\n",
       "                                                                               [&#x27;registration_year&#x27;,\n",
       "                                                                                &#x27;power&#x27;,\n",
       "                                                                                &#x27;kilometer&#x27;])])),\n",
       "                                             (&#x27;model&#x27;,\n",
       "                                              DecisionTreeRegressor(random_state=42))]),\n",
       "                   n_jobs=-1,\n",
       "                   param_distributions=[{&#x27;model&#x27;: [DecisionTreeRegressor(random_state=42)],\n",
       "                                         &#x27;model__max_depth&#x27;: range(1, 21),\n",
       "                                         &#x27;model__min_samples_split&#x27;: range(2, 25),\n",
       "                                         &#x27;preprocessor__num&#x27;: [StandardScaler(),\n",
       "                                                               &#x27;passthrough&#x27;]}],\n",
       "                   random_state=42, scoring=&#x27;neg_root_mean_squared_error&#x27;)</pre></div> </div></div><div class=\"sk-parallel\"><div class=\"sk-parallel-item\"><div class=\"sk-item\"><div class=\"sk-label-container\"><div class=\"sk-label fitted sk-toggleable\"><input class=\"sk-toggleable__control sk-hidden--visually\" id=\"sk-estimator-id-2\" type=\"checkbox\" ><label for=\"sk-estimator-id-2\" class=\"sk-toggleable__label fitted sk-toggleable__label-arrow\"><div><div>best_estimator_: Pipeline</div></div></label><div class=\"sk-toggleable__content fitted\"><pre>Pipeline(steps=[(&#x27;preprocessor&#x27;,\n",
       "                 ColumnTransformer(remainder=&#x27;passthrough&#x27;,\n",
       "                                   transformers=[(&#x27;ohe&#x27;,\n",
       "                                                  Pipeline(steps=[(&#x27;simpleImputer_ohe&#x27;,\n",
       "                                                                   SimpleImputer(strategy=&#x27;most_frequent&#x27;)),\n",
       "                                                                  (&#x27;ohe&#x27;,\n",
       "                                                                   OneHotEncoder(drop=&#x27;first&#x27;,\n",
       "                                                                                 handle_unknown=&#x27;ignore&#x27;,\n",
       "                                                                                 sparse_output=False))]),\n",
       "                                                  [&#x27;vehicle_type&#x27;, &#x27;gearbox&#x27;,\n",
       "                                                   &#x27;model&#x27;, &#x27;fuel_type&#x27;]),\n",
       "                                                 (&#x27;ord&#x27;,\n",
       "                                                  Pipeline(steps=[(&#x27;simpleImputer_before_o...\n",
       "                                                                  (&#x27;ord&#x27;,\n",
       "                                                                   OrdinalEncoder(categories=[[&#x27;yes&#x27;,\n",
       "                                                                                               &#x27;unknown&#x27;,\n",
       "                                                                                               &#x27;no&#x27;]],\n",
       "                                                                                  handle_unknown=&#x27;use_encoded_value&#x27;,\n",
       "                                                                                  unknown_value=nan)),\n",
       "                                                                  (&#x27;simpleImputer_after_ord&#x27;,\n",
       "                                                                   SimpleImputer(strategy=&#x27;most_frequent&#x27;))]),\n",
       "                                                  [&#x27;repaired&#x27;]),\n",
       "                                                 (&#x27;num&#x27;, StandardScaler(),\n",
       "                                                  [&#x27;registration_year&#x27;, &#x27;power&#x27;,\n",
       "                                                   &#x27;kilometer&#x27;])])),\n",
       "                (&#x27;model&#x27;,\n",
       "                 DecisionTreeRegressor(max_depth=18, min_samples_split=9,\n",
       "                                       random_state=42))])</pre></div> </div></div><div class=\"sk-serial\"><div class=\"sk-item\"><div class=\"sk-serial\"><div class=\"sk-item sk-dashed-wrapped\"><div class=\"sk-label-container\"><div class=\"sk-label fitted sk-toggleable\"><input class=\"sk-toggleable__control sk-hidden--visually\" id=\"sk-estimator-id-3\" type=\"checkbox\" ><label for=\"sk-estimator-id-3\" class=\"sk-toggleable__label fitted sk-toggleable__label-arrow\"><div><div>preprocessor: ColumnTransformer</div></div><div><a class=\"sk-estimator-doc-link fitted\" rel=\"noreferrer\" target=\"_blank\" href=\"https://scikit-learn.org/1.6/modules/generated/sklearn.compose.ColumnTransformer.html\">?<span>Documentation for preprocessor: ColumnTransformer</span></a></div></label><div class=\"sk-toggleable__content fitted\"><pre>ColumnTransformer(remainder=&#x27;passthrough&#x27;,\n",
       "                  transformers=[(&#x27;ohe&#x27;,\n",
       "                                 Pipeline(steps=[(&#x27;simpleImputer_ohe&#x27;,\n",
       "                                                  SimpleImputer(strategy=&#x27;most_frequent&#x27;)),\n",
       "                                                 (&#x27;ohe&#x27;,\n",
       "                                                  OneHotEncoder(drop=&#x27;first&#x27;,\n",
       "                                                                handle_unknown=&#x27;ignore&#x27;,\n",
       "                                                                sparse_output=False))]),\n",
       "                                 [&#x27;vehicle_type&#x27;, &#x27;gearbox&#x27;, &#x27;model&#x27;,\n",
       "                                  &#x27;fuel_type&#x27;]),\n",
       "                                (&#x27;ord&#x27;,\n",
       "                                 Pipeline(steps=[(&#x27;simpleImputer_before_ord&#x27;,\n",
       "                                                  SimpleImputer(strategy=&#x27;most_frequent&#x27;)),\n",
       "                                                 (&#x27;ord&#x27;,\n",
       "                                                  OrdinalEncoder(categories=[[&#x27;yes&#x27;,\n",
       "                                                                              &#x27;unknown&#x27;,\n",
       "                                                                              &#x27;no&#x27;]],\n",
       "                                                                 handle_unknown=&#x27;use_encoded_value&#x27;,\n",
       "                                                                 unknown_value=nan)),\n",
       "                                                 (&#x27;simpleImputer_after_ord&#x27;,\n",
       "                                                  SimpleImputer(strategy=&#x27;most_frequent&#x27;))]),\n",
       "                                 [&#x27;repaired&#x27;]),\n",
       "                                (&#x27;num&#x27;, StandardScaler(),\n",
       "                                 [&#x27;registration_year&#x27;, &#x27;power&#x27;, &#x27;kilometer&#x27;])])</pre></div> </div></div><div class=\"sk-parallel\"><div class=\"sk-parallel-item\"><div class=\"sk-item\"><div class=\"sk-label-container\"><div class=\"sk-label fitted sk-toggleable\"><input class=\"sk-toggleable__control sk-hidden--visually\" id=\"sk-estimator-id-4\" type=\"checkbox\" ><label for=\"sk-estimator-id-4\" class=\"sk-toggleable__label fitted sk-toggleable__label-arrow\"><div><div>ohe</div></div></label><div class=\"sk-toggleable__content fitted\"><pre>[&#x27;vehicle_type&#x27;, &#x27;gearbox&#x27;, &#x27;model&#x27;, &#x27;fuel_type&#x27;]</pre></div> </div></div><div class=\"sk-serial\"><div class=\"sk-item\"><div class=\"sk-serial\"><div class=\"sk-item\"><div class=\"sk-estimator fitted sk-toggleable\"><input class=\"sk-toggleable__control sk-hidden--visually\" id=\"sk-estimator-id-5\" type=\"checkbox\" ><label for=\"sk-estimator-id-5\" class=\"sk-toggleable__label fitted sk-toggleable__label-arrow\"><div><div>SimpleImputer</div></div><div><a class=\"sk-estimator-doc-link fitted\" rel=\"noreferrer\" target=\"_blank\" href=\"https://scikit-learn.org/1.6/modules/generated/sklearn.impute.SimpleImputer.html\">?<span>Documentation for SimpleImputer</span></a></div></label><div class=\"sk-toggleable__content fitted\"><pre>SimpleImputer(strategy=&#x27;most_frequent&#x27;)</pre></div> </div></div><div class=\"sk-item\"><div class=\"sk-estimator fitted sk-toggleable\"><input class=\"sk-toggleable__control sk-hidden--visually\" id=\"sk-estimator-id-6\" type=\"checkbox\" ><label for=\"sk-estimator-id-6\" class=\"sk-toggleable__label fitted sk-toggleable__label-arrow\"><div><div>OneHotEncoder</div></div><div><a class=\"sk-estimator-doc-link fitted\" rel=\"noreferrer\" target=\"_blank\" href=\"https://scikit-learn.org/1.6/modules/generated/sklearn.preprocessing.OneHotEncoder.html\">?<span>Documentation for OneHotEncoder</span></a></div></label><div class=\"sk-toggleable__content fitted\"><pre>OneHotEncoder(drop=&#x27;first&#x27;, handle_unknown=&#x27;ignore&#x27;, sparse_output=False)</pre></div> </div></div></div></div></div></div></div><div class=\"sk-parallel-item\"><div class=\"sk-item\"><div class=\"sk-label-container\"><div class=\"sk-label fitted sk-toggleable\"><input class=\"sk-toggleable__control sk-hidden--visually\" id=\"sk-estimator-id-7\" type=\"checkbox\" ><label for=\"sk-estimator-id-7\" class=\"sk-toggleable__label fitted sk-toggleable__label-arrow\"><div><div>ord</div></div></label><div class=\"sk-toggleable__content fitted\"><pre>[&#x27;repaired&#x27;]</pre></div> </div></div><div class=\"sk-serial\"><div class=\"sk-item\"><div class=\"sk-serial\"><div class=\"sk-item\"><div class=\"sk-estimator fitted sk-toggleable\"><input class=\"sk-toggleable__control sk-hidden--visually\" id=\"sk-estimator-id-8\" type=\"checkbox\" ><label for=\"sk-estimator-id-8\" class=\"sk-toggleable__label fitted sk-toggleable__label-arrow\"><div><div>SimpleImputer</div></div><div><a class=\"sk-estimator-doc-link fitted\" rel=\"noreferrer\" target=\"_blank\" href=\"https://scikit-learn.org/1.6/modules/generated/sklearn.impute.SimpleImputer.html\">?<span>Documentation for SimpleImputer</span></a></div></label><div class=\"sk-toggleable__content fitted\"><pre>SimpleImputer(strategy=&#x27;most_frequent&#x27;)</pre></div> </div></div><div class=\"sk-item\"><div class=\"sk-estimator fitted sk-toggleable\"><input class=\"sk-toggleable__control sk-hidden--visually\" id=\"sk-estimator-id-9\" type=\"checkbox\" ><label for=\"sk-estimator-id-9\" class=\"sk-toggleable__label fitted sk-toggleable__label-arrow\"><div><div>OrdinalEncoder</div></div><div><a class=\"sk-estimator-doc-link fitted\" rel=\"noreferrer\" target=\"_blank\" href=\"https://scikit-learn.org/1.6/modules/generated/sklearn.preprocessing.OrdinalEncoder.html\">?<span>Documentation for OrdinalEncoder</span></a></div></label><div class=\"sk-toggleable__content fitted\"><pre>OrdinalEncoder(categories=[[&#x27;yes&#x27;, &#x27;unknown&#x27;, &#x27;no&#x27;]],\n",
       "               handle_unknown=&#x27;use_encoded_value&#x27;, unknown_value=nan)</pre></div> </div></div><div class=\"sk-item\"><div class=\"sk-estimator fitted sk-toggleable\"><input class=\"sk-toggleable__control sk-hidden--visually\" id=\"sk-estimator-id-10\" type=\"checkbox\" ><label for=\"sk-estimator-id-10\" class=\"sk-toggleable__label fitted sk-toggleable__label-arrow\"><div><div>SimpleImputer</div></div><div><a class=\"sk-estimator-doc-link fitted\" rel=\"noreferrer\" target=\"_blank\" href=\"https://scikit-learn.org/1.6/modules/generated/sklearn.impute.SimpleImputer.html\">?<span>Documentation for SimpleImputer</span></a></div></label><div class=\"sk-toggleable__content fitted\"><pre>SimpleImputer(strategy=&#x27;most_frequent&#x27;)</pre></div> </div></div></div></div></div></div></div><div class=\"sk-parallel-item\"><div class=\"sk-item\"><div class=\"sk-label-container\"><div class=\"sk-label fitted sk-toggleable\"><input class=\"sk-toggleable__control sk-hidden--visually\" id=\"sk-estimator-id-11\" type=\"checkbox\" ><label for=\"sk-estimator-id-11\" class=\"sk-toggleable__label fitted sk-toggleable__label-arrow\"><div><div>num</div></div></label><div class=\"sk-toggleable__content fitted\"><pre>[&#x27;registration_year&#x27;, &#x27;power&#x27;, &#x27;kilometer&#x27;]</pre></div> </div></div><div class=\"sk-serial\"><div class=\"sk-item\"><div class=\"sk-estimator fitted sk-toggleable\"><input class=\"sk-toggleable__control sk-hidden--visually\" id=\"sk-estimator-id-12\" type=\"checkbox\" ><label for=\"sk-estimator-id-12\" class=\"sk-toggleable__label fitted sk-toggleable__label-arrow\"><div><div>StandardScaler</div></div><div><a class=\"sk-estimator-doc-link fitted\" rel=\"noreferrer\" target=\"_blank\" href=\"https://scikit-learn.org/1.6/modules/generated/sklearn.preprocessing.StandardScaler.html\">?<span>Documentation for StandardScaler</span></a></div></label><div class=\"sk-toggleable__content fitted\"><pre>StandardScaler()</pre></div> </div></div></div></div></div><div class=\"sk-parallel-item\"><div class=\"sk-item\"><div class=\"sk-label-container\"><div class=\"sk-label fitted sk-toggleable\"><input class=\"sk-toggleable__control sk-hidden--visually\" id=\"sk-estimator-id-13\" type=\"checkbox\" ><label for=\"sk-estimator-id-13\" class=\"sk-toggleable__label fitted sk-toggleable__label-arrow\"><div><div>remainder</div></div></label><div class=\"sk-toggleable__content fitted\"><pre>[]</pre></div> </div></div><div class=\"sk-serial\"><div class=\"sk-item\"><div class=\"sk-estimator fitted sk-toggleable\"><input class=\"sk-toggleable__control sk-hidden--visually\" id=\"sk-estimator-id-14\" type=\"checkbox\" ><label for=\"sk-estimator-id-14\" class=\"sk-toggleable__label fitted sk-toggleable__label-arrow\"><div><div>passthrough</div></div></label><div class=\"sk-toggleable__content fitted\"><pre>passthrough</pre></div> </div></div></div></div></div></div></div><div class=\"sk-item\"><div class=\"sk-estimator fitted sk-toggleable\"><input class=\"sk-toggleable__control sk-hidden--visually\" id=\"sk-estimator-id-15\" type=\"checkbox\" ><label for=\"sk-estimator-id-15\" class=\"sk-toggleable__label fitted sk-toggleable__label-arrow\"><div><div>DecisionTreeRegressor</div></div><div><a class=\"sk-estimator-doc-link fitted\" rel=\"noreferrer\" target=\"_blank\" href=\"https://scikit-learn.org/1.6/modules/generated/sklearn.tree.DecisionTreeRegressor.html\">?<span>Documentation for DecisionTreeRegressor</span></a></div></label><div class=\"sk-toggleable__content fitted\"><pre>DecisionTreeRegressor(max_depth=18, min_samples_split=9, random_state=42)</pre></div> </div></div></div></div></div></div></div></div></div></div></div>"
      ],
      "text/plain": [
       "RandomizedSearchCV(cv=5,\n",
       "                   estimator=Pipeline(steps=[('preprocessor',\n",
       "                                              ColumnTransformer(remainder='passthrough',\n",
       "                                                                transformers=[('ohe',\n",
       "                                                                               Pipeline(steps=[('simpleImputer_ohe',\n",
       "                                                                                                SimpleImputer(strategy='most_frequent')),\n",
       "                                                                                               ('ohe',\n",
       "                                                                                                OneHotEncoder(drop='first',\n",
       "                                                                                                              handle_unknown='ignore',\n",
       "                                                                                                              sparse_output=False))]),\n",
       "                                                                               ['vehicle_type',\n",
       "                                                                                'gearbox',\n",
       "                                                                                'model',\n",
       "                                                                                'fuel_type']),\n",
       "                                                                              ('ord',\n",
       "                                                                               Pipeli...\n",
       "                                                                               ['registration_year',\n",
       "                                                                                'power',\n",
       "                                                                                'kilometer'])])),\n",
       "                                             ('model',\n",
       "                                              DecisionTreeRegressor(random_state=42))]),\n",
       "                   n_jobs=-1,\n",
       "                   param_distributions=[{'model': [DecisionTreeRegressor(random_state=42)],\n",
       "                                         'model__max_depth': range(1, 21),\n",
       "                                         'model__min_samples_split': range(2, 25),\n",
       "                                         'preprocessor__num': [StandardScaler(),\n",
       "                                                               'passthrough']}],\n",
       "                   random_state=42, scoring='neg_root_mean_squared_error')"
      ]
     },
     "execution_count": 41,
     "metadata": {},
     "output_type": "execute_result"
    }
   ],
   "source": [
    "random_search = RandomizedSearchCV(\n",
    "    pipe_final,\n",
    "    param_grid,\n",
    "    cv=5,\n",
    "    scoring='neg_root_mean_squared_error',\n",
    "    n_iter=10,  # Количество случайных комбинаций\n",
    "    random_state=RANDOM_STATE,\n",
    "    n_jobs=-1\n",
    ")\n",
    "random_search.fit(X_train, y_train)"
   ]
  },
  {
   "cell_type": "code",
   "execution_count": null,
   "metadata": {
    "id": "xQOmebOY5BZr",
    "outputId": "7fab1250-7869-4149-9437-1527717c8c69",
    "scrolled": true
   },
   "outputs": [
    {
     "name": "stderr",
     "output_type": "stream",
     "text": [
      "/opt/conda/lib/python3.9/site-packages/sklearn/model_selection/_search.py:317: UserWarning: The total space of parameters 5 is smaller than n_iter=10. Running 5 iterations. For exhaustive searches, use GridSearchCV.\n",
      "  warnings.warn(\n",
      "/opt/conda/lib/python3.9/site-packages/sklearn/utils/deprecation.py:151: FutureWarning: 'force_all_finite' was renamed to 'ensure_all_finite' in 1.6 and will be removed in 1.8.\n",
      "  warnings.warn(\n",
      "/opt/conda/lib/python3.9/site-packages/sklearn/utils/deprecation.py:151: FutureWarning: 'force_all_finite' was renamed to 'ensure_all_finite' in 1.6 and will be removed in 1.8.\n",
      "  warnings.warn(\n",
      "/opt/conda/lib/python3.9/site-packages/sklearn/utils/deprecation.py:151: FutureWarning: 'force_all_finite' was renamed to 'ensure_all_finite' in 1.6 and will be removed in 1.8.\n",
      "  warnings.warn(\n",
      "/opt/conda/lib/python3.9/site-packages/sklearn/utils/deprecation.py:151: FutureWarning: 'force_all_finite' was renamed to 'ensure_all_finite' in 1.6 and will be removed in 1.8.\n",
      "  warnings.warn(\n",
      "/opt/conda/lib/python3.9/site-packages/sklearn/utils/deprecation.py:151: FutureWarning: 'force_all_finite' was renamed to 'ensure_all_finite' in 1.6 and will be removed in 1.8.\n",
      "  warnings.warn(\n",
      "/opt/conda/lib/python3.9/site-packages/sklearn/utils/deprecation.py:151: FutureWarning: 'force_all_finite' was renamed to 'ensure_all_finite' in 1.6 and will be removed in 1.8.\n",
      "  warnings.warn(\n",
      "/opt/conda/lib/python3.9/site-packages/sklearn/utils/deprecation.py:151: FutureWarning: 'force_all_finite' was renamed to 'ensure_all_finite' in 1.6 and will be removed in 1.8.\n",
      "  warnings.warn(\n",
      "/opt/conda/lib/python3.9/site-packages/sklearn/preprocessing/_encoders.py:246: UserWarning: Found unknown categories in columns [2] during transform. These unknown categories will be encoded as all zeros\n",
      "  warnings.warn(\n",
      "/opt/conda/lib/python3.9/site-packages/sklearn/utils/deprecation.py:151: FutureWarning: 'force_all_finite' was renamed to 'ensure_all_finite' in 1.6 and will be removed in 1.8.\n",
      "  warnings.warn(\n",
      "/opt/conda/lib/python3.9/site-packages/sklearn/utils/deprecation.py:151: FutureWarning: 'force_all_finite' was renamed to 'ensure_all_finite' in 1.6 and will be removed in 1.8.\n",
      "  warnings.warn(\n",
      "/opt/conda/lib/python3.9/site-packages/sklearn/utils/deprecation.py:151: FutureWarning: 'force_all_finite' was renamed to 'ensure_all_finite' in 1.6 and will be removed in 1.8.\n",
      "  warnings.warn(\n",
      "/opt/conda/lib/python3.9/site-packages/sklearn/utils/deprecation.py:151: FutureWarning: 'force_all_finite' was renamed to 'ensure_all_finite' in 1.6 and will be removed in 1.8.\n",
      "  warnings.warn(\n",
      "/opt/conda/lib/python3.9/site-packages/sklearn/utils/deprecation.py:151: FutureWarning: 'force_all_finite' was renamed to 'ensure_all_finite' in 1.6 and will be removed in 1.8.\n",
      "  warnings.warn(\n",
      "/opt/conda/lib/python3.9/site-packages/sklearn/utils/deprecation.py:151: FutureWarning: 'force_all_finite' was renamed to 'ensure_all_finite' in 1.6 and will be removed in 1.8.\n",
      "  warnings.warn(\n",
      "/opt/conda/lib/python3.9/site-packages/sklearn/utils/deprecation.py:151: FutureWarning: 'force_all_finite' was renamed to 'ensure_all_finite' in 1.6 and will be removed in 1.8.\n",
      "  warnings.warn(\n",
      "/opt/conda/lib/python3.9/site-packages/sklearn/utils/deprecation.py:151: FutureWarning: 'force_all_finite' was renamed to 'ensure_all_finite' in 1.6 and will be removed in 1.8.\n",
      "  warnings.warn(\n",
      "/opt/conda/lib/python3.9/site-packages/sklearn/utils/deprecation.py:151: FutureWarning: 'force_all_finite' was renamed to 'ensure_all_finite' in 1.6 and will be removed in 1.8.\n",
      "  warnings.warn(\n",
      "/opt/conda/lib/python3.9/site-packages/sklearn/utils/deprecation.py:151: FutureWarning: 'force_all_finite' was renamed to 'ensure_all_finite' in 1.6 and will be removed in 1.8.\n",
      "  warnings.warn(\n",
      "/opt/conda/lib/python3.9/site-packages/sklearn/preprocessing/_encoders.py:246: UserWarning: Found unknown categories in columns [2] during transform. These unknown categories will be encoded as all zeros\n",
      "  warnings.warn(\n",
      "/opt/conda/lib/python3.9/site-packages/sklearn/utils/deprecation.py:151: FutureWarning: 'force_all_finite' was renamed to 'ensure_all_finite' in 1.6 and will be removed in 1.8.\n",
      "  warnings.warn(\n",
      "/opt/conda/lib/python3.9/site-packages/sklearn/utils/deprecation.py:151: FutureWarning: 'force_all_finite' was renamed to 'ensure_all_finite' in 1.6 and will be removed in 1.8.\n",
      "  warnings.warn(\n",
      "/opt/conda/lib/python3.9/site-packages/sklearn/utils/deprecation.py:151: FutureWarning: 'force_all_finite' was renamed to 'ensure_all_finite' in 1.6 and will be removed in 1.8.\n",
      "  warnings.warn(\n",
      "/opt/conda/lib/python3.9/site-packages/sklearn/utils/deprecation.py:151: FutureWarning: 'force_all_finite' was renamed to 'ensure_all_finite' in 1.6 and will be removed in 1.8.\n",
      "  warnings.warn(\n",
      "/opt/conda/lib/python3.9/site-packages/sklearn/utils/deprecation.py:151: FutureWarning: 'force_all_finite' was renamed to 'ensure_all_finite' in 1.6 and will be removed in 1.8.\n",
      "  warnings.warn(\n",
      "/opt/conda/lib/python3.9/site-packages/sklearn/utils/deprecation.py:151: FutureWarning: 'force_all_finite' was renamed to 'ensure_all_finite' in 1.6 and will be removed in 1.8.\n",
      "  warnings.warn(\n",
      "/opt/conda/lib/python3.9/site-packages/sklearn/utils/deprecation.py:151: FutureWarning: 'force_all_finite' was renamed to 'ensure_all_finite' in 1.6 and will be removed in 1.8.\n",
      "  warnings.warn(\n",
      "/opt/conda/lib/python3.9/site-packages/sklearn/utils/deprecation.py:151: FutureWarning: 'force_all_finite' was renamed to 'ensure_all_finite' in 1.6 and will be removed in 1.8.\n",
      "  warnings.warn(\n",
      "/opt/conda/lib/python3.9/site-packages/sklearn/utils/deprecation.py:151: FutureWarning: 'force_all_finite' was renamed to 'ensure_all_finite' in 1.6 and will be removed in 1.8.\n",
      "  warnings.warn(\n",
      "/opt/conda/lib/python3.9/site-packages/sklearn/utils/deprecation.py:151: FutureWarning: 'force_all_finite' was renamed to 'ensure_all_finite' in 1.6 and will be removed in 1.8.\n",
      "  warnings.warn(\n",
      "/opt/conda/lib/python3.9/site-packages/sklearn/preprocessing/_encoders.py:246: UserWarning: Found unknown categories in columns [2] during transform. These unknown categories will be encoded as all zeros\n",
      "  warnings.warn(\n",
      "/opt/conda/lib/python3.9/site-packages/sklearn/utils/deprecation.py:151: FutureWarning: 'force_all_finite' was renamed to 'ensure_all_finite' in 1.6 and will be removed in 1.8.\n",
      "  warnings.warn(\n",
      "/opt/conda/lib/python3.9/site-packages/sklearn/utils/deprecation.py:151: FutureWarning: 'force_all_finite' was renamed to 'ensure_all_finite' in 1.6 and will be removed in 1.8.\n",
      "  warnings.warn(\n",
      "/opt/conda/lib/python3.9/site-packages/sklearn/utils/deprecation.py:151: FutureWarning: 'force_all_finite' was renamed to 'ensure_all_finite' in 1.6 and will be removed in 1.8.\n",
      "  warnings.warn(\n",
      "/opt/conda/lib/python3.9/site-packages/sklearn/utils/deprecation.py:151: FutureWarning: 'force_all_finite' was renamed to 'ensure_all_finite' in 1.6 and will be removed in 1.8.\n",
      "  warnings.warn(\n",
      "/opt/conda/lib/python3.9/site-packages/sklearn/utils/deprecation.py:151: FutureWarning: 'force_all_finite' was renamed to 'ensure_all_finite' in 1.6 and will be removed in 1.8.\n",
      "  warnings.warn(\n",
      "/opt/conda/lib/python3.9/site-packages/sklearn/utils/deprecation.py:151: FutureWarning: 'force_all_finite' was renamed to 'ensure_all_finite' in 1.6 and will be removed in 1.8.\n",
      "  warnings.warn(\n",
      "/opt/conda/lib/python3.9/site-packages/sklearn/utils/deprecation.py:151: FutureWarning: 'force_all_finite' was renamed to 'ensure_all_finite' in 1.6 and will be removed in 1.8.\n",
      "  warnings.warn(\n",
      "/opt/conda/lib/python3.9/site-packages/sklearn/utils/deprecation.py:151: FutureWarning: 'force_all_finite' was renamed to 'ensure_all_finite' in 1.6 and will be removed in 1.8.\n",
      "  warnings.warn(\n",
      "/opt/conda/lib/python3.9/site-packages/sklearn/utils/deprecation.py:151: FutureWarning: 'force_all_finite' was renamed to 'ensure_all_finite' in 1.6 and will be removed in 1.8.\n",
      "  warnings.warn(\n",
      "/opt/conda/lib/python3.9/site-packages/sklearn/utils/deprecation.py:151: FutureWarning: 'force_all_finite' was renamed to 'ensure_all_finite' in 1.6 and will be removed in 1.8.\n",
      "  warnings.warn(\n",
      "/opt/conda/lib/python3.9/site-packages/sklearn/preprocessing/_encoders.py:246: UserWarning: Found unknown categories in columns [2] during transform. These unknown categories will be encoded as all zeros\n",
      "  warnings.warn(\n",
      "/opt/conda/lib/python3.9/site-packages/sklearn/utils/deprecation.py:151: FutureWarning: 'force_all_finite' was renamed to 'ensure_all_finite' in 1.6 and will be removed in 1.8.\n",
      "  warnings.warn(\n",
      "/opt/conda/lib/python3.9/site-packages/sklearn/utils/deprecation.py:151: FutureWarning: 'force_all_finite' was renamed to 'ensure_all_finite' in 1.6 and will be removed in 1.8.\n",
      "  warnings.warn(\n",
      "/opt/conda/lib/python3.9/site-packages/sklearn/utils/deprecation.py:151: FutureWarning: 'force_all_finite' was renamed to 'ensure_all_finite' in 1.6 and will be removed in 1.8.\n",
      "  warnings.warn(\n",
      "/opt/conda/lib/python3.9/site-packages/sklearn/utils/deprecation.py:151: FutureWarning: 'force_all_finite' was renamed to 'ensure_all_finite' in 1.6 and will be removed in 1.8.\n",
      "  warnings.warn(\n",
      "/opt/conda/lib/python3.9/site-packages/sklearn/utils/deprecation.py:151: FutureWarning: 'force_all_finite' was renamed to 'ensure_all_finite' in 1.6 and will be removed in 1.8.\n",
      "  warnings.warn(\n",
      "/opt/conda/lib/python3.9/site-packages/sklearn/utils/deprecation.py:151: FutureWarning: 'force_all_finite' was renamed to 'ensure_all_finite' in 1.6 and will be removed in 1.8.\n",
      "  warnings.warn(\n",
      "/opt/conda/lib/python3.9/site-packages/sklearn/utils/deprecation.py:151: FutureWarning: 'force_all_finite' was renamed to 'ensure_all_finite' in 1.6 and will be removed in 1.8.\n",
      "  warnings.warn(\n",
      "/opt/conda/lib/python3.9/site-packages/sklearn/utils/deprecation.py:151: FutureWarning: 'force_all_finite' was renamed to 'ensure_all_finite' in 1.6 and will be removed in 1.8.\n",
      "  warnings.warn(\n",
      "/opt/conda/lib/python3.9/site-packages/sklearn/utils/deprecation.py:151: FutureWarning: 'force_all_finite' was renamed to 'ensure_all_finite' in 1.6 and will be removed in 1.8.\n",
      "  warnings.warn(\n",
      "/opt/conda/lib/python3.9/site-packages/sklearn/utils/deprecation.py:151: FutureWarning: 'force_all_finite' was renamed to 'ensure_all_finite' in 1.6 and will be removed in 1.8.\n",
      "  warnings.warn(\n",
      "/opt/conda/lib/python3.9/site-packages/sklearn/preprocessing/_encoders.py:246: UserWarning: Found unknown categories in columns [2] during transform. These unknown categories will be encoded as all zeros\n",
      "  warnings.warn(\n",
      "/opt/conda/lib/python3.9/site-packages/sklearn/utils/deprecation.py:151: FutureWarning: 'force_all_finite' was renamed to 'ensure_all_finite' in 1.6 and will be removed in 1.8.\n",
      "  warnings.warn(\n",
      "/opt/conda/lib/python3.9/site-packages/sklearn/utils/deprecation.py:151: FutureWarning: 'force_all_finite' was renamed to 'ensure_all_finite' in 1.6 and will be removed in 1.8.\n",
      "  warnings.warn(\n",
      "/opt/conda/lib/python3.9/site-packages/sklearn/utils/deprecation.py:151: FutureWarning: 'force_all_finite' was renamed to 'ensure_all_finite' in 1.6 and will be removed in 1.8.\n",
      "  warnings.warn(\n",
      "/opt/conda/lib/python3.9/site-packages/sklearn/utils/deprecation.py:151: FutureWarning: 'force_all_finite' was renamed to 'ensure_all_finite' in 1.6 and will be removed in 1.8.\n",
      "  warnings.warn(\n"
     ]
    },
    {
     "data": {
      "text/html": [
       "<style>#sk-container-id-2 {\n",
       "  /* Definition of color scheme common for light and dark mode */\n",
       "  --sklearn-color-text: #000;\n",
       "  --sklearn-color-text-muted: #666;\n",
       "  --sklearn-color-line: gray;\n",
       "  /* Definition of color scheme for unfitted estimators */\n",
       "  --sklearn-color-unfitted-level-0: #fff5e6;\n",
       "  --sklearn-color-unfitted-level-1: #f6e4d2;\n",
       "  --sklearn-color-unfitted-level-2: #ffe0b3;\n",
       "  --sklearn-color-unfitted-level-3: chocolate;\n",
       "  /* Definition of color scheme for fitted estimators */\n",
       "  --sklearn-color-fitted-level-0: #f0f8ff;\n",
       "  --sklearn-color-fitted-level-1: #d4ebff;\n",
       "  --sklearn-color-fitted-level-2: #b3dbfd;\n",
       "  --sklearn-color-fitted-level-3: cornflowerblue;\n",
       "\n",
       "  /* Specific color for light theme */\n",
       "  --sklearn-color-text-on-default-background: var(--sg-text-color, var(--theme-code-foreground, var(--jp-content-font-color1, black)));\n",
       "  --sklearn-color-background: var(--sg-background-color, var(--theme-background, var(--jp-layout-color0, white)));\n",
       "  --sklearn-color-border-box: var(--sg-text-color, var(--theme-code-foreground, var(--jp-content-font-color1, black)));\n",
       "  --sklearn-color-icon: #696969;\n",
       "\n",
       "  @media (prefers-color-scheme: dark) {\n",
       "    /* Redefinition of color scheme for dark theme */\n",
       "    --sklearn-color-text-on-default-background: var(--sg-text-color, var(--theme-code-foreground, var(--jp-content-font-color1, white)));\n",
       "    --sklearn-color-background: var(--sg-background-color, var(--theme-background, var(--jp-layout-color0, #111)));\n",
       "    --sklearn-color-border-box: var(--sg-text-color, var(--theme-code-foreground, var(--jp-content-font-color1, white)));\n",
       "    --sklearn-color-icon: #878787;\n",
       "  }\n",
       "}\n",
       "\n",
       "#sk-container-id-2 {\n",
       "  color: var(--sklearn-color-text);\n",
       "}\n",
       "\n",
       "#sk-container-id-2 pre {\n",
       "  padding: 0;\n",
       "}\n",
       "\n",
       "#sk-container-id-2 input.sk-hidden--visually {\n",
       "  border: 0;\n",
       "  clip: rect(1px 1px 1px 1px);\n",
       "  clip: rect(1px, 1px, 1px, 1px);\n",
       "  height: 1px;\n",
       "  margin: -1px;\n",
       "  overflow: hidden;\n",
       "  padding: 0;\n",
       "  position: absolute;\n",
       "  width: 1px;\n",
       "}\n",
       "\n",
       "#sk-container-id-2 div.sk-dashed-wrapped {\n",
       "  border: 1px dashed var(--sklearn-color-line);\n",
       "  margin: 0 0.4em 0.5em 0.4em;\n",
       "  box-sizing: border-box;\n",
       "  padding-bottom: 0.4em;\n",
       "  background-color: var(--sklearn-color-background);\n",
       "}\n",
       "\n",
       "#sk-container-id-2 div.sk-container {\n",
       "  /* jupyter's `normalize.less` sets `[hidden] { display: none; }`\n",
       "     but bootstrap.min.css set `[hidden] { display: none !important; }`\n",
       "     so we also need the `!important` here to be able to override the\n",
       "     default hidden behavior on the sphinx rendered scikit-learn.org.\n",
       "     See: https://github.com/scikit-learn/scikit-learn/issues/21755 */\n",
       "  display: inline-block !important;\n",
       "  position: relative;\n",
       "}\n",
       "\n",
       "#sk-container-id-2 div.sk-text-repr-fallback {\n",
       "  display: none;\n",
       "}\n",
       "\n",
       "div.sk-parallel-item,\n",
       "div.sk-serial,\n",
       "div.sk-item {\n",
       "  /* draw centered vertical line to link estimators */\n",
       "  background-image: linear-gradient(var(--sklearn-color-text-on-default-background), var(--sklearn-color-text-on-default-background));\n",
       "  background-size: 2px 100%;\n",
       "  background-repeat: no-repeat;\n",
       "  background-position: center center;\n",
       "}\n",
       "\n",
       "/* Parallel-specific style estimator block */\n",
       "\n",
       "#sk-container-id-2 div.sk-parallel-item::after {\n",
       "  content: \"\";\n",
       "  width: 100%;\n",
       "  border-bottom: 2px solid var(--sklearn-color-text-on-default-background);\n",
       "  flex-grow: 1;\n",
       "}\n",
       "\n",
       "#sk-container-id-2 div.sk-parallel {\n",
       "  display: flex;\n",
       "  align-items: stretch;\n",
       "  justify-content: center;\n",
       "  background-color: var(--sklearn-color-background);\n",
       "  position: relative;\n",
       "}\n",
       "\n",
       "#sk-container-id-2 div.sk-parallel-item {\n",
       "  display: flex;\n",
       "  flex-direction: column;\n",
       "}\n",
       "\n",
       "#sk-container-id-2 div.sk-parallel-item:first-child::after {\n",
       "  align-self: flex-end;\n",
       "  width: 50%;\n",
       "}\n",
       "\n",
       "#sk-container-id-2 div.sk-parallel-item:last-child::after {\n",
       "  align-self: flex-start;\n",
       "  width: 50%;\n",
       "}\n",
       "\n",
       "#sk-container-id-2 div.sk-parallel-item:only-child::after {\n",
       "  width: 0;\n",
       "}\n",
       "\n",
       "/* Serial-specific style estimator block */\n",
       "\n",
       "#sk-container-id-2 div.sk-serial {\n",
       "  display: flex;\n",
       "  flex-direction: column;\n",
       "  align-items: center;\n",
       "  background-color: var(--sklearn-color-background);\n",
       "  padding-right: 1em;\n",
       "  padding-left: 1em;\n",
       "}\n",
       "\n",
       "\n",
       "/* Toggleable style: style used for estimator/Pipeline/ColumnTransformer box that is\n",
       "clickable and can be expanded/collapsed.\n",
       "- Pipeline and ColumnTransformer use this feature and define the default style\n",
       "- Estimators will overwrite some part of the style using the `sk-estimator` class\n",
       "*/\n",
       "\n",
       "/* Pipeline and ColumnTransformer style (default) */\n",
       "\n",
       "#sk-container-id-2 div.sk-toggleable {\n",
       "  /* Default theme specific background. It is overwritten whether we have a\n",
       "  specific estimator or a Pipeline/ColumnTransformer */\n",
       "  background-color: var(--sklearn-color-background);\n",
       "}\n",
       "\n",
       "/* Toggleable label */\n",
       "#sk-container-id-2 label.sk-toggleable__label {\n",
       "  cursor: pointer;\n",
       "  display: flex;\n",
       "  width: 100%;\n",
       "  margin-bottom: 0;\n",
       "  padding: 0.5em;\n",
       "  box-sizing: border-box;\n",
       "  text-align: center;\n",
       "  align-items: start;\n",
       "  justify-content: space-between;\n",
       "  gap: 0.5em;\n",
       "}\n",
       "\n",
       "#sk-container-id-2 label.sk-toggleable__label .caption {\n",
       "  font-size: 0.6rem;\n",
       "  font-weight: lighter;\n",
       "  color: var(--sklearn-color-text-muted);\n",
       "}\n",
       "\n",
       "#sk-container-id-2 label.sk-toggleable__label-arrow:before {\n",
       "  /* Arrow on the left of the label */\n",
       "  content: \"▸\";\n",
       "  float: left;\n",
       "  margin-right: 0.25em;\n",
       "  color: var(--sklearn-color-icon);\n",
       "}\n",
       "\n",
       "#sk-container-id-2 label.sk-toggleable__label-arrow:hover:before {\n",
       "  color: var(--sklearn-color-text);\n",
       "}\n",
       "\n",
       "/* Toggleable content - dropdown */\n",
       "\n",
       "#sk-container-id-2 div.sk-toggleable__content {\n",
       "  max-height: 0;\n",
       "  max-width: 0;\n",
       "  overflow: hidden;\n",
       "  text-align: left;\n",
       "  /* unfitted */\n",
       "  background-color: var(--sklearn-color-unfitted-level-0);\n",
       "}\n",
       "\n",
       "#sk-container-id-2 div.sk-toggleable__content.fitted {\n",
       "  /* fitted */\n",
       "  background-color: var(--sklearn-color-fitted-level-0);\n",
       "}\n",
       "\n",
       "#sk-container-id-2 div.sk-toggleable__content pre {\n",
       "  margin: 0.2em;\n",
       "  border-radius: 0.25em;\n",
       "  color: var(--sklearn-color-text);\n",
       "  /* unfitted */\n",
       "  background-color: var(--sklearn-color-unfitted-level-0);\n",
       "}\n",
       "\n",
       "#sk-container-id-2 div.sk-toggleable__content.fitted pre {\n",
       "  /* unfitted */\n",
       "  background-color: var(--sklearn-color-fitted-level-0);\n",
       "}\n",
       "\n",
       "#sk-container-id-2 input.sk-toggleable__control:checked~div.sk-toggleable__content {\n",
       "  /* Expand drop-down */\n",
       "  max-height: 200px;\n",
       "  max-width: 100%;\n",
       "  overflow: auto;\n",
       "}\n",
       "\n",
       "#sk-container-id-2 input.sk-toggleable__control:checked~label.sk-toggleable__label-arrow:before {\n",
       "  content: \"▾\";\n",
       "}\n",
       "\n",
       "/* Pipeline/ColumnTransformer-specific style */\n",
       "\n",
       "#sk-container-id-2 div.sk-label input.sk-toggleable__control:checked~label.sk-toggleable__label {\n",
       "  color: var(--sklearn-color-text);\n",
       "  background-color: var(--sklearn-color-unfitted-level-2);\n",
       "}\n",
       "\n",
       "#sk-container-id-2 div.sk-label.fitted input.sk-toggleable__control:checked~label.sk-toggleable__label {\n",
       "  background-color: var(--sklearn-color-fitted-level-2);\n",
       "}\n",
       "\n",
       "/* Estimator-specific style */\n",
       "\n",
       "/* Colorize estimator box */\n",
       "#sk-container-id-2 div.sk-estimator input.sk-toggleable__control:checked~label.sk-toggleable__label {\n",
       "  /* unfitted */\n",
       "  background-color: var(--sklearn-color-unfitted-level-2);\n",
       "}\n",
       "\n",
       "#sk-container-id-2 div.sk-estimator.fitted input.sk-toggleable__control:checked~label.sk-toggleable__label {\n",
       "  /* fitted */\n",
       "  background-color: var(--sklearn-color-fitted-level-2);\n",
       "}\n",
       "\n",
       "#sk-container-id-2 div.sk-label label.sk-toggleable__label,\n",
       "#sk-container-id-2 div.sk-label label {\n",
       "  /* The background is the default theme color */\n",
       "  color: var(--sklearn-color-text-on-default-background);\n",
       "}\n",
       "\n",
       "/* On hover, darken the color of the background */\n",
       "#sk-container-id-2 div.sk-label:hover label.sk-toggleable__label {\n",
       "  color: var(--sklearn-color-text);\n",
       "  background-color: var(--sklearn-color-unfitted-level-2);\n",
       "}\n",
       "\n",
       "/* Label box, darken color on hover, fitted */\n",
       "#sk-container-id-2 div.sk-label.fitted:hover label.sk-toggleable__label.fitted {\n",
       "  color: var(--sklearn-color-text);\n",
       "  background-color: var(--sklearn-color-fitted-level-2);\n",
       "}\n",
       "\n",
       "/* Estimator label */\n",
       "\n",
       "#sk-container-id-2 div.sk-label label {\n",
       "  font-family: monospace;\n",
       "  font-weight: bold;\n",
       "  display: inline-block;\n",
       "  line-height: 1.2em;\n",
       "}\n",
       "\n",
       "#sk-container-id-2 div.sk-label-container {\n",
       "  text-align: center;\n",
       "}\n",
       "\n",
       "/* Estimator-specific */\n",
       "#sk-container-id-2 div.sk-estimator {\n",
       "  font-family: monospace;\n",
       "  border: 1px dotted var(--sklearn-color-border-box);\n",
       "  border-radius: 0.25em;\n",
       "  box-sizing: border-box;\n",
       "  margin-bottom: 0.5em;\n",
       "  /* unfitted */\n",
       "  background-color: var(--sklearn-color-unfitted-level-0);\n",
       "}\n",
       "\n",
       "#sk-container-id-2 div.sk-estimator.fitted {\n",
       "  /* fitted */\n",
       "  background-color: var(--sklearn-color-fitted-level-0);\n",
       "}\n",
       "\n",
       "/* on hover */\n",
       "#sk-container-id-2 div.sk-estimator:hover {\n",
       "  /* unfitted */\n",
       "  background-color: var(--sklearn-color-unfitted-level-2);\n",
       "}\n",
       "\n",
       "#sk-container-id-2 div.sk-estimator.fitted:hover {\n",
       "  /* fitted */\n",
       "  background-color: var(--sklearn-color-fitted-level-2);\n",
       "}\n",
       "\n",
       "/* Specification for estimator info (e.g. \"i\" and \"?\") */\n",
       "\n",
       "/* Common style for \"i\" and \"?\" */\n",
       "\n",
       ".sk-estimator-doc-link,\n",
       "a:link.sk-estimator-doc-link,\n",
       "a:visited.sk-estimator-doc-link {\n",
       "  float: right;\n",
       "  font-size: smaller;\n",
       "  line-height: 1em;\n",
       "  font-family: monospace;\n",
       "  background-color: var(--sklearn-color-background);\n",
       "  border-radius: 1em;\n",
       "  height: 1em;\n",
       "  width: 1em;\n",
       "  text-decoration: none !important;\n",
       "  margin-left: 0.5em;\n",
       "  text-align: center;\n",
       "  /* unfitted */\n",
       "  border: var(--sklearn-color-unfitted-level-1) 1pt solid;\n",
       "  color: var(--sklearn-color-unfitted-level-1);\n",
       "}\n",
       "\n",
       ".sk-estimator-doc-link.fitted,\n",
       "a:link.sk-estimator-doc-link.fitted,\n",
       "a:visited.sk-estimator-doc-link.fitted {\n",
       "  /* fitted */\n",
       "  border: var(--sklearn-color-fitted-level-1) 1pt solid;\n",
       "  color: var(--sklearn-color-fitted-level-1);\n",
       "}\n",
       "\n",
       "/* On hover */\n",
       "div.sk-estimator:hover .sk-estimator-doc-link:hover,\n",
       ".sk-estimator-doc-link:hover,\n",
       "div.sk-label-container:hover .sk-estimator-doc-link:hover,\n",
       ".sk-estimator-doc-link:hover {\n",
       "  /* unfitted */\n",
       "  background-color: var(--sklearn-color-unfitted-level-3);\n",
       "  color: var(--sklearn-color-background);\n",
       "  text-decoration: none;\n",
       "}\n",
       "\n",
       "div.sk-estimator.fitted:hover .sk-estimator-doc-link.fitted:hover,\n",
       ".sk-estimator-doc-link.fitted:hover,\n",
       "div.sk-label-container:hover .sk-estimator-doc-link.fitted:hover,\n",
       ".sk-estimator-doc-link.fitted:hover {\n",
       "  /* fitted */\n",
       "  background-color: var(--sklearn-color-fitted-level-3);\n",
       "  color: var(--sklearn-color-background);\n",
       "  text-decoration: none;\n",
       "}\n",
       "\n",
       "/* Span, style for the box shown on hovering the info icon */\n",
       ".sk-estimator-doc-link span {\n",
       "  display: none;\n",
       "  z-index: 9999;\n",
       "  position: relative;\n",
       "  font-weight: normal;\n",
       "  right: .2ex;\n",
       "  padding: .5ex;\n",
       "  margin: .5ex;\n",
       "  width: min-content;\n",
       "  min-width: 20ex;\n",
       "  max-width: 50ex;\n",
       "  color: var(--sklearn-color-text);\n",
       "  box-shadow: 2pt 2pt 4pt #999;\n",
       "  /* unfitted */\n",
       "  background: var(--sklearn-color-unfitted-level-0);\n",
       "  border: .5pt solid var(--sklearn-color-unfitted-level-3);\n",
       "}\n",
       "\n",
       ".sk-estimator-doc-link.fitted span {\n",
       "  /* fitted */\n",
       "  background: var(--sklearn-color-fitted-level-0);\n",
       "  border: var(--sklearn-color-fitted-level-3);\n",
       "}\n",
       "\n",
       ".sk-estimator-doc-link:hover span {\n",
       "  display: block;\n",
       "}\n",
       "\n",
       "/* \"?\"-specific style due to the `<a>` HTML tag */\n",
       "\n",
       "#sk-container-id-2 a.estimator_doc_link {\n",
       "  float: right;\n",
       "  font-size: 1rem;\n",
       "  line-height: 1em;\n",
       "  font-family: monospace;\n",
       "  background-color: var(--sklearn-color-background);\n",
       "  border-radius: 1rem;\n",
       "  height: 1rem;\n",
       "  width: 1rem;\n",
       "  text-decoration: none;\n",
       "  /* unfitted */\n",
       "  color: var(--sklearn-color-unfitted-level-1);\n",
       "  border: var(--sklearn-color-unfitted-level-1) 1pt solid;\n",
       "}\n",
       "\n",
       "#sk-container-id-2 a.estimator_doc_link.fitted {\n",
       "  /* fitted */\n",
       "  border: var(--sklearn-color-fitted-level-1) 1pt solid;\n",
       "  color: var(--sklearn-color-fitted-level-1);\n",
       "}\n",
       "\n",
       "/* On hover */\n",
       "#sk-container-id-2 a.estimator_doc_link:hover {\n",
       "  /* unfitted */\n",
       "  background-color: var(--sklearn-color-unfitted-level-3);\n",
       "  color: var(--sklearn-color-background);\n",
       "  text-decoration: none;\n",
       "}\n",
       "\n",
       "#sk-container-id-2 a.estimator_doc_link.fitted:hover {\n",
       "  /* fitted */\n",
       "  background-color: var(--sklearn-color-fitted-level-3);\n",
       "}\n",
       "</style><div id=\"sk-container-id-2\" class=\"sk-top-container\"><div class=\"sk-text-repr-fallback\"><pre>RandomizedSearchCV(cv=5,\n",
       "                   estimator=Pipeline(steps=[(&#x27;preprocessor&#x27;,\n",
       "                                              ColumnTransformer(remainder=&#x27;passthrough&#x27;,\n",
       "                                                                transformers=[(&#x27;ohe&#x27;,\n",
       "                                                                               Pipeline(steps=[(&#x27;simpleImputer_ohe&#x27;,\n",
       "                                                                                                SimpleImputer(strategy=&#x27;most_frequent&#x27;)),\n",
       "                                                                                               (&#x27;ohe&#x27;,\n",
       "                                                                                                OneHotEncoder(drop=&#x27;first&#x27;,\n",
       "                                                                                                              handle_unknown=&#x27;ignore&#x27;,\n",
       "                                                                                                              sparse_output=False))]),\n",
       "                                                                               [&#x27;vehicle_type&#x27;,\n",
       "                                                                                &#x27;gearbox&#x27;,\n",
       "                                                                                &#x27;model&#x27;,\n",
       "                                                                                &#x27;fuel_type&#x27;]),\n",
       "                                                                              (&#x27;ord&#x27;,\n",
       "                                                                               Pipeli...\n",
       "                                                                                                SimpleImputer(strategy=&#x27;most_frequent&#x27;))]),\n",
       "                                                                               [&#x27;repaired&#x27;]),\n",
       "                                                                              (&#x27;num&#x27;,\n",
       "                                                                               StandardScaler(),\n",
       "                                                                               [&#x27;registration_year&#x27;,\n",
       "                                                                                &#x27;power&#x27;,\n",
       "                                                                                &#x27;kilometer&#x27;])])),\n",
       "                                             (&#x27;model&#x27;,\n",
       "                                              LGBMRegressor(random_state=42))]),\n",
       "                   n_jobs=-1,\n",
       "                   param_distributions=[{&#x27;model&#x27;: [LGBMRegressor(random_state=42)],\n",
       "                                         &#x27;model__max_depth&#x27;: range(3, 8),\n",
       "                                         &#x27;model__n_estimators&#x27;: range(50, 100, 200)}],\n",
       "                   random_state=42, scoring=&#x27;neg_root_mean_squared_error&#x27;)</pre><b>In a Jupyter environment, please rerun this cell to show the HTML representation or trust the notebook. <br />On GitHub, the HTML representation is unable to render, please try loading this page with nbviewer.org.</b></div><div class=\"sk-container\" hidden><div class=\"sk-item sk-dashed-wrapped\"><div class=\"sk-label-container\"><div class=\"sk-label fitted sk-toggleable\"><input class=\"sk-toggleable__control sk-hidden--visually\" id=\"sk-estimator-id-16\" type=\"checkbox\" ><label for=\"sk-estimator-id-16\" class=\"sk-toggleable__label fitted sk-toggleable__label-arrow\"><div><div>RandomizedSearchCV</div></div><div><a class=\"sk-estimator-doc-link fitted\" rel=\"noreferrer\" target=\"_blank\" href=\"https://scikit-learn.org/1.6/modules/generated/sklearn.model_selection.RandomizedSearchCV.html\">?<span>Documentation for RandomizedSearchCV</span></a><span class=\"sk-estimator-doc-link fitted\">i<span>Fitted</span></span></div></label><div class=\"sk-toggleable__content fitted\"><pre>RandomizedSearchCV(cv=5,\n",
       "                   estimator=Pipeline(steps=[(&#x27;preprocessor&#x27;,\n",
       "                                              ColumnTransformer(remainder=&#x27;passthrough&#x27;,\n",
       "                                                                transformers=[(&#x27;ohe&#x27;,\n",
       "                                                                               Pipeline(steps=[(&#x27;simpleImputer_ohe&#x27;,\n",
       "                                                                                                SimpleImputer(strategy=&#x27;most_frequent&#x27;)),\n",
       "                                                                                               (&#x27;ohe&#x27;,\n",
       "                                                                                                OneHotEncoder(drop=&#x27;first&#x27;,\n",
       "                                                                                                              handle_unknown=&#x27;ignore&#x27;,\n",
       "                                                                                                              sparse_output=False))]),\n",
       "                                                                               [&#x27;vehicle_type&#x27;,\n",
       "                                                                                &#x27;gearbox&#x27;,\n",
       "                                                                                &#x27;model&#x27;,\n",
       "                                                                                &#x27;fuel_type&#x27;]),\n",
       "                                                                              (&#x27;ord&#x27;,\n",
       "                                                                               Pipeli...\n",
       "                                                                                                SimpleImputer(strategy=&#x27;most_frequent&#x27;))]),\n",
       "                                                                               [&#x27;repaired&#x27;]),\n",
       "                                                                              (&#x27;num&#x27;,\n",
       "                                                                               StandardScaler(),\n",
       "                                                                               [&#x27;registration_year&#x27;,\n",
       "                                                                                &#x27;power&#x27;,\n",
       "                                                                                &#x27;kilometer&#x27;])])),\n",
       "                                             (&#x27;model&#x27;,\n",
       "                                              LGBMRegressor(random_state=42))]),\n",
       "                   n_jobs=-1,\n",
       "                   param_distributions=[{&#x27;model&#x27;: [LGBMRegressor(random_state=42)],\n",
       "                                         &#x27;model__max_depth&#x27;: range(3, 8),\n",
       "                                         &#x27;model__n_estimators&#x27;: range(50, 100, 200)}],\n",
       "                   random_state=42, scoring=&#x27;neg_root_mean_squared_error&#x27;)</pre></div> </div></div><div class=\"sk-parallel\"><div class=\"sk-parallel-item\"><div class=\"sk-item\"><div class=\"sk-label-container\"><div class=\"sk-label fitted sk-toggleable\"><input class=\"sk-toggleable__control sk-hidden--visually\" id=\"sk-estimator-id-17\" type=\"checkbox\" ><label for=\"sk-estimator-id-17\" class=\"sk-toggleable__label fitted sk-toggleable__label-arrow\"><div><div>best_estimator_: Pipeline</div></div></label><div class=\"sk-toggleable__content fitted\"><pre>Pipeline(steps=[(&#x27;preprocessor&#x27;,\n",
       "                 ColumnTransformer(remainder=&#x27;passthrough&#x27;,\n",
       "                                   transformers=[(&#x27;ohe&#x27;,\n",
       "                                                  Pipeline(steps=[(&#x27;simpleImputer_ohe&#x27;,\n",
       "                                                                   SimpleImputer(strategy=&#x27;most_frequent&#x27;)),\n",
       "                                                                  (&#x27;ohe&#x27;,\n",
       "                                                                   OneHotEncoder(drop=&#x27;first&#x27;,\n",
       "                                                                                 handle_unknown=&#x27;ignore&#x27;,\n",
       "                                                                                 sparse_output=False))]),\n",
       "                                                  [&#x27;vehicle_type&#x27;, &#x27;gearbox&#x27;,\n",
       "                                                   &#x27;model&#x27;, &#x27;fuel_type&#x27;]),\n",
       "                                                 (&#x27;ord&#x27;,\n",
       "                                                  Pipeline(steps=[(&#x27;simpleImputer_before_o...\n",
       "                                                                   SimpleImputer(strategy=&#x27;most_frequent&#x27;)),\n",
       "                                                                  (&#x27;ord&#x27;,\n",
       "                                                                   OrdinalEncoder(categories=[[&#x27;yes&#x27;,\n",
       "                                                                                               &#x27;unknown&#x27;,\n",
       "                                                                                               &#x27;no&#x27;]],\n",
       "                                                                                  handle_unknown=&#x27;use_encoded_value&#x27;,\n",
       "                                                                                  unknown_value=nan)),\n",
       "                                                                  (&#x27;simpleImputer_after_ord&#x27;,\n",
       "                                                                   SimpleImputer(strategy=&#x27;most_frequent&#x27;))]),\n",
       "                                                  [&#x27;repaired&#x27;]),\n",
       "                                                 (&#x27;num&#x27;, StandardScaler(),\n",
       "                                                  [&#x27;registration_year&#x27;, &#x27;power&#x27;,\n",
       "                                                   &#x27;kilometer&#x27;])])),\n",
       "                (&#x27;model&#x27;,\n",
       "                 LGBMRegressor(max_depth=7, n_estimators=50, random_state=42))])</pre></div> </div></div><div class=\"sk-serial\"><div class=\"sk-item\"><div class=\"sk-serial\"><div class=\"sk-item sk-dashed-wrapped\"><div class=\"sk-label-container\"><div class=\"sk-label fitted sk-toggleable\"><input class=\"sk-toggleable__control sk-hidden--visually\" id=\"sk-estimator-id-18\" type=\"checkbox\" ><label for=\"sk-estimator-id-18\" class=\"sk-toggleable__label fitted sk-toggleable__label-arrow\"><div><div>preprocessor: ColumnTransformer</div></div><div><a class=\"sk-estimator-doc-link fitted\" rel=\"noreferrer\" target=\"_blank\" href=\"https://scikit-learn.org/1.6/modules/generated/sklearn.compose.ColumnTransformer.html\">?<span>Documentation for preprocessor: ColumnTransformer</span></a></div></label><div class=\"sk-toggleable__content fitted\"><pre>ColumnTransformer(remainder=&#x27;passthrough&#x27;,\n",
       "                  transformers=[(&#x27;ohe&#x27;,\n",
       "                                 Pipeline(steps=[(&#x27;simpleImputer_ohe&#x27;,\n",
       "                                                  SimpleImputer(strategy=&#x27;most_frequent&#x27;)),\n",
       "                                                 (&#x27;ohe&#x27;,\n",
       "                                                  OneHotEncoder(drop=&#x27;first&#x27;,\n",
       "                                                                handle_unknown=&#x27;ignore&#x27;,\n",
       "                                                                sparse_output=False))]),\n",
       "                                 [&#x27;vehicle_type&#x27;, &#x27;gearbox&#x27;, &#x27;model&#x27;,\n",
       "                                  &#x27;fuel_type&#x27;]),\n",
       "                                (&#x27;ord&#x27;,\n",
       "                                 Pipeline(steps=[(&#x27;simpleImputer_before_ord&#x27;,\n",
       "                                                  SimpleImputer(strategy=&#x27;most_frequent&#x27;)),\n",
       "                                                 (&#x27;ord&#x27;,\n",
       "                                                  OrdinalEncoder(categories=[[&#x27;yes&#x27;,\n",
       "                                                                              &#x27;unknown&#x27;,\n",
       "                                                                              &#x27;no&#x27;]],\n",
       "                                                                 handle_unknown=&#x27;use_encoded_value&#x27;,\n",
       "                                                                 unknown_value=nan)),\n",
       "                                                 (&#x27;simpleImputer_after_ord&#x27;,\n",
       "                                                  SimpleImputer(strategy=&#x27;most_frequent&#x27;))]),\n",
       "                                 [&#x27;repaired&#x27;]),\n",
       "                                (&#x27;num&#x27;, StandardScaler(),\n",
       "                                 [&#x27;registration_year&#x27;, &#x27;power&#x27;, &#x27;kilometer&#x27;])])</pre></div> </div></div><div class=\"sk-parallel\"><div class=\"sk-parallel-item\"><div class=\"sk-item\"><div class=\"sk-label-container\"><div class=\"sk-label fitted sk-toggleable\"><input class=\"sk-toggleable__control sk-hidden--visually\" id=\"sk-estimator-id-19\" type=\"checkbox\" ><label for=\"sk-estimator-id-19\" class=\"sk-toggleable__label fitted sk-toggleable__label-arrow\"><div><div>ohe</div></div></label><div class=\"sk-toggleable__content fitted\"><pre>[&#x27;vehicle_type&#x27;, &#x27;gearbox&#x27;, &#x27;model&#x27;, &#x27;fuel_type&#x27;]</pre></div> </div></div><div class=\"sk-serial\"><div class=\"sk-item\"><div class=\"sk-serial\"><div class=\"sk-item\"><div class=\"sk-estimator fitted sk-toggleable\"><input class=\"sk-toggleable__control sk-hidden--visually\" id=\"sk-estimator-id-20\" type=\"checkbox\" ><label for=\"sk-estimator-id-20\" class=\"sk-toggleable__label fitted sk-toggleable__label-arrow\"><div><div>SimpleImputer</div></div><div><a class=\"sk-estimator-doc-link fitted\" rel=\"noreferrer\" target=\"_blank\" href=\"https://scikit-learn.org/1.6/modules/generated/sklearn.impute.SimpleImputer.html\">?<span>Documentation for SimpleImputer</span></a></div></label><div class=\"sk-toggleable__content fitted\"><pre>SimpleImputer(strategy=&#x27;most_frequent&#x27;)</pre></div> </div></div><div class=\"sk-item\"><div class=\"sk-estimator fitted sk-toggleable\"><input class=\"sk-toggleable__control sk-hidden--visually\" id=\"sk-estimator-id-21\" type=\"checkbox\" ><label for=\"sk-estimator-id-21\" class=\"sk-toggleable__label fitted sk-toggleable__label-arrow\"><div><div>OneHotEncoder</div></div><div><a class=\"sk-estimator-doc-link fitted\" rel=\"noreferrer\" target=\"_blank\" href=\"https://scikit-learn.org/1.6/modules/generated/sklearn.preprocessing.OneHotEncoder.html\">?<span>Documentation for OneHotEncoder</span></a></div></label><div class=\"sk-toggleable__content fitted\"><pre>OneHotEncoder(drop=&#x27;first&#x27;, handle_unknown=&#x27;ignore&#x27;, sparse_output=False)</pre></div> </div></div></div></div></div></div></div><div class=\"sk-parallel-item\"><div class=\"sk-item\"><div class=\"sk-label-container\"><div class=\"sk-label fitted sk-toggleable\"><input class=\"sk-toggleable__control sk-hidden--visually\" id=\"sk-estimator-id-22\" type=\"checkbox\" ><label for=\"sk-estimator-id-22\" class=\"sk-toggleable__label fitted sk-toggleable__label-arrow\"><div><div>ord</div></div></label><div class=\"sk-toggleable__content fitted\"><pre>[&#x27;repaired&#x27;]</pre></div> </div></div><div class=\"sk-serial\"><div class=\"sk-item\"><div class=\"sk-serial\"><div class=\"sk-item\"><div class=\"sk-estimator fitted sk-toggleable\"><input class=\"sk-toggleable__control sk-hidden--visually\" id=\"sk-estimator-id-23\" type=\"checkbox\" ><label for=\"sk-estimator-id-23\" class=\"sk-toggleable__label fitted sk-toggleable__label-arrow\"><div><div>SimpleImputer</div></div><div><a class=\"sk-estimator-doc-link fitted\" rel=\"noreferrer\" target=\"_blank\" href=\"https://scikit-learn.org/1.6/modules/generated/sklearn.impute.SimpleImputer.html\">?<span>Documentation for SimpleImputer</span></a></div></label><div class=\"sk-toggleable__content fitted\"><pre>SimpleImputer(strategy=&#x27;most_frequent&#x27;)</pre></div> </div></div><div class=\"sk-item\"><div class=\"sk-estimator fitted sk-toggleable\"><input class=\"sk-toggleable__control sk-hidden--visually\" id=\"sk-estimator-id-24\" type=\"checkbox\" ><label for=\"sk-estimator-id-24\" class=\"sk-toggleable__label fitted sk-toggleable__label-arrow\"><div><div>OrdinalEncoder</div></div><div><a class=\"sk-estimator-doc-link fitted\" rel=\"noreferrer\" target=\"_blank\" href=\"https://scikit-learn.org/1.6/modules/generated/sklearn.preprocessing.OrdinalEncoder.html\">?<span>Documentation for OrdinalEncoder</span></a></div></label><div class=\"sk-toggleable__content fitted\"><pre>OrdinalEncoder(categories=[[&#x27;yes&#x27;, &#x27;unknown&#x27;, &#x27;no&#x27;]],\n",
       "               handle_unknown=&#x27;use_encoded_value&#x27;, unknown_value=nan)</pre></div> </div></div><div class=\"sk-item\"><div class=\"sk-estimator fitted sk-toggleable\"><input class=\"sk-toggleable__control sk-hidden--visually\" id=\"sk-estimator-id-25\" type=\"checkbox\" ><label for=\"sk-estimator-id-25\" class=\"sk-toggleable__label fitted sk-toggleable__label-arrow\"><div><div>SimpleImputer</div></div><div><a class=\"sk-estimator-doc-link fitted\" rel=\"noreferrer\" target=\"_blank\" href=\"https://scikit-learn.org/1.6/modules/generated/sklearn.impute.SimpleImputer.html\">?<span>Documentation for SimpleImputer</span></a></div></label><div class=\"sk-toggleable__content fitted\"><pre>SimpleImputer(strategy=&#x27;most_frequent&#x27;)</pre></div> </div></div></div></div></div></div></div><div class=\"sk-parallel-item\"><div class=\"sk-item\"><div class=\"sk-label-container\"><div class=\"sk-label fitted sk-toggleable\"><input class=\"sk-toggleable__control sk-hidden--visually\" id=\"sk-estimator-id-26\" type=\"checkbox\" ><label for=\"sk-estimator-id-26\" class=\"sk-toggleable__label fitted sk-toggleable__label-arrow\"><div><div>num</div></div></label><div class=\"sk-toggleable__content fitted\"><pre>[&#x27;registration_year&#x27;, &#x27;power&#x27;, &#x27;kilometer&#x27;]</pre></div> </div></div><div class=\"sk-serial\"><div class=\"sk-item\"><div class=\"sk-estimator fitted sk-toggleable\"><input class=\"sk-toggleable__control sk-hidden--visually\" id=\"sk-estimator-id-27\" type=\"checkbox\" ><label for=\"sk-estimator-id-27\" class=\"sk-toggleable__label fitted sk-toggleable__label-arrow\"><div><div>StandardScaler</div></div><div><a class=\"sk-estimator-doc-link fitted\" rel=\"noreferrer\" target=\"_blank\" href=\"https://scikit-learn.org/1.6/modules/generated/sklearn.preprocessing.StandardScaler.html\">?<span>Documentation for StandardScaler</span></a></div></label><div class=\"sk-toggleable__content fitted\"><pre>StandardScaler()</pre></div> </div></div></div></div></div><div class=\"sk-parallel-item\"><div class=\"sk-item\"><div class=\"sk-label-container\"><div class=\"sk-label fitted sk-toggleable\"><input class=\"sk-toggleable__control sk-hidden--visually\" id=\"sk-estimator-id-28\" type=\"checkbox\" ><label for=\"sk-estimator-id-28\" class=\"sk-toggleable__label fitted sk-toggleable__label-arrow\"><div><div>remainder</div></div></label><div class=\"sk-toggleable__content fitted\"><pre>[]</pre></div> </div></div><div class=\"sk-serial\"><div class=\"sk-item\"><div class=\"sk-estimator fitted sk-toggleable\"><input class=\"sk-toggleable__control sk-hidden--visually\" id=\"sk-estimator-id-29\" type=\"checkbox\" ><label for=\"sk-estimator-id-29\" class=\"sk-toggleable__label fitted sk-toggleable__label-arrow\"><div><div>passthrough</div></div></label><div class=\"sk-toggleable__content fitted\"><pre>passthrough</pre></div> </div></div></div></div></div></div></div><div class=\"sk-item\"><div class=\"sk-estimator fitted sk-toggleable\"><input class=\"sk-toggleable__control sk-hidden--visually\" id=\"sk-estimator-id-30\" type=\"checkbox\" ><label for=\"sk-estimator-id-30\" class=\"sk-toggleable__label fitted sk-toggleable__label-arrow\"><div><div>LGBMRegressor</div></div></label><div class=\"sk-toggleable__content fitted\"><pre>LGBMRegressor(max_depth=7, n_estimators=50, random_state=42)</pre></div> </div></div></div></div></div></div></div></div></div></div></div>"
      ],
      "text/plain": [
       "RandomizedSearchCV(cv=5,\n",
       "                   estimator=Pipeline(steps=[('preprocessor',\n",
       "                                              ColumnTransformer(remainder='passthrough',\n",
       "                                                                transformers=[('ohe',\n",
       "                                                                               Pipeline(steps=[('simpleImputer_ohe',\n",
       "                                                                                                SimpleImputer(strategy='most_frequent')),\n",
       "                                                                                               ('ohe',\n",
       "                                                                                                OneHotEncoder(drop='first',\n",
       "                                                                                                              handle_unknown='ignore',\n",
       "                                                                                                              sparse_output=False))]),\n",
       "                                                                               ['vehicle_type',\n",
       "                                                                                'gearbox',\n",
       "                                                                                'model',\n",
       "                                                                                'fuel_type']),\n",
       "                                                                              ('ord',\n",
       "                                                                               Pipeli...\n",
       "                                                                                                SimpleImputer(strategy='most_frequent'))]),\n",
       "                                                                               ['repaired']),\n",
       "                                                                              ('num',\n",
       "                                                                               StandardScaler(),\n",
       "                                                                               ['registration_year',\n",
       "                                                                                'power',\n",
       "                                                                                'kilometer'])])),\n",
       "                                             ('model',\n",
       "                                              LGBMRegressor(random_state=42))]),\n",
       "                   n_jobs=-1,\n",
       "                   param_distributions=[{'model': [LGBMRegressor(random_state=42)],\n",
       "                                         'model__max_depth': range(3, 8),\n",
       "                                         'model__n_estimators': range(50, 100, 200)}],\n",
       "                   random_state=42, scoring='neg_root_mean_squared_error')"
      ]
     },
     "execution_count": 42,
     "metadata": {},
     "output_type": "execute_result"
    }
   ],
   "source": [
    "random_search_lgb = RandomizedSearchCV(\n",
    "    pipe_final_lgb,\n",
    "    param_grid_lgb,\n",
    "    cv=5,\n",
    "    scoring='neg_root_mean_squared_error',\n",
    "    n_iter=10,  # Количество случайных комбинаций\n",
    "    random_state=RANDOM_STATE,\n",
    "    n_jobs=-1\n",
    ")\n",
    "random_search_lgb.fit(X_train, y_train)"
   ]
  },
  {
   "cell_type": "markdown",
   "metadata": {
    "id": "xdYilOWE5BZs"
   },
   "source": [
    "## Анализ моделей"
   ]
  },
  {
   "cell_type": "markdown",
   "metadata": {
    "id": "XHezXcLc5BZt"
   },
   "source": [
    "**DecisionTreeRegressor.**"
   ]
  },
  {
   "cell_type": "code",
   "execution_count": null,
   "metadata": {
    "id": "jDlMMa285BZt",
    "outputId": "2e2f5329-5a4c-4000-f512-42e2fb57a13b"
   },
   "outputs": [
    {
     "name": "stdout",
     "output_type": "stream",
     "text": [
      "Лучшие параметры DecisionTreeRegressor: {'preprocessor__num': StandardScaler(), 'model__min_samples_split': 9, 'model__max_depth': 18, 'model': DecisionTreeRegressor(random_state=42)}\n"
     ]
    }
   ],
   "source": [
    "print('Лучшие параметры DecisionTreeRegressor:', random_search.best_params_)"
   ]
  },
  {
   "cell_type": "code",
   "execution_count": null,
   "metadata": {
    "id": "SK8FEAzf5BZt",
    "outputId": "4f78935d-1cd4-4eb1-d8c8-ddb10cc14898"
   },
   "outputs": [
    {
     "name": "stdout",
     "output_type": "stream",
     "text": [
      "Метрика RMSE, для модели DecisionTreeRegressor на кросс-валидации: 1801.74\n"
     ]
    }
   ],
   "source": [
    "best_tree_cv_rmse = -random_search.best_score_\n",
    "print(f'Метрика RMSE, для модели DecisionTreeRegressor на кросс-валидации: {best_tree_cv_rmse:.2f}')"
   ]
  },
  {
   "cell_type": "markdown",
   "metadata": {
    "id": "dliSUPao5BZt"
   },
   "source": [
    "Значение метрики RMSE меньше 2500."
   ]
  },
  {
   "cell_type": "code",
   "execution_count": null,
   "metadata": {
    "id": "Td2HTtxf5BZu",
    "outputId": "0b67ddb7-5514-4043-f922-74497134cecb"
   },
   "outputs": [
    {
     "name": "stdout",
     "output_type": "stream",
     "text": [
      "Среднее время обучения, DecisionTreeRegressor: 6.67 секунд\n",
      "Среднее время предсказания, DecisionTreeRegressor: 0.28 секунд\n"
     ]
    }
   ],
   "source": [
    "# Время обучения и предсказания для DecisionTreeRegressor\n",
    "mean_fit_time_tree = random_search.cv_results_['mean_fit_time'][random_search.best_index_]\n",
    "mean_score_time_tree = random_search.cv_results_['mean_score_time'][random_search.best_index_]\n",
    "print(f'Среднее время обучения, DecisionTreeRegressor: {mean_fit_time_tree:.2f} секунд')\n",
    "print(f'Среднее время предсказания, DecisionTreeRegressor: {mean_score_time_tree:.2f} секунд')"
   ]
  },
  {
   "cell_type": "markdown",
   "metadata": {
    "id": "9Lh4ZRBQ5BZv"
   },
   "source": [
    "**LGBMRegressor.**"
   ]
  },
  {
   "cell_type": "code",
   "execution_count": null,
   "metadata": {
    "id": "yLZqznTn5BZv",
    "outputId": "ba89438f-add7-461b-e8c4-6fef0e7eb597"
   },
   "outputs": [
    {
     "name": "stdout",
     "output_type": "stream",
     "text": [
      "Лучшие параметры LGBMRegressor: {'model__n_estimators': 50, 'model__max_depth': 7, 'model': LGBMRegressor(random_state=42)}\n"
     ]
    }
   ],
   "source": [
    "print(\"Лучшие параметры LGBMRegressor:\", random_search_lgb.best_params_)"
   ]
  },
  {
   "cell_type": "code",
   "execution_count": null,
   "metadata": {
    "id": "gwFpJtBi5BZw",
    "outputId": "0cc48322-1493-46fe-b906-c9b374e66058"
   },
   "outputs": [
    {
     "name": "stdout",
     "output_type": "stream",
     "text": [
      "Метрика RMSE, для модели LGBMRegressor на кросс-валидации: 1791.93\n"
     ]
    }
   ],
   "source": [
    "best_lgbm_cv_rmse = -random_search_lgb.best_score_\n",
    "print(f'Метрика RMSE, для модели LGBMRegressor на кросс-валидации: {best_lgbm_cv_rmse:.2f}')"
   ]
  },
  {
   "cell_type": "markdown",
   "metadata": {
    "id": "GMXgr5g-5BZw"
   },
   "source": [
    "Значение метрики RMSE меньше 2500."
   ]
  },
  {
   "cell_type": "code",
   "execution_count": null,
   "metadata": {
    "id": "-o2zMVrh5BZw",
    "outputId": "ce7dc23a-8141-4811-c267-6fb494219b06",
    "scrolled": true
   },
   "outputs": [
    {
     "name": "stdout",
     "output_type": "stream",
     "text": [
      "Среднее время обучения, LGBMRegressor: 51.33 секунд\n",
      "Среднее время предсказания, LGBMRegressor: 0.52 секунд\n"
     ]
    }
   ],
   "source": [
    "# Время обучения и предсказания для LGBMRegressor\n",
    "mean_fit_time_lgb = random_search_lgb.cv_results_['mean_fit_time'][random_search_lgb.best_index_]\n",
    "mean_score_time_lgb = random_search_lgb.cv_results_['mean_score_time'][random_search_lgb.best_index_]\n",
    "print(f'Среднее время обучения, LGBMRegressor: {mean_fit_time_lgb:.2f} секунд')\n",
    "print(f'Среднее время предсказания, LGBMRegressor: {mean_score_time_lgb:.2f} секунд')"
   ]
  },
  {
   "cell_type": "markdown",
   "metadata": {
    "id": "K0qdiPBk5BZx"
   },
   "source": [
    "**Создадим таблицу для сравнения:**\n",
    "\n",
    "| **Модель**                | **DecisionTreeRegressor**                     | **LGBMRegressor**                          |\n",
    "|---------------------------|-----------------------------------------------|--------------------------------------------|\n",
    "| **RMSE (кросс-валидация)**| 1801.74                                       | 1791.93                                    |\n",
    "| **Среднее время обучения**| 6.53 секунд                                   | 4.34 секунд                                |\n",
    "| **Среднее время предсказания** | 0.28 секунд                               | 0.50 секунд                                |\n",
    "\n",
    "\n",
    "- Качество: `LGBMRegressor` показывает лучшее качество RMSE (`1791,93`) по сравнению с `DecisionTreeRegressor`.\n",
    "- Скорость обучения: `LGBMRegressor` обучается быстрее (`4,34`), но медленее при предсказании (`0,50`).\n",
    "- Скорость предсказания: `DecisionTreeRegressor` работает быстрее при предсказании (`0,28`), но медленее при обучении (`6,53`).\n",
    "\n",
    "`LGBMRegressor` выглядит предпочтительнее благодаря лучшему качеству и более быстрому обучению."
   ]
  },
  {
   "cell_type": "markdown",
   "metadata": {
    "id": "-sZl4n4Q5BZx"
   },
   "source": [
    "Используем лучшую модель `LGBMRegressor` (предпочтительную) для проверки на тестовой выборке."
   ]
  },
  {
   "cell_type": "code",
   "execution_count": null,
   "metadata": {
    "id": "zr812vaX5BZx"
   },
   "outputs": [],
   "source": [
    "best_model = random_search_lgb.best_estimator_"
   ]
  },
  {
   "cell_type": "code",
   "execution_count": null,
   "metadata": {
    "id": "JdJCS4q25BZy",
    "outputId": "d29c8bfb-8c93-467e-b8b3-08d3a415ef13"
   },
   "outputs": [
    {
     "name": "stderr",
     "output_type": "stream",
     "text": [
      "/opt/conda/lib/python3.9/site-packages/sklearn/utils/deprecation.py:151: FutureWarning: 'force_all_finite' was renamed to 'ensure_all_finite' in 1.6 and will be removed in 1.8.\n",
      "  warnings.warn(\n"
     ]
    },
    {
     "name": "stdout",
     "output_type": "stream",
     "text": [
      "RMSE на тестовой выборке для лучшей модели: 1790.09\n"
     ]
    }
   ],
   "source": [
    "y_pred_best = best_model.predict(X_test)\n",
    "test_rmse = np.sqrt(mean_squared_error(y_test, y_pred_best))\n",
    "print(f\"RMSE на тестовой выборке для лучшей модели: {test_rmse:.2f}\")"
   ]
  },
  {
   "cell_type": "markdown",
   "metadata": {
    "id": "icLyPSmk5BZ1"
   },
   "source": [
    "**Промежуточный вывод: Обучение моделей и Анализ моделей**\n",
    "\n",
    "**1. Обученные модели**\n",
    "В рамках выполнения задания были обучены две модели:\n",
    "1. **DecisionTreeRegressor** (дерево решений).\n",
    "2. **LGBMRegressor** (градиентный бустинг на основе LightGBM).\n",
    "\n",
    "Для каждой модели были протестированы различные комбинации гиперпараметров с использованием `RandomizedSearchCV`. Это позволило найти оптимальные настройки для обеих моделей.\n",
    "\n",
    "**2. Лучшие параметры и качество моделей**\n",
    "\n",
    "**DecisionTreeRegressor**\n",
    "- **Лучшие параметры**:\n",
    "  - `max_depth=18`\n",
    "  - `min_samples_split=9`\n",
    "  - Числовые признаки были масштабированы с помощью `StandardScaler`.\n",
    "- **Качество**:\n",
    "  - **RMSE** на кросс-валидации: **1801,74**.\n",
    "  - **Среднее время обучения**: **6,53 секунд**.\n",
    "  - **Среднее время предсказания**: **0,28 секунд**.\n",
    "\n",
    "**LGBMRegressor**\n",
    "- **Лучшие параметры**:\n",
    "  - `n_estimators=50`\n",
    "  - `max_depth=7`\n",
    "- **Качество**:\n",
    "  - **RMSE** на кросс-валидации: **1791,93**.\n",
    "  - **Среднее время обучения**: **4,34 секунд**.\n",
    "  - **Среднее время предсказания**: **0,50 секунд**.\n",
    "\n",
    "**3. Сравнение моделей**\n",
    "- **Качество**:\n",
    "  - `LGBMRegressor` показывает лучшее качество RMSE (1791,93) по сравнению с `DecisionTreeRegressor`.\n",
    "- **Скорость обучения**:\n",
    "  - `LGBMRegressor` обучается быстрее (`4,34`), но медленее при предсказании (`0,50`).\n",
    "- **Скорость предсказания**:\n",
    "  - `DecisionTreeRegressor` работает быстрее при предсказании (`0,28`), но медленее при обучении (`6,53`).\n",
    "\n",
    "**4. Выбор лучшей модели**\n",
    "На основании критериев заказчика (качество, скорость обучения, скорость предсказания):\n",
    "- **Лучшая модель**: `LGBMRegressor`.\n",
    "  - Причина: Меньшее значение RMSE на кросс-валидации.\n",
    "  - `LGBMRegressor` выглядит предпочтительнее благодаря лучшему качеству и более быстрому обучению.\n",
    "\n",
    "**Итог:** Модель `LGBMRegressor` выбрана как лучшая с точки зрения качества предсказания. Её RMSE на тестовой выборке составляет **1790,09**, что удовлетворяет требованиям заказчика."
   ]
  },
  {
   "cell_type": "markdown",
   "metadata": {
    "id": "6UesT9mT5BZ1"
   },
   "source": [
    "## Общий вывод\n",
    "\n",
    "**1. Описание задачи**\n",
    "- **Цель**: Необходимо создать модель для точного предсказания рыночной стоимости подержанных автомобилей на основе их характеристик. Модель, которая позволит клиентам быстро и точно оценить стоимость своего автомобиля.\n",
    "- **Данные**:\n",
    "  - **Источник**: Исторические данные о продажах автомобилей (файл `/datasets/autos.csv`).\n",
    "  - **Типы данных**:\n",
    "    - Числовые признаки: `price`, `registration_year`, `power`, `kilometer`.\n",
    "    - Категориальные признаки: `vehicle_type`, `gearbox`, `model`, `fuel_type`, `repaired`.\n",
    "    - Временные признаки: `date_crawled`, `last_seen`, `date_created`.\n",
    "\n",
    "**2. Ключевые этапы работы**\n",
    "**Предобработка данных**\n",
    "1. **Обработка пропусков**:\n",
    "   - Пропуски в категориальных признаках (`vehicle_type`, `fuel_type`, `repaired`) заполнены значением `unknown`.\n",
    "   - Пропуски в `gearbox` и `model` заменены модой.\n",
    "   \n",
    "   \n",
    "2. **Удаление аномалий**:\n",
    "   - В `price` удалены объявления с ценой < 10 евро.\n",
    "   - В `registration_year` оставлены только реалистичные года, относительно даты создания объявления..\n",
    "   - В `power` удалены записи с мощностью < 1 л.с. или > 2000 л.с.\n",
    "   \n",
    "   \n",
    "3. **Удаление неинформативных признаков**:\n",
    "   - Удалены столбцы: `number_of_pictures`, `date_crawled`, `last_seen`, `postal_code`, `registration_month`, `date_created`.\n",
    "   \n",
    "**Корреляции**\n",
    "- Наиболее важные признаки для предсказания цены:\n",
    "  - `registration_year` (0.68): Умеренная положительная корреляция. Чем новее автомобиль, тем выше его стоимость.\n",
    "  - `model` (0.57): Умеренная положительная корреляция. Некоторые модели имеют тенденцию быть дороже.\n",
    "  - `power` (0.35): Слабая положительная корреляция. Более мощные автомобили несколько дороже.\n",
    "  - `repaired:` (-0.33): Отрицательная корреляция. Факт ремонта снижает цену.\n",
    "  - `kilometer` (-0.31): Отрицательная корреляция. Чем больше пробег, тем ниже стоимость.\n",
    "\n",
    "**Обучение моделей**\n",
    "1. **Кодирование категориальных признаков**:\n",
    "   - Для признаков без порядка применено OHE-кодирование с параметром `drop='first'`.\n",
    "   - Для признаков с порядком использован Ordinal Encoding.\n",
    "   \n",
    "   \n",
    "2. **Масштабирование числовых признаков**: Применен `StandardScaler`.\n",
    "\n",
    "\n",
    "3. **Обучение модели**:\n",
    "  - `DecisionTreeRegressor`: Дерево решений.\n",
    "  - `LGBMRegressor`: Градиентный бустинг на основе LightGBM.\n",
    "- **Настройка гиперпараметров**: Использован метод `RandomizedSearchCV` для поиска оптимальных гиперпараметров.\n",
    "- **Оценка качества**: Метрика RMSE, кросс-валидация (5 фолдов).\n",
    "\n",
    "**3. Результаты**\n",
    "**Лучшая модель**\n",
    "- **Модель**: `LGBMRegressor`.\n",
    "- **Качество**:\n",
    "  - RMSE на кросс-валидации: **1791,93**.\n",
    "  - RMSE на тестовой выборке: **1790,09**.\n",
    "- **Скорость**:\n",
    "  - Среднее время обучения: **4,34 секунд**.\n",
    "  - Среднее время предсказания: **0,50 секунд**.\n",
    "\n",
    "**4. Рекомендации**\n",
    "**Для бизнеса**\n",
    "- Внедрить модель `LGBMRegressor` для автоматической оценки стоимости автомобилей.\n",
    "- Регулярно обновлять данные для учета изменений на рынке (например, новых моделей автомобилей).\n",
    "\n",
    "**Заключение**: Проект успешно выполнен, и модель `LGBMRegressor` показала высокую точность предсказаний (RMSE = **1790,09**). Она может быть внедрена в бизнес-процессы для автоматической оценки стоимости автомобилей."
   ]
  }
 ],
 "metadata": {
  "ExecuteTimeLog": [
   {
    "duration": 1523,
    "start_time": "2025-04-18T16:42:14.821Z"
   },
   {
    "duration": 73,
    "start_time": "2025-04-18T16:42:57.950Z"
   },
   {
    "duration": 1050,
    "start_time": "2025-04-18T16:51:17.543Z"
   },
   {
    "duration": 5,
    "start_time": "2025-04-18T17:30:08.097Z"
   },
   {
    "duration": 1102,
    "start_time": "2025-04-18T17:31:05.570Z"
   },
   {
    "duration": 1277,
    "start_time": "2025-04-18T17:31:57.073Z"
   },
   {
    "duration": 1123,
    "start_time": "2025-04-18T17:31:58.353Z"
   },
   {
    "duration": 5,
    "start_time": "2025-04-18T17:31:59.479Z"
   },
   {
    "duration": 119,
    "start_time": "2025-04-18T17:31:59.485Z"
   },
   {
    "duration": 28,
    "start_time": "2025-04-18T17:32:14.130Z"
   },
   {
    "duration": 1427,
    "start_time": "2025-04-18T17:32:20.461Z"
   },
   {
    "duration": 9,
    "start_time": "2025-04-18T17:41:35.588Z"
   },
   {
    "duration": 8,
    "start_time": "2025-04-18T17:41:38.937Z"
   },
   {
    "duration": 149,
    "start_time": "2025-04-18T17:41:42.300Z"
   },
   {
    "duration": 17,
    "start_time": "2025-04-18T18:54:19.232Z"
   },
   {
    "duration": 4898,
    "start_time": "2025-04-18T18:54:32.431Z"
   },
   {
    "duration": 15,
    "start_time": "2025-04-18T18:59:19.127Z"
   },
   {
    "duration": 4701,
    "start_time": "2025-04-18T18:59:21.384Z"
   },
   {
    "duration": 14,
    "start_time": "2025-04-18T19:04:18.639Z"
   },
   {
    "duration": 4643,
    "start_time": "2025-04-18T19:04:18.864Z"
   },
   {
    "duration": 155,
    "start_time": "2025-04-18T19:07:52.456Z"
   },
   {
    "duration": 4608,
    "start_time": "2025-04-18T19:07:54.082Z"
   },
   {
    "duration": 25,
    "start_time": "2025-04-18T19:09:57.932Z"
   },
   {
    "duration": 4822,
    "start_time": "2025-04-18T19:09:58.302Z"
   },
   {
    "duration": 9,
    "start_time": "2025-04-18T19:16:07.368Z"
   },
   {
    "duration": 9,
    "start_time": "2025-04-18T19:16:16.541Z"
   },
   {
    "duration": 38,
    "start_time": "2025-04-18T19:17:37.656Z"
   },
   {
    "duration": 41,
    "start_time": "2025-04-18T19:17:58.040Z"
   },
   {
    "duration": 4642,
    "start_time": "2025-04-18T19:18:01.718Z"
   },
   {
    "duration": 16,
    "start_time": "2025-04-18T19:20:05.937Z"
   },
   {
    "duration": 14,
    "start_time": "2025-04-18T19:20:06.736Z"
   },
   {
    "duration": 4241,
    "start_time": "2025-04-18T19:20:10.350Z"
   },
   {
    "duration": 1484,
    "start_time": "2025-04-19T06:02:09.809Z"
   },
   {
    "duration": 1017,
    "start_time": "2025-04-19T06:02:11.295Z"
   },
   {
    "duration": 5,
    "start_time": "2025-04-19T06:02:12.314Z"
   },
   {
    "duration": 1304,
    "start_time": "2025-04-19T06:02:12.320Z"
   },
   {
    "duration": 18,
    "start_time": "2025-04-19T06:02:13.627Z"
   },
   {
    "duration": 73,
    "start_time": "2025-04-19T06:02:13.647Z"
   },
   {
    "duration": 5445,
    "start_time": "2025-04-19T06:02:13.722Z"
   },
   {
    "duration": 17,
    "start_time": "2025-04-19T06:03:31.580Z"
   },
   {
    "duration": 5609,
    "start_time": "2025-04-19T06:03:34.376Z"
   },
   {
    "duration": 17,
    "start_time": "2025-04-19T06:04:14.436Z"
   },
   {
    "duration": 5207,
    "start_time": "2025-04-19T06:04:16.609Z"
   },
   {
    "duration": 16,
    "start_time": "2025-04-19T06:04:58.931Z"
   },
   {
    "duration": 5275,
    "start_time": "2025-04-19T06:05:00.694Z"
   },
   {
    "duration": 17,
    "start_time": "2025-04-19T06:05:25.442Z"
   },
   {
    "duration": 5329,
    "start_time": "2025-04-19T06:05:28.297Z"
   },
   {
    "duration": 18,
    "start_time": "2025-04-19T06:06:41.681Z"
   },
   {
    "duration": 5385,
    "start_time": "2025-04-19T06:06:43.632Z"
   },
   {
    "duration": 20,
    "start_time": "2025-04-19T06:07:01.542Z"
   },
   {
    "duration": 5117,
    "start_time": "2025-04-19T06:07:02.868Z"
   },
   {
    "duration": 488,
    "start_time": "2025-04-19T06:36:16.557Z"
   },
   {
    "duration": 4,
    "start_time": "2025-04-19T07:42:38.014Z"
   },
   {
    "duration": 4,
    "start_time": "2025-04-19T07:44:07.357Z"
   },
   {
    "duration": 4,
    "start_time": "2025-04-19T07:46:00.094Z"
   },
   {
    "duration": 481,
    "start_time": "2025-04-19T07:51:39.512Z"
   },
   {
    "duration": 505,
    "start_time": "2025-04-19T07:54:14.089Z"
   },
   {
    "duration": 108,
    "start_time": "2025-04-19T07:59:36.008Z"
   },
   {
    "duration": 504,
    "start_time": "2025-04-19T07:59:42.786Z"
   },
   {
    "duration": 536,
    "start_time": "2025-04-19T07:59:47.897Z"
   },
   {
    "duration": 531,
    "start_time": "2025-04-19T07:59:48.436Z"
   },
   {
    "duration": 1239,
    "start_time": "2025-04-19T08:00:00.611Z"
   },
   {
    "duration": 929,
    "start_time": "2025-04-19T08:00:01.853Z"
   },
   {
    "duration": 4,
    "start_time": "2025-04-19T08:00:02.784Z"
   },
   {
    "duration": 1237,
    "start_time": "2025-04-19T08:00:02.791Z"
   },
   {
    "duration": 17,
    "start_time": "2025-04-19T08:00:04.030Z"
   },
   {
    "duration": 156,
    "start_time": "2025-04-19T08:00:04.049Z"
   },
   {
    "duration": 4733,
    "start_time": "2025-04-19T08:00:04.206Z"
   },
   {
    "duration": 3,
    "start_time": "2025-04-19T08:00:08.941Z"
   },
   {
    "duration": 50,
    "start_time": "2025-04-19T08:00:08.946Z"
   },
   {
    "duration": 516,
    "start_time": "2025-04-19T08:00:08.999Z"
   },
   {
    "duration": 583,
    "start_time": "2025-04-19T08:00:09.517Z"
   },
   {
    "duration": 162,
    "start_time": "2025-04-19T08:11:16.924Z"
   },
   {
    "duration": 258,
    "start_time": "2025-04-19T08:31:01.491Z"
   },
   {
    "duration": 45,
    "start_time": "2025-04-19T10:25:14.585Z"
   },
   {
    "duration": 7,
    "start_time": "2025-04-19T10:25:24.965Z"
   },
   {
    "duration": 1334,
    "start_time": "2025-04-19T10:25:31.312Z"
   },
   {
    "duration": 866,
    "start_time": "2025-04-19T10:25:32.648Z"
   },
   {
    "duration": 5,
    "start_time": "2025-04-19T10:25:33.516Z"
   },
   {
    "duration": 1128,
    "start_time": "2025-04-19T10:25:33.522Z"
   },
   {
    "duration": 16,
    "start_time": "2025-04-19T10:25:34.652Z"
   },
   {
    "duration": 62,
    "start_time": "2025-04-19T10:25:34.670Z"
   },
   {
    "duration": 4411,
    "start_time": "2025-04-19T10:25:34.734Z"
   },
   {
    "duration": 3,
    "start_time": "2025-04-19T10:25:39.147Z"
   },
   {
    "duration": 7,
    "start_time": "2025-04-19T10:25:39.152Z"
   },
   {
    "duration": 475,
    "start_time": "2025-04-19T10:25:39.161Z"
   },
   {
    "duration": 485,
    "start_time": "2025-04-19T10:25:39.638Z"
   },
   {
    "duration": 235,
    "start_time": "2025-04-19T10:25:40.124Z"
   },
   {
    "duration": 77,
    "start_time": "2025-04-19T10:25:40.361Z"
   },
   {
    "duration": 69,
    "start_time": "2025-04-19T10:27:09.088Z"
   },
   {
    "duration": 49,
    "start_time": "2025-04-19T10:27:17.352Z"
   },
   {
    "duration": 90,
    "start_time": "2025-04-19T10:27:22.031Z"
   },
   {
    "duration": 86,
    "start_time": "2025-04-19T10:54:26.860Z"
   },
   {
    "duration": 81,
    "start_time": "2025-04-19T10:54:51.675Z"
   },
   {
    "duration": 10,
    "start_time": "2025-04-19T10:57:43.655Z"
   },
   {
    "duration": 1730,
    "start_time": "2025-04-19T11:17:25.274Z"
   },
   {
    "duration": 1281,
    "start_time": "2025-04-19T12:41:08.095Z"
   },
   {
    "duration": 1076,
    "start_time": "2025-04-19T12:41:21.324Z"
   },
   {
    "duration": 1148,
    "start_time": "2025-04-19T12:41:29.027Z"
   },
   {
    "duration": 34,
    "start_time": "2025-04-19T12:41:33.998Z"
   },
   {
    "duration": 1588,
    "start_time": "2025-04-19T12:41:38.993Z"
   },
   {
    "duration": 1677,
    "start_time": "2025-04-19T12:43:53.190Z"
   },
   {
    "duration": 1592,
    "start_time": "2025-04-19T12:44:54.541Z"
   },
   {
    "duration": 39,
    "start_time": "2025-04-19T12:52:04.975Z"
   },
   {
    "duration": 1632,
    "start_time": "2025-04-19T12:52:10.813Z"
   },
   {
    "duration": 1167,
    "start_time": "2025-04-19T12:55:13.279Z"
   },
   {
    "duration": 868,
    "start_time": "2025-04-19T12:55:14.448Z"
   },
   {
    "duration": 4,
    "start_time": "2025-04-19T12:55:15.318Z"
   },
   {
    "duration": 1138,
    "start_time": "2025-04-19T12:55:15.335Z"
   },
   {
    "duration": 16,
    "start_time": "2025-04-19T12:55:16.475Z"
   },
   {
    "duration": 78,
    "start_time": "2025-04-19T12:55:16.492Z"
   },
   {
    "duration": 4529,
    "start_time": "2025-04-19T12:55:16.572Z"
   },
   {
    "duration": 3,
    "start_time": "2025-04-19T12:55:21.102Z"
   },
   {
    "duration": 8,
    "start_time": "2025-04-19T12:55:21.106Z"
   },
   {
    "duration": 480,
    "start_time": "2025-04-19T12:55:21.115Z"
   },
   {
    "duration": 529,
    "start_time": "2025-04-19T12:55:21.597Z"
   },
   {
    "duration": 247,
    "start_time": "2025-04-19T12:55:22.128Z"
   },
   {
    "duration": 78,
    "start_time": "2025-04-19T12:55:22.377Z"
   },
   {
    "duration": 51,
    "start_time": "2025-04-19T12:55:22.458Z"
   },
   {
    "duration": 105,
    "start_time": "2025-04-19T12:55:22.511Z"
   },
   {
    "duration": 75,
    "start_time": "2025-04-19T12:55:22.618Z"
   },
   {
    "duration": 7,
    "start_time": "2025-04-19T12:55:22.695Z"
   },
   {
    "duration": 1809,
    "start_time": "2025-04-19T12:55:22.705Z"
   },
   {
    "duration": 1579,
    "start_time": "2025-04-19T12:55:24.516Z"
   },
   {
    "duration": 1725,
    "start_time": "2025-04-19T12:55:26.097Z"
   },
   {
    "duration": 1209,
    "start_time": "2025-04-19T13:07:33.924Z"
   },
   {
    "duration": 830,
    "start_time": "2025-04-19T13:07:35.135Z"
   },
   {
    "duration": 4,
    "start_time": "2025-04-19T13:07:35.967Z"
   },
   {
    "duration": 1112,
    "start_time": "2025-04-19T13:07:35.973Z"
   },
   {
    "duration": 16,
    "start_time": "2025-04-19T13:07:37.087Z"
   },
   {
    "duration": 70,
    "start_time": "2025-04-19T13:07:37.105Z"
   },
   {
    "duration": 4236,
    "start_time": "2025-04-19T13:07:37.177Z"
   },
   {
    "duration": 3,
    "start_time": "2025-04-19T13:07:41.415Z"
   },
   {
    "duration": 14,
    "start_time": "2025-04-19T13:07:41.420Z"
   },
   {
    "duration": 446,
    "start_time": "2025-04-19T13:07:41.436Z"
   },
   {
    "duration": 477,
    "start_time": "2025-04-19T13:07:41.884Z"
   },
   {
    "duration": 240,
    "start_time": "2025-04-19T13:07:42.362Z"
   },
   {
    "duration": 73,
    "start_time": "2025-04-19T13:07:42.604Z"
   },
   {
    "duration": 63,
    "start_time": "2025-04-19T13:07:42.680Z"
   },
   {
    "duration": 98,
    "start_time": "2025-04-19T13:07:42.745Z"
   },
   {
    "duration": 40,
    "start_time": "2025-04-19T13:07:42.845Z"
   },
   {
    "duration": 6,
    "start_time": "2025-04-19T13:07:50.348Z"
   },
   {
    "duration": 6,
    "start_time": "2025-04-19T13:10:43.977Z"
   },
   {
    "duration": 1654,
    "start_time": "2025-04-19T13:11:05.039Z"
   },
   {
    "duration": 4,
    "start_time": "2025-04-19T13:11:51.969Z"
   },
   {
    "duration": 35,
    "start_time": "2025-04-19T13:12:23.567Z"
   },
   {
    "duration": 138,
    "start_time": "2025-04-19T13:14:06.013Z"
   },
   {
    "duration": 4,
    "start_time": "2025-04-19T14:12:46.689Z"
   },
   {
    "duration": 30,
    "start_time": "2025-04-19T14:13:20.485Z"
   },
   {
    "duration": 31,
    "start_time": "2025-04-19T14:16:04.638Z"
   },
   {
    "duration": 29,
    "start_time": "2025-04-19T14:16:13.147Z"
   },
   {
    "duration": 21,
    "start_time": "2025-04-19T14:16:47.488Z"
   },
   {
    "duration": 24,
    "start_time": "2025-04-19T14:16:57.362Z"
   },
   {
    "duration": 32,
    "start_time": "2025-04-19T14:17:05.246Z"
   },
   {
    "duration": 31,
    "start_time": "2025-04-19T14:18:05.353Z"
   },
   {
    "duration": 32,
    "start_time": "2025-04-19T14:18:22.951Z"
   },
   {
    "duration": 33,
    "start_time": "2025-04-19T14:19:57.427Z"
   },
   {
    "duration": 49,
    "start_time": "2025-04-19T14:21:02.073Z"
   },
   {
    "duration": 1600,
    "start_time": "2025-04-19T14:29:55.687Z"
   },
   {
    "duration": 1627,
    "start_time": "2025-04-19T14:55:01.266Z"
   },
   {
    "duration": 4,
    "start_time": "2025-04-19T15:08:41.212Z"
   },
   {
    "duration": 3,
    "start_time": "2025-04-19T15:09:31.380Z"
   },
   {
    "duration": 4,
    "start_time": "2025-04-19T15:10:01.060Z"
   },
   {
    "duration": 4,
    "start_time": "2025-04-19T15:13:55.025Z"
   },
   {
    "duration": 1729,
    "start_time": "2025-04-19T15:47:21.756Z"
   },
   {
    "duration": 1670,
    "start_time": "2025-04-19T16:06:46.680Z"
   },
   {
    "duration": 1590,
    "start_time": "2025-04-19T16:07:07.206Z"
   },
   {
    "duration": 1538,
    "start_time": "2025-04-19T16:07:16.440Z"
   },
   {
    "duration": 1710,
    "start_time": "2025-04-19T16:39:02.083Z"
   },
   {
    "duration": 4,
    "start_time": "2025-04-19T16:39:27.307Z"
   },
   {
    "duration": 6,
    "start_time": "2025-04-19T16:49:33.593Z"
   },
   {
    "duration": 5,
    "start_time": "2025-04-19T16:50:30.056Z"
   },
   {
    "duration": 5608,
    "start_time": "2025-04-19T16:50:35.392Z"
   },
   {
    "duration": 5,
    "start_time": "2025-04-19T16:53:37.442Z"
   },
   {
    "duration": 3709,
    "start_time": "2025-04-19T16:53:45.501Z"
   },
   {
    "duration": 8,
    "start_time": "2025-04-19T16:56:43.640Z"
   },
   {
    "duration": 1366,
    "start_time": "2025-04-19T16:57:08.386Z"
   },
   {
    "duration": 7,
    "start_time": "2025-04-19T16:57:22.783Z"
   },
   {
    "duration": 1758,
    "start_time": "2025-04-19T16:57:42.201Z"
   },
   {
    "duration": 1410,
    "start_time": "2025-04-19T16:57:48.076Z"
   },
   {
    "duration": 1439,
    "start_time": "2025-04-19T16:57:52.461Z"
   },
   {
    "duration": 1281,
    "start_time": "2025-04-19T16:57:58.854Z"
   },
   {
    "duration": 1230,
    "start_time": "2025-04-19T16:58:09.993Z"
   },
   {
    "duration": 1277,
    "start_time": "2025-04-19T16:58:35.377Z"
   },
   {
    "duration": 1496,
    "start_time": "2025-04-19T16:59:00.272Z"
   },
   {
    "duration": 1283,
    "start_time": "2025-04-19T16:59:05.936Z"
   },
   {
    "duration": 16,
    "start_time": "2025-04-19T19:15:16.436Z"
   },
   {
    "duration": 3338,
    "start_time": "2025-04-19T19:22:27.115Z"
   },
   {
    "duration": 80,
    "start_time": "2025-04-19T19:22:51.039Z"
   },
   {
    "duration": 83,
    "start_time": "2025-04-19T19:24:38.093Z"
   },
   {
    "duration": 2284,
    "start_time": "2025-04-19T19:26:49.538Z"
   },
   {
    "duration": 1165,
    "start_time": "2025-04-19T19:26:51.824Z"
   },
   {
    "duration": 854,
    "start_time": "2025-04-19T19:26:52.991Z"
   },
   {
    "duration": 5,
    "start_time": "2025-04-19T19:26:53.847Z"
   },
   {
    "duration": 1139,
    "start_time": "2025-04-19T19:26:53.853Z"
   },
   {
    "duration": 15,
    "start_time": "2025-04-19T19:26:54.994Z"
   },
   {
    "duration": 67,
    "start_time": "2025-04-19T19:26:55.011Z"
   },
   {
    "duration": 4309,
    "start_time": "2025-04-19T19:26:55.079Z"
   },
   {
    "duration": 3,
    "start_time": "2025-04-19T19:26:59.389Z"
   },
   {
    "duration": 9,
    "start_time": "2025-04-19T19:26:59.394Z"
   },
   {
    "duration": 463,
    "start_time": "2025-04-19T19:26:59.404Z"
   },
   {
    "duration": 483,
    "start_time": "2025-04-19T19:26:59.868Z"
   },
   {
    "duration": 248,
    "start_time": "2025-04-19T19:27:00.352Z"
   },
   {
    "duration": 73,
    "start_time": "2025-04-19T19:27:00.601Z"
   },
   {
    "duration": 62,
    "start_time": "2025-04-19T19:27:00.676Z"
   },
   {
    "duration": 102,
    "start_time": "2025-04-19T19:27:00.740Z"
   },
   {
    "duration": 40,
    "start_time": "2025-04-19T19:27:00.844Z"
   },
   {
    "duration": 20,
    "start_time": "2025-04-19T19:27:00.886Z"
   },
   {
    "duration": 6,
    "start_time": "2025-04-19T19:27:00.908Z"
   },
   {
    "duration": 23,
    "start_time": "2025-04-19T19:27:00.915Z"
   },
   {
    "duration": 1707,
    "start_time": "2025-04-19T19:27:00.939Z"
   },
   {
    "duration": 3,
    "start_time": "2025-04-19T19:27:02.648Z"
   },
   {
    "duration": 1661,
    "start_time": "2025-04-19T19:27:02.652Z"
   },
   {
    "duration": 4,
    "start_time": "2025-04-19T19:27:04.314Z"
   },
   {
    "duration": 1637,
    "start_time": "2025-04-19T19:27:04.319Z"
   },
   {
    "duration": 3,
    "start_time": "2025-04-19T19:27:05.957Z"
   },
   {
    "duration": 1756,
    "start_time": "2025-04-19T19:27:05.961Z"
   },
   {
    "duration": 3,
    "start_time": "2025-04-19T19:27:07.720Z"
   },
   {
    "duration": 86,
    "start_time": "2025-04-19T19:27:07.725Z"
   },
   {
    "duration": 5949,
    "start_time": "2025-04-19T19:29:46.231Z"
   },
   {
    "duration": 5963,
    "start_time": "2025-04-19T19:31:56.346Z"
   },
   {
    "duration": 6003,
    "start_time": "2025-04-19T19:32:20.240Z"
   },
   {
    "duration": 5154,
    "start_time": "2025-04-19T19:40:43.774Z"
   },
   {
    "duration": 21,
    "start_time": "2025-04-19T19:46:04.026Z"
   },
   {
    "duration": 15,
    "start_time": "2025-04-19T21:28:19.208Z"
   },
   {
    "duration": 2347,
    "start_time": "2025-04-19T21:28:29.955Z"
   },
   {
    "duration": 1183,
    "start_time": "2025-04-19T21:28:32.304Z"
   },
   {
    "duration": 964,
    "start_time": "2025-04-19T21:28:33.489Z"
   },
   {
    "duration": 4,
    "start_time": "2025-04-19T21:28:34.455Z"
   },
   {
    "duration": 1125,
    "start_time": "2025-04-19T21:28:34.461Z"
   },
   {
    "duration": 17,
    "start_time": "2025-04-19T21:28:35.587Z"
   },
   {
    "duration": 79,
    "start_time": "2025-04-19T21:28:35.605Z"
   },
   {
    "duration": 4322,
    "start_time": "2025-04-19T21:28:35.685Z"
   },
   {
    "duration": 18,
    "start_time": "2025-04-19T21:30:16.970Z"
   },
   {
    "duration": 4375,
    "start_time": "2025-04-19T21:30:20.124Z"
   },
   {
    "duration": 2328,
    "start_time": "2025-04-19T21:41:21.704Z"
   },
   {
    "duration": 1262,
    "start_time": "2025-04-19T21:41:24.034Z"
   },
   {
    "duration": 854,
    "start_time": "2025-04-19T21:41:25.299Z"
   },
   {
    "duration": 4,
    "start_time": "2025-04-19T21:41:26.155Z"
   },
   {
    "duration": 1122,
    "start_time": "2025-04-19T21:41:26.162Z"
   },
   {
    "duration": 17,
    "start_time": "2025-04-19T21:41:27.285Z"
   },
   {
    "duration": 67,
    "start_time": "2025-04-19T21:41:27.304Z"
   },
   {
    "duration": 4278,
    "start_time": "2025-04-19T21:41:27.373Z"
   },
   {
    "duration": 3,
    "start_time": "2025-04-19T21:41:31.652Z"
   },
   {
    "duration": 23,
    "start_time": "2025-04-19T21:41:31.657Z"
   },
   {
    "duration": 461,
    "start_time": "2025-04-19T21:41:31.682Z"
   },
   {
    "duration": 486,
    "start_time": "2025-04-19T21:41:32.144Z"
   },
   {
    "duration": 244,
    "start_time": "2025-04-19T21:41:32.634Z"
   },
   {
    "duration": 77,
    "start_time": "2025-04-19T21:41:32.880Z"
   },
   {
    "duration": 55,
    "start_time": "2025-04-19T21:41:32.959Z"
   },
   {
    "duration": 90,
    "start_time": "2025-04-19T21:41:33.015Z"
   },
   {
    "duration": 52,
    "start_time": "2025-04-19T21:41:33.107Z"
   },
   {
    "duration": 21,
    "start_time": "2025-04-19T21:41:33.161Z"
   },
   {
    "duration": 7,
    "start_time": "2025-04-19T21:41:33.184Z"
   },
   {
    "duration": 8,
    "start_time": "2025-04-19T21:41:33.193Z"
   },
   {
    "duration": 1664,
    "start_time": "2025-04-19T21:41:33.202Z"
   },
   {
    "duration": 4,
    "start_time": "2025-04-19T21:41:34.868Z"
   },
   {
    "duration": 1705,
    "start_time": "2025-04-19T21:41:34.873Z"
   },
   {
    "duration": 3,
    "start_time": "2025-04-19T21:41:36.580Z"
   },
   {
    "duration": 1660,
    "start_time": "2025-04-19T21:41:36.585Z"
   },
   {
    "duration": 4,
    "start_time": "2025-04-19T21:41:38.246Z"
   },
   {
    "duration": 1740,
    "start_time": "2025-04-19T21:41:38.252Z"
   },
   {
    "duration": 4,
    "start_time": "2025-04-19T21:41:39.994Z"
   },
   {
    "duration": 95,
    "start_time": "2025-04-19T21:41:40.000Z"
   },
   {
    "duration": 5955,
    "start_time": "2025-04-19T21:41:40.097Z"
   },
   {
    "duration": 21,
    "start_time": "2025-04-19T21:41:46.054Z"
   },
   {
    "duration": 115,
    "start_time": "2025-04-19T21:43:55.799Z"
   },
   {
    "duration": 104,
    "start_time": "2025-04-19T21:50:25.665Z"
   },
   {
    "duration": 217,
    "start_time": "2025-04-19T21:51:02.928Z"
   },
   {
    "duration": 68,
    "start_time": "2025-04-19T21:51:09.099Z"
   },
   {
    "duration": 7,
    "start_time": "2025-04-19T21:51:29.027Z"
   },
   {
    "duration": 55,
    "start_time": "2025-04-19T21:54:00.041Z"
   },
   {
    "duration": 3,
    "start_time": "2025-04-19T21:55:34.473Z"
   },
   {
    "duration": 14,
    "start_time": "2025-04-19T21:57:50.447Z"
   },
   {
    "duration": 4,
    "start_time": "2025-04-19T21:58:27.174Z"
   },
   {
    "duration": 9,
    "start_time": "2025-04-19T21:58:34.067Z"
   },
   {
    "duration": 49,
    "start_time": "2025-04-19T21:58:51.297Z"
   },
   {
    "duration": 14,
    "start_time": "2025-04-19T21:58:57.185Z"
   },
   {
    "duration": 3,
    "start_time": "2025-04-19T21:59:13.541Z"
   },
   {
    "duration": 11,
    "start_time": "2025-04-19T21:59:18.941Z"
   },
   {
    "duration": 12320,
    "start_time": "2025-04-19T22:00:23.560Z"
   },
   {
    "duration": 7704,
    "start_time": "2025-04-19T22:00:48.209Z"
   },
   {
    "duration": 1370,
    "start_time": "2025-04-19T22:00:55.915Z"
   },
   {
    "duration": 842,
    "start_time": "2025-04-19T22:00:57.287Z"
   },
   {
    "duration": 4,
    "start_time": "2025-04-19T22:00:58.131Z"
   },
   {
    "duration": 1063,
    "start_time": "2025-04-19T22:00:58.137Z"
   },
   {
    "duration": 17,
    "start_time": "2025-04-19T22:00:59.202Z"
   },
   {
    "duration": 66,
    "start_time": "2025-04-19T22:00:59.220Z"
   },
   {
    "duration": 4317,
    "start_time": "2025-04-19T22:00:59.287Z"
   },
   {
    "duration": 3,
    "start_time": "2025-04-19T22:01:03.605Z"
   },
   {
    "duration": 72,
    "start_time": "2025-04-19T22:01:03.610Z"
   },
   {
    "duration": 476,
    "start_time": "2025-04-19T22:01:03.684Z"
   },
   {
    "duration": 526,
    "start_time": "2025-04-19T22:01:04.162Z"
   },
   {
    "duration": 247,
    "start_time": "2025-04-19T22:01:04.689Z"
   },
   {
    "duration": 69,
    "start_time": "2025-04-19T22:01:04.938Z"
   },
   {
    "duration": 141,
    "start_time": "2025-04-19T22:01:05.009Z"
   },
   {
    "duration": 102,
    "start_time": "2025-04-19T22:01:05.152Z"
   },
   {
    "duration": 126,
    "start_time": "2025-04-19T22:01:05.255Z"
   },
   {
    "duration": 21,
    "start_time": "2025-04-19T22:01:05.383Z"
   },
   {
    "duration": 6,
    "start_time": "2025-04-19T22:01:05.405Z"
   },
   {
    "duration": 24,
    "start_time": "2025-04-19T22:01:05.413Z"
   },
   {
    "duration": 1746,
    "start_time": "2025-04-19T22:01:05.439Z"
   },
   {
    "duration": 3,
    "start_time": "2025-04-19T22:01:07.187Z"
   },
   {
    "duration": 1619,
    "start_time": "2025-04-19T22:01:07.191Z"
   },
   {
    "duration": 4,
    "start_time": "2025-04-19T22:01:08.812Z"
   },
   {
    "duration": 1640,
    "start_time": "2025-04-19T22:01:08.817Z"
   },
   {
    "duration": 3,
    "start_time": "2025-04-19T22:01:10.460Z"
   },
   {
    "duration": 1814,
    "start_time": "2025-04-19T22:01:10.465Z"
   },
   {
    "duration": 3,
    "start_time": "2025-04-19T22:01:12.281Z"
   },
   {
    "duration": 94,
    "start_time": "2025-04-19T22:01:12.285Z"
   },
   {
    "duration": 6099,
    "start_time": "2025-04-19T22:01:12.381Z"
   },
   {
    "duration": 18,
    "start_time": "2025-04-19T22:01:18.482Z"
   },
   {
    "duration": 73,
    "start_time": "2025-04-19T22:01:18.502Z"
   },
   {
    "duration": 7,
    "start_time": "2025-04-19T22:01:18.577Z"
   },
   {
    "duration": 72,
    "start_time": "2025-04-19T22:01:18.586Z"
   },
   {
    "duration": 3,
    "start_time": "2025-04-19T22:01:18.659Z"
   },
   {
    "duration": 5,
    "start_time": "2025-04-19T22:01:18.663Z"
   },
   {
    "duration": 3,
    "start_time": "2025-04-19T22:02:24.848Z"
   },
   {
    "duration": 109,
    "start_time": "2025-04-19T22:02:49.708Z"
   },
   {
    "duration": 6,
    "start_time": "2025-04-19T22:03:34.739Z"
   },
   {
    "duration": 4,
    "start_time": "2025-04-19T22:03:40.084Z"
   },
   {
    "duration": 10,
    "start_time": "2025-04-19T22:04:17.486Z"
   },
   {
    "duration": 82,
    "start_time": "2025-04-19T22:04:43.591Z"
   },
   {
    "duration": 3,
    "start_time": "2025-04-19T22:04:51.445Z"
   },
   {
    "duration": 10,
    "start_time": "2025-04-19T22:08:26.287Z"
   },
   {
    "duration": 3,
    "start_time": "2025-04-19T22:10:02.813Z"
   },
   {
    "duration": 4,
    "start_time": "2025-04-19T23:11:33.427Z"
   },
   {
    "duration": 11,
    "start_time": "2025-04-19T23:15:10.581Z"
   },
   {
    "duration": 4,
    "start_time": "2025-04-19T23:15:50.752Z"
   },
   {
    "duration": 10,
    "start_time": "2025-04-19T23:15:57.361Z"
   },
   {
    "duration": 390281,
    "start_time": "2025-04-19T23:16:14.926Z"
   },
   {
    "duration": 7437,
    "start_time": "2025-04-19T23:22:53.951Z"
   },
   {
    "duration": 1190,
    "start_time": "2025-04-19T23:23:01.390Z"
   },
   {
    "duration": 862,
    "start_time": "2025-04-19T23:23:02.582Z"
   },
   {
    "duration": 4,
    "start_time": "2025-04-19T23:23:03.446Z"
   },
   {
    "duration": 1078,
    "start_time": "2025-04-19T23:23:03.452Z"
   },
   {
    "duration": 16,
    "start_time": "2025-04-19T23:23:04.535Z"
   },
   {
    "duration": 58,
    "start_time": "2025-04-19T23:23:04.552Z"
   },
   {
    "duration": 4264,
    "start_time": "2025-04-19T23:23:04.612Z"
   },
   {
    "duration": 3,
    "start_time": "2025-04-19T23:23:08.877Z"
   },
   {
    "duration": 5,
    "start_time": "2025-04-19T23:23:08.882Z"
   },
   {
    "duration": 463,
    "start_time": "2025-04-19T23:23:08.888Z"
   },
   {
    "duration": 484,
    "start_time": "2025-04-19T23:23:09.353Z"
   },
   {
    "duration": 239,
    "start_time": "2025-04-19T23:23:09.839Z"
   },
   {
    "duration": 78,
    "start_time": "2025-04-19T23:23:10.081Z"
   },
   {
    "duration": 51,
    "start_time": "2025-04-19T23:23:10.160Z"
   },
   {
    "duration": 180,
    "start_time": "2025-04-19T23:23:10.213Z"
   },
   {
    "duration": 53,
    "start_time": "2025-04-19T23:23:10.395Z"
   },
   {
    "duration": 16,
    "start_time": "2025-04-19T23:23:10.450Z"
   },
   {
    "duration": 6,
    "start_time": "2025-04-19T23:23:10.468Z"
   },
   {
    "duration": 7,
    "start_time": "2025-04-19T23:23:10.476Z"
   },
   {
    "duration": 1686,
    "start_time": "2025-04-19T23:23:10.484Z"
   },
   {
    "duration": 4,
    "start_time": "2025-04-19T23:23:12.171Z"
   },
   {
    "duration": 1525,
    "start_time": "2025-04-19T23:23:12.177Z"
   },
   {
    "duration": 5,
    "start_time": "2025-04-19T23:23:13.703Z"
   },
   {
    "duration": 1775,
    "start_time": "2025-04-19T23:23:13.709Z"
   },
   {
    "duration": 3,
    "start_time": "2025-04-19T23:23:15.486Z"
   },
   {
    "duration": 1783,
    "start_time": "2025-04-19T23:23:15.490Z"
   },
   {
    "duration": 3,
    "start_time": "2025-04-19T23:23:17.275Z"
   },
   {
    "duration": 92,
    "start_time": "2025-04-19T23:23:17.279Z"
   },
   {
    "duration": 5799,
    "start_time": "2025-04-19T23:23:17.373Z"
   },
   {
    "duration": 15,
    "start_time": "2025-04-19T23:23:23.173Z"
   },
   {
    "duration": 62,
    "start_time": "2025-04-19T23:23:23.190Z"
   },
   {
    "duration": 8,
    "start_time": "2025-04-19T23:23:23.254Z"
   },
   {
    "duration": 72,
    "start_time": "2025-04-19T23:23:23.263Z"
   },
   {
    "duration": 3,
    "start_time": "2025-04-19T23:23:23.337Z"
   },
   {
    "duration": 3,
    "start_time": "2025-04-19T23:23:23.342Z"
   },
   {
    "duration": 10,
    "start_time": "2025-04-19T23:23:23.347Z"
   },
   {
    "duration": 3,
    "start_time": "2025-04-19T23:23:23.358Z"
   },
   {
    "duration": 96,
    "start_time": "2025-04-19T23:23:23.363Z"
   },
   {
    "duration": 9,
    "start_time": "2025-04-19T23:23:23.461Z"
   },
   {
    "duration": 393535,
    "start_time": "2025-04-19T23:23:23.473Z"
   },
   {
    "duration": 7883,
    "start_time": "2025-04-19T23:34:12.266Z"
   },
   {
    "duration": 1240,
    "start_time": "2025-04-19T23:34:20.151Z"
   },
   {
    "duration": 860,
    "start_time": "2025-04-19T23:34:21.393Z"
   },
   {
    "duration": 4,
    "start_time": "2025-04-19T23:34:22.255Z"
   },
   {
    "duration": 1095,
    "start_time": "2025-04-19T23:34:22.260Z"
   },
   {
    "duration": 17,
    "start_time": "2025-04-19T23:34:23.356Z"
   },
   {
    "duration": 73,
    "start_time": "2025-04-19T23:34:23.374Z"
   },
   {
    "duration": 4505,
    "start_time": "2025-04-19T23:34:23.449Z"
   },
   {
    "duration": 3,
    "start_time": "2025-04-19T23:34:27.956Z"
   },
   {
    "duration": 3,
    "start_time": "2025-04-19T23:34:27.963Z"
   },
   {
    "duration": 487,
    "start_time": "2025-04-19T23:34:27.967Z"
   },
   {
    "duration": 496,
    "start_time": "2025-04-19T23:34:28.456Z"
   },
   {
    "duration": 247,
    "start_time": "2025-04-19T23:34:28.953Z"
   },
   {
    "duration": 77,
    "start_time": "2025-04-19T23:34:29.202Z"
   },
   {
    "duration": 66,
    "start_time": "2025-04-19T23:34:29.280Z"
   },
   {
    "duration": 101,
    "start_time": "2025-04-19T23:34:29.348Z"
   },
   {
    "duration": 110,
    "start_time": "2025-04-19T23:34:29.451Z"
   },
   {
    "duration": 16,
    "start_time": "2025-04-19T23:34:29.562Z"
   },
   {
    "duration": 6,
    "start_time": "2025-04-19T23:34:29.580Z"
   },
   {
    "duration": 6,
    "start_time": "2025-04-19T23:34:29.588Z"
   },
   {
    "duration": 1701,
    "start_time": "2025-04-19T23:34:29.595Z"
   },
   {
    "duration": 3,
    "start_time": "2025-04-19T23:34:31.297Z"
   },
   {
    "duration": 1625,
    "start_time": "2025-04-19T23:34:31.302Z"
   },
   {
    "duration": 4,
    "start_time": "2025-04-19T23:34:32.928Z"
   },
   {
    "duration": 1740,
    "start_time": "2025-04-19T23:34:32.933Z"
   },
   {
    "duration": 3,
    "start_time": "2025-04-19T23:34:34.675Z"
   },
   {
    "duration": 1820,
    "start_time": "2025-04-19T23:34:34.680Z"
   },
   {
    "duration": 4,
    "start_time": "2025-04-19T23:34:36.505Z"
   },
   {
    "duration": 103,
    "start_time": "2025-04-19T23:34:36.513Z"
   },
   {
    "duration": 6259,
    "start_time": "2025-04-19T23:34:36.617Z"
   },
   {
    "duration": 14,
    "start_time": "2025-04-19T23:34:42.878Z"
   },
   {
    "duration": 72,
    "start_time": "2025-04-19T23:34:42.894Z"
   },
   {
    "duration": 6,
    "start_time": "2025-04-19T23:34:42.968Z"
   },
   {
    "duration": 70,
    "start_time": "2025-04-19T23:34:42.976Z"
   },
   {
    "duration": 28,
    "start_time": "2025-04-19T23:34:43.050Z"
   },
   {
    "duration": 4,
    "start_time": "2025-04-19T23:34:43.080Z"
   },
   {
    "duration": 8,
    "start_time": "2025-04-19T23:34:43.085Z"
   },
   {
    "duration": 3,
    "start_time": "2025-04-19T23:34:43.095Z"
   },
   {
    "duration": 3,
    "start_time": "2025-04-19T23:34:43.099Z"
   },
   {
    "duration": 76,
    "start_time": "2025-04-19T23:34:43.104Z"
   },
   {
    "duration": 299249,
    "start_time": "2025-04-19T23:34:43.182Z"
   },
   {
    "duration": 130,
    "start_time": "2025-04-19T23:48:16.468Z"
   },
   {
    "duration": 3,
    "start_time": "2025-04-19T23:48:28.865Z"
   },
   {
    "duration": 10,
    "start_time": "2025-04-20T00:08:01.282Z"
   },
   {
    "duration": 25,
    "start_time": "2025-04-20T00:08:06.457Z"
   },
   {
    "duration": 4,
    "start_time": "2025-04-20T00:08:15.815Z"
   },
   {
    "duration": 3,
    "start_time": "2025-04-20T00:08:18.030Z"
   },
   {
    "duration": 30,
    "start_time": "2025-04-20T00:09:39.978Z"
   },
   {
    "duration": 4,
    "start_time": "2025-04-20T00:12:00.775Z"
   },
   {
    "duration": 12,
    "start_time": "2025-04-20T00:17:58.635Z"
   },
   {
    "duration": 515,
    "start_time": "2025-04-20T00:18:58.110Z"
   },
   {
    "duration": 499,
    "start_time": "2025-04-20T00:21:51.623Z"
   },
   {
    "duration": 55,
    "start_time": "2025-04-20T00:24:22.058Z"
   },
   {
    "duration": 3,
    "start_time": "2025-04-20T00:27:41.263Z"
   },
   {
    "duration": 115906,
    "start_time": "2025-04-20T00:27:46.791Z"
   },
   {
    "duration": 7600,
    "start_time": "2025-04-20T00:34:49.980Z"
   },
   {
    "duration": 1214,
    "start_time": "2025-04-20T00:34:57.583Z"
   },
   {
    "duration": 837,
    "start_time": "2025-04-20T00:34:58.799Z"
   },
   {
    "duration": 4,
    "start_time": "2025-04-20T00:34:59.638Z"
   },
   {
    "duration": 1064,
    "start_time": "2025-04-20T00:34:59.643Z"
   },
   {
    "duration": 16,
    "start_time": "2025-04-20T00:35:00.709Z"
   },
   {
    "duration": 58,
    "start_time": "2025-04-20T00:35:00.735Z"
   },
   {
    "duration": 4358,
    "start_time": "2025-04-20T00:35:00.795Z"
   },
   {
    "duration": 3,
    "start_time": "2025-04-20T00:35:05.155Z"
   },
   {
    "duration": 48,
    "start_time": "2025-04-20T00:35:05.160Z"
   },
   {
    "duration": 453,
    "start_time": "2025-04-20T00:35:05.209Z"
   },
   {
    "duration": 486,
    "start_time": "2025-04-20T00:35:05.664Z"
   },
   {
    "duration": 255,
    "start_time": "2025-04-20T00:35:06.152Z"
   },
   {
    "duration": 70,
    "start_time": "2025-04-20T00:35:06.409Z"
   },
   {
    "duration": 73,
    "start_time": "2025-04-20T00:35:06.480Z"
   },
   {
    "duration": 92,
    "start_time": "2025-04-20T00:35:06.555Z"
   },
   {
    "duration": 136,
    "start_time": "2025-04-20T00:35:06.649Z"
   },
   {
    "duration": 17,
    "start_time": "2025-04-20T00:35:06.787Z"
   },
   {
    "duration": 7,
    "start_time": "2025-04-20T00:35:06.805Z"
   },
   {
    "duration": 22,
    "start_time": "2025-04-20T00:35:06.814Z"
   },
   {
    "duration": 1721,
    "start_time": "2025-04-20T00:35:06.838Z"
   },
   {
    "duration": 3,
    "start_time": "2025-04-20T00:35:08.560Z"
   },
   {
    "duration": 1515,
    "start_time": "2025-04-20T00:35:08.564Z"
   },
   {
    "duration": 4,
    "start_time": "2025-04-20T00:35:10.080Z"
   },
   {
    "duration": 1652,
    "start_time": "2025-04-20T00:35:10.085Z"
   },
   {
    "duration": 3,
    "start_time": "2025-04-20T00:35:11.739Z"
   },
   {
    "duration": 1686,
    "start_time": "2025-04-20T00:35:11.744Z"
   },
   {
    "duration": 3,
    "start_time": "2025-04-20T00:35:13.436Z"
   },
   {
    "duration": 83,
    "start_time": "2025-04-20T00:35:13.440Z"
   },
   {
    "duration": 5956,
    "start_time": "2025-04-20T00:35:13.524Z"
   },
   {
    "duration": 21,
    "start_time": "2025-04-20T00:35:19.481Z"
   },
   {
    "duration": 61,
    "start_time": "2025-04-20T00:35:19.504Z"
   },
   {
    "duration": 6,
    "start_time": "2025-04-20T00:35:19.567Z"
   },
   {
    "duration": 70,
    "start_time": "2025-04-20T00:35:19.575Z"
   },
   {
    "duration": 3,
    "start_time": "2025-04-20T00:35:19.646Z"
   },
   {
    "duration": 3,
    "start_time": "2025-04-20T00:35:19.651Z"
   },
   {
    "duration": 5,
    "start_time": "2025-04-20T00:35:19.656Z"
   },
   {
    "duration": 3,
    "start_time": "2025-04-20T00:35:19.662Z"
   },
   {
    "duration": 3,
    "start_time": "2025-04-20T00:35:19.667Z"
   },
   {
    "duration": 98,
    "start_time": "2025-04-20T00:35:19.671Z"
   },
   {
    "duration": 281733,
    "start_time": "2025-04-20T00:35:19.771Z"
   },
   {
    "duration": 41,
    "start_time": "2025-04-20T00:40:01.505Z"
   },
   {
    "duration": 11,
    "start_time": "2025-04-20T00:40:01.548Z"
   },
   {
    "duration": 36,
    "start_time": "2025-04-20T00:40:01.561Z"
   },
   {
    "duration": 513,
    "start_time": "2025-04-20T00:40:01.599Z"
   },
   {
    "duration": 112096,
    "start_time": "2025-04-20T00:40:02.114Z"
   },
   {
    "duration": 30,
    "start_time": "2025-04-20T00:44:28.467Z"
   },
   {
    "duration": 3,
    "start_time": "2025-04-20T00:44:39.058Z"
   },
   {
    "duration": 3,
    "start_time": "2025-04-20T00:45:26.320Z"
   },
   {
    "duration": 497,
    "start_time": "2025-04-20T00:45:49.007Z"
   },
   {
    "duration": 6521,
    "start_time": "2025-04-20T00:46:35.915Z"
   },
   {
    "duration": 754,
    "start_time": "2025-04-20T00:48:25.095Z"
   },
   {
    "duration": 2,
    "start_time": "2025-04-20T00:49:18.339Z"
   },
   {
    "duration": 39060,
    "start_time": "2025-04-20T00:50:15.086Z"
   },
   {
    "duration": 39314,
    "start_time": "2025-04-20T00:52:57.131Z"
   },
   {
    "duration": 6407,
    "start_time": "2025-04-20T00:53:39.936Z"
   },
   {
    "duration": 69607,
    "start_time": "2025-04-20T00:54:25.155Z"
   },
   {
    "duration": 3964,
    "start_time": "2025-04-20T00:55:54.234Z"
   },
   {
    "duration": 7497,
    "start_time": "2025-04-20T00:56:50.384Z"
   },
   {
    "duration": 1215,
    "start_time": "2025-04-20T00:56:57.884Z"
   },
   {
    "duration": 819,
    "start_time": "2025-04-20T00:56:59.100Z"
   },
   {
    "duration": 5,
    "start_time": "2025-04-20T00:56:59.921Z"
   },
   {
    "duration": 1112,
    "start_time": "2025-04-20T00:56:59.927Z"
   },
   {
    "duration": 17,
    "start_time": "2025-04-20T00:57:01.041Z"
   },
   {
    "duration": 60,
    "start_time": "2025-04-20T00:57:01.059Z"
   },
   {
    "duration": 4391,
    "start_time": "2025-04-20T00:57:01.121Z"
   },
   {
    "duration": 3,
    "start_time": "2025-04-20T00:57:05.513Z"
   },
   {
    "duration": 23,
    "start_time": "2025-04-20T00:57:05.518Z"
   },
   {
    "duration": 462,
    "start_time": "2025-04-20T00:57:05.542Z"
   },
   {
    "duration": 477,
    "start_time": "2025-04-20T00:57:06.006Z"
   },
   {
    "duration": 259,
    "start_time": "2025-04-20T00:57:06.485Z"
   },
   {
    "duration": 72,
    "start_time": "2025-04-20T00:57:06.745Z"
   },
   {
    "duration": 64,
    "start_time": "2025-04-20T00:57:06.818Z"
   },
   {
    "duration": 91,
    "start_time": "2025-04-20T00:57:06.884Z"
   },
   {
    "duration": 162,
    "start_time": "2025-04-20T00:57:06.976Z"
   },
   {
    "duration": 21,
    "start_time": "2025-04-20T00:57:07.139Z"
   },
   {
    "duration": 6,
    "start_time": "2025-04-20T00:57:07.161Z"
   },
   {
    "duration": 13,
    "start_time": "2025-04-20T00:57:07.169Z"
   },
   {
    "duration": 1668,
    "start_time": "2025-04-20T00:57:07.184Z"
   },
   {
    "duration": 3,
    "start_time": "2025-04-20T00:57:08.854Z"
   },
   {
    "duration": 1522,
    "start_time": "2025-04-20T00:57:08.859Z"
   },
   {
    "duration": 3,
    "start_time": "2025-04-20T00:57:10.382Z"
   },
   {
    "duration": 1647,
    "start_time": "2025-04-20T00:57:10.387Z"
   },
   {
    "duration": 3,
    "start_time": "2025-04-20T00:57:12.036Z"
   },
   {
    "duration": 1706,
    "start_time": "2025-04-20T00:57:12.040Z"
   },
   {
    "duration": 3,
    "start_time": "2025-04-20T00:57:13.749Z"
   },
   {
    "duration": 92,
    "start_time": "2025-04-20T00:57:13.754Z"
   },
   {
    "duration": 5908,
    "start_time": "2025-04-20T00:57:13.848Z"
   },
   {
    "duration": 22,
    "start_time": "2025-04-20T00:57:19.757Z"
   },
   {
    "duration": 68,
    "start_time": "2025-04-20T00:57:19.781Z"
   },
   {
    "duration": 8,
    "start_time": "2025-04-20T00:57:19.851Z"
   },
   {
    "duration": 76,
    "start_time": "2025-04-20T00:57:19.861Z"
   },
   {
    "duration": 4,
    "start_time": "2025-04-20T00:57:19.939Z"
   },
   {
    "duration": 5,
    "start_time": "2025-04-20T00:57:19.944Z"
   },
   {
    "duration": 4,
    "start_time": "2025-04-20T00:57:19.951Z"
   },
   {
    "duration": 3,
    "start_time": "2025-04-20T00:57:19.957Z"
   },
   {
    "duration": 3,
    "start_time": "2025-04-20T00:57:19.961Z"
   },
   {
    "duration": 107,
    "start_time": "2025-04-20T00:57:19.965Z"
   },
   {
    "duration": 287702,
    "start_time": "2025-04-20T00:57:20.073Z"
   },
   {
    "duration": 112422,
    "start_time": "2025-04-20T01:02:07.776Z"
   },
   {
    "duration": 37,
    "start_time": "2025-04-20T01:04:00.200Z"
   },
   {
    "duration": 33,
    "start_time": "2025-04-20T01:04:00.239Z"
   },
   {
    "duration": 64,
    "start_time": "2025-04-20T01:04:00.274Z"
   },
   {
    "duration": 514,
    "start_time": "2025-04-20T01:04:00.340Z"
   },
   {
    "duration": 70156,
    "start_time": "2025-04-20T01:04:00.855Z"
   },
   {
    "duration": 3833,
    "start_time": "2025-04-20T01:05:11.013Z"
   },
   {
    "duration": 32,
    "start_time": "2025-04-20T01:05:14.848Z"
   },
   {
    "duration": 5,
    "start_time": "2025-04-20T01:05:14.881Z"
   },
   {
    "duration": 7,
    "start_time": "2025-04-20T01:05:14.887Z"
   },
   {
    "duration": 839,
    "start_time": "2025-04-20T01:05:14.896Z"
   },
   {
    "duration": 40402,
    "start_time": "2025-04-20T01:05:15.737Z"
   },
   {
    "duration": 6501,
    "start_time": "2025-04-20T01:05:56.141Z"
   },
   {
    "duration": 14194,
    "start_time": "2025-04-21T06:52:11.792Z"
   },
   {
    "duration": 1522,
    "start_time": "2025-04-21T06:52:25.988Z"
   },
   {
    "duration": 851,
    "start_time": "2025-04-21T06:52:27.512Z"
   },
   {
    "duration": 5,
    "start_time": "2025-04-21T06:52:28.365Z"
   },
   {
    "duration": 1109,
    "start_time": "2025-04-21T06:52:28.372Z"
   },
   {
    "duration": 18,
    "start_time": "2025-04-21T06:52:29.483Z"
   },
   {
    "duration": 62,
    "start_time": "2025-04-21T06:52:29.502Z"
   },
   {
    "duration": 4558,
    "start_time": "2025-04-21T06:52:29.566Z"
   },
   {
    "duration": 3,
    "start_time": "2025-04-21T06:52:34.126Z"
   },
   {
    "duration": 7,
    "start_time": "2025-04-21T06:52:34.130Z"
   },
   {
    "duration": 480,
    "start_time": "2025-04-21T06:52:34.139Z"
   },
   {
    "duration": 522,
    "start_time": "2025-04-21T06:52:34.621Z"
   },
   {
    "duration": 260,
    "start_time": "2025-04-21T06:52:35.145Z"
   },
   {
    "duration": 5,
    "start_time": "2025-04-21T06:52:35.408Z"
   },
   {
    "duration": 93,
    "start_time": "2025-04-21T06:52:35.414Z"
   },
   {
    "duration": 62,
    "start_time": "2025-04-21T06:52:35.509Z"
   },
   {
    "duration": 101,
    "start_time": "2025-04-21T06:52:35.573Z"
   },
   {
    "duration": 126,
    "start_time": "2025-04-21T07:29:08.383Z"
   },
   {
    "duration": 106,
    "start_time": "2025-04-21T07:31:04.911Z"
   },
   {
    "duration": 8267,
    "start_time": "2025-04-21T08:01:01.995Z"
   },
   {
    "duration": 1410,
    "start_time": "2025-04-21T08:01:10.265Z"
   },
   {
    "duration": 886,
    "start_time": "2025-04-21T08:01:11.677Z"
   },
   {
    "duration": 4,
    "start_time": "2025-04-21T08:01:12.565Z"
   },
   {
    "duration": 1151,
    "start_time": "2025-04-21T08:01:12.572Z"
   },
   {
    "duration": 17,
    "start_time": "2025-04-21T08:01:13.725Z"
   },
   {
    "duration": 86,
    "start_time": "2025-04-21T08:01:13.743Z"
   },
   {
    "duration": 4641,
    "start_time": "2025-04-21T08:01:13.830Z"
   },
   {
    "duration": 3,
    "start_time": "2025-04-21T08:01:18.473Z"
   },
   {
    "duration": 4,
    "start_time": "2025-04-21T08:01:18.479Z"
   },
   {
    "duration": 494,
    "start_time": "2025-04-21T08:01:18.484Z"
   },
   {
    "duration": 505,
    "start_time": "2025-04-21T08:01:18.980Z"
   },
   {
    "duration": 247,
    "start_time": "2025-04-21T08:01:19.487Z"
   },
   {
    "duration": 6,
    "start_time": "2025-04-21T08:01:19.738Z"
   },
   {
    "duration": 84,
    "start_time": "2025-04-21T08:01:19.746Z"
   },
   {
    "duration": 144,
    "start_time": "2025-04-21T08:01:19.832Z"
   },
   {
    "duration": 109,
    "start_time": "2025-04-21T08:01:19.978Z"
   },
   {
    "duration": 138,
    "start_time": "2025-04-21T08:01:20.088Z"
   },
   {
    "duration": 18,
    "start_time": "2025-04-21T08:01:20.227Z"
   },
   {
    "duration": 23,
    "start_time": "2025-04-21T08:01:20.247Z"
   },
   {
    "duration": 1657,
    "start_time": "2025-04-21T08:01:20.271Z"
   },
   {
    "duration": 3,
    "start_time": "2025-04-21T08:01:21.930Z"
   },
   {
    "duration": 1678,
    "start_time": "2025-04-21T08:01:21.935Z"
   },
   {
    "duration": 4,
    "start_time": "2025-04-21T08:01:23.614Z"
   },
   {
    "duration": 1677,
    "start_time": "2025-04-21T08:01:23.619Z"
   },
   {
    "duration": 4,
    "start_time": "2025-04-21T08:01:25.298Z"
   },
   {
    "duration": 1837,
    "start_time": "2025-04-21T08:01:25.304Z"
   },
   {
    "duration": 3,
    "start_time": "2025-04-21T08:01:27.143Z"
   },
   {
    "duration": 97,
    "start_time": "2025-04-21T08:01:27.148Z"
   },
   {
    "duration": 5537,
    "start_time": "2025-04-21T08:01:27.246Z"
   },
   {
    "duration": 22,
    "start_time": "2025-04-21T08:01:32.785Z"
   },
   {
    "duration": 86,
    "start_time": "2025-04-21T08:01:32.808Z"
   },
   {
    "duration": 7,
    "start_time": "2025-04-21T08:01:32.896Z"
   },
   {
    "duration": 128,
    "start_time": "2025-04-21T08:01:32.905Z"
   },
   {
    "duration": 3,
    "start_time": "2025-04-21T08:01:33.035Z"
   },
   {
    "duration": 9,
    "start_time": "2025-04-21T08:01:33.040Z"
   },
   {
    "duration": 6,
    "start_time": "2025-04-21T08:01:33.050Z"
   },
   {
    "duration": 6,
    "start_time": "2025-04-21T08:01:33.062Z"
   },
   {
    "duration": 19,
    "start_time": "2025-04-21T08:01:33.070Z"
   },
   {
    "duration": 30,
    "start_time": "2025-04-21T08:01:33.091Z"
   },
   {
    "duration": 279138,
    "start_time": "2025-04-21T08:01:33.125Z"
   },
   {
    "duration": 121643,
    "start_time": "2025-04-21T08:06:12.265Z"
   },
   {
    "duration": 42,
    "start_time": "2025-04-21T08:08:13.910Z"
   },
   {
    "duration": 4,
    "start_time": "2025-04-21T08:08:13.963Z"
   },
   {
    "duration": 4,
    "start_time": "2025-04-21T08:08:13.968Z"
   },
   {
    "duration": 33,
    "start_time": "2025-04-21T08:08:13.973Z"
   },
   {
    "duration": 23,
    "start_time": "2025-04-21T08:08:14.007Z"
   },
   {
    "duration": 19,
    "start_time": "2025-04-21T08:08:14.031Z"
   },
   {
    "duration": 3,
    "start_time": "2025-04-21T08:08:41.908Z"
   },
   {
    "duration": 116,
    "start_time": "2025-04-21T08:36:11.309Z"
   },
   {
    "duration": 4,
    "start_time": "2025-04-21T08:36:29.056Z"
   },
   {
    "duration": 4,
    "start_time": "2025-04-21T08:36:42.818Z"
   },
   {
    "duration": 4,
    "start_time": "2025-04-21T08:36:46.653Z"
   },
   {
    "duration": 4,
    "start_time": "2025-04-21T08:36:50.192Z"
   },
   {
    "duration": 4,
    "start_time": "2025-04-21T08:36:55.885Z"
   },
   {
    "duration": 4,
    "start_time": "2025-04-21T08:39:38.803Z"
   },
   {
    "duration": 4,
    "start_time": "2025-04-21T08:40:01.083Z"
   },
   {
    "duration": 4,
    "start_time": "2025-04-21T08:55:17.879Z"
   },
   {
    "duration": 745,
    "start_time": "2025-04-21T08:55:19.231Z"
   },
   {
    "duration": 8408,
    "start_time": "2025-04-21T09:10:02.814Z"
   },
   {
    "duration": 1363,
    "start_time": "2025-04-21T09:10:11.225Z"
   },
   {
    "duration": 1038,
    "start_time": "2025-04-21T09:10:12.589Z"
   },
   {
    "duration": 4,
    "start_time": "2025-04-21T09:10:13.629Z"
   },
   {
    "duration": 1136,
    "start_time": "2025-04-21T09:10:13.635Z"
   },
   {
    "duration": 18,
    "start_time": "2025-04-21T09:10:14.772Z"
   },
   {
    "duration": 57,
    "start_time": "2025-04-21T09:10:14.792Z"
   },
   {
    "duration": 4651,
    "start_time": "2025-04-21T09:10:14.851Z"
   },
   {
    "duration": 3,
    "start_time": "2025-04-21T09:10:19.504Z"
   },
   {
    "duration": 5,
    "start_time": "2025-04-21T09:10:19.510Z"
   },
   {
    "duration": 491,
    "start_time": "2025-04-21T09:10:19.517Z"
   },
   {
    "duration": 510,
    "start_time": "2025-04-21T09:10:20.011Z"
   },
   {
    "duration": 254,
    "start_time": "2025-04-21T09:10:20.523Z"
   },
   {
    "duration": 7,
    "start_time": "2025-04-21T09:10:20.779Z"
   },
   {
    "duration": 105,
    "start_time": "2025-04-21T09:10:20.788Z"
   },
   {
    "duration": 55,
    "start_time": "2025-04-21T09:10:20.894Z"
   },
   {
    "duration": 105,
    "start_time": "2025-04-21T09:10:20.951Z"
   },
   {
    "duration": 216,
    "start_time": "2025-04-21T09:10:21.058Z"
   },
   {
    "duration": 16,
    "start_time": "2025-04-21T09:10:21.276Z"
   },
   {
    "duration": 8,
    "start_time": "2025-04-21T09:10:21.294Z"
   },
   {
    "duration": 1720,
    "start_time": "2025-04-21T09:10:21.304Z"
   },
   {
    "duration": 4,
    "start_time": "2025-04-21T09:10:23.026Z"
   },
   {
    "duration": 1724,
    "start_time": "2025-04-21T09:10:23.032Z"
   },
   {
    "duration": 5,
    "start_time": "2025-04-21T09:10:24.758Z"
   },
   {
    "duration": 1704,
    "start_time": "2025-04-21T09:10:24.764Z"
   },
   {
    "duration": 4,
    "start_time": "2025-04-21T09:10:26.469Z"
   },
   {
    "duration": 1854,
    "start_time": "2025-04-21T09:10:26.474Z"
   },
   {
    "duration": 4,
    "start_time": "2025-04-21T09:10:28.331Z"
   },
   {
    "duration": 96,
    "start_time": "2025-04-21T09:10:28.336Z"
   },
   {
    "duration": 5637,
    "start_time": "2025-04-21T09:10:28.434Z"
   },
   {
    "duration": 14,
    "start_time": "2025-04-21T09:10:34.073Z"
   },
   {
    "duration": 60,
    "start_time": "2025-04-21T09:10:34.089Z"
   },
   {
    "duration": 16,
    "start_time": "2025-04-21T09:10:34.151Z"
   },
   {
    "duration": 75,
    "start_time": "2025-04-21T09:10:34.169Z"
   },
   {
    "duration": 23,
    "start_time": "2025-04-21T09:10:34.246Z"
   },
   {
    "duration": 32,
    "start_time": "2025-04-21T09:10:34.271Z"
   },
   {
    "duration": 33,
    "start_time": "2025-04-21T09:10:34.304Z"
   },
   {
    "duration": 31,
    "start_time": "2025-04-21T09:10:34.339Z"
   },
   {
    "duration": 30,
    "start_time": "2025-04-21T09:10:34.372Z"
   },
   {
    "duration": 30,
    "start_time": "2025-04-21T09:10:34.403Z"
   },
   {
    "duration": 285169,
    "start_time": "2025-04-21T09:10:34.435Z"
   },
   {
    "duration": 134045,
    "start_time": "2025-04-21T09:15:19.605Z"
   },
   {
    "duration": 3,
    "start_time": "2025-04-21T09:17:33.652Z"
   },
   {
    "duration": 4,
    "start_time": "2025-04-21T09:17:33.662Z"
   },
   {
    "duration": 14,
    "start_time": "2025-04-21T09:17:33.668Z"
   },
   {
    "duration": 3,
    "start_time": "2025-04-21T09:17:33.684Z"
   },
   {
    "duration": 5,
    "start_time": "2025-04-21T09:17:33.689Z"
   },
   {
    "duration": 22,
    "start_time": "2025-04-21T09:17:33.696Z"
   },
   {
    "duration": 26,
    "start_time": "2025-04-21T09:17:33.720Z"
   },
   {
    "duration": 730,
    "start_time": "2025-04-21T09:17:33.748Z"
   },
   {
    "duration": 8477,
    "start_time": "2025-04-21T09:37:48.816Z"
   },
   {
    "duration": 1578,
    "start_time": "2025-04-21T09:37:57.296Z"
   },
   {
    "duration": 894,
    "start_time": "2025-04-21T09:37:58.875Z"
   },
   {
    "duration": 5,
    "start_time": "2025-04-21T09:37:59.771Z"
   },
   {
    "duration": 1176,
    "start_time": "2025-04-21T09:37:59.778Z"
   },
   {
    "duration": 22,
    "start_time": "2025-04-21T09:38:00.956Z"
   },
   {
    "duration": 79,
    "start_time": "2025-04-21T09:38:00.979Z"
   },
   {
    "duration": 4789,
    "start_time": "2025-04-21T09:38:01.060Z"
   },
   {
    "duration": 12,
    "start_time": "2025-04-21T09:38:05.852Z"
   },
   {
    "duration": 34,
    "start_time": "2025-04-21T09:38:05.867Z"
   },
   {
    "duration": 533,
    "start_time": "2025-04-21T09:38:05.903Z"
   },
   {
    "duration": 515,
    "start_time": "2025-04-21T09:38:06.438Z"
   },
   {
    "duration": 251,
    "start_time": "2025-04-21T09:38:06.954Z"
   },
   {
    "duration": 6,
    "start_time": "2025-04-21T09:38:07.207Z"
   },
   {
    "duration": 180,
    "start_time": "2025-04-21T09:38:07.214Z"
   },
   {
    "duration": 66,
    "start_time": "2025-04-21T09:38:07.396Z"
   },
   {
    "duration": 105,
    "start_time": "2025-04-21T09:38:07.464Z"
   },
   {
    "duration": 222,
    "start_time": "2025-04-21T09:38:07.570Z"
   },
   {
    "duration": 16,
    "start_time": "2025-04-21T09:38:07.794Z"
   },
   {
    "duration": 7,
    "start_time": "2025-04-21T09:38:07.812Z"
   },
   {
    "duration": 1809,
    "start_time": "2025-04-21T09:38:07.820Z"
   },
   {
    "duration": 5,
    "start_time": "2025-04-21T09:38:09.631Z"
   },
   {
    "duration": 1724,
    "start_time": "2025-04-21T09:38:09.638Z"
   },
   {
    "duration": 3,
    "start_time": "2025-04-21T09:38:11.364Z"
   },
   {
    "duration": 1709,
    "start_time": "2025-04-21T09:38:11.369Z"
   },
   {
    "duration": 3,
    "start_time": "2025-04-21T09:38:13.080Z"
   },
   {
    "duration": 1888,
    "start_time": "2025-04-21T09:38:13.084Z"
   },
   {
    "duration": 3,
    "start_time": "2025-04-21T09:38:14.977Z"
   },
   {
    "duration": 106,
    "start_time": "2025-04-21T09:38:14.982Z"
   },
   {
    "duration": 5821,
    "start_time": "2025-04-21T09:38:15.090Z"
   },
   {
    "duration": 14,
    "start_time": "2025-04-21T09:38:20.913Z"
   },
   {
    "duration": 59,
    "start_time": "2025-04-21T09:38:20.929Z"
   },
   {
    "duration": 7,
    "start_time": "2025-04-21T09:38:20.989Z"
   },
   {
    "duration": 74,
    "start_time": "2025-04-21T09:38:20.998Z"
   },
   {
    "duration": 3,
    "start_time": "2025-04-21T09:38:21.074Z"
   },
   {
    "duration": 19,
    "start_time": "2025-04-21T09:38:21.079Z"
   },
   {
    "duration": 8,
    "start_time": "2025-04-21T09:38:21.099Z"
   },
   {
    "duration": 6,
    "start_time": "2025-04-21T09:38:21.109Z"
   },
   {
    "duration": 5,
    "start_time": "2025-04-21T09:38:21.116Z"
   },
   {
    "duration": 7,
    "start_time": "2025-04-21T09:38:21.123Z"
   },
   {
    "duration": 286279,
    "start_time": "2025-04-21T09:38:21.131Z"
   },
   {
    "duration": 352281,
    "start_time": "2025-04-21T09:43:07.412Z"
   },
   {
    "duration": 4,
    "start_time": "2025-04-21T09:48:59.694Z"
   },
   {
    "duration": 6,
    "start_time": "2025-04-21T09:48:59.699Z"
   },
   {
    "duration": 6,
    "start_time": "2025-04-21T09:48:59.707Z"
   },
   {
    "duration": 10,
    "start_time": "2025-04-21T09:48:59.714Z"
   },
   {
    "duration": 3,
    "start_time": "2025-04-21T09:48:59.726Z"
   },
   {
    "duration": 4,
    "start_time": "2025-04-21T09:48:59.731Z"
   },
   {
    "duration": 3,
    "start_time": "2025-04-21T09:48:59.763Z"
   },
   {
    "duration": 805,
    "start_time": "2025-04-21T09:48:59.768Z"
   }
  ],
  "colab": {
   "provenance": []
  },
  "kernelspec": {
   "display_name": "Python 3 (ipykernel)",
   "language": "python",
   "name": "python3"
  },
  "language_info": {
   "codemirror_mode": {
    "name": "ipython",
    "version": 3
   },
   "file_extension": ".py",
   "mimetype": "text/x-python",
   "name": "python",
   "nbconvert_exporter": "python",
   "pygments_lexer": "ipython3",
   "version": "3.13.2"
  },
  "toc": {
   "base_numbering": 1,
   "nav_menu": {},
   "number_sections": true,
   "sideBar": true,
   "skip_h1_title": true,
   "title_cell": "Table of Contents",
   "title_sidebar": "Contents",
   "toc_cell": false,
   "toc_position": {
    "height": "calc(100% - 180px)",
    "left": "10px",
    "top": "150px",
    "width": "371.188px"
   },
   "toc_section_display": true,
   "toc_window_display": true
  }
 },
 "nbformat": 4,
 "nbformat_minor": 4
}

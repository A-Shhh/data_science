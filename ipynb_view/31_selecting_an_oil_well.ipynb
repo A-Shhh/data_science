{
 "cells": [
  {
   "cell_type": "markdown",
   "metadata": {},
   "source": [
    "# Выбор локации для скважины"
   ]
  },
  {
   "cell_type": "markdown",
   "metadata": {},
   "source": [
    "Допустим, вы работаете в добывающей компании «ГлавРосГосНефть». Нужно решить, где бурить новую скважину.\n",
    "\n",
    "Вам предоставлены пробы нефти в трёх регионах: в каждом 10 000 месторождений, где измерили качество нефти и объём её запасов. Постройте модель машинного обучения, которая поможет определить регион, где добыча принесёт наибольшую прибыль. Проанализируйте возможную прибыль и риски техникой *Bootstrap.*\n",
    "\n",
    "Шаги для выбора локации:\n",
    "\n",
    "- В избранном регионе ищут месторождения, для каждого определяют значения признаков;\n",
    "- Строят модель и оценивают объём запасов;\n",
    "- Выбирают месторождения с самым высокими оценками значений. Количество месторождений зависит от бюджета компании и стоимости разработки одной скважины;\n",
    "- Прибыль равна суммарной прибыли отобранных месторождений."
   ]
  },
  {
   "cell_type": "markdown",
   "metadata": {},
   "source": [
    "Для выполнения проекта, представлены данные проб нефти в трех регионах. Требуется построить модель машинного обучения, которая определит регион, где добыча принесет наибольшую прибыль.\n",
    "\n",
    "Для анализа будет испльзована техника Bootstrap, для определения возможных рисков и прибыли."
   ]
  },
  {
   "cell_type": "markdown",
   "metadata": {},
   "source": [
    "## Загрузка и подготовка данных"
   ]
  },
  {
   "cell_type": "code",
   "execution_count": 1,
   "metadata": {},
   "outputs": [
    {
     "name": "stdout",
     "output_type": "stream",
     "text": [
      "Requirement already satisfied: phik in /opt/conda/lib/python3.9/site-packages (0.12.4)\n",
      "Requirement already satisfied: numpy>=1.18.0 in /opt/conda/lib/python3.9/site-packages (from phik) (1.21.1)\n",
      "Requirement already satisfied: pandas>=0.25.1 in /opt/conda/lib/python3.9/site-packages (from phik) (1.2.4)\n",
      "Requirement already satisfied: matplotlib>=2.2.3 in /opt/conda/lib/python3.9/site-packages (from phik) (3.3.4)\n",
      "Requirement already satisfied: scipy>=1.5.2 in /opt/conda/lib/python3.9/site-packages (from phik) (1.9.1)\n",
      "Requirement already satisfied: joblib>=0.14.1 in /opt/conda/lib/python3.9/site-packages (from phik) (1.1.0)\n",
      "Requirement already satisfied: pyparsing!=2.0.4,!=2.1.2,!=2.1.6,>=2.0.3 in /opt/conda/lib/python3.9/site-packages (from matplotlib>=2.2.3->phik) (2.4.7)\n",
      "Requirement already satisfied: cycler>=0.10 in /opt/conda/lib/python3.9/site-packages (from matplotlib>=2.2.3->phik) (0.11.0)\n",
      "Requirement already satisfied: kiwisolver>=1.0.1 in /opt/conda/lib/python3.9/site-packages (from matplotlib>=2.2.3->phik) (1.4.4)\n",
      "Requirement already satisfied: python-dateutil>=2.1 in /opt/conda/lib/python3.9/site-packages (from matplotlib>=2.2.3->phik) (2.8.1)\n",
      "Requirement already satisfied: pillow>=6.2.0 in /opt/conda/lib/python3.9/site-packages (from matplotlib>=2.2.3->phik) (8.4.0)\n",
      "Requirement already satisfied: pytz>=2017.3 in /opt/conda/lib/python3.9/site-packages (from pandas>=0.25.1->phik) (2021.1)\n",
      "Requirement already satisfied: six>=1.5 in /opt/conda/lib/python3.9/site-packages (from python-dateutil>=2.1->matplotlib>=2.2.3->phik) (1.16.0)\n"
     ]
    }
   ],
   "source": [
    "# Выполним установку\n",
    "\n",
    "!pip install phik"
   ]
  },
  {
   "cell_type": "code",
   "execution_count": 2,
   "metadata": {},
   "outputs": [],
   "source": [
    "import pandas as pd\n",
    "import matplotlib.pyplot as plt\n",
    "import seaborn as sns\n",
    "import numpy as np\n",
    "\n",
    "from phik import phik_matrix\n",
    "from sklearn.model_selection import train_test_split\n",
    "from sklearn.preprocessing import StandardScaler\n",
    "from sklearn.linear_model import LinearRegression\n",
    "from sklearn.metrics import mean_squared_error\n",
    "from numpy.random import RandomState\n",
    "\n",
    "RANDOM_STATE = 43"
   ]
  },
  {
   "cell_type": "markdown",
   "metadata": {},
   "source": [
    "**Описание данных**\n",
    "\n",
    "Данные для выполнения проекта находятся в нескольких таблицах:\n",
    "\n",
    "- Каждая таблица: `geo_data_0`, `geo_data_1`, `geo_data_3`, имееют 5 признаков:\n",
    "\n",
    "\n",
    "    - `id` — уникальный идентификатор скважины;\n",
    "    - `f0, f1, f3` — три признака точек (неважно, что они означают, но сами признаки значимы);\n",
    "    - `product` — объём запасов в скважине (тыс. баррелей)."
   ]
  },
  {
   "cell_type": "code",
   "execution_count": 3,
   "metadata": {},
   "outputs": [],
   "source": [
    "# Загрузим данные избегая ошибки\n",
    "try: # Выплним загрузку с сервера:\n",
    "    geo_d1 = pd.read_csv('/datasets/geo_data_0.csv')\n",
    "    geo_d2 = pd.read_csv('/datasets/geo_data_1.csv')\n",
    "    geo_d3 = pd.read_csv('/datasets/geo_data_2.csv')\n",
    "except: # Укажем абсолютный путь\n",
    "    geo_d1 = pd.read_csv(r'C:\\Users\\abdulagadzhi\\Desktop\\Файлы\\MyProjects\\yandex_pract\\Базы данных\\Модуль 3 спринт 1\\geo_data_0.csv')\n",
    "    geo_d2 = pd.read_csv(r'C:\\Users\\abdulagadzhi\\Desktop\\Файлы\\MyProjects\\yandex_pract\\Базы данных\\Модуль 3 спринт 1\\geo_data_1.csv')\n",
    "    geo_d3 = pd.read_csv(r'C:\\Users\\abdulagadzhi\\Desktop\\Файлы\\MyProjects\\yandex_pract\\Базы данных\\Модуль 3 спринт 1\\geo_data_2.csv')"
   ]
  },
  {
   "cell_type": "code",
   "execution_count": 4,
   "metadata": {},
   "outputs": [],
   "source": [
    "# Функция для ознакомления с таблицами\n",
    "def first_check(data, dataset_name=\"\"):\n",
    "    # Печатаем название датасета\n",
    "    if dataset_name:\n",
    "        print(f\"Анализ датасета: {dataset_name}\")\n",
    "    else:\n",
    "        print(\"Анализ датасета\")\n",
    "    print(\"=\" * 40 + \"\\n\")\n",
    "    \n",
    "    # Первые и последние строки\n",
    "    print(\"Первые 5 строк:\")\n",
    "    display(data.head())\n",
    "    print(\"\\nПоследние 5 строк:\")\n",
    "    display(data.tail())\n",
    "    \n",
    "    # Информация о данных\n",
    "    print(\"\\nИнформация о данных:\")\n",
    "    display(data.info())\n",
    "    \n",
    "    # Описательная статистика\n",
    "    print(\"\\nОписательная статистика:\")\n",
    "    display(data.describe(include='all'))"
   ]
  },
  {
   "cell_type": "code",
   "execution_count": 5,
   "metadata": {},
   "outputs": [
    {
     "name": "stdout",
     "output_type": "stream",
     "text": [
      "Анализ датасета: geo_d1\n",
      "========================================\n",
      "\n",
      "Первые 5 строк:\n"
     ]
    },
    {
     "data": {
      "text/html": [
       "<div>\n",
       "<style scoped>\n",
       "    .dataframe tbody tr th:only-of-type {\n",
       "        vertical-align: middle;\n",
       "    }\n",
       "\n",
       "    .dataframe tbody tr th {\n",
       "        vertical-align: top;\n",
       "    }\n",
       "\n",
       "    .dataframe thead th {\n",
       "        text-align: right;\n",
       "    }\n",
       "</style>\n",
       "<table border=\"1\" class=\"dataframe\">\n",
       "  <thead>\n",
       "    <tr style=\"text-align: right;\">\n",
       "      <th></th>\n",
       "      <th>id</th>\n",
       "      <th>f0</th>\n",
       "      <th>f1</th>\n",
       "      <th>f2</th>\n",
       "      <th>product</th>\n",
       "    </tr>\n",
       "  </thead>\n",
       "  <tbody>\n",
       "    <tr>\n",
       "      <th>0</th>\n",
       "      <td>txEyH</td>\n",
       "      <td>0.705745</td>\n",
       "      <td>-0.497823</td>\n",
       "      <td>1.221170</td>\n",
       "      <td>105.280062</td>\n",
       "    </tr>\n",
       "    <tr>\n",
       "      <th>1</th>\n",
       "      <td>2acmU</td>\n",
       "      <td>1.334711</td>\n",
       "      <td>-0.340164</td>\n",
       "      <td>4.365080</td>\n",
       "      <td>73.037750</td>\n",
       "    </tr>\n",
       "    <tr>\n",
       "      <th>2</th>\n",
       "      <td>409Wp</td>\n",
       "      <td>1.022732</td>\n",
       "      <td>0.151990</td>\n",
       "      <td>1.419926</td>\n",
       "      <td>85.265647</td>\n",
       "    </tr>\n",
       "    <tr>\n",
       "      <th>3</th>\n",
       "      <td>iJLyR</td>\n",
       "      <td>-0.032172</td>\n",
       "      <td>0.139033</td>\n",
       "      <td>2.978566</td>\n",
       "      <td>168.620776</td>\n",
       "    </tr>\n",
       "    <tr>\n",
       "      <th>4</th>\n",
       "      <td>Xdl7t</td>\n",
       "      <td>1.988431</td>\n",
       "      <td>0.155413</td>\n",
       "      <td>4.751769</td>\n",
       "      <td>154.036647</td>\n",
       "    </tr>\n",
       "  </tbody>\n",
       "</table>\n",
       "</div>"
      ],
      "text/plain": [
       "      id        f0        f1        f2     product\n",
       "0  txEyH  0.705745 -0.497823  1.221170  105.280062\n",
       "1  2acmU  1.334711 -0.340164  4.365080   73.037750\n",
       "2  409Wp  1.022732  0.151990  1.419926   85.265647\n",
       "3  iJLyR -0.032172  0.139033  2.978566  168.620776\n",
       "4  Xdl7t  1.988431  0.155413  4.751769  154.036647"
      ]
     },
     "metadata": {},
     "output_type": "display_data"
    },
    {
     "name": "stdout",
     "output_type": "stream",
     "text": [
      "\n",
      "Последние 5 строк:\n"
     ]
    },
    {
     "data": {
      "text/html": [
       "<div>\n",
       "<style scoped>\n",
       "    .dataframe tbody tr th:only-of-type {\n",
       "        vertical-align: middle;\n",
       "    }\n",
       "\n",
       "    .dataframe tbody tr th {\n",
       "        vertical-align: top;\n",
       "    }\n",
       "\n",
       "    .dataframe thead th {\n",
       "        text-align: right;\n",
       "    }\n",
       "</style>\n",
       "<table border=\"1\" class=\"dataframe\">\n",
       "  <thead>\n",
       "    <tr style=\"text-align: right;\">\n",
       "      <th></th>\n",
       "      <th>id</th>\n",
       "      <th>f0</th>\n",
       "      <th>f1</th>\n",
       "      <th>f2</th>\n",
       "      <th>product</th>\n",
       "    </tr>\n",
       "  </thead>\n",
       "  <tbody>\n",
       "    <tr>\n",
       "      <th>99995</th>\n",
       "      <td>DLsed</td>\n",
       "      <td>0.971957</td>\n",
       "      <td>0.370953</td>\n",
       "      <td>6.075346</td>\n",
       "      <td>110.744026</td>\n",
       "    </tr>\n",
       "    <tr>\n",
       "      <th>99996</th>\n",
       "      <td>QKivN</td>\n",
       "      <td>1.392429</td>\n",
       "      <td>-0.382606</td>\n",
       "      <td>1.273912</td>\n",
       "      <td>122.346843</td>\n",
       "    </tr>\n",
       "    <tr>\n",
       "      <th>99997</th>\n",
       "      <td>3rnvd</td>\n",
       "      <td>1.029585</td>\n",
       "      <td>0.018787</td>\n",
       "      <td>-1.348308</td>\n",
       "      <td>64.375443</td>\n",
       "    </tr>\n",
       "    <tr>\n",
       "      <th>99998</th>\n",
       "      <td>7kl59</td>\n",
       "      <td>0.998163</td>\n",
       "      <td>-0.528582</td>\n",
       "      <td>1.583869</td>\n",
       "      <td>74.040764</td>\n",
       "    </tr>\n",
       "    <tr>\n",
       "      <th>99999</th>\n",
       "      <td>1CWhH</td>\n",
       "      <td>1.764754</td>\n",
       "      <td>-0.266417</td>\n",
       "      <td>5.722849</td>\n",
       "      <td>149.633246</td>\n",
       "    </tr>\n",
       "  </tbody>\n",
       "</table>\n",
       "</div>"
      ],
      "text/plain": [
       "          id        f0        f1        f2     product\n",
       "99995  DLsed  0.971957  0.370953  6.075346  110.744026\n",
       "99996  QKivN  1.392429 -0.382606  1.273912  122.346843\n",
       "99997  3rnvd  1.029585  0.018787 -1.348308   64.375443\n",
       "99998  7kl59  0.998163 -0.528582  1.583869   74.040764\n",
       "99999  1CWhH  1.764754 -0.266417  5.722849  149.633246"
      ]
     },
     "metadata": {},
     "output_type": "display_data"
    },
    {
     "name": "stdout",
     "output_type": "stream",
     "text": [
      "\n",
      "Информация о данных:\n",
      "<class 'pandas.core.frame.DataFrame'>\n",
      "RangeIndex: 100000 entries, 0 to 99999\n",
      "Data columns (total 5 columns):\n",
      " #   Column   Non-Null Count   Dtype  \n",
      "---  ------   --------------   -----  \n",
      " 0   id       100000 non-null  object \n",
      " 1   f0       100000 non-null  float64\n",
      " 2   f1       100000 non-null  float64\n",
      " 3   f2       100000 non-null  float64\n",
      " 4   product  100000 non-null  float64\n",
      "dtypes: float64(4), object(1)\n",
      "memory usage: 3.8+ MB\n"
     ]
    },
    {
     "data": {
      "text/plain": [
       "None"
      ]
     },
     "metadata": {},
     "output_type": "display_data"
    },
    {
     "name": "stdout",
     "output_type": "stream",
     "text": [
      "\n",
      "Описательная статистика:\n"
     ]
    },
    {
     "data": {
      "text/html": [
       "<div>\n",
       "<style scoped>\n",
       "    .dataframe tbody tr th:only-of-type {\n",
       "        vertical-align: middle;\n",
       "    }\n",
       "\n",
       "    .dataframe tbody tr th {\n",
       "        vertical-align: top;\n",
       "    }\n",
       "\n",
       "    .dataframe thead th {\n",
       "        text-align: right;\n",
       "    }\n",
       "</style>\n",
       "<table border=\"1\" class=\"dataframe\">\n",
       "  <thead>\n",
       "    <tr style=\"text-align: right;\">\n",
       "      <th></th>\n",
       "      <th>id</th>\n",
       "      <th>f0</th>\n",
       "      <th>f1</th>\n",
       "      <th>f2</th>\n",
       "      <th>product</th>\n",
       "    </tr>\n",
       "  </thead>\n",
       "  <tbody>\n",
       "    <tr>\n",
       "      <th>count</th>\n",
       "      <td>100000</td>\n",
       "      <td>100000.000000</td>\n",
       "      <td>100000.000000</td>\n",
       "      <td>100000.000000</td>\n",
       "      <td>100000.000000</td>\n",
       "    </tr>\n",
       "    <tr>\n",
       "      <th>unique</th>\n",
       "      <td>99990</td>\n",
       "      <td>NaN</td>\n",
       "      <td>NaN</td>\n",
       "      <td>NaN</td>\n",
       "      <td>NaN</td>\n",
       "    </tr>\n",
       "    <tr>\n",
       "      <th>top</th>\n",
       "      <td>74z30</td>\n",
       "      <td>NaN</td>\n",
       "      <td>NaN</td>\n",
       "      <td>NaN</td>\n",
       "      <td>NaN</td>\n",
       "    </tr>\n",
       "    <tr>\n",
       "      <th>freq</th>\n",
       "      <td>2</td>\n",
       "      <td>NaN</td>\n",
       "      <td>NaN</td>\n",
       "      <td>NaN</td>\n",
       "      <td>NaN</td>\n",
       "    </tr>\n",
       "    <tr>\n",
       "      <th>mean</th>\n",
       "      <td>NaN</td>\n",
       "      <td>0.500419</td>\n",
       "      <td>0.250143</td>\n",
       "      <td>2.502647</td>\n",
       "      <td>92.500000</td>\n",
       "    </tr>\n",
       "    <tr>\n",
       "      <th>std</th>\n",
       "      <td>NaN</td>\n",
       "      <td>0.871832</td>\n",
       "      <td>0.504433</td>\n",
       "      <td>3.248248</td>\n",
       "      <td>44.288691</td>\n",
       "    </tr>\n",
       "    <tr>\n",
       "      <th>min</th>\n",
       "      <td>NaN</td>\n",
       "      <td>-1.408605</td>\n",
       "      <td>-0.848218</td>\n",
       "      <td>-12.088328</td>\n",
       "      <td>0.000000</td>\n",
       "    </tr>\n",
       "    <tr>\n",
       "      <th>25%</th>\n",
       "      <td>NaN</td>\n",
       "      <td>-0.072580</td>\n",
       "      <td>-0.200881</td>\n",
       "      <td>0.287748</td>\n",
       "      <td>56.497507</td>\n",
       "    </tr>\n",
       "    <tr>\n",
       "      <th>50%</th>\n",
       "      <td>NaN</td>\n",
       "      <td>0.502360</td>\n",
       "      <td>0.250252</td>\n",
       "      <td>2.515969</td>\n",
       "      <td>91.849972</td>\n",
       "    </tr>\n",
       "    <tr>\n",
       "      <th>75%</th>\n",
       "      <td>NaN</td>\n",
       "      <td>1.073581</td>\n",
       "      <td>0.700646</td>\n",
       "      <td>4.715088</td>\n",
       "      <td>128.564089</td>\n",
       "    </tr>\n",
       "    <tr>\n",
       "      <th>max</th>\n",
       "      <td>NaN</td>\n",
       "      <td>2.362331</td>\n",
       "      <td>1.343769</td>\n",
       "      <td>16.003790</td>\n",
       "      <td>185.364347</td>\n",
       "    </tr>\n",
       "  </tbody>\n",
       "</table>\n",
       "</div>"
      ],
      "text/plain": [
       "            id             f0             f1             f2        product\n",
       "count   100000  100000.000000  100000.000000  100000.000000  100000.000000\n",
       "unique   99990            NaN            NaN            NaN            NaN\n",
       "top      74z30            NaN            NaN            NaN            NaN\n",
       "freq         2            NaN            NaN            NaN            NaN\n",
       "mean       NaN       0.500419       0.250143       2.502647      92.500000\n",
       "std        NaN       0.871832       0.504433       3.248248      44.288691\n",
       "min        NaN      -1.408605      -0.848218     -12.088328       0.000000\n",
       "25%        NaN      -0.072580      -0.200881       0.287748      56.497507\n",
       "50%        NaN       0.502360       0.250252       2.515969      91.849972\n",
       "75%        NaN       1.073581       0.700646       4.715088     128.564089\n",
       "max        NaN       2.362331       1.343769      16.003790     185.364347"
      ]
     },
     "metadata": {},
     "output_type": "display_data"
    }
   ],
   "source": [
    "first_check(geo_d1, 'geo_d1')"
   ]
  },
  {
   "cell_type": "markdown",
   "metadata": {},
   "source": [
    "- Всего в датасете `geo_d1` 5 столбцов и 100000 строк. При первичном анализе пропуски в столбцах не обнаружены. Замечано, что в стобце `id` присудствуют дубликаты."
   ]
  },
  {
   "cell_type": "code",
   "execution_count": 6,
   "metadata": {},
   "outputs": [
    {
     "name": "stdout",
     "output_type": "stream",
     "text": [
      "Анализ датасета: geo_d2\n",
      "========================================\n",
      "\n",
      "Первые 5 строк:\n"
     ]
    },
    {
     "data": {
      "text/html": [
       "<div>\n",
       "<style scoped>\n",
       "    .dataframe tbody tr th:only-of-type {\n",
       "        vertical-align: middle;\n",
       "    }\n",
       "\n",
       "    .dataframe tbody tr th {\n",
       "        vertical-align: top;\n",
       "    }\n",
       "\n",
       "    .dataframe thead th {\n",
       "        text-align: right;\n",
       "    }\n",
       "</style>\n",
       "<table border=\"1\" class=\"dataframe\">\n",
       "  <thead>\n",
       "    <tr style=\"text-align: right;\">\n",
       "      <th></th>\n",
       "      <th>id</th>\n",
       "      <th>f0</th>\n",
       "      <th>f1</th>\n",
       "      <th>f2</th>\n",
       "      <th>product</th>\n",
       "    </tr>\n",
       "  </thead>\n",
       "  <tbody>\n",
       "    <tr>\n",
       "      <th>0</th>\n",
       "      <td>kBEdx</td>\n",
       "      <td>-15.001348</td>\n",
       "      <td>-8.276000</td>\n",
       "      <td>-0.005876</td>\n",
       "      <td>3.179103</td>\n",
       "    </tr>\n",
       "    <tr>\n",
       "      <th>1</th>\n",
       "      <td>62mP7</td>\n",
       "      <td>14.272088</td>\n",
       "      <td>-3.475083</td>\n",
       "      <td>0.999183</td>\n",
       "      <td>26.953261</td>\n",
       "    </tr>\n",
       "    <tr>\n",
       "      <th>2</th>\n",
       "      <td>vyE1P</td>\n",
       "      <td>6.263187</td>\n",
       "      <td>-5.948386</td>\n",
       "      <td>5.001160</td>\n",
       "      <td>134.766305</td>\n",
       "    </tr>\n",
       "    <tr>\n",
       "      <th>3</th>\n",
       "      <td>KcrkZ</td>\n",
       "      <td>-13.081196</td>\n",
       "      <td>-11.506057</td>\n",
       "      <td>4.999415</td>\n",
       "      <td>137.945408</td>\n",
       "    </tr>\n",
       "    <tr>\n",
       "      <th>4</th>\n",
       "      <td>AHL4O</td>\n",
       "      <td>12.702195</td>\n",
       "      <td>-8.147433</td>\n",
       "      <td>5.004363</td>\n",
       "      <td>134.766305</td>\n",
       "    </tr>\n",
       "  </tbody>\n",
       "</table>\n",
       "</div>"
      ],
      "text/plain": [
       "      id         f0         f1        f2     product\n",
       "0  kBEdx -15.001348  -8.276000 -0.005876    3.179103\n",
       "1  62mP7  14.272088  -3.475083  0.999183   26.953261\n",
       "2  vyE1P   6.263187  -5.948386  5.001160  134.766305\n",
       "3  KcrkZ -13.081196 -11.506057  4.999415  137.945408\n",
       "4  AHL4O  12.702195  -8.147433  5.004363  134.766305"
      ]
     },
     "metadata": {},
     "output_type": "display_data"
    },
    {
     "name": "stdout",
     "output_type": "stream",
     "text": [
      "\n",
      "Последние 5 строк:\n"
     ]
    },
    {
     "data": {
      "text/html": [
       "<div>\n",
       "<style scoped>\n",
       "    .dataframe tbody tr th:only-of-type {\n",
       "        vertical-align: middle;\n",
       "    }\n",
       "\n",
       "    .dataframe tbody tr th {\n",
       "        vertical-align: top;\n",
       "    }\n",
       "\n",
       "    .dataframe thead th {\n",
       "        text-align: right;\n",
       "    }\n",
       "</style>\n",
       "<table border=\"1\" class=\"dataframe\">\n",
       "  <thead>\n",
       "    <tr style=\"text-align: right;\">\n",
       "      <th></th>\n",
       "      <th>id</th>\n",
       "      <th>f0</th>\n",
       "      <th>f1</th>\n",
       "      <th>f2</th>\n",
       "      <th>product</th>\n",
       "    </tr>\n",
       "  </thead>\n",
       "  <tbody>\n",
       "    <tr>\n",
       "      <th>99995</th>\n",
       "      <td>QywKC</td>\n",
       "      <td>9.535637</td>\n",
       "      <td>-6.878139</td>\n",
       "      <td>1.998296</td>\n",
       "      <td>53.906522</td>\n",
       "    </tr>\n",
       "    <tr>\n",
       "      <th>99996</th>\n",
       "      <td>ptvty</td>\n",
       "      <td>-10.160631</td>\n",
       "      <td>-12.558096</td>\n",
       "      <td>5.005581</td>\n",
       "      <td>137.945408</td>\n",
       "    </tr>\n",
       "    <tr>\n",
       "      <th>99997</th>\n",
       "      <td>09gWa</td>\n",
       "      <td>-7.378891</td>\n",
       "      <td>-3.084104</td>\n",
       "      <td>4.998651</td>\n",
       "      <td>137.945408</td>\n",
       "    </tr>\n",
       "    <tr>\n",
       "      <th>99998</th>\n",
       "      <td>rqwUm</td>\n",
       "      <td>0.665714</td>\n",
       "      <td>-6.152593</td>\n",
       "      <td>1.000146</td>\n",
       "      <td>30.132364</td>\n",
       "    </tr>\n",
       "    <tr>\n",
       "      <th>99999</th>\n",
       "      <td>relB0</td>\n",
       "      <td>-3.426139</td>\n",
       "      <td>-7.794274</td>\n",
       "      <td>-0.003299</td>\n",
       "      <td>3.179103</td>\n",
       "    </tr>\n",
       "  </tbody>\n",
       "</table>\n",
       "</div>"
      ],
      "text/plain": [
       "          id         f0         f1        f2     product\n",
       "99995  QywKC   9.535637  -6.878139  1.998296   53.906522\n",
       "99996  ptvty -10.160631 -12.558096  5.005581  137.945408\n",
       "99997  09gWa  -7.378891  -3.084104  4.998651  137.945408\n",
       "99998  rqwUm   0.665714  -6.152593  1.000146   30.132364\n",
       "99999  relB0  -3.426139  -7.794274 -0.003299    3.179103"
      ]
     },
     "metadata": {},
     "output_type": "display_data"
    },
    {
     "name": "stdout",
     "output_type": "stream",
     "text": [
      "\n",
      "Информация о данных:\n",
      "<class 'pandas.core.frame.DataFrame'>\n",
      "RangeIndex: 100000 entries, 0 to 99999\n",
      "Data columns (total 5 columns):\n",
      " #   Column   Non-Null Count   Dtype  \n",
      "---  ------   --------------   -----  \n",
      " 0   id       100000 non-null  object \n",
      " 1   f0       100000 non-null  float64\n",
      " 2   f1       100000 non-null  float64\n",
      " 3   f2       100000 non-null  float64\n",
      " 4   product  100000 non-null  float64\n",
      "dtypes: float64(4), object(1)\n",
      "memory usage: 3.8+ MB\n"
     ]
    },
    {
     "data": {
      "text/plain": [
       "None"
      ]
     },
     "metadata": {},
     "output_type": "display_data"
    },
    {
     "name": "stdout",
     "output_type": "stream",
     "text": [
      "\n",
      "Описательная статистика:\n"
     ]
    },
    {
     "data": {
      "text/html": [
       "<div>\n",
       "<style scoped>\n",
       "    .dataframe tbody tr th:only-of-type {\n",
       "        vertical-align: middle;\n",
       "    }\n",
       "\n",
       "    .dataframe tbody tr th {\n",
       "        vertical-align: top;\n",
       "    }\n",
       "\n",
       "    .dataframe thead th {\n",
       "        text-align: right;\n",
       "    }\n",
       "</style>\n",
       "<table border=\"1\" class=\"dataframe\">\n",
       "  <thead>\n",
       "    <tr style=\"text-align: right;\">\n",
       "      <th></th>\n",
       "      <th>id</th>\n",
       "      <th>f0</th>\n",
       "      <th>f1</th>\n",
       "      <th>f2</th>\n",
       "      <th>product</th>\n",
       "    </tr>\n",
       "  </thead>\n",
       "  <tbody>\n",
       "    <tr>\n",
       "      <th>count</th>\n",
       "      <td>100000</td>\n",
       "      <td>100000.000000</td>\n",
       "      <td>100000.000000</td>\n",
       "      <td>100000.000000</td>\n",
       "      <td>100000.000000</td>\n",
       "    </tr>\n",
       "    <tr>\n",
       "      <th>unique</th>\n",
       "      <td>99996</td>\n",
       "      <td>NaN</td>\n",
       "      <td>NaN</td>\n",
       "      <td>NaN</td>\n",
       "      <td>NaN</td>\n",
       "    </tr>\n",
       "    <tr>\n",
       "      <th>top</th>\n",
       "      <td>wt4Uk</td>\n",
       "      <td>NaN</td>\n",
       "      <td>NaN</td>\n",
       "      <td>NaN</td>\n",
       "      <td>NaN</td>\n",
       "    </tr>\n",
       "    <tr>\n",
       "      <th>freq</th>\n",
       "      <td>2</td>\n",
       "      <td>NaN</td>\n",
       "      <td>NaN</td>\n",
       "      <td>NaN</td>\n",
       "      <td>NaN</td>\n",
       "    </tr>\n",
       "    <tr>\n",
       "      <th>mean</th>\n",
       "      <td>NaN</td>\n",
       "      <td>1.141296</td>\n",
       "      <td>-4.796579</td>\n",
       "      <td>2.494541</td>\n",
       "      <td>68.825000</td>\n",
       "    </tr>\n",
       "    <tr>\n",
       "      <th>std</th>\n",
       "      <td>NaN</td>\n",
       "      <td>8.965932</td>\n",
       "      <td>5.119872</td>\n",
       "      <td>1.703572</td>\n",
       "      <td>45.944423</td>\n",
       "    </tr>\n",
       "    <tr>\n",
       "      <th>min</th>\n",
       "      <td>NaN</td>\n",
       "      <td>-31.609576</td>\n",
       "      <td>-26.358598</td>\n",
       "      <td>-0.018144</td>\n",
       "      <td>0.000000</td>\n",
       "    </tr>\n",
       "    <tr>\n",
       "      <th>25%</th>\n",
       "      <td>NaN</td>\n",
       "      <td>-6.298551</td>\n",
       "      <td>-8.267985</td>\n",
       "      <td>1.000021</td>\n",
       "      <td>26.953261</td>\n",
       "    </tr>\n",
       "    <tr>\n",
       "      <th>50%</th>\n",
       "      <td>NaN</td>\n",
       "      <td>1.153055</td>\n",
       "      <td>-4.813172</td>\n",
       "      <td>2.011479</td>\n",
       "      <td>57.085625</td>\n",
       "    </tr>\n",
       "    <tr>\n",
       "      <th>75%</th>\n",
       "      <td>NaN</td>\n",
       "      <td>8.621015</td>\n",
       "      <td>-1.332816</td>\n",
       "      <td>3.999904</td>\n",
       "      <td>107.813044</td>\n",
       "    </tr>\n",
       "    <tr>\n",
       "      <th>max</th>\n",
       "      <td>NaN</td>\n",
       "      <td>29.421755</td>\n",
       "      <td>18.734063</td>\n",
       "      <td>5.019721</td>\n",
       "      <td>137.945408</td>\n",
       "    </tr>\n",
       "  </tbody>\n",
       "</table>\n",
       "</div>"
      ],
      "text/plain": [
       "            id             f0             f1             f2        product\n",
       "count   100000  100000.000000  100000.000000  100000.000000  100000.000000\n",
       "unique   99996            NaN            NaN            NaN            NaN\n",
       "top      wt4Uk            NaN            NaN            NaN            NaN\n",
       "freq         2            NaN            NaN            NaN            NaN\n",
       "mean       NaN       1.141296      -4.796579       2.494541      68.825000\n",
       "std        NaN       8.965932       5.119872       1.703572      45.944423\n",
       "min        NaN     -31.609576     -26.358598      -0.018144       0.000000\n",
       "25%        NaN      -6.298551      -8.267985       1.000021      26.953261\n",
       "50%        NaN       1.153055      -4.813172       2.011479      57.085625\n",
       "75%        NaN       8.621015      -1.332816       3.999904     107.813044\n",
       "max        NaN      29.421755      18.734063       5.019721     137.945408"
      ]
     },
     "metadata": {},
     "output_type": "display_data"
    }
   ],
   "source": [
    "first_check(geo_d2, 'geo_d2')"
   ]
  },
  {
   "cell_type": "markdown",
   "metadata": {},
   "source": [
    "- Всего в датасете `geo_d2` 5 столбцов и 100000 строк. При первичном анализе пропуски в столбцах не обнаружены. Замечано, что в стобце `id` присудствуют дубликаты."
   ]
  },
  {
   "cell_type": "code",
   "execution_count": 7,
   "metadata": {},
   "outputs": [
    {
     "name": "stdout",
     "output_type": "stream",
     "text": [
      "Анализ датасета: geo_d3\n",
      "========================================\n",
      "\n",
      "Первые 5 строк:\n"
     ]
    },
    {
     "data": {
      "text/html": [
       "<div>\n",
       "<style scoped>\n",
       "    .dataframe tbody tr th:only-of-type {\n",
       "        vertical-align: middle;\n",
       "    }\n",
       "\n",
       "    .dataframe tbody tr th {\n",
       "        vertical-align: top;\n",
       "    }\n",
       "\n",
       "    .dataframe thead th {\n",
       "        text-align: right;\n",
       "    }\n",
       "</style>\n",
       "<table border=\"1\" class=\"dataframe\">\n",
       "  <thead>\n",
       "    <tr style=\"text-align: right;\">\n",
       "      <th></th>\n",
       "      <th>id</th>\n",
       "      <th>f0</th>\n",
       "      <th>f1</th>\n",
       "      <th>f2</th>\n",
       "      <th>product</th>\n",
       "    </tr>\n",
       "  </thead>\n",
       "  <tbody>\n",
       "    <tr>\n",
       "      <th>0</th>\n",
       "      <td>fwXo0</td>\n",
       "      <td>-1.146987</td>\n",
       "      <td>0.963328</td>\n",
       "      <td>-0.828965</td>\n",
       "      <td>27.758673</td>\n",
       "    </tr>\n",
       "    <tr>\n",
       "      <th>1</th>\n",
       "      <td>WJtFt</td>\n",
       "      <td>0.262778</td>\n",
       "      <td>0.269839</td>\n",
       "      <td>-2.530187</td>\n",
       "      <td>56.069697</td>\n",
       "    </tr>\n",
       "    <tr>\n",
       "      <th>2</th>\n",
       "      <td>ovLUW</td>\n",
       "      <td>0.194587</td>\n",
       "      <td>0.289035</td>\n",
       "      <td>-5.586433</td>\n",
       "      <td>62.871910</td>\n",
       "    </tr>\n",
       "    <tr>\n",
       "      <th>3</th>\n",
       "      <td>q6cA6</td>\n",
       "      <td>2.236060</td>\n",
       "      <td>-0.553760</td>\n",
       "      <td>0.930038</td>\n",
       "      <td>114.572842</td>\n",
       "    </tr>\n",
       "    <tr>\n",
       "      <th>4</th>\n",
       "      <td>WPMUX</td>\n",
       "      <td>-0.515993</td>\n",
       "      <td>1.716266</td>\n",
       "      <td>5.899011</td>\n",
       "      <td>149.600746</td>\n",
       "    </tr>\n",
       "  </tbody>\n",
       "</table>\n",
       "</div>"
      ],
      "text/plain": [
       "      id        f0        f1        f2     product\n",
       "0  fwXo0 -1.146987  0.963328 -0.828965   27.758673\n",
       "1  WJtFt  0.262778  0.269839 -2.530187   56.069697\n",
       "2  ovLUW  0.194587  0.289035 -5.586433   62.871910\n",
       "3  q6cA6  2.236060 -0.553760  0.930038  114.572842\n",
       "4  WPMUX -0.515993  1.716266  5.899011  149.600746"
      ]
     },
     "metadata": {},
     "output_type": "display_data"
    },
    {
     "name": "stdout",
     "output_type": "stream",
     "text": [
      "\n",
      "Последние 5 строк:\n"
     ]
    },
    {
     "data": {
      "text/html": [
       "<div>\n",
       "<style scoped>\n",
       "    .dataframe tbody tr th:only-of-type {\n",
       "        vertical-align: middle;\n",
       "    }\n",
       "\n",
       "    .dataframe tbody tr th {\n",
       "        vertical-align: top;\n",
       "    }\n",
       "\n",
       "    .dataframe thead th {\n",
       "        text-align: right;\n",
       "    }\n",
       "</style>\n",
       "<table border=\"1\" class=\"dataframe\">\n",
       "  <thead>\n",
       "    <tr style=\"text-align: right;\">\n",
       "      <th></th>\n",
       "      <th>id</th>\n",
       "      <th>f0</th>\n",
       "      <th>f1</th>\n",
       "      <th>f2</th>\n",
       "      <th>product</th>\n",
       "    </tr>\n",
       "  </thead>\n",
       "  <tbody>\n",
       "    <tr>\n",
       "      <th>99995</th>\n",
       "      <td>4GxBu</td>\n",
       "      <td>-1.777037</td>\n",
       "      <td>1.125220</td>\n",
       "      <td>6.263374</td>\n",
       "      <td>172.327046</td>\n",
       "    </tr>\n",
       "    <tr>\n",
       "      <th>99996</th>\n",
       "      <td>YKFjq</td>\n",
       "      <td>-1.261523</td>\n",
       "      <td>-0.894828</td>\n",
       "      <td>2.524545</td>\n",
       "      <td>138.748846</td>\n",
       "    </tr>\n",
       "    <tr>\n",
       "      <th>99997</th>\n",
       "      <td>tKPY3</td>\n",
       "      <td>-1.199934</td>\n",
       "      <td>-2.957637</td>\n",
       "      <td>5.219411</td>\n",
       "      <td>157.080080</td>\n",
       "    </tr>\n",
       "    <tr>\n",
       "      <th>99998</th>\n",
       "      <td>nmxp2</td>\n",
       "      <td>-2.419896</td>\n",
       "      <td>2.417221</td>\n",
       "      <td>-5.548444</td>\n",
       "      <td>51.795253</td>\n",
       "    </tr>\n",
       "    <tr>\n",
       "      <th>99999</th>\n",
       "      <td>V9kWn</td>\n",
       "      <td>-2.551421</td>\n",
       "      <td>-2.025625</td>\n",
       "      <td>6.090891</td>\n",
       "      <td>102.775767</td>\n",
       "    </tr>\n",
       "  </tbody>\n",
       "</table>\n",
       "</div>"
      ],
      "text/plain": [
       "          id        f0        f1        f2     product\n",
       "99995  4GxBu -1.777037  1.125220  6.263374  172.327046\n",
       "99996  YKFjq -1.261523 -0.894828  2.524545  138.748846\n",
       "99997  tKPY3 -1.199934 -2.957637  5.219411  157.080080\n",
       "99998  nmxp2 -2.419896  2.417221 -5.548444   51.795253\n",
       "99999  V9kWn -2.551421 -2.025625  6.090891  102.775767"
      ]
     },
     "metadata": {},
     "output_type": "display_data"
    },
    {
     "name": "stdout",
     "output_type": "stream",
     "text": [
      "\n",
      "Информация о данных:\n",
      "<class 'pandas.core.frame.DataFrame'>\n",
      "RangeIndex: 100000 entries, 0 to 99999\n",
      "Data columns (total 5 columns):\n",
      " #   Column   Non-Null Count   Dtype  \n",
      "---  ------   --------------   -----  \n",
      " 0   id       100000 non-null  object \n",
      " 1   f0       100000 non-null  float64\n",
      " 2   f1       100000 non-null  float64\n",
      " 3   f2       100000 non-null  float64\n",
      " 4   product  100000 non-null  float64\n",
      "dtypes: float64(4), object(1)\n",
      "memory usage: 3.8+ MB\n"
     ]
    },
    {
     "data": {
      "text/plain": [
       "None"
      ]
     },
     "metadata": {},
     "output_type": "display_data"
    },
    {
     "name": "stdout",
     "output_type": "stream",
     "text": [
      "\n",
      "Описательная статистика:\n"
     ]
    },
    {
     "data": {
      "text/html": [
       "<div>\n",
       "<style scoped>\n",
       "    .dataframe tbody tr th:only-of-type {\n",
       "        vertical-align: middle;\n",
       "    }\n",
       "\n",
       "    .dataframe tbody tr th {\n",
       "        vertical-align: top;\n",
       "    }\n",
       "\n",
       "    .dataframe thead th {\n",
       "        text-align: right;\n",
       "    }\n",
       "</style>\n",
       "<table border=\"1\" class=\"dataframe\">\n",
       "  <thead>\n",
       "    <tr style=\"text-align: right;\">\n",
       "      <th></th>\n",
       "      <th>id</th>\n",
       "      <th>f0</th>\n",
       "      <th>f1</th>\n",
       "      <th>f2</th>\n",
       "      <th>product</th>\n",
       "    </tr>\n",
       "  </thead>\n",
       "  <tbody>\n",
       "    <tr>\n",
       "      <th>count</th>\n",
       "      <td>100000</td>\n",
       "      <td>100000.000000</td>\n",
       "      <td>100000.000000</td>\n",
       "      <td>100000.000000</td>\n",
       "      <td>100000.000000</td>\n",
       "    </tr>\n",
       "    <tr>\n",
       "      <th>unique</th>\n",
       "      <td>99996</td>\n",
       "      <td>NaN</td>\n",
       "      <td>NaN</td>\n",
       "      <td>NaN</td>\n",
       "      <td>NaN</td>\n",
       "    </tr>\n",
       "    <tr>\n",
       "      <th>top</th>\n",
       "      <td>xCHr8</td>\n",
       "      <td>NaN</td>\n",
       "      <td>NaN</td>\n",
       "      <td>NaN</td>\n",
       "      <td>NaN</td>\n",
       "    </tr>\n",
       "    <tr>\n",
       "      <th>freq</th>\n",
       "      <td>2</td>\n",
       "      <td>NaN</td>\n",
       "      <td>NaN</td>\n",
       "      <td>NaN</td>\n",
       "      <td>NaN</td>\n",
       "    </tr>\n",
       "    <tr>\n",
       "      <th>mean</th>\n",
       "      <td>NaN</td>\n",
       "      <td>0.002023</td>\n",
       "      <td>-0.002081</td>\n",
       "      <td>2.495128</td>\n",
       "      <td>95.000000</td>\n",
       "    </tr>\n",
       "    <tr>\n",
       "      <th>std</th>\n",
       "      <td>NaN</td>\n",
       "      <td>1.732045</td>\n",
       "      <td>1.730417</td>\n",
       "      <td>3.473445</td>\n",
       "      <td>44.749921</td>\n",
       "    </tr>\n",
       "    <tr>\n",
       "      <th>min</th>\n",
       "      <td>NaN</td>\n",
       "      <td>-8.760004</td>\n",
       "      <td>-7.084020</td>\n",
       "      <td>-11.970335</td>\n",
       "      <td>0.000000</td>\n",
       "    </tr>\n",
       "    <tr>\n",
       "      <th>25%</th>\n",
       "      <td>NaN</td>\n",
       "      <td>-1.162288</td>\n",
       "      <td>-1.174820</td>\n",
       "      <td>0.130359</td>\n",
       "      <td>59.450441</td>\n",
       "    </tr>\n",
       "    <tr>\n",
       "      <th>50%</th>\n",
       "      <td>NaN</td>\n",
       "      <td>0.009424</td>\n",
       "      <td>-0.009482</td>\n",
       "      <td>2.484236</td>\n",
       "      <td>94.925613</td>\n",
       "    </tr>\n",
       "    <tr>\n",
       "      <th>75%</th>\n",
       "      <td>NaN</td>\n",
       "      <td>1.158535</td>\n",
       "      <td>1.163678</td>\n",
       "      <td>4.858794</td>\n",
       "      <td>130.595027</td>\n",
       "    </tr>\n",
       "    <tr>\n",
       "      <th>max</th>\n",
       "      <td>NaN</td>\n",
       "      <td>7.238262</td>\n",
       "      <td>7.844801</td>\n",
       "      <td>16.739402</td>\n",
       "      <td>190.029838</td>\n",
       "    </tr>\n",
       "  </tbody>\n",
       "</table>\n",
       "</div>"
      ],
      "text/plain": [
       "            id             f0             f1             f2        product\n",
       "count   100000  100000.000000  100000.000000  100000.000000  100000.000000\n",
       "unique   99996            NaN            NaN            NaN            NaN\n",
       "top      xCHr8            NaN            NaN            NaN            NaN\n",
       "freq         2            NaN            NaN            NaN            NaN\n",
       "mean       NaN       0.002023      -0.002081       2.495128      95.000000\n",
       "std        NaN       1.732045       1.730417       3.473445      44.749921\n",
       "min        NaN      -8.760004      -7.084020     -11.970335       0.000000\n",
       "25%        NaN      -1.162288      -1.174820       0.130359      59.450441\n",
       "50%        NaN       0.009424      -0.009482       2.484236      94.925613\n",
       "75%        NaN       1.158535       1.163678       4.858794     130.595027\n",
       "max        NaN       7.238262       7.844801      16.739402     190.029838"
      ]
     },
     "metadata": {},
     "output_type": "display_data"
    }
   ],
   "source": [
    "first_check(geo_d3, 'geo_d3')"
   ]
  },
  {
   "cell_type": "markdown",
   "metadata": {},
   "source": [
    "- Всего в датасете `geo_d3` 5 столбцов и 100000 строк. При первичном анализе пропуски в столбцах не обнаружены. Замечано, что в стобце `id` присудствуют дубликаты."
   ]
  },
  {
   "cell_type": "markdown",
   "metadata": {},
   "source": [
    "## Преобработка данных"
   ]
  },
  {
   "cell_type": "markdown",
   "metadata": {},
   "source": [
    "Используем функцию `check_data`, для общего аналища данных"
   ]
  },
  {
   "cell_type": "code",
   "execution_count": 8,
   "metadata": {},
   "outputs": [],
   "source": [
    "def check_data(data, bins=10, figsize=(15, 8)):\n",
    "    print('Первые строки данных:')\n",
    "    display(data.head())\n",
    "\n",
    "    print('\\nПоследние строки данных:')\n",
    "    display(data.tail())\n",
    "\n",
    "    print('\\nРазмерность данных:')\n",
    "    display(data.shape)\n",
    "\n",
    "    print('\\nИнформация о типах данных и пропусках:')\n",
    "    display(data.info())\n",
    "\n",
    "    print(\"\\nОписательная статистика:\")\n",
    "    display(data.describe(include='all'))\n",
    "\n",
    "    # Анализ пропусков\n",
    "    print('\\nПропуски (количество и доля):')\n",
    "    total_missing = data.isnull().sum().sort_values(ascending=False)\n",
    "    percent_missing = (data.isnull().sum() / data.shape[0]).sort_values(ascending=False)\n",
    "    missing_data = pd.concat([total_missing, percent_missing], axis=1, keys=['total', 'percent'])\n",
    "\n",
    "    # Проверяем, есть ли пропуски\n",
    "    if missing_data['total'].sum() > 0:\n",
    "        print(missing_data[missing_data['total'] > 0])  # Вывод только столбцов с пропусками\n",
    "    else:\n",
    "        print('Пропуски отсутствуют в данных.')\n",
    "\n",
    "    # Анализ количественных столбцов\n",
    "    numeric_columns = data.select_dtypes(include=['number']).columns\n",
    "    numeric_columns = numeric_columns[numeric_columns != 'id']  # Исключаем столбец 'id'\n",
    "    \n",
    "    # Разделение на дискретные и непрерывные\n",
    "    discrete_columns = []\n",
    "    continuous_columns = []\n",
    "    for col in numeric_columns:\n",
    "        if data[col].nunique() < 10:  # Пороговое значение для определения дискретности\n",
    "            discrete_columns.append(col)\n",
    "        else:\n",
    "            continuous_columns.append(col)\n",
    "    \n",
    "    # Построение гистограмм для непрерывных столбцов\n",
    "    if continuous_columns:  # Проверка на наличие числового столбца\n",
    "        print('\\nГрафики распределения для количественных непрерывных столбцов (гистограммы):')\n",
    "        # Определяем количество строк и столбцов для подграфиков\n",
    "        n_cols = 2\n",
    "        n_rows = (len(continuous_columns) + n_cols - 1) // n_cols\n",
    "        \n",
    "        fig, axes = plt.subplots(n_rows, n_cols, figsize=figsize)\n",
    "        axes = axes.flatten()\n",
    "        \n",
    "        for i, col in enumerate(continuous_columns):\n",
    "            axes[i].hist(data[col], bins=bins, color='blue')\n",
    "            axes[i].grid(True)\n",
    "            axes[i].set_title(f'Распределение для {col}')\n",
    "            axes[i].set_xlabel(col)\n",
    "            axes[i].set_ylabel('Количество')\n",
    "        \n",
    "        # Убираем пустые подграфики, если они есть\n",
    "        for j in range(i + 1, len(axes)):\n",
    "            fig.delaxes(axes[j])\n",
    "        \n",
    "        plt.tight_layout() # Автоматически подгоняет подграфики\n",
    "        plt.show()\n",
    "    \n",
    "    # Построение столбиковых диаграмм для дискретных столбцов\n",
    "    if discrete_columns:  # Проверка на наличие числового столбца\n",
    "        print('\\nГрафики распределения для количественных дискретных столбцов (столбчатые диаграммы):')\n",
    "        # Определяем количество строк и столбцов для подграфиков\n",
    "        n_cols = 2\n",
    "        n_rows = (len(discrete_columns) + n_cols - 1) // n_cols\n",
    "        \n",
    "        fig, axes = plt.subplots(n_rows, n_cols, figsize=figsize)\n",
    "        axes = axes.flatten()  # Создаем одномерный массив\n",
    "        \n",
    "        for i, col in enumerate(discrete_columns):\n",
    "            value_counts = data[col].value_counts().sort_index()\n",
    "            axes[i].bar(value_counts.index, value_counts.values, color='green')\n",
    "            axes[i].grid(True)            \n",
    "            axes[i].set_title(f'Распределение для {col}')\n",
    "            axes[i].set_xlabel(col)\n",
    "            axes[i].set_ylabel('Количество')\n",
    "        \n",
    "        # Убираем пустые подграфики, если они есть\n",
    "        for j in range(i + 1, len(axes)):\n",
    "            fig.delaxes(axes[j])\n",
    "        \n",
    "        plt.tight_layout() # Автоматически подгоняет подграфики\n",
    "        plt.show()\n",
    "\n",
    "    # Анализ категориальных столбцов\n",
    "    categorical_columns = data.select_dtypes(exclude=['number']).columns\n",
    "    if not categorical_columns.empty:\n",
    "        print('\\nАнализ категориальных столбцов:')\n",
    "        for col in categorical_columns:\n",
    "            print(f'\\nСтолбец: {col}')\n",
    "            value_counts = data[col].value_counts()\n",
    "            n_unique = data[col].nunique()\n",
    "            \n",
    "            # Порог для определения \"много/мало\" уникальных значений\n",
    "            threshold = 10\n",
    "            \n",
    "            if n_unique > threshold:\n",
    "                # Если много уникальных значений, показываем только те, что встречаются 2+ раза\n",
    "                frequent_values = value_counts[value_counts >= 2]\n",
    "                if not frequent_values.empty:\n",
    "                    print('Значения, встречающиеся 2 раза и больше:')\n",
    "                    print(frequent_values)\n",
    "                    print(f'Количество таких значений: {len(frequent_values)}')\n",
    "                else:\n",
    "                    print('Нет значений, встречающихся 2 раза и больше.')\n",
    "            else:\n",
    "                # Если мало уникальных значений, показываем все\n",
    "                print('Все уникальные значения:')\n",
    "                print(value_counts)\n",
    "                print(f'Количество уникальных значений: {n_unique}')\n",
    "\n",
    "            \n",
    "    # Проверка на дубликаты\n",
    "    duplicate_rows = data.duplicated().sum()\n",
    "    \n",
    "    if duplicate_rows > 0:\n",
    "        print(f\"\\nОбнаружено {duplicate_rows} дубликатов в данных.\")\n",
    "        print(\"Дубликаты:\")\n",
    "        display(data[data.duplicated()])\n",
    "    else:\n",
    "        print(\"\\nДубликаты отсутствуют в данных.\")"
   ]
  },
  {
   "cell_type": "code",
   "execution_count": 9,
   "metadata": {},
   "outputs": [
    {
     "name": "stdout",
     "output_type": "stream",
     "text": [
      "Первые строки данных:\n"
     ]
    },
    {
     "data": {
      "text/html": [
       "<div>\n",
       "<style scoped>\n",
       "    .dataframe tbody tr th:only-of-type {\n",
       "        vertical-align: middle;\n",
       "    }\n",
       "\n",
       "    .dataframe tbody tr th {\n",
       "        vertical-align: top;\n",
       "    }\n",
       "\n",
       "    .dataframe thead th {\n",
       "        text-align: right;\n",
       "    }\n",
       "</style>\n",
       "<table border=\"1\" class=\"dataframe\">\n",
       "  <thead>\n",
       "    <tr style=\"text-align: right;\">\n",
       "      <th></th>\n",
       "      <th>id</th>\n",
       "      <th>f0</th>\n",
       "      <th>f1</th>\n",
       "      <th>f2</th>\n",
       "      <th>product</th>\n",
       "    </tr>\n",
       "  </thead>\n",
       "  <tbody>\n",
       "    <tr>\n",
       "      <th>0</th>\n",
       "      <td>txEyH</td>\n",
       "      <td>0.705745</td>\n",
       "      <td>-0.497823</td>\n",
       "      <td>1.221170</td>\n",
       "      <td>105.280062</td>\n",
       "    </tr>\n",
       "    <tr>\n",
       "      <th>1</th>\n",
       "      <td>2acmU</td>\n",
       "      <td>1.334711</td>\n",
       "      <td>-0.340164</td>\n",
       "      <td>4.365080</td>\n",
       "      <td>73.037750</td>\n",
       "    </tr>\n",
       "    <tr>\n",
       "      <th>2</th>\n",
       "      <td>409Wp</td>\n",
       "      <td>1.022732</td>\n",
       "      <td>0.151990</td>\n",
       "      <td>1.419926</td>\n",
       "      <td>85.265647</td>\n",
       "    </tr>\n",
       "    <tr>\n",
       "      <th>3</th>\n",
       "      <td>iJLyR</td>\n",
       "      <td>-0.032172</td>\n",
       "      <td>0.139033</td>\n",
       "      <td>2.978566</td>\n",
       "      <td>168.620776</td>\n",
       "    </tr>\n",
       "    <tr>\n",
       "      <th>4</th>\n",
       "      <td>Xdl7t</td>\n",
       "      <td>1.988431</td>\n",
       "      <td>0.155413</td>\n",
       "      <td>4.751769</td>\n",
       "      <td>154.036647</td>\n",
       "    </tr>\n",
       "  </tbody>\n",
       "</table>\n",
       "</div>"
      ],
      "text/plain": [
       "      id        f0        f1        f2     product\n",
       "0  txEyH  0.705745 -0.497823  1.221170  105.280062\n",
       "1  2acmU  1.334711 -0.340164  4.365080   73.037750\n",
       "2  409Wp  1.022732  0.151990  1.419926   85.265647\n",
       "3  iJLyR -0.032172  0.139033  2.978566  168.620776\n",
       "4  Xdl7t  1.988431  0.155413  4.751769  154.036647"
      ]
     },
     "metadata": {},
     "output_type": "display_data"
    },
    {
     "name": "stdout",
     "output_type": "stream",
     "text": [
      "\n",
      "Последние строки данных:\n"
     ]
    },
    {
     "data": {
      "text/html": [
       "<div>\n",
       "<style scoped>\n",
       "    .dataframe tbody tr th:only-of-type {\n",
       "        vertical-align: middle;\n",
       "    }\n",
       "\n",
       "    .dataframe tbody tr th {\n",
       "        vertical-align: top;\n",
       "    }\n",
       "\n",
       "    .dataframe thead th {\n",
       "        text-align: right;\n",
       "    }\n",
       "</style>\n",
       "<table border=\"1\" class=\"dataframe\">\n",
       "  <thead>\n",
       "    <tr style=\"text-align: right;\">\n",
       "      <th></th>\n",
       "      <th>id</th>\n",
       "      <th>f0</th>\n",
       "      <th>f1</th>\n",
       "      <th>f2</th>\n",
       "      <th>product</th>\n",
       "    </tr>\n",
       "  </thead>\n",
       "  <tbody>\n",
       "    <tr>\n",
       "      <th>99995</th>\n",
       "      <td>DLsed</td>\n",
       "      <td>0.971957</td>\n",
       "      <td>0.370953</td>\n",
       "      <td>6.075346</td>\n",
       "      <td>110.744026</td>\n",
       "    </tr>\n",
       "    <tr>\n",
       "      <th>99996</th>\n",
       "      <td>QKivN</td>\n",
       "      <td>1.392429</td>\n",
       "      <td>-0.382606</td>\n",
       "      <td>1.273912</td>\n",
       "      <td>122.346843</td>\n",
       "    </tr>\n",
       "    <tr>\n",
       "      <th>99997</th>\n",
       "      <td>3rnvd</td>\n",
       "      <td>1.029585</td>\n",
       "      <td>0.018787</td>\n",
       "      <td>-1.348308</td>\n",
       "      <td>64.375443</td>\n",
       "    </tr>\n",
       "    <tr>\n",
       "      <th>99998</th>\n",
       "      <td>7kl59</td>\n",
       "      <td>0.998163</td>\n",
       "      <td>-0.528582</td>\n",
       "      <td>1.583869</td>\n",
       "      <td>74.040764</td>\n",
       "    </tr>\n",
       "    <tr>\n",
       "      <th>99999</th>\n",
       "      <td>1CWhH</td>\n",
       "      <td>1.764754</td>\n",
       "      <td>-0.266417</td>\n",
       "      <td>5.722849</td>\n",
       "      <td>149.633246</td>\n",
       "    </tr>\n",
       "  </tbody>\n",
       "</table>\n",
       "</div>"
      ],
      "text/plain": [
       "          id        f0        f1        f2     product\n",
       "99995  DLsed  0.971957  0.370953  6.075346  110.744026\n",
       "99996  QKivN  1.392429 -0.382606  1.273912  122.346843\n",
       "99997  3rnvd  1.029585  0.018787 -1.348308   64.375443\n",
       "99998  7kl59  0.998163 -0.528582  1.583869   74.040764\n",
       "99999  1CWhH  1.764754 -0.266417  5.722849  149.633246"
      ]
     },
     "metadata": {},
     "output_type": "display_data"
    },
    {
     "name": "stdout",
     "output_type": "stream",
     "text": [
      "\n",
      "Размерность данных:\n"
     ]
    },
    {
     "data": {
      "text/plain": [
       "(100000, 5)"
      ]
     },
     "metadata": {},
     "output_type": "display_data"
    },
    {
     "name": "stdout",
     "output_type": "stream",
     "text": [
      "\n",
      "Информация о типах данных и пропусках:\n",
      "<class 'pandas.core.frame.DataFrame'>\n",
      "RangeIndex: 100000 entries, 0 to 99999\n",
      "Data columns (total 5 columns):\n",
      " #   Column   Non-Null Count   Dtype  \n",
      "---  ------   --------------   -----  \n",
      " 0   id       100000 non-null  object \n",
      " 1   f0       100000 non-null  float64\n",
      " 2   f1       100000 non-null  float64\n",
      " 3   f2       100000 non-null  float64\n",
      " 4   product  100000 non-null  float64\n",
      "dtypes: float64(4), object(1)\n",
      "memory usage: 3.8+ MB\n"
     ]
    },
    {
     "data": {
      "text/plain": [
       "None"
      ]
     },
     "metadata": {},
     "output_type": "display_data"
    },
    {
     "name": "stdout",
     "output_type": "stream",
     "text": [
      "\n",
      "Описательная статистика:\n"
     ]
    },
    {
     "data": {
      "text/html": [
       "<div>\n",
       "<style scoped>\n",
       "    .dataframe tbody tr th:only-of-type {\n",
       "        vertical-align: middle;\n",
       "    }\n",
       "\n",
       "    .dataframe tbody tr th {\n",
       "        vertical-align: top;\n",
       "    }\n",
       "\n",
       "    .dataframe thead th {\n",
       "        text-align: right;\n",
       "    }\n",
       "</style>\n",
       "<table border=\"1\" class=\"dataframe\">\n",
       "  <thead>\n",
       "    <tr style=\"text-align: right;\">\n",
       "      <th></th>\n",
       "      <th>id</th>\n",
       "      <th>f0</th>\n",
       "      <th>f1</th>\n",
       "      <th>f2</th>\n",
       "      <th>product</th>\n",
       "    </tr>\n",
       "  </thead>\n",
       "  <tbody>\n",
       "    <tr>\n",
       "      <th>count</th>\n",
       "      <td>100000</td>\n",
       "      <td>100000.000000</td>\n",
       "      <td>100000.000000</td>\n",
       "      <td>100000.000000</td>\n",
       "      <td>100000.000000</td>\n",
       "    </tr>\n",
       "    <tr>\n",
       "      <th>unique</th>\n",
       "      <td>99990</td>\n",
       "      <td>NaN</td>\n",
       "      <td>NaN</td>\n",
       "      <td>NaN</td>\n",
       "      <td>NaN</td>\n",
       "    </tr>\n",
       "    <tr>\n",
       "      <th>top</th>\n",
       "      <td>74z30</td>\n",
       "      <td>NaN</td>\n",
       "      <td>NaN</td>\n",
       "      <td>NaN</td>\n",
       "      <td>NaN</td>\n",
       "    </tr>\n",
       "    <tr>\n",
       "      <th>freq</th>\n",
       "      <td>2</td>\n",
       "      <td>NaN</td>\n",
       "      <td>NaN</td>\n",
       "      <td>NaN</td>\n",
       "      <td>NaN</td>\n",
       "    </tr>\n",
       "    <tr>\n",
       "      <th>mean</th>\n",
       "      <td>NaN</td>\n",
       "      <td>0.500419</td>\n",
       "      <td>0.250143</td>\n",
       "      <td>2.502647</td>\n",
       "      <td>92.500000</td>\n",
       "    </tr>\n",
       "    <tr>\n",
       "      <th>std</th>\n",
       "      <td>NaN</td>\n",
       "      <td>0.871832</td>\n",
       "      <td>0.504433</td>\n",
       "      <td>3.248248</td>\n",
       "      <td>44.288691</td>\n",
       "    </tr>\n",
       "    <tr>\n",
       "      <th>min</th>\n",
       "      <td>NaN</td>\n",
       "      <td>-1.408605</td>\n",
       "      <td>-0.848218</td>\n",
       "      <td>-12.088328</td>\n",
       "      <td>0.000000</td>\n",
       "    </tr>\n",
       "    <tr>\n",
       "      <th>25%</th>\n",
       "      <td>NaN</td>\n",
       "      <td>-0.072580</td>\n",
       "      <td>-0.200881</td>\n",
       "      <td>0.287748</td>\n",
       "      <td>56.497507</td>\n",
       "    </tr>\n",
       "    <tr>\n",
       "      <th>50%</th>\n",
       "      <td>NaN</td>\n",
       "      <td>0.502360</td>\n",
       "      <td>0.250252</td>\n",
       "      <td>2.515969</td>\n",
       "      <td>91.849972</td>\n",
       "    </tr>\n",
       "    <tr>\n",
       "      <th>75%</th>\n",
       "      <td>NaN</td>\n",
       "      <td>1.073581</td>\n",
       "      <td>0.700646</td>\n",
       "      <td>4.715088</td>\n",
       "      <td>128.564089</td>\n",
       "    </tr>\n",
       "    <tr>\n",
       "      <th>max</th>\n",
       "      <td>NaN</td>\n",
       "      <td>2.362331</td>\n",
       "      <td>1.343769</td>\n",
       "      <td>16.003790</td>\n",
       "      <td>185.364347</td>\n",
       "    </tr>\n",
       "  </tbody>\n",
       "</table>\n",
       "</div>"
      ],
      "text/plain": [
       "            id             f0             f1             f2        product\n",
       "count   100000  100000.000000  100000.000000  100000.000000  100000.000000\n",
       "unique   99990            NaN            NaN            NaN            NaN\n",
       "top      74z30            NaN            NaN            NaN            NaN\n",
       "freq         2            NaN            NaN            NaN            NaN\n",
       "mean       NaN       0.500419       0.250143       2.502647      92.500000\n",
       "std        NaN       0.871832       0.504433       3.248248      44.288691\n",
       "min        NaN      -1.408605      -0.848218     -12.088328       0.000000\n",
       "25%        NaN      -0.072580      -0.200881       0.287748      56.497507\n",
       "50%        NaN       0.502360       0.250252       2.515969      91.849972\n",
       "75%        NaN       1.073581       0.700646       4.715088     128.564089\n",
       "max        NaN       2.362331       1.343769      16.003790     185.364347"
      ]
     },
     "metadata": {},
     "output_type": "display_data"
    },
    {
     "name": "stdout",
     "output_type": "stream",
     "text": [
      "\n",
      "Пропуски (количество и доля):\n",
      "Пропуски отсутствуют в данных.\n",
      "\n",
      "Графики распределения для количественных непрерывных столбцов (гистограммы):\n"
     ]
    },
    {
     "data": {
      "image/png": "[encoded data removed]",
      "text/plain": [
       "<Figure size 1080x576 with 4 Axes>"
      ]
     },
     "metadata": {
      "needs_background": "light"
     },
     "output_type": "display_data"
    },
    {
     "name": "stdout",
     "output_type": "stream",
     "text": [
      "\n",
      "Анализ категориальных столбцов:\n",
      "\n",
      "Столбец: id\n",
      "Значения, встречающиеся 2 раза и больше:\n",
      "74z30    2\n",
      "bxg6G    2\n",
      "bsk9y    2\n",
      "Tdehs    2\n",
      "A5aEY    2\n",
      "HZww2    2\n",
      "TtcGQ    2\n",
      "fiKDv    2\n",
      "QcMuo    2\n",
      "AGS9W    2\n",
      "Name: id, dtype: int64\n",
      "Количество таких значений: 10\n",
      "\n",
      "Дубликаты отсутствуют в данных.\n"
     ]
    }
   ],
   "source": [
    "check_data(geo_d1)"
   ]
  },
  {
   "cell_type": "markdown",
   "metadata": {},
   "source": [
    "- В данных обнаружены неявные дубликаты в столбце *id*. Необходимо удалить дублирующие объекты."
   ]
  },
  {
   "cell_type": "code",
   "execution_count": 10,
   "metadata": {},
   "outputs": [
    {
     "data": {
      "text/html": [
       "<div>\n",
       "<style scoped>\n",
       "    .dataframe tbody tr th:only-of-type {\n",
       "        vertical-align: middle;\n",
       "    }\n",
       "\n",
       "    .dataframe tbody tr th {\n",
       "        vertical-align: top;\n",
       "    }\n",
       "\n",
       "    .dataframe thead th {\n",
       "        text-align: right;\n",
       "    }\n",
       "</style>\n",
       "<table border=\"1\" class=\"dataframe\">\n",
       "  <thead>\n",
       "    <tr style=\"text-align: right;\">\n",
       "      <th></th>\n",
       "      <th>id</th>\n",
       "      <th>f0</th>\n",
       "      <th>f1</th>\n",
       "      <th>f2</th>\n",
       "      <th>product</th>\n",
       "    </tr>\n",
       "  </thead>\n",
       "  <tbody>\n",
       "    <tr>\n",
       "      <th>66136</th>\n",
       "      <td>74z30</td>\n",
       "      <td>1.084962</td>\n",
       "      <td>-0.312358</td>\n",
       "      <td>6.990771</td>\n",
       "      <td>127.643327</td>\n",
       "    </tr>\n",
       "    <tr>\n",
       "      <th>64022</th>\n",
       "      <td>74z30</td>\n",
       "      <td>0.741456</td>\n",
       "      <td>0.459229</td>\n",
       "      <td>5.153109</td>\n",
       "      <td>140.771492</td>\n",
       "    </tr>\n",
       "    <tr>\n",
       "      <th>51970</th>\n",
       "      <td>A5aEY</td>\n",
       "      <td>-0.180335</td>\n",
       "      <td>0.935548</td>\n",
       "      <td>-2.094773</td>\n",
       "      <td>33.020205</td>\n",
       "    </tr>\n",
       "    <tr>\n",
       "      <th>3389</th>\n",
       "      <td>A5aEY</td>\n",
       "      <td>-0.039949</td>\n",
       "      <td>0.156872</td>\n",
       "      <td>0.209861</td>\n",
       "      <td>89.249364</td>\n",
       "    </tr>\n",
       "    <tr>\n",
       "      <th>69163</th>\n",
       "      <td>AGS9W</td>\n",
       "      <td>-0.933795</td>\n",
       "      <td>0.116194</td>\n",
       "      <td>-3.655896</td>\n",
       "      <td>19.230453</td>\n",
       "    </tr>\n",
       "    <tr>\n",
       "      <th>42529</th>\n",
       "      <td>AGS9W</td>\n",
       "      <td>1.454747</td>\n",
       "      <td>-0.479651</td>\n",
       "      <td>0.683380</td>\n",
       "      <td>126.370504</td>\n",
       "    </tr>\n",
       "    <tr>\n",
       "      <th>931</th>\n",
       "      <td>HZww2</td>\n",
       "      <td>0.755284</td>\n",
       "      <td>0.368511</td>\n",
       "      <td>1.863211</td>\n",
       "      <td>30.681774</td>\n",
       "    </tr>\n",
       "    <tr>\n",
       "      <th>7530</th>\n",
       "      <td>HZww2</td>\n",
       "      <td>1.061194</td>\n",
       "      <td>-0.373969</td>\n",
       "      <td>10.430210</td>\n",
       "      <td>158.828695</td>\n",
       "    </tr>\n",
       "    <tr>\n",
       "      <th>63593</th>\n",
       "      <td>QcMuo</td>\n",
       "      <td>0.635635</td>\n",
       "      <td>-0.473422</td>\n",
       "      <td>0.862670</td>\n",
       "      <td>64.578675</td>\n",
       "    </tr>\n",
       "    <tr>\n",
       "      <th>1949</th>\n",
       "      <td>QcMuo</td>\n",
       "      <td>0.506563</td>\n",
       "      <td>-0.323775</td>\n",
       "      <td>-2.215583</td>\n",
       "      <td>75.496502</td>\n",
       "    </tr>\n",
       "    <tr>\n",
       "      <th>75715</th>\n",
       "      <td>Tdehs</td>\n",
       "      <td>0.112079</td>\n",
       "      <td>0.430296</td>\n",
       "      <td>3.218993</td>\n",
       "      <td>60.964018</td>\n",
       "    </tr>\n",
       "    <tr>\n",
       "      <th>21426</th>\n",
       "      <td>Tdehs</td>\n",
       "      <td>0.829407</td>\n",
       "      <td>0.298807</td>\n",
       "      <td>-0.049563</td>\n",
       "      <td>96.035308</td>\n",
       "    </tr>\n",
       "    <tr>\n",
       "      <th>92341</th>\n",
       "      <td>TtcGQ</td>\n",
       "      <td>0.110711</td>\n",
       "      <td>1.022689</td>\n",
       "      <td>0.911381</td>\n",
       "      <td>101.318008</td>\n",
       "    </tr>\n",
       "    <tr>\n",
       "      <th>60140</th>\n",
       "      <td>TtcGQ</td>\n",
       "      <td>0.569276</td>\n",
       "      <td>-0.104876</td>\n",
       "      <td>6.440215</td>\n",
       "      <td>85.350186</td>\n",
       "    </tr>\n",
       "    <tr>\n",
       "      <th>89582</th>\n",
       "      <td>bsk9y</td>\n",
       "      <td>0.398908</td>\n",
       "      <td>-0.400253</td>\n",
       "      <td>10.122376</td>\n",
       "      <td>163.433078</td>\n",
       "    </tr>\n",
       "    <tr>\n",
       "      <th>97785</th>\n",
       "      <td>bsk9y</td>\n",
       "      <td>0.378429</td>\n",
       "      <td>0.005837</td>\n",
       "      <td>0.160827</td>\n",
       "      <td>160.637302</td>\n",
       "    </tr>\n",
       "    <tr>\n",
       "      <th>41724</th>\n",
       "      <td>bxg6G</td>\n",
       "      <td>-0.823752</td>\n",
       "      <td>0.546319</td>\n",
       "      <td>3.630479</td>\n",
       "      <td>93.007798</td>\n",
       "    </tr>\n",
       "    <tr>\n",
       "      <th>1364</th>\n",
       "      <td>bxg6G</td>\n",
       "      <td>0.411645</td>\n",
       "      <td>0.856830</td>\n",
       "      <td>-3.653440</td>\n",
       "      <td>73.604260</td>\n",
       "    </tr>\n",
       "    <tr>\n",
       "      <th>16633</th>\n",
       "      <td>fiKDv</td>\n",
       "      <td>0.157341</td>\n",
       "      <td>1.028359</td>\n",
       "      <td>5.585586</td>\n",
       "      <td>95.817889</td>\n",
       "    </tr>\n",
       "    <tr>\n",
       "      <th>90815</th>\n",
       "      <td>fiKDv</td>\n",
       "      <td>0.049883</td>\n",
       "      <td>0.841313</td>\n",
       "      <td>6.394613</td>\n",
       "      <td>137.346586</td>\n",
       "    </tr>\n",
       "  </tbody>\n",
       "</table>\n",
       "</div>"
      ],
      "text/plain": [
       "          id        f0        f1         f2     product\n",
       "66136  74z30  1.084962 -0.312358   6.990771  127.643327\n",
       "64022  74z30  0.741456  0.459229   5.153109  140.771492\n",
       "51970  A5aEY -0.180335  0.935548  -2.094773   33.020205\n",
       "3389   A5aEY -0.039949  0.156872   0.209861   89.249364\n",
       "69163  AGS9W -0.933795  0.116194  -3.655896   19.230453\n",
       "42529  AGS9W  1.454747 -0.479651   0.683380  126.370504\n",
       "931    HZww2  0.755284  0.368511   1.863211   30.681774\n",
       "7530   HZww2  1.061194 -0.373969  10.430210  158.828695\n",
       "63593  QcMuo  0.635635 -0.473422   0.862670   64.578675\n",
       "1949   QcMuo  0.506563 -0.323775  -2.215583   75.496502\n",
       "75715  Tdehs  0.112079  0.430296   3.218993   60.964018\n",
       "21426  Tdehs  0.829407  0.298807  -0.049563   96.035308\n",
       "92341  TtcGQ  0.110711  1.022689   0.911381  101.318008\n",
       "60140  TtcGQ  0.569276 -0.104876   6.440215   85.350186\n",
       "89582  bsk9y  0.398908 -0.400253  10.122376  163.433078\n",
       "97785  bsk9y  0.378429  0.005837   0.160827  160.637302\n",
       "41724  bxg6G -0.823752  0.546319   3.630479   93.007798\n",
       "1364   bxg6G  0.411645  0.856830  -3.653440   73.604260\n",
       "16633  fiKDv  0.157341  1.028359   5.585586   95.817889\n",
       "90815  fiKDv  0.049883  0.841313   6.394613  137.346586"
      ]
     },
     "metadata": {},
     "output_type": "display_data"
    }
   ],
   "source": [
    "display(geo_d1[geo_d1.duplicated(subset='id', keep=False)].sort_values(by='id'))"
   ]
  },
  {
   "cell_type": "code",
   "execution_count": 11,
   "metadata": {},
   "outputs": [],
   "source": [
    "geo_d1.drop_duplicates(subset='id', keep='first', inplace=True)"
   ]
  },
  {
   "cell_type": "markdown",
   "metadata": {},
   "source": [
    "- Распрееделение признака `f0` имеет несколько пиков, большинство данных находятся в диапозоне от 0 до 1,35. Медианное значение признака нахожится на отметке 0,5.\n",
    "- Распределение признака `f1` имеет довольно равномерное (слабое разнообразие данных), `std` равен 5. Медианное значение признака находится на отметке 0,35.\n",
    "- Распределение признака `f3` выглядит асиметричным. Данные основном распределены от -5 до 10. `std` равен 3,3. Медианна равна 3,5.\n",
    "- Распределение признака `product` близко к нормальному, с медианным значением около 93,5 и стандартным отклонением 44,3. Большинство значений находятся в диапазоне от 0 до 185, что указывает на наличие как низких, так и высоких значений, но с преобладанием средних значений."
   ]
  },
  {
   "cell_type": "code",
   "execution_count": 12,
   "metadata": {},
   "outputs": [
    {
     "name": "stdout",
     "output_type": "stream",
     "text": [
      "Первые строки данных:\n"
     ]
    },
    {
     "data": {
      "text/html": [
       "<div>\n",
       "<style scoped>\n",
       "    .dataframe tbody tr th:only-of-type {\n",
       "        vertical-align: middle;\n",
       "    }\n",
       "\n",
       "    .dataframe tbody tr th {\n",
       "        vertical-align: top;\n",
       "    }\n",
       "\n",
       "    .dataframe thead th {\n",
       "        text-align: right;\n",
       "    }\n",
       "</style>\n",
       "<table border=\"1\" class=\"dataframe\">\n",
       "  <thead>\n",
       "    <tr style=\"text-align: right;\">\n",
       "      <th></th>\n",
       "      <th>id</th>\n",
       "      <th>f0</th>\n",
       "      <th>f1</th>\n",
       "      <th>f2</th>\n",
       "      <th>product</th>\n",
       "    </tr>\n",
       "  </thead>\n",
       "  <tbody>\n",
       "    <tr>\n",
       "      <th>0</th>\n",
       "      <td>kBEdx</td>\n",
       "      <td>-15.001348</td>\n",
       "      <td>-8.276000</td>\n",
       "      <td>-0.005876</td>\n",
       "      <td>3.179103</td>\n",
       "    </tr>\n",
       "    <tr>\n",
       "      <th>1</th>\n",
       "      <td>62mP7</td>\n",
       "      <td>14.272088</td>\n",
       "      <td>-3.475083</td>\n",
       "      <td>0.999183</td>\n",
       "      <td>26.953261</td>\n",
       "    </tr>\n",
       "    <tr>\n",
       "      <th>2</th>\n",
       "      <td>vyE1P</td>\n",
       "      <td>6.263187</td>\n",
       "      <td>-5.948386</td>\n",
       "      <td>5.001160</td>\n",
       "      <td>134.766305</td>\n",
       "    </tr>\n",
       "    <tr>\n",
       "      <th>3</th>\n",
       "      <td>KcrkZ</td>\n",
       "      <td>-13.081196</td>\n",
       "      <td>-11.506057</td>\n",
       "      <td>4.999415</td>\n",
       "      <td>137.945408</td>\n",
       "    </tr>\n",
       "    <tr>\n",
       "      <th>4</th>\n",
       "      <td>AHL4O</td>\n",
       "      <td>12.702195</td>\n",
       "      <td>-8.147433</td>\n",
       "      <td>5.004363</td>\n",
       "      <td>134.766305</td>\n",
       "    </tr>\n",
       "  </tbody>\n",
       "</table>\n",
       "</div>"
      ],
      "text/plain": [
       "      id         f0         f1        f2     product\n",
       "0  kBEdx -15.001348  -8.276000 -0.005876    3.179103\n",
       "1  62mP7  14.272088  -3.475083  0.999183   26.953261\n",
       "2  vyE1P   6.263187  -5.948386  5.001160  134.766305\n",
       "3  KcrkZ -13.081196 -11.506057  4.999415  137.945408\n",
       "4  AHL4O  12.702195  -8.147433  5.004363  134.766305"
      ]
     },
     "metadata": {},
     "output_type": "display_data"
    },
    {
     "name": "stdout",
     "output_type": "stream",
     "text": [
      "\n",
      "Последние строки данных:\n"
     ]
    },
    {
     "data": {
      "text/html": [
       "<div>\n",
       "<style scoped>\n",
       "    .dataframe tbody tr th:only-of-type {\n",
       "        vertical-align: middle;\n",
       "    }\n",
       "\n",
       "    .dataframe tbody tr th {\n",
       "        vertical-align: top;\n",
       "    }\n",
       "\n",
       "    .dataframe thead th {\n",
       "        text-align: right;\n",
       "    }\n",
       "</style>\n",
       "<table border=\"1\" class=\"dataframe\">\n",
       "  <thead>\n",
       "    <tr style=\"text-align: right;\">\n",
       "      <th></th>\n",
       "      <th>id</th>\n",
       "      <th>f0</th>\n",
       "      <th>f1</th>\n",
       "      <th>f2</th>\n",
       "      <th>product</th>\n",
       "    </tr>\n",
       "  </thead>\n",
       "  <tbody>\n",
       "    <tr>\n",
       "      <th>99995</th>\n",
       "      <td>QywKC</td>\n",
       "      <td>9.535637</td>\n",
       "      <td>-6.878139</td>\n",
       "      <td>1.998296</td>\n",
       "      <td>53.906522</td>\n",
       "    </tr>\n",
       "    <tr>\n",
       "      <th>99996</th>\n",
       "      <td>ptvty</td>\n",
       "      <td>-10.160631</td>\n",
       "      <td>-12.558096</td>\n",
       "      <td>5.005581</td>\n",
       "      <td>137.945408</td>\n",
       "    </tr>\n",
       "    <tr>\n",
       "      <th>99997</th>\n",
       "      <td>09gWa</td>\n",
       "      <td>-7.378891</td>\n",
       "      <td>-3.084104</td>\n",
       "      <td>4.998651</td>\n",
       "      <td>137.945408</td>\n",
       "    </tr>\n",
       "    <tr>\n",
       "      <th>99998</th>\n",
       "      <td>rqwUm</td>\n",
       "      <td>0.665714</td>\n",
       "      <td>-6.152593</td>\n",
       "      <td>1.000146</td>\n",
       "      <td>30.132364</td>\n",
       "    </tr>\n",
       "    <tr>\n",
       "      <th>99999</th>\n",
       "      <td>relB0</td>\n",
       "      <td>-3.426139</td>\n",
       "      <td>-7.794274</td>\n",
       "      <td>-0.003299</td>\n",
       "      <td>3.179103</td>\n",
       "    </tr>\n",
       "  </tbody>\n",
       "</table>\n",
       "</div>"
      ],
      "text/plain": [
       "          id         f0         f1        f2     product\n",
       "99995  QywKC   9.535637  -6.878139  1.998296   53.906522\n",
       "99996  ptvty -10.160631 -12.558096  5.005581  137.945408\n",
       "99997  09gWa  -7.378891  -3.084104  4.998651  137.945408\n",
       "99998  rqwUm   0.665714  -6.152593  1.000146   30.132364\n",
       "99999  relB0  -3.426139  -7.794274 -0.003299    3.179103"
      ]
     },
     "metadata": {},
     "output_type": "display_data"
    },
    {
     "name": "stdout",
     "output_type": "stream",
     "text": [
      "\n",
      "Размерность данных:\n"
     ]
    },
    {
     "data": {
      "text/plain": [
       "(100000, 5)"
      ]
     },
     "metadata": {},
     "output_type": "display_data"
    },
    {
     "name": "stdout",
     "output_type": "stream",
     "text": [
      "\n",
      "Информация о типах данных и пропусках:\n",
      "<class 'pandas.core.frame.DataFrame'>\n",
      "RangeIndex: 100000 entries, 0 to 99999\n",
      "Data columns (total 5 columns):\n",
      " #   Column   Non-Null Count   Dtype  \n",
      "---  ------   --------------   -----  \n",
      " 0   id       100000 non-null  object \n",
      " 1   f0       100000 non-null  float64\n",
      " 2   f1       100000 non-null  float64\n",
      " 3   f2       100000 non-null  float64\n",
      " 4   product  100000 non-null  float64\n",
      "dtypes: float64(4), object(1)\n",
      "memory usage: 3.8+ MB\n"
     ]
    },
    {
     "data": {
      "text/plain": [
       "None"
      ]
     },
     "metadata": {},
     "output_type": "display_data"
    },
    {
     "name": "stdout",
     "output_type": "stream",
     "text": [
      "\n",
      "Описательная статистика:\n"
     ]
    },
    {
     "data": {
      "text/html": [
       "<div>\n",
       "<style scoped>\n",
       "    .dataframe tbody tr th:only-of-type {\n",
       "        vertical-align: middle;\n",
       "    }\n",
       "\n",
       "    .dataframe tbody tr th {\n",
       "        vertical-align: top;\n",
       "    }\n",
       "\n",
       "    .dataframe thead th {\n",
       "        text-align: right;\n",
       "    }\n",
       "</style>\n",
       "<table border=\"1\" class=\"dataframe\">\n",
       "  <thead>\n",
       "    <tr style=\"text-align: right;\">\n",
       "      <th></th>\n",
       "      <th>id</th>\n",
       "      <th>f0</th>\n",
       "      <th>f1</th>\n",
       "      <th>f2</th>\n",
       "      <th>product</th>\n",
       "    </tr>\n",
       "  </thead>\n",
       "  <tbody>\n",
       "    <tr>\n",
       "      <th>count</th>\n",
       "      <td>100000</td>\n",
       "      <td>100000.000000</td>\n",
       "      <td>100000.000000</td>\n",
       "      <td>100000.000000</td>\n",
       "      <td>100000.000000</td>\n",
       "    </tr>\n",
       "    <tr>\n",
       "      <th>unique</th>\n",
       "      <td>99996</td>\n",
       "      <td>NaN</td>\n",
       "      <td>NaN</td>\n",
       "      <td>NaN</td>\n",
       "      <td>NaN</td>\n",
       "    </tr>\n",
       "    <tr>\n",
       "      <th>top</th>\n",
       "      <td>wt4Uk</td>\n",
       "      <td>NaN</td>\n",
       "      <td>NaN</td>\n",
       "      <td>NaN</td>\n",
       "      <td>NaN</td>\n",
       "    </tr>\n",
       "    <tr>\n",
       "      <th>freq</th>\n",
       "      <td>2</td>\n",
       "      <td>NaN</td>\n",
       "      <td>NaN</td>\n",
       "      <td>NaN</td>\n",
       "      <td>NaN</td>\n",
       "    </tr>\n",
       "    <tr>\n",
       "      <th>mean</th>\n",
       "      <td>NaN</td>\n",
       "      <td>1.141296</td>\n",
       "      <td>-4.796579</td>\n",
       "      <td>2.494541</td>\n",
       "      <td>68.825000</td>\n",
       "    </tr>\n",
       "    <tr>\n",
       "      <th>std</th>\n",
       "      <td>NaN</td>\n",
       "      <td>8.965932</td>\n",
       "      <td>5.119872</td>\n",
       "      <td>1.703572</td>\n",
       "      <td>45.944423</td>\n",
       "    </tr>\n",
       "    <tr>\n",
       "      <th>min</th>\n",
       "      <td>NaN</td>\n",
       "      <td>-31.609576</td>\n",
       "      <td>-26.358598</td>\n",
       "      <td>-0.018144</td>\n",
       "      <td>0.000000</td>\n",
       "    </tr>\n",
       "    <tr>\n",
       "      <th>25%</th>\n",
       "      <td>NaN</td>\n",
       "      <td>-6.298551</td>\n",
       "      <td>-8.267985</td>\n",
       "      <td>1.000021</td>\n",
       "      <td>26.953261</td>\n",
       "    </tr>\n",
       "    <tr>\n",
       "      <th>50%</th>\n",
       "      <td>NaN</td>\n",
       "      <td>1.153055</td>\n",
       "      <td>-4.813172</td>\n",
       "      <td>2.011479</td>\n",
       "      <td>57.085625</td>\n",
       "    </tr>\n",
       "    <tr>\n",
       "      <th>75%</th>\n",
       "      <td>NaN</td>\n",
       "      <td>8.621015</td>\n",
       "      <td>-1.332816</td>\n",
       "      <td>3.999904</td>\n",
       "      <td>107.813044</td>\n",
       "    </tr>\n",
       "    <tr>\n",
       "      <th>max</th>\n",
       "      <td>NaN</td>\n",
       "      <td>29.421755</td>\n",
       "      <td>18.734063</td>\n",
       "      <td>5.019721</td>\n",
       "      <td>137.945408</td>\n",
       "    </tr>\n",
       "  </tbody>\n",
       "</table>\n",
       "</div>"
      ],
      "text/plain": [
       "            id             f0             f1             f2        product\n",
       "count   100000  100000.000000  100000.000000  100000.000000  100000.000000\n",
       "unique   99996            NaN            NaN            NaN            NaN\n",
       "top      wt4Uk            NaN            NaN            NaN            NaN\n",
       "freq         2            NaN            NaN            NaN            NaN\n",
       "mean       NaN       1.141296      -4.796579       2.494541      68.825000\n",
       "std        NaN       8.965932       5.119872       1.703572      45.944423\n",
       "min        NaN     -31.609576     -26.358598      -0.018144       0.000000\n",
       "25%        NaN      -6.298551      -8.267985       1.000021      26.953261\n",
       "50%        NaN       1.153055      -4.813172       2.011479      57.085625\n",
       "75%        NaN       8.621015      -1.332816       3.999904     107.813044\n",
       "max        NaN      29.421755      18.734063       5.019721     137.945408"
      ]
     },
     "metadata": {},
     "output_type": "display_data"
    },
    {
     "name": "stdout",
     "output_type": "stream",
     "text": [
      "\n",
      "Пропуски (количество и доля):\n",
      "Пропуски отсутствуют в данных.\n",
      "\n",
      "Графики распределения для количественных непрерывных столбцов (гистограммы):\n"
     ]
    },
    {
     "data": {
      "image/png": "[encoded data removed]",
      "text/plain": [
       "<Figure size 1080x576 with 4 Axes>"
      ]
     },
     "metadata": {
      "needs_background": "light"
     },
     "output_type": "display_data"
    },
    {
     "name": "stdout",
     "output_type": "stream",
     "text": [
      "\n",
      "Анализ категориальных столбцов:\n",
      "\n",
      "Столбец: id\n",
      "Значения, встречающиеся 2 раза и больше:\n",
      "wt4Uk    2\n",
      "LHZR0    2\n",
      "bfPNe    2\n",
      "5ltQ6    2\n",
      "Name: id, dtype: int64\n",
      "Количество таких значений: 4\n",
      "\n",
      "Дубликаты отсутствуют в данных.\n"
     ]
    }
   ],
   "source": [
    "check_data(geo_d2)"
   ]
  },
  {
   "cell_type": "markdown",
   "metadata": {},
   "source": [
    "Отобразим дубликаты в столбце `id`"
   ]
  },
  {
   "cell_type": "code",
   "execution_count": 13,
   "metadata": {},
   "outputs": [
    {
     "data": {
      "text/html": [
       "<div>\n",
       "<style scoped>\n",
       "    .dataframe tbody tr th:only-of-type {\n",
       "        vertical-align: middle;\n",
       "    }\n",
       "\n",
       "    .dataframe tbody tr th {\n",
       "        vertical-align: top;\n",
       "    }\n",
       "\n",
       "    .dataframe thead th {\n",
       "        text-align: right;\n",
       "    }\n",
       "</style>\n",
       "<table border=\"1\" class=\"dataframe\">\n",
       "  <thead>\n",
       "    <tr style=\"text-align: right;\">\n",
       "      <th></th>\n",
       "      <th>id</th>\n",
       "      <th>f0</th>\n",
       "      <th>f1</th>\n",
       "      <th>f2</th>\n",
       "      <th>product</th>\n",
       "    </tr>\n",
       "  </thead>\n",
       "  <tbody>\n",
       "    <tr>\n",
       "      <th>5849</th>\n",
       "      <td>5ltQ6</td>\n",
       "      <td>-3.435401</td>\n",
       "      <td>-12.296043</td>\n",
       "      <td>1.999796</td>\n",
       "      <td>57.085625</td>\n",
       "    </tr>\n",
       "    <tr>\n",
       "      <th>84461</th>\n",
       "      <td>5ltQ6</td>\n",
       "      <td>18.213839</td>\n",
       "      <td>2.191999</td>\n",
       "      <td>3.993869</td>\n",
       "      <td>107.813044</td>\n",
       "    </tr>\n",
       "    <tr>\n",
       "      <th>1305</th>\n",
       "      <td>LHZR0</td>\n",
       "      <td>11.170835</td>\n",
       "      <td>-1.945066</td>\n",
       "      <td>3.002872</td>\n",
       "      <td>80.859783</td>\n",
       "    </tr>\n",
       "    <tr>\n",
       "      <th>41906</th>\n",
       "      <td>LHZR0</td>\n",
       "      <td>-8.989672</td>\n",
       "      <td>-4.286607</td>\n",
       "      <td>2.009139</td>\n",
       "      <td>57.085625</td>\n",
       "    </tr>\n",
       "    <tr>\n",
       "      <th>2721</th>\n",
       "      <td>bfPNe</td>\n",
       "      <td>-9.494442</td>\n",
       "      <td>-5.463692</td>\n",
       "      <td>4.006042</td>\n",
       "      <td>110.992147</td>\n",
       "    </tr>\n",
       "    <tr>\n",
       "      <th>82178</th>\n",
       "      <td>bfPNe</td>\n",
       "      <td>-6.202799</td>\n",
       "      <td>-4.820045</td>\n",
       "      <td>2.995107</td>\n",
       "      <td>84.038886</td>\n",
       "    </tr>\n",
       "    <tr>\n",
       "      <th>47591</th>\n",
       "      <td>wt4Uk</td>\n",
       "      <td>-9.091098</td>\n",
       "      <td>-8.109279</td>\n",
       "      <td>-0.002314</td>\n",
       "      <td>3.179103</td>\n",
       "    </tr>\n",
       "    <tr>\n",
       "      <th>82873</th>\n",
       "      <td>wt4Uk</td>\n",
       "      <td>10.259972</td>\n",
       "      <td>-9.376355</td>\n",
       "      <td>4.994297</td>\n",
       "      <td>134.766305</td>\n",
       "    </tr>\n",
       "  </tbody>\n",
       "</table>\n",
       "</div>"
      ],
      "text/plain": [
       "          id         f0         f1        f2     product\n",
       "5849   5ltQ6  -3.435401 -12.296043  1.999796   57.085625\n",
       "84461  5ltQ6  18.213839   2.191999  3.993869  107.813044\n",
       "1305   LHZR0  11.170835  -1.945066  3.002872   80.859783\n",
       "41906  LHZR0  -8.989672  -4.286607  2.009139   57.085625\n",
       "2721   bfPNe  -9.494442  -5.463692  4.006042  110.992147\n",
       "82178  bfPNe  -6.202799  -4.820045  2.995107   84.038886\n",
       "47591  wt4Uk  -9.091098  -8.109279 -0.002314    3.179103\n",
       "82873  wt4Uk  10.259972  -9.376355  4.994297  134.766305"
      ]
     },
     "metadata": {},
     "output_type": "display_data"
    }
   ],
   "source": [
    "display(geo_d2[geo_d2.duplicated('id', keep=False)].sort_values(by='id'))"
   ]
  },
  {
   "cell_type": "code",
   "execution_count": 14,
   "metadata": {},
   "outputs": [],
   "source": [
    "geo_d2.drop_duplicates('id', keep='first', inplace=True)"
   ]
  },
  {
   "cell_type": "markdown",
   "metadata": {},
   "source": [
    "Выполнили удаление дубликатов"
   ]
  },
  {
   "cell_type": "markdown",
   "metadata": {},
   "source": [
    "- Распрееделение признака `f0` имеет несколько пиков, что указывает на несколько мод и содержания несколько групп. `std` - 8,97. Медиана равна - 1,15.\n",
    "- Распределение признака `f1` также имеет несколько пиков, но в целом оно более симметричное по сравнению с `f0`. Это может указывать на нормальное распределение. `std` - 5.13, медиана - -4.81.\n",
    "- Распределение признака `f3` имеет четко выраженные интервалы в данных, но признак не является дискретным. `std` равен 1,7. Медианна равна 3.\n",
    "- Распределение признака `product`, имеет два пика, медианное значением около 57,1 и стандартным отклонением 45,9."
   ]
  },
  {
   "cell_type": "code",
   "execution_count": 15,
   "metadata": {},
   "outputs": [
    {
     "name": "stdout",
     "output_type": "stream",
     "text": [
      "Первые строки данных:\n"
     ]
    },
    {
     "data": {
      "text/html": [
       "<div>\n",
       "<style scoped>\n",
       "    .dataframe tbody tr th:only-of-type {\n",
       "        vertical-align: middle;\n",
       "    }\n",
       "\n",
       "    .dataframe tbody tr th {\n",
       "        vertical-align: top;\n",
       "    }\n",
       "\n",
       "    .dataframe thead th {\n",
       "        text-align: right;\n",
       "    }\n",
       "</style>\n",
       "<table border=\"1\" class=\"dataframe\">\n",
       "  <thead>\n",
       "    <tr style=\"text-align: right;\">\n",
       "      <th></th>\n",
       "      <th>id</th>\n",
       "      <th>f0</th>\n",
       "      <th>f1</th>\n",
       "      <th>f2</th>\n",
       "      <th>product</th>\n",
       "    </tr>\n",
       "  </thead>\n",
       "  <tbody>\n",
       "    <tr>\n",
       "      <th>0</th>\n",
       "      <td>fwXo0</td>\n",
       "      <td>-1.146987</td>\n",
       "      <td>0.963328</td>\n",
       "      <td>-0.828965</td>\n",
       "      <td>27.758673</td>\n",
       "    </tr>\n",
       "    <tr>\n",
       "      <th>1</th>\n",
       "      <td>WJtFt</td>\n",
       "      <td>0.262778</td>\n",
       "      <td>0.269839</td>\n",
       "      <td>-2.530187</td>\n",
       "      <td>56.069697</td>\n",
       "    </tr>\n",
       "    <tr>\n",
       "      <th>2</th>\n",
       "      <td>ovLUW</td>\n",
       "      <td>0.194587</td>\n",
       "      <td>0.289035</td>\n",
       "      <td>-5.586433</td>\n",
       "      <td>62.871910</td>\n",
       "    </tr>\n",
       "    <tr>\n",
       "      <th>3</th>\n",
       "      <td>q6cA6</td>\n",
       "      <td>2.236060</td>\n",
       "      <td>-0.553760</td>\n",
       "      <td>0.930038</td>\n",
       "      <td>114.572842</td>\n",
       "    </tr>\n",
       "    <tr>\n",
       "      <th>4</th>\n",
       "      <td>WPMUX</td>\n",
       "      <td>-0.515993</td>\n",
       "      <td>1.716266</td>\n",
       "      <td>5.899011</td>\n",
       "      <td>149.600746</td>\n",
       "    </tr>\n",
       "  </tbody>\n",
       "</table>\n",
       "</div>"
      ],
      "text/plain": [
       "      id        f0        f1        f2     product\n",
       "0  fwXo0 -1.146987  0.963328 -0.828965   27.758673\n",
       "1  WJtFt  0.262778  0.269839 -2.530187   56.069697\n",
       "2  ovLUW  0.194587  0.289035 -5.586433   62.871910\n",
       "3  q6cA6  2.236060 -0.553760  0.930038  114.572842\n",
       "4  WPMUX -0.515993  1.716266  5.899011  149.600746"
      ]
     },
     "metadata": {},
     "output_type": "display_data"
    },
    {
     "name": "stdout",
     "output_type": "stream",
     "text": [
      "\n",
      "Последние строки данных:\n"
     ]
    },
    {
     "data": {
      "text/html": [
       "<div>\n",
       "<style scoped>\n",
       "    .dataframe tbody tr th:only-of-type {\n",
       "        vertical-align: middle;\n",
       "    }\n",
       "\n",
       "    .dataframe tbody tr th {\n",
       "        vertical-align: top;\n",
       "    }\n",
       "\n",
       "    .dataframe thead th {\n",
       "        text-align: right;\n",
       "    }\n",
       "</style>\n",
       "<table border=\"1\" class=\"dataframe\">\n",
       "  <thead>\n",
       "    <tr style=\"text-align: right;\">\n",
       "      <th></th>\n",
       "      <th>id</th>\n",
       "      <th>f0</th>\n",
       "      <th>f1</th>\n",
       "      <th>f2</th>\n",
       "      <th>product</th>\n",
       "    </tr>\n",
       "  </thead>\n",
       "  <tbody>\n",
       "    <tr>\n",
       "      <th>99995</th>\n",
       "      <td>4GxBu</td>\n",
       "      <td>-1.777037</td>\n",
       "      <td>1.125220</td>\n",
       "      <td>6.263374</td>\n",
       "      <td>172.327046</td>\n",
       "    </tr>\n",
       "    <tr>\n",
       "      <th>99996</th>\n",
       "      <td>YKFjq</td>\n",
       "      <td>-1.261523</td>\n",
       "      <td>-0.894828</td>\n",
       "      <td>2.524545</td>\n",
       "      <td>138.748846</td>\n",
       "    </tr>\n",
       "    <tr>\n",
       "      <th>99997</th>\n",
       "      <td>tKPY3</td>\n",
       "      <td>-1.199934</td>\n",
       "      <td>-2.957637</td>\n",
       "      <td>5.219411</td>\n",
       "      <td>157.080080</td>\n",
       "    </tr>\n",
       "    <tr>\n",
       "      <th>99998</th>\n",
       "      <td>nmxp2</td>\n",
       "      <td>-2.419896</td>\n",
       "      <td>2.417221</td>\n",
       "      <td>-5.548444</td>\n",
       "      <td>51.795253</td>\n",
       "    </tr>\n",
       "    <tr>\n",
       "      <th>99999</th>\n",
       "      <td>V9kWn</td>\n",
       "      <td>-2.551421</td>\n",
       "      <td>-2.025625</td>\n",
       "      <td>6.090891</td>\n",
       "      <td>102.775767</td>\n",
       "    </tr>\n",
       "  </tbody>\n",
       "</table>\n",
       "</div>"
      ],
      "text/plain": [
       "          id        f0        f1        f2     product\n",
       "99995  4GxBu -1.777037  1.125220  6.263374  172.327046\n",
       "99996  YKFjq -1.261523 -0.894828  2.524545  138.748846\n",
       "99997  tKPY3 -1.199934 -2.957637  5.219411  157.080080\n",
       "99998  nmxp2 -2.419896  2.417221 -5.548444   51.795253\n",
       "99999  V9kWn -2.551421 -2.025625  6.090891  102.775767"
      ]
     },
     "metadata": {},
     "output_type": "display_data"
    },
    {
     "name": "stdout",
     "output_type": "stream",
     "text": [
      "\n",
      "Размерность данных:\n"
     ]
    },
    {
     "data": {
      "text/plain": [
       "(100000, 5)"
      ]
     },
     "metadata": {},
     "output_type": "display_data"
    },
    {
     "name": "stdout",
     "output_type": "stream",
     "text": [
      "\n",
      "Информация о типах данных и пропусках:\n",
      "<class 'pandas.core.frame.DataFrame'>\n",
      "RangeIndex: 100000 entries, 0 to 99999\n",
      "Data columns (total 5 columns):\n",
      " #   Column   Non-Null Count   Dtype  \n",
      "---  ------   --------------   -----  \n",
      " 0   id       100000 non-null  object \n",
      " 1   f0       100000 non-null  float64\n",
      " 2   f1       100000 non-null  float64\n",
      " 3   f2       100000 non-null  float64\n",
      " 4   product  100000 non-null  float64\n",
      "dtypes: float64(4), object(1)\n",
      "memory usage: 3.8+ MB\n"
     ]
    },
    {
     "data": {
      "text/plain": [
       "None"
      ]
     },
     "metadata": {},
     "output_type": "display_data"
    },
    {
     "name": "stdout",
     "output_type": "stream",
     "text": [
      "\n",
      "Описательная статистика:\n"
     ]
    },
    {
     "data": {
      "text/html": [
       "<div>\n",
       "<style scoped>\n",
       "    .dataframe tbody tr th:only-of-type {\n",
       "        vertical-align: middle;\n",
       "    }\n",
       "\n",
       "    .dataframe tbody tr th {\n",
       "        vertical-align: top;\n",
       "    }\n",
       "\n",
       "    .dataframe thead th {\n",
       "        text-align: right;\n",
       "    }\n",
       "</style>\n",
       "<table border=\"1\" class=\"dataframe\">\n",
       "  <thead>\n",
       "    <tr style=\"text-align: right;\">\n",
       "      <th></th>\n",
       "      <th>id</th>\n",
       "      <th>f0</th>\n",
       "      <th>f1</th>\n",
       "      <th>f2</th>\n",
       "      <th>product</th>\n",
       "    </tr>\n",
       "  </thead>\n",
       "  <tbody>\n",
       "    <tr>\n",
       "      <th>count</th>\n",
       "      <td>100000</td>\n",
       "      <td>100000.000000</td>\n",
       "      <td>100000.000000</td>\n",
       "      <td>100000.000000</td>\n",
       "      <td>100000.000000</td>\n",
       "    </tr>\n",
       "    <tr>\n",
       "      <th>unique</th>\n",
       "      <td>99996</td>\n",
       "      <td>NaN</td>\n",
       "      <td>NaN</td>\n",
       "      <td>NaN</td>\n",
       "      <td>NaN</td>\n",
       "    </tr>\n",
       "    <tr>\n",
       "      <th>top</th>\n",
       "      <td>xCHr8</td>\n",
       "      <td>NaN</td>\n",
       "      <td>NaN</td>\n",
       "      <td>NaN</td>\n",
       "      <td>NaN</td>\n",
       "    </tr>\n",
       "    <tr>\n",
       "      <th>freq</th>\n",
       "      <td>2</td>\n",
       "      <td>NaN</td>\n",
       "      <td>NaN</td>\n",
       "      <td>NaN</td>\n",
       "      <td>NaN</td>\n",
       "    </tr>\n",
       "    <tr>\n",
       "      <th>mean</th>\n",
       "      <td>NaN</td>\n",
       "      <td>0.002023</td>\n",
       "      <td>-0.002081</td>\n",
       "      <td>2.495128</td>\n",
       "      <td>95.000000</td>\n",
       "    </tr>\n",
       "    <tr>\n",
       "      <th>std</th>\n",
       "      <td>NaN</td>\n",
       "      <td>1.732045</td>\n",
       "      <td>1.730417</td>\n",
       "      <td>3.473445</td>\n",
       "      <td>44.749921</td>\n",
       "    </tr>\n",
       "    <tr>\n",
       "      <th>min</th>\n",
       "      <td>NaN</td>\n",
       "      <td>-8.760004</td>\n",
       "      <td>-7.084020</td>\n",
       "      <td>-11.970335</td>\n",
       "      <td>0.000000</td>\n",
       "    </tr>\n",
       "    <tr>\n",
       "      <th>25%</th>\n",
       "      <td>NaN</td>\n",
       "      <td>-1.162288</td>\n",
       "      <td>-1.174820</td>\n",
       "      <td>0.130359</td>\n",
       "      <td>59.450441</td>\n",
       "    </tr>\n",
       "    <tr>\n",
       "      <th>50%</th>\n",
       "      <td>NaN</td>\n",
       "      <td>0.009424</td>\n",
       "      <td>-0.009482</td>\n",
       "      <td>2.484236</td>\n",
       "      <td>94.925613</td>\n",
       "    </tr>\n",
       "    <tr>\n",
       "      <th>75%</th>\n",
       "      <td>NaN</td>\n",
       "      <td>1.158535</td>\n",
       "      <td>1.163678</td>\n",
       "      <td>4.858794</td>\n",
       "      <td>130.595027</td>\n",
       "    </tr>\n",
       "    <tr>\n",
       "      <th>max</th>\n",
       "      <td>NaN</td>\n",
       "      <td>7.238262</td>\n",
       "      <td>7.844801</td>\n",
       "      <td>16.739402</td>\n",
       "      <td>190.029838</td>\n",
       "    </tr>\n",
       "  </tbody>\n",
       "</table>\n",
       "</div>"
      ],
      "text/plain": [
       "            id             f0             f1             f2        product\n",
       "count   100000  100000.000000  100000.000000  100000.000000  100000.000000\n",
       "unique   99996            NaN            NaN            NaN            NaN\n",
       "top      xCHr8            NaN            NaN            NaN            NaN\n",
       "freq         2            NaN            NaN            NaN            NaN\n",
       "mean       NaN       0.002023      -0.002081       2.495128      95.000000\n",
       "std        NaN       1.732045       1.730417       3.473445      44.749921\n",
       "min        NaN      -8.760004      -7.084020     -11.970335       0.000000\n",
       "25%        NaN      -1.162288      -1.174820       0.130359      59.450441\n",
       "50%        NaN       0.009424      -0.009482       2.484236      94.925613\n",
       "75%        NaN       1.158535       1.163678       4.858794     130.595027\n",
       "max        NaN       7.238262       7.844801      16.739402     190.029838"
      ]
     },
     "metadata": {},
     "output_type": "display_data"
    },
    {
     "name": "stdout",
     "output_type": "stream",
     "text": [
      "\n",
      "Пропуски (количество и доля):\n",
      "Пропуски отсутствуют в данных.\n",
      "\n",
      "Графики распределения для количественных непрерывных столбцов (гистограммы):\n"
     ]
    },
    {
     "data": {
      "image/png": "[encoded data removed]",
      "text/plain": [
       "<Figure size 1080x576 with 4 Axes>"
      ]
     },
     "metadata": {
      "needs_background": "light"
     },
     "output_type": "display_data"
    },
    {
     "name": "stdout",
     "output_type": "stream",
     "text": [
      "\n",
      "Анализ категориальных столбцов:\n",
      "\n",
      "Столбец: id\n",
      "Значения, встречающиеся 2 раза и больше:\n",
      "xCHr8    2\n",
      "VF7Jo    2\n",
      "KUPhW    2\n",
      "Vcm5J    2\n",
      "Name: id, dtype: int64\n",
      "Количество таких значений: 4\n",
      "\n",
      "Дубликаты отсутствуют в данных.\n"
     ]
    }
   ],
   "source": [
    "check_data(geo_d3)"
   ]
  },
  {
   "cell_type": "code",
   "execution_count": 16,
   "metadata": {},
   "outputs": [
    {
     "data": {
      "text/html": [
       "<div>\n",
       "<style scoped>\n",
       "    .dataframe tbody tr th:only-of-type {\n",
       "        vertical-align: middle;\n",
       "    }\n",
       "\n",
       "    .dataframe tbody tr th {\n",
       "        vertical-align: top;\n",
       "    }\n",
       "\n",
       "    .dataframe thead th {\n",
       "        text-align: right;\n",
       "    }\n",
       "</style>\n",
       "<table border=\"1\" class=\"dataframe\">\n",
       "  <thead>\n",
       "    <tr style=\"text-align: right;\">\n",
       "      <th></th>\n",
       "      <th>id</th>\n",
       "      <th>f0</th>\n",
       "      <th>f1</th>\n",
       "      <th>f2</th>\n",
       "      <th>product</th>\n",
       "    </tr>\n",
       "  </thead>\n",
       "  <tbody>\n",
       "    <tr>\n",
       "      <th>45404</th>\n",
       "      <td>KUPhW</td>\n",
       "      <td>0.231846</td>\n",
       "      <td>-1.698941</td>\n",
       "      <td>4.990775</td>\n",
       "      <td>11.716299</td>\n",
       "    </tr>\n",
       "    <tr>\n",
       "      <th>55967</th>\n",
       "      <td>KUPhW</td>\n",
       "      <td>1.211150</td>\n",
       "      <td>3.176408</td>\n",
       "      <td>5.543540</td>\n",
       "      <td>132.831802</td>\n",
       "    </tr>\n",
       "    <tr>\n",
       "      <th>11449</th>\n",
       "      <td>VF7Jo</td>\n",
       "      <td>2.122656</td>\n",
       "      <td>-0.858275</td>\n",
       "      <td>5.746001</td>\n",
       "      <td>181.716817</td>\n",
       "    </tr>\n",
       "    <tr>\n",
       "      <th>49564</th>\n",
       "      <td>VF7Jo</td>\n",
       "      <td>-0.883115</td>\n",
       "      <td>0.560537</td>\n",
       "      <td>0.723601</td>\n",
       "      <td>136.233420</td>\n",
       "    </tr>\n",
       "    <tr>\n",
       "      <th>44378</th>\n",
       "      <td>Vcm5J</td>\n",
       "      <td>-1.229484</td>\n",
       "      <td>-2.439204</td>\n",
       "      <td>1.222909</td>\n",
       "      <td>137.968290</td>\n",
       "    </tr>\n",
       "    <tr>\n",
       "      <th>95090</th>\n",
       "      <td>Vcm5J</td>\n",
       "      <td>2.587702</td>\n",
       "      <td>1.986875</td>\n",
       "      <td>2.482245</td>\n",
       "      <td>92.327572</td>\n",
       "    </tr>\n",
       "    <tr>\n",
       "      <th>28039</th>\n",
       "      <td>xCHr8</td>\n",
       "      <td>1.633027</td>\n",
       "      <td>0.368135</td>\n",
       "      <td>-2.378367</td>\n",
       "      <td>6.120525</td>\n",
       "    </tr>\n",
       "    <tr>\n",
       "      <th>43233</th>\n",
       "      <td>xCHr8</td>\n",
       "      <td>-0.847066</td>\n",
       "      <td>2.101796</td>\n",
       "      <td>5.597130</td>\n",
       "      <td>184.388641</td>\n",
       "    </tr>\n",
       "  </tbody>\n",
       "</table>\n",
       "</div>"
      ],
      "text/plain": [
       "          id        f0        f1        f2     product\n",
       "45404  KUPhW  0.231846 -1.698941  4.990775   11.716299\n",
       "55967  KUPhW  1.211150  3.176408  5.543540  132.831802\n",
       "11449  VF7Jo  2.122656 -0.858275  5.746001  181.716817\n",
       "49564  VF7Jo -0.883115  0.560537  0.723601  136.233420\n",
       "44378  Vcm5J -1.229484 -2.439204  1.222909  137.968290\n",
       "95090  Vcm5J  2.587702  1.986875  2.482245   92.327572\n",
       "28039  xCHr8  1.633027  0.368135 -2.378367    6.120525\n",
       "43233  xCHr8 -0.847066  2.101796  5.597130  184.388641"
      ]
     },
     "metadata": {},
     "output_type": "display_data"
    }
   ],
   "source": [
    "display(geo_d3[geo_d3.duplicated('id', keep=False)].sort_values(by='id'))"
   ]
  },
  {
   "cell_type": "markdown",
   "metadata": {},
   "source": [
    "Выполним удаление дубликатов"
   ]
  },
  {
   "cell_type": "code",
   "execution_count": 17,
   "metadata": {},
   "outputs": [],
   "source": [
    "geo_d3.drop_duplicates('id', keep='first', inplace=True)"
   ]
  },
  {
   "cell_type": "markdown",
   "metadata": {},
   "source": [
    "- Распределение признака `f0` имеет форму, близкую к нормальному. `std` - 1,7. Медиана равна ~0. Возможно, признак стандартизирован.\n",
    "- Распределение признака `f1` также имеет нормальную форму. `std` - 1,73, медиана - ~0. Признак `f1`, возможно, стандартизирован.\n",
    "- Распределение признака `f3` похоже на нормальное. В основном данные распределены от 0 до 5. `std` равен 3,47, медиана равна 3,48.\n",
    "- Распределение `product` имеет форму, близкую к нормальной, с пиком в диапазоне от 75 до 135. `std` = 44,75, медиана равна 94,93."
   ]
  },
  {
   "cell_type": "markdown",
   "metadata": {},
   "source": [
    "## Иследовательский анализ"
   ]
  },
  {
   "cell_type": "code",
   "execution_count": 18,
   "metadata": {},
   "outputs": [],
   "source": [
    "def number_columns(data, column, bins=50):\n",
    "    \n",
    "    # Описательная статистика\n",
    "    description = data[column].describe()\n",
    "    print(f\"\\n=== Описательная статистика для '{column}' ===\")\n",
    "    print(description)\n",
    "    \n",
    "    # Проверка на выбросы с использованием IQR\n",
    "    Q1 = data[column].quantile(0.25)\n",
    "    Q3 = data[column].quantile(0.75)\n",
    "    IQR = Q3 - Q1\n",
    "    lower_bound = Q1 - 1.5 * IQR\n",
    "    upper_bound = Q3 + 1.5 * IQR\n",
    "    \n",
    "    outliers = data[(data[column] < lower_bound) | (data[column] > upper_bound)]\n",
    "    print(f\"\\nКоличество выбросов в '{column}': {len(outliers)}\")\n",
    "    \n",
    "    # Построение гистограммы и boxplot\n",
    "    fig, ax = plt.subplots(1, 2, figsize=(15, 6))\n",
    "    \n",
    "    sns.histplot(x=data[column], kde=True, ax=ax[0], bins=bins, color='skyblue')\n",
    "    ax[0].set_title(f'Гистограмма для {column}')\n",
    "    ax[0].set_xlabel(column)\n",
    "    ax[0].set_ylabel('Частота')\n",
    "    \n",
    "    sns.boxplot(x=data[column], ax=ax[1], color='lightgreen')\n",
    "    ax[1].set_title(f'Boxplot для {column}')\n",
    "    ax[1].set_xlabel(column)\n",
    "    \n",
    "    plt.tight_layout()\n",
    "    plt.show()"
   ]
  },
  {
   "cell_type": "code",
   "execution_count": 19,
   "metadata": {},
   "outputs": [],
   "source": [
    "# Выделим функцию для построения графиков\n",
    "def plot_number_columns(data, column, bins=50):\n",
    "    \n",
    "    # Построение гистограммы и boxplot\n",
    "    fig, ax = plt.subplots(1, 2, figsize=(15, 6))\n",
    "    \n",
    "    sns.histplot(x=data[column], kde=True, ax=ax[0], bins=bins, color='skyblue')\n",
    "    ax[0].set_title(f'Гистограмма для {column}')\n",
    "    ax[0].set_xlabel(column)\n",
    "    ax[0].set_ylabel('Частота')\n",
    "    \n",
    "    sns.boxplot(x=data[column], ax=ax[1], color='lightgreen')\n",
    "    ax[1].set_title(f'Boxplot для {column}')\n",
    "    ax[1].set_xlabel(column)\n",
    "    \n",
    "    plt.tight_layout()\n",
    "    plt.show()"
   ]
  },
  {
   "cell_type": "code",
   "execution_count": 20,
   "metadata": {},
   "outputs": [],
   "source": [
    "# Выделим функцию для вывода строк с выбросами\n",
    "def display_outliers(data, column):\n",
    "\n",
    "    # Проверка на выбросы с использованием IQR\n",
    "    Q1 = data[column].quantile(0.25)\n",
    "    Q3 = data[column].quantile(0.75)\n",
    "    IQR = Q3 - Q1\n",
    "    lower_bound = Q1 - 1.5 * IQR\n",
    "    upper_bound = Q3 + 1.5 * IQR\n",
    "\n",
    "    # Вывод строк с выбросами\n",
    "    outliers = data[(data[column] < lower_bound) | (data[column] > upper_bound)]\n",
    "    if not outliers.empty:\n",
    "        print(f\"Выбросы в столбце '{column}':\")\n",
    "        display(outliers)\n",
    "    else:\n",
    "        print(f\"Выбросы не обнаружены в столбце '{column}'.\")"
   ]
  },
  {
   "cell_type": "code",
   "execution_count": 21,
   "metadata": {},
   "outputs": [],
   "source": [
    "# Функция для исследовательского анализа дискретных количественных признаков\n",
    "def discrete_columns(data, column):\n",
    "    # Описательная статистика\n",
    "    description = data[column].describe()\n",
    "    print(f\"\\n=== Описательная статистика для '{column}' ===\")\n",
    "    print(description)\n",
    "    \n",
    "    # Проверка на выбросы с использованием IQR\n",
    "    Q1 = data[column].quantile(0.25)\n",
    "    Q3 = data[column].quantile(0.75)\n",
    "    IQR = Q3 - Q1\n",
    "    lower_bound = Q1 - 1.5 * IQR\n",
    "    upper_bound = Q3 + 1.5 * IQR\n",
    "    \n",
    "    outliers = data[(data[column] < lower_bound) | (data[column] > upper_bound)]\n",
    "    print(f\"\\nКоличество выбросов в '{column}': {len(outliers)}\")\n",
    "    \n",
    "    # Построение графиков на одном полотне\n",
    "    fig, axes = plt.subplots(1, 2, figsize=(15, 6))\n",
    "    \n",
    "    # Столбчатая диаграмма\n",
    "    value_counts = data[column].value_counts().sort_index()\n",
    "    sns.barplot(x=value_counts.index, y=value_counts.values, color='skyblue', ax=axes[0])\n",
    "    axes[0].set_title(f'Столбчатая диаграмма для {column}')\n",
    "    axes[0].set_xlabel(column)\n",
    "    axes[0].set_ylabel('Количество')\n",
    "    \n",
    "    for i in range(len(value_counts)):\n",
    "        axes[0].text(i, value_counts.values[i], value_counts.values[i], ha='center', va='bottom')\n",
    "    \n",
    "    # Boxplot\n",
    "    sns.boxplot(x=data[column], color='lightgreen', ax=axes[1])\n",
    "    axes[1].set_title(f'Boxplot для {column}')\n",
    "    axes[1].set_xlabel(column)\n",
    "    \n",
    "    plt.tight_layout()\n",
    "    plt.show()"
   ]
  },
  {
   "cell_type": "markdown",
   "metadata": {},
   "source": [
    "Рассмотрим датасет `geo_d1`"
   ]
  },
  {
   "cell_type": "code",
   "execution_count": 22,
   "metadata": {},
   "outputs": [
    {
     "name": "stdout",
     "output_type": "stream",
     "text": [
      "\n",
      "=== Описательная статистика для 'f0' ===\n",
      "count    99990.000000\n",
      "mean         0.500454\n",
      "std          0.871844\n",
      "min         -1.408605\n",
      "25%         -0.072572\n",
      "50%          0.502405\n",
      "75%          1.073626\n",
      "max          2.362331\n",
      "Name: f0, dtype: float64\n",
      "\n",
      "Количество выбросов в 'f0': 0\n"
     ]
    },
    {
     "data": {
      "image/png": "[encoded data removed]",
      "text/plain": [
       "<Figure size 1080x432 with 2 Axes>"
      ]
     },
     "metadata": {
      "needs_background": "light"
     },
     "output_type": "display_data"
    }
   ],
   "source": [
    "number_columns(geo_d1, 'f0')"
   ]
  },
  {
   "cell_type": "markdown",
   "metadata": {},
   "source": [
    "Выбросы в признаке `f0` не наблюдаются."
   ]
  },
  {
   "cell_type": "code",
   "execution_count": 23,
   "metadata": {},
   "outputs": [
    {
     "name": "stdout",
     "output_type": "stream",
     "text": [
      "\n",
      "=== Описательная статистика для 'f1' ===\n",
      "count    99990.000000\n",
      "mean         0.250141\n",
      "std          0.504430\n",
      "min         -0.848218\n",
      "25%         -0.200877\n",
      "50%          0.250252\n",
      "75%          0.700640\n",
      "max          1.343769\n",
      "Name: f1, dtype: float64\n",
      "\n",
      "Количество выбросов в 'f1': 0\n"
     ]
    },
    {
     "data": {
      "image/png": "[encoded data removed]",
      "text/plain": [
       "<Figure size 1080x432 with 2 Axes>"
      ]
     },
     "metadata": {
      "needs_background": "light"
     },
     "output_type": "display_data"
    }
   ],
   "source": [
    "number_columns(geo_d1, 'f1')"
   ]
  },
  {
   "cell_type": "markdown",
   "metadata": {},
   "source": [
    "Выбросы в признаке `f1` не наблюдаются."
   ]
  },
  {
   "cell_type": "code",
   "execution_count": 24,
   "metadata": {},
   "outputs": [
    {
     "name": "stdout",
     "output_type": "stream",
     "text": [
      "\n",
      "=== Описательная статистика для 'f2' ===\n",
      "count    99990.000000\n",
      "mean         2.502629\n",
      "std          3.248149\n",
      "min        -12.088328\n",
      "25%          0.287784\n",
      "50%          2.515969\n",
      "75%          4.715035\n",
      "max         16.003790\n",
      "Name: f2, dtype: float64\n",
      "\n",
      "Количество выбросов в 'f2': 506\n"
     ]
    },
    {
     "data": {
      "image/png": "[encoded data removed]",
      "text/plain": [
       "<Figure size 1080x432 with 2 Axes>"
      ]
     },
     "metadata": {
      "needs_background": "light"
     },
     "output_type": "display_data"
    }
   ],
   "source": [
    "number_columns(geo_d1, 'f2')"
   ]
  },
  {
   "cell_type": "markdown",
   "metadata": {},
   "source": [
    "В боксплоте `f2` видны \"выбросы\", которые было решено оставить."
   ]
  },
  {
   "cell_type": "code",
   "execution_count": 25,
   "metadata": {},
   "outputs": [
    {
     "name": "stdout",
     "output_type": "stream",
     "text": [
      "\n",
      "=== Описательная статистика для 'product' ===\n",
      "count    99990.000000\n",
      "mean        92.499684\n",
      "std         44.288304\n",
      "min          0.000000\n",
      "25%         56.497069\n",
      "50%         91.847928\n",
      "75%        128.563699\n",
      "max        185.364347\n",
      "Name: product, dtype: float64\n",
      "\n",
      "Количество выбросов в 'product': 0\n"
     ]
    },
    {
     "data": {
      "image/png": "[encoded data removed]",
      "text/plain": [
       "<Figure size 1080x432 with 2 Axes>"
      ]
     },
     "metadata": {
      "needs_background": "light"
     },
     "output_type": "display_data"
    }
   ],
   "source": [
    "number_columns(geo_d1, 'product')"
   ]
  },
  {
   "cell_type": "markdown",
   "metadata": {},
   "source": [
    "В признаке `product` выбросы не наблюдаются."
   ]
  },
  {
   "cell_type": "markdown",
   "metadata": {},
   "source": [
    "Изучим датасет `geo_d2`"
   ]
  },
  {
   "cell_type": "code",
   "execution_count": 26,
   "metadata": {},
   "outputs": [
    {
     "name": "stdout",
     "output_type": "stream",
     "text": [
      "\n",
      "=== Описательная статистика для 'f0' ===\n",
      "count    99996.000000\n",
      "mean         1.141209\n",
      "std          8.965815\n",
      "min        -31.609576\n",
      "25%         -6.298551\n",
      "50%          1.153055\n",
      "75%          8.620964\n",
      "max         29.421755\n",
      "Name: f0, dtype: float64\n",
      "\n",
      "Количество выбросов в 'f0': 1\n"
     ]
    },
    {
     "data": {
      "image/png": "[encoded data removed]",
      "text/plain": [
       "<Figure size 1080x432 with 2 Axes>"
      ]
     },
     "metadata": {
      "needs_background": "light"
     },
     "output_type": "display_data"
    }
   ],
   "source": [
    "number_columns(geo_d2, 'f0')"
   ]
  },
  {
   "cell_type": "code",
   "execution_count": 27,
   "metadata": {},
   "outputs": [
    {
     "name": "stdout",
     "output_type": "stream",
     "text": [
      "Выбросы в столбце 'f0':\n"
     ]
    },
    {
     "data": {
      "text/html": [
       "<div>\n",
       "<style scoped>\n",
       "    .dataframe tbody tr th:only-of-type {\n",
       "        vertical-align: middle;\n",
       "    }\n",
       "\n",
       "    .dataframe tbody tr th {\n",
       "        vertical-align: top;\n",
       "    }\n",
       "\n",
       "    .dataframe thead th {\n",
       "        text-align: right;\n",
       "    }\n",
       "</style>\n",
       "<table border=\"1\" class=\"dataframe\">\n",
       "  <thead>\n",
       "    <tr style=\"text-align: right;\">\n",
       "      <th></th>\n",
       "      <th>id</th>\n",
       "      <th>f0</th>\n",
       "      <th>f1</th>\n",
       "      <th>f2</th>\n",
       "      <th>product</th>\n",
       "    </tr>\n",
       "  </thead>\n",
       "  <tbody>\n",
       "    <tr>\n",
       "      <th>83601</th>\n",
       "      <td>jJm67</td>\n",
       "      <td>-31.609576</td>\n",
       "      <td>1.390042</td>\n",
       "      <td>4.001055</td>\n",
       "      <td>110.992147</td>\n",
       "    </tr>\n",
       "  </tbody>\n",
       "</table>\n",
       "</div>"
      ],
      "text/plain": [
       "          id         f0        f1        f2     product\n",
       "83601  jJm67 -31.609576  1.390042  4.001055  110.992147"
      ]
     },
     "metadata": {},
     "output_type": "display_data"
    }
   ],
   "source": [
    "display_outliers(geo_d2, 'f0')"
   ]
  },
  {
   "cell_type": "markdown",
   "metadata": {},
   "source": [
    "Найденный выброс в признаке `f0` решено оставить, т. к. он им не является."
   ]
  },
  {
   "cell_type": "code",
   "execution_count": 28,
   "metadata": {},
   "outputs": [
    {
     "name": "stdout",
     "output_type": "stream",
     "text": [
      "\n",
      "=== Описательная статистика для 'f1' ===\n",
      "count    99996.000000\n",
      "mean        -4.796608\n",
      "std          5.119906\n",
      "min        -26.358598\n",
      "25%         -8.267985\n",
      "50%         -4.813172\n",
      "75%         -1.332816\n",
      "max         18.734063\n",
      "Name: f1, dtype: float64\n",
      "\n",
      "Количество выбросов в 'f1': 636\n"
     ]
    },
    {
     "data": {
      "image/png": "[encoded data removed]",
      "text/plain": [
       "<Figure size 1080x432 with 2 Axes>"
      ]
     },
     "metadata": {
      "needs_background": "light"
     },
     "output_type": "display_data"
    }
   ],
   "source": [
    "number_columns(geo_d2, 'f1')"
   ]
  },
  {
   "cell_type": "markdown",
   "metadata": {},
   "source": [
    "Так как в целом признак `f1` имеет нормальное распределение, объекты в признаке решено сохранить."
   ]
  },
  {
   "cell_type": "code",
   "execution_count": 29,
   "metadata": {},
   "outputs": [
    {
     "name": "stdout",
     "output_type": "stream",
     "text": [
      "\n",
      "=== Описательная статистика для 'f2' ===\n",
      "count    99996.000000\n",
      "mean         2.494501\n",
      "std          1.703579\n",
      "min         -0.018144\n",
      "25%          1.000021\n",
      "50%          2.011475\n",
      "75%          3.999904\n",
      "max          5.019721\n",
      "Name: f2, dtype: float64\n",
      "\n",
      "Количество выбросов в 'f2': 0\n"
     ]
    },
    {
     "data": {
      "image/png": "[encoded data removed]",
      "text/plain": [
       "<Figure size 1080x432 with 2 Axes>"
      ]
     },
     "metadata": {
      "needs_background": "light"
     },
     "output_type": "display_data"
    }
   ],
   "source": [
    "number_columns(geo_d2, 'f2')"
   ]
  },
  {
   "cell_type": "markdown",
   "metadata": {},
   "source": [
    "В целом график признака `f2`, показывает, что данные имеют дискретное распределение с несколькими пиками. Выбросов при построении боксплота нет."
   ]
  },
  {
   "cell_type": "code",
   "execution_count": 30,
   "metadata": {},
   "outputs": [
    {
     "name": "stdout",
     "output_type": "stream",
     "text": [
      "\n",
      "=== Описательная статистика для 'product' ===\n",
      "count    99996.000000\n",
      "mean        68.823916\n",
      "std         45.944663\n",
      "min          0.000000\n",
      "25%         26.953261\n",
      "50%         57.085625\n",
      "75%        107.813044\n",
      "max        137.945408\n",
      "Name: product, dtype: float64\n",
      "\n",
      "Количество выбросов в 'product': 0\n"
     ]
    },
    {
     "data": {
      "image/png": "[encoded data removed]",
      "text/plain": [
       "<Figure size 1080x432 with 2 Axes>"
      ]
     },
     "metadata": {
      "needs_background": "light"
     },
     "output_type": "display_data"
    }
   ],
   "source": [
    "number_columns(geo_d2, 'product')"
   ]
  },
  {
   "cell_type": "markdown",
   "metadata": {},
   "source": [
    "В признаке `product` выбросы не обнаружены, распределение признака скорее дискретное, чем непрерывное."
   ]
  },
  {
   "cell_type": "markdown",
   "metadata": {},
   "source": [
    "Изучим датасет `geo_d3`"
   ]
  },
  {
   "cell_type": "code",
   "execution_count": 31,
   "metadata": {},
   "outputs": [
    {
     "name": "stdout",
     "output_type": "stream",
     "text": [
      "\n",
      "=== Описательная статистика для 'f0' ===\n",
      "count    99996.000000\n",
      "mean         0.002002\n",
      "std          1.732052\n",
      "min         -8.760004\n",
      "25%         -1.162328\n",
      "50%          0.009424\n",
      "75%          1.158477\n",
      "max          7.238262\n",
      "Name: f0, dtype: float64\n",
      "\n",
      "Количество выбросов в 'f0': 733\n"
     ]
    },
    {
     "data": {
      "image/png": "[encoded data removed]",
      "text/plain": [
       "<Figure size 1080x432 with 2 Axes>"
      ]
     },
     "metadata": {
      "needs_background": "light"
     },
     "output_type": "display_data"
    }
   ],
   "source": [
    "number_columns(geo_d3, 'f0')"
   ]
  },
  {
   "cell_type": "markdown",
   "metadata": {},
   "source": [
    "Графики для `f0` показывают, что данные имеют нормальное распределение с заметными выбросами, расположенными как в отрицательной, так и в положительной области. Предполагаю, что это особенности распределения признака, по этой причине было решено оставить выбросы."
   ]
  },
  {
   "cell_type": "code",
   "execution_count": 32,
   "metadata": {},
   "outputs": [
    {
     "name": "stdout",
     "output_type": "stream",
     "text": [
      "\n",
      "=== Описательная статистика для 'f1' ===\n",
      "count    99996.000000\n",
      "mean        -0.002159\n",
      "std          1.730397\n",
      "min         -7.084020\n",
      "25%         -1.174841\n",
      "50%         -0.009661\n",
      "75%          1.163523\n",
      "max          7.844801\n",
      "Name: f1, dtype: float64\n",
      "\n",
      "Количество выбросов в 'f1': 684\n"
     ]
    },
    {
     "data": {
      "image/png": "[encoded data removed]",
      "text/plain": [
       "<Figure size 1080x432 with 2 Axes>"
      ]
     },
     "metadata": {
      "needs_background": "light"
     },
     "output_type": "display_data"
    }
   ],
   "source": [
    "number_columns(geo_d3, 'f1')"
   ]
  },
  {
   "cell_type": "markdown",
   "metadata": {},
   "source": [
    "Графики для `f1` показывают нормальное распределение с заметными выбросами. Предполагаю, что это особенности распределения признака, по этой причине было решено оставить выбросы."
   ]
  },
  {
   "cell_type": "code",
   "execution_count": 33,
   "metadata": {},
   "outputs": [
    {
     "name": "stdout",
     "output_type": "stream",
     "text": [
      "\n",
      "=== Описательная статистика для 'f2' ===\n",
      "count    99996.000000\n",
      "mean         2.495084\n",
      "std          3.473482\n",
      "min        -11.970335\n",
      "25%          0.130269\n",
      "50%          2.484236\n",
      "75%          4.858720\n",
      "max         16.739402\n",
      "Name: f2, dtype: float64\n",
      "\n",
      "Количество выбросов в 'f2': 584\n"
     ]
    },
    {
     "data": {
      "image/png": "[encoded data removed]",
      "text/plain": [
       "<Figure size 1080x432 with 2 Axes>"
      ]
     },
     "metadata": {
      "needs_background": "light"
     },
     "output_type": "display_data"
    }
   ],
   "source": [
    "number_columns(geo_d3, 'f2')"
   ]
  },
  {
   "cell_type": "markdown",
   "metadata": {},
   "source": [
    "Графики для `f3` показывают нормальное распределение с заметными выбросами. Предполагаю, что это особенности распределения признака, по этой причине было решено оставить выбросы."
   ]
  },
  {
   "cell_type": "code",
   "execution_count": 34,
   "metadata": {},
   "outputs": [
    {
     "name": "stdout",
     "output_type": "stream",
     "text": [
      "\n",
      "=== Описательная статистика для 'product' ===\n",
      "count    99996.000000\n",
      "mean        94.998342\n",
      "std         44.749573\n",
      "min          0.000000\n",
      "25%         59.450028\n",
      "50%         94.925026\n",
      "75%        130.586815\n",
      "max        190.029838\n",
      "Name: product, dtype: float64\n",
      "\n",
      "Количество выбросов в 'product': 0\n"
     ]
    },
    {
     "data": {
      "image/png": "[encoded data removed]",
      "text/plain": [
       "<Figure size 1080x432 with 2 Axes>"
      ]
     },
     "metadata": {
      "needs_background": "light"
     },
     "output_type": "display_data"
    }
   ],
   "source": [
    "number_columns(geo_d3, 'product')"
   ]
  },
  {
   "cell_type": "markdown",
   "metadata": {},
   "source": [
    "В признаке `product` выбросы не наблюдаются"
   ]
  },
  {
   "cell_type": "markdown",
   "metadata": {},
   "source": [
    "## Корреляционный анализ"
   ]
  },
  {
   "cell_type": "markdown",
   "metadata": {},
   "source": [
    "Выполним корреляционный анализ датасетов `geo_d1`, `geo_d3` и `geo_d3`."
   ]
  },
  {
   "cell_type": "markdown",
   "metadata": {},
   "source": [
    "Установим столбец `id` в каждом датафрейме в виде индекса."
   ]
  },
  {
   "cell_type": "code",
   "execution_count": 35,
   "metadata": {},
   "outputs": [],
   "source": [
    "geo_d1 = geo_d1.set_index('id')\n",
    "geo_d2 = geo_d2.set_index('id')\n",
    "geo_d3 = geo_d3.set_index('id')"
   ]
  },
  {
   "cell_type": "markdown",
   "metadata": {},
   "source": [
    "Посмотрим на матрицу для `geo_d1`"
   ]
  },
  {
   "cell_type": "code",
   "execution_count": 36,
   "metadata": {},
   "outputs": [
    {
     "data": {
      "image/png": "[encoded data removed]",
      "text/plain": [
       "<Figure size 720x432 with 2 Axes>"
      ]
     },
     "metadata": {
      "needs_background": "light"
     },
     "output_type": "display_data"
    }
   ],
   "source": [
    "# Построим матрицу корреляций phik_matrix\n",
    "plt.figure(figsize=(10, 6))\n",
    "sns.heatmap(geo_d1.phik_matrix(interval_cols=geo_d1.columns.tolist()), annot=True, fmt='.2f', cmap='coolwarm')\n",
    "plt.title('Матрица корреляций phik_matrix')\n",
    "plt.show()"
   ]
  },
  {
   "cell_type": "markdown",
   "metadata": {},
   "source": [
    "`geo_d1`\n",
    "- Корреляция между `f0` и `f1`, достаточно велика, но этот случай не является мультиколлинеарным;\n",
    "- Признка `f3` коррелирует только с признаком `product`."
   ]
  },
  {
   "cell_type": "markdown",
   "metadata": {},
   "source": [
    "Посмотрим на матрицу для `geo_d2`"
   ]
  },
  {
   "cell_type": "code",
   "execution_count": 37,
   "metadata": {},
   "outputs": [
    {
     "data": {
      "image/png": "[encoded data removed]",
      "text/plain": [
       "<Figure size 720x432 with 2 Axes>"
      ]
     },
     "metadata": {
      "needs_background": "light"
     },
     "output_type": "display_data"
    }
   ],
   "source": [
    "plt.figure(figsize=(10, 6))\n",
    "sns.heatmap(geo_d2.phik_matrix(interval_cols=geo_d2.columns.tolist()), annot=True, fmt='.2f', cmap='coolwarm')\n",
    "plt.title('Матрица корреляции phik_matrix')\n",
    "plt.show()"
   ]
  },
  {
   "cell_type": "markdown",
   "metadata": {},
   "source": [
    "`geo_d2`\n",
    "- Признак `f2` имеет сильную положительную корреляцию с `product` — 0,98. Высокая степень корреляции может привести к утечке данных."
   ]
  },
  {
   "cell_type": "markdown",
   "metadata": {},
   "source": [
    "Посмотрим на матрицу для `geo_d3`"
   ]
  },
  {
   "cell_type": "code",
   "execution_count": 38,
   "metadata": {},
   "outputs": [
    {
     "data": {
      "image/png": "[encoded data removed]",
      "text/plain": [
       "<Figure size 720x432 with 2 Axes>"
      ]
     },
     "metadata": {
      "needs_background": "light"
     },
     "output_type": "display_data"
    }
   ],
   "source": [
    "plt.figure(figsize=(10, 6))\n",
    "sns.heatmap(geo_d3.phik_matrix(interval_cols=geo_d3.columns.tolist()), annot=True, fmt='.2f', cmap='coolwarm')\n",
    "plt.title('Матрица корреляции phik_matrix')\n",
    "plt.show()"
   ]
  },
  {
   "cell_type": "markdown",
   "metadata": {},
   "source": [
    "`geo_d3`\n",
    "- Матрица корреляции показывает, что переменная `product` имеет слабую положительную корреляцию с `f0` (0.30), `f1` (0.33) и более заметную корреляцию с `f3` (0.44)"
   ]
  },
  {
   "cell_type": "markdown",
   "metadata": {},
   "source": [
    "## Обучение и проверка модели"
   ]
  },
  {
   "cell_type": "markdown",
   "metadata": {},
   "source": [
    "### Датасет `geo_d1`"
   ]
  },
  {
   "cell_type": "code",
   "execution_count": 39,
   "metadata": {},
   "outputs": [],
   "source": [
    "X1 = geo_d1.drop('product', axis=1)\n",
    "y1 = geo_d1['product']"
   ]
  },
  {
   "cell_type": "code",
   "execution_count": 40,
   "metadata": {},
   "outputs": [],
   "source": [
    "X1_train, X1_test, y1_train, y1_test = train_test_split(\n",
    "    X1, y1, test_size=0.25, random_state=RANDOM_STATE\n",
    ")"
   ]
  },
  {
   "cell_type": "code",
   "execution_count": 41,
   "metadata": {},
   "outputs": [
    {
     "data": {
      "text/plain": [
       "(74992, 3)"
      ]
     },
     "metadata": {},
     "output_type": "display_data"
    },
    {
     "data": {
      "text/plain": [
       "(74992,)"
      ]
     },
     "metadata": {},
     "output_type": "display_data"
    },
    {
     "data": {
      "text/plain": [
       "(24998, 3)"
      ]
     },
     "metadata": {},
     "output_type": "display_data"
    },
    {
     "data": {
      "text/plain": [
       "(24998,)"
      ]
     },
     "metadata": {},
     "output_type": "display_data"
    }
   ],
   "source": [
    "display(X1_train.shape)\n",
    "display(y1_train.shape)\n",
    "display(X1_test.shape)\n",
    "display(y1_test.shape)"
   ]
  },
  {
   "cell_type": "code",
   "execution_count": 42,
   "metadata": {},
   "outputs": [],
   "source": [
    "scaler = StandardScaler()\n",
    "X1_train_scaler = scaler.fit_transform(X1_train)\n",
    "X1_test_scaler = scaler.transform(X1_test)\n",
    "\n",
    "X1_train_scaler = pd.DataFrame(X1_train_scaler, columns=X1_train.columns.tolist())\n",
    "X1_test_scaler = pd.DataFrame(X1_test_scaler, columns=X1_test.columns.tolist())"
   ]
  },
  {
   "cell_type": "code",
   "execution_count": 43,
   "metadata": {},
   "outputs": [
    {
     "data": {
      "text/html": [
       "<div>\n",
       "<style scoped>\n",
       "    .dataframe tbody tr th:only-of-type {\n",
       "        vertical-align: middle;\n",
       "    }\n",
       "\n",
       "    .dataframe tbody tr th {\n",
       "        vertical-align: top;\n",
       "    }\n",
       "\n",
       "    .dataframe thead th {\n",
       "        text-align: right;\n",
       "    }\n",
       "</style>\n",
       "<table border=\"1\" class=\"dataframe\">\n",
       "  <thead>\n",
       "    <tr style=\"text-align: right;\">\n",
       "      <th></th>\n",
       "      <th>f0</th>\n",
       "      <th>f1</th>\n",
       "      <th>f2</th>\n",
       "    </tr>\n",
       "  </thead>\n",
       "  <tbody>\n",
       "    <tr>\n",
       "      <th>0</th>\n",
       "      <td>-1.361092</td>\n",
       "      <td>0.734332</td>\n",
       "      <td>0.651966</td>\n",
       "    </tr>\n",
       "    <tr>\n",
       "      <th>1</th>\n",
       "      <td>-0.963516</td>\n",
       "      <td>1.545552</td>\n",
       "      <td>0.158237</td>\n",
       "    </tr>\n",
       "    <tr>\n",
       "      <th>2</th>\n",
       "      <td>-0.965087</td>\n",
       "      <td>1.081062</td>\n",
       "      <td>0.989403</td>\n",
       "    </tr>\n",
       "    <tr>\n",
       "      <th>3</th>\n",
       "      <td>0.859602</td>\n",
       "      <td>-1.523696</td>\n",
       "      <td>1.797793</td>\n",
       "    </tr>\n",
       "    <tr>\n",
       "      <th>4</th>\n",
       "      <td>-1.615494</td>\n",
       "      <td>0.212711</td>\n",
       "      <td>-1.623879</td>\n",
       "    </tr>\n",
       "  </tbody>\n",
       "</table>\n",
       "</div>"
      ],
      "text/plain": [
       "         f0        f1        f2\n",
       "0 -1.361092  0.734332  0.651966\n",
       "1 -0.963516  1.545552  0.158237\n",
       "2 -0.965087  1.081062  0.989403\n",
       "3  0.859602 -1.523696  1.797793\n",
       "4 -1.615494  0.212711 -1.623879"
      ]
     },
     "metadata": {},
     "output_type": "display_data"
    },
    {
     "data": {
      "text/html": [
       "<div>\n",
       "<style scoped>\n",
       "    .dataframe tbody tr th:only-of-type {\n",
       "        vertical-align: middle;\n",
       "    }\n",
       "\n",
       "    .dataframe tbody tr th {\n",
       "        vertical-align: top;\n",
       "    }\n",
       "\n",
       "    .dataframe thead th {\n",
       "        text-align: right;\n",
       "    }\n",
       "</style>\n",
       "<table border=\"1\" class=\"dataframe\">\n",
       "  <thead>\n",
       "    <tr style=\"text-align: right;\">\n",
       "      <th></th>\n",
       "      <th>f0</th>\n",
       "      <th>f1</th>\n",
       "      <th>f2</th>\n",
       "    </tr>\n",
       "  </thead>\n",
       "  <tbody>\n",
       "    <tr>\n",
       "      <th>0</th>\n",
       "      <td>-0.535218</td>\n",
       "      <td>-0.068711</td>\n",
       "      <td>0.056534</td>\n",
       "    </tr>\n",
       "    <tr>\n",
       "      <th>1</th>\n",
       "      <td>0.535706</td>\n",
       "      <td>0.157337</td>\n",
       "      <td>-0.477020</td>\n",
       "    </tr>\n",
       "    <tr>\n",
       "      <th>2</th>\n",
       "      <td>-1.225295</td>\n",
       "      <td>0.866485</td>\n",
       "      <td>2.446290</td>\n",
       "    </tr>\n",
       "    <tr>\n",
       "      <th>3</th>\n",
       "      <td>-0.382304</td>\n",
       "      <td>-0.720722</td>\n",
       "      <td>-0.176902</td>\n",
       "    </tr>\n",
       "    <tr>\n",
       "      <th>4</th>\n",
       "      <td>0.466723</td>\n",
       "      <td>0.488788</td>\n",
       "      <td>-0.441417</td>\n",
       "    </tr>\n",
       "  </tbody>\n",
       "</table>\n",
       "</div>"
      ],
      "text/plain": [
       "         f0        f1        f2\n",
       "0 -0.535218 -0.068711  0.056534\n",
       "1  0.535706  0.157337 -0.477020\n",
       "2 -1.225295  0.866485  2.446290\n",
       "3 -0.382304 -0.720722 -0.176902\n",
       "4  0.466723  0.488788 -0.441417"
      ]
     },
     "execution_count": 43,
     "metadata": {},
     "output_type": "execute_result"
    }
   ],
   "source": [
    "display(X1_train_scaler.head())\n",
    "X1_test_scaler.head()"
   ]
  },
  {
   "cell_type": "code",
   "execution_count": 44,
   "metadata": {},
   "outputs": [
    {
     "name": "stdout",
     "output_type": "stream",
     "text": [
      "RMSE: 37.53161811609357\n"
     ]
    }
   ],
   "source": [
    "model1 = LinearRegression()\n",
    "model1.fit(X1_train_scaler, y1_train)\n",
    "pred1 = model1.predict(X1_test_scaler)\n",
    "rmse1 = mean_squared_error(pred1, y1_test, squared=False)\n",
    "print(\"RMSE:\", rmse1)"
   ]
  },
  {
   "cell_type": "code",
   "execution_count": 45,
   "metadata": {},
   "outputs": [
    {
     "name": "stdout",
     "output_type": "stream",
     "text": [
      "Средний запас предсказанного сырья: 92.60013534779587. Значение метрики RMSE: 37.53161811609357\n"
     ]
    }
   ],
   "source": [
    "print(f'Средний запас предсказанного сырья: {pred1.mean()}. Значение метрики RMSE: {rmse1}')"
   ]
  },
  {
   "cell_type": "markdown",
   "metadata": {},
   "source": [
    "### Датасет `geo_d2`"
   ]
  },
  {
   "cell_type": "code",
   "execution_count": 46,
   "metadata": {},
   "outputs": [],
   "source": [
    "X2 = geo_d2.drop('product', axis=1)\n",
    "y2 = geo_d2['product']"
   ]
  },
  {
   "cell_type": "code",
   "execution_count": 47,
   "metadata": {},
   "outputs": [],
   "source": [
    "X2_train, X2_test, y2_train, y2_test = train_test_split(\n",
    "    X2, y2, test_size=0.25, random_state=RANDOM_STATE\n",
    ")"
   ]
  },
  {
   "cell_type": "code",
   "execution_count": 48,
   "metadata": {},
   "outputs": [
    {
     "data": {
      "text/plain": [
       "(74997, 3)"
      ]
     },
     "metadata": {},
     "output_type": "display_data"
    },
    {
     "data": {
      "text/plain": [
       "(74997,)"
      ]
     },
     "metadata": {},
     "output_type": "display_data"
    },
    {
     "data": {
      "text/plain": [
       "(24999, 3)"
      ]
     },
     "metadata": {},
     "output_type": "display_data"
    },
    {
     "data": {
      "text/plain": [
       "(24999,)"
      ]
     },
     "metadata": {},
     "output_type": "display_data"
    }
   ],
   "source": [
    "display(X2_train.shape)\n",
    "display(y2_train.shape)\n",
    "display(X2_test.shape)\n",
    "display(y2_test.shape)"
   ]
  },
  {
   "cell_type": "code",
   "execution_count": 49,
   "metadata": {},
   "outputs": [],
   "source": [
    "X2_train_scaler = scaler.fit_transform(X2_train)\n",
    "X2_test_scaler = scaler.transform(X2_test)\n",
    "\n",
    "X2_train_scaler = pd.DataFrame(X2_train_scaler, columns=X2_train.columns.tolist())\n",
    "X2_test_scaler = pd.DataFrame(X2_test_scaler, columns=X2_test.columns.tolist())"
   ]
  },
  {
   "cell_type": "code",
   "execution_count": 50,
   "metadata": {},
   "outputs": [
    {
     "data": {
      "text/html": [
       "<div>\n",
       "<style scoped>\n",
       "    .dataframe tbody tr th:only-of-type {\n",
       "        vertical-align: middle;\n",
       "    }\n",
       "\n",
       "    .dataframe tbody tr th {\n",
       "        vertical-align: top;\n",
       "    }\n",
       "\n",
       "    .dataframe thead th {\n",
       "        text-align: right;\n",
       "    }\n",
       "</style>\n",
       "<table border=\"1\" class=\"dataframe\">\n",
       "  <thead>\n",
       "    <tr style=\"text-align: right;\">\n",
       "      <th></th>\n",
       "      <th>f0</th>\n",
       "      <th>f1</th>\n",
       "      <th>f2</th>\n",
       "    </tr>\n",
       "  </thead>\n",
       "  <tbody>\n",
       "    <tr>\n",
       "      <th>0</th>\n",
       "      <td>-0.111200</td>\n",
       "      <td>1.224838</td>\n",
       "      <td>0.884287</td>\n",
       "    </tr>\n",
       "    <tr>\n",
       "      <th>1</th>\n",
       "      <td>0.226758</td>\n",
       "      <td>2.418992</td>\n",
       "      <td>-1.463254</td>\n",
       "    </tr>\n",
       "    <tr>\n",
       "      <th>2</th>\n",
       "      <td>0.628067</td>\n",
       "      <td>-0.355365</td>\n",
       "      <td>-0.291300</td>\n",
       "    </tr>\n",
       "    <tr>\n",
       "      <th>3</th>\n",
       "      <td>1.176828</td>\n",
       "      <td>0.393811</td>\n",
       "      <td>0.882546</td>\n",
       "    </tr>\n",
       "    <tr>\n",
       "      <th>4</th>\n",
       "      <td>1.475527</td>\n",
       "      <td>0.648530</td>\n",
       "      <td>-1.463284</td>\n",
       "    </tr>\n",
       "  </tbody>\n",
       "</table>\n",
       "</div>"
      ],
      "text/plain": [
       "         f0        f1        f2\n",
       "0 -0.111200  1.224838  0.884287\n",
       "1  0.226758  2.418992 -1.463254\n",
       "2  0.628067 -0.355365 -0.291300\n",
       "3  1.176828  0.393811  0.882546\n",
       "4  1.475527  0.648530 -1.463284"
      ]
     },
     "metadata": {},
     "output_type": "display_data"
    },
    {
     "data": {
      "text/html": [
       "<div>\n",
       "<style scoped>\n",
       "    .dataframe tbody tr th:only-of-type {\n",
       "        vertical-align: middle;\n",
       "    }\n",
       "\n",
       "    .dataframe tbody tr th {\n",
       "        vertical-align: top;\n",
       "    }\n",
       "\n",
       "    .dataframe thead th {\n",
       "        text-align: right;\n",
       "    }\n",
       "</style>\n",
       "<table border=\"1\" class=\"dataframe\">\n",
       "  <thead>\n",
       "    <tr style=\"text-align: right;\">\n",
       "      <th></th>\n",
       "      <th>f0</th>\n",
       "      <th>f1</th>\n",
       "      <th>f2</th>\n",
       "    </tr>\n",
       "  </thead>\n",
       "  <tbody>\n",
       "    <tr>\n",
       "      <th>0</th>\n",
       "      <td>1.148263</td>\n",
       "      <td>0.106792</td>\n",
       "      <td>-0.880250</td>\n",
       "    </tr>\n",
       "    <tr>\n",
       "      <th>1</th>\n",
       "      <td>0.609225</td>\n",
       "      <td>0.002834</td>\n",
       "      <td>1.471704</td>\n",
       "    </tr>\n",
       "    <tr>\n",
       "      <th>2</th>\n",
       "      <td>-1.563143</td>\n",
       "      <td>-0.981950</td>\n",
       "      <td>-0.289141</td>\n",
       "    </tr>\n",
       "    <tr>\n",
       "      <th>3</th>\n",
       "      <td>-1.958732</td>\n",
       "      <td>-0.976234</td>\n",
       "      <td>0.884269</td>\n",
       "    </tr>\n",
       "    <tr>\n",
       "      <th>4</th>\n",
       "      <td>0.306841</td>\n",
       "      <td>0.270101</td>\n",
       "      <td>1.472882</td>\n",
       "    </tr>\n",
       "  </tbody>\n",
       "</table>\n",
       "</div>"
      ],
      "text/plain": [
       "         f0        f1        f2\n",
       "0  1.148263  0.106792 -0.880250\n",
       "1  0.609225  0.002834  1.471704\n",
       "2 -1.563143 -0.981950 -0.289141\n",
       "3 -1.958732 -0.976234  0.884269\n",
       "4  0.306841  0.270101  1.472882"
      ]
     },
     "execution_count": 50,
     "metadata": {},
     "output_type": "execute_result"
    }
   ],
   "source": [
    "display(X2_train_scaler.head())\n",
    "X2_test_scaler.head()"
   ]
  },
  {
   "cell_type": "code",
   "execution_count": 51,
   "metadata": {},
   "outputs": [
    {
     "name": "stdout",
     "output_type": "stream",
     "text": [
      "RMSE: 0.8940577014019877\n"
     ]
    }
   ],
   "source": [
    "model2 = LinearRegression()\n",
    "model2.fit(X2_train_scaler, y2_train)\n",
    "pred2 = model2.predict(X2_test_scaler)\n",
    "rmse2 = mean_squared_error(y2_test, pred2, squared=False)\n",
    "print(\"RMSE:\", rmse2)"
   ]
  },
  {
   "cell_type": "code",
   "execution_count": 52,
   "metadata": {},
   "outputs": [
    {
     "name": "stdout",
     "output_type": "stream",
     "text": [
      "Средний запас предсказанного сырья: 68.81202513316761. Значение метрики RMSE: 0.8940577014019877\n"
     ]
    }
   ],
   "source": [
    "print(f'Средний запас предсказанного сырья: {pred2.mean()}. Значение метрики RMSE: {rmse2}')"
   ]
  },
  {
   "cell_type": "markdown",
   "metadata": {},
   "source": [
    "### Датасет `geo_d3`"
   ]
  },
  {
   "cell_type": "code",
   "execution_count": 53,
   "metadata": {},
   "outputs": [],
   "source": [
    "X3 = geo_d3.drop('product', axis=1)\n",
    "y3 = geo_d3['product']"
   ]
  },
  {
   "cell_type": "code",
   "execution_count": 54,
   "metadata": {},
   "outputs": [],
   "source": [
    "X3_train, X3_test, y3_train, y3_test = train_test_split(\n",
    "    X3, y3, test_size=0.25, random_state=RANDOM_STATE\n",
    ")"
   ]
  },
  {
   "cell_type": "code",
   "execution_count": 55,
   "metadata": {},
   "outputs": [
    {
     "data": {
      "text/plain": [
       "(74997, 3)"
      ]
     },
     "metadata": {},
     "output_type": "display_data"
    },
    {
     "data": {
      "text/plain": [
       "(74997,)"
      ]
     },
     "metadata": {},
     "output_type": "display_data"
    },
    {
     "data": {
      "text/plain": [
       "(24999, 3)"
      ]
     },
     "metadata": {},
     "output_type": "display_data"
    },
    {
     "data": {
      "text/plain": [
       "(24999,)"
      ]
     },
     "metadata": {},
     "output_type": "display_data"
    }
   ],
   "source": [
    "display(X3_train.shape)\n",
    "display(y3_train.shape)\n",
    "display(X3_test.shape)\n",
    "display(y3_test.shape)"
   ]
  },
  {
   "cell_type": "code",
   "execution_count": 56,
   "metadata": {},
   "outputs": [],
   "source": [
    "scaler = StandardScaler()\n",
    "X3_train_scaler = scaler.fit_transform(X3_train)\n",
    "X3_test_scaler = scaler.transform(X3_test)\n",
    "\n",
    "X3_train_scaler = pd.DataFrame(X3_train_scaler, columns=X3_train.columns.tolist())\n",
    "X3_test_scaler = pd.DataFrame(X3_test_scaler, columns=X3_test.columns.tolist())"
   ]
  },
  {
   "cell_type": "code",
   "execution_count": 57,
   "metadata": {},
   "outputs": [
    {
     "data": {
      "text/html": [
       "<div>\n",
       "<style scoped>\n",
       "    .dataframe tbody tr th:only-of-type {\n",
       "        vertical-align: middle;\n",
       "    }\n",
       "\n",
       "    .dataframe tbody tr th {\n",
       "        vertical-align: top;\n",
       "    }\n",
       "\n",
       "    .dataframe thead th {\n",
       "        text-align: right;\n",
       "    }\n",
       "</style>\n",
       "<table border=\"1\" class=\"dataframe\">\n",
       "  <thead>\n",
       "    <tr style=\"text-align: right;\">\n",
       "      <th></th>\n",
       "      <th>f0</th>\n",
       "      <th>f1</th>\n",
       "      <th>f2</th>\n",
       "    </tr>\n",
       "  </thead>\n",
       "  <tbody>\n",
       "    <tr>\n",
       "      <th>0</th>\n",
       "      <td>-1.225296</td>\n",
       "      <td>0.229929</td>\n",
       "      <td>-2.006939</td>\n",
       "    </tr>\n",
       "    <tr>\n",
       "      <th>1</th>\n",
       "      <td>1.566160</td>\n",
       "      <td>-0.032386</td>\n",
       "      <td>-0.604669</td>\n",
       "    </tr>\n",
       "    <tr>\n",
       "      <th>2</th>\n",
       "      <td>1.024143</td>\n",
       "      <td>0.561297</td>\n",
       "      <td>1.591532</td>\n",
       "    </tr>\n",
       "    <tr>\n",
       "      <th>3</th>\n",
       "      <td>-0.854462</td>\n",
       "      <td>0.177058</td>\n",
       "      <td>-2.133385</td>\n",
       "    </tr>\n",
       "    <tr>\n",
       "      <th>4</th>\n",
       "      <td>-0.099687</td>\n",
       "      <td>0.040959</td>\n",
       "      <td>-1.658482</td>\n",
       "    </tr>\n",
       "  </tbody>\n",
       "</table>\n",
       "</div>"
      ],
      "text/plain": [
       "         f0        f1        f2\n",
       "0 -1.225296  0.229929 -2.006939\n",
       "1  1.566160 -0.032386 -0.604669\n",
       "2  1.024143  0.561297  1.591532\n",
       "3 -0.854462  0.177058 -2.133385\n",
       "4 -0.099687  0.040959 -1.658482"
      ]
     },
     "metadata": {},
     "output_type": "display_data"
    },
    {
     "data": {
      "text/html": [
       "<div>\n",
       "<style scoped>\n",
       "    .dataframe tbody tr th:only-of-type {\n",
       "        vertical-align: middle;\n",
       "    }\n",
       "\n",
       "    .dataframe tbody tr th {\n",
       "        vertical-align: top;\n",
       "    }\n",
       "\n",
       "    .dataframe thead th {\n",
       "        text-align: right;\n",
       "    }\n",
       "</style>\n",
       "<table border=\"1\" class=\"dataframe\">\n",
       "  <thead>\n",
       "    <tr style=\"text-align: right;\">\n",
       "      <th></th>\n",
       "      <th>f0</th>\n",
       "      <th>f1</th>\n",
       "      <th>f2</th>\n",
       "    </tr>\n",
       "  </thead>\n",
       "  <tbody>\n",
       "    <tr>\n",
       "      <th>0</th>\n",
       "      <td>-0.966225</td>\n",
       "      <td>-2.161861</td>\n",
       "      <td>-0.081325</td>\n",
       "    </tr>\n",
       "    <tr>\n",
       "      <th>1</th>\n",
       "      <td>0.049783</td>\n",
       "      <td>-0.442158</td>\n",
       "      <td>-0.020242</td>\n",
       "    </tr>\n",
       "    <tr>\n",
       "      <th>2</th>\n",
       "      <td>1.879802</td>\n",
       "      <td>0.604341</td>\n",
       "      <td>0.877728</td>\n",
       "    </tr>\n",
       "    <tr>\n",
       "      <th>3</th>\n",
       "      <td>-1.208654</td>\n",
       "      <td>-1.160646</td>\n",
       "      <td>-1.021962</td>\n",
       "    </tr>\n",
       "    <tr>\n",
       "      <th>4</th>\n",
       "      <td>0.458382</td>\n",
       "      <td>-0.555290</td>\n",
       "      <td>0.175449</td>\n",
       "    </tr>\n",
       "  </tbody>\n",
       "</table>\n",
       "</div>"
      ],
      "text/plain": [
       "         f0        f1        f2\n",
       "0 -0.966225 -2.161861 -0.081325\n",
       "1  0.049783 -0.442158 -0.020242\n",
       "2  1.879802  0.604341  0.877728\n",
       "3 -1.208654 -1.160646 -1.021962\n",
       "4  0.458382 -0.555290  0.175449"
      ]
     },
     "execution_count": 57,
     "metadata": {},
     "output_type": "execute_result"
    }
   ],
   "source": [
    "display(X3_train_scaler.head())\n",
    "X3_test_scaler.head()"
   ]
  },
  {
   "cell_type": "code",
   "execution_count": 58,
   "metadata": {},
   "outputs": [
    {
     "name": "stdout",
     "output_type": "stream",
     "text": [
      "RMSE: 39.91443336519545\n"
     ]
    }
   ],
   "source": [
    "model3 = LinearRegression()\n",
    "model3.fit(X3_train_scaler, y3_train)\n",
    "pred3 = model3.predict(X3_test_scaler)\n",
    "rmse3 = mean_squared_error(y3_test, pred3, squared=False)\n",
    "print(\"RMSE:\", rmse3)"
   ]
  },
  {
   "cell_type": "code",
   "execution_count": 59,
   "metadata": {},
   "outputs": [
    {
     "name": "stdout",
     "output_type": "stream",
     "text": [
      "Средний запас предсказанного сырья: 94.89435207026406. Значение метрики RMSE: 39.91443336519545\n"
     ]
    }
   ],
   "source": [
    "print(f'Средний запас предсказанного сырья: {pred3.mean()}. Значение метрики RMSE: {rmse3}')"
   ]
  },
  {
   "cell_type": "markdown",
   "metadata": {},
   "source": [
    "В регионе `geo_d2` ошибка предсказания минимальна `RMSE` - `0,89` при среднем запасе сырья `68,81`. В то же время регионы `geo_d1` и `geo_d3` показывают более высокие запасы `92,60` и `94,89`, но с заметно большей ошибкой `RMSE` - `37,53` и `39,91`."
   ]
  },
  {
   "cell_type": "markdown",
   "metadata": {},
   "source": [
    "## Подготовка к расчёту прибыли"
   ]
  },
  {
   "cell_type": "code",
   "execution_count": 60,
   "metadata": {},
   "outputs": [
    {
     "name": "stdout",
     "output_type": "stream",
     "text": [
      "Достаточный объём сырья для безубыточной разработки: 111.11 тыс. баррелей.\n"
     ]
    }
   ],
   "source": [
    "# При разведке региона используют 200 лучших точек, для разработки\n",
    "dots = 200\n",
    "\n",
    "# Бюджет на разработку 200 скважин выделен в размере: 10 млрд.руб.\n",
    "budget = 1 * 10**10\n",
    "\n",
    "# Стоимость на разработку одной скважины 50 млн.руб.\n",
    "price = budget / dots\n",
    "\n",
    "# Доход с барреля (в тыс.руб.)\n",
    "revenue_per_barrel = 450000\n",
    "\n",
    "# Достаточный объём сырья для безубыточной разработки (прибыль = стоимость на разработку)\n",
    "volume = price / revenue_per_barrel\n",
    "print(f'Достаточный объём сырья для безубыточной разработки: {volume:.2f} тыс. баррелей.')"
   ]
  },
  {
   "cell_type": "markdown",
   "metadata": {},
   "source": [
    "Средний запас предсказанного сырья в каждом датасете меньше достаточного объёма."
   ]
  },
  {
   "cell_type": "code",
   "execution_count": 61,
   "metadata": {},
   "outputs": [
    {
     "name": "stdout",
     "output_type": "stream",
     "text": [
      "Достаточный объём сырья для безубыточности: 111.11 тыс. баррелей\n",
      "\n",
      "Средний запас в geo_d1: 92.62 тыс. баррелей\n",
      "Средний запас в geo_d2: 68.81 тыс. баррелей\n",
      "Средний запас в geo_d3: 94.90 тыс. баррелей\n"
     ]
    }
   ],
   "source": [
    "# Сравнение с достаточным объёмом\n",
    "print(f'Достаточный объём сырья для безубыточности: {volume:.2f} тыс. баррелей')\n",
    "\n",
    "print(\"\\n\"f'Средний запас в geo_d1: {y1_test.mean():.2f} тыс. баррелей')\n",
    "print(f'Средний запас в geo_d2: {y2_test.mean():.2f} тыс. баррелей')\n",
    "print(f'Средний запас в geo_d3: {y3_test.mean():.2f} тыс. баррелей')"
   ]
  },
  {
   "cell_type": "markdown",
   "metadata": {},
   "source": [
    "- `geo_d1`: Средний запас ниже порога безубыточности\n",
    "- `geo_d2`: Средний запас ниже порога безубыточности\n",
    "- `geo_d3`: Средний запас ниже порога безубыточности"
   ]
  },
  {
   "cell_type": "markdown",
   "metadata": {},
   "source": [
    "Истинные запасы в регионах `geo_d1`, `geo_d2`, `geo_d3` оказались схожими с полученными прогнозируемыми значениями."
   ]
  },
  {
   "cell_type": "markdown",
   "metadata": {},
   "source": [
    "## Расчёт прибыли и рисков "
   ]
  },
  {
   "cell_type": "markdown",
   "metadata": {},
   "source": [
    "Создадим функцию для расчета прибыли по полученным предсказаниям модели (используем скважин с максимальными предсказаниями)"
   ]
  },
  {
   "cell_type": "code",
   "execution_count": 62,
   "metadata": {},
   "outputs": [],
   "source": [
    "def profit_check(y_predict, y_true):\n",
    "    # 200 скважин с максимальныи значением предсказания\n",
    "    top_200 = y_true[np.argsort(y_predict)[-200:][::-1]].sum()\n",
    "    profit = top_200 * revenue_per_barrel - budget\n",
    "    return profit"
   ]
  },
  {
   "cell_type": "code",
   "execution_count": 63,
   "metadata": {},
   "outputs": [
    {
     "name": "stdout",
     "output_type": "stream",
     "text": [
      "Прибыль для региона geo_d1: 3,282,396,931.65 руб.\n"
     ]
    }
   ],
   "source": [
    "# Использование функции для geo_d1\n",
    "profit1 = profit_check(pred1, y1_test)\n",
    "print(f'Прибыль для региона geo_d1: {profit1:,.2f} руб.')"
   ]
  },
  {
   "cell_type": "code",
   "execution_count": 64,
   "metadata": {},
   "outputs": [
    {
     "name": "stdout",
     "output_type": "stream",
     "text": [
      "Прибыль для региона geo_d2: 2,415,086,696.68 руб.\n"
     ]
    }
   ],
   "source": [
    "# Использование функции для geo_d2\n",
    "profit2 = profit_check(pred2, y2_test)\n",
    "print(f'Прибыль для региона geo_d2: {profit2:,.2f} руб.')"
   ]
  },
  {
   "cell_type": "code",
   "execution_count": 65,
   "metadata": {},
   "outputs": [
    {
     "name": "stdout",
     "output_type": "stream",
     "text": [
      "Прибыль для региона geo_d3: 2,602,781,482.23 руб.\n"
     ]
    }
   ],
   "source": [
    "# Использование функции для geo_d3\n",
    "profit3 = profit_check(pred3, y3_test)\n",
    "print(f'Прибыль для региона geo_d3: {profit3:,.2f} руб.')"
   ]
  },
  {
   "cell_type": "markdown",
   "metadata": {},
   "source": [
    "Применим технику `Bootstrap` для оценки прибыли и рисков по каждому региону"
   ]
  },
  {
   "cell_type": "code",
   "execution_count": 66,
   "metadata": {},
   "outputs": [],
   "source": [
    "state = RandomState(12345)\n",
    "\n",
    "# Функция для Bootstrap и анализа\n",
    "def bootstrap_profit(y_predict, y_true, geo_num):\n",
    "    bootstrap_values = []\n",
    "    # Создаём DataFrame для удобной работы с sample\n",
    "    df = pd.DataFrame({'pred': y_predict, 'true': y_true})\n",
    "    for i in range(1000):\n",
    "        # Выборка 500 точек с возвращением\n",
    "        subsample = df.sample(500, replace=True, random_state=state)\n",
    "        profit = profit_check(subsample['pred'].values, subsample['true'].values)\n",
    "        bootstrap_values.append(profit)\n",
    "    bootstrap_values = pd.Series(bootstrap_values)\n",
    "\n",
    "    # Расчёт метрик\n",
    "    average_profit = round(bootstrap_values.mean())\n",
    "    quant_low = round(np.quantile(bootstrap_values, 0.025))  # 2.5%\n",
    "    quant_high = round(np.quantile(bootstrap_values, 0.975))  # 97.5%\n",
    "    loss_risk = (bootstrap_values < 0).mean() * 100  # Риск убытков в %\n",
    "\n",
    "    # Вывод\n",
    "    print(f'{geo_num}')\n",
    "    print(f'Средняя ожидаемая прибыль в регионе:      {average_profit:,} руб.')\n",
    "    print(f'Минимальная ожидаемая прибыль в регионе:  {quant_low:,} руб.')\n",
    "    print(f'Максимальная ожидаемая прибыль в регионе: {quant_high:,} руб.')\n",
    "    print(f'Риск убытков:                             {loss_risk:.2f}%\\n')"
   ]
  },
  {
   "cell_type": "code",
   "execution_count": 67,
   "metadata": {},
   "outputs": [
    {
     "name": "stdout",
     "output_type": "stream",
     "text": [
      "geo_d1\n",
      "Средняя ожидаемая прибыль в регионе:      462,801,160 руб.\n",
      "Минимальная ожидаемая прибыль в регионе:  -52,895,802 руб.\n",
      "Максимальная ожидаемая прибыль в регионе: 943,292,539 руб.\n",
      "Риск убытков:                             3.70%\n",
      "\n",
      "geo_d2\n",
      "Средняя ожидаемая прибыль в регионе:      456,429,936 руб.\n",
      "Минимальная ожидаемая прибыль в регионе:  50,931,683 руб.\n",
      "Максимальная ожидаемая прибыль в регионе: 857,391,395 руб.\n",
      "Риск убытков:                             1.40%\n",
      "\n",
      "geo_d3\n",
      "Средняя ожидаемая прибыль в регионе:      350,471,681 руб.\n",
      "Минимальная ожидаемая прибыль в регионе:  -154,782,212 руб.\n",
      "Максимальная ожидаемая прибыль в регионе: 876,896,762 руб.\n",
      "Риск убытков:                             7.90%\n",
      "\n"
     ]
    }
   ],
   "source": [
    "# Примененим функцию к датасетам\n",
    "bootstrap_profit(pred1, y1_test, 'geo_d1')\n",
    "bootstrap_profit(pred2, y2_test, 'geo_d2')\n",
    "bootstrap_profit(pred3, y3_test, 'geo_d3')"
   ]
  },
  {
   "cell_type": "markdown",
   "metadata": {},
   "source": [
    "Выводы:\n",
    "- `geo_d1`: Хорошая прибыль, но высокий риск из-за `RMSE 37.53`.\n",
    "- `geo_d2`: Высокая прибыль, низкий риск `RMSE 0.89`, стабильность.\n",
    "- `geo_d3`: Высокий запас, но низкая прибыль и риск из-за `RMSE 39.91`.\n",
    "\n",
    "Рекомендация: `geo_d2` — лучший выбор за счёт точности и низкого риска."
   ]
  },
  {
   "cell_type": "markdown",
   "metadata": {},
   "source": [
    "## Общие выводы"
   ]
  },
  {
   "cell_type": "markdown",
   "metadata": {},
   "source": [
    "<u>**1. Описание задачи**</u>\n",
    "\n",
    "**Цель проекта**:\n",
    "Определить оптимальный регион для бурения скважин на основе анализа данных о запасах нефти.\n",
    "\n",
    "**Значение для бизнеса**:\n",
    "Минимизация рисков и максимизация прибыли за счет выбора региона с наиболее предсказуемыми и высокими запасами сырья.\n",
    "\n",
    "<u>**2. Исходные данные и предобработка**</u>\n",
    "\n",
    "**Датасеты**:\n",
    "- `geo_data_0.csv`, `geo_data_1.csv`, `geo_data_2.csv` (по 100 000 скважин в каждом).\n",
    "\n",
    "**Признаки**:\n",
    "- `f0`, `f1`, `f2` — параметры скважин (численные).\n",
    "- `product` — целевой признак (объем запасов нефти, тыс. баррелей).\n",
    "\n",
    "**Предобработка**:\n",
    "- Удалены дубликаты в столбце `id` (`geo_d1`, `geo_d2`, `geo_d3`).\n",
    "- Выбросы в признаках `f0`, `f1`, `f2` сохранены (не повлияли на распределение).\n",
    "\n",
    "<u>**3. Исследовательский анализ**</u>\n",
    "\n",
    "**Ключевые наблюдения**:\n",
    "- **Распределение запасов (`product`)**:\n",
    "  - `geo_d1`: Cредний запас ~92,5 тыс. баррелей.\n",
    "  - `geo_d2`: Cредний запас ~68,8 тыс. баррелей.\n",
    "  - `geo_d3`: Cредний запас ~95 тыс. баррелей.\n",
    "\n",
    "**Корреляционный анализ**:\n",
    "- `geo_d2`: Сильная корреляция между `f2` и `product` (0,98).\n",
    "- `geo_d3`: Слабая корреляция признаков с `product` (максимум 0,44).\n",
    "\n",
    "<u>**4. Обучение моделей**</u>\n",
    "\n",
    "**Модель**: `LinearRegression`.\n",
    "**Масштабирование данных**: `StandardScaler`.\n",
    "\n",
    "**Метрики (RMSE)**:\n",
    "- `geo_d1`: 37,53 (высокая ошибка, но стабильные средние запасы).\n",
    "- `geo_d2`: 0,89 (очень низкая ошибка, высокая точность предсказаний).\n",
    "- `geo_d3`: 39,91 (средняя ошибка, высокие запасы).\n",
    "\n",
    "**Вывод**:\n",
    "Модель для `geo_d2` показывает наилучшую точность, что критически важно для минимизации рисков.\n",
    "\n",
    "<u>**5. Расчет прибыли и рисков**</u>\n",
    "\n",
    "**Параметры**:\n",
    "- Бюджет на разработку 200 скважин: 10 млрд руб.\n",
    "- Стоимость одной скважины: 50 млн руб.\n",
    "- Достаточный объем сырья для безубыточности: 111.11 тыс. баррелей.\n",
    "\n",
    "<u>**6. Итоговые выводы**</u>\n",
    "\n",
    "В ходе анализа трёх регионов были обучены модели для предсказания запасов сырья, а затем с помощью Bootstrap оценены прибыль и риски. Для каждого региона рассчитаны средняя прибыль, 95%-й доверительный интервал и риск убытков:\n",
    "- Регион `geo_d1` показал прибыль 456 млн руб., но риск 2,8% и RMSE 37,53 указывают на нестабильность предсказаний.\n",
    "- Регион `geo_d2` дал прибыль 462 млн руб. с минимальным риском 0,6% и RMSE 0,89, что делает его самым надёжным.\n",
    "- Регион `geo_d3` с прибылью 346 млн руб. и риском 10,0% и RMSE 39,91 оказался менее перспективным.\n",
    "- Рекомендуется выбрать `geo_d2` за счёт высокой прибыли, низкого риска и точности предсказаний."
   ]
  }
 ],
 "metadata": {
  "ExecuteTimeLog": [
   {
    "duration": 1408,
    "start_time": "2025-04-04T12:09:08.156Z"
   },
   {
    "duration": 0,
    "start_time": "2025-04-04T12:09:09.567Z"
   },
   {
    "duration": 0,
    "start_time": "2025-04-04T12:09:09.568Z"
   },
   {
    "duration": 0,
    "start_time": "2025-04-04T12:09:09.569Z"
   },
   {
    "duration": 0,
    "start_time": "2025-04-04T12:09:09.570Z"
   },
   {
    "duration": 0,
    "start_time": "2025-04-04T12:09:09.571Z"
   },
   {
    "duration": 0,
    "start_time": "2025-04-04T12:09:09.572Z"
   },
   {
    "duration": 0,
    "start_time": "2025-04-04T12:09:09.573Z"
   },
   {
    "duration": 0,
    "start_time": "2025-04-04T12:09:09.574Z"
   },
   {
    "duration": 0,
    "start_time": "2025-04-04T12:09:09.575Z"
   },
   {
    "duration": 0,
    "start_time": "2025-04-04T12:09:09.575Z"
   },
   {
    "duration": 0,
    "start_time": "2025-04-04T12:09:09.576Z"
   },
   {
    "duration": 0,
    "start_time": "2025-04-04T12:09:09.577Z"
   },
   {
    "duration": 0,
    "start_time": "2025-04-04T12:09:09.578Z"
   },
   {
    "duration": 0,
    "start_time": "2025-04-04T12:09:09.579Z"
   },
   {
    "duration": 0,
    "start_time": "2025-04-04T12:09:09.580Z"
   },
   {
    "duration": 0,
    "start_time": "2025-04-04T12:09:09.580Z"
   },
   {
    "duration": 0,
    "start_time": "2025-04-04T12:09:09.581Z"
   },
   {
    "duration": 0,
    "start_time": "2025-04-04T12:09:09.582Z"
   },
   {
    "duration": 0,
    "start_time": "2025-04-04T12:09:09.583Z"
   },
   {
    "duration": 0,
    "start_time": "2025-04-04T12:09:09.584Z"
   },
   {
    "duration": 0,
    "start_time": "2025-04-04T12:09:09.585Z"
   },
   {
    "duration": 0,
    "start_time": "2025-04-04T12:09:09.585Z"
   },
   {
    "duration": 0,
    "start_time": "2025-04-04T12:09:09.586Z"
   },
   {
    "duration": 0,
    "start_time": "2025-04-04T12:09:09.587Z"
   },
   {
    "duration": 0,
    "start_time": "2025-04-04T12:09:09.588Z"
   },
   {
    "duration": 0,
    "start_time": "2025-04-04T12:09:09.589Z"
   },
   {
    "duration": 0,
    "start_time": "2025-04-04T12:09:09.590Z"
   },
   {
    "duration": 0,
    "start_time": "2025-04-04T12:09:09.590Z"
   },
   {
    "duration": 0,
    "start_time": "2025-04-04T12:09:09.591Z"
   },
   {
    "duration": 0,
    "start_time": "2025-04-04T12:09:09.592Z"
   },
   {
    "duration": 0,
    "start_time": "2025-04-04T12:09:09.593Z"
   },
   {
    "duration": 0,
    "start_time": "2025-04-04T12:09:09.594Z"
   },
   {
    "duration": 0,
    "start_time": "2025-04-04T12:09:09.595Z"
   },
   {
    "duration": 0,
    "start_time": "2025-04-04T12:09:09.595Z"
   },
   {
    "duration": 0,
    "start_time": "2025-04-04T12:09:09.596Z"
   },
   {
    "duration": 0,
    "start_time": "2025-04-04T12:09:09.597Z"
   },
   {
    "duration": 0,
    "start_time": "2025-04-04T12:09:09.598Z"
   },
   {
    "duration": 0,
    "start_time": "2025-04-04T12:09:09.599Z"
   },
   {
    "duration": 0,
    "start_time": "2025-04-04T12:09:09.600Z"
   },
   {
    "duration": 0,
    "start_time": "2025-04-04T12:09:09.600Z"
   },
   {
    "duration": 0,
    "start_time": "2025-04-04T12:09:09.601Z"
   },
   {
    "duration": 0,
    "start_time": "2025-04-04T12:09:09.602Z"
   },
   {
    "duration": 0,
    "start_time": "2025-04-04T12:09:09.602Z"
   },
   {
    "duration": 0,
    "start_time": "2025-04-04T12:09:09.663Z"
   },
   {
    "duration": 0,
    "start_time": "2025-04-04T12:09:09.664Z"
   },
   {
    "duration": 0,
    "start_time": "2025-04-04T12:09:09.665Z"
   },
   {
    "duration": 0,
    "start_time": "2025-04-04T12:09:09.666Z"
   },
   {
    "duration": 0,
    "start_time": "2025-04-04T12:09:09.667Z"
   },
   {
    "duration": 0,
    "start_time": "2025-04-04T12:09:09.668Z"
   },
   {
    "duration": 0,
    "start_time": "2025-04-04T12:09:09.669Z"
   },
   {
    "duration": 0,
    "start_time": "2025-04-04T12:09:09.670Z"
   },
   {
    "duration": 0,
    "start_time": "2025-04-04T12:09:09.671Z"
   },
   {
    "duration": 0,
    "start_time": "2025-04-04T12:09:09.672Z"
   },
   {
    "duration": 0,
    "start_time": "2025-04-04T12:09:09.673Z"
   },
   {
    "duration": 0,
    "start_time": "2025-04-04T12:09:09.674Z"
   },
   {
    "duration": 0,
    "start_time": "2025-04-04T12:09:09.674Z"
   },
   {
    "duration": 0,
    "start_time": "2025-04-04T12:09:09.675Z"
   },
   {
    "duration": 0,
    "start_time": "2025-04-04T12:09:09.676Z"
   },
   {
    "duration": 0,
    "start_time": "2025-04-04T12:09:09.677Z"
   },
   {
    "duration": 0,
    "start_time": "2025-04-04T12:09:09.678Z"
   },
   {
    "duration": 0,
    "start_time": "2025-04-04T12:09:09.679Z"
   },
   {
    "duration": 0,
    "start_time": "2025-04-04T12:09:09.679Z"
   },
   {
    "duration": 0,
    "start_time": "2025-04-04T12:09:09.680Z"
   },
   {
    "duration": 0,
    "start_time": "2025-04-04T12:09:09.681Z"
   },
   {
    "duration": 4,
    "start_time": "2025-04-04T12:24:43.510Z"
   },
   {
    "duration": 3852,
    "start_time": "2025-04-04T12:24:50.852Z"
   },
   {
    "duration": 1828,
    "start_time": "2025-04-04T12:24:58.670Z"
   },
   {
    "duration": 2717,
    "start_time": "2025-04-04T12:25:04.588Z"
   },
   {
    "duration": 5,
    "start_time": "2025-04-04T12:25:07.308Z"
   },
   {
    "duration": 516,
    "start_time": "2025-04-04T12:25:07.315Z"
   },
   {
    "duration": 5,
    "start_time": "2025-04-04T12:25:07.833Z"
   },
   {
    "duration": 223,
    "start_time": "2025-04-04T12:25:07.839Z"
   },
   {
    "duration": 186,
    "start_time": "2025-04-04T12:25:08.064Z"
   },
   {
    "duration": 171,
    "start_time": "2025-04-04T12:25:08.252Z"
   },
   {
    "duration": 17,
    "start_time": "2025-04-04T12:25:08.424Z"
   },
   {
    "duration": 1215,
    "start_time": "2025-04-04T12:25:08.443Z"
   },
   {
    "duration": 31,
    "start_time": "2025-04-04T12:25:09.661Z"
   },
   {
    "duration": 26,
    "start_time": "2025-04-04T12:25:09.705Z"
   },
   {
    "duration": 1165,
    "start_time": "2025-04-04T12:25:09.733Z"
   },
   {
    "duration": 29,
    "start_time": "2025-04-04T12:25:10.903Z"
   },
   {
    "duration": 100,
    "start_time": "2025-04-04T12:25:10.934Z"
   },
   {
    "duration": 1057,
    "start_time": "2025-04-04T12:25:11.036Z"
   },
   {
    "duration": 36,
    "start_time": "2025-04-04T12:25:12.095Z"
   },
   {
    "duration": 27,
    "start_time": "2025-04-04T12:25:12.133Z"
   },
   {
    "duration": 7,
    "start_time": "2025-04-04T12:25:12.162Z"
   },
   {
    "duration": 6,
    "start_time": "2025-04-04T12:25:12.171Z"
   },
   {
    "duration": 5,
    "start_time": "2025-04-04T12:25:12.203Z"
   },
   {
    "duration": 11,
    "start_time": "2025-04-04T12:25:12.210Z"
   },
   {
    "duration": 1037,
    "start_time": "2025-04-04T12:25:12.223Z"
   },
   {
    "duration": 963,
    "start_time": "2025-04-04T12:25:13.262Z"
   },
   {
    "duration": 1589,
    "start_time": "2025-04-04T12:25:14.227Z"
   },
   {
    "duration": 1412,
    "start_time": "2025-04-04T12:25:15.818Z"
   },
   {
    "duration": 1121,
    "start_time": "2025-04-04T12:25:17.232Z"
   },
   {
    "duration": 16,
    "start_time": "2025-04-04T12:25:18.355Z"
   },
   {
    "duration": 1041,
    "start_time": "2025-04-04T12:25:18.375Z"
   },
   {
    "duration": 995,
    "start_time": "2025-04-04T12:25:19.418Z"
   },
   {
    "duration": 1012,
    "start_time": "2025-04-04T12:25:20.415Z"
   },
   {
    "duration": 1209,
    "start_time": "2025-04-04T12:25:21.429Z"
   },
   {
    "duration": 1091,
    "start_time": "2025-04-04T12:25:22.640Z"
   },
   {
    "duration": 1082,
    "start_time": "2025-04-04T12:25:23.733Z"
   },
   {
    "duration": 1034,
    "start_time": "2025-04-04T12:25:24.817Z"
   },
   {
    "duration": 17,
    "start_time": "2025-04-04T12:25:25.853Z"
   },
   {
    "duration": 653,
    "start_time": "2025-04-04T12:25:25.872Z"
   },
   {
    "duration": 630,
    "start_time": "2025-04-04T12:25:26.527Z"
   },
   {
    "duration": 671,
    "start_time": "2025-04-04T12:25:27.158Z"
   },
   {
    "duration": 5,
    "start_time": "2025-04-04T12:25:27.831Z"
   },
   {
    "duration": 85,
    "start_time": "2025-04-04T12:25:27.838Z"
   },
   {
    "duration": 8,
    "start_time": "2025-04-04T12:25:27.925Z"
   },
   {
    "duration": 13,
    "start_time": "2025-04-04T12:25:27.935Z"
   },
   {
    "duration": 13,
    "start_time": "2025-04-04T12:25:27.950Z"
   },
   {
    "duration": 147,
    "start_time": "2025-04-04T12:25:27.964Z"
   },
   {
    "duration": 92,
    "start_time": "2025-04-04T12:25:28.114Z"
   },
   {
    "duration": 28,
    "start_time": "2025-04-04T12:25:28.208Z"
   },
   {
    "duration": 95,
    "start_time": "2025-04-04T12:25:28.238Z"
   },
   {
    "duration": 7,
    "start_time": "2025-04-04T12:25:28.335Z"
   },
   {
    "duration": 23,
    "start_time": "2025-04-04T12:25:28.344Z"
   },
   {
    "duration": 13,
    "start_time": "2025-04-04T12:25:28.369Z"
   },
   {
    "duration": 120,
    "start_time": "2025-04-04T12:25:28.384Z"
   },
   {
    "duration": 5,
    "start_time": "2025-04-04T12:25:28.507Z"
   },
   {
    "duration": 94,
    "start_time": "2025-04-04T12:25:28.514Z"
   },
   {
    "duration": 48,
    "start_time": "2025-04-04T12:25:28.610Z"
   },
   {
    "duration": 7,
    "start_time": "2025-04-04T12:25:28.660Z"
   },
   {
    "duration": 36,
    "start_time": "2025-04-04T12:25:28.668Z"
   },
   {
    "duration": 14,
    "start_time": "2025-04-04T12:25:28.706Z"
   },
   {
    "duration": 85,
    "start_time": "2025-04-04T12:25:28.721Z"
   },
   {
    "duration": 6,
    "start_time": "2025-04-04T12:25:28.808Z"
   },
   {
    "duration": 103,
    "start_time": "2025-04-04T12:25:28.904Z"
   },
   {
    "duration": 33,
    "start_time": "2025-04-04T12:25:29.009Z"
   },
   {
    "duration": 10,
    "start_time": "2025-04-04T12:25:29.043Z"
   },
   {
    "duration": 11,
    "start_time": "2025-04-04T12:25:29.055Z"
   },
   {
    "duration": 8,
    "start_time": "2025-04-04T12:25:29.067Z"
   },
   {
    "duration": 6,
    "start_time": "2025-04-04T12:25:29.077Z"
   },
   {
    "duration": 1267,
    "start_time": "2025-04-04T12:25:29.084Z"
   },
   {
    "duration": 8,
    "start_time": "2025-04-04T13:06:50.944Z"
   },
   {
    "duration": 8,
    "start_time": "2025-04-04T13:07:22.922Z"
   },
   {
    "duration": 8,
    "start_time": "2025-04-04T13:49:05.648Z"
   },
   {
    "duration": 7,
    "start_time": "2025-04-04T13:49:18.401Z"
   },
   {
    "duration": 7,
    "start_time": "2025-04-04T13:49:32.563Z"
   },
   {
    "duration": 7,
    "start_time": "2025-04-04T13:49:42.571Z"
   },
   {
    "duration": 8,
    "start_time": "2025-04-04T13:49:54.843Z"
   },
   {
    "duration": 8,
    "start_time": "2025-04-04T13:50:05.135Z"
   },
   {
    "duration": 9,
    "start_time": "2025-04-04T13:50:14.679Z"
   },
   {
    "duration": 7,
    "start_time": "2025-04-04T13:50:38.290Z"
   },
   {
    "duration": 7,
    "start_time": "2025-04-04T13:50:50.009Z"
   },
   {
    "duration": 7,
    "start_time": "2025-04-04T13:51:26.063Z"
   },
   {
    "duration": 6,
    "start_time": "2025-04-04T13:51:34.452Z"
   },
   {
    "duration": 9,
    "start_time": "2025-04-04T13:52:14.675Z"
   },
   {
    "duration": 7,
    "start_time": "2025-04-04T13:52:26.343Z"
   },
   {
    "duration": 6,
    "start_time": "2025-04-04T13:52:37.861Z"
   },
   {
    "duration": 2670,
    "start_time": "2025-04-04T14:53:20.518Z"
   },
   {
    "duration": 1563,
    "start_time": "2025-04-04T14:53:23.190Z"
   },
   {
    "duration": 445,
    "start_time": "2025-04-04T14:53:24.755Z"
   },
   {
    "duration": 4,
    "start_time": "2025-04-04T14:53:25.203Z"
   },
   {
    "duration": 160,
    "start_time": "2025-04-04T14:53:25.209Z"
   },
   {
    "duration": 162,
    "start_time": "2025-04-04T14:53:25.371Z"
   },
   {
    "duration": 172,
    "start_time": "2025-04-04T14:53:25.535Z"
   },
   {
    "duration": 17,
    "start_time": "2025-04-04T14:53:25.709Z"
   },
   {
    "duration": 1124,
    "start_time": "2025-04-04T14:53:25.728Z"
   },
   {
    "duration": 32,
    "start_time": "2025-04-04T14:53:26.855Z"
   },
   {
    "duration": 38,
    "start_time": "2025-04-04T14:53:26.889Z"
   },
   {
    "duration": 1151,
    "start_time": "2025-04-04T14:53:26.929Z"
   },
   {
    "duration": 40,
    "start_time": "2025-04-04T14:53:28.082Z"
   },
   {
    "duration": 25,
    "start_time": "2025-04-04T14:53:28.124Z"
   },
   {
    "duration": 1138,
    "start_time": "2025-04-04T14:53:28.151Z"
   },
   {
    "duration": 40,
    "start_time": "2025-04-04T14:53:29.291Z"
   },
   {
    "duration": 27,
    "start_time": "2025-04-04T14:53:29.333Z"
   },
   {
    "duration": 7,
    "start_time": "2025-04-04T14:53:29.362Z"
   },
   {
    "duration": 33,
    "start_time": "2025-04-04T14:53:29.371Z"
   },
   {
    "duration": 5,
    "start_time": "2025-04-04T14:53:29.406Z"
   },
   {
    "duration": 15,
    "start_time": "2025-04-04T14:53:29.414Z"
   },
   {
    "duration": 1028,
    "start_time": "2025-04-04T14:53:29.431Z"
   },
   {
    "duration": 961,
    "start_time": "2025-04-04T14:53:30.462Z"
   },
   {
    "duration": 1092,
    "start_time": "2025-04-04T14:53:31.425Z"
   },
   {
    "duration": 1117,
    "start_time": "2025-04-04T14:53:32.519Z"
   },
   {
    "duration": 1044,
    "start_time": "2025-04-04T14:53:33.638Z"
   },
   {
    "duration": 26,
    "start_time": "2025-04-04T14:53:34.683Z"
   },
   {
    "duration": 1113,
    "start_time": "2025-04-04T14:53:34.713Z"
   },
   {
    "duration": 993,
    "start_time": "2025-04-04T14:53:35.828Z"
   },
   {
    "duration": 1021,
    "start_time": "2025-04-04T14:53:36.823Z"
   },
   {
    "duration": 1234,
    "start_time": "2025-04-04T14:53:37.846Z"
   },
   {
    "duration": 1069,
    "start_time": "2025-04-04T14:53:39.082Z"
   },
   {
    "duration": 1094,
    "start_time": "2025-04-04T14:53:40.153Z"
   },
   {
    "duration": 975,
    "start_time": "2025-04-04T14:53:41.249Z"
   },
   {
    "duration": 20,
    "start_time": "2025-04-04T14:53:42.226Z"
   },
   {
    "duration": 656,
    "start_time": "2025-04-04T14:53:42.248Z"
   },
   {
    "duration": 626,
    "start_time": "2025-04-04T14:53:42.905Z"
   },
   {
    "duration": 629,
    "start_time": "2025-04-04T14:53:43.533Z"
   },
   {
    "duration": 5,
    "start_time": "2025-04-04T14:53:44.164Z"
   },
   {
    "duration": 50,
    "start_time": "2025-04-04T14:53:44.171Z"
   },
   {
    "duration": 8,
    "start_time": "2025-04-04T14:53:44.223Z"
   },
   {
    "duration": 13,
    "start_time": "2025-04-04T14:53:44.232Z"
   },
   {
    "duration": 13,
    "start_time": "2025-04-04T14:53:44.246Z"
   },
   {
    "duration": 102,
    "start_time": "2025-04-04T14:53:44.260Z"
   },
   {
    "duration": 5,
    "start_time": "2025-04-04T14:53:44.406Z"
   },
   {
    "duration": 101,
    "start_time": "2025-04-04T14:53:44.413Z"
   },
   {
    "duration": 50,
    "start_time": "2025-04-04T14:53:44.515Z"
   },
   {
    "duration": 7,
    "start_time": "2025-04-04T14:53:44.567Z"
   },
   {
    "duration": 78,
    "start_time": "2025-04-04T14:53:44.576Z"
   },
   {
    "duration": 13,
    "start_time": "2025-04-04T14:53:44.656Z"
   },
   {
    "duration": 134,
    "start_time": "2025-04-04T14:53:44.671Z"
   },
   {
    "duration": 5,
    "start_time": "2025-04-04T14:53:44.808Z"
   },
   {
    "duration": 8,
    "start_time": "2025-04-04T14:53:44.904Z"
   },
   {
    "duration": 43,
    "start_time": "2025-04-04T14:53:44.914Z"
   },
   {
    "duration": 7,
    "start_time": "2025-04-04T14:53:44.959Z"
   },
   {
    "duration": 43,
    "start_time": "2025-04-04T14:53:44.967Z"
   },
   {
    "duration": 13,
    "start_time": "2025-04-04T14:53:45.012Z"
   },
   {
    "duration": 82,
    "start_time": "2025-04-04T14:53:45.027Z"
   },
   {
    "duration": 95,
    "start_time": "2025-04-04T14:53:45.111Z"
   },
   {
    "duration": 31,
    "start_time": "2025-04-04T14:53:45.208Z"
   },
   {
    "duration": 148,
    "start_time": "2025-04-04T14:53:45.241Z"
   },
   {
    "duration": 0,
    "start_time": "2025-04-04T14:53:45.391Z"
   },
   {
    "duration": 0,
    "start_time": "2025-04-04T14:53:45.393Z"
   },
   {
    "duration": 0,
    "start_time": "2025-04-04T14:53:45.394Z"
   },
   {
    "duration": 0,
    "start_time": "2025-04-04T14:53:45.395Z"
   },
   {
    "duration": 0,
    "start_time": "2025-04-04T14:53:45.404Z"
   },
   {
    "duration": 0,
    "start_time": "2025-04-04T14:53:45.405Z"
   },
   {
    "duration": 8,
    "start_time": "2025-04-04T14:54:44.129Z"
   },
   {
    "duration": 6,
    "start_time": "2025-04-04T14:55:36.549Z"
   },
   {
    "duration": 2632,
    "start_time": "2025-04-04T14:56:29.074Z"
   },
   {
    "duration": 1537,
    "start_time": "2025-04-04T14:56:31.708Z"
   },
   {
    "duration": 451,
    "start_time": "2025-04-04T14:56:33.247Z"
   },
   {
    "duration": 5,
    "start_time": "2025-04-04T14:56:33.700Z"
   },
   {
    "duration": 220,
    "start_time": "2025-04-04T14:56:33.707Z"
   },
   {
    "duration": 161,
    "start_time": "2025-04-04T14:56:33.928Z"
   },
   {
    "duration": 161,
    "start_time": "2025-04-04T14:56:34.091Z"
   },
   {
    "duration": 17,
    "start_time": "2025-04-04T14:56:34.253Z"
   },
   {
    "duration": 1219,
    "start_time": "2025-04-04T14:56:34.272Z"
   },
   {
    "duration": 40,
    "start_time": "2025-04-04T14:56:35.493Z"
   },
   {
    "duration": 80,
    "start_time": "2025-04-04T14:56:35.535Z"
   },
   {
    "duration": 1147,
    "start_time": "2025-04-04T14:56:35.617Z"
   },
   {
    "duration": 49,
    "start_time": "2025-04-04T14:56:36.766Z"
   },
   {
    "duration": 28,
    "start_time": "2025-04-04T14:56:36.817Z"
   },
   {
    "duration": 1150,
    "start_time": "2025-04-04T14:56:36.847Z"
   },
   {
    "duration": 33,
    "start_time": "2025-04-04T14:56:38.003Z"
   },
   {
    "duration": 28,
    "start_time": "2025-04-04T14:56:38.038Z"
   },
   {
    "duration": 7,
    "start_time": "2025-04-04T14:56:38.068Z"
   },
   {
    "duration": 30,
    "start_time": "2025-04-04T14:56:38.077Z"
   },
   {
    "duration": 6,
    "start_time": "2025-04-04T14:56:38.108Z"
   },
   {
    "duration": 24,
    "start_time": "2025-04-04T14:56:38.115Z"
   },
   {
    "duration": 1133,
    "start_time": "2025-04-04T14:56:38.140Z"
   },
   {
    "duration": 969,
    "start_time": "2025-04-04T14:56:39.274Z"
   },
   {
    "duration": 1078,
    "start_time": "2025-04-04T14:56:40.245Z"
   },
   {
    "duration": 1114,
    "start_time": "2025-04-04T14:56:41.324Z"
   },
   {
    "duration": 1044,
    "start_time": "2025-04-04T14:56:42.440Z"
   },
   {
    "duration": 21,
    "start_time": "2025-04-04T14:56:43.486Z"
   },
   {
    "duration": 1120,
    "start_time": "2025-04-04T14:56:43.511Z"
   },
   {
    "duration": 988,
    "start_time": "2025-04-04T14:56:44.632Z"
   },
   {
    "duration": 1001,
    "start_time": "2025-04-04T14:56:45.622Z"
   },
   {
    "duration": 1217,
    "start_time": "2025-04-04T14:56:46.625Z"
   },
   {
    "duration": 1102,
    "start_time": "2025-04-04T14:56:47.844Z"
   },
   {
    "duration": 1066,
    "start_time": "2025-04-04T14:56:48.948Z"
   },
   {
    "duration": 1024,
    "start_time": "2025-04-04T14:56:50.016Z"
   },
   {
    "duration": 22,
    "start_time": "2025-04-04T14:56:51.042Z"
   },
   {
    "duration": 671,
    "start_time": "2025-04-04T14:56:51.066Z"
   },
   {
    "duration": 665,
    "start_time": "2025-04-04T14:56:51.738Z"
   },
   {
    "duration": 633,
    "start_time": "2025-04-04T14:56:52.405Z"
   },
   {
    "duration": 5,
    "start_time": "2025-04-04T14:56:53.040Z"
   },
   {
    "duration": 39,
    "start_time": "2025-04-04T14:56:53.046Z"
   },
   {
    "duration": 21,
    "start_time": "2025-04-04T14:56:53.087Z"
   },
   {
    "duration": 13,
    "start_time": "2025-04-04T14:56:53.109Z"
   },
   {
    "duration": 13,
    "start_time": "2025-04-04T14:56:53.123Z"
   },
   {
    "duration": 70,
    "start_time": "2025-04-04T14:56:53.137Z"
   },
   {
    "duration": 97,
    "start_time": "2025-04-04T14:56:53.209Z"
   },
   {
    "duration": 14,
    "start_time": "2025-04-04T14:56:53.308Z"
   },
   {
    "duration": 46,
    "start_time": "2025-04-04T14:56:53.324Z"
   },
   {
    "duration": 7,
    "start_time": "2025-04-04T14:56:53.372Z"
   },
   {
    "duration": 13,
    "start_time": "2025-04-04T14:56:53.405Z"
   },
   {
    "duration": 18,
    "start_time": "2025-04-04T14:56:53.420Z"
   },
   {
    "duration": 71,
    "start_time": "2025-04-04T14:56:53.440Z"
   },
   {
    "duration": 92,
    "start_time": "2025-04-04T14:56:53.513Z"
   },
   {
    "duration": 12,
    "start_time": "2025-04-04T14:56:53.606Z"
   },
   {
    "duration": 52,
    "start_time": "2025-04-04T14:56:53.619Z"
   },
   {
    "duration": 7,
    "start_time": "2025-04-04T14:56:53.673Z"
   },
   {
    "duration": 101,
    "start_time": "2025-04-04T14:56:53.682Z"
   },
   {
    "duration": 23,
    "start_time": "2025-04-04T14:56:53.785Z"
   },
   {
    "duration": 193,
    "start_time": "2025-04-04T14:56:53.810Z"
   },
   {
    "duration": 5,
    "start_time": "2025-04-04T14:56:54.006Z"
   },
   {
    "duration": 98,
    "start_time": "2025-04-04T14:56:54.013Z"
   },
   {
    "duration": 19,
    "start_time": "2025-04-04T14:56:54.113Z"
   },
   {
    "duration": 5,
    "start_time": "2025-04-04T14:56:54.134Z"
   },
   {
    "duration": 20,
    "start_time": "2025-04-04T14:56:54.141Z"
   },
   {
    "duration": 11,
    "start_time": "2025-04-04T14:56:54.164Z"
   },
   {
    "duration": 8,
    "start_time": "2025-04-04T14:56:54.177Z"
   },
   {
    "duration": 7,
    "start_time": "2025-04-04T14:56:54.205Z"
   },
   {
    "duration": 1235,
    "start_time": "2025-04-04T14:56:54.214Z"
   }
  ],
  "kernelspec": {
   "display_name": "Python 3 (ipykernel)",
   "language": "python",
   "name": "python3"
  },
  "language_info": {
   "codemirror_mode": {
    "name": "ipython",
    "version": 3
   },
   "file_extension": ".py",
   "mimetype": "text/x-python",
   "name": "python",
   "nbconvert_exporter": "python",
   "pygments_lexer": "ipython3",
   "version": "3.13.2"
  },
  "toc": {
   "base_numbering": 1,
   "nav_menu": {},
   "number_sections": true,
   "sideBar": true,
   "skip_h1_title": true,
   "title_cell": "Table of Contents",
   "title_sidebar": "Contents",
   "toc_cell": false,
   "toc_position": {
    "height": "calc(100% - 180px)",
    "left": "10px",
    "top": "150px",
    "width": "282.583px"
   },
   "toc_section_display": true,
   "toc_window_display": true
  }
 },
 "nbformat": 4,
 "nbformat_minor": 4
}
